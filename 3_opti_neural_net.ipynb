{
  "nbformat": 4,
  "nbformat_minor": 0,
  "metadata": {
    "colab": {
      "name": "3_opti_neural_net.ipynb",
      "version": "0.3.2",
      "provenance": [],
      "collapsed_sections": [],
      "toc_visible": true
    },
    "kernelspec": {
      "name": "python3",
      "display_name": "Python 3"
    },
    "accelerator": "GPU"
  },
  "cells": [
    {
      "metadata": {
        "colab_type": "text",
        "id": "lMofUnI1i05g"
      },
      "cell_type": "markdown",
      "source": [
        "Sentiment analysis of movie (IMDB) reviews using dataset provided by the ACL 2011 paper, \n",
        "see http://ai.stanford.edu/~amaas/data/sentiment/\n",
        "This notebook uses neural net models\n",
        "\n",
        "The plan is to compare a variety of hyperparameters, vectorization techniques, neural net based models:\n",
        "* dense neural network with bag of words\n",
        "* dense neural network with fixed size input and words mapped to integers\n",
        "* LSTM\n",
        "* CNN\n"
      ]
    },
    {
      "metadata": {
        "colab_type": "text",
        "id": "L-FXDJ17i05n"
      },
      "cell_type": "markdown",
      "source": [
        "### Table of Contents<a class=\"anchor\" id=\"table\"></a>\n",
        "* [Load data](#load)\n",
        "* [Train different architectures](#train)\n",
        "    * [Train NN 50 - 10 - 1](#train1)\n",
        "    * [Train NN 256 - 128 - 1](#train2)\n",
        "    * [Train NN with K-Fold cross validation](#kfold)\n",
        "    * [Train RNN](#rnn)\n",
        "* [Optimize](#opti)\n",
        "    * [Optimize on dropouts](#opti_d)\n",
        "        * no dropout\n",
        "        * low dropout on 1 layer\n",
        "        * high dropout on 1 layer\n",
        "        * low dropout on 2 layers\n",
        "        * high dropout on 2 layers\n",
        "        * [Observation](#opti_d_o)"
      ]
    },
    {
      "metadata": {
        "colab_type": "code",
        "id": "hFAxjxjImFl2",
        "outputId": "1f5af52f-48f1-4b14-dd0a-8aada5dc74bf",
        "colab": {
          "base_uri": "https://localhost:8080/",
          "height": 55
        }
      },
      "cell_type": "code",
      "source": [
        "!pip install wget"
      ],
      "execution_count": 3,
      "outputs": [
        {
          "output_type": "stream",
          "text": [
            "Requirement already satisfied: wget in /usr/local/lib/python3.6/dist-packages (3.2)\n"
          ],
          "name": "stdout"
        }
      ]
    },
    {
      "metadata": {
        "colab_type": "code",
        "id": "eqIsNp2Yi05v",
        "outputId": "ba1735c3-43f4-449d-9ebc-eaab5d43a228",
        "colab": {
          "base_uri": "https://localhost:8080/",
          "height": 86
        }
      },
      "cell_type": "code",
      "source": [
        "import numpy as np\n",
        "import os\n",
        "import os.path\n",
        "import glob\n",
        "import time\n",
        "import string\n",
        "\n",
        "import pandas as pd\n",
        "import matplotlib as plt\n",
        "\n",
        "from nltk.tokenize import word_tokenize\n",
        "from nltk.corpus import stopwords\n",
        "from nltk.stem.porter import PorterStemmer\n",
        "import nltk\n",
        "nltk.download('punkt')\n",
        "nltk.download('stopwords')\n",
        "\n",
        "import tensorflow as tf\n",
        "import tensorflow.keras as keras\n",
        "from tensorflow.keras import layers\n",
        "from tensorflow.keras import models\n",
        "\n",
        "from sklearn.model_selection import train_test_split"
      ],
      "execution_count": 4,
      "outputs": [
        {
          "output_type": "stream",
          "text": [
            "[nltk_data] Downloading package punkt to /root/nltk_data...\n",
            "[nltk_data]   Package punkt is already up-to-date!\n",
            "[nltk_data] Downloading package stopwords to /root/nltk_data...\n",
            "[nltk_data]   Package stopwords is already up-to-date!\n"
          ],
          "name": "stdout"
        }
      ]
    },
    {
      "metadata": {
        "colab_type": "code",
        "id": "tafRpfeyi06R",
        "colab": {}
      },
      "cell_type": "code",
      "source": [
        "from sklearn.model_selection import KFold"
      ],
      "execution_count": 0,
      "outputs": []
    },
    {
      "metadata": {
        "colab_type": "code",
        "id": "x_LeQpbQi06j",
        "outputId": "ca492d51-d0ff-45ce-bfb6-ca3bcef35d0d",
        "colab": {
          "base_uri": "https://localhost:8080/",
          "height": 35
        }
      },
      "cell_type": "code",
      "source": [
        "import wget\n",
        "import tarfile\n",
        "\n",
        "# By checking if the directory exists first, we allow people to delete the tarfile without the notebook re-downloading it\n",
        "if os.path.isdir('aclImdb'):\n",
        "    print(\"Dataset directory exists, taking no action\")\n",
        "else:    \n",
        "    if not os.path.isfile('aclImdb_v1.tar.gz'):\n",
        "        print(\"Downloading dataset\")\n",
        "        #!wget http://ai.stanford.edu/~amaas/data/sentiment/aclImdb_v1.tar.gz\n",
        "        wget.download('http://ai.stanford.edu/~amaas/data/sentiment/aclImdb_v1.tar.gz')\n",
        "    else:\n",
        "        print(\"Dataset already downloaded\")\n",
        "    \n",
        "    print(\"Unpacking dataset\")\n",
        "    #!tar -xf aclImdb_v1.tar.gz \n",
        "    tar = tarfile.open(\"aclImdb_v1.tar.gz\")\n",
        "    tar.extractall()\n",
        "    tar.close()\n",
        "    print(\"Dataset unpacked in aclImdb\")"
      ],
      "execution_count": 6,
      "outputs": [
        {
          "output_type": "stream",
          "text": [
            "Dataset directory exists, taking no action\n"
          ],
          "name": "stdout"
        }
      ]
    },
    {
      "metadata": {
        "id": "OCN-uCBMdBJq",
        "colab_type": "code",
        "colab": {}
      },
      "cell_type": "code",
      "source": [
        "def foundGPU():\n",
        "  device_name = tf.test.gpu_device_name()\n",
        "  if device_name != '/device:GPU:0':\n",
        "    print('No GPU found')\n",
        "    return False\n",
        "  else: \n",
        "    print('Found GPU at: {}'.format(device_name))\n",
        "    return True"
      ],
      "execution_count": 0,
      "outputs": []
    },
    {
      "metadata": {
        "colab_type": "code",
        "id": "PQAl9GvRi067",
        "outputId": "2f7694b4-09ed-4314-ea04-52d904b2f83e",
        "colab": {
          "base_uri": "https://localhost:8080/",
          "height": 35
        }
      },
      "cell_type": "code",
      "source": [
        "# configuration\n",
        "if foundGPU():\n",
        "  SAMPLE_SIZE=12500\n",
        "else:\n",
        "  SAMPLE_SIZE=2000\n",
        "\n",
        "BATCH_SIZE=64\n",
        "TRAIN_TEST_RATIO=0.25\n",
        "TRAINING_SET_SIZE=int(SAMPLE_SIZE * (1 - TRAIN_TEST_RATIO))\n",
        "VALIDATION_SET_SIZE=int(SAMPLE_SIZE * TRAIN_TEST_RATIO)"
      ],
      "execution_count": 8,
      "outputs": [
        {
          "output_type": "stream",
          "text": [
            "Found GPU at: /device:GPU:0\n"
          ],
          "name": "stdout"
        }
      ]
    },
    {
      "metadata": {
        "colab_type": "text",
        "id": "vMYBkcdIB9uc"
      },
      "cell_type": "markdown",
      "source": [
        "<a href='#table'>Back</a>\n",
        "# Load data<a class=\"anchor\" id=\"load\"></a>"
      ]
    },
    {
      "metadata": {
        "id": "pQH5irwZPZuE",
        "colab_type": "text"
      },
      "cell_type": "markdown",
      "source": [
        "## Create a dense vector from reviews "
      ]
    },
    {
      "metadata": {
        "colab_type": "code",
        "id": "bcTVSZK-i07N",
        "colab": {}
      },
      "cell_type": "code",
      "source": [
        "time_beginning_of_notebook = time.time()\n",
        "SLICE = int(SAMPLE_SIZE / 2)\n",
        "positive_file_list = glob.glob(os.path.join('aclImdb/train/pos', \"*.txt\"))\n",
        "positive_sample_file_list = positive_file_list[:SLICE]\n",
        "\n",
        "negative_file_list = glob.glob(os.path.join('aclImdb/train/neg', \"*.txt\"))\n",
        "negative_sample_file_list = negative_file_list[:SLICE]\n",
        "\n",
        "import re\n",
        "\n",
        "# load doc into memory\n",
        "# regex to clean markup elements \n",
        "def load_doc(filename):\n",
        "    # open the file as read only\n",
        "    file = open(filename, 'r', encoding='utf8')\n",
        "    # read all text\n",
        "    text = re.sub('<[^>]*>', ' ', file.read())\n",
        "    #text = file.read()\n",
        "    # close the file\n",
        "    file.close()\n",
        "    return text"
      ],
      "execution_count": 0,
      "outputs": []
    },
    {
      "metadata": {
        "colab_type": "code",
        "id": "dcjl_fogi07W",
        "colab": {}
      },
      "cell_type": "code",
      "source": [
        "positive_strings = [load_doc(x) for x in positive_sample_file_list]\n",
        "negative_strings = [load_doc(x) for x in negative_sample_file_list]\n",
        "\n",
        "positive_tokenized = [word_tokenize(s) for s in positive_strings]\n",
        "negative_tokenized = [word_tokenize(s) for s in negative_strings]"
      ],
      "execution_count": 0,
      "outputs": []
    },
    {
      "metadata": {
        "id": "TVdtxPFDSxj7",
        "colab_type": "code",
        "outputId": "4a836f74-8883-4b05-de48-d66eef1d6f7f",
        "colab": {
          "base_uri": "https://localhost:8080/",
          "height": 55
        }
      },
      "cell_type": "code",
      "source": [
        "print(negative_tokenized[:100])"
      ],
      "execution_count": 11,
      "outputs": [
        {
          "output_type": "stream",
          "text": [
            "[['If', 'you', 'did', \"n't\", 'know', 'better', ',', 'you', 'would', 'believe', 'the', 'Christian', 'moral', 'majority', 'in', 'their', 'preachy', 'testimonial', 'of', 'the', 'sins', 'of', 'the', 'young', ',', 'their', 'questing', 'for', 'Satan', ',', 'and', 'that', 'Hell', 'was', 'just', 'brimming', 'with', 'Advanced', 'Dungeons', 'and', 'Dragons', 'fans', '.', 'None', 'of', 'these', 'items', 'bears', 'one', 'grain', 'of', 'truth', ',', 'folks', '.', 'This', 'work', 'does', 'nothing', 'but', 'give', 'the', 'Southern', 'Baptists', 'a', 'chance', 'to', 'take', 'a', 'breath', ',', 'while', 'the', 'movie', 'continues', 'to', 'spout', 'their', 'erroneous', 'and', 'alarmist', 'views', 'concerning', 'a', 'creative', 'and', 'original', 'gaming', 'system', '.', 'Tom', 'Hanks', 'contributes', 'a', 'stellar', 'performance', 'for', 'this', 'work', ',', 'but', 'even', 'that', 'was', \"n't\", 'enough', 'to', 'save', 'it', '.', 'It', \"'s\", 'crap', '.', 'It', \"'s\", 'beneath', 'crap', '.', 'It', 'is', 'ignorance', 'breeding', 'ignorance', 'and', 'as', 'such', ',', 'it', 'rates', 'NOTHING', 'from', '...', 'the', 'Fiend', ':', '.'], ['Why', 'did', 'I', 'go', 'to', 'see', 'this', 'film', '?', 'Honestly', ',', 'because', 'Jim', 'Carrey', 'was', 'in', 'it', 'and', 'in', 'the', 'past', 'he', 'has', 'made', 'hilarious', 'movies', 'that', 'have', 'made', 'me', 'cry', 'with', 'laughter', ',', 'so', 'do', 'you', 'really', 'blame', 'me', 'for', 'expecting', 'that', 'again', '?', 'Additionally', ',', 'the', 'premise', ',', 'the', 'funny', 'trailer', ',', 'his', 'co-star', 'Jennifer', 'Aniston', \"'s\", 'involvement', ',', 'and', 'the', 'fact', 'it', 'was', 'a', 'massive', 'hit', 'stateside', 'encouraged', 'me', '.', 'However', ',', 'as', 'my', '``', 'one', 'line', 'Summary', \"''\", 'suggests', ',', 'I', 'was', 'Disappointed', '.', 'For', 'various', 'reasons', ';', 'Reason', '1', ':', 'It', 'was', \"n't\", 'funny', '.', 'In', 'a', '2hour', 'movie', ',', 'I', 'laughed', 'for', 'about', '5-10minutes', '...', 'all', 'together', ',', 'the', 'rest', 'of', 'the', 'time', 'I', 'sat', 'thinking', '``', 'I', 'really', 'should', 'have', 'got', 'some', 'ice-cream', \"''\", '.', 'I', 'admit', 'that', 'maybe', 'it', 'is', 'wrong', 'to', 'judge', 'Jim', 'Carrey', 'on', 'his', 'previous', 'films', ',', 'but', 'what', 'does', 'he', 'really', 'expect', 'when', 'he', 'makes', 'Gem', \"'s\", 'such', 'as', \"'The\", 'Truman', 'Show', \"'\", ',', \"'Liar\", 'Liar', \"'\", ',', \"'Me\", ',', 'Myself', 'and', 'Irene', \"'\", ',', \"'Dumb\", 'and', 'Dumber', \"'\", ',', \"'The\", 'Mask', \"'\", ',', 'and', 'the', \"'Ace\", 'Ventura', \"'\", 'films', 'then', 'produces', ',', 'in', 'Bruce', 'Nolan', \"'s\", 'own', 'words', ',', 'such', 'a', 'mediocre', 'film', '?', 'Reason', '2', ':', 'Jennifer', 'Aniston', \"'s\", 'role', 'was', 'criminally', 'underwritten', '.', 'I', 'mean', 'hello', '!', 'She', \"'s\", 'been', 'around', 'in', 'the', 'public', 'eye', 'for', 'about', 'ten', 'years', 'now', ',', 'and', 'in', 'this', 'film', 'she', 'gets', 'about', 'four', 'lines', 'to', 'say', '.', 'Wrong', '.', 'Reason', '3', ':', 'One', 'word', '-', 'Cliché', 'Reason', '4', ':', 'A', 'casual', 'deployment', 'of', 'specifically', 'American', 'References', '-', 'Jimmy', 'Hoffa', ',', 'Walter', 'Cronkite', \"'sweeps\", 'week', \"'\", '-', 'is', 'a', 'clue', 'to', 'the', 'film', \"'s\", 'specifically', 'home-grown', 'appeal', '.', '``', 'A', 'teenager', 'says', 'no', 'to', 'drugs', 'and', 'yes', 'to', 'an', 'Education', '-', 'that', \"'s\", 'a', 'miracle', '!', 'Want', 'to', 'see', 'a', 'miracle', 'soon', '?', 'Be', 'the', 'miracle', '!', \"''\", 'God', 'tells', 'Bruce', ',', 'a', 'heavy', 'handed', 'sentiment', 'that', 'seems', 'to', 'have', 'gone', 'down', 'a', 'treat', 'in', 'the', 'US', ',', 'but', 'might', 'face', 'tougher', 'resistance', 'in', 'markets', 'that', 'retain', 'an', 'inkling', 'for', 'subtlety', '.', 'Additionally', ',', 'I', 'still', 'go', 'to', 'school', ',', 'and', 'that', 'statement', 'suggests', 'me', 'and', 'all', 'of', 'my', 'friend', \"'s\", 'are', 'miracles', '...', 'or', 'maybe', 'it', 'just', 'means', 'we', 'have', 'brains', '?', 'In', 'this', 'film', 'there', 'are', 'enough', 'funny', 'Carrey', 'moments', 'to', 'make', 'you', 'chuckle', 'and', 'prevent', 'Bruce', 'Almighty', 'from', 'being', 'a', 'total', 'calamity', ',', 'but', 'you', 'are', 'advised', 'to', 'start', 'revising', 'your', 'expectations', 'downwards', '.'], ['I', \"'m\", 'embarrassed', 'to', 'be', 'writing', 'this', 'review', '.', 'I', 'say', 'that', 'because', 'those', 'of', 'you', 'reading', 'it', 'will', 'know', 'that', 'I', 'sat', 'through', 'the', 'whole', 'thing', 'and', 'that', 'is', 'embarrassing', 'to', 'admit', 'even', 'to', 'strangers', '.', 'But', 'I', 'just', 'had', 'to', 'warn', 'those', 'who', 'read', 'the', 'viewer', 'comments', 'on', 'IMDb', 'before', 'they', 'watch', 'a', 'film', 'not', 'to', 'watch', 'this', 'one', '.', 'It', \"'s\", 'the', 'least', 'I', 'can', 'do', '.', 'This', 'is', 'a', 'bad', 'movie', '!', 'Trust', 'me', '.', 'The', 'plot', 'is', 'goofy', '.', 'The', 'acting', 'is', 'amateurish', '.', 'And', 'the', 'directing', ',', 'camera', 'work', ',', 'sets', ',', 'costumes', ',', 'etc', '.', 'are', 'all', 'second', 'rate', '.', 'Let', 'it', 'go', '.'], ['My', 'roommate', 'got', 'the', 'No', ',', 'No', ',', 'Nanette', 'soundtrack', 'as', 'a', 'dub', 'on', 'a', 'tape', 'and', 'she', 'proceeded', 'to', 'listen', 'to', 'it', 'non-stop', '.', 'After', 'it', 'finally', 'totally', 'brainwashed', 'me', 'into', 'submission', ',', 'I', 'found', 'the', 'songs', 'to', 'be', 'irresistible', ',', 'especially', 'the', 'famous', ',', 'I', 'want', 'to', 'be', 'happy', ',', 'but', 'I', 'ca', \"n't\", 'be', 'happy', '...', 'But', 'of', 'coarse', 'from', 'the', 'soundtrack', 'I', 'had', 'no', 'idea', 'what', 'the', 'film', 'was', 'about', '.', 'So', 'the', 'other', 'day', 'I', 'saw', 'a', 'copy', 'of', 'it', 'at', 'the', 'video', 'store', 'and', 'I', 'rented', 'what', 'was', 'supposed', 'to', 'be', 'a', 'long', 'lost', 'version', 'of', 'the', 'film', '.', 'I', 'was', 'thinking', 'that', 'it', 'was', 'going', 'to', 'be', 'amazing', ',', 'because', 'the', 'soundtrack', 'is', 'so', 'cute', '.', 'Unfortunately', 'most', 'of', 'the', 'songs', 'that', 'I', 'loved', 'were', 'nowhere', 'to', 'be', 'found', 'in', 'the', 'video', 'I', 'saw', '.', 'Now', 'I', \"'ve\", 'never', 'seen', 'the', '1930', 'version', 'of', 'the', 'musical', 'but', 'this', 'version', 'was', 'sadly', 'disappointing', 'because', 'there', 'was', 'very', 'little', 'singing', 'and', 'practically', 'no', 'dancing', 'and', 'beside', 'that', 'the', 'sound', 'was', 'really', 'bad', 'through', 'out', 'and', 'you', 'could', \"n't\", 'really', 'understand', 'what', 'people', 'were', 'saying', 'a', 'lot', 'of', 'the', 'time', '.', 'Really', 'the', 'only', 'highlights', 'of', 'this', 'film', 'were', 'the', 'outrageous', '1940', \"'s\", 'fashion', '.', 'Nanette', 'wears', 'this', 'crazy', 'hat', 'with', 'two', 'feathers', 'that', 'stick', 'out', 'like', 'rabbit', 'ears', 'and', 'Kansas', 'Kitty', 'has', 'this', 'bizarre', 'feather', 'muff', 'that', 'she', 'keeps', 'on', 'her', 'fore', 'arm', 'and', 'then', 'has', 'herself', 'wrapped', 'in', 'this', 'net', 'scarf', '.', 'The', 'one', 'dance', 'sequence', 'is', 'a', 'little', 'weird', 'too', 'with', 'Nanette', 'doing', 'this', 'weird', 'ballet', 'stuff', 'with', 'pin-up', 'girl', 'imagery', 'superimposed', 'on', 'top', 'of', 'her', '.', 'Actually', 'one', 'more', 'bright', 'spot', 'of', 'the', 'film', 'was', 'the', 'artist', 'Guillespe', 'who', 'dreams', 'of', 'being', 'a', 'fine', 'artist', 'but', 'it', 'currently', 'condemned', 'to', 'drawing', 'pin-up', 'girls', 'for', 'money', '.', 'I', 'like', 'how', 'Guillespe', 'keeps', 'it', 'old', 'school', ',', 'and', 'disses', 'Nanette', 'when', 'his', 'masterpiece', ',', 'the', 'piece', 'that', 'was', 'to', 'make', 'his', 'career', ',', 'is', 'sold', 'by', 'Nanette', 'for', 'a', 'paltry', '$', '5250', '.', 'Does', \"n't\", 'she', 'realize', 'that', 'that', 'piece', 'was', 'his', 'immortality', '?', 'Silly', 'rabbit/girl', 'with', 'your', 'feather', 'rabbit', 'ears', 'on', 'your', 'hat', '.', 'When', 'will', 'you', 'learn', '?', 'Why', 'does', \"n't\", 'he', 'just', 'pencil', 'in', 'a', 'cigarette', 'before', 'the', 'ad', 'men', 'take', 'the', 'Work', 'away', '?'], ['Not', 'even', 'Goebbels', 'could', 'have', 'pulled', 'off', 'a', 'propaganda', 'stunt', 'like', 'what', 'Gore', 'has', 'done', 'with', 'this', 'complete', 'piece', 'of', 'fiction', '.', 'This', 'is', 'a', 'study', 'in', 'how', 'numbers', 'and', 'statistics', 'can', 'be', 'spun', 'to', 'say', 'whatever', 'you', 'have', 'predetermined', 'them', 'to', 'say', '.', 'The', '``', 'scientists', \"''\", 'Gore', 'says', 'have', 'signed', 'onto', 'the', 'validity', 'of', 'global', 'warming', 'include', 'social', 'workers', ',', 'psychologists', 'and', 'psychiatrists', '.', 'Would', 'you', 'say', 'a', 'meteorologist', 'is', 'an', 'expert', 'in', 'neuro-surgery', '?', 'The', 'field', 'research', 'and', 'data', 'analysis', 'geologists', 'are', 'involved', 'in', 'do', 'not', 'support', 'Gores', 'alarmist', 'claims', 'of', 'global', 'warming', '.', 'As', 'one', 'of', 'those', 'geologists', 'working', 'in', 'the', 'field', 'for', 'the', 'last', '40', 'years', 'I', 'have', 'not', 'seen', 'any', 'evidence', 'to', 'support', 'global', 'warming', '.', 'My', 'analysis', 'of', 'this', 'movie', 'and', 'Gores', 'actions', 'over', 'the', 'last', 'couple', 'years', 'brings', 'me', 'to', 'the', 'conclusion', 'that', 'global', 'warming', 'is', 'his', 'way', 'of', 'staying', 'important', 'and', 'relevant', '.', 'No', 'more', ',', 'no', 'less', '.', 'Ask', 'any', 'global', 'warming', 'alarmist', 'or', '``', 'journalist', \"''\", 'one', 'simple', 'question-', 'You', 'say', 'global', 'warming', 'is', 'a', 'major', 'problem', '.', 'Tell', 'me', '.', 'What', 'temperature', 'is', 'the', 'Earth', 'supposed', 'to', 'be', '?'], ['It', \"'s\", 'official', ',', 'folks', '--', 'Hou', 'Hsiao-Hsien', 'does', \"n't\", 'have', 'a', 'thought', 'in', 'his', 'pretty', 'little', 'head', '.', 'Are', 'you', 'wondering', 'why', 'he', 'chose', 'Shu', 'Qi', 'as', 'his', 'muse', '?', 'Shu', '(', 'or', 'is', 'that', 'Qi', '?', ')', 'does', \"n't\", 'appear', 'in', 'this', 'one', '.', 'Instead', 'we', 'get', 'a', 'snaggletoothed', 'Yo', 'Hitoto', ',', 'apparently', 'a', 'pop', 'star', 'in', 'Japan', '--', 'judging', 'by', 'her', 'song', 'at', 'the', 'end', ',', 'she', \"'s\", 'a', 'pop', 'star', 'just', 'like', 'the', 'girl', 'who', 'serves', 'you', 'at', 'Rockin', \"'\", 'Curry', 'is', '``', 'a', 'actriss', \"''\", '--', 'and', 'a', 'wasted', 'Tadanobu', 'Asano', ',', 'typically', 'an', 'indicator', 'of', 'quality', ',', 'who', 'is', 'required', 'to', 'do', 'nothing', 'here', 'but', 'stand', 'around', 'and', 'look', 'like', 'a', 'mumbling', 'Asian', 'hipster', 'and', 'is', 'too', 'old', 'to', 'manage', 'even', 'that', '.', 'Hou', \"'s\", 'philosophy', '?', 'Life', 'is', 'limbo', ',', 'a', 'big', 'nothing', ',', 'feel', 'it', 'and', 'move', 'on', '.', 'I', \"'d\", 'like', 'to', 'do', 'that', 'but', 'Hou', 'gives', 'us', 'nothing', 'to', 'feel', 'in', 'Cafe', 'Lumiere', 'beyond', 'a', 'bland', 'photo', 'essay', 'of', 'Life', 'in', 'Tokyo', 'Circa', '2003', 'and', 'the', 'flabbergasting', 'observation', 'that', 'people', 'are', 'ships', 'that', 'pass', 'in', 'the', 'night', ',', 'no', ',', 'make', 'that', 'trains', 'that', 'pass', 'in', 'the', 'day', ',', 'never', 'connecting', ',', 'each', 'hurtling', 'to', 'its', 'own', 'destination', ',', 'usually', 'some', 'variant', 'of', 'a', 'dark', 'tunnel', 'or', 'maybe', 'a', 'bridge', 'if', 'they', \"'re\", 'lucky', '.', 'Yikes', '.', 'Flowers', 'of', 'Shanghai', 'is', 'one', 'of', 'the', 'most', 'rarefied', ',', 'technically', 'accomplished', 'and', 'mesmerizing', 'films', 'of', 'all', 'time', '.', 'How', 'could', 'the', 'same', 'director', 'who', 'created', 'the', 'opening', 'shot', 'of', 'that', 'film', ',', 'which', 'features', 'about', 'twelve', 'actors', 'conversing', 'at', 'machine-gun', 'speed', 'for', 'about', 'ten', 'straight', 'minutes', '--', 'an', 'impossible', 'directorial', 'feat', '--', 'get', 'trapped', 'making', 'this', 'laconic', 'sub-Jarmusch', 'reality', 'porn', 'for', 'two', 'films', 'in', 'a', 'row', 'now', '?', 'Millennium', 'Mambo', 'may', 'be', 'dead', 'weight', ',', 'but', 'at', 'least', 'it', 'has', 'two', 'great', 'shots', ',', 'shots', 'that', 'hint', 'at', 'Hou', \"'s\", 'true', 'calling', 'as', 'the', 'film', 'equivalent', 'of', 'Odilon', 'Redon', ':', 'Those', 'shots', 'are', 'the', 'sex', 'scene', 'with', 'the', 'arrhythmically', 'blinking', 'lights', 'and', 'the', 'opening', 'shot', 'of', 'Shu', 'Qi', 'floating', 'down', 'a', 'blue', 'corridor', '.', 'His', 'M.O', '.', 'while', 'making', 'Cafe', 'Lumiere', 'seems', 'to', 'have', 'been', 'to', 'remove', 'the', 'two', 'great', 'shots', 'from', 'Millennium', 'Mambo', 'to', 'make', 'it', 'more', 'consistent', '.', 'You', 'be', 'the', 'judge', 'if', 'that', 'sounds', 'appealing', '.', 'Hou', 'does', 'not', 'need', 'to', 'refine', '--', 'you', 'can', 'not', 'refine', 'the', 'limbo', 'idea', 'further', 'than', 'Flowers', 'of', 'Shanghai', '.', 'He', 'needs', 'to', 'expand', ',', 'to', 'bloat', 'outwards', ',', 'to', 'release', 'the', 'inner', 'expressionist', 'and', 'genre-revitalizer', 'that', 'is', 'being', 'squandered', 'so', 'senselessly', 'on', 'clichéd', 'minimalism', '.', 'It', \"'s\", 'time', 'for', 'him', 'to', 'do', 'a', 'live-action', 'remake', 'of', 'Akira', 'or', 'something', '.', 'This', 'kind', 'of', 'art', 'film', 'where', 'the', 'actors', 'are', 'supposed', 'to', 'be', 'authentic', 'because', 'they', 'are', 'held', 'facelessly', 'in', 'long-shot', 'and', 'speak', 'in', 'monosyllables', 'is', 'now', 'every', 'last', 'bit', 'as', 'safe', ',', 'ghettoized', 'and', 'stagnant', 'as', 'the', 'Hollywood', 'action', 'blockbuster', '.', '(', 'What', 'is', 'the', 'connection', 'between', '``', 'reality', \"''\", 'and', 'people', 'who', 'ca', \"n't\", 'talk', '?', 'It', 'seems', 'to', 'me', 'that', 'people', '``', 'in', 'real', 'life', \"''\", 'never', 'stop', 'jabbering', '.', ')', 'Then', 'again', ',', 'considering', 'that', '2005', 'alone', 'brought', 'big-budget', 'movies', 'as', 'diverse', 'and', 'rich', 'in', 'ideas', 'as', 'Aeon', 'Flux', ',', 'The', 'Island', ',', 'and', 'King', 'Kong', ',', 'it', \"'s\", 'now', 'safe', 'to', 'say', 'that', 'even', 'Michael', 'Bay', 'has', 'surpassed', 'Hou', ',', 'and', 'that', \"'s\", 'really', 'sad', '.', 'The', 'good', 'news', 'is', 'that', ',', 'though', 'Hou', 'is', 'in', 'his', '50s', ',', 'it', 'frankly', 'feels', 'to', 'me', 'as', 'if', 'he', 'has', \"n't\", 'even', 'begun', '.', 'There', 'are', 'a', 'couple', 'moments', 'in', 'this', 'film', 'that', 'show', 'the', 'promise', 'is', 'still', 'there', ',', 'such', 'as', 'a', 'moody', 'bit', 'early', 'on', 'in', 'the', 'bookstore', 'when', 'the', 'room', 'dims', 'to', 'a', 'bloody', 'sunset-red', 'while', 'Hitoto', 'talks', 'about', 'babies', 'with', 'the', 'faces', 'of', 'goblins', '.', 'But', 'whatever', 'fear', 'is', 'holding', 'him', 'back', ',', 'however', 'comfortable', 'it', 'is', 'to', 'make', 'the', 'same', 'film', 'over', 'and', 'over', 'and', 'be', 'hailed', 'by', 'the', 'gullible', 'and', 'pretentious', 'as', 'the', 'savior', 'of', 'cinema', ',', 'Hou', ',', 'your', 'time', 'as', 'the', 'darling', 'of', 'the', 'Rotterdam', ',', 'Venice', ',', 'Toronto', ',', 'Berlin', 'and', 'whatever', 'else', 'film', 'festivals', 'is', 'almost', 'up', 'and', 'people', 'are', 'catching', 'onto', 'your', 'ruse', 'double-quick', '.', 'Two', 'words', 'for', 'you', ':', 'Atom', 'Egoyan', '.', 'Two', 'more', 'words', ',', 'or', 'maybe', 'three', ':', 'Tsai', 'Ming-Liang', '.', 'You', 'are', 'now', 'cribbing', 'from', 'both', 'of', 'these', 'tedious', 'frauds', 'who', 'are', 'about', 'to', 'go', 'up', 'their', 'own', 'dark', 'tunnels', 'forever', '.', 'Risk', 'your', 'shirt', 'on', 'a', 'sci-fi', 'epic', ',', 'sell', 'out', ',', 'be', 'reviled', '--', 'but', 'leave', 'the', 'social', 'critiques', 'to', 'people', 'that', 'have', 'no', 'eye', 'and', 'no', 'heart', '.', 'Let', 'your', 'painterly', 'talent', 'express', 'itself', 'to', 'the', 'full', '.', 'You', \"'re\", 'not', 'going', 'to', 'ever', 'get', 'out', 'of', 'limbo', 'otherwise', '.'], ['This', 'movie', 'was', 'great', 'the', 'first', 'time', 'I', 'saw', 'it', ',', 'when', 'it', 'was', 'called', '``', 'Lost', 'in', 'Translation', '.', \"''\", 'But', 'somehow', 'Bill', 'Murray', 'turned', 'into', 'an', 'eccentric', 'black', 'man', 'played', 'by', 'Morgan', 'Freeman', ',', 'Scarlett', 'Johansson', 'turned', 'into', 'a', 'cranky', 'Latino', 'woman', 'played', 'by', 'Paz', 'Vega', ',', 'and', 'Tokyo', ',', 'Japan', 'turned', 'into', 'Carson', ',', 'California', '.', 'Instead', 'of', 'meaningful', 'conversations', 'and', 'silence', 'we', 'enjoyed', 'in', 'Translation', ',', 'we', 'get', 'meaningless', 'blabbering', 'in', '10', 'Items', 'that', 'verges', 'on', 'annoying', '.', 'Instead', 'of', 'characters', 'that', 'were', 'pensive', 'and', 'introspective', 'as', 'in', 'Translation', ',', 'we', 'get', 'characters', 'that', 'spew', 'pointless', 'advice', 'on', 'topics', 'they', 'have', 'no', 'clue', 'about', '.', 'How', 'can', 'a', 'character', 'that', 'wears', 'hundred', 'dollar', 'T-shirts', 'and', 'has', 'never', 'been', 'inside', 'a', 'Target', 'department', 'store', 'expect', 'to', 'give', 'advice', 'to', 'a', 'working-class', 'woman', 'on', 'how', 'to', 'prepare', 'for', 'a', 'job', 'interview', 'as', 'an', 'administrative', 'assistant', '?', 'Do', \"n't\", 'think', 'that', 'stops', 'him', '.', 'If', 'he', 'is', \"n't\", 'giving', 'her', 'clothing', 'advice', ',', 'he', \"'s\", 'telling', 'her', 'what', 'she', 'should', 'eat', '.', 'The', 'most', 'annoying', 'part', 'of', 'the', 'movie', 'for', 'me', 'was', 'how', 'supposedly', 'they', 'were', 'in', 'a', 'hurry', 'to', 'make', 'an', 'appointment', ',', 'and', 'yet', 'the', 'characters', 'keep', 'finding', 'time', 'to', 'run', 'another', 'errand', ',', 'be', 'it', 'washing', 'the', 'car', ',', 'stopping', 'at', 'Arby', \"'s\", ',', 'or', 'just', 'laying', 'around', 'to', 'list', 'off', 'their', '10', 'Items', 'or', 'Less', 'lists', 'of', 'things', 'they', 'love', 'and', 'hate', '.', 'I', 'kept', 'wanting', 'to', 'yell', 'at', 'them', 'saying', ',', '``', 'Did', \"n't\", 'you', 'say', 'you', 'had', 'somewhere', 'to', 'be', '?', 'What', 'the', 'heck', 'are', 'doing', '?', 'A', 'minute', 'ago', 'you', 'were', 'practically', 'late', ',', 'now', 'you', \"'re\", 'eating', 'roast', 'beef', 'and', 'pondering', 'your', 'lives', '!', \"''\", 'Until', 'I', 'saw', 'this', 'movie', ',', 'I', 'never', 'truly', 'understood', 'how', 'something', 'could', '``', 'insist', 'upon', 'itself', ',', \"''\", 'but', 'I', 'think', 'this', 'movie', 'does', 'exactly', 'that', ',', 'and', 'undeservedly', 'so', '.', 'The', 'dialogue', 'makes', 'the', 'characters', 'cheesy', 'and', 'unsympathetic', 'with', 'the', 'exception', 'that', 'I', 'felt', 'sorry', 'for', 'both', 'of', 'the', 'actors', 'for', 'having', 'signed', 'onto', 'this', 'project', '.'], ['This', 'was', 'shown', 'as', 'part', 'of', 'the', '59th', 'Edinburgh', 'International', 'Festival', ',', 'though', 'for', 'reasons', 'best', 'left', 'to', 'the', 'powers', 'that', 'be', '.', 'A', 'lot', 'seems', 'to', 'have', 'been', 'made', 'of', 'the', 'fact', 'that', 'it', \"'s\", 'the', 'first', 'Thai', 'language', 'film', ',', 'made', 'with', 'Thai', 'actors', '&', 'crew', ',', 'but', 'directed', 'by', 'a', 'westerner', '.', 'Need', \"n't\", 'have', 'bothered', 'to', 'be', 'honest', ',', 'as', 'this', 'film', 'is', 'dull', ',', 'dull', ',', 'dull', '.', 'Why', 'hint', 'at', 'something', ',', 'why', 'shroud', 'an', 'idea', 'in', 'mystery', ',', 'why', 'subtly', 'invoke', 'a', 'feeling', ',', 'when', 'you', 'can', 'hammer', 'the', 'point', 'home', 'with', 'terrible', 'voice', 'overs', ',', 'obvious', 'shots', 'and', 'over', 'the', 'top', 'scenes', '>', 'Nothing', 'is', 'left', 'to', 'the', 'imagination', 'as', 'time', 'and', 'time', 'again', 'director', 'Spurrier', 'clumsily', 'churns', 'out', 'endless', 'clichés', '.', 'No', 'hinting', ',', 'no', 'guessing', ',', 'it', \"'s\", 'all', 'up', 'on', 'screen', ',', 'no', 'need', 'to', 'use', 'our', 'imaginations', '.', 'Wonder', 'when', 'the', \"'scary\", \"'\", 'bit', 'is', 'coming', '?', 'No', 'you', 'wont', ',', \"'cause\", 'the', 'soundtrack', 'will', 'get', 'more', 'and', 'more', 'intimidating', ',', 'rising', 'to', 'a', 'crescendo', 'of', 'ominously', '.', 'Hell', ',', 'I', \"'m\", 'making', 'up', 'words', 'to', 'describe', 'how', 'bad', 'this', 'is', '.', 'Wonder', 'whether', 'the', 'conjured', 'demon', 'is', 'real', 'or', 'imaginary', '?', 'Why', 'tax', 'yourself', '-', 'it', \"'s\", 'really', 'is', 'a', 'snake', ',', 'and', 'yes', 'it', \"'s\", 'really', 'is', 'biting', 'his', 'crotch', ',', 'and', 'there', \"'s\", 'blood', 'splattering', 'everywhere', '.', 'it', \"'s\", 'a', 'strange', ',', 'uneasy', 'film', 'for', 'several', 'reasons', '.', 'It', \"'s\", 'supposed', 'to', 'be', 'a', 'horror', 'film', ',', 'but', 'it', \"'s\", 'not', 'scary', '-', 'the', 'jolts', 'are', 'signposted', '&', 'obvious', '.', 'It', 'might', 'be', 'a', 'scathing', 'attack', 'on', 'the', 'seedier', 'side', 'of', 'Thailand', ',', 'yet', 'the', 'director', 'has', 'a', 'sleazy', ',', 'lubricious', 'style', 'when', 'it', 'comes', 'to', 'showing', 'barely', 'pubescent', 'teens', '.', 'Maybe', 'it', 'was', 'casting', 'himself', 'as', 'the', 'virginity-taking', 'westerner', 'that', 'planted', 'the', 'seeds', 'of', 'doubt', 'in', 'my', 'head', '.', 'Or', 'maybe', 'the', 'whole', 'thing', 'was', 'just', 'pants', '.', 'Uninspired', ',', 'insipid', ',', 'repetitive', ',', 'hackneyed', '-', 'all', 'candidates', 'for', 'best', 'description', ',', 'but', 'dull', 'seems', 'most', 'appropriate', 'and', 'honest', '.', 'It', \"'s\", 'all', 'been', 'seen', 'before', ',', 'probably', 'better', ',', 'often', 'with', 'more', 'thought', ',', 'rarely', 'with', 'less', 'imagination', 'or', 'flare', '.', 'Sorry', '.', 'Thumbs', 'down', 'on', 'every', 'count', '.', 'Truly', 'dire', '.'], ['This', 'is', 'the', 'most', 'disturbing', 'film', 'I', 'have', 'ever', 'seen', '.', 'It', 'makes', '``', 'Requiem', 'for', 'a', 'Dream', \"''\", 'look', 'like', 'a', 'Disney', 'film', '.', 'Although', ',', 'technically', ',', 'it', 'is', 'reasonably', 'well', 'made', ',', 'acting', ',', 'cinematography', ',', 'music', ',', 'directing', ',', 'etc.', ',', 'are', 'good', '.', 'However', ',', 'the', 'concluding', 'gang', 'rape', 'scene', 'is', 'the', 'most', 'appalling', 'and', 'violent', 'thing', 'I', 'have', 'ever', 'seen', 'and', 'I', 'really', 'wish', 'I', 'had', 'not', 'seen', 'it', '.', 'I', 'am', 'afraid', 'that', 'it', 'will', 'haunt', 'me', 'for', 'the', 'rest', 'of', 'my', 'life', '.', 'Although', 'I', 'think', 'anyone', 'would', 'find', 'the', 'film', 'extremely', 'disturbing', ',', 'my', 'wife', 'and', 'some', 'of', 'her', 'friends', 'were', 'victimized', 'in', 'a', 'very', 'similar', 'manner', 'and', 'I', 'really', 'did', \"n't\", 'need', 'an', 'explicit', 'reminder', 'of', 'the', 'horror', 'that', 'they', 'experienced', '.', 'I', 'saw', 'the', 'film', 'at', 'the', 'SXSW', 'film', 'festival', 'in', 'Austin', ',', 'TX', 'and', 'none', 'of', 'the', 'cast', 'or', 'crew', 'were', 'in', 'attendance', '.', 'I', 'would', 'have', 'liked', 'for', 'them', 'to', 'have', 'had', 'the', 'opportunity', 'to', 'defend', 'the', 'violence', 'in', 'their', 'film', ',', 'which', 'I', 'felt', 'was', 'excessive', ',', 'gratuitous', 'and', 'unnecessary', '.', 'An', 'earlier', 'scene', 'successfully', 'conveyed', 'the', 'mood', 'they', 'were', 'apparently', 'striving', 'for', ',', 'but', 'without', 'rubbing', 'your', 'face', 'in', 'the', 'extreme', 'and', 'explicit', 'sexual', 'violence', '.', 'This', 'film', 'should', 'have', 'a', 'big', 'WARNING', 'label', 'on', 'it', '.', 'For', 'these', 'reasons', 'I', 'would', 'not', 'recommend', 'anyone', 'seeing', 'it', '.', 'You', \"'ve\", 'been', 'warned', '.'], ['I', 'think', 'that', 'movie', 'can`t', 'be', 'a', 'Scott`s', 'film', '.', 'That', 'is', 'impossible', '.', 'Do', 'you', 'remember', 'Blade', 'Runner', '?', 'And', 'Alien', '?', 'Two', 'greats', 'movies', 'versus', 'a', 'one', '.', 'I', 'hope', 'didn´t', 'see', 'ever', 'it', '.', 'good', 'bye', '!', '!'], ['I', 'first', 'learned', 'of', 'the', 'Wendigo', 'many', 'years', 'ago', 'in', 'one', 'of', 'Alvin', 'Schwartz', \"'s\", '``', 'Scary', 'Stories', \"''\", 'books', ':', 'according', 'to', 'that', 'story', ',', 'the', 'Wendigo', '-', 'after', 'calling', 'your', 'name', 'in', 'the', 'wind', '-', 'drags', 'you', 'along', ',', 'and', 'then', 'pulls', 'you', 'up', 'into', 'the', 'sky', 'and', 'pulverizes', 'you', '.', 'While', 'it', 'sounds', 'like', 'a', 'pretty', 'bizarre', 'notion', ',', 'Schwartz', \"'s\", 'story', 'turned', 'it', 'into', 'a', 'fairly', 'coherent', 'idea', '.', 'The', 'movie', '``', 'Wendigo', \"''\", 'does', \"n't\", '.', 'It', 'basically', 'consists', 'of', 'every', 'horror', 'flick', 'cliché', ':', 'family', 'moves', 'to', 'new', 'house', 'and', 'strange', 'things', 'start', 'happening', ',', 'anyone', 'who', 'harms', 'them', 'is', 'asking', 'for', 'it', ',', 'and', 'everyone', 'had', 'better', 'listen', 'to', 'the', 'old', 'Indian', 'guy', '.', 'I', \"'ve\", 'seen', 'this', 'stuff', 'so', 'many', 'times', 'that', 'I', 'no', 'longer', 'bother', 'to', 'count', '.', 'Anyway', ',', 'avoid', 'it', '.', 'Patricia', 'Clarkson', 'and', 'Erik', 'Per', 'Sullivan', '(', 'Dewey', 'on', '``', 'Malcolm', 'in', 'the', 'Middle', \"''\", ')', 'have', 'done', 'far', 'better', 'than', 'this', '.'], ['A', 'mummy', 'narrates', 'vignettes', 'about', 'men', ',', 'women', ',', 'and', 'the', 'sex', 'between', 'them', '.', 'Huh', '?', 'At', 'the', 'beginning', ',', 'the', 'mummy', 'randomly', 'asks', 'the', 'viewer', ',', '``', 'Imagine', 'having', 'sex', 'with', 'this', 'girl', '.', 'Imagine', 'having', 'sex', 'with', 'this', 'boy', \"''\", 'about', '37', 'times', ',', 'while', 'flashing', 'pictures', 'of', 'half', 'naked', 'mod', 'youths', '.', 'Later', ',', 'said', 'mods', 'boys', 'pelt', 'mod', 'girls', 'with', '...', 'vegetables', '?', 'If', 'you', 'ignore', '(', 'or', 'fast', 'forward', ')', 'through', 'the', 'mummy', \"'s\", 'rambling', ',', 'the', 'shorts', 'are', \"n't\", 'bad', 'in', 'their', 'own', 'right', '.', 'I', 'found', 'a', 'few', 'of', 'them', 'rather', 'funny', '.', 'My', 'personal', 'favorite', 'is', 'one', 'where', 'the', 'sexually-confused', 'man', 'tries', 'to', 'convince', 'a', 'girl', 'to', 'have', 'sex', 'with', 'him', 'while', 'his', 'pet', 'lizard', 'sits', 'on', 'the', 'bed', '.', 'This', 'is', 'one', ',', 'well', ',', 'bizarre', 'movie', '.'], ['This', 'movie', 'is', 'most', 'possibly', 'the', 'worst', 'movie', 'I', 'have', 'ever', 'see', 'in', 'my', 'entire', 'life', '!', 'The', 'plot', 'is', 'ridiculous', 'and', 'the', 'whole', '``', 'Little', 'Man', \"''\", 'crap', 'is', 'just', 'so', 'stupid', '.', 'The', 'entire', 'movie', 'is', 'unrealistic', 'and', 'dumb', '.', 'Let', \"'s\", 'face', 'it', ',', 'It', \"'s\", 'just', 'a', '``', 'Black', 'Comedy', \"''\", '.', 'This', 'is', 'just', 'a', 'pointless', 'horrible', 'piece', 'that', 'should', 'have', 'never', 'made', 'it', 'to', 'theaters', '.', 'The', 'jokes', 'are', 'not', 'funny', 'and', 'the', 'acting', 'is', 'horrendous', '.', 'Please', ',', 'I', 'beg', 'of', 'to', 'you', 'save', 'your', 'money', 'than', 'see', 'this', 'worthless', 'piece', 'of', 'crap', '.', 'I', 'had', 'to', 'endure', 'sitting', 'through', 'Little', 'Man', 'for', 'an', 'hour', 'and', 'a', 'half', 'wishing', 'my', 'eyes', 'would', 'bleed', '.', 'I', 'am', 'disgusted', 'that', 'something', 'like', 'this', 'would', 'even', 'be', 'thought', 'of', '!', 'Who', 'writes', 'this', 'crap', '?', 'The', 'actors', 'have', 'NO', 'talent', 'what', 'so', 'ever', ',', 'how', 'do', 'these', 'people', 'get', 'into', 'Hollywood', '?', 'They', 'are', 'making', 'money', 'off', 'this', 'junk', '!'], ['Something', 'to', 'Sing', 'About', 'was', 'produced', 'at', 'Grand', 'National', 'Studios', 'where', 'James', 'Cagney', 'was', 'working', 'while', 'under', 'a', 'contract', 'dispute', 'with', 'the', 'brothers', 'Warner', '.', 'He', 'did', 'two', 'films', 'for', 'this', 'B', 'studio', ',', 'neither', 'of', 'which', 'rank', 'high', 'in', 'the', 'Cagney', 'credits', '.', 'One', 'of', 'the', 'great', 'losses', 'to', 'cinema', 'is', 'the', 'fact', 'that', 'Jimmy', 'Cagney', 'did', 'so', 'few', 'films', 'that', 'utilized', 'his', 'terrific', 'dancing', 'abilities', '.', 'The', 'two', 'that', 'come', 'to', 'mind', 'immediately', 'are', 'Yankee', 'Doodle', 'Dandy', 'and', 'Footlight', 'Parade', '.', 'Two', 'lesser', 'films', 'are', 'The', 'West', 'Point', 'Story', 'and', 'Never', 'Steal', 'Anything', 'Small', '.', 'Cagney', 'himself', 'said', 'he', 'never', 'used', 'to', 'watch', 'anything', 'but', 'his', 'musicals', 'in', 'retirement', '.', 'So', 'why', 'did', 'he', 'make', 'so', 'few', 'of', 'them', '?', 'Well', 'this', 'one', 'was', 'all', 'wrong', '.', 'The', 'plot', 'of', 'Something', 'to', 'Sing', 'About', 'concerns', 'a', 'hoofer', 'who', 'fronts', 'for', 'a', 'band', 'who', \"'s\", 'discovered', 'and', 'given', 'a', 'movie', 'contract', '.', 'There', 'are', 'the', 'usual', 'complications', 'of', 'a', 'conniving', 'studio', 'boss', 'and', 'a', 'conniving', 'press', 'agent', 'played', 'respectively', 'and', 'well', 'by', 'Gene', 'Lockhart', 'and', 'William', 'Frawley', '.', 'His', 'contract', 'calls', 'for', 'a', 'no-', 'marriage', 'clause', ',', 'so', 'Cagney', 'and', 'band', 'girl', 'singer', 'lady', 'Evelyn', 'Daw', 'marry', 'in', 'secret', '.', 'Then', 'we', 'get', 'the', 'complication', 'of', 'a', 'publicity', 'driven', 'studio', 'romance', 'with', 'screen', 'leading', 'lady', 'Mona', 'Barrie', '.', 'I', 'think', 'you', 'can', 'figure', 'where', 'this', 'is', 'going', '.', 'The', 'most', 'disappointing', 'thing', 'about', 'Something', 'to', 'Sing', 'About', 'is', 'the', 'lack', 'of', 'dance', 'numbers', 'for', 'Cagney', '.', 'He', 'dances', 'briefly', 'at', 'the', 'beginning', 'and', 'the', 'end', 'of', 'the', 'film', 'and', 'nothing', 'in', 'the', 'middle', '.', 'Evelyn', 'Daw', 'had', 'a', 'nice', 'singing', 'voice', 'and', 'the', 'charisma', 'of', 'a', 'ham', 'sandwich', '.', 'She', 'got', 'the', 'musical', 'numbers', 'such', 'as', 'they', 'were', '.', 'I', \"'m\", 'sure', 'the', 'movie-going', 'public', 'was', 'paying', 'their', 'tickets', 'to', 'see', 'Cagney', 'dance', '.', 'Also', 'in', 'addition', 'to', 'giving', 'him', 'some', 'dance', 'numbers', 'a', 'female', 'dance', 'partner', 'would', 'have', 'been', 'nice', '.', 'He', 'danced', 'well', 'with', 'Ruby', 'Keeler', 'in', 'Footlight', 'Parade', 'and', 'with', 'Virginia', 'Mayo', 'and', 'Doris', 'Day', 'in', 'The', 'West', 'Point', 'Story', '.', 'Were', \"n't\", 'Ginger', 'Rogers', ',', 'Eleanor', 'Powell', 'or', 'Ruby', 'Keeler', 'available', '?', 'No', 'memorable', 'songs', 'came', 'out', 'of', 'this', '.', 'And', 'Daw', \"'s\", 'voice', 'is', 'waisted', 'as', 'well', '.', 'She', 'has', 'a', 'Jeanette', 'MacDonald', 'soprano', 'voice', 'which', 'was', 'so', 'out', 'of', 'place', 'with', 'a', 'swing', 'band', '.', 'No', 'wonder', 'Cagney', 'went', 'running', 'back', 'to', 'Warner', 'Brothers', '.', 'But', 'they', 'should', 'have', 'given', 'him', 'some', 'decent', 'musicals', '.'], ['The', 'cliché', 'of', 'the', 'shell-shocked', 'soldier', 'home', 'from', 'the', 'war', 'is', 'here', 'given', 'dull', 'treatment', '.', 'Pity', 'a', 'splendid', 'cast', ',', 'acting', 'to', 'the', 'limits', 'of', 'their', 'high', 'talents', ',', 'ca', \"n't\", 'redeem', \"'The\", 'Return', 'of', 'the', 'Soldier', \"'\", 'from', 'its', 'stiff-collared', 'inability', 'to', 'move', 'the', 'viewer', 'to', 'emotional', 'involvement', '.', 'Best', 'moments', ',', 'as', 'another', 'reviewer', 'noted', ',', 'come', 'when', 'Glenda', 'Jackson', 'is', 'on', 'screen', ';', 'but', 'even', 'Jackson', \"'s\", 'crackling', 'good', 'cinematic', 'power', 'ca', \"n't\", 'pull', 'this', 'film', \"'s\", 'chestnuts', 'from', 'its', 'cold', ',', 'never', 'warmed', 'hearth', '.', 'Ann-Margret', ',', 'she', 'of', 'sex-kitten', 'repute', 'and', 'too', 'often', 'accused', 'of', 'lacking', 'acting', 'ability', ',', 'finds', 'her', 'actual', 'and', 'rather', 'profound', 'abilities', 'wasted', 'here', '-', 'despite', 'her', 'speaking', 'with', 'a', 'nigh-flawless', 'Middlesex', 'accent', '.', 'The', 'hackneyed', 'score', ',', 'redolent', 'of', 'many', 'lackluster', 'TV', 'miniseries', \"'\", 'slathered-on', 'saccharine', 'emotionalism', ',', 'is', 'at', 'irritating', 'odds', 'with', 'the', 'emotional', 'remoteness', 'of', 'the', 'script', ',', 'blocking', ',', 'and', 'overbaked', 'formalism', 'of', 'the', 'direction', ';', 'except', 'for', 'its', 'score', 'and', 'corseted', 'script', 'and', 'direction', ',', \"'The\", 'Return', 'of', 'the', 'Soldier', \"'\", 'has', 'all', 'the', 'right', 'bits', 'but', 'it', 'fails', 'to', 'make', 'them', 'work', 'together', '.'], ['This', 'movie', 'is', 'all', 'flash', 'and', 'no', 'soul', '.', 'The', 'actors', 'put', 'a', 'lot', 'of', 'passion', 'into', 'the', 'numbers', ',', 'but', 'these', 'numbers', 'often', 'did', \"n't\", 'connect', 'with', 'the', 'film', 'and', 'felt', 'like', 'stand-alone', 'music', 'videos', '.', 'And', 'no', 'effort', 'was', 'made', 'to', 'make', 'the', 'numbers', 'sound', 'as', 'if', 'they', 'were', 'happening', 'right', 'there', 'in', 'front', 'of', 'you', ',', 'every', 'single', 'one', 'sounds', 'like', 'its', 'coming', 'from', 'a', 'studio', ',', 'essentially', 'sucking', 'all', 'the', 'life', 'from', 'the', 'songs', '.', 'Off', 'the', 'stage', 'the', 'performances', 'were', 'all', 'dull', 'and', 'unrealized', ',', 'especially', 'Hudson', ',', 'who', 'essentially', 'plays', 'the', 'same', 'angry', ',', '``', 'strong', \"''\", '(', 'she', \"'s\", 'stubborn', 'and', 'selfish', ')', 'black', 'woman', 'we', \"'ve\", 'seen', 'before', '.', 'There', 'was', 'absolutely', 'no', 'depth', 'to', 'her', 'character', ',', 'nor', 'any', 'of', 'the', 'other', 'female', 'leads', '.', 'Though', 'I', 'think', 'the', 'movie', 'wants', 'us', 'to', 'believe', 'that', 'Hudson', \"'s\", 'character', 'faces', 'hardship', 'because', 'of', 'her', 'weight', ',', 'it', 'is', 'really', 'her', 'own', 'refusal', 'to', 'do', 'what', \"'s\", 'best', 'for', 'the', 'team', 'that', 'lands', 'her', 'in', 'trouble', ',', 'making', 'the', 'end', 'of', 'the', 'film', 'totally', 'meaningless', '.', 'Hudson', \"'s\", 'Academy', 'Award', 'is', 'a', 'joke', ',', 'there', 'was', 'no', 'justification', '.', 'When', 'she', 'sang', ',', 'she', 'put', 'forth', 'emotion', '(', 'though', 'it', 'was', 'often', 'misplaced', ',', 'but', 'this', 'was', 'the', 'writer/director', \"'s\", 'fault', ')', ',', 'but', 'when', 'she', 'was', 'just', 'acting', ',', 'she', 'did', 'nothing', 'to', 'flesh', 'out', 'an', 'already', 'underwritten', 'character', '.', 'Eddie', 'Murphy', \"'s\", 'character', 'is', 'the', 'only', 'one', 'with', 'an', 'arc', ',', 'and', 'he', 'did', 'a', 'fine', 'job', ',', 'but', 'still', 'not', 'Oscar', 'worthy', '.', 'The', 'only', 'actor', 'who', 'really', 'brought', 'something', 'to', 'the', 'roll', 'was', 'Danny', 'Glover', ',', 'who', 'took', 'a', 'small', ',', 'relatively', 'unimportant', 'character', 'and', 'made', 'something', 'real', 'out', 'of', 'it', '.', 'There', 'is', 'nothing', 'here', 'to', 'sink', 'your', 'teeth', 'into', ',', 'no', 'drama', 'or', 'heart', ',', 'or', 'even', 'laughs', '.', 'The', 'placement', 'of', 'the', 'musical', 'numbers', 'was', 'so', 'bad', 'that', 'at', 'times', 'the', 'movie', 'almost', 'seemed', 'to', 'be', 'making', 'fun', 'of', 'musicals', 'instead', 'of', 'being', 'one', ';', 'the', 'number', 'when', 'Hudson', 'is', 'arguing', 'with', 'the', 'other', 'girls', 'is', 'so', 'long-winded', 'if', 'it', 'had', 'been', 'any', 'longer', 'it', 'could', 'pass', 'for', 'a', 'Family', 'Guy', 'skit', '.', 'The', 'movie', 'has', 'no', 'idea', 'what', 'it', \"'s\", 'about', ',', 'and', 'I', 'felt', 'insulted', 'by', 'the', 'last', 'few', 'minutes', '.', 'It', \"'s\", 'a', 'big', ',', 'boring', 'waste', 'of', 'time', ',', 'and', 'really', 'is', 'the', 'worst', 'film', 'I', 'saw', 'in', \"'06\", ',', 'and', 'nothing', 'last', 'year', 'was', 'really', 'stellar', 'to', 'begin', 'with', '.'], ['I', 'like', 'bad', 'movies', '.', 'I', 'like', 'to', 'rent', 'bad', 'movies', 'with', 'my', 'friends', 'and', 'rip', 'on', 'them', 'for', 'their', 'duration', '.', 'Then', 'there', 'are', 'abhorrent', 'movies', 'like', 'this', '.', 'Redline', 'is', 'not', 'just', 'a', 'bad', 'movie', ',', 'but', 'a', 'telling', 'sign', 'that', 'maybe', 'the', 'American', 'movie', 'industry', 'should', 'please', ',', 'for', 'the', 'sake', 'of', 'the', 'viewer', ',', 'at', 'least', 'proofread', 'scripts', 'before', 'funding', 'a', 'movie', '.', 'If', 'a', 'stereotype', 'took', 'a', 'crap', ',', 'this', 'movie', 'would', 'spawn', 'from', 'that', '.', 'The', 'storyline', 'is', 'unbearable', ',', 'and', 'the', 'acting', 'all', 'around', 'is', 'laughable', '.', 'Nadia', 'Bjorlin', 'and', 'Eddie', 'Griffin', 'have', ',', 'perhaps', ',', 'the', 'worst', 'screen', 'chemistry', 'I', \"'ve\", 'seen', 'in', 'a', 'good', 'while', ',', 'and', 'even', 'individually', 'they', 'should', 'be', 'isolated', 'from', 'humanity', 'and', 'beaten', 'with', 'a', 'bag', 'of', 'oranges', 'until', 'they', 'change', 'their', 'profession', 'to', 'street', 'merchants', '(', 'about', 'the', 'only', 'thing', 'they', 'can', 'legitimately', 'qualify', 'for', ')', '.', 'Furthermore', ',', 'how', 'Angus', 'Macfadyen', 'got', 'convinced', 'to', 'do', 'this', 'movie', 'is', 'so', 'far', 'beyond', 'me', 'that', 'I', 'ca', \"n't\", 'even', 'think', 'of', 'an', 'analogy', '.', 'I', 'am', 'a', 'loyal', 'fan', 'of', 'his', ',', 'but', 'this', 'has', 'made', 'me', 'question', 'him', '.', 'To', 'sum', 'it', 'up', '.', 'Several', 'people', 'want', 'revenge', 'for', 'different', 'reasons', '(', 'and', 'if', 'you', 'care', 'enough', 'to', 'know', 'what', 'they', 'are', ',', 'you', \"'re\", 'a', 'bigger', 'person', 'than', 'me', ')', ',', 'so', 'much', 'so', 'that', 'it', 'turns', 'to', 'violence', '(', 'I', 'guess', ')', '.', 'The', 'movie', 'is', 'like', 'Ouroboros', ',', 'the', 'snake', 'that', 'swallows', 'its', 'own', 'tail', ',', 'in', 'that', 'it', \"'s\", 'an', 'endless', 'cycle', 'of', 'confusion', 'and', 'dialogue', 'not', 'fit', 'for', 'human', 'ears', '.', 'This', 'movie', 'is', 'essentially', 'one', 'big', 'car', 'commercial', 'for', 'the', 'first', 'half', ',', 'and', 'an', 'indecipherable', 'action', 'movie', 'for', 'the', 'rest', ',', 'it', 'should', 'be', 'avoided', 'at', 'any', 'and', 'all', 'costs', '.', 'I', 'wish', 'I', 'could', 'find', 'one', 'positive', 'aspect', 'to', 'this', 'movie', ',', 'and', 'I', 'think', 'it', 'lies', 'in', 'the', 'fact', 'that', 'eventually', 'the', 'credits', 'do', 'roll', '.', 'P.S', '.', 'Nadia', 'Bjorlin', ',', 'if', 'that', 'was', 'YOU', 'singing', 'those', 'two', 'songs', 'in', 'this', 'movie', ',', 'then', 'you', 'are', 'a', 'hack', ',', 'and', 'I', 'hope', 'old', 'age', 'ravages', 'you', '.', 'P.S.S', '.', 'If', 'you', 'DO', 'rent', 'this', 'movie', 'looking', 'for', 'a', 'laughable', 'experience', ',', 'listen', 'for', 'the', 'lyrics', 'to', 'Nadia', 'Bjorlin', \"'s\", 'awesome', 'songs', '.'], ['This', 'is', 'a', 'typical', '``', 'perfect', 'crime', \"''\", 'thriller', '.', 'A', 'perfect', 'crime', 'is', 'executed', 'and', 'the', 'investigating', 'police', 'officer', ',', 'ignoring', 'all', 'the', 'clues', ',', 'immediately', 'knows', 'who', 'guilty', 'is', '.', 'The', 'audience', 'has', 'to', 'wait', 'around', 'the', 'whole', 'movie', 'for', 'the', 'guilty', 'to', 'be', 'caught', '.', 'The', 'result', 'is', 'like', 'every', 'single', 'episode', 'of', '``', 'Columbo', \"''\", 'or', '``', 'murder', 'she', 'wrote', \"''\", '.', 'The', 'director', 'himself', 'refers', 'to', 'the', 'hackney', 'story', 'by', 'showing', 'the', 'police', 'officer', 'watching', 'an', 'episode', 'of', 'Matlock', '!', 'This', 'story', 'barely', 'fills', 'up', '90', 'minutes', 'but', 'the', 'director', 'insists', 'on', 'using', 'all', '120', 'minutes', 'filling', 'with', 'every', 'cliche', 'in', 'the', 'book', '.', 'Skip', 'this', 'one', ',', 'you', 'are', 'not', 'missing', 'anything', '.'], ['``', 'Rois', 'et', 'Reine', \"''\", 'is', 'a', 'sprawling', 'mess', 'of', 'a', 'movie', 'which', 'will', 'probably', 'irritate', 'as', 'many', 'viewers', 'as', 'it', 'delights', '.', 'It', 'focuses', 'by', 'turns', 'on', 'ex-lovers', 'Nora', '(', 'Emanuelle', 'Devos', ')', 'and', 'Ismael', '(', 'Mathieu', 'Amalric', ')', 'as', 'they', 'each', 'confront', 'a', 'major', 'crisis', 'in', 'their', 'now', 'separate', 'lives', '.', 'While', 'Nora', \"'s\", 'story', 'is', 'played', 'straight', 'and', 'is', 'sombre', 'in', 'tone', ',', 'Ismael', \"'s\", 'is', 'played', 'mainly', 'for', 'laughs', ',', 'although', 'it', \"'s\", 'not', 'particularly', 'funny', '.', 'Nora', \"'s\", 'crisis', 'is', 'triggered', 'by', 'the', 'terminal', 'illness', 'of', 'her', 'father', 'Louis', '(', 'Maurice', 'Garrel', ')', ',', 'and', 'Ismael', \"'s\", 'by', 'his', 'sudden', 'incarceration', 'in', 'a', 'mental', 'hospital', 'at', 'the', 'instigation', 'of', 'a', 'mysterious', 'third', 'party', '.', 'Ismael', 'and', 'Louis', 'are', 'just', 'two', 'of', 'the', 'males', 'who', 'have', 'shaped', 'Nora', \"'s\", 'life', ',', 'and', 'in', 'turn', 'have', 'been', 'shaped', 'by', 'her', ',', 'the', 'most', 'notable', 'others', 'being', 'her', 'now', 'deceased', 'first', 'lover', 'Pierre', 'and', 'their', 'young', 'son', 'Elias', '.', 'As', 'events', 'past', 'and', 'present', 'are', 'played', 'out', 'for', 'the', 'audience', ',', 'and', 'the', 'ex-lovers', 'become', 'involved', 'in', 'each', 'other', \"'s\", 'lives', 'once', 'more', ',', 'it', 'gradually', 'emerges', 'that', 'Nora', \"'s\", 'personal', 'take', 'on', 'her', 'life', 'story', 'may', 'be', 'less', 'reliable', 'than', 'first', 'meets', 'the', 'eye', '.', 'Cult', 'director', 'Arnaud', 'Desplechin', 'has', 'fashioned', 'a', 'considerable', 'oddity', 'here', ',', 'one', 'which', 'has', 'garnered', 'major', 'plaudits', 'in', 'France', '.', 'He', 'wilfully', 'eschews', 'established', 'narrative', 'convention', 'and', 'develops', 'the', 'movie', 'via', 'a', 'series', 'of', 'dramatic', 'shifts', 'in', 'mood', 'and', 'tone', '.', 'Had', 'this', 'approach', 'been', 'founded', 'on', 'a', 'coherent', 'unifying', 'core', 'idea', 'or', 'theme', 'it', 'might', 'have', 'worked', ',', 'but', 'it', \"'s\", 'not', 'clear', 'in', 'the', 'end', 'what', 'exactly', 'Desplechin', \"'s\", 'film', 'is', 'actually', 'about', '.', 'Heavy-handed', 'allusions', 'to', 'Greek', 'mythology', 'and', 'Freudian', 'theory', 'are', 'evidently', 'freighted', 'with', 'meaning', 'but', ',', 'at', 'least', 'for', 'this', 'unschooled', 'movie-goer', ',', 'remain', 'less', 'than', 'helpful', 'in', 'illuminating', 'and', 'interpreting', 'the', 'lives', 'of', 'the', 'characters', '.', 'At', 'other', 'times', 'the', 'treatment', 'lapses', 'into', 'kitsch', 'but', 'the', 'use', 'of', 'the', 'anodyne', '``', 'Moon', 'River', \"''\", 'as', 'the', 'film', \"'s\", 'theme', 'tune', 'suggests', 'this', 'is', 'probably', 'deliberate', '.', '**Spoiler', 'alert**', 'I', 'suspect', 'a', 'major', 'theme', 'of', 'the', 'movie', 'is', 'the', 'not', 'very', 'original', 'observation', 'that', 'how', 'we', 'see', 'ourselves', 'can', 'differ', 'radically', 'from', 'how', 'others', 'see', 'us', 'or', 'even', 'how', 'we', 'think', 'others', 'see', 'us', '.', 'This', 'idea', 'is', 'most', 'obviously', 'represented', 'in', 'the', 'film', 'by', 'the', 'violent', 'death', 'of', 'Pierre', 'and', 'the', 'revelation', 'contained', 'in', 'Louis', \"'\", 'secret', 'diary', ',', 'but', 'unfortunately', 'both', 'events', 'seem', 'entirely', 'disconnected', 'from', 'what', 'has', 'otherwise', 'been', 'revealed', 'to', 'the', 'audience', 'of', 'Pierre', 'and', 'Louis', \"'\", 'respective', 'relationships', 'with', 'Nora', '.', 'This', 'seems', 'a', 'cheat', 'on', 'Desplechin', \"'s\", 'part', ',', 'as', 'if', 'he', 'is', 'thrusting', 'the', 'idea', 'upon', 'us', 'in', 'unmediated', 'form', 'rather', 'than', 'illustrating', 'it', 'more', 'subtly', 'in', 'the', 'natural', 'course', 'of', 'the', 'narrative', '.', 'One', 'or', 'two', 'darkly', 'surreal', 'touches', 'imply', 'the', 'presence', 'of', 'an', 'alternative', 'but', 'largely', 'unconscious', 'world', 'of', 'persons', 'stripped', 'frighteningly', 'bare', ',', 'but', 'again', 'these', 'are', 'felt', 'more', 'as', 'pretentious', 'intrusions', 'of', 'film-making', 'technique', 'rather', 'than', 'eruptions', 'from', 'a', 'deeper', 'reservoir', 'of', 'truth', 'inherent', 'in', 'the', 'story', '.', 'In', 'fact', ',', 'for', 'all', 'its', 'heavy-handed', 'hints', 'at', 'depth', ',', 'the', 'characters', 'are', 'curiously', 'undeveloped', 'and', 'unnuanced', ',', 'as', 'if', 'they', 'function', 'more', 'as', 'ciphers', 'for', 'their', 'creator', \"'s\", 'many', 'ideas', 'about', 'people', 'rather', 'than', 'as', 'real', 'people', 'in', 'their', 'own', 'right', '.', 'Much', 'of', 'the', 'detail', 'of', 'their', 'lives', 'seems', 'arbitrarily', 'applied', 'rather', 'than', 'organic', '.', 'For', 'example', ',', 'Ismael', ',', 'as', 'we', 'are', 'constantly', 'reminded', ',', 'is', 'a', 'viola', 'player', ',', 'but', 'more', 'than', 'two', 'hours', 'pass', 'before', 'we', 'actually', 'see', 'or', 'hear', 'him', 'play', ',', 'and', 'the', 'effect', 'of', 'his', 'chosen', 'instrument', 'or', 'profession', 'upon', 'his', 'personality', 'is', 'never', 'elaborated', '.', 'Hence', ',', 'he', 'may', 'just', 'as', 'well', 'be', 'a', 'marine', 'biologist', 'or', 'a', 'trapeze', 'artist', '.', 'Amalric', 'brings', 'a', 'certain', 'manic', 'charm', 'to', 'the', 'unhinged', 'but', 'ultimately', 'sane', 'Ismael', ',', 'but', 'I', 'found', 'Devos', 'cloying', 'and', 'monotone', '(', 'which', 'may', 'be', 'intentional', ',', 'however', ')', 'as', 'the', 'elusive', 'Nora', '.', 'Meanwhile', 'Jean-Paul', 'Roussillon', 'as', 'Ismael', \"'s\", 'father', ',', 'Elsa', 'Wolliaston', 'as', 'his', 'psychoanalyst', 'and', 'Magalie', 'Woch', 'as', 'the', 'psychically', 'wounded', 'but', 'defiant', 'Sinologist', 'he', 'befriends', 'in', 'hospital', 'make', 'the', 'biggest', 'impact', 'amongst', 'the', 'supporting', 'actors', '.', 'Catherine', 'Deneuve', \"'s\", 'in', 'it', ',', 'too', ',', 'though', 'her', 'role', 'is', 'little', 'more', 'than', 'a', 'self-referential', 'cameo', '.', 'Ultimately', ',', '``', 'Rois', 'et', 'Reine', \"''\", 'is', 'very', 'much', 'an', 'acquired', 'taste', '.', 'Should', 'it', 'fail', 'to', 'push', 'your', 'buttons', ',', 'it', \"'s\", 'very', 'likely', 'that', 'Desplechin', \"'s\", 'undisciplined', 'and', 'florid', 'approach', 'will', 'frustrate', 'and', 'exasperate', 'even', 'as', 'you', 'somehow', 'keep', 'watching', '.'], ['THE', 'RINGMASTER', 'stars', 'Jerry', 'Springer', 'as', 'a', 'TV', 'talkshow', 'host', 'called', 'Jerry', ',', 'but', 'it`s', 'not', 'THE', 'JERRY', 'SPRINGER', 'SHOW', ',', 'his', 'guests', 'are', 'trailer', 'trash', ',', 'but', 'not', 'the', 'trailer', 'trash', 'you', 'get', 'on', 'THE', 'JERRY', 'SPRINGER', 'SHOW', ',', 'they', 'attack', 'one', 'another', ',', 'but', 'not', 'like', 'on', '...', '..What', 'is', 'the', 'point', 'of', 'making', 'a', 'movie', 'about', 'THE', 'JERRY', 'SPRINGER', 'show', 'and', 'pretending', 'it`s', 'not', 'THE', 'JERRY', 'SPRINGER', 'SHOW', '?', 'And', 'on', 'top', 'of', 'that', 'this', 'is', 'a', 'very', 'boring', 'film'], ['This', 'movie', 'was', 'awesome', '!', '!', '(', 'Not', 'quite', 'as', 'good', 'as', 'the', 'Leif', 'Garrett', 'masterpiece', 'Longshot', ')', 'but', 'still', 'awesome', '!', '!', 'I', 'thought', 'Ashley', 'looked', 'freakin', \"'\", 'huge', 'compared', 'to', 'Mary-Kate', 'in', 'this', 'film', '.', 'I', 'wonder', 'why', '.', 'Who', 'woulda', 'thought', 'they', 'could', 'swith', 'places', 'like', 'that', 'and', 'almost', 'get', 'away', 'with', 'it', '.', 'Dad', 'was', 'kinda', 'a', 'jerk', 'though', 'and', 'Mom', 'was', 'a', 'little', 'too', 'chummy', 'with', 'Helmit', 'Head', '.', 'I', 'give', 'it', '4', '.', 'Any', 'one', 'who', 'likes', 'this', 'movie', 'shoudl', 'check', 'out', 'Longshot', '.'], ['Overlong', 'drama', 'that', 'is', \"n't\", 'capable', 'of', 'making', 'any', 'real', 'point', '.', 'So', 'she', 'became', 'an', 'actress', '-', 'so', 'what', '?', 'She', 'learned', 'to', 'love', '-', 'big', 'deal', '.', 'There', 'is', 'a', 'certain', 'eccentricity', 'among', 'the', 'characters', 'and', 'in', 'the', 'dialog', 'and', 'situations', ',', 'but', 'the', 'kind', 'which', 'is', 'bad', 'for', 'the', 'movie', ',', 'causing', 'it', 'to', 'often', 'seem', 'absurd', '.', 'Summer', 'Phoenix', ',', 'playing', 'the', 'lead', ',', 'talks', 'and', 'behaves', 'like', 'a', 'semi-retarded', 'person', ',', 'so', 'there', 'is', 'no', 'choice', 'but', 'to', 'watch', 'the', 'movie', 'as', 'about', 'a', 'retarded', 'girl', 'that', 'makes', 'it', 'in', 'the', 'world', 'of', 'theater', '-', 'which', 'was', 'clearly', 'not', 'the', 'intended', 'point', '.', 'We', 'are', 'told', 'early', 'on', '(', 'in', 'that', '``', 'Barry', 'Lyndon', \"''\", '-like', 'narration', ')', 'that', 'she', 'learned', 'to', 'hide', 'her', 'emotions', ',', 'which', 'certainly', 'explains', 'her', 'autistic', 'stone-face', ',', 'but', 'the', 'movie', 'suffers', 'for', 'it', '.', 'She', 'basically', 'walks', 'around', 'like', 'a', 'zombie', ',', 'and', 'her', 'success', 'as', 'an', 'actress', 'is', \"n't\", 'quite', 'credible', 'given', 'her', 'lack', 'of', 'emotions', '.', 'Occasionally', ',', 'the', 'movie', 'had', 'that', 'dull', ',', 'sleepy', 'feel', 'of', 'a', 'Dogma', '95', 'movie', '.', 'Is', 'it', 'one', '?', 'I', 'would', \"n't\", 'be', 'at', 'all', 'surprised', '.', 'Summer', 'Phoenix', 'is', 'sister', 'of', 'Joaquim', 'Phoenix', 'and', 'the', 'late', 'River', 'Phoenix', '.', 'Nepotism', 'rarely', 'works', '.', 'If', 'you', \"'d\", 'like', 'to', 'see', 'my', 'Hollywood', 'Nepotism', 'List', ',', 'with', 'over', '350', 'pictures/entries', ',', 'contact', 'me', 'by', 'e-mail', '.'], ['The', 'script', 'is', 'so', 'so', 'laughable', '...', 'this', 'in', 'turn', ',', 'makes', 'the', 'actors', \"'\", 'lines', 'sound', 'stiff', 'and', 'unrealistic', 'and', 'not', 'to', 'be', 'believed', '.', 'There', \"'s\", 'repetition', 'of', 'phrases', '--', '``', 'my', 'sweet', 'little', 'god', 'daughter', \"''\", 'and', 'minor', 'variations', 'of', 'that', 'line', 'which', 'comes', 'to', 'mind', '...', 'and', 'it', \"'s\", 'just', 'sloppy', 'soap', 'opera', 'dialog', '.', 'Worse', 'yet', ',', 'the', 'music', 'is', 'so', 'WRONG', '!', 'Plus', ',', 'the', 'main', 'bluesy', '``', 'theme', \"''\", 'is', 'horribly', 'quaint', 'and', 'entirely', 'wrong', 'for', 'this', '.', 'And', 'it', 'feels', 'overused', 'mostly', 'because', 'the', 'instrumentation', ',', 'texture', 'and', 'arrangement', 'of', 'this', 'theme', 'never', 'changes', ',', 'even', 'when', 'the', 'scene', \"'s\", 'emotional', 'context', 'does', '.', 'Subsequently', ',', 'whenever', 'it', 'appears', ',', 'it', 'sticks', 'out', 'like', 'a', 'sore', 'thumb', 'as', 'the', 'main', 'transition', 'from', 'one', 'scene', 'to', 'another', '.', 'The', 'music', \"'s\", 'corny', ',', 'and', 'it', \"'s\", 'as', 'if', 'the', 'writer', 'were', 'writing', 'music', 'for', 'a', 'soap', 'or', 'a', 'sitcom', '--', 'a', 'low', 'budget', '80', \"'s\", 'Canadian', 'sitcom', 'at', 'that', '--', 'and', 'this', 'makes', 'it', 'feel', 'as', 'if', 'we', \"'re\", 'always', 'on', 'the', 'brink', 'of', 'throwing', 'to', 'a', 'commercial', '.', 'This', 'is', 'so', 'miscast', ',', 'there', \"'s\", 'a', 'lot', 'of', 'overacting', 'and', 'it', \"'s\", 'a', 'real', 'stretch', 'that', 'so', 'many', 'of', 'these', 'characters', 'are', 'employing', 'only', 'ONE', 'type', 'of', 'NY', 'accent', '--', 'a', 'thick', 'Bronx', 'accent', '.', 'I', 'do', \"n't\", 'know', 'if', 'it', \"'s\", 'a', 'question', 'of', 'the', 'actors', \"'\", 'limited', 'capacity', 'in', 'only', 'knowing', '*one*', 'NY', 'accent', '--', 'or', 'whether', 'it', \"'s\", 'a', 'question', 'of', 'the', 'director', \"'s\", 'ability', 'to', 'notice', 'such', 'an', 'glaring', 'anomaly', '.', 'In', 'the', 'end', ',', 'it', \"'s\", 'the', 'amateur', 'script', 'with', 'it', \"'s\", 'leaden', 'lines', 'which', 'makes', 'this', 'entire', '``', 'movie', \"''\", '...', 'blow', '.', 'When', 'any', 'foundation', 'is', 'shaky', 'and', 'unstable', ',', 'it', \"'s\", 'impossible', 'to', 'build', 'upon', 'it', 'without', 'it', \"'s\", 'flaws', 'revealing', 'themselves', 'in', 'exponentially', 'more', 'damaging', 'and', 'unflattering', 'ways', '.'], ['Second-tier', 'American', 'leading', 'man', 'Guy', 'Madison', 'plays', 'a', 'character', 'whose', 'notoriety', 'precedes', 'him', 'in', 'this', 'Spaghetti', 'Western', '\\x96', 'which', ',', 'having', 'very', 'modest', 'credentials', 'emerges', 'as', 'essentially', 'routine', '(', 'though', 'featuring', 'a', 'nice', 'enough', 'score', ')', '.', 'The', 'plot', 'offers', 'some', 'mild', 'interest', ':', 'the', 'title', ',', 'incidentally', ',', 'refers', 'to', 'a', 'wounded', 'man', 'involved', 'in', 'the', 'murderous', 'assault', 'by', 'gun-runners', 'on', 'a', 'ranch', '\\x96', 'the', 'property', 'of', 'the', 'family', 'of', 'their', 'pursuer', ',', 'cavalry', 'agent', 'Madison', '.', 'The', 'latter', \"'s\", 'younger', 'siblings', 'are', 'determined', 'that', 'the', 'injured', 'party', ',', 'now', 'in', 'their', 'charge', ',', 'lead', 'them', 'to', 'the', 'gang', 'boss', 'responsible', ';', 'ultimately', ',', 'the', 'identity', 'of', 'either', 'mystery', 'man', 'proves', 'a', 'surprise', '\\x96', 'and', 'both', ',', 'ironically', ',', 'become', 'involved', 'with', 'one', 'of', 'Madison', \"'s\", 'sisters', '(', 'another', 'is', 'raped', 'during', 'the', 'raid', ')', '.', 'Euro-Cult', 'starlet', 'Rosalba', 'Neri', 'appears', 'unremarkably', 'as', 'a', 'saloon', 'hostess', ',', 'and', 'Madison', \"'s\", 'ex-flame', '.'], ['``', 'Boom', \"''\", 'has', 'garnered', 'itself', 'a', 'something', 'of', 'a', 'reputation', '.', 'With', 'heavyweights', 'Taylor', ',', 'Burton', ',', 'Noel', 'Coward', ',', 'Tennessee', 'Williams', 'and', 'Joseph', 'Losey', ',', 'one', 'might', 'be', 'tempted', 'to', 'think', ',', 'how', 'bad', 'could', 'it', 'be', '?', 'Well', ',', 'it', \"'s\", 'a', 'lot', 'worse', 'than', 'you', 'could', 'possibly', 'imagine', '.', 'The', 'sad', 'and', 'disturbing', 'fact', 'of', '``', 'Boom', \"''\", 'is', 'that', 'is', 'seems', 'to', 'signal', 'the', 'decline', 'and', 'fall', 'of', 'the', 'aforementioned', 'heavyweights', '.', 'It', 'was', 'only', 'director', 'Joseph', 'Losey', 'who', 'having', 'plummeted', 'the', 'depths', 'with', '``', 'Modesty', 'Blaise', \"''\", 'and', '``', 'Boom', \"''\", '(', 'some', 'may', 'wish', 'to', 'add', '``', 'Secret', 'Ceremony', \"''\", ')', ',', 'managed', 'to', 'recuperate', 'and', 'in', '1970', 'create', 'his', 'best', 'work', ',', 'the', 'wonderful', '``', 'Go-Between', \"''\", '.', 'Saddest', 'of', 'all', 'is', 'the', 'work', 'of', 'Tennesee', 'Williams', '.', 'From', 'the', 'mid', 'forties', 'until', 'the', 'early', 'sixties', ',', 'Williams', 'penned', 'a', 'number', 'of', 'plays', 'which', 'have', 'gained', 'classic', 'status', ',', 'remaining', 'in', 'theater', 'repertory', 'throughout', 'the', 'world', ',', 'many', 'becoming', 'much', 'praised', 'films', '.', 'When', 'William', \"'s\", 'muse', 'deserted', 'him', ',', 'probably', 'owing', 'to', 'his', 'notorious', 'substance', 'abuse', ',', 'it', 'deserted', 'him', 'for', 'good', '.', 'Williams', 'at', 'his', 'best', 'is', 'an', 'actor', \"'s\", 'dream', 'providing', 'many', 'unforgettable', 'performances', '.', '(', 'Were', 'Ava', 'Gardner', 'or', 'Deborah', 'Kerr', 'ever', 'better', 'than', 'in', '``', 'Night', 'of', 'the', 'Iguana', \"''\", '?', ')', 'Taylor', 'in', 'particular', ',', 'shone', 'in', 'both', '``', 'Cat', 'on', 'a', 'Hot', 'Tin', 'Roof', \"''\", 'and', '``', 'Suddenly', 'Last', 'Summer', \"''\", '.', 'There', 'is', 'an', 'anecdote', 'in', 'which', 'supposedly', 'Taylor', 'asks', 'John', 'Gielgud', 'whether', 'he', 'would', 'teach', 'her', 'to', 'play', 'Shakespeare', ',', 'to', 'which', 'he', 'replied', '``', 'if', 'you', 'will', 'teach', 'me', 'to', 'play', 'Tennessee', 'Williams', \"''\", '.', 'Had', 'Gielgud', 'seen', '``', 'Boom', \"''\", 'he', 'would', 'have', 'held', 'his', 'tongue', '.', 'Taylor', 'simply', 'has', 'never', 'been', 'worse', ',', 'turning', 'in', 'a', 'cringe', 'inducing', 'performance', '.', 'Despite', 'her', 'face', 'photographing', 'well', ',', 'she', 'is', 'decidedly', 'podgy', '.', 'Besides', 'the', 'physical', 'decline', ',', 'from', 'this', 'time', 'onwards', 'she', 'would', 'basically', 'lose', 'credibility', 'as', 'a', 'serious', 'actress', 'with', 'a', 'string', 'of', 'completely', 'forgettable', '(', 'and', 'worse', ')', 'roles', 'to', 'her', 'credit', '.', 'Much', 'the', 'same', 'could', 'be', 'said', 'of', 'Burton', '.', 'Following', 'his', 'short', 'lived', 'theatrical', 'stardom', ',', 'he', 'won', 'fame', 'and', 'fortune', 'in', 'Hollywood', '.', 'But', 'the', 'body', 'of', 'his', 'work', 'from', 'this', 'point', 'onwards', '(', '1968', ')', 'would', 'be', 'unremarkable', 'to', 'say', 'the', 'least', '.', 'Noel', 'Coward', 'had', 'long', 'ceased', 'being', 'a', 'force', 'in', 'the', 'theater', 'where', 'his', 'drawing', 'room', 'comedies', 'had', 'been', 'replaced', 'by', 'the', 'likes', 'of', 'Williams', 'and', 'the', 'British', '``', 'angry', 'young', 'men', \"''\", '.', 'He', 'seems', 'to', 'be', 'enjoying', 'himself', 'camping', 'it', 'up', ',', 'but', 'barely', 'manages', 'to', 'amuses', ',', 'that', 'from', 'the', 'man', 'who', 'claimed', 'such', 'a', 'talent', '.', 'The', 'only', 'cast', 'member', 'who', 'maintains', 'her', 'dignity', 'is', 'young', 'Joanna', 'Shimkus', ',', 'who', 'in', 'a', 'few', 'years', 'would', 'forego', 'a', 'promising', 'screen', 'career', 'to', 'become', 'Mrs.', 'Sidney', 'Poitier', '.', '``', 'Boom', \"''\", 'reeks', 'of', 'self', 'indulgence', ';', 'it', \"'s\", 'simply', 'out', 'of', 'control', '.', 'A', 'rather', 'sad', 'pointer', 'to', 'careers', 'gone', 'wrong', 'rather', 'than', 'a', 'camp', 'fun', 'fest', 'as', 'some', 'have', 'suggested', '.'], ['Although', 'in', 'many', 'ways', 'I', 'agree', 'with', 'the', 'other', 'reviewers', 'comments', '.', 'I', 'find', 'that', 'the', 'plot', 'and', 'idea', 'are', 'very', 'good', '.', 'Many', 'of', 'the', 'supporting', 'actors', 'were', 'very', 'good', '.', 'The', 'fatal', 'problem', 'with', 'this', 'film', 'is', 'Ellen', 'Pompeo', '.', 'I', 'am', 'sure', ',', 'I', 'have', 'never', 'seen', 'a', 'less', 'talented', '``', 'actor', \"''\", 'How', 'this', 'person', 'has', 'ever', 'been', 'in', 'a', 'film', 'or', 'on', 'television', ',', 'I', 'can', 'not', 'imagine', '.', 'In', 'my', 'opinion', 'she', 'would', 'be', 'better', 'as', 'a', 'greater', 'at', 'a', 'Wal-Mart', '.', 'To', 'see', 'a', 'person', 'with', 'this', 'low', 'level', 'of', 'talent', 'involved', 'in', 'paying', 'roles', ',', 'does', 'beg', 'the', 'question', '...', '...', '``', 'Who', 'does', 'she', 'know', \"''\", '?', 'I', 'would', 'very', 'much', 'like', 'to', 'see', 'this', 'film', 're-made', 'with', 'some', 'talent', '.', 'I', 'do', 'not', 'fault', 'the', 'writer', 'for', 'the', 'failure', 'of', 'this', 'film', 'to', 'be', 'worth', 'the', 'time', 'to', 'view', 'it', '.'], ['James', 'Bond', 'in', 'the', 'wilderness', '?', 'Well', ',', 'that', \"'s\", 'the', 'way', 'it', 'looks', ':', 'Pierce', 'Brosnan', 'is', 'after', 'all', 'best', 'known', 'as', 'Bond', 'in', '``', 'Tommorrow', 'Never', 'Dies', \"''\", '(', '1997', ')', 'and', '``', 'Golden', 'Eye', \"''\", '(', '1995', ')', '-', 'both', 'shot', 'prior', 'to', 'this', 'release', '.', 'Frankly', ',', 'the', 'film', \"'s\", 'two', 'leads', 'are', 'both', 'badly', 'miscast', ',', 'with', 'Brosnan', 'turning', 'in', 'the', 'marginally', 'more', 'convincing', 'performance', ',', 'and', 'with', 'Annie', 'Galipeau', '(', 'as', 'Pony', ',', 'Grey', 'Owl', \"'s\", 'love', 'interest', ')', 'having', 'to', 'battle', 'with', 'carelessly-written', 'dialogue', '.', 'The', 'two', 'aunts', ',', 'on', 'the', 'other', 'hand', 'are', 'perfect', '.', 'But', 'the', 'film', 'is', 'not', 'about', 'aunts', '.', 'It', 'is', 'about', 'the', 'wilds', 'of', 'the', 'Canadian', 'wilderness', '.', 'And', 'while', 'the', 'photography', 'may', 'be', 'pretty', ',', 'there', 'is', 'no', 'grit', 'to', 'the', 'harsh', 'reality', 'of', 'living', 'in', 'the', 'wilds', '.', 'Annie', 'Galipeau', ',', 'as', 'Pony', ',', 'just', 'fails', 'to', 'be', 'convincing', ',', 'unfortunately', ',', 'because', 'I', 'really', 'wanted', 'to', 'believe', 'in', 'her', '.', 'She', 'was', 'a', 'relatively', 'inexperienced', 'twenty-year-old', 'on', 'this', 'film', ',', 'and', 'it', 'could', 'have', 'worked', ',', 'but', 'Richard', 'Attenborough', 'was', 'maybe', 'just', 'not', 'tough', 'enough', 'on', 'her', '.', 'He', 'makes', 'her', 'look', 'vulnerable', ',', 'which', 'of', 'course', 'she', 'is..', 'but', 'in', 'the', 'wrong', 'sort', 'of', 'way', '.', 'But', 'one', 'thing', 'for', 'sure', ',', 'she', 'appears', 'picture-perfect', 'throughout', '.', 'But', 'mascara', 'and', 'eyebrow', 'thickener', 'in', 'the', 'wilderness', '?', 'It', 'just', 'does', \"n't\", 'fit', ',', 'especially', 'as', 'she', 'only', 'ever', 'seems', 'to', 'walk', 'forest', 'trials', 'with', 'Bond', '(', 'sorry', ',', 'Grey', 'Owl', ')', ',', 'and', 'use', 'photo-ops', 'for', 'kissing', 'close-ups', '.', 'I', \"'ve\", 'lived', 'with', 'forest', 'people', 'in', 'the', 'Pacific', 'North', 'West', ',', 'and', 'they', 'simply', 'do', \"n't\", 'look', 'this', 'pretty', 'and', 'stay', 'so', 'sweet', 'while', 'fighting', 'for', 'survival', '.', 'Which', 'brings', 'me', 'to', 'another', 'point', ':', 'the', 'film', 'fails', 'to', 'evoke', 'the', 'period', 'in', 'which', 'it', 'is', 'set', ':', 'the', '1930s', '.', 'I', 'put', 'the', 'blame', 'here', 'largely', 'on', 'a', 'lack-lustre', 'script', 'that', 'is', 'keen', 'on', 'preaching', 'at', 'the', 'expense', 'of', 'dramatic', 'arc', ',', 'plot', 'points', 'and', 'those', 'small', 'details', 'that', 'can', 'evoke', 'period', 'through', 'action', '.', 'William', 'Nicholson', 'wrote', 'the', 'screenplay', ',', 'and', 'his', 'latest', 'offering', ',', '``', 'Elizabeth', ',', 'the', 'Golden', 'Age', \"''\", 'opened', 'three', 'days', 'ago', ',', 'so', 'I', 'do', 'hope', 'there', 'is', 'an', 'improvement', '.', 'Yes', ',', 'I', \"'ve\", 'read', 'the', 'comments', 'others', 'have', 'posted', ',', 'but', 'I', \"'m\", 'not', 'convinced', '.', 'A', 'lot', 'of', 'potential', ',', 'but', 'mishandled', 'and', 'even', 'maybe', 'ill-conceived', '.', 'If', 'it', 'had', 'had', 'a', 'religious', 'film', ',', 'it', 'would', 'have', 'been', 'panned', ',', 'but', 'because', 'it', 'preaches', 'environmentalism', ',', 'the', 'film', 'remains', 'somewhat', 'above', 'criticism', ',', 'since', 'it', 'is', '``', 'politically', 'correct', '.', \"''\", 'Sorry', ',', 'for', 'all', 'that', ',', 'I', 'do', \"n't\", 'buy', 'it', '.', 'Amen', '.'], ['For', 'the', 'knowledgeable', 'Beatles', 'fan', ',', 'the', 'main', 'value', 'in', 'this', 'movie', 'is', 'to', 'just', 'sit', 'back', 'and', 'pick', 'out', 'the', 'flaws', ',', 'inaccuracies', ',', 'combined', 'events', ',', 'omitted', 'events', ',', 'wildly', 'exaggerated', 'events', ',', 'omitted', 'people', ',', 'timeline', 'errors', ',', 'mis-attribute', 'quotes', ',', 'incorrect', 'clothing', ',', 'out', 'of', 'place', 'songs', ',', 'and', '(', 'shame', 'shame', ')', 'incorrect', 'instruments', 'and', 'other', 'boners', 'I', 'just', 'cant', 'think', 'of', 'right', 'now', '.', 'The', 'flaws', 'come', 'fast', 'and', 'furious', 'so', 'you', \"'ll\", 'have', 'to', 'be', 'on', 'your', 'toes', '.', 'I', 'did', \"n't\", 'give', 'this', 'a', '``', '1', \"''\", 'primarily', 'due', 'the', 'fact', 'that', 'it', 'is', 'filmed', 'in', 'Liverpool', 'and', 'the', 'actors', '(', 'the', 'band', 'Rain', ')', 'give', 'it', 'their', 'all', '(', 'the', 'Lennon', 'character', 'is', 'credible', 'and', 'does', 'a', 'good', 'job', ')', '.', 'Also', ',', 'the', 'song', '``', 'Cry', 'for', 'a', 'Shadow', \"''\", 'is', 'heard', 'at', 'one', 'point', 'and', 'THAT', 'counts', 'for', 'SOMETHING', '.', 'So', ',', ',', ',', 'watch', 'it', 'for', 'fun', ',', 'but', 'please', 'do', \"n't\", 'take', 'it', 'as', 'historically', 'accurate', '.'], ['I', 'gave', 'this', 'movie', 'a', 'very', 'fair', 'chance', ',', 'and', 'it', 'betrayed', 'me', '.', 'This', 'is', 'very', 'little', 'more', 'than', 'a', 'black', 'and', 'white', 'excuse', 'to', 'bore', 'the', 'hell', 'out', 'of', 'the', 'audience', 'even', 'as', 'the', 'egotist', 'Bogdanavich', '(', 'who', 'did', 'way', 'better', 'with', 'TARGETS', ')', 'gets', '``', 'great', 'performances', \"''\", 'out', 'of', 'a', 'ton', 'of', 'hams', 'in', 'their', 'debuts', '.', 'Lots', 'of', 'teenage', 'sex', 'clichés', 'come', 'out', 'of', 'this', 'movie', ',', 'such', 'as', 'Doing', 'the', 'Teacher', \"'s\", 'Wife', ',', 'Impotence', ',', 'Doing', 'the', 'Ugly', 'Prostitute', '(', 'which', 'is', 'very', 'awkwardly', 'shot', 'and', 'grinds', 'things', 'to', 'a', 'complete', 'halt', ',', 'not', 'that', 'things', 'were', 'really', 'going', 'anywhere', 'anyway', ')', 'and', 'skinny', 'dipping', '.', 'I', 'suppose', 'this', 'movie', 'is', 'supposed', 'to', 'be', 'funny', 'because', 'of', 'all', 'the', 'sex', 'nonsense', ',', 'to', 'me', ',', 'it', 'was', 'just', 'annoying', '.', 'I', 'was', 'seriously', 'much', 'more', 'entertained', 'by', 'cleaning', 'my', 'finger', 'nails', 'than', 'watching', 'this', 'mess', '.'], ['One', 'of', 'the', 'most', 'disgusting', 'films', 'I', 'have', 'ever', 'seen', '.', 'I', 'wanted', 'to', 'vomit', 'after', 'watching', 'it', '.', 'I', 'saw', 'this', 'movie', 'in', 'my', 'American', 'History', 'class', 'and', 'the', 'purpose', 'was', 'to', 'see', 'an', 'incite', 'on', 'the', 'life', 'of', 'a', 'farmer', 'in', 'the', 'West', 'during', 'the', 'late', '1800', \"'s\", '.', 'What', 'we', 'saw', 'were', 'pigs', 'being', 'shot', 'and', 'then', 'slaughtered', ',', 'human', 'birth', ',', 'branding', '.', 'Oh', 'and', 'at', 'the', 'end', 'there', 'was', 'a', 'live', 'birth', 'of', 'a', 'calf', 'and', 'let', 'me', 'tell', 'you', 'that', 'the', 'birth', 'itself', 'was', \"n't\", 'too', 'bad', ',', 'but', 'the', 'numerous', 'fluids', 'that', 'came', 'out', 'drove', 'most', 'people', 'in', 'my', 'class', 'to', 'the', 'bathroom', '.', 'The', 'story', 'itself', 'was', 'OK', '.', 'The', 'premise', 'of', 'the', 'story', 'is', 'a', 'widow', 'and', 'her', 'daughter', 'and', 'they', 'move', 'to', 'the', 'west', 'to', 'be', 'a', 'house', 'keeper', 'of', 'this', 'cowboy', '.', 'They', 'live', 'a', 'life', 'of', 'hardship', 'and', 'it', 'is', 'an', 'interesting', 'a', 'pretty', 'accurate', 'view', 'of', 'life', 'in', 'the', 'West', 'during', 'the', 'late', '1800', \"'s\", '.', 'But', 'if', 'you', 'have', 'a', 'choice', ',', 'do', 'not', 'see', 'this', 'movie', '.'], ['I', 'was', 'lying', 'on', 'my', 'bed', ',', 'with', 'a', 'really', 'bad', 'cold', 'or', 'flu', 'or', 'whatever', '.', 'I', 'figure', 'maybe', 'I', \"'d\", 'kill', 'some', 'time', 'watching', 'some', 'horror', 'movies', 'my', 'mom', 'bought', 'for', 'me', 'a', 'little', 'while', 'ago', '.', 'I', 'wish', 'I', 'never', 'picked', 'this', 'movie', '!', 'After', 'I', 'watched', 'it', 'I', 'felt', 'even', 'more', 'sick', 'and', 'I', 'wanted', 'to', 'throw', 'up', '.', 'Afterwords', '(', 'when', 'I', 'got', 'better', 'of', 'course', ')', 'I', 'did', 'some', 'research', 'on', 'Dennis', 'L.Rader', 'and', 'I', 'noticed', 'that', 'the', 'Dennis', 'in', 'the', 'movie', 'was', 'nothing', 'like', 'the', 'real', 'one', '.', 'I', 'hope', 'that', 'no', 'one', 'ever', 'watches', 'this', 'movie', 'but', 'if', 'they', 'ever', 'do', 'do', \"n't\", 'eat', 'or', 'you', \"'ll\", 'feel', 'the', 'way', 'I', 'felt', 'after', 'I', 'first', 'watched', 'it', '.', 'I', 'think', 'you', 'would', 'have', 'a', 'better', 'time', 'watching', 'The', 'Santa', 'Claus', '3', '.', 'At', 'least', 'that', 'movie', 'had', 'better', 'reviews', 'on', 'this', 'site', '.'], ['I', 'was', 'looking', 'for', 'a', 'cute', ',', 'simple', 'comedy', 'to', 'pass', 'the', 'time', 'but', 'choosing', 'this', 'film', 'proved', 'to', 'be', 'an', 'enormous', 'mistake', '.', 'I', 'ca', \"n't\", 'write', 'a', 'single', 'good', 'thing', 'about', 'it', '.', 'First', ',', 'the', 'script', 'is', 'stupid', 'and', 'not', 'funny', 'at', 'all', ',', 'relying', 'on', 'tired', ',', 'recycled', 'jokes', 'and', 'a', 'farting', 'turtle', 'for', 'laughs', '.', 'In', 'my', 'book', ',', 'that', \"'s\", 'not', 'funny', ',', 'that', \"'s\", 'pathetic', '.', 'Low', 'budget', \"'effects\", \"'\", '(', 'if', 'I', 'can', 'even', 'call', 'them', 'effects', ')', 'with', 'horrible', 'cinematography', '.', 'In', 'many', 'places', 'it', 'feels', 'almost', 'like', 'an', 'indie', 'film', 'shot', 'with', 'no', 'money', '.', 'Acting', '...', 'I', 'feel', 'sorry', 'for', 'the', 'actors', '.', 'Are', 'Pamela', 'Anderson', 'and', 'Denise', 'Richards', 'that', 'desperate', 'for', 'some', 'money', 'that', 'they', \"'ve\", 'agreed', 'to', 'take', 'part', 'in', 'this', '?', '(', 'looking', 'at', 'their', 'recent', 'filmography', ',', 'it', 'would', 'appear', 'so', '.', ')', 'Despite', 'the', 'outfits', ',', 'Pamela', 'is', 'showing', 'her', 'age', 'and', 'as', 'a', 'whole', ',', 'they', 'do', \"n't\", 'even', 'come', 'across', 'as', 'sexy', ',', 'let', 'alone', 'funny', '.', 'This', 'movie', 'is', 'not', 'even', 'in', 'the', 'so-bad-it-is-funny', 'category', '.', 'It', \"'s\", 'just', 'bad', ',', 'as', 'if', 'everybody', 'involved', 'was', 'sick', 'of', 'it', '.', 'Avoid', '.'], ['This', 'is', 'simply', 'put', ',', 'the', 'worst', 'movie', 'I', 'have', 'ever', 'seen', '.', 'It', 'ranges', 'from', 'like', '2+', 'hours', ',', 'and', 'the', 'box', 'art', 'was', 'totally', 'misleading', '.', 'My', 'friends', 'and', 'I', 'rented', 'it', 'because', ',', 'we', 'thought', 'it', 'would', 'be', 'a', 'poor', 'man', \"'s\", '300', '.', 'You', 'know', ',', 'to', 'laugh', 'at', 'and', 'make', 'fun', 'of', '.', 'No', '.', 'There', 'is', 'nothing', 'funny', 'about', 'this', 'movie', ',', 'only', 'pain', '.', 'Then', ',', 'the', 'movie', 'starts', 'up', ',', 'and', 'they', 'are', 'speaking', 'some', 'sort', 'of', 'different', 'language', '.', 'We', 'think', ',', \"'Oh\", 'its', 'just', 'the', 'beginning', '.', \"'\", 'But', 'no', ',', 'from', 'there', 'the', 'movie', 'plummets', 'and', 'becomes', 'more', 'of', 'like', 'a', 'super', 'boring', 'book', 'you', 'had', 'to', 'read', 'in', 'grade', 'school', ',', 'where', 'nothing', 'literally', 'happens', 'for', 'hours', ',', 'and', 'the', 'battle', 'scenes', 'rival', 'those', 'of', '2', 'kids', 'fighting', 'on', 'a', 'playground', '.', 'Omit', 'Cinematography', ',', 'and', 'this', 'movie', 'belongs', 'in', 'trash', 'compactor', '.', 'Movies', 'like', 'this', 'will', 'lead', 'to', 'the', 'world', 'we', 'see', 'in', 'Wall-E', ',', 'which', 'by', 'the', 'way', 'was', 'a', 'good', 'movie', '.'], ['*SOILER*', 'It', \"'s\", 'fake', '!', 'The', 'whole', 'thing', 'is', 'a', 'fake', '!', 'There', 'is', 'no', 'ghosts', 'or', 'zombies', ',', 'Alan', 'is', 'a', 'Lord', 'and', 'his', 'cousin', 'or', 'brother', 'or', 'half', 'brother', 'or', 'something', 'like', 'that', 'wants', 'the', 'castle', 'and', 'his', 'title', 'for', 'himself', '.', 'So', 'he', 'invests', 'this', 'overly', 'complicated', 'and', 'needless', 'pointless', 'plan', 'ala', 'SCOOBY-DOO', 'to', 'drive', 'Alan', 'to', 'commit', 'suicide', '.', 'Most', 'of', 'the', 'movie', 'is', 'him', 'picking', 'up', 'redheads', 'and', 'attacking', 'them', '.', 'He', \"'s\", 'not', 'even', 'killing', 'them', '.', 'He', 'drops', 'off', 'to', 'sleep', 'and', 'the', 'girl', 'vanishes', 'and', 'he', 'thinks', 'he', 'buried', 'them', 'someplace', '.', 'If', 'he', 'looked', 'at', 'the', 'so-called', 'ghost', 'of', 'Evelyn', ',', 'he', 'could', 'tell', 'she', 'was', 'wearing', 'gloves', '!', 'My', 'God', 'what', 'a', 'waste', 'of', 'time', '.', 'Do', \"n't\", 'bother', 'watching', 'it', ',', 'renting', 'and', 'if', 'you', 'bought', 'it', 'and', 'have', \"n't\", 'watched', 'it', 'yet', ',', 'sell', 'it', '.', 'Quickly', '!', 'Do', 'yourself', 'a', 'favor', 'and', 'stay', 'away', 'from', 'THE', 'NIGHT', 'EVELYN', 'CAME', 'OUT', 'OF', 'THE', 'GRAVE', '.', 'I', 'give', 'this', 'stinker', 'the', 'CRAP-O-LANTERN', '.'], ['Yep', ',', 'lots', 'of', 'shouting', ',', 'screaming', ',', 'cheering', ',', 'arguing', ',', 'celebrating', ',', 'fist', 'clinching', ',', 'high', 'fiving', '&', 'fighting', '.', 'You', 'have', 'a', 'general', 'idea', 'as', 'to', 'why', ',', 'but', 'can', 'never', 'be', '100', '%', 'certain', '.', 'A', 'naval', 'knowledge', 'would', 'be', 'an', 'advantage', 'for', 'the', 'finer', 'points', ',', 'but', 'then', 'you', \"'d\", 'probably', 'spot', 'the', 'many', 'flaws', '.', 'Not', 'an', 'awful', 'film', '&', 'Hackman', '&', 'Washington', 'are', 'their', 'usual', 'brilliant', ',', 'but', 'the', 'plot', 'was', 'one', 'you', 'could', 'peg', 'pretty', 'early', 'on', '.', 'I', \"'m\", 'still', 'waiting', 'to', 'see', 'a', 'submarine', 'film', 'where', 'people', 'get', 'on', 'with', 'each', 'other', '&', 'do', \"n't\", 'argue', ',', 'but', 'then', 'you', 'probably', 'would', \"n't\", 'have', 'a', 'film', '.', '4/10'], ['Where', 'the', 'hell', 'are', 'all', 'these', 'uncharted', 'islands', 'where', 'prehistoric', 'monsters', 'lurk', ',', 'evil', 'doctors', 'perform', 'their', 'experiments', ',', 'madmen', 'hold', 'the', 'ultimate', 'karate', 'championship', ',', 'and', 'the', 'uber-rich', 'hunt', 'humans', 'for', 'sport', '?', 'I', 'had', 'no', 'idea', 'there', 'were', 'still', 'so', 'many', 'uncharted', 'islands', 'out', 'there', ',', 'but', 'if', 'you', 'take', 'into', 'account', 'the', 'number', 'of', 'movies', 'that', 'utilize', 'one', 'of', 'these', 'mysterious', 'islands', 'as', 'a', 'location', ',', 'you', \"'d\", 'have', 'to', 'assume', 'that', 'there', 'are', 'at', 'least', '50', 'of', 'these', 'suckers', 'out', 'there', '.', 'It', 'always', 'winds', 'up', 'feeling', 'so', 'damned', 'convenient', 'and', 'I', 'immediately', 'deduct', 'points', 'from', 'any', 'movie', 'that', 'uses', 'this', 'hackneyed', 'device', '.', 'Hammerhead', 'is', 'the', 'story', 'of', 'a', 'mad', 'scientist', 'who', 'is', 'conducting', 'experiments', 'on', 'one', 'of', 'these', 'uncharted', 'islands', ',', 'so', 'the', 'movie', 'already', 'had', 'a', 'lot', 'to', 'make', 'up', 'for', 'before', 'it', 'even', 'began', '.', 'The', 'island', 'in', 'this', 'movie', 'used', 'to', 'belong', 'to', 'Dr.', 'Moreau', ',', 'but', 'has', 'recently', 'been', 'purchased', 'by', 'the', 'Re-Animator', 'himself', ',', 'Jeffrey', 'Combs', '.', 'Old', 'Jeffrey', 'is', 'doing', 'some', 'kind', 'of', 'cutting', 'edge', 'stem', 'cell', 'research', ',', 'which', 'has', 'led', 'him', 'to', 'start', 'working', 'with', 'sharks', 'while', 'searching', 'for', 'a', 'cure', 'for', 'cancer', '.', 'If', 'that', 'sounds', 'familiar', ',', 'that', \"'s\", 'because', 'this', 'is', 'roughly', 'the', 'same', 'basic', 'set-up', 'as', 'the', 'smart', 'shark', 'facility', 'in', 'Deep', 'Blue', 'Sea', ',', 'not', 'to', 'mention', 'a', 'host', 'of', 'other', 'Nu', 'Image', 'movies', '.', 'So', 'apparently', ',', 'Jeffrey', \"'s\", 'son', 'was', 'dying', 'of', 'cancer', 'which', 'prompted', 'our', 'mad', 'doctor', 'to', 'start', 'experimenting', 'on', 'his', 'progeny', '.', 'He', 'did', 'some', 'kind', 'of', 'super', 'fancy', 'gene', 'splicing', 'and', 'so', 'forth', ',', 'turning', 'his', 'son', 'into', 'a', 'shark-man', '.', 'William', 'Forsythe', 'leads', 'a', 'crew', 'of', 'unknown', 'actors', 'to', 'the', 'island', 'to', 'look', 'into', 'the', 'doctor', \"'s\", 'experiments', '.', 'If', 'someone', 'would', 'have', 'given', 'him', 'a', 'sailor', \"'s\", 'hat', ',', 'William', 'would', 'have', 'been', 'a', 'dead', 'ringer', 'for', 'the', 'Skipper', 'from', 'Gilligan', \"'s\", 'Island', '.', 'In', 'typical', 'Bond', 'Villain', 'fashion', ',', 'the', 'doctor', 'decides', 'that', 'all', 'of', 'these', 'intruders', 'would', 'make', 'nice', 'chum', 'for', 'his', 'son', '.', 'Not', 'chums', ',', 'like', 'buddies', '...', 'chum', ',', 'like', 'shark', 'food', '.', 'So', 'enter', 'shark-boy', 'who', 'starts', 'stalking', 'the', 'Skipper', 'and', 'his', 'cohorts', 'all', 'over', 'the', 'island', '.', 'They', ',', 'of', 'course', ',', 'make', 'half-hearted', 'attempts', 'to', 'escape', 'and', 'are', 'thwarted', 'over', 'and', 'over', 'again', 'while', 'being', 'chased', 'by', 'a', 'guy', 'in', 'a', 'rubber', 'shark-man', 'suit', '.', 'The', 'movie', 'did', \"n't\", 'make', 'up', 'any', 'of', 'the', 'points', 'that', 'it', 'lost', 'for', 'taking', 'place', 'on', 'one', 'of', 'those', 'dastardly', 'deserted', 'islands', '.', 'It', \"'s\", 'funny', 'that', 'this', 'movie', 'is', 'called', 'Hammerhead', ',', 'it', 'made', 'me', 'think', 'of', 'an', 'old', 'joke', '.', 'Why', 'do', 'you', 'hit', 'yourself', 'in', 'the', 'head', 'with', 'a', 'hammer', '?', 'Because', 'it', 'feels', 'so', 'good', 'when', 'you', 'stop', '.', 'That', \"'s\", 'pretty', 'much', 'how', 'this', 'movie', 'is', '.', 'The', 'only', 'reason', 'to', 'watch', 'it', 'is', 'because', 'it', 'feels', 'so', 'good', 'when', 'it', \"'s\", 'over', '.'], ['Harold', 'Pinter', 'rewrites', 'Anthony', 'Schaeffer', \"'s\", 'classic', 'play', 'about', 'a', 'man', 'going', 'to', 'visit', 'the', 'husband', 'of', 'his', 'lover', 'and', 'having', 'it', 'all', 'go', 'sideways', '.', 'The', 'original', 'film', 'starred', 'Laurence', 'Olivier', 'and', 'Michael', 'Caine', '.', 'Caine', 'has', 'the', 'Olivier', 'role', 'in', 'this', 'version', 'and', 'he', \"'s\", 'paired', 'with', 'Jude', 'Law', '.', 'Here', 'the', 'film', 'is', 'directed', 'by', 'Kenneth', 'Branaugh', '.', 'The', 'acting', 'is', 'spectacular', '.', 'Both', 'Caine', 'and', 'Law', 'are', 'gangbusters', 'in', 'their', 'respective', 'roles', '.', 'I', 'really', 'like', 'the', 'chemistry', 'and', 'the', 'clashing', 'of', 'personalities', '.', 'It', \"'s\", 'wonderful', 'and', 'enough', 'of', 'a', 'reason', 'to', 'watch', 'when', 'the', 'script', \"'s\", 'direction', 'goes', 'haywire', '.', 'Harold', 'Pinter', \"'s\", 'dialog', 'is', 'crisp', 'and', 'sharp', 'and', 'often', 'very', 'witty', 'and', 'I', 'understand', 'why', 'he', 'was', 'chosen', 'to', 'rewrite', 'the', 'play', '(', 'which', 'is', 'updated', 'to', 'make', 'use', 'of', 'surveillance', 'cameras', 'and', 'the', 'like', ')', '.The', 'problem', 'is', 'that', 'how', 'the', 'script', 'moves', 'the', 'characters', 'around', 'is', 'awful', '.', 'Michale', 'Caine', 'walks', 'Law', 'through', 'his', 'odd', 'modern', 'house', 'with', 'sliding', 'doors', 'and', 'panels', 'for', 'no', 'really', 'good', 'reason', '.', 'Conversations', 'happen', 'repeatedly', 'in', 'different', 'locations', '.', 'I', 'know', 'Pinter', 'has', 'done', 'that', 'in', 'his', 'plays', ',', 'but', 'in', 'this', 'case', 'it', 'becomes', 'tedious', '.', 'Why', 'do', 'we', 'need', 'to', 'have', 'the', 'pair', 'go', 'over', 'and', 'over', 'and', 'over', 'the', 'fact', 'that', 'Law', 'is', 'sleeping', 'with', 'Caine', \"'s\", 'wife', '?', 'It', 'would', 'be', 'okay', 'if', 'at', 'some', 'point', 'Law', 'said', 'enough', 'we', \"'ve\", 'done', 'this', ',', 'but', 'he', 'does', \"n't\", 'he', 'acts', 'as', 'if', 'each', 'time', 'is', 'the', 'first', 'time', '.', 'The', 'script', 'also', 'does', \"n't\", 'move', 'Caine', 'through', 'his', 'manipulation', 'of', 'Law', 'all', 'that', 'well', '.', 'To', 'begin', 'with', 'he', \"'s\", 'blindly', 'angry', 'to', 'start', 'so', 'he', 'has', 'no', 'chance', 'to', 'turn', 'around', 'and', 'scare', 'us', '.', '(', 'Never', 'mind', 'a', 'late', 'in', 'the', 'game', 'revelation', 'that', 'makes', 'you', 'wonder', 'why', 'he', 'bothered', ')', 'In', 'the', 'original', 'we', 'never', 'suspected', 'what', 'was', 'up', '.', 'here', 'we', 'do', 'and', 'while', 'it', 'gives', 'an', 'edge', 'it', 'also', 'somehow', 'feels', 'false', 'since', 'its', 'so', 'clear', 'we', 'are', 'forced', 'to', 'wonder', 'why', 'Law', \"'s\", 'Milo', 'does', \"n't\", 'see', 'he', \"'s\", 'being', 'set', 'up', '.', 'There', 'are', 'a', 'few', 'other', 'instances', 'but', 'to', 'say', 'more', 'would', 'give', 'away', 'too', 'much', '.', 'Thinking', 'about', 'the', 'film', 'in', 'retrospect', 'I', 'think', 'its', 'a', 'film', 'of', 'missed', 'opportunities', 'and', 'missteps', '.', 'The', 'opportunities', 'squandered', 'are', 'the', 'chance', 'to', 'have', 'better', 'fireworks', 'between', 'Caine', 'and', 'Law', '.', 'Missteps', 'in', 'that', 'the', 'choice', 'of', 'a', 'garish', 'setting', 'and', 'odd', 'shifts', 'in', 'plot', 'take', 'away', 'from', 'the', 'creation', 'of', 'a', 'tension', 'and', 'a', 'believable', 'thriller', '.', 'Instead', 'we', 'get', 'some', 'smart', 'dialog', 'and', 'great', 'performances', 'in', 'a', 'film', 'that', 'does', \"n't\", 'let', 'them', 'be', 'real', '.', 'despite', 'some', 'great', 'performances', 'and', 'witty', 'dialog', 'this', 'is', 'only', 'a', '4', 'out', 'of', '10', 'because', 'the', 'rest', 'of', 'the', 'script', 'just', 'does', \"n't\", 'work'], ['Just', 'imagine', 'the', 'real', 'Hitler', ',', 'who', 'was', 'a', 'master', 'of', 'propaganda', 'and', 'speech', ',', 'would', 'have', 'been', 'such', 'a', 'mumbling', 'moron', 'as', 'Carlyle', 'portrayed', 'him', 'in', 'this', 'film', '.', 'Nobody', 'would', 'have', 'followed', 'him', ',', 'not', 'even', 'a', 'desperate', ',', 'unemployed', 'guy', 'in', 'the', '1920s', '.', 'This', 'is', 'just', 'a', 'Hollywood', 'cardboard', 'piece', 'of', 'propaganda', 'itself', ',', 'disguised', 'as', '``', 'true', 'history', \"''\", '.', 'I', 'pity', 'everyone', 'who', 'actually', 'believed', 'anything', 'from', 'this', 'show', '.', 'Carlyle', 'and', 'the', 'producers', 'did', \"n't\", 'get', 'anything', 'right', 'with', 'this', '.', 'Why', 'was', 'Hitler', 'able', 'to', 'win', 'so', 'many', 'people', ',', 'a', 'whole', 'county', 'for', 'his', 'ideas', 'if', 'we', 'was', 'such', 'a', 'sausage', '?', 'Why', 'did', 'people', 'follow', 'him', 'to', 'death', '?', 'By', 'portraying', 'him', 'as', 'such', 'a', 'loser', 'they', 'make', 'their', 'own', 'film', 'totally', 'unbelievable', '.', 'This', 'film', 'is', 'a', 'mixture', 'of', 'old', 'WW2', 'propaganda', 'and', 'MTV', 'urban', 'myths', 'about', 'one', 'of', 'the', 'most', 'important', 'persons', 'of', 'the', 'last', 'century', '.', 'Imagine', 'a', 'film', 'about', 'Churchill', 'where', 'the', 'director', 'only', 'shows', 'him', 'as', 'a', 'drunkard', 'for', '90', 'mins', '.', 'This', 'film', 'is', 'a', 'disgrace', 'and', 'I', 'wonder', 'how', 'they', 'could', 'talk', 'an', 'actor', 'like', 'Carlyle', 'into', 'this', 'dreck', '.'], ['Actually', ',', 'this', 'is', 'a', 'lie', ',', 'Shrek', '3-D', 'was', 'actually', 'the', 'first', '3d', 'animated', 'movie', '.', 'I', 'bought', 'it', 'on', 'DVD', 'about', '3', 'years', 'ago', '.', 'Did', \"n't\", 'Bug', \"'s\", 'Life', 'also', 'do', 'that', '?', 'I', 'think', 'it', 'was', 'at', 'Disneyworld', 'in', 'that', 'tree', ',', 'so', 'I', \"'m\", 'saying', 'before', 'they', 'go', 'and', 'use', 'that', 'as', 'there', 'logo', '.', 'Also', ',', 'Shrek', '3d', 'was', 'a', 'motion', 'simulator', 'at', 'Universal', 'Studios', '.', 'They', 'should', 'still', 'consider', 'it', 'as', 'a', 'movie', ',', 'because', 'it', 'appeared', 'in', 'a', '``', 'theater', \"''\", 'and', 'you', 'could', 'buy', 'it', 'for', 'DVD', '.', 'The', 'movie', 'was', 'cute', ',', 'at', 'least', 'the', 'little', 'flyes', 'were', '.', 'I', 'liked', 'IQ', '.', 'I', 'agree', 'with', 'animaster', ',', 'they', 'did', 'a', 'god', 'job', 'out', 'of', 'making', 'a', 'movie', 'out', 'of', 'something', 'that', 'is', 'just', 'a', 'out-and-back', 'adventure', '.', 'I', 'recommend', 'it', 'to', 'families', 'and', 'kids', '.'], ['Avoid', 'this', 'one', ',', 'unless', 'you', 'want', 'to', 'watch', 'an', 'expensive', 'but', 'badly', 'made', 'movie', '.', 'Example', '?', 'The', 'sound', 'is', 'good', 'but', 'the', 'dialogue', 'is', 'not', 'clear', '-', 'a', 'cardinal', 'sin', 'in', 'a', 'French', 'film', '.', 'This', 'film', 'attempts', 'to', 'combine', 'western', ',', 'drug', 'intrigue', 'and', 'ancien', 'regime', 'costume', 'epic', '.', 'What', '?', 'Well', ',', 'consider', 'this', '.', 'The', 'cowboy', 'music', 'is', 'hilarious', 'during', 'sword', 'fights', '.', 'Or', 'how', 'about', 'the', 'woman', 'in', 'her', 'underwear', ',', 'holding', 'a', 'knife', 'and', 'jumping', 'up', 'and', 'down', 'on', 'the', 'bed', '?', 'Someone', 'should', 'do', 'a', \"'What\", \"'s\", 'Up', 'Tiger', 'Lily', \"'\", 'on', 'this', 'bomb', '.', 'Rewrite', 'the', 'script', 'and', 'then', 'either', 'dub', 'or', 'subtitle', 'it', '.', 'Heck', ',', 'it', \"'s\", 'almost', 'that', 'now', '.', '(', 'BTW', ',', 'Gerard', 'Depardieu', 'and', 'Carole', 'Bouquet', ',', 'both', 'known', 'to', 'American', 'audiences', ',', 'have', 'roles', '.', ')'], ['Watching', '``', 'Speak', 'Easily', \"''\", 'is', 'painful', 'for', 'fans', 'of', 'Buster', 'Keaton', '.', 'Seeing', 'such', 'a', 'phenomenal', 'writer', ',', 'actor', ',', 'comic', ',', 'director', ',', 'and', 'stunt', 'man', 'subjected', 'to', 'this', 'humiliating', 'spectacle', 'is', 'like', 'seeing', 'a', 'Picasso', 'used', 'as', 'a', 'drop', 'cloth', ',', 'or', 'perhaps', 'more', 'like', 'seeing', 'the', 'finest', 'Camembert', 'adulterated', 'with', 'whey', 'solids', 'and', 'processed', 'into', 'Cheez-Whiz', '.', 'Keaton', 'is', 'ill-cast', 'as', 'Professor', 'Post', ',', 'whose', 'overblown', 'vocabulary', 'is', 'the', 'only', 'thing', 'keeping', 'him', 'from', 'saying', ',', '``', 'Tell', 'me', 'about', 'the', 'rabbits', ',', 'George', '.', \"''\", '(', 'Post', 'would', 'have', 'said', 'something', 'like', ',', '``', 'Kindly', 'inform', 'me', 'as', 'to', 'the', 'status', 'of', 'the', 'small', 'mammals', 'in', 'the', 'family', 'Leporidae', 'of', 'the', 'order', 'Lagomorpha', ',', 'kind', 'sir', ',', 'who', 'I', 'believe', 'is', 'primarily', 'addressed', 'with', 'the', 'epithet', \"'George\", \"'\", '.', \"''\", ')', 'When', 'Keaton', 'created', 'his', 'own', 'characters', ',', 'they', 'might', 'be', 'situationally', 'clueless', 'but', 'they', 'were', \"n't\", 'stupid', '.', 'They', 'were', 'quick', 'studies', 'and', 'became', 'masters', 'of', 'their', 'worlds', '.', 'Not', 'so', 'with', 'Post', ',', 'who', 'never', 'stops', 'stumbling', 'and', 'bumbling', 'and', 'who', 'who', 'has', 'no', 'more', 'control', 'of', 'his', 'destiny', 'than', 'a', 'bilge', 'rat', 'had', 'of', 'the', 'Titanic', '.', 'And', 'while', 'Keaton', \"'s\", 'original', 'characters', 'had', 'a', 'charming', 'naiveté', 'and', 'innocence', ',', 'Post', 'comes', 'across', 'as', 'such', 'a', 'profound', 'sexual', 'retardate', 'that', 'if', 'he', 'ever', 'did', 'become', 'physically', 'aroused', ',', 'he', \"'d\", 'put', 'an', 'ice', 'bag', 'on', 'the', 'swelling', 'and', 'seek', 'medical', 'help', '.', 'There', 'are', 'a', 'couple', 'of', 'small', ',', 'redeeming', 'moments', ',', 'such', 'as', 'Keaton', \"'s\", 'attempts', 'to', 'get', 'rid', 'of', 'the', 'vampish', 'Thema', 'Todd', 'or', 'his', 'suggestion', 'as', 'to', 'appropriate', 'attire', 'for', 'a', 'Greek', 'dance', ',', 'but', 'it', \"'s\", 'just', 'not', 'worth', 'enduring', 'the', 'entire', 'film', 'to', 'see', 'them', '.', 'If', 'you', \"'re\", 'a', 'fan', 'of', 'bad', 'movies', ',', 'get', 'drunk', 'and', 'watch', '``', 'Speak', 'Easily', \"''\", 'with', 'friends', ',', 'a', 'la', '``', 'Mystery', 'Science', 'Theater', '3000', \"''\", '.', 'But', 'other', 'than', 'that', ',', 'stick', 'with', 'the', 'silents', '.', 'Let', 'them', 'be', '100', '%', 'of', 'what', 'Buster', 'Keaton', 'is', 'remembered', 'for', '.'], ['I', 'was', 'in', 'physical', 'pain', 'watching', 'the', 'eyes', 'of', 'the', 'cast', 'as', 'they', 'participated', 'in', 'this', 'sham', '.', 'Bad', 'dialogue', ',', 'worse', '(', 'worst', ')', 'acting', ',', 'lifeless', 'all', 'the', 'way', ',', 'and', 'the', 'cast', 'knew', 'it', '.', 'The', 'two', 'preceding', 'movies', 'which', 'this', 'attempted', 'to', 'copy', 'had', 'life', ',', 'sparkle', ',', 'and', 'were', 'captivating', '.'], ['I', 'was', 'at', 'this', 'film', \"'s\", 'premiere', 'at', 'the', 'Toronto', 'Film', 'Festival', 'in', '1997', '.', 'After', 'the', 'screening', ',', 'when', 'the', 'writer/director', 'and', 'some', 'cast', 'members', 'offered', 'to', 'answer', 'questions', ',', 'no', 'one', 'could', 'even', 'be', 'bothered', 'to', 'ask', 'any', '.', 'Rarely', 'has', 'a', 'film', 'been', 'so', 'poorly', 'directed', '(', 'why', 'on', 'earth', 'were', 'random', 'frames', 'snipped', 'out', 'of', 'some', 'scenes', '?', ')', ',', 'wretchedly', 'acted', '(', 'David', 'Arquette', ',', 'to', 'paraphrase', 'Dorothy', 'Parker', ',', 'does', 'not', 'run', 'the', 'emotional', 'gamut', 'from', 'A', 'to', 'B', '.', 'He', 'parks', 'at', 'A', 'and', 'brings', 'a', 'lunch', ')', 'and', 'utterly', 'pointless', '.', 'Characters', 'behave', 'completely', 'out', 'of', 'character', 'for', 'no', 'reason', 'except', 'to', 'force', 'the', 'plot', 'to', 'move', 'in', 'certain', 'directions', '.', 'At', 'long', 'last', ',', 'the', 'film', 'comes', 'to', 'a', 'completely', 'random', 'and', 'pointless', 'end', 'that', \"'s\", 'supposed', 'to', '``', 'really', 'make', 'you', 'think', '.', \"''\", 'Unfortunately', ',', 'what', 'it', 'makes', 'you', 'think', 'is', ',', '``', 'Well', ',', 'there', \"'s\", '90', 'minutes', 'of', 'my', 'life', 'I', \"'m\", 'never', 'getting', 'back', '.', \"''\"], ['Without', 'effective', 'indulgence', 'of', 'the', 'supernatural', 'or', 'the', 'poetic', 'motivating', 'nuances', 'of', 'humanity', ',', 'all', 'this', 'creative', 'team', 'has', 'to', 'hope', 'for', 'is', 'effective', 'usage', 'of', 'its', 'middling', ',', 'unoriginal', 'elements', '.', \"'Party\", 'of', 'Five', \"'\", 'gone', 'maniacal', 'then', 'genetically', 'unescapable', 'there', \"'s\", 'little', 'rooting', 'interest', 'because', 'the', 'singular', 'non-homicidal', 'element', 'is', 'a', 'second-rate', 'bland', 'awful-acting', \"'Wes\", 'Bentley', \"'\", 'mopester', '.', 'In', 'fact', ',', 'all', 'of', 'the', 'acting', 'is', 'skin', 'deep', '.', 'Even', 'though', 'the', 'dark-haired', 'women', 'appeal', ',', 'the', 'salaciousness', 'is', 'kept', 'to', 'a', 'minimum', '.', 'No', 'nudity', 'here', '.', 'Also', 'lacking', 'are', 'sufficient', 'buckets', 'of', 'blood', '.', 'All', 'sensations', 'are', 'kept', 'at', 'a', 'teasing', ',', 'safe', 'distance', '...', 'an', 'unfortunate', 'fact', 'considering', 'the', 'given', 'name', 'of', 'the', 'directors', 'is', \"'butcher\", '.', \"'\", 'Only', 'the', 'soundtrack', ',', 'the', 'droning', 'angsty', 'alt-country', 'and', 'the', 'tense', 'fluctuating', 'score', 'provide', 'any', 'palpable', 'tension', '.', 'Sometimes', 'some', 'static', 'storyboarded', 'compositions', 'add', 'appealing', 'low-angles', 'that', 'adds', 'to', 'the', 'malaise', '...', 'but', 'for', 'a', 'film', 'that', 'calls', 'itself', 'horror', ',', 'I', 'did', 'not', 'even', 'get', 'close', 'to', 'flinching', 'once', '.', 'Perhaps', 'a', 'greater', 'emphasis', 'on', 'societal', 'rejuvenation', 'through', 'blood', 'intake', ',', 'scenes', 'directed', 'with', 'varying', 'geometric', 'shapes', 'outside', 'the', 'square', ',', 'and', 'a', 'sustained', 'focus', 'on', 'playfulness', 'through', 'the', 'family', \"'s\", 'maliciousness', 'or', 'traps', 'sympathetic', 'characters', 'need', 'to', 'escape', 'in', 'order', 'to', 'escape', 'their', 'dilemma', 'would', 'have', 'improved', 'my', 'opinion', ',', 'but', 'this', 'was', 'not', 'a', 'good', 'start', 'to', 'my', 'excursion', 'through', 'horrorfest', '.'], ['Looked', 'forward', 'to', 'viewing', 'this', 'film', 'and', 'seeing', 'these', 'great', 'actors', 'perform', '.', 'However', ',', 'I', 'was', 'sadly', 'disappointed', 'in', 'the', 'script', 'and', 'the', 'entire', 'plot', 'of', 'the', 'story', '.', 'David', 'Duchovny', ',', '(', 'Dr.', 'Eugene', 'Sands', ')', ',', \"''\", 'Connie', '&', 'Carla', \"''\", ',', \"'04\", ',', 'was', 'the', 'doctor', 'in', 'the', 'story', 'who', 'uses', 'drugs', 'and', 'losses', 'his', 'license', 'to', 'practice', 'medicine', '.', 'Dr.', 'Sands', 'was', 'visiting', 'a', 'night', 'club', 'and', 'was', 'able', 'to', 'use', 'his', 'medical', 'experience', 'to', 'help', 'a', 'wounded', 'customer', 'and', 'was', 'assisted', 'by', 'Angelina', 'Jolie', ',', '(', 'Claire', ')', ',', \"''\", 'Taking', 'Lives', \"''\", ',', \"'04\", ',', 'who', 'immediately', 'becomes', 'attracted', 'to', 'Dr.', 'David', 'Sands', '.', 'Timothy', 'Hutton', ',', '(', 'Raymond', 'Blossom', ')', ',', \"''\", 'Kinsey', \"''\", ',', \"'04\", ',', 'plays', 'the', 'Big', 'Shot', 'Gangster', 'and', 'a', 'man', 'with', 'all', 'kinds', 'of', 'money', 'and', 'connections', '.', 'Timothy', 'Hutton', 'seems', 'to', 'over', 'act', 'in', 'most', 'of', 'the', 'scenes', 'and', 'goes', 'completely', 'out', 'of', 'his', 'mind', 'trying', 'to', 'keep', 'his', 'gang', 'members', 'from', 'being', 'killed', '.', 'Gary', 'Dourdan', ',', '(', 'Yates', ')', ',', \"''\", 'CSI-Vegas', 'TV', 'Series', \"''\", ',', 'plays', 'a', 'great', 'supporting', 'role', 'and', 'portrays', 'a', 'real', 'COOL', 'DUDE', 'who', 'is', 'a', 'so-called', 'body', 'guard', 'for', 'Raymond', 'Blossom', '.', 'Angelina', 'Jolie', 'looks', 'beautiful', 'and', 'sexy', 'with', 'her', 'ruby', 'red', 'lips', 'which', 'draws', 'a', 'great', 'deal', 'of', 'attention', 'from', 'all', 'the', 'men', '.', 'This', 'film', 'is', 'not', 'the', 'greatest', ',', 'but', 'it', 'does', 'entertain', '.'], ['This', 'is', 'a', 'made-for-TV', 'and', 'rather', 'needless', 'Sci-fi', 'Channel', 'retelling', 'of', 'the', 'Beowulf', 'story', ',', 'especially', 'after', 'the', 'recent', '2005', 'film', '``', 'Beowulf', 'and', 'Grendel', \"''\", '.', 'This', 'movie', 'does', \"n't\", 'really', 'get', 'into', 'Beowulf', \"'s\", 'story', ',', 'but', 'just', 'takes', 'us', 'through', 'his', 'battle', 'against', 'the', 'ravenous', 'beast', 'known', 'as', 'Grendel', 'as', 'it', 'leaves', 'a', 'kingdom', 'in', 'absolute', 'fear', 'and', 'turmoil', 'while', 'the', 'powerful', 'viking', 'warrior', ',', 'Beowulf', 'is', 'called', 'upon', 'to', 'rid', 'them', 'of', 'the', 'monster', \"'s\", 'rampage', '.', 'If', 'this', 'is', 'successfully', 'accomplished', ',', 'the', 'king', 'will', 'no', 'longer', 'have', 'to', 'sacrifice', 'the', 'children', 'to', 'keep', 'it', 'at', 'bay', '.', 'After', 'a', 'few', 'failed', 'attempts', ',', 'the', 'creature', 'is', 'slain', ',', 'but', 'it', \"'s\", 'angry', 'and', 'vengeful', 'mother', 'soon', 'attacks', ',', 'leaving', 'it', 'up', 'to', 'Beowulf', 'to', ',', 'again', ',', 'lend', 'his', 'mighty', 'acts', 'of', 'bravery', 'and', 'strength', 'to', 'defeat', 'it', '.', '``', 'Grendel', \"''\", 'looks', 'like', 'it', 'was', 'shot', 'on', 'a', 'tiny', 'budget', 'and', 'the', 'CG', 'effects', 'are', 'terrible', '.', 'Like', 'I', 'said', ',', 'this', 'movie', 'is', 'absolutely', 'needless', '.'], ['I', 'ended', 'up', 'watching', 'The', 'Tenants', 'with', 'my', 'close', 'friends', 'who', 'rented', 'the', 'movie', 'solely', 'based', 'on', 'Snoop', 'Dogg', \"'s\", 'appearance', '(', 'a', 'passionate', 'fetish', 'of', 'theirs', ')', 'on', 'the', 'cover', '.', 'Understandably', ',', 'I', 'did', 'not', 'expect', 'much', '.', 'I', 'thought', 'the', 'movie', 'would', 'include', 'the', 'typical', 'array', 'of', 'Snoop', 'Dogg', 'related', 'behavior', 'and', 'imagery', 'often', 'seen', 'in', 'cliché', 'rap', 'videos', '.', 'However', ',', 'my', 'generalization', 'was', 'for', 'the', 'most', 'part', 'wrong', '.', 'Unfortunately', ',', 'this', 'did', \"n't\", 'make', 'the', 'movie', 'any', 'better', '.', 'Most', 'would', 'describe', 'the', 'movie', 'as', 'a', 'dark', 'serious', 'drama', ',', 'whereas', 'I', 'would', 'describe', 'it', 'as', 'a', 'dark', 'seriously', 'drawn', 'out', 'boring', 'drama', 'flick', '.', 'The', 'film', 'tells', 'a', 'story', 'of', 'two', 'struggling', 'writers', '(', 'Dylan', 'McDermott', 'and', 'Snoop', 'Dogg', ')', 'who', 'are', 'trying', 'to', 'create', 'their', 'own', 'separate', 'masterpieces', '.', 'Their', 'polar', 'opposite', 'lifestyles', 'end', 'up', 'forming', 'an', 'unlikely', 'but', 'highly', 'complex', 'and', 'neurotic', 'friendship', '.', 'This', 'friendship', 'moves', 'throughout', 'the', 'entire', 'movie', 'like', 'a', 'wild', 'roller-coaster', '-', 'most', 'of', 'which', 'is', 'contributed', 'by', 'Snoop', \"'s\", 'character', '-', 'reminiscent', 'of', 'someone', 'with', 'a', 'severe', 'case', 'of', 'split', 'personality', 'disorder', '.', 'And', 'although', 'the', 'movie', 'is', 'a', 'drama', ',', 'the', 'acting', '-', 'which', 'has', 'a', 'morbid', 'and', 'serious', 'tone', '-', 'from', 'Snoop', 'and', 'company', 'was', 'more', 'comical', 'than', 'anything', 'else', '.', 'I', 'would', \"n't\", 'recommend', 'this', 'movie', 'for', 'those', 'who', 'are', 'attention', 'impaired', 'because', 'this', 'one', 'has', 'a', 'lot', 'of', 'dialogue', 'and', 'a', 'lot', 'more', 'dialogue', 'after', 'that', '.', 'There', 'are', 'some', 'mediocre', 'conflicts', ',', 'but', 'even', 'they', 'are', 'mostly', 'bogged', 'down', 'with', 'more', 'dialogue', '.', 'The', 'end', ',', 'however', ',', 'jumped', 'at', 'me', 'with', 'a', 'sudden', 'surprise', '.', 'It', 'was', 'a', 'little', 'bit', 'twisted', ',', 'somewhat', 'unexpected', 'and', 'a', 'perfect', 'way', 'to', 'wrap', 'up', 'a', 'movie', 'that', 'needed', 'to', 'end', '.', 'While', 'watching', 'the', 'ending', 'credits', 'I', 'could', \"n't\", 'help', 'but', 'picture', 'the', 'director', 'thinking', ',', '``', 'Oh', 'God', ',', 'how', 'the', 'hell', 'do', 'I', 'end', 'this', 'snoozer', '.', \"''\", 'By', 'the', 'way', ',', 'the', 'director', 'laid', 'out', 'carefully', 'planted', 'hints', 'and', 'subtleties', 'leading', 'to', 'the', 'climax', '-', 'all', 'of', 'which', 'are', 'more', 'visible', 'than', 'Waldo', 'in', 'a', 'crowded', 'street', 'of', 'midgets', 'wearing', 'nothing', 'but', 'black', 'sweaters', '.'], ['If', 'there', 'has', 'ever', 'been', 'a', 'worse', 'comedy', 'than', \"'Gray\", 'Matters', \"'\", 'I', 'am', 'unaware', 'of', 'it', '.', 'The', 'New', 'York', 'Jewish', 'comedy', \"'s\", \"'funny\", \"'\", 'premise', 'is', 'that', 'siblings', 'Sam', '&', 'Gray', 'are', 'mistaken', 'for', 'a', 'couple', 'and', 'so', 'decide', 'to', 'fix', 'Sam', 'up', 'with', 'a', 'girlfriend', ',', 'only', 'to', 'find', 'that', 'Gray', 'is', 'equally', 'attracted', 'to', 'their', 'target', '-', 'Charlie', '.', 'The', 'revelation', 'that', 'Gray', 'is', 'secretly', 'gay', 'is', 'apparently', 'only', 'a', 'surprise', 'to', 'her', '.', 'There', 'is', 'a', 'deeply', 'offensive', 'wedding', 'sequence', ',', 'a', 'deeply', 'embarrassing', \"'drunk\", 'act', \"'\", 'from', 'Moynahan', 'and', 'Graham', ',', 'and', 'a', 'performance', 'that', 'would', 'embarrass', 'forests', 'everywhere', 'for', 'its', 'woodenness', 'from', 'Tom', 'Cavanagh', '.', 'Sissy', 'Spacek', 'demonstrates', 'a', 'complete', 'inability', 'to', 'do', 'comedy', 'and', 'will', 'want', 'this', 'excised', 'from', 'her', 'resume', '.', 'Molly', 'Shannon', 'plays', 'the', 'homely', 'friend', 'with', 'lumpen', 'insouciance', '.', 'Only', 'Alan', 'Cumming', 'emerges', 'with', 'any', 'credit', 'but', 'is', 'seriously', 'under-employed', 'and', 'given', 'nothing', 'with', 'which', 'to', 'work', '.', 'The', 'whole', 'disaster', 'is', 'cemented', 'by', 'Graham', \"'s\", 'bizarre', 'eye-rolling', 'performance', 'culminating', 'with', 'the', 'penultimate', 'scene', 'where', 'she', 'wears', 'a', 'comedy', 'hat', 'and', 'an', 'overcoat', 'despite', 'the', 'scene', 'being', 'set', 'in', 'a', 'lesbian', 'bar', '.', 'It', 'is', 'astonishing', 'that', 'this', 'film', 'was', 'ever', 'released', 'it', 'has', 'no', 'redeeming', 'feature', 'and', 'should', 'be', 'avoided', 'at', 'all', 'costs', '.'], ['This', 'seems', 'like', 'one', 'of', 'those', 'movies', 'that', 'we', 'think', 'we', 'should', 'like', ',', 'but', 'I', 'did', \"n't\", '.', 'It', 'seemed', 'to', 'be', 'trying', 'way', 'too', 'hard', 'to', 'be', \"'artsy\", \"'\", '.', 'All', 'flash', ',', 'with', 'no', 'content', '.', 'It', 'has', 'some', 'beautiful', 'scenes', ',', 'and', 'any', 'one', 'of', 'them', 'are', 'nice', 'to', 'watch', ',', 'but', 'tack', 'them', 'all', 'together', 'and', 'it', 'becomes', 'an', 'arduous', 'task', 'just', 'to', 'sit', 'through', 'it', '.', 'I', 'rented', 'this', 'because', 'of', 'the', 'glowing', 'reviews', 'on', 'the', 'video', 'carton', ',', 'and', 'the', 'fact', 'that', 'I', \"'m\", 'a', 'big', 'Shakespeare', 'fan', ',', 'but', 'I', 'was', 'very', 'disappointed', '.', 'I', 'just', 'found', 'it', 'a', 'bit', 'pretentious', 'and', ',', 'at', 'times', ',', 'boring', '.'], ['I', 'have', 'been', 'a', 'fan', 'of', 'Without', 'A', 'Trace', 'from', 'the', 'premier', 'episode', '.', 'I', 'really', 'can', 'not', 'express', 'my', 'disappointment', 'in', 'the', 'episode', 'last', 'week', '.', 'This', 'is', 'a', 'REAL', 'problem', 'that', 'far', 'too', 'many', 'Afican-American', 'families', 'have', 'dealt', 'with', 'and', 'continue', 'to', 'deal', 'with', '.', 'The', 'lack', 'of', 'media', 'coverage', 'crucial', 'in', 'the', 'first', '48', 'hours', 'has', 'been', 'documented', 'by', 'a', 'recent', 'study', '.', 'Law', 'enforcement', 'including', 'local', ',', 'state', ',', 'and', 'federal', 'are', 'also', 'complicit', '.', 'What', 'was', 'the', 'purpose', 'of', 'advertising', 'this', 'subject', 'matter', 'and', 'then', 'copping', 'out', 'on', 'the', 'ending', '?', 'Seemingly', ',', 'television', 'can', 'deal', 'with', 'almost', 'ANY', 'subject', 'matter', 'EXCEPT', 'RACE', '.', 'This', 'is', 'shameful.Get', 'it', 'together', 'or', 'do', \"n't\", 'explore', 'it', 'next', 'time', '.'], ['I', 'saw', 'this', 'movie', 'recently', 'because', 'a', 'friend', 'brought', 'it', 'with', 'him', 'from', 'NYC', '.', 'After', '30', 'minutes', ',', 'I', 'said', 'to', 'him', ',', \"''\", 'You', \"'ve\", 'got', 'to', 'be', 'kidding', '.', 'Is', 'this', 'some', 'sort', 'of', 'joke', '?', \"''\", 'He', 'thought', 'it', 'was', 'good', '.', 'I', 'told', 'him', 'that', 'I', 'thought', 'it', 'was', 'probably', 'one', 'of', 'the', 'silliest', 'movies', 'ever', 'made', '.', '``', 'What', 'was', 'it', 'supposed', 'to', 'be', '?', \"''\", 'I', 'asked', '.', '``', 'A', 'propaganda', 'movie', 'made', 'for', 'children', '?', \"''\", 'The', 'plot', 'is', 'stupid', '.', 'The', 'acting', 'is', 'the', 'worst', 'ever', 'for', 'most', 'of', 'the', 'principals', 'and', 'frankly', 'people', 'who', 'look', 'at', 'this', 'sort', 'of', 'tripe', 'and', 'think', 'it', 'has', 'anything', 'to', 'do', 'with', 'life', ',', 'love', 'or', 'even', 'afterlife', ',', 'of', 'which', 'it', 'offers', 'an', 'incredibly', 'idiotic', 'view', '...', 'need', 'some', 'psychiatric', 'help', '.', 'Please', ',', 'if', 'someone', 'tries', 'to', 'get', 'you', 'to', 'stick', 'this', 'in', 'your', 'DVD', 'or', 'Video', 'player', ',', 'consider', 'it', 'like', 'you', 'would', 'a', 'virus', 'introduced', 'into', 'your', 'computer', '...', 'it', 'wo', \"n't\", 'destroy', 'your', 'player', 'but', 'it', 'will', 'destroy', 'your', 'evening', '.', 'If', 'they', 'had', 'made', 'Razzies', 'in', 'the', \"'40s\", ',', 'this', 'would', 'have', 'won', 'in', 'every', 'category', '.', '(', 'PS', '.', 'It', 'also', 'goes', 'under', 'the', 'dubious', 'sobriquet', 'of', '``', 'Stairway', 'to', 'Heaven', '.', \"''\", ')'], ['I', \"'ve\", 'seen', 'this', 'film', 'several', 'times', 'in', 'a', 'variety', 'of', 'short-film', 'festivals', 'and', 'it', 'always', 'causes', 'me', 'the', 'impression', 'that', 'i', 'have', 'seen', 'a', 'movie', 'trailer', '!', 'For', 'a', 'school-film', 'is', 'very', 'well', 'produced', 'and', 'directed', ',', 'but', 'the', 'story', '...', 'well', 'it', 'needed', 'something', 'else', 'to', 'be', 'a', 'bigger', 'and', 'interesting', 'film', '.', 'The', 'character', 'named', 'Tim', 'Watcher', 'needed', 'some', 'in-dept', 'approach', '.', 'This', 'is', 'something', 'that', 'lacks', 'in', 'some', 'Portuguese', 'short', 'films', '-', 'the', 'script', 'is', 'always', 'superficial', '.', 'But', 'still', '...', 'i', 'liked', 'this', 'movie', '...', 'Parabens', '!', '(', 'congratulations', '!', ')'], ['Not', 'only', 'does', 'this', 'movie', 'have', 'a', 'poor', 'plot', ',', 'bad', 'direction', ',', 'and', 'terrible', 'acting', ',', 'its', 'opens', 'up', 'a', 'whole', 'new', 'meaning', 'to', 'racism', '.', 'In', 'this', 'film', '``', 'White', \"''\", 'chicks', 'are', 'the', 'sluts', ',', '``', 'White', \"''\", 'boys', 'are', 'the', 'wana-be', 'gangsters', ',', 'and', 'successful', '(', 'yes', 'again', ')', '``', 'White', \"''\", 'businessmen', 'are', 'revolting', 'toilet', 'shitters', '.', 'I', 'just', 'wonder', 'what', 'would', 'happen', 'if', 'I', 'made', 'the', 'exact', 'same', 'movie', 'with', 'the', 'exact', 'same', 'story', 'line', 'and', 'script', ',', 'only', 'I', 'made', 'it', 'about', 'Caucasians', '.', '``', 'He', 'dude', ',', 'its', 'good', 'to', 'finally', 'see', 'your', \"'ve\", 'stopped', 'dating', 'those', 'black', 'chicks', \"''\", '.', 'Nobody', 'seems', 'to', 'notice', 'it', ',', 'but', 'watch', 'this', 'film', 'again', 'and', 'you', \"'ll\", 'vomit', 'at', 'how', 'they', 'have', 'portrayed', 'the', 'new', 'Zealand', '``', 'white', 'boys', \"''\", '.', 'All', 'of', 'a', 'sudden', 'its', 'white', 'folks', 'who', 'are', 'the', 'main', 'cause', 'of', 'gang', 'aggression', ',', 'and', 'whores', 'out', 'for', 'a', 'quick', 'bang', '.', 'Only', 'Samoans', 'girls', 'have', 'a', 'heart', ',', 'there', \"'s\", 'no', 'such', 'thing', 'as', 'a', 'non-slutty', 'white', 'girl', '.', 'It', 'disgusts', 'me', 'that', 'they', 'could', \"n't\", 'make', 'this', 'film', 'without', 'giving', 'the', 'Caucasian', 'community', 'in', 'New', 'Zealand', 'a', 'repulsive', 'profile', '.', 'If', 'you', 'think', 'I', \"'m\", 'overgeneralizing', ',', 'go', 'watch', 'this', 'film', ',', 'and', 'see', 'what', 'you', 'make', 'of', 'the', '``', 'white', 'boys', \"''\", '.', 'Just', 'because', 'Samoans', 'choose', 'to', 'call', 'us', '``', 'white', 'boys', \"''\", 'in', 'actual', 'life', ',', 'does', \"n't\", 'mean', 'its', 'funny', '.', 'If', 'I', 'said', 'hey', 'black', 'boy', 'I', \"'ll\", 'loose', 'my', 'teeth', '.', 'Do', \"n't\", 'see', 'this', 'movie', '.', 'Do', \"n't\", 'waste', 'your', 'money', '.', 'Do', \"n't\", 'be', 'racist', '.'], ['This', 'is', 'surely', 'one', 'of', 'the', 'worst', 'films', 'ever', 'made', '.', 'Each', 'scene', 'is', 'painful', '.', 'You', 'will', 'groan', 'at', 'the', 'flimsy', 'attempts', 'at', 'humor', ',', 'the', 'awkward', 'camera', 'work', ',', 'the', 'sexism', 'and', 'racism', ',', 'the', 'ridiculous', 'story', 'line', ',', 'the', 'wooden', 'acting', '.', 'Poor', 'Joan', 'Bennett', ';', 'she', 'is', 'the', 'only', 'one', 'in', 'the', 'movie', 'who', 'is', 'not', 'an', 'embarrassment', '.', 'In', 'all', ',', 'dreadful', '.'], ['The', 'movie', 'is', 'actually', 'too', 'slow', '.', 'There', 'are', 'some', 'nice', 'images', 'but', 'it', 'can', 'not', 'outweigh', 'the', 'fact', 'that', 'the', 'movie', 'is', 'in', 'fact', 'boring', '.', 'You', 'see', 'a', 'sexual', 'intercourse', 'a', 'lot', 'of', 'watermelons', 'and', 'a', 'sexual', 'intercourse', 'while', 'eating', 'a', 'melon', 'and', 'maybe', 'a', 'little', 'bit', 'more', '.', 'It', 'may', 'sound', 'even', 'interesting', 'to', 'someone', 'but', 'believe', 'me', 'to', 'watch', 'it', 'for', '2', 'hours', 'is', \"n't\", 'fun', 'at', 'all', '.', 'Though', 'you', 'laugh', 'several', 'times', 'but', 'it', \"'s\", 'really', 'not', 'enough', 'and', 'it', 'may', 'be', 'more', 'out', 'of', 'despair', 'and', 'disbelieve', 'than', 'out', 'of', 'fun', '.', 'To', 'disturb', 'the', 'boredom', 'director', 'tries', 'to', 'put', 'few', 'movie', 'video-clips', 'into', 'the', 'movie', '.', 'They', 'are', 'really', 'colorful', 'clips', 'of', 'absurd', 'songs', 'maybe', 'from', 'the', '50', \"'s\", 'but', 'it', \"'s\", 'hard', 'to', 'say', 'exactly', 'and', 'they', 'are', 'trying', 'to', 'be', 'funny', 'so', 'hard', 'that', 'it', \"'s\", 'really', 'sad', '.', 'Several', 'times', 'you', 'have', 'a', 'feeling', 'that', 'the', 'plot', 'could', 'evolve', 'into', 'something', ',', 'that', 'a', 'powerful', 'scene', 'is', 'being', 'created', 'but', 'at', 'the', 'end', 'it', 'just', 'somehow', 'evaporates', 'and', 'that', \"'s\", 'it', '.', 'Beside', 'the', 'clips', 'there', 'are', 'hardly', 'any', 'dialogs', 'let', 'alone', 'music', '.', 'The', 'director', 'is', 'trying', 'to', 'be', 'original', 'and', 'artistic', 'at', 'all', 'cost', '.', 'Personally', 'I', 'can', 'not', 'recommend', 'the', 'movie', '.', 'I', 'believe', 'that', 'art', 'is', 'something', 'that', 'should', \"n't\", 'be', 'boring', '.', 'During', 'the', 'projection', 'there', 'was', 'yawning', 'all', 'around', 'the', 'cinema', 'which', 'just', 'corroborates', 'my', 'short', 'review', '.'], ['Definitely', 'an', 'odd', 'debut', 'for', 'Michael', 'Madsen', '.', 'Madsen', 'plays', 'Cecil', 'Moe', ',', 'an', 'alcoholic', 'family', 'man', 'whose', 'life', 'is', 'crumbling', 'all', 'around', 'him', '.', 'Cecil', 'grabs', 'a', 'phone', 'book', ',', 'looks', 'up', 'the', 'name', 'of', 'a', 'preacher', ',', 'and', 'calls', 'him', 'in', 'the', 'middle', 'of', 'the', 'night', '.', 'He', 'goes', 'to', 'the', 'preacher', \"'s\", 'home', 'and', 'discusses', 'his', 'problems', '.', 'The', 'preacher', 'teaches', 'Cecil', 'to', 'respect', 'the', 'word', 'of', 'God', 'and', 'have', 'Jesus', 'in', 'his', 'heart', '.', 'That', 'makes', 'everything', 'all', 'better', '.', 'Ahh', '...', 'if', 'only', 'everything', 'in', 'life', 'were', 'that', 'easy', '.', 'The', 'fact', 'that', 'this', '``', 'film', \"''\", 'looks', 'as', 'if', 'it', 'was', 'made', 'with', 'about', '$', '500', 'certainly', 'does', \"n't\", 'help', '.', '1/10'], ['Unlike', '``', 'The', 'Adventures', 'of', 'Buckaroo', 'Banzai', \"''\", ',', 'or', '``', 'Big', 'Trouble', 'in', 'Little', 'China', \"''\", ',', 'or', '``', 'Conan', 'the', 'Barbarian', \"''\", ',', 'which', 'are', 'horrible', 'films', 'that', 'have', 'a', 'certain', 'coolness', 'and', 'self-deprecating', 'humor', 'that', 'turn', 'them', 'into', 'cult', 'sensations', ',', 'The', 'Golden', 'Child', 'is', 'just', 'plain', 'bad', '.', 'The', 'premise', 'itself', 'is', 'not', 'unworkable', ',', 'and', 'there', 'are', 'some', 'funny', 'moments', '.', 'But', 'here', 'the', 'Eddy', 'Murphy', '``', 'flip', 'attitude', \"''\", 'just', 'deflates', 'any', 'feeling', 'of', 'tension', 'or', 'danger', 'in', 'the', 'story', '.', 'And', 'the', 'special', 'effects', 'are', 'silly', 'enough', 'to', 'do', 'more', 'damage', 'to', 'that', 'tension', '.', 'The', '``', 'mystic', 'secrets', \"''\", 'of', 'Tibetan', 'Buddhism', 'are', 'lampooned', 'rather', 'than', 'drawn', 'upon', 'to', 'compel', '.', 'Without', 'a', 'feeling', 'that', 'anything', 'is', 'at', 'stake', ',', 'or', 'that', 'the', 'characters', 'are', 'faced', 'by', 'real', 'danger', ',', 'why', 'should', 'we', 'care', '?', 'Who', 'should', 'see', 'this', 'film', ':', '--', 'big', 'fans', 'of', 'Eddy', 'Murphy', 'who', 'ca', \"n't\", 'help', 'themselves', '--', 'I', 'ca', \"n't\", 'think', 'of', 'anyone', 'else', 'I', \"'ll\", 'give', 'this', 'film', 'a', '4', 'out', 'of', '10', 'for', 'the', 'occasional', 'joke', 'that', 'worked', '.'], ['Dreary', '.', 'Schlocky', '.', 'Just', 'plain', 'dreadful', 'and', 'awful', '.', 'Let', \"'s\", 'be', 'honest', ',', 'when', 'you', 'sit', 'down', 'to', 'watch', 'something', 'called', 'The', 'Double-D', 'Avenger', 'you', 'are', \"n't\", 'expecting', 'great', 'art', 'or', 'even', 'mild', 'mainstream', 'entertainment', '.', 'You', 'are', 'probably', 'expecting', 'a', 'cult', 'film', 'type', 'and', 'maybe', 'get', 'some', 'good', 'looks', 'at', 'some', 'impressive', 'busts', '.', 'You', 'do', \"n't\", 'get', 'really', 'either', 'of', 'these', 'in', 'the', 'video', '.', 'The', 'story', ',', 'as', 'it', 'consistent', 'with', 'most', 'of', 'these', 'types', ',', 'is', 'inane', ':', 'Kitten', 'Natividad', 'runs', 'a', 'local', 'pub', ',', 'finds', 'out', 'she', 'has', 'breast', 'cancer', ',', 'flies', 'down', 'to', 'South', 'America', 'for', 'a', 'fruit', 'that', 'claims', 'to', 'be', 'a', 'panacea', 'for', 'any', 'ills', 'and', 'a', 'super-human', 'abilities', 'giver', ',', 'returns', 'and', 'fights', ',', 'dressed', 'as', 'the', 'Double-D', 'Avenger', ',', 'a', 'group', 'from', 'a', 'local', 'strip', 'club', 'wanting', 'to', 'edge', 'out', 'the', 'competition', '.', 'As', 'stories', 'go', ',', 'I', 'have', 'seen', 'a', 'lot', 'worse', ',', 'but', 'as', 'another', 'reviewer', 'noted', 'the', 'execution', 'is', 'horrendous', '.', 'The', 'action', 'sequences', 'lack', 'zip', ',', 'drive', ',', 'motivation', ',', 'and', 'are', 'tissue', 'thin', '.', 'The', 'acting', 'is', \"n't\", 'even', 'properly', 'campy', 'and', 'the', 'dialog', 'is', 'the', 'pits', '.', 'Nothing', ',', 'and', 'I', 'mean', 'NOTHING', 'is', 'funny', 'from', 'the', 'wincing', 'puns', 'to', 'the', 'heavy-handed', 'boob', 'references', '.', 'All', 'could', 'be', 'forgiven', 'if', 'the', 'girls', 'could', 'make', 'up', 'for', 'it', ',', 'but', 'they', 'all', 'fall', 'way', 'short', '.', 'Kitten', ',', 'Haji', ',', 'and', 'Raven', 'de', 'la', 'Croix', 'are', 'all', 'quite', 'older', '(', 'still', 'lovely', 'in', 'their', 'own', 'ways', ')', 'yet', 'expose', 'nothing', 'and', 'become', 'the', 'antithesis', 'of', 'what', 'they', 'are', 'trying', 'to', 'be', ':', 'older', ',', 'campy', 'caricatures', 'of', 'their', 'former', 'selves', '.', 'Instead', ',', 'they', 'look', 'so', 'lame', 'and', 'desperate', '-', 'more', 'because', 'of', 'the', 'vehicle', 'they', 'are', '``', 'starring', \"''\", 'in', 'rather', 'than', 'their', 'own', 'abilities', '.', 'There', 'are', 'some', 'other', 'lovely', 'ladies', ',', 'but', 'you', 'really', 'do', 'not', 'see', 'much', 'of', 'anything', '.', 'PG', '-13', 'definitely', 'could', 'be', 'an', 'appropriate', 'rating', 'for', 'this', '.', 'The', 'material', ',', 'the', 'actresses', ',', 'and', 'director', 'are', 'all', 'tired', ',', 'tiresome', ',', 'and', 'dated', '-', 'and', 'again', '-', 'NOT', 'FUNNY', '!', 'It', 'was', 'a', 'brutal', 'hour', 'plus', 'sitting', 'through', 'this', ',', 'and', 'that', 'is', 'a', 'shame', 'as', 'I', 'was', 'expecting', 'something', 'campy', 'and', 'fun', '.', 'The', 'guy', 'playing', 'Bubba', 'by', 'the', 'way', 'was', 'the', 'only', 'real', 'laugh', 'for', 'me', '.', 'Not', 'that', 'he', 'was', 'good', 'at', 'all', 'mind', 'you', ',', 'but', 'every', 'time', 'he', 'opened', 'his', 'mouth', 'I', 'kept', 'thinking', 'how', 'truly', 'awful', 'he', 'was', '.', 'The', 'lone', 'bright', 'spot', 'here', 'at', 'all', 'is', 'seeing', 'Mr.', 'Sci-fi', 'himself', ',', 'Forrest', 'J.', 'Ackerman', ',', 'play', 'the', 'curator', 'of', 'a', 'wax', 'museum', 'and', 'chatting', 'to', 'his', 'wax', 'Frankenstein', 'affectionately', 'called', 'Frankie', '.', 'Other', 'than', 'that', 'this', 'is', 'a', 'complete', 'bust', '-', 'now', 'how', 'is', 'that', 'for', 'another', 'tired', ',', 'dreadful', ',', 'trite', 'pun', '!'], ['There', 'have', 'been', 'plenty', 'of', 'unknown', 'movies', 'or', 'movies', 'given', 'bad', 'reviews', 'that', 'I', 'really', 'liked', '.', 'This', 'was', 'not', 'one', 'of', 'them', '.', 'It', 'was', 'overacted', 'and', 'used', 'camera', 'techniques', 'that', 'made', 'me', 'feel', 'like', 'I', 'was', 'watching', 'a', 'soap', 'opera', '.', 'It', 'was', 'ludicrously', 'predictable', 'and', 'took', 'most', 'of', 'the', 'movie', 'to', 'get', 'going', 'then', 'left', 'you', 'asking', '``', 'that', \"'s\", 'it', '?', \"''\", '.', 'Once', 'I', 'decided', 'not', 'to', 'take', 'the', 'movie', 'too', 'seriously', 'and', 'watch', 'it', 'from', 'a', 'purely', 'corny', 'point', 'of', 'view', 'it', 'became', 'more', 'enjoyable', '.', 'This', 'is', 'one', 'movie', 'that', 'would', 'have', 'wound', 'up', 'on', 'MST3000', 'if', 'it', 'was', 'still', 'on', '.'], ['It', 'as', 'absolutely', 'incredible', 'to', 'me', 'that', 'anyone', 'could', 'make', 'the', 'comment', 'that', 'this', 'film', 'is', 'not', 'preachy', '.', 'It', 'is', 'not', 'only', 'oppressively', 'preachy', ',', 'but', 'absurd', ',', 'stagebound', ',', 'dramatically', 'straight-jacketed', ',', 'and', 'painfully', 'overwrought', '.', 'Watching', 'it', ',', 'one', 'feels', 'like', 'an', '8', 'year', 'old', 'child', 'being', 'punished', 'by', 'having', 'to', 'write', '``', 'I', 'will', 'not', 'become', 'a', 'fascist', \"''\", 'on', 'the', 'blackboard', '100', 'times', '.', 'Now', 'I', 'understand', 'that', 'it', 'was', 'made', 'during', 'the', 'height', 'of', 'WW2', ',', 'and', 'was', 'intended', 'to', 'be', 'a', 'brave', 'condemnation', 'of', 'Hitler', 'and', 'the', 'terrible', 'suffering', 'he', 'brought', 'about', ',', '(', 'which', 'anyone', 'would', 'whole-heartedly', 'applaud', ')', 'and', 'I', \"'m\", 'sure', 'it', 'accurately', 'captured', 'the', 'mood', 'of', 'the', 'day', '.', 'But', 'it', 'is', 'presented', 'in', 'such', 'an', 'immature', ',', 'over-obvious', ',', 'sledgehammer', 'way', ',', 'it', 'fails', 'abysmally', 'as', 'a', 'work', 'of', 'art', '.', 'The', 'only', 'good', 'performances', 'here', 'are', 'from', 'Paul', 'Lukas', ',', 'who', 'brings', 'sincerity', 'and', 'intensity', 'to', 'his', 'role', 'as', 'a', 'quietly', 'heroic', 'anti-fascist', ';', 'and', 'Lucile', 'Watson', 'as', 'the', 'amusingly', 'ill-mannered', 'rich', 'grandmother', 'who', 'slowly', 'comes', 'to', 'realize', 'how', 'dangerous', 'the', 'world', 'has', 'become', '.', 'Though', 'their', 'rootless', 'upbringing', 'has', 'subjected', 'them', 'to', 'all', 'kinds', 'of', 'hardships', ',', 'the', 'children', 'are', 'ridiculously', 'shown', 'as', 'robotically', 'well-behaved', 'little', 'snips', '.', 'They', 'do', 'not', 'even', 'remotely', 'resemble', 'real', 'human', 'beings', '.', 'And', 'Bette', 'Davis', ',', 'a', 'great', 'actress', ',', 'here', 'is', 'so', 'one', 'dimensionally', 'noble', 'I', 'cringed', 'every', 'time', 'she', 'was', 'on', 'screen', '.', 'Her', 'every', 'word', ',', 'her', 'every', 'gesture', 'is', 'meant', 'to', 'convey', 'how', 'SUPPORTIVE', 'and', 'UNDERSTANDING', 'she', 'is', 'of', 'the', 'SACRIFICES', 'her', 'husband', 'has', 'to', 'make', 'and', 'the', 'great', 'CAUSE', 'he', 'is', 'fighting', 'for', ',', 'that', 'she', 'must', \"'ve\", 'been', 'wired', 'to', 'receive', 'a', 'painful', 'electric', 'shock', 'if', 'she', 'dared', 'allowed', 'any', 'hint', 'of', 'doubt', 'or', 'shading', 'to', 'surface', 'in', 'her', 'portrayal', '.', 'So', 'yes', ',', 'this', 'is', 'a', 'very', 'IMPORTANT', 'film', ',', 'just', 'not', 'a', 'very', 'good', 'one', '.'], ['There', 'was', 'such', 'a', 'hype', 'about', 'a', 'game', 'show', 'with', 'Bill', 'Shatner', '...', 'and', 'especially', 'right', 'in', 'the', 'wake', 'of', 'Deal', 'or', 'No', 'Deal', 'and', '1', 'vs', '100', '.', 'So', ',', 'of', 'course', 'everyone', 'had', 'to', 'tune', 'in', 'to', 'see', 'what', 'all', 'the', 'fuss', 'was', 'about', 'on', 'the', 'new', 'game', 'show', '.', 'What', 'a', 'disappointment', '!', 'As', 'Ben', 'Stein', 'so', 'stoically', 'and', 'nasally', 'says', ',', '``', 'wooww', \"''\", '.', 'The', 'only', 'thing', 'likable', 'about', 'this', 'show', 'was', 'the', 'fact', 'that', 'you', 'knew', 'it', 'would', 'eventually', 'be', 'over', '.', 'Sitting', 'through', 'a', 'full', 'hour', 'of', 'it', 'was', 'like', 'going', 'to', 'the', 'dentist', '...', 'you', 'find', 'yourself', 'looking', 'at', 'the', 'clock', 'in', 'what', 'you', 'think', 'are', '10', 'minute', 'intervals', ',', 'only', 'to', 'find', 'out', 'that', 'only', 'a', 'minute', 'has', 'passed', '(', 'but', 'seemed', 'like', 'an', 'eternity', ')', 'since', 'you', 'last', 'glanced', 'at', 'the', 'clock', '.', 'So', ',', 'why', 'did', \"n't\", 'I', 'just', 'switch', 'the', 'channel', '?', 'Well', ',', 'probably', 'for', 'the', 'same', 'reason', 'most', 'other', 'people', 'did', \"n't\", '...', 'out', 'of', 'sheer', 'optimism', '.', 'I', 'mean', ',', 'no', 'one', 'really', '*wants*', 'to', 'think', 'that', 'a', 'show', 'with', 'Bill', 'Shatner', 'could', 'actually', 'be', 'SO', 'BAD', '.', 'Personally', ',', 'from', 'the', 'first', '15', 'minutes', ',', 'I', 'never', 'thought', 'this', 'was', 'the', 'kind', 'of', 'vehicle', 'that', 'would', 'showcase', 'the', 'talents', 'of', 'William', 'Shatner', '.', 'My', 'chief', 'complaint', 'was', 'that', 'the', 'set', 'was', 'so', 'dark', '.', 'Watching', 'it', 'left', 'me', 'feeling', 'depressed', '.', 'You', 'kept', 'on', 'wanting', 'to', 'get', 'ahold', 'of', 'a', 'little', 'excitement', ',', 'but', 'there', 'was', 'just', 'none', 'to', 'be', 'had', '.', 'There', 'was', 'not', 'even', 'enough', 'light', 'on', 'the', 'set', 'to', 'get', 'a', 'feel', 'of', 'energy', 'from', 'the', 'audience', '(', 'who', 'you', 'could', \"n't\", 'even', 'see', ')', '.', 'Dear', 'Network', ':', 'People', 'do', 'not', 'watch', 'game', 'shows', 'to', 'cure', 'their', 'insomnia', '...', 'they', 'watch', 'game', 'shows', 'to', 'be', 'excited', 'and', 'have', 'a', 'good', 'time', '.', 'Please', 'do', 'us', 'all', 'a', 'favor', 'and', 'lose', 'this', 'in', 'the', 'vault', '.'], ['Superman', 'II', '-', 'The', 'Richard', 'Donner', 'Cut', 'should', 'be', 'a', 'fan', \"'s\", 'dream', 'come', 'true', '.', 'At', 'long', 'last', ',', 'footage', 'only', 'seen', 'in', 'photos', 'and', 'scenes', 'that', 'only', 'existed', 'on', 'the', 'printed', 'page', 'would', 'finally', 'come', 'to', 'life', '.', 'A', 'director', 'that', 'was', 'unable', 'to', 'complete', 'his', 'vision', 'would', 'have', 'the', 'opportunity', 'to', 'have', 'his', 'vision', 'restored', '.', 'It', 'seems', 'like', 'a', 'winning', 'situation', '.', 'And', 'then', 'you', 'start', 'watching', 'this', 'assembly', 'of', 'footage', 'and', 'you', 'realize', 'this', '``', 'esoteric', 'dream', \"''\", 'is', 'a', 'very', 'real', 'nightmare', 'of', 'sloppiness', 'and', 'incompetence', '.', 'While', 'it', \"'s\", 'entirely', 'possible', 'that', 'no', 'movie', 'could', 'compete', 'with', 'the', 'finished', 'perfect', 'version', 'each', 'of', 'us', 'has', 'imagined', 'over', 'the', 'years', 'it', 'really', 'should', 'have', 'been', 'a', 'thrill', 'to', 'finally', 'see', 'this', 'project', '.', 'And', 'it', 'is', 'only', 'a', 'very', 'few', 'times', '.', 'You', 'know', 'things', 'are', 'shaky', 'when', 'the', 'very', 'first', 'bit', 'of', 'text', 'on', 'screen', 'looks', 'like', 'home', 'brew', 'computer', 'graphics', '.', 'But', 'then', 'we', 'start', 'seeing', 'new', 'footage', '(', 'alternates', 'from', 'Superman', '-', 'The', 'Movie', 'for', 'the', 'trial', ')', 'and', 'that', 'first', 'bit', 'of', 'hesitation', 'fades', 'away', '.', 'Hey', ',', 'this', 'is', 'pretty', 'neat', '!', 'Things', 'are', 'alright', 'for', 'these', 'few', 'fleeting', 'moments', 'until', 'we', 'see', 'footage', 'from', 'STM', 'intermixed', 'with', 'new', 'effects', 'for', 'this', 'project', ',', 'and', 'it', 'does', \"n't\", 'convince', 'at', 'all', '.', 'And', 'from', 'this', 'point', 'on', ',', 'it', 'never', 'ever', 'lets', 'up', '.', 'It', \"'s\", 'probably', 'not', 'right', 'to', 'judge', 'a', 'movie', 'because', 'of', 'bad', 'visual', 'effects', ',', 'but', 'when', 'this', 'is', 'supposedly', 'the', 'direct', 'follow', 'up', 'to', 'a', 'movie', 'whose', 'tag', 'line', 'was', '``', 'You', \"'ll\", 'Believe', 'A', 'Man', 'Can', 'Fly', \"''\", 'it', \"'s\", 'difficult', 'to', 'believe', 'anything', 'shown', 'on', 'screen', 'here', '.', 'The', 'best', 'effects', 'in', 'this', 'are', 'from', 'the', 'original', 'productions', '.', 'Another', 'issue', 'with', 'this', 're-cut', '.', 'A', 'lot', 'of', 'it', 'just', 'does', \"n't\", 'make', 'sense', '.', 'The', 'only', 'reason', 'any', 'of', 'it', 'really', 'works', 'is', 'because', 'we', \"'ve\", 'all', 'seen', 'the', 'theatrical', 'version', 'of', 'Superman', 'II', ',', 'a', 'movie', 'that', 'does', 'make', 'sense', '.', 'Lester', \"'s\", 'Superman', 'II', 'fills', 'in', 'the', 'holes', 'of', 'this', 'assembly', '.', 'Part', 'of', 'this', 'could', 'be', 'because', 'Donner', 'did', \"n't\", 'get', 'to', 'complete', 'shooting', ',', 'the', 'other', 'part', 'could', 'be', 'because', 'the', 'makers', 'of', 'this', 'project', 'were', 'intent', 'on', 'using', 'as', 'little', 'Lester', 'material', 'as', 'possible', '.', 'What', 'we', 'end', 'up', 'with', 'is', 'an', 'assembly', 'of', 'footage', 'that', 'makes', 'Superman', 'IV', 'look', 'airtight', 'and', 'coherent', '.', 'After', 'viewing', 'this', ',', 'one', 'gets', 'the', 'sense', 'that', 'while', 'Lester', 'was', 'faithful', 'and', 'comfortable', 'using', 'Donner', 'material', ',', 'Michael', 'Thau', 'and', 'his', 'team', 'were', 'extremely', 'disrespectful', 'towards', 'anything', 'filmed', 'by', 'Lester', '.', 'The', 'best', 'scenes', 'in', 'The', 'Donner', 'Cut', 'are', 'the', 'ones', 'lifted', 'relatively', 'intact', 'from', 'the', 'released', 'version', 'of', 'Superman', 'II', '.', 'That', 'includes', 'the', 'moon', 'sequence', 'and', 'the', 'diner', 'sequence', ',', 'not', 'ironically', ',', 'both', 'were', 'filmed', 'by', 'Donner', '.', 'But', 'anything', 'else', 'from', 'that', 'movie', 'filmed', 'by', 'Lester', 'is', 're-edited', 'in', 'such', 'a', 'hasty', 'fashion', ',', 'that', 'it', 'now', 'makes', 'Lester', 'seem', 'like', 'a', 'ham', 'fisted', 'know', 'nothing', '.', 'While', 'Lester', 'honored', 'the', 'Donner', 'material', ',', 'Lester', 'here', 'is', 'thrown', 'under', 'the', 'bus', '.', 'So', 'is', 'there', 'anything', 'good', 'in', 'this', 'release', '?', 'Well', 'Marlon', 'Brando', 'is', 'in', 'it', ',', 'and', 'that', \"'s\", 'neat', 'to', 'see', '.', 'In', 'fact', 'watching', 'any', 'of', 'the', 'material', 'shot', 'by', 'Donner', 'is', 'neat', 'since', 'it', 'was', 'all', 'filmed', 'at', 'the', 'same', 'time', 'as', 'Superman', '-', 'The', 'Movie', '.', 'But', 'that', 'only', 'highlights', 'the', 'problems', 'of', 'this', 'release', '.', 'Any', 'of', 'the', 'major', 'scenes', '(', 'really', 'just', 'Lois', 'jumping', 'and', 'scenes', 'with', 'Marlon', 'Brando', ')', 'would', 'have', 'been', 'better', 'served', 'as', 'completed', 'scenes', 'in', 'a', 'deleted', 'scenes', 'section', '.', 'Instead', 'they', 'are', 'shoe', 'horned', 'into', 'a', 'nonsensical', 'narrative', 'with', 'inferior', 'performances', '(', 'many', 'alternate', 'takes', 'from', 'familiar', 'scenes', 'are', 'used', ')', 'sloppy', 'edits', 'and', 'bad', 'decisions', '.', 'Watch', 'the', 'opening', 'scene', 'at', 'the', 'Daily', 'Planet', '.', 'Why', 'are', 'we', 'looking', 'at', 'Jackie', 'Cooper', \"'s\", 'back', 'as', 'he', 'calls', 'for', 'Lois', 'and', 'Clark', '?', 'At', 'the', 'end', 'why', 'do', 'we', 'have', 'Lois', 'walking', 'into', 'her', 'dark', 'apartment', 'only', 'to', 'have', 'that', 'followed', 'by', 'Jackie', 'Cooper', 'walking', 'into', 'a', 'dark', 'bathroom', 'turning', 'the', 'lights', 'on', '?', 'I', 'was', 'initially', 'confused', 'by', 'this', ',', 'because', 'I', 'expected', 'to', 'see', 'Lois', '.', 'The', 'entire', 'assembly', 'is', 'filled', 'with', 'questionable', 'choices', 'like', 'this', '.', 'Battle', 'scenes', 'are', 'a', 'mess', 'too', ',', 'with', 'no', 'geography', 'between', 'cuts', '.', 'It', \"'s\", 'just', 'random', 'action', '.', 'Of', 'course', ',', 'the', 'major', 'action', 'scenes', 'were', 'shot', 'by', 'Lester', 'and', 'his', 'material', 'is', 'only', 'used', 'as', 'a', 'bridge', 'to', 'the', 'next', 'set', 'of', 'Donner', 'outtakes', 'or', 'alternates', '.', 'They', 'should', 'have', 'used', 'more', 'of', 'Lester', \"'s\", 'footage', ',', 'but', 'probably', 'had', 'too', 'much', 'pride', 'to', 'admit', 'that', '.', 'The', 'sloppiness', 'extends', 'to', 'the', 'military', 'missile', 'as', 'well', '.', 'As', 'noted', 'elsewhere', ',', 'the', 'missile', 'shown', 'in', 'The', 'Donner', 'Cut', 'bears', 'the', 'designation', '``', 'XK', '10', \"''\", 'while', 'we', 'all', 'know', 'it', \"'s\", 'the', '``', 'XK', '101', \"''\", '!', 'A', 'blind', 'man', 'in', 'STM', 'knows', 'that', '!', 'The', 'producers', 'of', 'this', 'assembly', ',', 'who', 'tried', 'so', 'hard', 'to', 'honor', 'the', 'original', 'film', ',', 'dropped', 'the', 'ball', 'less', 'than', 'five', 'minutes', 'in', 'and', 'that', 'mistake', 'is', 'indicative', 'of', 'the', 'quality', 'of', 'the', 'entire', 'production', '.', 'For', 'all', 'the', 'supposed', 'care', 'that', 'was', 'put', 'into', 'this', ',', 'the', 'final', 'product', 'has', 'an', 'air', 'of', 'shoddiness', 'to', 'it', 'that', 'is', 'inescapable', '.', 'The', 'entire', 'affair', 'would', 'probably', 'be', 'easier', 'to', 'digest', 'if', 'Warner', \"'s\", 'did', \"n't\", 'make', 'this', 'a', 'separate', 'release', 'here', 'in', 'the', 'states', '.', 'As', 'it', 'is', ',', 'we', \"'re\", 'expected', 'to', 'pay', 'for', 'what', 'is', 'essentially', 'a', 'bonus', 'disc', 'of', 'deleted', 'scenes', 'with', 'a', '``', 'Play', 'All', \"''\", 'option', '.', 'It', \"'s\", 'really', 'only', 'worth', 'one', 'viewing', 'so', 'that', 'we', 'can', 'finally', 'see', 'the', 'legendary', 'cut', 'scenes', ',', 'but', 'after', 'that', 'initial', 'viewing', ',', 'I', 'expect', 'that', 'this', 'will', 'be', 'an', 'excellent', 'magnet', 'for', 'dust', 'and', 'little', 'else', '.', 'I', 'know', 'after', 'my', 'experience', 'of', 'watching', 'this', ',', 'I', 'had', 'new', 'respect', 'for', 'Lester', \"'s\", 'version', '.', 'It', \"'s\", 'by', 'no', 'means', 'perfect', ',', 'but', 'Lester', 'realized', 'the', 'deficiencies', 'that', 'were', 'in', 'the', 'script', 'that', 'stand', 'out', 'here', 'in', 'bold', 'relief', '.', 'He', 'managed', 'to', 'make', 'a', 'movie', 'that', 'has', 'entertained', 'for', 'many', 'years', 'and', 'will', 'continue', 'to', 'do', 'so', ',', 'while', 'this', 'new', 're-cut', 'will', 'most', 'likely', 'only', 'be', 'remembered', 'as', 'a', 'footnote', 'in', 'that', 'films', 'history', '.'], ['There', 'are', 'three', 'movies', 'with', 'this', 'animation', 'style', 'that', 'I', 'fondly', 'remember', 'from', 'my', 'youth', '.', 'This', 'movie', ',', '``', 'The', 'Last', 'Unicorn', ',', \"''\", '``', 'Flight', 'of', 'Dragons', \"''\", 'and', '``', 'The', 'Hobbit', '.', \"''\", 'I', 'own', 'copies', 'of', 'both', '``', 'Dragons', \"''\", 'and', '``', 'The', 'Hobbit', \"''\", '(', 'both', 'excellent', ')', 'and', 'I', 'had', \"n't\", 'seen', '``', 'The', 'Last', 'Unicorn', \"''\", 'in', 'more', 'than', 'a', 'decade', '.', 'That', 'was', 'until', 'today', 'and', 'now', 'I', 'wish', 'I', 'had', \"n't\", '.', 'What', 'bothered', 'me', 'the', 'most', 'was', 'the', 'script', '.', 'It', 'was', 'incredibly', 'choppy', 'and', 'often', 'inane', '.', 'Things', 'would', 'happen', 'for', 'no', 'reason', 'and', 'other', 'things', 'would', 'happen', 'without', 'explanation', '.', 'We', \"'re\", 'not', 'just', 'talking', 'about', 'little', 'things', 'here', 'either', ';', 'we', \"'re\", 'talking', 'about', 'key', 'plot', 'points', '!', 'The', 'story', 'itself', 'is', \"n't\", 'that', 'great', 'to', 'begin', 'with', ',', 'but', 'it', 'could', 'have', 'worked', 'had', 'the', 'script', 'been', 'decent', '.', 'Not', 'even', 'close', '.', 'On', 'top', 'of', 'that', 'the', 'music', 'was', 'awful', '!', 'I', 'know', 'that', 'music', 'in', 'movies', 'such', 'as', 'these', 'rarely', 'have', 'what', 'one', 'would', 'call', 'classic', 'pieces', ',', 'but', 'the', 'music', 'in', 'this', 'movie', 'made', 'me', 'want', 'to', 'knock', 'myself', 'unconscious', 'with', 'a', 'bowling', 'ball', '.', 'This', 'was', 'one', 'of', 'those', 'films', 'that', 'I', 'was', 'going', 'to', 'show', 'to', 'my', 'kids', 'some', 'day', ',', 'but', 'it', 'just', 'got', 'cut', '.', 'I', 'do', \"n't\", 'think', 'I', 'could', 'ever', 'sit', 'through', 'that', 'crap', 'fest', 'again', '.', 'Disappointed', 'is', 'putting', 'it', 'mildly', '.'], ['Once', 'upon', 'a', 'time', 'in', 'the', 'mid', '1990s', 'I', 'used', 'to', 'write', 'for', 'DOCTOR', 'WHO', 'fanzines', 'and', 'the', 'whole', 'of', 'fandom', 'was', 'holding', 'its', 'breathe', 'about', 'the', 'new', 'American', 'produced', 'DOCTOR', 'WHO', 'TVM', '.', 'As', 'soon', 'as', 'it', 'was', 'announced', 'that', 'the', 'Doctor`s', 'arch', 'enemy', 'the', 'Master', 'was', 'going', 'to', 'be', 'played', 'by', 'Eric', 'Roberts', 'everyone', 'scratched', 'their', 'heads', 'and', 'exclaimed', '``', 'Who', 'is', 'Eric', 'Roberts', '?', '``', '.', 'I', 'should', 'point', 'out', 'this', 'was', 'before', 'the', 'IMDB', 'came', 'online', 'when', 'all', 'you', 'had', 'to', 'do', 'was', 'type', 'in', 'a', 'name', 'into', 'this', 'website', 'to', 'their', 'resume', ',', 'but', 'one', 'helpful', 'soul', 'wrote', 'into', 'a', 'publication', 'I', 'wrote', 'for', 'to', 'explain', 'that', 'Eric', 'Roberts', 'was', 'best', 'known', 'for', 'a', 'role', 'where', 'he', 'starred', 'opposite', 'F', 'Murray', 'Abraham', ',', 'the', 'film', 'was', 'called', 'BY', 'THE', 'SWORD', 'and', 'was', 'about', 'a', 'fencing', 'school', '.', 'Actually', 'looking', 'back', 'now', 'Roberts', 'is', 'best', 'known', 'for', 'THE', 'POPE', 'OF', 'GREENWICH', 'VILLAGE', 'and', 'RUNAWAY', 'TRAIN', 'but', 'that', 'didn`t', 'stop', 'the', 'person', 'putting', 'the', 'boot', 'into', 'both', 'Roberts', 'and', 'BY', 'THE', 'SWORD', 'and', 'his', 'mind', 'was', 'made', 'up', 'that', 'this', 'American', 'Master', 'with', 'his', 'southern', 'drawl', 'was', 'going', 'to', 'a', 'debacle', '.', 'Strangely', 'most', 'fans', 'were', 'furious', 'about', 'Roberts', 'playing', 'the', 'Master', 'but', 'after', 'they', 'saw', 'the', 'DOCTOR', 'WHO', 'TVM', 'a', 'great', 'many', 'fans', '(', 'Myself', 'among', 'them', ')', 'thought', 'Roberts', 'performance', 'was', 'the', 'best', 'thing', 'about', 'the', 'disappointing', 'American', 'production', 'Yeah', 'I`m', 'digressing', 'but', 'BY', 'THE', 'SWORD', 'was', 'a', 'film', 'that', 'I', 'wanted', 'to', 'see', 'simply', 'because', 'it', 'was', 'the', 'first', 'time', 'I`d', 'heard', 'the', 'name', 'of', 'Eric', 'Roberts', 'but', 'I', 'didn`t', 'get', 'the', 'chance', 'to', 'see', 'it', 'untill', 'this', 'weekend', 'and', 'I', 'was', 'fairly', 'disappointed', 'with', 'it', '.', 'I', 'know', 'nothing', 'about', 'fencing', '(', 'Everyone', 'else', 'on', 'this', 'page', 'seems', 'duty', 'bound', 'to', 'mention', 'if', 'they', 'fence', 'or', 'not', '.', 'I', 'don`t', 'fence', ')', 'so', 'I', 'don`t', 'know', 'how', 'accurate', 'it', 'all', 'is', ',', 'but', 'as', 'mentioned', 'the', 'film', 'feels', 'somewhat', 'anachronistic', 'even', 'if', 'you', 'saw', 'it', 'on', 'its', 'release', 'in', '1991', ',', 'the', 'hairstyles', 'seem', 'a', 'few', 'years', 'out', 'of', 'date', 'along', 'with', 'its', 'mixed', 'teenage', 'cast', 'doing', 'a', 'little', 'dance', 'routine', 'that', 'makes', 'you', 'wonder', 'if', 'it', 'wouldn`t', 'have', 'worked', 'a', 'lot', 'better', 'if', 'it`d', 'had', 'been', 'produced', 'by', 'Jerry', 'Bruckheimer', 'in', 'the', 'mid', '1980s', '.', 'You', 'could', 'argue', 'this', 'would', 'have', 'meant', 'the', 'relationship', 'between', 'Max', 'Suba', 'and', 'Alexander', 'Villard', 'being', 'off', 'centre', 'for', 'most', 'of', 'the', 'film', 'but', 'I', 'wasn`t', 'convinced', 'about', 'their', 'love/hate', 'relationship', 'and', 'Abraham', 'and', 'Roberts', 'have', 'given', 'much', 'better', 'performances', 'before', 'and', 'since', 'BY', 'THE', 'SWORD'], ['This', 'movie', 'is', 'so', 'bad', 'it', \"'s\", 'funny', '.', 'It', 'stars', 'Scott', 'Backula', 'as', 'some', 'coach', ',', 'but', 'that', \"'s\", 'not', 'important', ',', 'what', 'is', 'important', 'is', 'the', 'large', 'black', 'fellow', 'who', 'plays', '1st', 'base', '.', 'First', 'off', 'he', 'has', 'to', 'be', 'at', 'least', '75', 'years', 'old', ',', 'yet', 'still', 'plays', 'minor', 'league', 'baseball', ',', 'second', 'he', 'starts', 'out', 'the', 'movie', 'in', 'the', 'outfield', 'despite', 'not', 'being', 'able', 'to', 'walk', ',', 'let', 'alone', 'run', '.', 'Coach', 'Backula', 'brilliantly', 'moves', 'him', 'to', 'first', 'citing', 'the', 'fact', 'that', 'when', 'he', 'attempts', 'to', 'run', 'he', 'stays', 'in', 'the', 'same', 'place', 'for', 'too', 'long', 'a', 'period', 'of', 'time', '.', 'Backula', 'shows', 'more', 'brilliant', 'coaching', 'strategy', 'in', 'the', 'end', 'of', 'the', 'film', ',', '(', 'SPOILER', ')', ',', 'he', 'tells', 'his', 'star', 'player', '``', 'downtown', \"''\", 'to', 'hit', 'a', 'home', 'run', ',', 'clearly', '``', 'downtown', \"''\", 'viewed', 'this', 'as', 'a', 'good', 'move', '.', 'He', 'hit', 'the', 'home', 'run', 'and', 'won', 'the', 'game', 'for', 'his', 'team', ',', 'a', 'minor', 'league', 'squad', 'playing', 'the', 'Twins', 'who', 'were', 'the', 'class', 'of', 'the', 'majors', 'in', 'the', 'movie', '.', 'Now', 'if', 'only', 'Tony', 'Muser', ',', 'manager', 'of', 'the', 'Royals', ',', 'would', 'be', 'as', 'smart', 'a', 'coach', 'as', 'Backula', 'and', 'tell', 'his', 'players', 'to', 'simply', 'hit', 'a', 'home', 'run', 'in', 'every', 'at', 'bat', ',', 'the', 'Royals', 'would', 'never', 'end', 'an', 'inning', 'let', 'alone', 'lose', 'a', 'game', '.'], ['Have', 'previously', 'enjoyed', 'Wesley', 'Snipes', 'in', 'several', 'action', 'flicks', 'and', 'I', 'had', 'expected', 'a', 'lot', 'more', ',', 'even', 'from', 'a', 'score', 'of', '5.8', 'IMDb', ',', 'the', 'movie', 'fails', 'to', 'entertain', 'and', 'even', 'though', 'the', 'story', 'is', 'thin', 'and', 'unoriginal', ',', 'the', 'acting', 'is', 'most', 'unfortunately', 'thinner', 'and', 'goes', 'to', 'mimic', 'a', '``', 'worst', 'case', 'scenario', \"''\", 'of', 'playing', '``', 'strong', \"''\", 'feelings', 'accompanied', 'by', 'some', 'bad', 'acting', '...', 'Do', \"n't\", 'waist', 'your', 'time', 'this', 'movie', 'ísnt', 'entertaining', ',', 'if', 'you', 'wan', 'na', 'cry', 'it', 'might', 'suffice', 'though', ',', 'even', 'though', 'your', 'tears', 'will', 'be', 'wept', 'due', 'to', 'seeing', 'Wesley', 'Snipes', 'in', 'the', 'tragic', 'action', 'film', 'wannabe', 'comedy', '...', 'I', 'give', 'this', '2/10', 'it', 'really', 'was', 'awful', ',', 'if', 'you', 'wan', 'na', 'see', 'a', 'decent', 'movie', 'go', 'see', 'shooter', 'or', 'rent', 'it', ',', 'its', 'all', 'the', 'good', 'things', 'this', 'movie', 'is', \"n't\", '.'], ['Now', 'that', 'Che', '(', '2008', ')', 'has', 'finished', 'its', 'relatively', 'short', 'Australian', 'cinema', 'run', '(', 'extremely', 'limited', 'release:1', 'screen', 'in', 'Sydney', ',', 'after', '6wks', ')', ',', 'I', 'can', 'guiltlessly', 'join', 'both', 'hosts', 'of', '``', 'At', 'The', 'Movies', \"''\", 'in', 'taking', 'Steven', 'Soderbergh', 'to', 'task', '.', 'It', \"'s\", 'usually', 'satisfying', 'to', 'watch', 'a', 'film', 'director', 'change', 'his', 'style/subject', ',', 'but', 'Soderbergh', \"'s\", 'most', 'recent', 'stinker', ',', 'The', 'Girlfriend', 'Experience', '(', '2009', ')', ',', 'was', 'also', 'missing', 'a', 'story', ',', 'so', 'narrative', '(', 'and', 'editing', '?', ')', 'seem', 'to', 'suddenly', 'be', 'Soderbergh', \"'s\", 'main', 'challenge', '.', 'Strange', ',', 'after', '20-odd', 'years', 'in', 'the', 'business', '.', 'He', 'was', 'probably', 'never', 'much', 'good', 'at', 'narrative', ',', 'just', 'hid', 'it', 'well', 'inside', '``', 'edgy', \"''\", 'projects', '.', 'None', 'of', 'this', 'excuses', 'him', 'this', 'present', ',', 'almost', 'diabolical', 'failure', '.', 'As', 'David', 'Stratton', 'warns', ',', '``', 'two', 'parts', 'of', 'Che', 'do', \"n't\", '(', 'even', ')', 'make', 'a', 'whole', \"''\", '.', 'Epic', 'biopic', 'in', 'name', 'only', ',', 'Che', '(', '2008', ')', 'barely', 'qualifies', 'as', 'a', 'feature', 'film', '!', 'It', 'certainly', 'has', 'no', 'legs', ',', 'inasmuch', 'as', 'except', 'for', 'its', 'uncharacteristic', 'ultimate', 'resolution', 'forced', 'upon', 'it', 'by', 'history', ',', 'Soderbergh', \"'s\", '4.5hrs-long', 'dirge', 'just', 'goes', 'nowhere', '.', 'Even', 'Margaret', 'Pomeranz', ',', 'the', 'more', 'forgiving', 'of', 'Australia', \"'s\", 'At', 'The', 'Movies', 'duo', ',', 'noted', 'about', 'Soderbergh', \"'s\", 'repetitious', 'waste', 'of', '(', 'HD', 'digital', 'storage', ')', ':', '``', 'you', \"'re\", 'in', 'the', 'woods', '...', 'you', \"'re\", 'in', 'the', 'woods', '...', 'you', \"'re\", 'in', 'the', 'woods', '...', \"''\", '.', 'I', 'too', 'am', 'surprised', 'Soderbergh', 'did', \"n't\", 'give', 'us', 'another', '2.5hrs', 'of', 'THAT', 'somewhere', 'between', 'his', 'existing', 'two', 'Parts', ',', 'because', 'he', 'still', 'left', 'out', 'massive', 'chunks', 'of', 'Che', \"'s\", '``', 'revolutionary', \"''\", 'life', '!', 'For', 'a', 'biopic', 'of', 'an', 'important', 'but', 'infamous', 'historical', 'figure', ',', 'Soderbergh', 'unaccountably', 'alienates', ',', 'if', 'not', 'deliberately', 'insults', ',', 'his', 'audiences', 'by', '1.', 'never', 'providing', 'most', 'of', 'Che', \"'s\", 'story', ';', '2.', 'imposing', 'unreasonable', 'film', 'lengths', 'with', 'mere', 'dullard', 'repetition', ';', '3.', 'ignoring', 'both', 'true', 'hindsight', 'and', 'a', 'narrative', 'of', 'events', ';', '4.', 'barely', 'developing', 'an', 'idea', ',', 'or', 'a', 'character', ';', '5.', 'remaining', 'claustrophobically', 'episodic', ';', '6.', 'ignoring', 'proper', 'context', 'for', 'scenes', '--', '-whatever', 'we', 'do', 'get', 'is', 'mired', 'in', 'disruptive', 'timeshifts', ';', '7.', 'linguistically', 'dislocating', 'all', 'audiences', '(', 'even', 'Spanish-speakers', 'will', 'be', 'confused', 'by', 'the', 'incongruous', 'expositions', 'in', 'English', ')', ';', 'and', '8.', 'pointlessly', 'whitewashing', 'his', 'main', 'subject', 'into', 'one', 'dimension', '.', 'Why', ',', 'at', 'THIS', 'late', 'stage', '?', 'The', 'T-shirt', 'franchise', 'has', 'been', 'a', 'success', '!', 'Our', 'sense', 'of', 'claustrophobia', 'is', 'surely', 'due', 'to', 'Peter', 'Buchman', 'and', 'Benjamin', 'VanDer', 'Veen', 'basing', 'their', 'screenplay', 'solely', 'on', 'Guevara', \"'s\", 'memoirs', '.', 'So', ',', 'like', 'a', 'poor', 'student', 'who', 'has', 'read', 'only', 'ONE', 'of', 'his', 'allotted', 'texts', 'for', 'his', 'assignment', ',', 'Soderbergh', \"'s\", 'product', 'is', 'exceedingly', 'limited', 'in', 'perspective', '.', 'The', 'audience', 'is', 'held', 'captive', 'within', 'the', 'same', 'constrained', 'knowledge', ',', 'scenery', 'and', 'circumstances', 'of', 'the', '``', 'revolutionaries', \"''\", ',', 'but', 'that', 'does', \"n't\", 'elicit', 'our', 'sympathy', '.', 'Instead', ',', 'it', 'dawns', 'on', 'us', 'that', '``', 'Ah', ',', 'Soderbergh', \"'s\", 'trying', 'to', 'hobble', 'his', 'audiences', 'the', 'same', 'as', 'the', 'Latino', 'peasants', 'were', 'at', 'the', 'time', \"''\", '.', 'But', 'these', 'are', 'the', 'SAME', 'illiterate', 'Latino', 'peasants', 'who', 'sold', 'out', 'the', 'good', 'doctor', 'to', 'his', 'enemies', '.', 'Why', 'does', 'Soderbergh', 'feel', 'the', 'need', 'to', 'equate', 'us', 'with', 'them', ',', 'and', 'keep', 'us', 'equally', 'mentally', 'captive', '?', 'Such', 'audience', 'straitjacketing', 'must', 'have', 'a', 'purpose', '.', 'Part2', 'is', 'more', 'chronological', 'than', 'Part1', ',', 'but', 'it', \"'s\", 'literally', 'mind-numbing', 'with', 'its', 'repetitive', 'bush-bashing', ',', 'misery', 'of', 'outlook', ',', 'and', 'lack', 'of', 'variety', 'or', 'character', 'arcs', '.', 'DelToro', \"'s\", 'Che', 'has', 'no', 'opportunity', 'to', 'grow', 'as', 'a', 'person', 'while', 'he', 'struggles', 'to', 'educate', 'his', 'own', 'ill-disciplined', 'troops', '.', 'The', 'only', 'letup', 'is', 'the', 'humour', 'as', 'Che', 'deals', 'with', 'his', 'sometimes', 'deeply', 'ignorant', '``', 'revolutionaries', \"''\", ',', 'some', 'of', 'whom', 'violently', 'lack', 'self-control', 'around', 'local', 'peasants', 'or', 'food', '.', 'We', 'certainly', 'get', 'no', 'insight', 'into', 'what', 'caused', 'the', 'conditions', ',', 'nor', 'any', 'strategic', 'analyses', 'of', 'their', 'guerrilla', 'insurgency', ',', 'such', 'as', 'it', 'was', '.', 'Part2', \"'s\", 'excruciating', 'countdown', 'remains', 'fearfully', 'episodic', ':', 'again', ',', 'nothing', 'is', 'telegraphed', 'or', 'contextualized', '.', 'Thus', 'even', 'the', 'scenes', 'with', 'Fidel', 'Castro', '(', 'Demián', 'Bichir', ')', 'are', 'unexpected', 'and', 'disconcerting', '.', 'Any', 'selected', 'events', 'are', 'portrayed', 'minimally', 'and', 'Latino-centrically', ',', 'with', 'Part1', \"'s\", 'interviews', 'replaced', 'by', 'time-shifting', 'meetings', 'between', 'the', 'corrupt', 'Bolivian', 'president', '(', 'Joaquim', 'de', 'Almeida', ')', 'and', 'US', 'Government', 'officials', 'promising', 'CIA', 'intervention', '(', '!', ')', '.', 'The', 'rest', 'of', 'Part2', \"'s\", '``', 'woods', \"''\", 'and', 'day-for-night', 'blue', 'filter', 'just', 'exasperate', 'the', 'audience', 'until', 'they', \"'re\", 'eyeing', 'the', 'exits', '.', 'Perhaps', 'DelToro', 'felt', 'too', 'keenly', 'the', 'frustration', 'of', 'many', 'non-American', 'Latinos', 'about', 'never', 'getting', 'a', 'truthful', ',', 'unspun', 'history', 'of', 'Che', \"'s\", 'exploits', 'within', 'their', 'own', 'countries', '.', 'When', 'foreign', 'governments', 'still', 'wo', \"n't\", 'deliver', 'a', 'free', 'press', 'to', 'their', 'people', '--', 'for', 'whatever', 'reason', '--', 'then', 'one', 'can', 'see', 'how', 'a', 'popular', 'American', 'indie', 'producer', 'might', 'set', 'out', 'to', 'entice', 'the', 'not-so-well-read', '(', '``', 'I', 'may', 'not', 'be', 'able', 'to', 'read', 'or', 'write', ',', 'but', 'I', \"'m\", 'NOT', 'illiterate', '!', \"''\", '--', 'cf.The', 'Inspector', 'General', '(', '1949', ')', ')', 'out', 'to', 'their', 'own', 'local', 'cinemas', '.', 'The', 'film', \"'s\", 'obvious', 'neglects', 'and', 'gross', 'over-simplifications', 'hint', 'very', 'strongly', 'that', 'it', \"'s\", 'aiming', 'only', 'at', 'the', 'comprehensions', 'of', 'the', 'less-informed', 'WHO', 'STILL', 'SPEAK', 'LITTLE', 'English', '.', 'If', 'they', 'did', ',', 'they', \"'d\", 'have', 'read', 'tomes', 'on', 'the', 'subject', 'already', ',', 'and', 'critiqued', 'the', 'relevant', 'social', 'issues', 'amongst', 'themselves', '--', 'learning', 'the', 'lessons', 'of', 'history', 'as', 'they', 'should', '.', 'Such', 'insights', 'are', 'precisely', 'what', 'societies', 'still', 'need', '--', 'and', 'not', 'just', 'the', 'remaining', 'illiterate', 'Latinos', 'of', 'Central', 'and', 'South', 'America', '--', 'yet', 'it', \"'s\", 'what', 'Che', '(', '2008', ')', 'gleefully', 'fails', 'to', 'deliver', '.', 'Soderbergh', 'buries', 'his', 'lead', 'because', 'he', \"'s\", 'weak', 'on', 'narrative', '.', 'I', 'am', 'gobsmacked', 'why', 'Benicio', 'DelToro', 'deliberately', 'chose', 'Soderbergh', 'for', 'this', 'project', 'if', 'he', 'knew', 'this', '.', 'It', \"'s\", 'been', '44yrs', ',', 'hindsight', 'about', 'Guevara', 'was', 'sorely', 'wanted', ':', 'it', \"'s\", 'what', 'I', 'went', 'to', 'see', 'this', 'film', 'for', ',', 'but', 'the', 'director', 'diabolically', 'robs', 'us', 'of', 'that', '.', 'David', 'Stratton', ',', 'writing', 'in', 'The', 'Australian', '(', '03-Oct-2009', ')', 'observed', 'that', 'while', 'Part1', 'was', '``', 'uneven', \"''\", ',', 'Part2', 'actually', '``', 'goes', 'rapidly', 'downhill', \"''\", 'from', 'there', ',', '``', 'charting', 'Che', \"'s\", 'final', 'campaign', 'in', 'Bolivia', 'in', 'excruciating', 'detail', \"''\", ',', 'which', '``', '...', 'feels', 'almost', 'unbearably', 'slow', 'and', 'turgid', \"''\", '.', 'Che', ':', 'The', 'Guerilla', 'aka', 'Part2', 'is', 'certainly', 'no', 'travelogue', 'for', 'Bolivia', ',', 'painting', 'it', 'a', 'picture', 'of', 'misery', 'and', 'atavism', '.', 'The', 'entire', 'second', 'half', 'is', 'only', 'redeemed', 'by', 'the', 'aforementioned', 'humour', ',', 'and', 'the', 'dramatic', '--', 'yet', 'tragic', '--', 'capture', 'and', 'execution', 'of', 'the', 'film', \"'s\", 'subject', '.', 'The', 'rest', 'of', 'this', 'interminable', 'cinema', 'verite', 'is', 'just', 'confusing', ',', 'irritating', 'misery', '--', 'shockingly', ',', 'for', 'a', 'Soderbergh', 'film', ',', 'to', 'be', 'avoided', 'at', 'all', 'costs', '.', 'It', 'is', 'bound', 'to', 'break', 'the', 'hearts', 'of', 'all', 'who', 'know', 'even', 'just', 'a', 'smattering', 'about', 'the', 'subject', '.', '(', '2/10', ')'], ['This', 'film', 'can', 'not', 'even', 'be', 'said', 'to', 'be', 'bad', 'for', 'it', 'is', 'sadly', ',', 'just', 'painfully', 'mediocre', '.', 'Lacking', 'any', 'real', 'wit', 'or', 'imagination', ',', 'a', 'thin', 'plot', 'is', 'stretched', 'to', 'the', 'absolute', 'limit', 'and', 'the', '`jokes', \"'\", '(', 'which', 'are', 'predictable', 'and', 'threadbare', ')', 'are', 'spun', 'out', 'to', 'such', 'inordinate', 'length', 'that', 'boredom', 'and', 'yawns', 'quickly', 'overtake', 'the', 'viewer', '.', 'Another', 'notch', 'to', 'mark', 'the', 'sad', 'decline', 'of', 'John', 'Waters', 'and', 'a', 'reminder', 'that', 'what', '`shocked', \"'\", 'or', 'amused', 'us', '30', 'years', 'ago', 'does', \"n't\", 'work', 'quite', 'the', 'same', 'way', 'now', '.', 'We', \"'ve\", 'seen', 'it', 'all', 'before', ',', 'and', 'it', 'no', 'longer', 'breaks', 'any', 'taboos', 'because', 'they', 'have', 'long', 'since', 'evaporated', '.', 'A', 'major', 'miss', '.'], ['This', 'is', 'not', 'as', 'funny', 'and', 'gory', 'as', 'the', 'DVD', 'box', 'claims', '.', 'I', 'really', 'love', 'twisted', 'and', 'wierd', 'movies', ',', 'but', 'this', 'one', 'is', 'really', 'just', 'dull', '!', 'It', \"'s\", 'one', 'hour', 'of', 'ripped', 'off', 'penises', ',', 'flying', 'Baby', 'Born', 'dolls', 'and', 'a', 'lot', 'of', 'rape', '!', 'I', 'think', 'the', 'intention', 'with', 'this', 'amateur', 'sleaze', ',', 'was', 'to', 'make', 'a', \"It's-so-bad-it's-good\", 'movies', ',', 'but', 'it', 'fails', '.', 'It', \"'s\", 'just', 'bad', '!', 'A', 'few', 'scenes', 'are', 'ok', ',', 'but', 'in', 'whole', 'it', \"'s\", 'a', 'mess', '.', 'If', 'you', 'like', 'amateur', 'splatter', 'like', 'this', 'one', '(', 'Only', 'way', 'better', ')', 'I', 'would', 'recommend', 'Andreas', 'Schnass', \"'\", 'Violent', 'Shit', '2', 'and', '3', '.'], ['Gods', ',', 'I', 'have', \"n't\", 'watched', 'a', 'movie', 'this', 'awful', 'in', 'a', 'long', 'while', '.', 'Maybe', 'not', 'since', \"'The\", 'New', 'Guy', \"'\", 'or', 'various', 'Freddie', 'Prinze', 'Jr.', 'movies', '.', 'Yes', ',', 'it', 'is', 'that', 'astoundingly', 'awful', '.', 'Mira', 'Sorvino', \"'s\", 'blank', 'and', 'wooden', 'acting', 'surely', 'must', \"'ve\", 'been', 'inspired', 'by', 'Freddie', '.', 'The', 'movie', 'staging', 'was', 'awkward', '(', 'like', 'a', 'play', ',', 'rather', ',', 'and', 'that', 'feeling', 'of', 'confinement', 'does', 'NOT', 'work', 'well', 'on', 'film', ')', '.', 'The', 'actors', 'had', 'no', 'idea', 'what', 'they', 'were', 'doing', ',', 'especially', 'Sorvino', '.', 'Her', 'accent', 'was', 'awful', 'and', 'her', 'sex', 'appeal', 'non-existent', 'here', 'so', 'it', 'was', 'painful', 'to', 'see', 'her', \"'seducing\", \"'\", 'other', 'characters', 'and', 'they', \"'falling\", \"'\", 'for', 'it', '.', 'And', 'what', 'was', 'with', 'the', 'occaisional', 'shots', 'of', 'a', 'live', 'audience', 'in', 'lawn', 'chairs', '?', 'Nonsensical', '!', 'I', 'had', 'to', 'turn', 'the', 'dvd', 'player', 'off', ',', 'it', 'would', 'have', 'been', 'self-inflicted', 'pain', 'to', 'finish', 'this', 'film', '.'], ['I', 'too', 'like', 'Dafoe', 'as', 'an', 'actor', 'but', 'i', 'wasted', 'a', 'few', 'hours', 'of', 'my', 'life', 'actually', 'watching', 'this', 'film', ',', 'I', 'still', 'cant', 'believe', 'i', 'managed', 'to', 'watch', 'it', 'in', 'its', 'entirety', '.', 'Was', 'there', 'actually', 'a', 'point', 'to', 'the', 'film', '?', ',', 'and', 'the', 'ending', ',', 'well', ',', 'Im', 'glad', 'i', 'never', 'paid', 'to', 'see', 'this', 'awful', 'pointless', 'piece', 'of', 'pathetic', 'excuse', 'of', 'a', 'film', '!', 'Im', 'not', 'sure', 'without', 'hunting', 'the', 'facts', 'out', 'but', 'is', 'Dafoe', 'married', 'or', 'seeing', 'the', 'awful', 'actress', 'in', 'this', 'film', 'in', 'real', 'life', ',', 'if', 'so', 'was', 'it', 'an', 'attempt', 'to', 'kick', 'start', 'her', 'career', '?', ',', 'if', 'so', 'im', 'afraid', 'it', 'must', 'have', 'failed..', 'I', 'post', 'this', 'in', 'the', 'hope', 'i', 'can', 'actually', 'put', 'someone', 'off', 'watching', 'this', 'film', ',', 'even', 'if', '1', 'person', 'takes', 'heed', 'of', 'my', 'comments', 'and', 'decides', 'they', 'would', 'much', 'rather', 'watch', 'paint', 'drying', 'i', 'will', 'feel', 'i', 'have', 'made', 'some', 'good', 'in', 'the', 'world', ',', 'if', 'only', 'i', 'had', 'had', 'the', 'same', 'advice', '...'], ['A', 'family', 'looking', 'for', 'some', 'old', 'roadside', 'attractions', 'to', 'include', 'in', 'the', 'father', \"'s\", 'coffee-table', 'book', 'come', 'across', 'an', 'ancient', ',', 'decrepit', 'old', 'freak', 'show', 'run', 'by', 'an', 'eccentric', 'one-eyed', 'man', '.', 'When', 'their', 'family', 'van', 'breaks', 'down', 'upon', 'leaving', 'the', 'sideshow', ',', 'they', \"'re\", 'forced', 'to', 'stay', 'at', 'a', 'nearly', 'abandoned', 'fishing', 'camp', 'that', 'was', 'the', 'site', 'of', 'a', 'prison', 'break', 'decades', 'prior', '.', 'There', 'have', 'been', 'many', 'films', 'in', 'the', \"'freak\", \"'\", 'subgenre', 'of', 'horror', ',', 'ranging', 'from', 'Tod', 'Browning', \"'s\", 'beloved', \"'Freaks\", \"'\", '(', '1932', ')', 'to', 'Alex', 'Winter', \"'s\", 'hilarious', \"'Freaked\", \"'\", '(', '1993', ')', '.', 'Those', 'are', 'both', 'classics', '(', 'or', 'soon-to-be', 'with', \"'Freaked\", \"'\", ')', '.', \"'Side\", 'Sho', ',', \"'\", 'however', ',', 'never', 'will', 'be', '.', 'And', 'if', 'it', 'ever', 'does', 'reach', 'classic', 'status', '.', '.', '.', 'well', ',', 'it', 'will', 'be', 'an', 'obvious', 'clue', 'to', 'the', 'sad', 'state', 'of', 'our', 'genre', '.', 'From', 'the', 'ridiculously', 'bad', 'opening', 'song', 'to', 'the', '17-year-old', 'daughter', 'that', \"'s\", 'obviously', 'older', 'than', 'her', 'natural', 'mother', ',', 'this', 'film', 'did', 'not', 'have', 'much', 'going', 'for', 'it', '.', 'The', 'writing', 'was', 'subpar', ',', 'but', 'not', 'completely', 'awful', '.', '.', '.', 'just', 'boring', '.', 'The', 'direction', 'was', 'poor', ',', 'and', 'the', 'rare', 'freak', 'effects', 'were', 'pretty', 'horrendous', 'and', 'unbelievable', '.', 'The', 'acting', 'was', 'abysmal', 'and', 'the', 'casting', 'was', 'even', 'worse', '.', 'Anyone', 'who', 'would', 'believe', 'the', 'ages', 'of', 'these', 'two', 'camp-age', 'teenagers', 'must', 'not', 'have', 'met', 'a', 'teenager', 'in', 'a', 'long', ',', 'long', 'time', '.', 'There', 'was', 'far', 'from', 'enough', 'gore', '&', 'violence', 'to', 'make', 'up', 'for', 'the', 'lack', 'of', 'any', 'other', 'quality', '.', '.', '.', 'and', 'when', 'there', 'was', 'a', 'bit', 'of', 'violence', ',', 'it', 'was', 'not', 'well', 'done', 'at', 'all', '.', 'And', ',', 'I', 'ca', \"n't\", 'forget', 'to', 'mention', 'the', 'ending', 'fight', 'scenes', 'which', 'were', ',', 'with', 'all', 'honesty', ',', 'some', 'of', 'the', 'worst', 'I', \"'ve\", 'ever', ',', 'ever', 'seen', 'in', 'a', 'film', '.', 'Overall', ',', 'this', 'is', 'an', 'easily', 'forgettable', 'and', 'poorly', 'made', 'horror', 'film', 'that', 'deserves', 'to', 'be', 'left', 'alone', 'at', 'the', 'bottom', 'of', 'the', 'dollar', 'bin', '.', 'Final', 'verdict', ':', '2.5/10', '.'], ['Nell', 'Shipman', 'attempted', 'a', 'plot', 'to', 'lead', 'up', 'to', 'a', 'chase', 'finale', 'in', \"'Back\", 'to', 'God', \"'s\", 'Country', \"'\", 'of', 'the', 'previous', 'year', ',', 'and', 'she', 'failed', 'miserably', '.', 'This', 'time', ',', 'she', 'does', 'better', ',', 'although', 'it', 'seems', 'pointless', '.', \"'Something\", 'New', \"'\", 'hardly', 'has', 'a', 'plot', 'lying', 'outside', 'of', 'the', 'chase', '.', 'There', \"'s\", 'a', 'brief', 'premise', ',', 'which', 'sets', 'up', 'the', 'hero', '(', 'co-author', 'and', 'Shipman', \"'s\", 'boyfriend', ')', 'to', 'have', 'to', 'save', 'the', 'girl', '(', 'played', 'by', 'Shipman', ')', ',', 'then', 'it', \"'s\", 'nothing', 'but', 'an', 'exciting', ',', 'implausible', 'chase', 'from', 'there', '.', 'Of', 'course', ',', 'it', 'plays', 'out', 'like', 'an', 'hour-long', 'advertisement', 'for', 'a', 'Maxwell', 'Sedan', ',', 'but', 'the', 'entire', 'movie', 'is', 'congruously', 'ridiculous', '.', 'It', 'does', \"n't\", 'seem', 'that', 'she', 'learned', 'much', 'from', 'the', 'last-minute', 'rescue', 'films', 'of', 'D.W.', 'Griffith', 'or', 'its', 'parodies', 'by', 'Mack', 'Sennett', 'and', 'other', 'comedians', ',', 'which', 'she', \"'s\", 'imitating', '.', 'One', 'point', 'of', 'interest', 'is', 'that', 'Shipman', 'writes', 'and', 'directs', 'herself', 'into', 'the', 'film', 'as', 'the', 'writer', 'of', 'the', 'film', \"'s\", 'story', ',', 'which', 'has', 'as', 'its', 'protagonist', 'a', 'writer', '(', 'Shipman', 'again', ')', ',', 'although', 'she', 'does', \"n't\", 'do', 'much', 'else', 'clever', 'or', 'humorous', 'with', 'it', ',', 'even', 'though', 'she', 'attempts', 'to', '.', 'Again', ',', 'others', 'had', 'pioneered', 'the', 'writer', \"'s\", 'joke', 'in', 'the', 'intertitles', ',', 'like', 'Anita', 'Loos', 'with', \"'Wild\", 'and', 'Woolly', \"'\", 'or', 'Frances', 'Marion', 'with', \"'A\", 'Girl', \"'s\", 'Folly', \"'\", '(', 'both', '1917', ')', '.', 'At', 'least', ',', 'Shipman', 'gives', 'the', 'impression', 'that', 'she', 'does', \"n't\", 'take', 'herself', 'or', 'the', 'film', 'seriously', '--', 'and', 'neither', 'do', 'I', '.', \"'Something\", 'New', ',', \"'\", 'despite', 'its', 'claim', ',', 'is', 'hackneyed', '.'], ['****MINOR', 'SPOILERS***', 'As', 'a', 'bad', 'movie', 'connoisseur', 'I', 'must', 'have', 'viewed', 'hundreds', 'of', 'bad', 'movies', 'and', 'yet', '``', 'Hobgoblins', \"''\", 'stands', 'apart', 'from', 'all', 'others', 'in', 'it', \"'s\", 'own', 'unique', 'way', '.', 'Classic', 'baddies', 'such', 'as', '``', 'The', 'Creeping', 'Terror', ',', \"''\", '``', 'The', 'Mighty', 'Gorga', \"''\", 'and', '``', 'Manos', \"''\", 'are', 'uniformly', 'bad', 'from', 'start', 'to', 'finish', '.', '``', 'Hobgoblins', \"''\", 'on', 'the', 'other', 'hand', ',', 'starts', 'off', 'bad', 'and', 'gets', 'progressively', 'worse', 'as', 'it', 'goes', '.', 'During', 'my', 'first', 'viewing', 'of', 'the', 'infamous', 'rake', 'fight', 'scene', 'I', 'thought', 'to', 'myself', 'that', 'this', 'was', 'a', 'truly', 'bad', 'film', '.', 'I', 'was', 'blissfully', 'unaware', 'that', 'I', 'had', 'just', 'seen', 'the', 'best', 'that', 'this', 'movie', 'had', 'to', 'offer', '.', 'The', 'movie', 'takes', 'its', 'most', 'massive', 'nosedive', 'into', 'celluloid', 'hell', 'during', 'the', 'painfully', 'inept', '``', 'Club', 'Scum', \"''\", 'sequence', 'which', 'is', 'a', 'continuous', 'string', 'of', 'one', 'unfunny', 'joke', 'after', 'another', '.', 'With', 'just', 'this', 'one', 'film', ',', 'director', 'Rick', 'Sloane', 'proves', 'that', 'he', 'deserves', 'mention', 'alongside', 'the', 'likes', 'of', 'Coleman', 'Francis', 'and', 'Bill', 'Rebane', 'as', 'one', 'of', 'the', 'worst', 'directors', 'of', 'all', 'time', '.', 'How', 'bad', 'can', 'a', 'bad', 'movie', 'be', '?', 'Watch', '``', 'Hobgoblins', \"''\", 'and', 'wonder', 'no', 'longer', '.'], ['First', ',', 'let', 'me', 'state', 'that', 'I', 'am', 'a', 'big', 'fan', 'of', 'Ashley', 'Judd', ';', 'that', \"'s\", 'why', 'I', 'was', 'curious', 'to', 'check', 'out', 'this', ',', 'her', 'debut', 'role', '.', 'No', 'argument', 'that', 'her', 'talent', 'is', 'apparent', 'and', 'her', 'performance', 'excellent', '.', 'I', 'guess', 'I', 'can', 'also', 'see', 'how', 'the', 'professional', 'critics', 'liked', 'the', 'aesthetic', 'content', 'of', 'the', 'story', '.', 'However', ',', 'I', 'like', 'to', 'think', 'that', 'movies', 'are', 'meant', 'to', 'entertain', 'us', 'and', 'that', 'is', 'where', 'this', 'movie', 'fails', '.', 'By', 'the', 'halfway', 'point', ',', 'I', 'found', 'myself', 'thinking', ',', '``', 'How', 'much', 'longer', 'do', 'we', 'have', 'to', 'watch', 'a', 'bored', 'shop', 'girl', ',', 'idly', 'standing', 'around', 'a', 'deserted', 'souvenir', 'shop', ',', 'rearranging', 'the', 'merchandise', '?', \"''\", 'It', 'seemed', 'to', 'go', 'on', 'forever', '!', 'Then', ',', 'I', 'thought', ',', 'maybe', 'this', 'is', 'one', 'of', 'those', 'movies', 'where', 'the', 'director', 'tries', 'to', 'lull', 'the', 'audience', 'into', 'a', 'relaxed', 'state', 'before', 'hitting', 'them', 'with', 'some', 'dynamic', 'event', '.', 'No', 'such', 'luck', '.', 'The', 'movie', 'continues', 'it', \"'s\", 'bland', ',', 'boring', ',', 'uneventful', 'story', 'all', 'the', 'way', 'to', 'the', 'end', '.', 'I', \"'m\", 'not', 'saying', 'this', 'because', 'I', \"'m\", 'an', 'action-junkie', '.', 'I', 'like', 'all', 'kinds', 'of', 'movies', ',', 'especially', 'romantic-comedies', '.', 'But', 'I', 'expect', 'to', 'be', 'entertained', '.', 'Add', 'the', 'fact', 'that', 'the', 'cinematography', 'and', 'sound', 'quality', 'are', 'comparable', 'to', 'your', 'neighbor', \"'s\", 'bad', 'home', 'movies', '.', 'Depressing', '!', 'I', 'just', 'do', \"n't\", 'get', 'how', 'anyone', 'could', 'like', 'this', 'movie', '.', 'Zero-entertainment', 'value', '.', 'The', 'longest', '114', 'minutes', 'of', 'my', 'life', '.'], ['Seriously', ',', 'I', 'mean', 'very', 'seriously', ',', 'when', 'I', 'first', 'started', 'watching', 'the', 'show', 'I', 'thought', 'it', 'was', 'good', '.', 'But', 'the', 'plots', 'just', 'got', 'worse', '.', 'The', 'storyline', 'were', 'either', 'too', 'boring', 'or', 'predictable', '.', 'George', 'is', \"n't\", 'always', 'funny', ',', 'he', 'sometimes', 'acts', 'stupid', '.', 'His', 'jokes', 'are', 'overdone', '.', 'His', 'mom', 'is', 'the', 'silliest', 'character', 'of', 'the', 'show', '.', 'How', 'can', 'a', 'mother', 'treat', 'her', 'own', 'son', 'that', 'way', ',', 'okay', 'if', 'it', 'was', 'the', 'daughter', 'in', 'law', ',', 'but', 'this', 'was', 'her', 'own', 'son', '.', 'I', 'give', 'this', 'show', 'a', '4/10', 'just', 'because', 'the', 'first', 'few', 'shows', 'were', 'a', 'little', 'funny', '.', 'The', 'actors', 'Constance', 'Marie', 'and', 'Masiela', 'Lusha', 'do', 'a', 'great', 'job', '.', 'Do', \"n't\", 'know', 'how', 'these', 'shows', 'get', 'to', 'play', 'for', 'so', 'long', '.', 'If', 'you', \"'re\", 'really', 'bored', 'like', 'I', 'was', 'and', 'have', 'nothing', 'else', 'to', 'watch', ',', 'I', \"'d\", 'suggest', 'you', 'watch', 'this', '.'], ['I', 'would', \"n't\", 'give', 'this', 'movie', 'a', 'rating', ',', 'it', \"'s\", 'not', 'worthy', '.', 'I', 'watched', 'it', 'only', 'because', 'I', \"'m\", 'a', 'Pfieffer', 'fan', '.', 'I', 'love', 'her', 'and', 'would', 'watch', 'anything', 'she', 'made', '.', 'Even', 'in', 'this', 'dud', ',', 'she', 'did', \"n't\", 'disappoint', '.', 'Every', 'scene', 'with', 'her', 'in', 'it', ',', 'kept', 'the', 'viewer', 'watching', '...', 'waiting', '...', 'for', 'something', 'to', 'happen', 'but', 'nothing', 'ever', 'did', '.', 'It', 'had', 'some', 'good', 'story', 'lines', 'but', 'they', 'ended', 'abruptly', 'as', 'soon', 'as', 'it', 'started', '.', 'Some', 'of', 'the', 'other', 'characters', 'had', 'potential', 'but', 'nothing', 'became', 'of', 'it', '.', 'Pfieffer', 'was', '29', 'when', 'she', 'made', 'this', 'film', 'and', 'at', 'her', 'most', 'lovely', '.', 'The', 'wardrobe', 'and', 'set', 'was', 'surprisingly', 'good', '.', 'I', 'can', 'watch', 'mostly', 'anything', 'and', 'rarely', 'come', 'across', 'a', 'movie', 'I', 'ca', \"n't\", 'find', 'something', 'to', 'like', 'about', 'it', ',', 'but', 'this', 'was', 'a', 'dud', '.', 'I', 'do', \"n't\", 'understand', '.', 'The', 'worst', 'thing', 'about', 'it', 'all', ',', 'it', 'had', 'a', 'big', 'cliff', 'hanger', 'at', 'the', 'end', '.', 'It', 'had', 'an', 'ending', 'scene', 'that', 'woke', 'you', 'up', 'and', 'say', 'wow', ',', 'this', 'film', 'is', 'finally', 'going', 'some', 'place', ',', 'then', 'the', 'credits', 'roll', '.', 'Good', 'grief', '.', 'I', 'agree', 'with', 'the', 'review', 'that', 'said', '.99', 'would', 'have', 'bought', '3', 'cans', 'of', 'cat', 'food', 'and', 'watching', 'my', 'cat', 'eat', 'would', 'have', 'been', 'more', 'exciting', '.', 'Well', 'said', '.', 'Actually', ',', 'that', 'comment', 'was', 'more', 'entertaining', 'than', 'the', 'film', 'because', 'it', 'sums', 'it', 'up', 'so', 'well', '.', 'I', 'too', 'wasted', '.99', 'cents', 'on', 'this', 'dud.dud.dud', '.'], ['Fred', 'Olen', 'Ray', 'is', 'a', 'lousy', 'director', ',', 'even', 'as', 'far', 'as', 'B', 'movie', 'directors', 'go', ',', 'but', \"'Haunting\", 'Fear', \"'\", 'is', 'probably', 'one', 'of', 'his', 'better', 'films', '.', 'Yes', ',', 'it', 'does', 'butcher', 'the', 'great', 'Poe', 'story', \"'Premature\", 'Burial', \"'\", 'and', 'yes', ',', 'it', 'is', 'badly', 'paced', 'and', 'uneven', 'throughout', ',', 'but', 'it', 'is', 'also', 'pretty', 'entertaining', '.', 'Scream', 'Queen', 'Brinke', 'Stevens', 'is', 'better', 'than', 'usual', 'as', 'a', 'pretty', ',', 'fragile', 'housewife', 'whose', 'worthless', 'husband', '(', 'Jay', 'Richardson', ')', 'is', 'plotting', 'to', 'do', 'away', 'with', 'her', 'because', 'he', 'needs', 'money', 'to', 'pay', 'off', 'a', 'gangster', '(', 'played', 'by', 'Robert', 'Quarry', ')', '.', 'Delia', 'Sheppard', ',', 'a', 'veteran', 'of', 'many', 'early', '90s', 'soft-core', 'movies', ',', 'actually', 'gives', 'the', 'best', 'performance', 'in', 'the', 'film', 'as', 'a', 'slutty', 'mistress', '.', 'You', 'will', 'also', 'enjoy', 'small', 'roles', 'played', 'by', 'Karen', 'Black', 'as', 'a', 'psychic', ',', 'Robert', 'Clarke', 'as', 'a', 'doctor', 'and', 'Michael', 'Berryman', 'in', 'a', 'nice', 'cameo', 'in', 'one', 'of', 'the', 'better', 'scenes', '.', 'The', 'ending', 'did', \"n't\", 'make', 'much', 'sense', '!'], ['well', ',', 'the', 'writing', 'was', 'very', 'sloppy', ',', 'the', 'directing', 'was', 'sloppier', ',', 'and', 'the', 'editing', 'made', 'it', 'worse', '(', 'at', 'least', 'i', 'hope', 'it', 'was', 'the', 'editing', ')', '.', 'the', 'acting', 'was', \"n't\", 'bad', ',', 'but', 'it', 'was', \"n't\", 'that', 'good', 'either', '.', 'pretty', 'much', 'none', 'of', 'the', 'characters', 'were', 'likable', '.', 'at', 'least', '45', 'minutes', 'of', 'that', 'movie', 'was', 'wasted', 'time', 'and', 'the', 'other', 'hour', 'or', 'so', 'was', 'not', 'used', 'anywhere', 'near', 'its', 'full', 'potential', '.', 'it', 'was', 'a', 'great', 'idea', ',', 'but', 'yet', 'another', 'wasted', 'good', 'idea', 'goes', 'by', '.', 'it', 'could', 'have', 'ended', '3', 'different', 'places', 'but', 'it', 'just', 'kept', 'going', 'on', 'to', 'a', 'mostly', 'predictable', 'hollywood', 'ending', '.', 'and', 'what', 'was', \"n't\", 'predictable', 'was', 'done', 'so', 'badly', 'that', 'it', 'did', \"n't\", 'matter', '.', 'the', 'ending', 'was', 'not', 'worth', 'watching', 'at', 'all', '.', 'sandra', 'bullock', 'was', 'out', 'of', 'her', 'element', 'and', 'should', 'stay', 'away', 'from', 'these', 'types', 'of', 'movies', '.', 'the', 'movie', 'looked', 'rushed', 'also', '.', 'the', 'movie', 'just', 'was', \"n't\", 'really', 'worth', 'seeing', ',', 'and', 'had', 'i', 'paid', 'for', 'it', 'i', 'would', 'have', 'been', 'very', 'mad', '.', 'maybe', 'i', 'was', 'more', 'disappointed', 'because', 'i', 'expected', 'a', 'really', 'good', 'movie', 'and', 'got', 'a', 'bad', 'one', '.', 'the', 'movie', 'over', 'all', 'was', 'not', 'horrifibly', 'bad', ',', 'but', 'i', 'would', \"n't\", 'reccomend', 'it', '.', 'i', 'gave', 'it', '2', 'out', 'of', '10', 'b/c', 'i', 'liked', 'the', 'idea', 'so', 'much', 'and', 'i', 'did', 'like', 'one', 'character', '(', 'justin', 'i', 'believe', ',', 'the', 'super', 'smart', 'one', ')', '.', 'and', 'it', 'also', 'had', 'some', 'very', 'cheap', 'ways', 'to', 'cover', 'plot', 'holes', '.', 'it', 'was', 'like', 'trying', 'to', 'cover', 'a', 'volcano', 'with', 'cheap', 'masking', 'tape', ',', 'it', 'was', 'not', 'pretty', '.', 'anyway', ',', 'if', 'you', 'see', 'it', ',', 'wait', 'for', 'the', '$', '1.50', 'theater', 'or', 'video', ',', 'unless', 'you', 'like', 'pretty', 'much', 'every', 'movie', 'you', 'see', ',', 'then', 'i', 'guess', 'you', \"'ll\", 'like', 'this', 'one', '.'], ['I', 'watched', 'it', 'with', 'my', 'mom', 'and', 'we', 'were', 'like', '...', 'What', 'the', 'hell', '?', 'We', 'did', \"n't\", 'get', 'it', 'at', 'all', '.', 'I', 'may', 'have', 'this', 'wrong', ',', 'but', 'a', 'chair', 'had', 'something', 'to', 'do', 'with', 'the', 'death', 'of', 'this', 'woman', \"'s\", 'father', '.', 'That', 'movie', 'was', 'terrible', '!', 'This', 'is', 'not', 'a', 'movie', 'for', 'those', 'who', 'love', 'a', 'good', 'suspense', 'movie', '.', 'Bad', 'suspense', 'movie', '!', '*shakes', 'cane', 'at', 'movie*', 'I', \"'m\", 'never', 'seeing', 'it', 'again', '.', 'And', 'I', \"'m\", 'a', 'big', 'fan', 'of', 'lifetime', 'movies', ',', 'too', '!', 'They', 'kinda', 'need', 'to', 'quit', 'trying', 'to', 'make', 'movies', 'outta', 'books', '.', 'It', \"'s\", 'driving', 'me', 'crazy', '!', '!', '!', 'And', 'Whit', 'was', 'butt-ugly', 'and', 'yet', ',', 'she', 'loves', 'him', 'more', 'than', 'Hugh', ',', 'who', 'was', 'a', 'TINY', 'bit', 'nicer-looking', '.', 'My', 'rating', ':', '1/10'], ['This', 'movie', 'is', 'bad', '.', 'I', 'do', \"n't\", 'just', 'mean', \"'bad\", \"'\", 'as', 'in', ';', '``', 'Oh', 'the', 'script', 'was', 'bad', \"''\", ',', 'or', ';', '``', 'The', 'acting', 'in', 'that', 'scene', 'was', 'bad', \"''\", '...', '..I', 'mean', 'bad', 'as', 'in', 'someone', 'should', 'be', 'held', 'criminally', 'accountable', 'for', 'foisting', 'this', 'unmitigated', 'pile', 'of', 'steaming', 'crud', 'onto', 'an', 'unsuspecting', 'public', '.', 'I', 'wo', \"n't\", 'even', 'dignify', 'it', 'with', 'an', 'explanation', 'of', 'the', '(', 'Plot', '?', '?', ')', 'if', 'I', 'can', 'refer', 'to', 'it', 'as', 'that.I', 'can', 'think', 'of', 'only', 'one', 'other', 'occasion', 'in', 'some', '40-odd', 'years', 'of', 'movie', 'watching', 'that', 'I', 'have', 'found', 'need', 'to', 'vent', 'my', 'spleen', 'on', 'a', 'movie', '.', 'I', 'mean', ',', 'after', 'all', ',', 'no', 'one', 'goes', 'out', 'to', 'intentionally', 'make', 'a', 'bad', 'movie', ',', 'do', 'they', '?', 'Well', ',', 'yes', '.', 'Apparently', 'they', 'do', '...', 'and', 'the', 'guilty', 'man', 'is', 'writer/director', 'Ulli', 'Lommel', '.', 'But', 'the', 'worst', 'of', 'it', 'is', 'that', 'Blockbusters', 'is', 'actually', 'renting', 'this', 'to', 'their', 'customers', '!', 'Be', 'advised', '.', 'Leave', 'this', 'crap', 'where', 'it', 'belongs', '.', 'Stuck', 'on', 'the', 'shelf', ',', 'gathering', 'dust', '.'], ['Before', 'I', \"'d\", 'seen', 'this', ',', 'I', 'had', 'seen', 'some', 'pretty', 'bad', 'Christmas', 'films', '.', 'But', 'once', 'I', 'saw', 'this', ',', '``', 'Jingle', 'All', 'the', 'Way', \"''\", 'looked', 'better', 'than', '``', 'The', 'Godfather', \"''\", '.', '``', 'Santa', 'Claus', \"''\", 'is', 'a', 'jolly', 'film', 'about', 'Santa', 'helping', 'out', 'some', 'kids', ',', 'but', 'it', 'almost', 'feels', 'demonic', 'watching', 'it', '.', 'Santa', \"'s\", 'jolly', 'ho-ho-ho', 'is', 'replaces', 'by', 'an', 'evil', ',', 'devilish', 'laugh', 'that', 'I', \"'m\", 'sure', 'has', 'turned', 'many', 'kids', 'off', 'of', 'Christmas', '.', 'The', 'plot', 'of', 'this', 'massacre', 'is', 'very', 'strange', ',', 'which', 'fits', 'along', 'with', 'all', 'of', 'the', 'performances', 'and', 'dialog', '.', 'Santa', 'lives', 'high', 'above', 'Earth', 'in', 'the', 'North', 'Pole', 'where', 'he', ',', 'and', 'kids', 'from', 'all', 'around', 'the', 'world', 'get', 'ready', 'for', 'Christmas', '.', 'But', 'Santa', 'has', 'an', 'enemy', 'named', 'Pitch', ',', 'or', 'Satan', '.', 'Pitch', 'tries', 'to', 'ruin', 'Santa', \"'s\", 'Christmas', 'by', 'making', 'three', 'boys', 'naughty', ',', 'and', 'by', 'creating', 'diversions', ',', 'like', 'moving', 'the', 'chimney', 'and', 'making', 'the', 'doorknob', 'hot', '.', 'When', 'Pitch', 'causes', 'Santa', 'to', 'be', 'attacked', 'by', 'a', 'dog', ',', 'it', \"'s\", 'up', 'to', 'Santa', \"'s\", 'helper', 'Pedro', 'and', 'Merlin', 'the', 'wizard', 'to', 'get', 'Santa', 'out', 'of', 'this', 'pickle', '.', 'Everything', 'about', 'this', 'film', ',', 'along', 'with', 'being', 'downright', 'bad', ',', 'is', 'so', 'bizarre', '.', 'Satan', 'dances', 'a', 'lot', 'and', 'he', 'actually', 'seems', 'much', 'more', 'merry', 'than', 'Santa', '.', 'Santa', 'talks', 'about', 'delivering', 'presents', 'to', 'all', 'the', 'boys', 'and', 'girls', ',', 'yet', 'he', 'seems', 'to', 'only', 'deliver', 'to', '5', 'houses', 'of', 'kids', 'in', 'Mexico', '.', 'The', 'reindeer', 'are', 'wind', 'up', 'toys', ',', 'and', 'when', 'the', 'reindeer', 'laughs', ',', 'I', \"'m\", 'amazed', 'it', 'does', \"n't\", 'bring', 'tears', 'to', 'kid', \"'s\", 'eyes', '...', 'it', \"'s\", 'frightening', '.', 'Everything', 'is', 'terrible', '.', 'The', 'first', '10', 'minutes', 'are', 'simply', 'Santa', 'playing', 'the', 'organ', 'while', 'kids', 'sing', 'to', 'it', '.', 'Probably', 'one', 'of', 'the', 'strangest', 'scenes', 'is', 'Santa', 'shooting', 'Pitch', 'in', 'the', 'butt', 'with', 'a', 'mini-cannon', 'and', 'uproariously', 'laughing', 'about', 'it', 'while', 'Pitch', 'dances', 'around', 'in', 'pain', '.', 'I', 'think', 'parents', 'are', 'better', 'off', 'telling', 'their', 'little', 'kids', 'about', 'where', 'babies', 'come', 'from', ',', 'than', 'showing', 'them', 'this', '.', 'The', 'only', 'positive', 'is', 'it', 'will', 'have', 'you', 'laughing', 'hysterically', 'if', 'you', 'can', 'appreciate', 'bad', 'cinema', '.', 'My', 'rating', ':', 'BOMB/****', '.', '85', 'mins', '.'], ['I', 'was', 'unsure', 'whether', 'or', 'not', 'Andy', 'Sidaris', 'could', 'repeat', 'his', 'success', 'with', 'the', 'cinematic', 'hit', '``', 'Malibu', 'Express', '.', \"''\", 'With', 'his', 'film', 'Fit', 'to', 'Kill', 'he', 'has', 'proved', 'that', 'Sidaris', 'is', 'a', 'serious', 'filmmaker', 'and', 'not', 'just', 'a', 'one-shot', 'director', '.', 'The', 'plot', 'written', 'by', 'Sidaris', ',', 'which', 'was', 'ungratefully', 'passed', 'up', 'by', 'the', 'Academy', ',', 'is', 'a', 'complex', 'screenplay', 'involving', 'many', 'unseen', 'twists', 'and', 'turns', '.', 'The', 'main', 'characters', 'composed', 'work', 'for', 'a', 'sexually', 'based', 'radio', 'station', 'known', 'as', 'KSXY', '.', 'Cleverly', ',', 'KSXY', 'is', 'actually', 'their', 'secret', 'headquarters', '.', 'In', '``', 'Fit', 'to', 'Kill', \"''\", 'they', 'confront', 'their', 'long-time', 'nemesis', 'Kane', ',', 'who', 'is', 'trying', 'to', 'steal', 'one', 'of', 'Russia', \"'s\", 'most', 'prized', 'diamonds', '.', 'A', 'well-written', 'screenplay', 'is', 'not', 'all', ',', 'excellent', 'acting', 'by', 'the', 'cast', 'helps', 'to', 'ensure', 'this', 'film', 'as', 'a', 'cult', 'classic', '.', 'Panned', 'by', 'the', 'critics', 'and', 'the', 'box', 'office', ',', 'this', 'film', 'will', 'be', 'appreciated', 'in', 'years', 'to', 'come', '.', 'It', 'is', 'now', 'suffering', 'the', 'same', 'fate', 'as', 'Clockwork', 'Orange', 'and', 'Taxi', 'Driver', 'did', ',', 'but', 'in', 'the', 'future', 'will', 'undoubtly', 'become', 'recognized', '.', 'I', 'am', 'disappointed', 'no', 'critic', 'circles', 'have', 'recognized', 'Andy', 'Sidaris', \"'s\", 'trademark', 'filmmaking', '.', 'The', 'costumes', ',', 'the', 'special', 'effects', ',', 'all', 'help', 'to', 'compliment', 'this', 'already', 'beautiful', 'piece', 'of', 'filmmaking', '.', 'It', 'may', 'do', 'you', 'best', 'to', 'ignore', 'the', 'dismal', '3', 'rating', 'on', 'this', 'film', 'and', 'go', 'out', 'and', 'rent', 'it', 'for', 'yourself', '.', 'My', 'personal', 'rating', 'is', '10/10', '.', 'The', 'drama', 'is', 'as', 'thick', 'as', 'the', 'blockbuster', 'Runaway', 'Bride', ',', 'and', 'the', 'action', 'better', 'or', 'equal', 'to', 'the', 'cinematic', 'masterpiece', 'Last', 'Action', 'Hero', '.', 'Andy', ',', 'keep', 'up', 'the', 'good', 'work', '.'], ['Happy', 'Go', 'Lovely', 'is', 'a', 'waste', 'of', 'everybody', \"'s\", 'time', 'and', 'talent', 'including', 'the', 'audience', '.', 'The', 'lightness', 'of', 'the', 'old-hat', 'mistaken', 'identity', 'and', 'faux', 'scandal', 'plot', 'lines', 'is', 'eminently', 'forgivable', '.', 'Very', 'few', 'people', 'watched', 'these', 'movies', 'for', 'their', 'plots', '.', 'But', ',', 'they', 'usually', 'had', 'some', 'interesting', 'minor', 'characters', 'involved', 'in', 'subplots', '--', 'not', 'here', '.', 'They', 'usually', 'had', 'interesting', 'choreography', 'and', 'breathtaking', 'dancing', 'and', 'catchy', 'songs', '.', 'Not', 'Happy', 'Go', 'Lovely', '.', 'And', 'Vera-Ellen', 'as', 'the', 'female', 'lead', 'played', 'the', 'whole', 'movie', 'as', 'a', 'second', 'banana', 'looking', 'desperately', 'for', 'a', 'star', 'to', 'play', 'off', 'it', '--', 'and', 'instead', 'she', 'was', 'called', 'upon', 'to', 'carry', 'the', 'movie', ',', 'and', 'could', \"n't\", 'do', 'it', '.', 'The', 'Scottish', 'locale', 'was', 'wasted', '.', 'Usually', 'automatically', 'ubiquitous', 'droll', 'Scottish', 'whimsy', 'is', 'absent', '.', 'The', 'photography', 'was', 'pedestrian', '.', 'The', 'musical', 'numbers', 'were', 'pedestrian', '.', 'Cesar', 'Romero', 'gives', 'his', 'usual', 'professional', 'performance', ',', 'chewing', 'up', 'the', 'scenery', 'since', 'no', 'one', 'else', 'was', 'doing', 'his', 'part', ',', 'in', 'the', 'type', 'of', 'producer', 'role', 'essayed', 'frequently', 'by', 'Walter', 'Abel', 'and', 'Adolph', 'Menjou', '.', 'David', 'Niven', 'is', 'just', 'fine', ',', 'and', 'no', 'one', 'could', 'do', 'David', 'Niven', 'like', 'David', 'Niven', '.', 'At', 'the', 'end', 'of', 'the', 'day', ',', 'if', 'you', 'adore', 'Niven', 'as', 'I', 'do', ',', 'it', \"'s\", 'reason', 'enough', 'to', 'waste', '90', 'minutes', 'on', 'Happy', 'Go', 'Lovely', '.', 'If', 'not', ',', 'skip', 'it', '.'], ['This', 'film', 'aka', '``', 'the', 'four', 'hundred', 'blows', \"''\", 'is', 'a', 'mistranslation.Faire', 'les', '400', 'coups', \"''\", 'means', \"''\", 'to', 'live', 'a', 'wild', 'life', '.', 'As', 'a', 'French', ',', 'I', \"'m\", 'stunned', 'when', 'I', 'see', 'the', 'popularity', 'of', 'this', 'good', ',', 'but', 'by', 'no', 'means', 'outstanding', 'film', '.', '1.It', \"'s\", 'not', 'the', 'first', 'film', 'of', 'the', '``', 'nouvelle', 'vague', \"''\", 'move', ';', 'check', 'Agnes', 'Varda', \"'s\", '``', 'la', 'pointe', 'courte', \"''\", ',', '(', '1956', ')', 'Alain', 'Resnais', \"'s\", '``', 'Hiroshima', 'mon', 'amour', \"''\", '(', '1958', ')', ',', 'Claude', 'Chabrol', \"'s\", '``', 'le', 'beau', 'serge', \"''\", '(', '1958', ')', 'are', 'anterior', '.Historically', ',', \"''\", 'les', '400', 'coups', '``', 'comes', 'after', '.', '2.The', '``', 'nouvelle', 'vague', \"''\", 'was', 'sometimes', 'ponderous', 'and', 'hard', 'on', 'their', 'predecessors', ':', 'Overnight', ',', 'Julien', 'Duvivier', ',', 'Henri-George', 'Clouzot', ',', 'Claude', 'Autant-Lara', ',', 'Yves', 'allégret', 'and', 'a', 'lot', 'of', 'others', 'were', 'doomed', 'to', 'oblivion.THis', 'selfishness', 'and', 'this', 'contempt', 'is', 'typically', '``', 'nouvelle', 'vague', \"''\", '.You', \"'ve\", 'never', 'heard', '(', 'or', 'read', ')', 'the', 'great', 'generation', 'of', 'the', 'thirties', '(', 'Renoir', ',', 'Carné', ',', 'Grémillon', ',', 'Duvivier', 'already', ',', 'Feyder', ')', 'laugh', 'at', ',', 'say', ',', 'Maurice', 'Tourneur', 'or', 'Max', 'Linder.So', ',', 'thanks', 'to', 'Truffaut', 'and', 'co', ',', 'some', 'people', 'will', 'never', 'discover', 'some', 'gems', 'of', 'the', 'French', 'fifties', 'or', 'forties', '(', 'Duvuvier', \"'s\", '``', 'sous', 'le', 'ciel', 'de', 'Paris', \"''\", ',', 'Autant-Lara', \"'s\", '``', 'douce', \"''\", ',', 'Yves', 'Allégret', \"'s\", '``', 'une', 'si', 'jolie', 'petite', 'plage', '``', 'and', '``', 'manèges', \"''\", ')', '.THe', 'novelle', 'vague', 'clique', 'went', 'as', 'far', 'as', 'saying', 'that', 'William', 'Wyler', ',', 'Georges', 'Stevens', 'and', 'Fred', 'Zinemann', 'were', 'worthless', '!', '3', '.', '``', 'Les', '400', 'coups', '``', 'is', 'technically', 'rather', 'disappointing', ':', 'it', \"'s\", 'very', 'academic', ',', 'the', 'story', 'is', 'as', 'linear', 'as', 'it', 'can', 'be', ',', 'the', 'teachers', 'are', 'caricatures', ',', 'and', 'the', 'mother', 'Claire', 'Maurier', 'delivers', 'such', 'memorable', 'lines', 'as', '(', 'you', \"'ve\", 'got', 'to', 'be', 'a', 'French', 'circa', '1960', 'to', 'understand', 'how', 'ridiculous', 'it', 'is', ')', ':', 'Well', ',', 'your', 'father', \"'s\", 'got', 'only', 'his', 'brevet', '(', 'junior', 'school', 'diploma', ')', 'and', ',', 'as', 'for', 'me', ',', 'I', \"'ve\", 'got', 'only', 'my', 'high', 'school', 'diploma', '!', 'You', \"'ve\", 'got', 'to', 'know', ',', 'that', 'circa', '1960', ',', 'hardly', '10', '%', 'of', 'the', 'pupils', 'had', 'the', 'HSD', 'in', 'France', '!', 'Antoine', 'Doinel', 'should', 'have', 'been', 'proud', 'of', 'his', 'mother', 'after', 'all', '!', 'She', 'wants', 'him', 'to', 'have', 'diplomas', ',', 'who', 'can', 'blame', 'her', '?', '4.Compared', 'to', 'the', 'innovations', 'of', '``', 'Hiroshima', 'mon', 'amour', \"''\", ',', 'which', 'features', 'a', 'brand', 'new', 'form', ',', 'and', 'a', 'new', '``', 'fragmented', '``', 'content', ',', \"''\", 'les', '400', 'coups', '``', 'pales', 'into', 'significance.Truffaut', 'will', 'master', 'a', 'new', 'form', 'only', 'with', 'the', 'highly', 'superior', '``', 'Jules', 'and', 'Jim', \"''\", ',', 'helped', 'by', 'the', 'incomparable', 'Jeanne', 'Moreau', '.', '5.The', 'interpretation', 'is', 'rather', 'stiff', ';', 'Jean-Pierre', 'Léaud', ',', 'arguably', 'listenable', 'when', 'dubbed', 'in', 'English', ',', 'is', 'still', 'decent', ',', 'but', 'he', 'will', 'soon', 'degenerate', 'into', 'the', 'most', 'affected', 'of', 'his', 'generation', '.', '6.The', 'topic=stolen', 'childhood', 'had', 'better', 'days', ',', 'before', '(', 'Julien', 'Duvivier', \"'s\", '``', 'Poil', 'de', 'carotte', \"''\", ',', 'Luis', 'Bunuel', \"'s\", '``', 'los', 'olvidados', \"''\", ')', 'and', 'will', 'have', 'after', '(', 'Maurice', 'Pialat', \"'s\", '``', \"l'enfance\", 'nue', \"''\", ',', 'Kenneth', 'Loach', \"'s\", '``', 'Kes', \"''\", ')', 'I', 'do', 'not', 'want', 'to', 'demean', 'Truffaut', ',', 'his', 'movie', 'is', 'not', 'bad', ',', 'but', ',', 'frankly', ',', 'French', 'movie', 'buffs', ',', 'prefer', '``', 'Jules', 'and', 'Jim', \"''\", '``', \"l'enfant\", 'sauvage', \"''\", '(', 'a', 'film', 'honest', ',', 'true', 'and', 'commercially', 'uncompromizing', 'to', 'a', 'fault', ')', \"''\", \"l'argent\", 'de', 'poche', \"''\", '(', 'as', 'academic', 'as', '``', '400', 'coups', \"''\", 'but', 'much', 'more', 'funny', ')', 'or', 'his', 'nice', 'Hitchcock', 'pastiche', '``', 'vivement', 'dimanche', \"''\", '.'], ['This', 'film', \"'s\", 'premise', 'is', 'so', 'simple', 'and', 'obvious', 'that', 'only', 'a', 'Texas', 'millionaire', 'high', 'on', 'oil', 'fumes', 'and', 'whiskey', 'would', 'have', 'a', 'problem', 'understanding', 'it', 'if', 'someone', 'shouted', 'it', 'across', 'the', 'proverbial', 'parking', 'lot', '.', 'In', 'summary', ':', 'the', 'oil', 'business', 'is', 'in', 'cahoots', 'with', 'The', 'Government', '(', 'or', 'Gummint', 'if', 'you', 'prefer', ')', ',', 'the', 'Gummint', 'is', 'in', 'cahoots', 'with', 'Middle', 'Eastern', 'despots', ',', 'and', 'the', 'CIA', 'is', 'a', 'singular', 'festering', 'pool', 'of', 'double', 'dealing', 'sons-of-', '(', 'insert', 'word', ')', 'willing', 'to', 'toe', 'any', 'line', 'that', 'comes', 'their', 'way', '.', 'The', 'only', 'people', 'that', 'get', 'done', 'over', 'are', 'the', 'good', 'ones', ',', 'like', 'Mr', 'Clooney', '(', '``', 'Bob', \"''\", ')', '.', 'Oh', ',', 'and', 'terrorism', 'is', 'a', 'result', 'of', 'the', 'poverty', 'which', 'globalization', 'creates', 'when', 'wicked', 'multinationals', 'stalk', 'the', 'world', 'looking', 'for', 'a', 'tasty', 'takeover', 'or', 'three', '.', 'That', 'really', 'fits', 'to', 'the', 'profiles', 'of', 'the', 'well-heeled', '9/11', 'perpetrators', '.', 'In', 'Syriana', 'this', 'facile', 'tissue', 'of', 'political', 'half-truths', 'and', 'Hollywood', 'holograms', 'is', 'stirred', 'up', 'in', 'a', 'repugnant', 'vermicelli', 'of', 'story', 'strands', 'that', 'twist', ',', 'turn', 'and', 'whirl', 'through', 'the', 'gloopy', 'circumlocutions', 'of', 'their', 'own', 'insignificance', 'until', 'the', 'poor', 'viewer', 'is', 'left', 'alone', 'with', 'the', 'conclusion', 'that', ':', '1.', 'the', '``', 'director', \"''\", '(', 'good', 'joke', ')', 'should', 'never', 'be', 'let', 'near', 'a', 'camera', 'again', '2.', 'people', 'like', 'Clooney', 'and', 'Hurt', 'might', 'know', 'how', 'to', 'act', ',', 'but', 'they', 'sure', 'do', \"n't\", 'know', 'how', 'to', 'pick', 'a', 'script', '3.', 'if', 'you', 'want', 'to', 'see', 'a', 'film', 'that', 'deals', 'with', 'corruption', 'in', 'big', 'business', 'and', 'the', 'state', ',', 'go', 'and', 'see', 'Claude', 'Chabrol', \"'s\", '``', \"L'ivresse\", 'du', 'pouvoir', \"''\", ',', 'which', 'is', 'insightful', ',', 'funny', 'and', 'brilliantly', 'acted', '.', 'Empty', ',', 'doom-laden', 'sententious', 'piffle', 'spun', 'out', 'to', 'evening-ruining', 'length', '.'], ['I', 'am', 'a', 'big', '1930', \"'s\", 'movie', 'fan', 'and', 'will', 'watch', 'most', 'anything', 'that', 'I', 'see', 'on', 'Turner', 'Classic', 'Movies', 'thats', 'new', 'for', 'me', '.', 'So', 'I', 'gave', 'this', 'a', 'shot', ',', 'after', 'all', 'it', \"'s\", 'the', 'great', 'Harold', 'Lloyd', 'who', 'rivaled', 'Chaplin', 'as', 'a', 'great', 'silent', 'film', 'comedian', '.', 'I', 'have', 'watched', 'much', 'less', 'of', 'Lloyd', \"'s\", 'silent', 'films', 'then', 'of', 'Chaplins', 'but', 'I', 'have', 'to', 'say', 'I', \"'m\", 'a', 'much', 'bigger', 'Chaplin', 'fan', '.', 'Anyway', 'this', 'film', 'fell', 'so', 'flat', 'for', 'me', 'that', 'I', 'did', \"n't\", 'finish', 'it', '.', 'I', 'can', 'understand', 'why', 'his', 'sound', 'career', 'was', 'so', 'limited', ',', 'he', 'did', \"n't\", 'get', 'very', 'good', 'material', 'to', 'work', 'with', '.', 'After', 'you', \"'ve\", 'seen', 'Chaplin', ',', 'Abbott', 'and', 'Costello', ',', 'The', 'Three', 'Stooges', ',', 'Martin', 'and', 'Lewis', ',', 'The', 'Marx', 'Brothers', ',', 'and', 'Laurel', 'and', 'Hardy', 'do', 'boxing', 'spoofs', '(', 'or', 'violence', 'in', 'general', ')', ',', 'this', 'one', 'is', 'very', 'forgettable', '.', 'I', 'was', 'also', 'interested', 'in', 'watching', 'Adolphe', 'Menjou', 'as', 'I', 'really', 'enjoyed', 'him', 'in', 'Paths', 'Of', 'Glory', 'but', 'his', 'role', 'here', 'also', 'did', 'nothing', 'special', 'for', 'me', '.', 'Maybe', 'they', 'should', 'have', 'gotten', 'into', 'the', 'boxing', 'sooner', 'because', 'at', 'least', 'half', 'the', 'film', '(', 'at', 'least', 'it', 'seemed', 'that', 'way', ')', 'is', 'before', 'he', 'gets', 'in', 'a', 'ring', '.', 'I', 'can', 'tell', 'there', 'are', 'a', 'lot', 'of', 'Lloyd', 'fans', 'here', 'and', 'this', 'wont', 'be', 'a', 'popular', 'review', 'but', 'I', 'must', 'rate', 'this', 'as', 'compared', 'to', 'what', 'else', 'was', 'out', 'there', 'at', 'the', 'time', ',', '4', 'out', 'of', '10', '.', 'Do', \"n't\", 'watch', 'this', 'with', 'anyone', 'your', 'trying', 'to', 'get', 'to', 'like', 'old', 'movies', 'as', 'they', 'may', 'not', 'watch', 'another', 'one', 'with', 'you', 'again', ',', 'very', 'flat', '.', 'For', 'an', 'alternative', 'to', 'anyone', 'who', 'really', 'liked', 'this', 'or', 'is', 'looking', 'for', 'more', 'little', 'known', 'comedies', 'in', 'general', 'I', 'recommend', '``', 'Kelly', 'The', 'Second', \"''\", 'made', 'a', 'few', 'years', 'earlier', ',', 'another', 'nobody', 'becomes', 'a', 'boxer', 'comedy', 'with', 'Patsy', 'Kelly', 'and', 'in', 'a', 'supporting', 'role', 'Charles', 'Chase', '.', 'These', 'have', 'both', 'been', 'shown', 'on', 'the', 'Turner', 'Classic', 'Movies', 'channel', '.'], ['F*ck', 'Me', '!', 'I', \"'ve\", 'seen', 'some', 'incredibly', 'horrific', 'movies', 'in', 'my', 'time', 'but', 'this', 'takes', 'the', 'p*ss', '!', 'Honestly', 'I', 'ca', \"n't\", 'express', 'in', 'words', 'how', 'bad', 'this', 'film', 'actually', 'is', '.', 'Besides', 'the', 'plot', 'that', 'is', \"n't\", 'really', 'there', ',', 'the', 'comically', 'crap', 'acting', ',', 'the', 'hilariously', 'dreadful', 'excuses', 'for', 'zombies', ';', 'You', 'know', 'what', ',', 'I', 'could', 'go', 'on', 'all', 'day', '.', 'Every', 'little', 'thing', 'in', 'this', 'film', 'is', 'either', 'stupid', ',', 'pointless', ',', 'crap', 'or', 'embarrassing', '.', 'I', 'express', 'to', 'anyone', 'who', 'wants', 'to', 'watch', 'this', 'movie', '...', 'do', \"n't\", '!', 'I', \"'m\", 'ashamed', 'to', 'say', ',', 'I', 'have', 'this', 'on', 'my', 'rack', '.', 'It', \"'s\", 'hidden', 'away', 'right', 'at', 'the', 'god', 'damn', 'bottom', 'of', 'the', 'huge', 'pile', '.', 'I', 'could', \"n't\", 'even', 'give', 'this', 'horse-sh*t', 'excuse', 'for', 'a', 'film', 'away', '.', 'That', \"'s\", 'how', 'bad', 'it', 'is', '.'], ['First', 'off', ',', 'I', \"'m\", 'not', 'here', 'to', 'dog', 'this', 'movie', '.', 'I', 'find', 'it', 'totally', 'enjoyable', 'in', 'spite', 'of', 'the', 'poor', 'production', 'quality', '.', 'The', 'acting', 'herein', 'is', 'about', 'as', 'abominable', 'as', 'the', 'monster', 'stalking', 'them', ',', 'although', 'the', 'monster', 'itself', 'is', 'quite', 'well', 'done', '...', 'impressively', 'well', 'done', ',', 'at', 'that', '.', 'He', 'actually', 'looks', 'kind', 'of', 'other-worldly', ',', 'like', 'an', 'alien', 'family', 'on', 'vacation', 'landed', 'in', 'the', 'Himalayas', 'and', 'while', 'dad', 'was', 'out', 'taking', 'a', '...', 'attending', 'to', 'nature', \"'s\", 'call', ',', 'Spot', 'got', 'loose', 'and', 'they', 'just', 'did', \"n't\", 'have', 'time', 'to', 'hunt', 'him', 'down', '.', 'That', ',', 'or', 'he', \"'s\", 'the', 'Caucasian', 'brother', 'of', 'the', 'Wishmaster', '.', 'I', 'have', \"n't\", 'decided', 'which', '.', 'Actually', ',', 'this', 'seems', 'to', 'have', 'been', 'filmed', 'somewhere', 'in', 'snow', 'country', ',', 'yes', ',', 'but', 'more', 'likely', 'Canada', 'somewhere', 'than', 'China', 'anywhere', '.', 'The', 'trees', 'and', 'vistas', 'say', 'Canada', 'to', 'me', ',', 'and', 'it', \"'s\", 'okay', 'that', 'the', 'set', 'area', 'never', 'takes', 'on', 'the', 'look', 'or', 'feel', 'of', 'uber-coldness', 'one', 'might', 'expect', 'to', 'find', 'in', 'the', 'Himalayas', 'of', 'China', '.', 'It', \"'s\", 'a', 'Sci-Fi', 'Channel', 'movie', ',', 'so', 'we', 'can', 'forgive', 'the', 'lack', 'of', 'location', '.', 'Further', ',', 'apparently', '(', 'as', 'we', 'have', 'just', 'established', ')', 'Sci-Fi', 'directors', 'do', 'not', 'travel', 'often', ',', 'as', 'they', 'are', 'not', 'aware', 'that', 'commercial', 'planes', 'fly', 'above', 'weather', 'like', 'what', 'is', 'featured', 'herein', 'and', 'the', 'subsequent', 'crash', 'actually', 'would', 'not', 'have', 'happened', '.', 'But', 'as', 'I', 'said', ',', 'it', \"'s\", 'a', 'Sci-Fi', 'Channel', 'movie', 'so', 'we', 'must', 'forgive', 'a', 'few', 'things', '.', 'The', 'movie', 'is', 'pretty', 'graphic', 'at', 'times', ',', 'and', 'rotates', 'between', '``', 'Alive', \"''\", 'about', 'the', 'Donner', 'Party', ',', '``', 'Predator', \"''\", 'about', 'the', 'alien', 'in', 'the', 'woods', ',', 'and', 'any', 'bad', 'wushu', 'movie', 'where', 'they', 'fly', 'about', 'on', 'wires', '.', 'The', 'Yeti', 'apparently', 'can', 'leap', 'about', 'like', 'Spiderman', '...', 'or', 'Super', 'Mario', '...', 'remember', '?', '``', 'Run', 'faster', '!', 'Jump', 'higher', '!', 'Live', 'longer', '!', \"''\", 'Also', ',', 'the', 'Yeti', 'has', 'missed', 'his', 'teddy', 'bear', '.', 'He', \"'s\", 'searched', 'high', 'and', 'low', 'for', 'it', ',', 'but', 'can', 'not', 'seem', 'to', 'make', 'a', 'cadaver', 'work', '.', 'Poor', 'Yeti', '!', 'You', 'ca', \"n't\", 'help', 'but', 'feel', 'sorry', 'for', 'it', '.', 'It', 'has', 'survived', 'and', 'evolved', 'thousands', 'of', 'years', 'only', 'to', 'succumb', 'to', 'severe', 'teddy', 'bear', 'loss', '.', 'He', \"'s\", 'missed', 'his', 'bear', '.', 'Or', 'maybe', 'it', 'wants', 'to', 'mate', ',', 'but', 'that', 'thought', 'is', 'BANISHED', '!', 'Do', 'ya', 'hear', 'me', '?', 'Well', ',', 'it', 'does', 'seem', 'to', 'be', 'an', 'unmated', 'male', '.', 'REBANISHED', '!', 'And', 'it', \"'s\", 'superhuman', '.', 'Well', ',', 'it', \"'s\", 'not', 'human', '...', 'it', \"'s\", 'super-Yeti', '!', 'But', 'then', 'again', ',', 'what', \"'s\", 'normal-Yeti', '?', 'I', 'do', \"n't\", 'know', ',', 'but', 'he', 'has', 'a', 'definite', 'Michael', 'Meyers', 'quality', 'that', 'is', 'completely', 'unsettling', '.', 'And', 'he', \"'s\", 'got', 'this', 'fabulous', 'way', 'of', 'cleaning', 'his', 'fur', '.', 'FABulous', 'Dahlink', '!', 'It', \"'s\", 'spotlessly', 'white', 'at', 'times', 'when', 'it', 'SO', 'should', \"n't\", 'be', '.', 'He', \"'s\", 'fastidiously', 'superhu-', '...', 'super-Yeti', '.', 'All', 'in', 'all', '?', 'This', 'was', 'a', 'lot', 'of', 'fun', 'to', 'watch', ',', 'has', 'some', 'great', 'kills', 'and', 'a', 'few', 'honest', 'plot', 'elements', '.', 'In', 'spite', 'of', 'the', 'horribly', 'gravel-like', 'production', 'style', ',', 'this', 'is', 'actually', 'quite', 'entertaining', '.', 'I', 'ca', \"n't\", 'help', 'wondering', 'if', 'they', \"'re\", 'planning', 'on', 'another', 'one', '?', 'It', 'rates', 'a', '6.0/10', 'on', 'the', 'M4TV', 'Scale', '.', 'It', 'rates', 'a', '4.4/10', 'on', 'the', 'Movie', 'Scale', 'from', '...', 'the', 'Fiend', ':', '.'], ['When', 'the', 'remake', 'of', 'When', 'A', 'Stranger', 'Calls', 'was', 'out', ',', 'obviously', 'I', 'was', 'interested', 'in', 'watching', 'the', 'original', '.', 'Then', 'when', 'I', 'read', 'about', 'the', 'original', '(', 'which', 'I', 'recall', 'had', 'my', 'sisters', 'totally', 'freaked', 'out', 'back', 'in', 'the', 'day', ')', 'I', 'saw', 'that', 'the', 'real', 'money', 'is', 'on', 'Black', 'Christmas', ',', 'which', 'apparently', 'beat', 'everyone', 'to', 'the', '``', 'the', 'caller', 'is', 'in', 'the', 'house', \"''\", 'punch', '.', 'So', 'I', 'Netflix', 'that', ',', 'and', 'it', 'sits', 'at', 'the', 'top', 'of', 'my', 'list', 'for', 'months', 'due', 'to', 'its', '``', 'very', 'long', 'wait', '.', \"''\", 'All', 'this', 'time', 'I', 'am', 'getting', 'more', 'and', 'more', 'eager', 'to', 'see', 'it', '!', 'Then', 'one', 'day', ',', 'out', 'of', 'the', 'blue', ',', 'it', 'finally', 'arrives', '!', '...', 'And', 'it', \"'s\", 'a', 'total', 'snore', '.', 'Sure', ',', 'maybe', 'I', 'had', 'elevated', 'expectations', ',', 'but', 'I', 'do', \"n't\", 'think', 'it', 'would', 'have', 'gained', 'more', 'had', 'I', 'seen', 'it', 'fresh', '.', 'The', 'thing', 'is', 'it', \"'s\", 'Christmas', 'in', 'some', 'Canadian', 'college', 'town', ',', 'and', 'there', \"'s\", 'this', 'sorority', 'having', 'a', 'party', '.', 'We', 'see', 'some', 'killer-POV', 'shots', 'as', 'he', 'climbs', 'this', 'trellis', 'and', 'sneaks', 'into', 'the', 'attic', '.', 'So', 'we', 'KNOW', 'he', \"'s\", 'in', 'the', 'house', '.', 'Then', 'we', \"'re\", 'introduced', 'to', 'our', 'characters\\x97-Olivia', 'Hussey', 'as', 'the', 'mousy', ',', 'whiny', ',', 'Canadian-accented', 'Jess', '.', 'Margot', 'Kidder', 'as', 'the', 'annoying', ',', 'overtly', 'aggressive', 'alcoholic', 'Barb', '.', 'She', \"'s\", 'so', 'annoying', 'even', 'her', 'mother', 'dis-invites', 'her', 'for', 'her', 'Christmas', 'festivities', '.', 'There', \"'s\", 'also', 'this', 'irritating', 'Janis', 'Ian', 'clone', '(', '``', 'Phil', \"''\", ')', 'and', 'this', 'alcoholic', 'den', 'mother', 'Mrs.', 'Mac', ',', 'seen', 'taking', 'nips', 'from', 'the', 'various', 'bottles', 'of', 'booze', 'she', 'has', 'stashed', 'all', 'over', 'the', 'house', '.', 'We', 'also', 'meet', 'Jess', \"'s\", 'highly-strung', 'boyfriend', 'Peter', ',', 'played', 'by', 'Keir', 'Dullea', 'of', '2001', 'and', 'Bunny', 'Lake', 'is', 'Missing', 'fame', ',', 'though', 'halfway', 'through', 'the', 'film', 'I', 'was', 'still', 'asking', 'myself', '``', 'Which', 'one', \"'s\", 'Keir', 'Dullea', '?', \"''\", 'So', 'it', 'seems', 'that', 'the', 'house', 'has', 'been', 'receiving', 'obscene', 'phone', 'calls', ',', 'but', 'this', 'was', 'before', 'email', ',', 'so', 'they', 'could', \"n't\", 'ask', 'him', 'to', 'send', 'a', 'photo', '.', 'Then\\x97-well', ',', 'you', 'know', 'how', 'they', 'say', 'those', 'plastic', 'dry-cleaning', 'bags', 'are', 'not', 'a', 'toy', '?', 'One', 'of', 'the', 'sisters', 'finds', 'that', 'out', 'the', 'hard', 'way', '.', 'Do', \"n't\", 'worry', 'if', 'you', 'do', \"n't\", 'catch', 'the', 'first', '14', 'shots', 'of', 'the', 'plastic-encased', 'corpse', 'face', 'as', 'it', 'reposes', 'in', 'the', 'attic\\x97-there', \"'ll\", 'be', '28', 'more', 'interspersed', 'throughout', 'the', 'film', ',', 'obviously', 'there', 'to', 'make', 'you', 'say', '``', 'Oh', 'my', 'God', '!', 'There', \"'s\", 'a', 'corpse', 'in', 'the', 'attic', '!', \"''\", 'Though', 'after', 'the', 'first', 'hour', 'that', 'changes', 'to', ':', '``', 'How', 'come', 'the', 'dumb', 'police', 'have', \"n't\", 'found', 'the', 'rather', 'prominently-placed', 'plastic-encased', 'corpse', 'in', 'the', 'attic', '?', \"''\", 'Especially', 'as', 'it', 'is', 'made', 'abundantly', 'clear', 'that', 'it', 'is', 'clearly', 'visible', 'from', 'outside', 'the', 'house', '.', 'Really', ',', 'any', 'time', 'before', 'CSI', 'came', 'on', 'the', 'air', 'must', 'have', 'been', 'such', 'a', 'golden', 'age', 'of', 'crime', ';', 'the', 'cops', 'are', 'so', 'dumb', '.', 'Fortunately', 'some', 'of', 'them', 'look', 'like', 'John', 'Saxon', '.', 'Anyway', ',', 'after', 'a', 'lot', 'more', 'darn', 'boring', 'human', 'drama', ',', 'the', 'house', 'mother', 'fears', 'that', 'her', 'precious', 'kitty', 'has', 'ascended', 'a', 'vertical', 'ladder', 'and', 'has', 'pushed', 'open', 'a', 'heavy-looking', 'trap', 'door', 'that', 'rests', 'atop', 'it', '(', 'those', 'wily', 'cats', '!', ')', ',', 'for', 'she', 'sticks', 'her', 'head', 'in', 'there', 'and', 'ends', 'up', 'with', 'a', 'hook', 'pulley', 'in', 'her', 'neck', 'for', 'the', 'trouble', '.', 'Now', 'we', 'have', 'two', 'corpses', 'up', 'in', 'the', 'attic\\x97-hey', ',', 'why', 'do', \"n't\", 'we', 'have', '75', 'more', 'shots', 'trying', 'to', 'chill', 'us', 'by', 'the', 'fact', 'that', 'there', 'are', 'now', 'TWO', 'corpses', 'in', 'the', 'attic', '?', 'So', 'by', 'now', 'the', 'police', 'have', 'begun', 'to', 'take', 'the', 'situation', 'seriously', ',', 'and', 'tap', 'the', 'houses', \"'\", 'phone', 'and', 'station', 'a', 'cop', 'outside', '.', 'They', 'inform', 'Jess', 'and', 'her', 'pal', 'Janis', 'Ian', 'that', 'if', 'the', 'obscene', 'caller', 'calls', 'back', ',', 'they', 'need', 'to', 'keep', 'him', 'on', 'the', 'phone', '.', 'Jessica', ',', 'who', 'has', 'grown', 'even', 'more', 'whiny', ',', 'mousy', 'and', 'annoying', 'keeps', 'asking', 'the', 'caller', '``', 'Who', 'is', 'this', '?', 'What', 'do', 'you', 'want', '?', 'Who', 'are', 'you', '?', \"''\", 'after', 'like', 'the', 'first', '89', 'calls', ',', 'when', 'it', 'is', 'clear', 'that', 'he', 'is', 'not', 'going', 'to', 'answer', 'her', '.', 'Is', \"n't\", 'that', 'like', 'a', 'sign', 'a', 'developmental', 'disability', '?', 'The', 'inability', 'to', 'learn', 'from', 'unsuccessful', 'attempts', 'at', 'something', '?', 'And', 'what', \"'s\", 'he', 'going', 'to', 'do', ',', 'suddenly', 'say', '``', 'Oh', 'yeah', ',', 'hi', ',', 'it', \"'s\", 'Bob', 'from', 'the', 'Laundromat', '?', \"''\", 'Dumb', 'Jess', '.', 'Spoilers', '!', 'Anyway', ',', 'soon', 'Janis', 'Ian', 'and', 'Lois', 'Lane', '(', 'Kidder', ')', 'are', 'piled', 'in', 'bed', 'with', 'ketchup', 'splashed', 'on', 'their', 'faces', '(', 'this', 'film', \"'s\", 'idea', 'of', 'gore', ')', ',', 'and', 'idiot', 'Jess', 'realizes', 'that', 'not', 'a', 'single', 'door', 'or', 'window', 'in', 'the', 'house', 'is', 'locked', '.', 'Hello', '?', 'Are', 'you', 'being', 'stalked', 'or', 'what', '?', 'Then', 'the', 'cops', 'realize', 'that', 'the', 'killer', 'is', 'in', 'the', 'house', ',', 'and', 'call', 'Jess', 'and', 'tell', 'her', '``', 'do', \"n't\", 'ask', 'questions', ',', 'just', 'do', 'as', 'I', 'say', 'walk', 'to', 'the', 'front', 'door', 'and', 'get', 'out', '.', \"''\", 'So', 'what', 'does', 'moron', 'Jess', 'do', '?', 'Starts', 'screaming', '``', 'Phil', '?', 'Barb', '?', 'Phil', '?', 'Barb', '?', \"''\", 'Hey', ',', 'great', 'idea', 'sister', '.', 'Now', 'why', 'do', \"n't\", 'you', 'go', 'right', 'upstairs', 'where', 'you', 'know', 'a', 'psychotic', 'killer', 'is', 'lurking', '?', 'Of', 'course', 'she', 'does', ',', 'and', 'sees', 'her', 'former', 'friends', ',', 'all', 'splashed', 'with', 'ketchup', ',', 'prompting', 'this', 'viewer', 'to', 'scream', 'at', 'the', 'screen', ':', '``', 'Have', 'a', 'clue', 'now', '?', '!', \"''\", 'Now', ',', 'obviously', 'one', 'needs', 'to', 'be', 'understanding', 'and', 'realize', 'that', 'this', 'movie', 'was', 'made', 'before', 'the', 'classic', 'slasher', 'movie', 'tropes', 'were', 'solidly', 'in', 'place', ',', 'and', 'that', 'it', 'does', \"n't\", 'move', 'to', 'the', 'same', 'pace', 'we', \"'re\", 'used', 'to', ',', 'and', 'seeing', 'a', 'plastic-covered', 'corpse', 'in', 'the', 'attic', 'like', '206', 'times', 'probably', 'WAS', 'scary', 'back', 'in', 'the', 'day', ',', 'and', 'people', 'were', \"n't\", 'used', 'to', 'being', 'stalked', 'by', 'psychopaths', ',', 'so', 'they', 'would', \"n't\", 'think', 'to', ',', 'you', 'know', ',', 'lock', 'the', 'doors', 'or', 'windows', '.', 'And', 'they', 'might', 'be', 'tempted', 'to', 'wander', 'upstairs', 'when', 'they', 'have', 'just', 'been', 'told', 'that', 'a', 'rabid', 'killer', 'is', 'up', 'there', '.', 'You', 'see', ',', 'people', 'were', 'stupid', 'back', 'in', 'the', '70s', '.', 'We', 'have', 'to', 'understand', 'that', '.', 'One', 'of', 'the', 'big', 'shocks', 'is', 'that', 'we', 'do', \"n't\", 'even', 'see', 'our', 'proto-Final', 'Girl', 'kill', 'the', 'psycho', '.', 'But', 'believe', 'me', ',', 'that', 'fact', 'is', 'more', 'interesting', 'being', 'read', 'in', 'this', 'review', 'than', 'sitting', 'through', 'the', 'movie', 'for', '.', 'Spoilers', 'end', '!', '--', '--', '--', 'Hey', ',', 'check', 'out', 'Cinema', 'de', 'Merde', ',', 'my', 'website', 'on', 'bad', 'and', 'cheesy', 'movies', '(', 'with', 'a', 'few', 'good', 'movies', 'thrown', 'in', ')', '.', 'You', 'can', 'find', 'the', 'URL', 'in', 'my', 'email', 'address', 'above', '.'], ['Ok', ',', 'honestly', 'I', 'dont', 'see', 'why', 'everybody', 'thinks', 'this', 'is', 'so', 'great', '.', 'Its', 'really', 'not', '.', 'There', 'were', 'two', 'good', 'things', 'that', 'came', 'out', 'of', 'this', 'movie', '1', '.', 'Jack', \"'s\", 'performance', ',', 'he', 'was', 'very', 'good', 'I', 'can', 'tip', 'my', 'hat', 'for', 'him', '.', '2', '.', 'Danny', \"'s\", 'performance', ',', 'he', 'was', 'good', '.', 'No', 'other', 'then', 'that', 'it', 'got', 'pretty', 'stupid', '.', 'And', ',', 'what', 'was', 'Stanley', 'Kubrick', 'thinking', 'drafting', 'Shelly', 'as', 'the', 'Wendy', '?', 'She', 'was', 'so', 'bad', '.', 'She', 'looked', 'the', 'same', 'every', 'time', 'she', 'got', 'scared', '.', 'The', 'problem', 'with', 'this', 'movie', 'was', 'the', 'ending', '.', 'I', 'would', 'have', 'had', 'more', 'respect', 'for', 'it', 'if', 'Kubrick', 'would', 'have', 'ended', 'it', 'differently', '.', 'And', ',', 'the', 'over', 'all', 'movie', 'was', 'just', 'stupid', '.', 'The', 'problem', 'with', 'the', 'movie', 'is', 'that', 'the', 'book', 'was', 'so', 'much', 'better', '.', 'So', 'dont', 'see', 'the', 'movie', 'read', 'the', 'book', 'and', 'you', 'will', 'be', 'much', 'better', 'off', '.', '3/10', '.'], ['This', 'series', 'is', 'one', 'of', 'the', 'worst', 'shows', 'I', 'have', 'ever', 'seen', '.', 'Terrible', 'acting', ',', 'terrible', 'effects', ',', 'terrible', 'writing', ',', 'you', 'get', 'my', 'drift', '.', 'The', 'stories', 'are', 'so', 'far', 'from', 'the', 'legend', 'of', 'Robin', 'Hood', 'it', \"'s\", 'amazing', '.', 'Looks', 'like', 'they', 'just', 'wanted', 'to', 'use', 'the', 'name', 'Robin', 'Hood', 'to', 'attract', 'an', 'audience', '.', 'It', 'might', 'as', 'well', 'have', 'been', 'called', 'New', 'Adventures', 'of', 'Mr', '.', 'Bland', 'Acting', '.', 'Someone', 'commented', 'before', 'me', 'that', 'if', 'you', 'had', 'imagination', ',', 'you', \"'d\", 'love', 'this', 'show', '.', 'That', 'is', 'a', 'horrible', 'approach', 'to', 'a', 'TV-series', '.', 'A', 'visual', 'media', 'like', 'this', 'should', 'spark', 'your', 'imagination', ',', 'you', 'should', \"n't\", 'have', 'to', 'force', 'your', 'imagination', 'into', 'something', 'to', 'make', 'it', 'good', '.', 'That', 'would', 'be', 'like', 'the', 'Simpsons', 'episode', 'where', 'they', 'try', 'to', 'brainwash', 'Homer', 'with', 'a', 'religious', 'propaganda', 'movie', ',', 'and', 'he', 'starts', 'talking', 'about', 'who', 'killed', 'who', 'or', 'whatever', '.', '``', 'If', 'a', 'movie', 'is', 'boring', ',', 'I', 'just', 'make', 'up', 'my', 'own', 'story', '.', \"''\", 'In', 'conclusion', ':', 'Absolute', 'human', 'waste', '.'], ['After', 'hearing', 'raves', 'about', 'this', 'movie', 'for', 'years', ',', 'I', 'finally', 'decided', 'to', 'rent', 'it', 'and', 'watch', '.', 'Let', 'me', 'start', 'by', 'saying', 'that', 'I', \"'m\", 'glad', 'that', 'the', 'rental', 'was', 'free', 'from', 'the', 'local', 'library', '.', 'This', 'move', 'was', 'slow', ',', 'boring', ',', 'unrealistic', 'and', 'the', 'plot', 'made', 'no', 'sense', '.', 'After', '2', 'hours', ',', 'I', 'was', 'ready', 'to', 'nuke', 'that', 'backwater', 'Texas', 'town', 'and', 'put', 'the', 'group', 'of', 'those', 'characters', 'out', 'of', 'their', 'misery', '.', 'I', 'realize', 'that', 'taste', 'is', 'subjective', ',', 'but', 'believe', 'me', ',', 'I', 'just', 'do', 'not', 'understand', 'all', 'of', 'the', 'hype', 'that', 'I', 'have', 'heard', 'about', 'this', 'movie', '.', 'Dallas', 'provided', 'as', 'good', 'a', 'detail', 'of', 'the', 'life', 'in', 'Texas', 'as', 'this', 'movie', '.', 'Rent', 'it', 'only', 'if', 'you', 'want', 'to', 'understand', 'how', 'movie', 'studios', 'can', 'pay', 'enough', 'money', 'to', 'reviewers', 'to', 'convince', 'the', 'general', 'public', 'that', 'a', 'bad', 'movie', 'is', 'good', '.'], ['I', \"'m\", 'not', 'sure', 'what', 'HK', 'movies', 'the', 'other', 'reviewers', 'have', 'been', 'watching', ',', 'but', 'Enter', 'the', 'Eagles', 'is', 'nowhere', 'near', 'the', 'top', 'of', 'the', 'heap', 'in', 'HK', 'action', '.', 'Michael', '``', 'Fitz', \"''\", 'Wong', 'should', 'be', 'glad', 'he', 'can', 'get', 'acting', 'jobs', 'in', 'HK', ',', 'because', 'he', 'could', \"n't\", 'act', 'his', 'way', 'out', 'of', 'a', 'wet', 'paper', 'bag', 'in', 'English', '.', 'Shannon', 'Lee', 'looks', 'good', 'and', 'is', 'a', 'fantastic', 'fighter', '(', 'even', 'better', 'with', 'the', 'leg', 'fighting', 'than', 'her', 'dad', ')', ',', 'but', 'her', 'acting', 'skills', 'are', 'also', 'sub-par', '.', 'In', 'fact', ',', 'all', 'the', 'English', 'dialog', '(', '90', '%', 'of', 'the', 'movie', '--', 'even', 'more', 'than', 'in', 'Gen-Y', 'Cops', ')', 'is', 'so', 'bad', 'that', 'I', 'switched', 'to', 'Mandarin', 'audio', 'just', 'to', 'spare', 'myself', 'the', 'misery', 'of', 'the', 'bad', 'dialog', 'delivery', 'and', 'the', 'redundancy', 'of', 'the', 'English', 'subs', '.', 'Sure', ',', 'there', 'are', 'some', 'decent', 'gunfights', '(', 'but', 'nothing', 'we', 'have', \"n't\", 'already', 'seen', 'before', ')', 'and', 'good', 'cinematography', ',', 'but', 'the', 'cheesy', 'visual', 'effects', 'really', 'spoil', 'the', 'action', '.', 'That', 'said', ',', 'it', \"'s\", 'worth', 'the', 'price', 'of', 'admission', 'to', 'watch', 'Shannon', 'and', 'Benny', '``', 'The', 'Jet', \"''\", 'Urquidez', 'go', 'at', 'it', '.', 'Spectacular', ',', 'and', 'almost', 'worth', 'watching', 'the', 'rest', 'of', 'the', 'movie', 'for', '.', 'Finally', ',', 'you', 'might', 'notice', 'some', 'scenes', 'that', 'seem', '``', 'familiar', \"''\", 'to', 'you', ',', 'notably', 'a', 'shootout', 'at', 'an', 'outdoor', 'market', '(', 'think', 'Matrix', ')', 'and', 'Fitz', 'diving', 'out', 'of', 'a', 'helicopter', 'wearing', 'black', 'fatigues', '(', 'think', 'MI:2', ')', '.', 'Guess', 'someone', 'thought', 'at', 'least', 'a', 'few', 'things', 'in', 'this', 'flick', 'were', 'worth', 'ripping', 'off', '.'], ['I', 'dislike', 'this', 'movie', 'a', 'lot', '.', 'If', 'you', \"'ve\", 'read', 'the', 'Puzo', \"'s\", 'books', ',', 'or', 'at', 'least', 'have', 'watched', 'very', 'closely', 'the', 'two', 'first', 'movies', '(', 'specially', 'the', 'first', 'one', ')', ',', 'you', \"'re\", 'going', 'to', 'agree', 'with', 'me', '.', 'Compared', 'with', 'the', 'Corleone', \"'s\", 'saga', 'presented', 'by', 'Puzo', \"'s\", 'novel', ',', 'the', 'script', 'of', 'this', 'film', 'is', ',', 'sometimes', ',', 'even', 'ridiculous', '.', 'The', 'characters', 'and', 'the', 'relationships', 'among', 'them', 'are', 'distorted', '.', 'The', 'story', 'ends', 'up', 'reaching', 'nowhere', ',', 'although', 'it', 'appears', 'to', 'go', 'to', 'some', 'direction', 'during', 'the', 'movie', '.', 'It', 'is', 'understandable', 'that', 'different', 'times', 'should', 'be', 'expected', 'for', 'the', 'Corleone', \"'s\", 'saga', 'in', 'the', '90', \"'s\", ',', 'and', 'that', 'we', 'would', 'not', 'gon', 'na', 'find', 'things', 'the', 'way', 'they', 'were', 'before', '.', 'But', ',', 'in', 'the', 'other', 'hand', ',', 'I', 'do', \"n't\", 'know', 'why', 'they', 'had', 'to', 'copy', 'some', 'dialogues', 'from', 'the', 'other', 'movies', ',', 'in', 'contexts', 'when', 'they', 'did', \"n't\", 'fit', '.', 'Why', 'this', '?', 'It', 'sounds', 'like', 'those', 'poorly', 'made', 'sequels', 'that', 'just', 'try', 'to', 'copy', 'the', 'original', 'film', \"'s\", 'qualities', '.', 'What', 'will', 'never', 'be', 'understandable', 'is', 'the', 'fact', 'that', 'Mario', 'Puzo', ',', 'Coppola', 'and', 'Al', 'Pacino', 'joined', 'together', 'to', 'make', 'this', '.', 'A', 'man', 'who', 'directed', 'pieces', 'like', 'Apocalypse', 'Now', 'and', 'Godfather', 'has', 'to', 'be', 'forgiven', 'for', 'almost', 'anything', 'he', 'does', 'in', 'cinema', 'until', 'he', 'dies', '.', 'So', 'does', 'Al', 'Pacino', ',', 'for', 'being', 'the', 'actor', 'he', 'is', '.', 'But', 'Mario', 'Puzo', 'should', \"n't\", 'have', 'written', 'this', '.', 'How', 'come', '?', 'He', 'damaged', 'all', 'his', 'previous', 'work', '.', 'What', 'a', 'shame', ',', 'my', 'friend', '.', 'The', 'Puzo', \"'s\", 'novel', '``', 'The', 'Last', 'Don', \"''\", 'is', 'a', '90', \"'s\", 'story', 'about', 'the', 'mob', ',', 'and', 'it', 'is', 'great', '.', 'We', 'can', 'never', 'tell', 'the', 'same', 'about', 'the', 'plot', 'for', 'the', 'Godfather', 'III', '.'], ['It', \"'s\", 'hard', 'to', 'praise', 'this', 'film', 'much', '.', 'The', 'CGI', 'for', 'the', 'dragon', 'was', 'well', 'done', ',', 'but', 'lacked', 'proper', 'modelling', 'for', 'light', 'and', 'shadow', '.', 'Also', ',', 'the', 'same', 'footage', 'is', 'used', 'endlessly', 'of', 'the', 'dragon', 'stomping', 'through', 'corridors', 'which', 'becomes', 'slightly', 'tedious', '.', 'I', 'was', 'amazed', 'to', 'see', '``', 'Marcus', 'Aurelius', \"''\", 'in', 'the', 'acting', 'credits', ',', 'wondering', 'what', 'an', 'ex-Emperor', 'of', 'the', 'Roman', 'Empire', 'was', 'doing', 'acting', 'in', 'this', 'film', '!', 'Like', '``', 'Whoopie', 'Goldberg', \"''\", 'it', 'must', 'be', 'an', 'alias', ',', 'and', 'can', 'one', 'blame', 'him', 'for', 'using', 'one', 'if', 'he', 'appears', 'in', 'this', 'stinker', '.', 'The', 'story', 'might', 'been', 'interesting', ',', 'but', 'the', 'acting', 'is', 'flat', ',', 'and', 'direction', 'is', 'tedious', '.', 'If', 'you', 'MUST', 'watch', 'this', 'film', ',', 'go', 'around', 'to', 'your', 'friend', \"'s\", 'house', 'and', 'get', 'drunk', 'while', 'doing', 'so', '-', 'then', 'it', \"'ll\", 'be', 'enjoyable', '.'], ['The', 'first', 'mistake', 'you', 'make', 'in', 'titling', 'a', 'film', 'is', 'to', 'use', '``', 'of', 'the', 'living', 'dead', \"''\", 'without', 'really', 'having', 'a', 'budget', 'for', 'real', 'zombie', 'FX', '.', 'Sure', ',', 'this', 'was', 'a', 'low', 'budget', 'zombie', 'flick', '-', 'really', 'low', 'budget', '.', 'I', 'thought', 'it', 'was', 'a', 'film', 'school', 'project', '.', 'Amateur', 'actors', 'and', 'amateur', 'effects', '.', 'It', 'was', 'really', 'not', 'too', 'bad', 'considering', 'the', 'above', ',', 'and', 'it', 'presented', 'an', 'interesting', 'twist', 'to', 'the', 'zombie', 'genre', '.', 'If', 'you', 'are', 'going', 'to', 'get', 'an', '``', 'R', \"''\", 'for', 'violence', ',', 'you', 'might', 'as', 'well', 'give', 'us', 'some', 'good', 'shots', 'of', 'the', 'babes', 'being', 'attacked', '.', 'The', 'women', 'were', 'so', 'little', 'used', 'in', 'this', 'film', 'that', 'it', 'could', 'almost', 'be', 'classified', 'as', '``', 'gay', 'interest', '.', \"''\", 'And', ',', 'I', 'am', 'staying', 'out', 'of', 'Oakland', '.', 'There', 'was', 'a', 'heck', 'of', 'a', 'lot', 'of', 'shooting', 'going', 'on', 'and', 'no', 'cops', 'in', 'sight', '!'], ['It', \"'s\", 'just', 'breathtaking', 'in', 'it', \"'s\", 'awfulness', '--', 'you', 'really', 'must', 'see', 'it', '!', 'Depending', 'on', 'your', 'perspective', ',', 'Dylan', 'Walsh', 'is', 'either', 'the', 'savior', 'or', 'the', 'problem', 'here', ':', 'since', 'he', \"'s\", 'the', 'only', 'one', 'on', 'screen', 'that', 'can', 'actually', 'get', 'his', 'lines', 'out', 'with', 'something', 'akin', 'to', 'natural', 'cadences', 'and', 'inflection', ',', 'he', 'either', 'ruins', 'the', 'movie', 'by', 'pointing', 'up', 'everyone', 'else', \"'s\", 'flaws', ',', 'or', 'he', 'saves', 'it', 'by', 'providing', 'some', 'context', 'for', 'their', 'awfulness', '.', 'I', \"'m\", 'inclined', 'to', 'the', 'later', 'view', '--', 'thanks', 'to', 'him', ',', 'it', 'works', 'as', 'high', 'comedy', '.', 'He', \"'s\", 'the', '7', 'footer', 'in', 'a', 'game', 'of', 'dwarf', 'basketball', ',', 'his', 'skill', 'set', 'just', 'does', \"n't\", 'apply', 'in', 'this', 'context', ',', 'and', 'his', 'discombobulation', 'is', 'delicious', '.', 'The', 'real', 'treat', 'though', 'is', 'Ms.', 'Eastwood', ',', 'whose', 'inability', 'to', 'speak', 'in', 'plain', 'English', 'is', 'so', 'pervasive', 'I', 'actually', 'googled', 'her', ',', 'expecting', 'to', 'learn', 'that', 'she', 'was', 'a', 'Russian', 'beauty', 'who', 'pronounced', 'her', 'lines', 'phonetically', ',', 'with', 'no', 'understanding', 'of', 'their', 'meaning', '.', 'But', 'no', ':', 'she', \"'s\", 'just', 'a', 'talent', 'free', 'American', 'who', 'will', 'leave', 'you', 'laughing', 'with', 'every', 'line', 'she', 'drops', '.', 'Whether', 'she', 'knew', 'what', 'the', 'lines', 'meant', 'must', 'remain', 'an', 'open', 'question', '.'], ['Once', 'in', 'a', 'while', 'in', 'Indian', 'cinema', 'there', 'comes', 'along', 'a', 'movie', 'like', 'Sholay', 'that', 'changes', 'the', 'way', 'the', 'audience', 'perceives', 'a', 'good', 'movie', '.', 'And', 'den', 'just', 'once', 'in', 'a', 'while', '(', 'hopefully', ')', 'we', 'have', 'a', 'RGV', 'ki', 'Aag', 'that', 'breaks', 'all', 'the', 'standards', 'and', 'creates', 'one', 'of', 'its', 'own', '.', 'A', 'standard', 'so', 'low', ',', 'it', 'can', 'never', 'be', 'broken', '.', 'Ram', 'Gopal', 'varma', 'manages', 'to', 'take', 'a', 'melting', 'pot', 'of', 'talent', 'and', 'create', 'a', 'dish', 'so', 'stale', 'u', 'can', 'smell', 'it', 'from', 'a', 'distance', '.', 'To', 'take', 'a', 'classic', 'like', 'Sholay', 'and', 'assassinate', 'it', 'is', 'totally', 'unforgivable', 'and', 'I', 'ca', \"n't\", 'believe', 'he', 'almost', 'called', 'the', 'movie', 'RGV', 'ki', 'Sholay', '.', 'Although', 'Sholay', 'had', 'a', 'lot', 'of', 'folklore', 'elements', 'in', 'it', ',', 'the', 'movie', 'managed', 'to', 'build', 'on', 'its', 'plot', 'by', 'merely', 'defining', 'the', 'characters', 'so', 'distinctively', 'that', 'they', 'lived', 'on', 'forever', '.', 'What', 'Aag', 'does', 'is', 'take', 'these', 'characters', 'and', 'mess', 'them', 'up', 'so', 'badly', 'u', \"'ll\", 'need', 'a', 'contest', 'to', 'pick', 'the', 'worst', '.', 'The', 'realism', 'element', 'is', 'totally', 'missing', 'and', 'what', 'the', 'movie', 'ends', 'up', 'providing', 'is', 'a', 'bunch', 'of', '``', 'actors', \"''\", 'parading', 'along', 'in', 'a', 'plot', 'less', 'and', 'seemingly', 'unrelated', 'set', 'of', 'events', '.', 'One', 'star', 'for', 'this', 'film', 'is', 'a', 'ridiculous', 'waste', 'of', 'a', 'vote', '.', 'its', 'time', 'for', 'RGV', 'to', 'wake', 'up', 'to', 'the', 'reality', 'of', 'his', 'failure', 'and', 'conjure', 'up', 'another', '``', 'different', \"''\", 'plot', 'that', 'can', 'be', 'categorized', 'under', 'cinema', '.'], ['This', 'is', 'a', 'candidate', 'for', 'the', 'single', 'most', 'disappointing', 'movie', 'experience', 'of', 'my', 'lifetime', '.', 'Cool', 'title', ',', 'excellent', 'director', '(', 'I', 'saw', '``', 'To', 'Die', 'For', \"''\", 'and', '``', 'Drugstore', 'Cowboy', \"''\", 'before', 'this', ')', ',', 'and', 'hey', '-', 'Uma', 'Thurman', 'in', 'the', 'cast', '.', 'How', 'can', 'you', 'go', 'wrong', '?', 'Well', ',', 'that', 'is', 'a', 'question', 'that', 'throbbed', 'in', 'my', 'temples', 'for', 'hours', 'after', 'I', 'watched', 'this', 'turkey', '.', 'Disjointed', 'and', 'unfunny', 'in', 'an', 'attempt', 'to', 'be', 'offbeat', ',', 'this', 'is', 'a', 'dead-zone', 'of', 'a', 'movie', 'that', 'should', 'be', 'avoided', 'at', 'all', 'costs', '.', 'Its', 'critical', 'lambasting', 'was', 'well', 'deserved', '.', 'You', 'have', 'here', 'one', 'of', 'those', 'rare', 'films', 'that', 'does', 'not', 'contain', 'a', 'single', 'redeeming', 'quality', '.', 'Zero', 'out', 'of', '****', '.']]\n"
          ],
          "name": "stdout"
        }
      ]
    },
    {
      "metadata": {
        "colab_type": "code",
        "id": "DrxFWNmFi07d",
        "colab": {}
      },
      "cell_type": "code",
      "source": [
        "from collections import Counter\n",
        "import numpy as np"
      ],
      "execution_count": 0,
      "outputs": []
    },
    {
      "metadata": {
        "colab_type": "code",
        "id": "TdNEv_DKi07l",
        "colab": {}
      },
      "cell_type": "code",
      "source": [
        "stop = stopwords.words('english') + list(string.punctuation) + [\"''\", '``', '...', \"'s\", \"n't\"]\n",
        "\n",
        "total_counts = Counter()\n",
        "all_reviews = positive_tokenized + negative_tokenized\n",
        "for r in all_reviews:\n",
        "    sig_words = [w.lower() for w in r if w.lower() not in stop]\n",
        "    for word in sig_words:\n",
        "        total_counts[word] += 1"
      ],
      "execution_count": 0,
      "outputs": []
    },
    {
      "metadata": {
        "colab_type": "code",
        "id": "IiMud9kdi07u",
        "colab": {}
      },
      "cell_type": "code",
      "source": [
        "vocab_size = 1000\n",
        "\n",
        "vocab = total_counts.most_common(vocab_size)\n",
        "vocab = [t[0] for t in vocab]\n"
      ],
      "execution_count": 0,
      "outputs": []
    },
    {
      "metadata": {
        "id": "J3bghzl0Tcpz",
        "colab_type": "code",
        "outputId": "3ada726b-b81c-46de-9eeb-9d29d5049757",
        "colab": {
          "base_uri": "https://localhost:8080/",
          "height": 55
        }
      },
      "cell_type": "code",
      "source": [
        "print(vocab)"
      ],
      "execution_count": 15,
      "outputs": [
        {
          "output_type": "stream",
          "text": [
            "['movie', 'film', 'one', 'like', 'good', 'would', 'even', 'time', 'really', 'story', 'see', 'much', 'could', 'well', 'get', 'bad', 'also', 'first', 'great', 'people', 'made', 'make', 'way', 'movies', 'think', 'characters', 'watch', 'character', 'many', 'films', 'two', 'seen', 'best', 'show', 'never', 'little', 'acting', 'plot', 'life', 'know', 'love', 'ever', 'better', 'end', 'man', 'still', 'say', 'scene', \"'ve\", 'something', 'scenes', 'go', '--', 'back', \"'m\", 'watching', 'though', 'thing', 'years', 'real', 'actually', 'actors', 'funny', 'find', 'another', 'nothing', 'work', 'new', 'makes', 'lot', 'old', 'look', 'going', 'part', 'every', 'director', 'cast', 'us', 'got', 'things', \"'re\", 'quite', 'pretty', 'take', 'world', 'ca', 'young', 'want', 'around', 'fact', 'however', 'seems', 'enough', 'may', 'thought', 'right', 'give', 'original', 'big', 'horror', 'series', 'without', 'gets', 'long', 'saw', 'come', 'always', 'least', 'action', 'must', 'times', 'interesting', 'role', 'family', 'music', 'point', 'almost', 'whole', 'bit', 'guy', 'far', 'comedy', 'might', 'feel', \"'ll\", 'minutes', 'since', 'script', 'done', 'last', 'anything', 'probably', 'girl', 'rather', 'fun', 'yet', 'woman', 'kind', 'away', 'performance', 'anyone', 'sure', 'worst', 'found', 'believe', 'tv', 'day', 'book', 'played', 'especially', 'comes', 'making', 'course', 'different', 'although', 'goes', 'trying', 'shows', 'put', 'place', 'reason', 'sense', 'looks', 'ending', 'someone', 'maybe', 'dvd', 'hard', 'worth', 'actor', 'everything', \"'d\", 'money', 'let', 'screen', 'looking', 'true', 'job', '2', 'set', 'seem', 'audience', '10', 'later', 'beautiful', 'everyone', 'watched', 'main', 'three', 'plays', 'effects', 'play', 'said', 'together', 'takes', 'left', 'seeing', 'night', 'version', 'wife', 'instead', 'excellent', 'house', 'john', 'idea', 'special', 'else', 'american', 'high', 'father', 'year', 'nice', 'simply', 'war', 'star', 'help', 'kids', 'try', 'shot', 'less', 'boring', 'death', 'second', 'mind', 'read', 'black', 'short', 'either', 'poor', 'need', 'rest', 'classic', 'fan', 'use', 'completely', 'hollywood', 'given', 'home', 'half', 'used', 'perhaps', 'friends', 'performances', 'men', 'enjoy', 'remember', 'women', 'dead', 'wrong', 'along', 'next', 'mean', 'moments', 'episode', 'truly', 'stupid', 'line', 'start', 'tell', 'couple', 'often', 'production', 'school', 'recommend', 'came', 'understand', 'keep', 'awful', 'small', 'camera', 'full', 'person', 'definitely', 'perfect', 'terrible', 'dialogue', 'case', 'name', 'getting', 'wonderful', 'sex', 'piece', 'others', 'mother', 'lines', 'video', 'become', 'yes', 'felt', 'supposed', 'title', 'head', 'finally', 'playing', 'stars', 'went', 'liked', 'face', 'gives', 'problem', 'early', 'top', 'lost', 'picture', 'human', 'evil', 'waste', 'budget', 'children', 'entertaining', 'overall', 'fans', 'sort', 'cinema', 'live', 'beginning', 'worse', 'written', 'lives', 'entire', 'certainly', 'friend', 'hope', 'absolutely', 'loved', 'oh', 'several', 'unfortunately', 'wanted', 'already', 'care', 'becomes', 'example', 'drama', 'final', 'laugh', '3', 'style', 'direction', 'based', 'boy', 'killer', '1', 'quality', 'writing', 'throughout', 'seemed', 'despite', 'white', 'able', 'amazing', 'turn', 'wants', 'works', 'humor', 'viewer', 'sound', 'fine', 'days', 'lead', 'sometimes', 'today', 'tries', 'behind', 'dark', 'guess', 'enjoyed', 'guys', 'totally', 'game', 'history', 'son', 'low', 'called', 'wo', 'michael', 'kill', 'art', 'act', 'past', '\\x96', 'genre', 'brilliant', 'favorite', 'gave', 'child', 'kid', 'stories', 'town', 'eyes', 'parts', 'turns', 'thinking', 'highly', 'flick', 'obviously', 'stuff', 'starts', 'horrible', 'soon', 'side', 'moment', 'directed', 'car', 'late', 'run', 'close', 'heart', 'decent', 'blood', 'expect', 'actress', 'city', 'heard', 'hour', 'roles', 'james', 'girls', 'took', 'feeling', 'lack', 'hand', 'experience', 'involved', 'happened', 'anyway', 'strong', 'says', 'happens', 'daughter', 'particularly', 'brother', 'attempt', 'chance', 'alone', 'voice', 'told', 'including', 'happen', 'fight', 'killed', 'police', 'matter', 'save', 'mr.', 'leave', 'none', 'etc', 'except', 'wonder', 'please', 'age', 'annoying', 'ago', 'coming', 'complete', 'taken', 'david', 'extremely', 'looked', 'usually', 'living', 'simple', 'scary', 'score', 'hours', 'obvious', 'cinematography', 'reality', 'exactly', 'career', 'shots', 'murder', 'violence', 'interest', 'hero', 'seriously', 'started', 'slow', 'god', 'ends', 'stop', 'cool', 'order', 'ones', 'ok', 'hilarious', 'mostly', 'cut', 'number', 'finds', 'sad', 'crap', 'king', 'opinion', 'hell', 'novel', 'jack', 'robert', 'running', 'group', 'whose', 'gore', 'known', 'somewhat', 'strange', 'type', 'hit', 'jokes', 'change', 'across', 'talent', 'possible', 'due', 'body', 'episodes', 'shown', '4', 'serious', 'husband', 'usual', 'english', 'room', 'power', 'tells', 'supporting', 'ridiculous', 'wish', '5', 'documentary', 'turned', 'call', 'words', 'apparently', 'problems', 'knew', 'attention', 'talking', 'released', 'song', 'saying', 'future', 'knows', 'huge', 'opening', 'view', 'disappointed', 'earth', 'happy', 'silly', 'taking', 'four', 'events', 'entertainment', 'relationship', 'light', 'bring', 'major', 'paul', 'musical', 'miss', 'local', 'animation', 'enjoyable', 'falls', 'comic', 'sequence', 'appears', 'similar', 'word', 'important', 'easily', 'george', 'viewers', 'predictable', 'basically', 'review', 'female', 'upon', 'songs', 'clearly', 'rock', 'beyond', 'sets', 'writer', 'modern', 'lee', 'whether', 'television', 'giving', 'rating', 'mention', 'dull', 'talk', 'country', 'british', 'sequel', 'thriller', 'single', 'begins', 'five', 'surprised', 'actual', 'stay', 'parents', 'richard', 'message', 'team', 'cheap', 'theater', 'certain', 'feels', 'moving', 'effort', 'level', 'red', 'lady', 'points', 'within', 'ways', 'needs', 'leads', 'typical', 'disney', 'bunch', 'add', 'york', 'storyline', 'gone', 'sorry', 'named', 'middle', 'eye', 'among', 'romantic', 'french', 'kept', 'suspense', 'fall', 'easy', 'clear', 'fantastic', 'season', 'weak', 'working', 'nearly', 'forget', 'elements', 'somehow', 'sister', 'lots', 'theme', 'comments', 'viewing', 'indeed', 'possibly', 'hate', 'near', 'realistic', 'release', 'greatest', 'showing', 'mystery', 'tom', 'form', 'imagine', 'means', 'using', 'famous', 'class', 'tried', 'decided', 'oscar', 'buy', 'straight', 'ten', 'dialog', 'peter', 'check', 'editing', 'fast', 'deal', 'brought', 'material', 'doubt', 'subject', 'period', 'follow', 'feature', 'surprise', 'die', 'filmed', 'okay', 'begin', 'wait', 'avoid', 'lame', 'whatever', 'learn', 'soundtrack', 'premise', 'eventually', 'leaves', 'sequences', 'atmosphere', 'expected', 'zombie', 'general', 'superb', 'believable', 'figure', 'stand', 'sit', 'move', 'de', 'keeps', 'sexual', 'killing', 'crime', 'difficult', 'average', 'comment', '20', 'poorly', 'reviews', 'otherwise', 'space', 'third', 'america', 'rent', 'nature', 'screenplay', 'directors', 'ask', 'badly', 'sounds', 'hear', 'became', 'needed', 'write', 'jane', 'particular', 'appear', 'tale', 'credits', 'imdb', 'mess', 'towards', 'question', 'street', 'shame', 'match', 'dance', 'truth', 'earlier', 'beauty', 'crazy', 'society', 'result', 'reading', 'forced', 'various', 'minute', 'romance', 'situation', 'laughs', 'baby', 'christmas', 'older', 'emotional', 'dream', 'meet', 'directing', 'interested', 'weird', 'unless', 'casting', 'total', 'worked', 'twist', 'stage', 'battle', 'apart', 'meets', 'unique', 'japanese', 'create', 'perfectly', 'effect', 'copy', 'meant', 'note', 'writers', 'development', 'brings', 'features', 'quickly', 'realize', 'fairly', 'william', 'previous', 'fire', 'potential', 'fighting', 'plenty', 'incredibly', 'return', 'leading', 'present', 'doctor', 'open', 'joke', 'talented', 'memorable', 'rich', 'boys', 'hands', 'social', 'powerful', 'footage', 'scott', 'monster', 'fails', 'fantasy', 'break', 'dr.', 'reasons', 'recently', 'hardly', 'hot', 'personal', 'missing', 'air', 'sweet', 'agree', 'mark', 'plus', 'background', 'male', 'cute', 'convincing', 'married', 'pay', 'crew', 'creepy', 'b', 'dramatic', 'dumb', 'free', 'inside', 'admit', 'deep', 'sadly', 'cheesy', 'gay', 'portrayed', 'outside', 'brothers', 'business', 'nudity', 'unlike', 'remake', 'acted', 'ideas', 'success', 'dog', 'setting', 'manages', 'cop', 'girlfriend', 'ended', 'animated', 'slightly', 'tony', 'front', 'missed', 'hold', 'deserves', 'masterpiece', 'following', 'wasted', 'forward', '80', 'filmmakers', 'large', 'telling', 'spend', 'secret', 'caught', 'dancing', 'choice', 'trouble', 'expecting', 'escape', 'successful', 'credit', 'spirit', 'public', 'filled', 'incredible', 'joe', 'bill', 'win', 'pace', 'flat', 'died', 'mad', \"'the\", 'sees', 'western', 'band', 'century', 'steve', 'concept', 'amount', 'van', 'biggest', 'plain', 'basic', 'waiting', 'considering', 'wrote', 'moves', 'ben', 'office', 'planet', 'suddenly', 'party', 'attempts', 'effective', 'recommended', 'list', 'box', 'positive', 'created', 'popular', 'company', 'appreciate', 'former', 'mentioned', 'era', 'members', 'intelligent', 'tension', '8', 'bored', 'la', 'recent', 'exciting', 'pure', 'situations', 'bought', 'sci-fi', 'revenge', 'gun', 'kills', 'odd', 'fear', 'garbage', 'familiar', 'awesome', 'state', 'walk', 'villain', 'college', 'runs', 'impossible', 'cartoon', 'likes', 'jim', 'pointless', 'produced', 'clever', 'laughing', 'studio', 'neither', 'portrayal', 'political', 'spent', 'entirely', 'ultimately', 'water', 'cat', 'cold', 'store', 'decides', 'fit', 'visual', 'violent', 'cover', '7', 'amusing', 'disturbing', 'singing', 'science', 'language', 'accent', 'island', 'uses', 'younger']\n"
          ],
          "name": "stdout"
        }
      ]
    },
    {
      "metadata": {
        "colab_type": "code",
        "id": "I8DCTKf7i078",
        "colab": {}
      },
      "cell_type": "code",
      "source": [
        "# Create a dictionary of words in the vocabulary mapped to index positions\n",
        "# (to be used in layer_0)\n",
        "word2index = {}\n",
        "for i,word in enumerate(vocab):\n",
        "    word2index[word] = i"
      ],
      "execution_count": 0,
      "outputs": []
    },
    {
      "metadata": {
        "colab_type": "code",
        "id": "1y_wEoNPi08E",
        "outputId": "0e19711e-b2a3-4450-b2ff-fcc1d2aab8e2",
        "colab": {
          "base_uri": "https://localhost:8080/",
          "height": 35
        }
      },
      "cell_type": "code",
      "source": [
        "print(\"ID of 'movie' = {}\".format(word2index['movie']))"
      ],
      "execution_count": 17,
      "outputs": [
        {
          "output_type": "stream",
          "text": [
            "ID of 'movie' = 0\n"
          ],
          "name": "stdout"
        }
      ]
    },
    {
      "metadata": {
        "colab_type": "code",
        "id": "Rnt7_kXii08M",
        "colab": {}
      },
      "cell_type": "code",
      "source": [
        "def convert_to_bag(review):\n",
        "    bag = np.zeros(vocab_size)\n",
        "    for word in review:\n",
        "        if word in vocab:\n",
        "          i = word2index[word.lower()]\n",
        "          bag[i]+=1\n",
        "    return bag"
      ],
      "execution_count": 0,
      "outputs": []
    },
    {
      "metadata": {
        "colab_type": "code",
        "id": "BLn_ywWwi08S",
        "colab": {}
      },
      "cell_type": "code",
      "source": [
        "test_bag = convert_to_bag(all_reviews[0])"
      ],
      "execution_count": 0,
      "outputs": []
    },
    {
      "metadata": {
        "colab_type": "code",
        "id": "BWXsLsrTi08X",
        "colab": {}
      },
      "cell_type": "code",
      "source": [
        "all_reviews_encoded = [convert_to_bag(x) for x in all_reviews]"
      ],
      "execution_count": 0,
      "outputs": []
    },
    {
      "metadata": {
        "colab_type": "code",
        "id": "hlrsPRWWi08f",
        "outputId": "48ef18b5-71fd-4fc0-f4d6-b1d54cae4b6e",
        "colab": {
          "base_uri": "https://localhost:8080/",
          "height": 35
        }
      },
      "cell_type": "code",
      "source": [
        "all_reviews_encoded[0].shape"
      ],
      "execution_count": 21,
      "outputs": [
        {
          "output_type": "execute_result",
          "data": {
            "text/plain": [
              "(1000,)"
            ]
          },
          "metadata": {
            "tags": []
          },
          "execution_count": 21
        }
      ]
    },
    {
      "metadata": {
        "colab_type": "code",
        "id": "ZPEW66FQi08z",
        "colab": {}
      },
      "cell_type": "code",
      "source": [
        "import random\n",
        "\n",
        "positive_labels = []\n",
        "for i in range(len(positive_tokenized)):\n",
        "    positive_labels.append('POSITIVE')\n",
        "negative_labels = []\n",
        "for i in range(len(negative_tokenized)):\n",
        "    negative_labels.append('NEGATIVE')\n",
        "   "
      ],
      "execution_count": 0,
      "outputs": []
    },
    {
      "metadata": {
        "colab_type": "code",
        "id": "w__rOGc7i085",
        "colab": {}
      },
      "cell_type": "code",
      "source": [
        "labels = positive_labels + negative_labels\n",
        "\n",
        "num_lables = []\n",
        "\n",
        "for val in labels:\n",
        "    if val == 'POSITIVE':\n",
        "       num_lables.append(1)\n",
        "    else:\n",
        "       num_lables.append(0) \n",
        "    "
      ],
      "execution_count": 0,
      "outputs": []
    },
    {
      "metadata": {
        "colab_type": "code",
        "id": "V75H_F9Gi08-",
        "colab": {}
      },
      "cell_type": "code",
      "source": [
        "reviews_and_labels = list(zip(all_reviews_encoded, num_lables))\n",
        "random.shuffle(reviews_and_labels)\n",
        "reviews, labels = zip(*reviews_and_labels)"
      ],
      "execution_count": 0,
      "outputs": []
    },
    {
      "metadata": {
        "colab_type": "code",
        "id": "HFOEHypri09D",
        "colab": {}
      },
      "cell_type": "code",
      "source": [
        "labels = np.array(labels)"
      ],
      "execution_count": 0,
      "outputs": []
    },
    {
      "metadata": {
        "id": "ExIGdNTQPZvr",
        "colab_type": "code",
        "colab": {}
      },
      "cell_type": "code",
      "source": [
        "def saveTrainingMetrics(title):\n",
        "  df = pd.DataFrame(results.history)\n",
        "  df=df[df['val_acc']==df.val_acc.max()]\n",
        "  df=df[df['acc']==df.acc.min()]\n",
        "\n",
        "  df.reset_index(inplace=True)\n",
        "    \n",
        "  df[\"title\"]=[title]\n",
        "  df[\"sample_size\"]=[SAMPLE_SIZE]\n",
        "  df[\"batch_size\"]=[BATCH_SIZE]\n",
        "  df[\"train_test_ratio\"]=[TRAIN_TEST_RATIO]\n",
        "  df[\"training_set_size\"]=[TRAINING_SET_SIZE]\n",
        "  df[\"validation_set_size\"]=[VALIDATION_SET_SIZE]\n",
        "  df[\"vocab_size\"]=[vocab_size]  \n",
        "  df[\"nb_epochs\"]=[EPOCHS]\n",
        "  df.drop(labels=\"index\",axis=1,inplace=True)\n",
        "  print(df)\n",
        "  df.to_csv(path_or_buf=df.iloc[0].title+\".csv\")"
      ],
      "execution_count": 0,
      "outputs": []
    },
    {
      "metadata": {
        "id": "qeAuh5wcPZvU",
        "colab_type": "text"
      },
      "cell_type": "markdown",
      "source": [
        "## Create a sparse matrix from reviews (where we keep the order of the words)"
      ]
    },
    {
      "metadata": {
        "id": "OpYv1kJXPZvV",
        "colab_type": "code",
        "outputId": "98bacd75-05be-4aac-f62e-06eeb443e3b3",
        "colab": {
          "base_uri": "https://localhost:8080/",
          "height": 55
        }
      },
      "cell_type": "code",
      "source": [
        "positive_strings[0]"
      ],
      "execution_count": 27,
      "outputs": [
        {
          "output_type": "execute_result",
          "data": {
            "text/plain": [
              "'After watching the rather sloppy WW1 spy thriller, Madam Lili (1969)starring Julie Andrews on tv this afternoon, I suddenly thought I had seen a far superior WW1 spy thriller. All I could remember was that it was produced by Dino De Laurentis. It only took a short search on IMDB to find Fraulein Doktor. Once I recognised the title the memories came flooding back. It is, for its time, a reasonably well crafted story revolving around true events such as the death of Kitchener and the German offensives of 1918.It also has a female spy who is much more believable than Julie Andrews! As with other reviewers the first and strongest memory was of the well produced battle scenes and of men and horses in gas masks. If you have an interest in war films and particularly WW1 it is a film well worth seeing if you have the opportunity.'"
            ]
          },
          "metadata": {
            "tags": []
          },
          "execution_count": 27
        }
      ]
    },
    {
      "metadata": {
        "id": "WPJRAN45PZvb",
        "colab_type": "code",
        "colab": {}
      },
      "cell_type": "code",
      "source": [
        "### We need to found out why we need this code and possibly who has written this code\n",
        "# reviews=[]\n",
        "# for sentence in positive_strings:\n",
        "#     reviews.append([sentence,1])\n",
        "# for sentence in negative_strings:\n",
        "#     reviews.append([sentence,0])\n",
        "# random.shuffle(reviews)\n"
      ],
      "execution_count": 0,
      "outputs": []
    },
    {
      "metadata": {
        "id": "YDQ10eDrPZvf",
        "colab_type": "code",
        "colab": {}
      },
      "cell_type": "code",
      "source": [
        "# tokenizer = keras.preprocessing.text.Tokenizer(num_words=None, filters='!\"#$%&()*+,-./:;<=>?@[\\]^_`{|}~',\\\n",
        "#                                    lower=True, split=' ', char_level=False, oov_token=None, document_count=0)"
      ],
      "execution_count": 0,
      "outputs": []
    },
    {
      "metadata": {
        "id": "LC4R-X_4PZvk",
        "colab_type": "code",
        "colab": {}
      },
      "cell_type": "code",
      "source": [
        "# len(reviews)"
      ],
      "execution_count": 0,
      "outputs": []
    },
    {
      "metadata": {
        "id": "gEmgoPp-PZvv",
        "colab_type": "text"
      },
      "cell_type": "markdown",
      "source": [
        "<a href='#table'>Back</a>\n",
        "# Train models<a class=\"anchor\" id=\"train\"></a>\n",
        "## Train NN 50 - 10 - 1 <a class=\"anchor\" id=\"train1\"></a>\n"
      ]
    },
    {
      "metadata": {
        "colab_type": "code",
        "id": "RsW4fg5wi09R",
        "colab": {}
      },
      "cell_type": "code",
      "source": [
        "X_train, X_test, y_train, y_test = train_test_split(np.array(reviews), np.array(labels), test_size=0.25)"
      ],
      "execution_count": 0,
      "outputs": []
    },
    {
      "metadata": {
        "id": "tpher_taUnSR",
        "colab_type": "code",
        "outputId": "3a87ea9b-2362-4d40-c1b6-4754f65bd717",
        "colab": {
          "base_uri": "https://localhost:8080/",
          "height": 138
        }
      },
      "cell_type": "code",
      "source": [
        "X_train"
      ],
      "execution_count": 31,
      "outputs": [
        {
          "output_type": "execute_result",
          "data": {
            "text/plain": [
              "array([[3., 0., 0., ..., 0., 0., 0.],\n",
              "       [1., 0., 1., ..., 0., 0., 0.],\n",
              "       [1., 0., 1., ..., 0., 0., 0.],\n",
              "       ...,\n",
              "       [3., 1., 0., ..., 0., 0., 0.],\n",
              "       [2., 0., 0., ..., 0., 0., 0.],\n",
              "       [0., 0., 1., ..., 0., 0., 0.]])"
            ]
          },
          "metadata": {
            "tags": []
          },
          "execution_count": 31
        }
      ]
    },
    {
      "metadata": {
        "colab_type": "code",
        "id": "94uBoS1xi09X",
        "outputId": "2d4f97c3-3c32-47ce-c5ef-69bda7ca376a",
        "colab": {
          "base_uri": "https://localhost:8080/",
          "height": 314
        }
      },
      "cell_type": "code",
      "source": [
        "model = keras.Sequential()\n",
        "model.add(layers.Dense(50, activation = \"relu\", input_shape=(vocab_size, )))\n",
        "model.add(layers.Dense(10, activation = \"relu\"))\n",
        "model.add(layers.Dense(1, activation = \"sigmoid\"))\n",
        "model.summary()"
      ],
      "execution_count": 32,
      "outputs": [
        {
          "output_type": "stream",
          "text": [
            "WARNING:tensorflow:From /usr/local/lib/python3.6/dist-packages/tensorflow/python/ops/resource_variable_ops.py:435: colocate_with (from tensorflow.python.framework.ops) is deprecated and will be removed in a future version.\n",
            "Instructions for updating:\n",
            "Colocations handled automatically by placer.\n",
            "_________________________________________________________________\n",
            "Layer (type)                 Output Shape              Param #   \n",
            "=================================================================\n",
            "dense (Dense)                (None, 50)                50050     \n",
            "_________________________________________________________________\n",
            "dense_1 (Dense)              (None, 10)                510       \n",
            "_________________________________________________________________\n",
            "dense_2 (Dense)              (None, 1)                 11        \n",
            "=================================================================\n",
            "Total params: 50,571\n",
            "Trainable params: 50,571\n",
            "Non-trainable params: 0\n",
            "_________________________________________________________________\n"
          ],
          "name": "stdout"
        }
      ]
    },
    {
      "metadata": {
        "colab_type": "code",
        "id": "bJDNCzSui09e",
        "colab": {}
      },
      "cell_type": "code",
      "source": [
        "model.compile(\n",
        " optimizer = \"adam\",\n",
        " loss = \"binary_crossentropy\",\n",
        " metrics = [\"accuracy\"]\n",
        ")"
      ],
      "execution_count": 0,
      "outputs": []
    },
    {
      "metadata": {
        "colab_type": "code",
        "id": "YvcEJsRxi09j",
        "outputId": "56f28840-5d1c-4f37-c944-a0fce0e33f5d",
        "colab": {
          "base_uri": "https://localhost:8080/",
          "height": 797
        }
      },
      "cell_type": "code",
      "source": [
        "EPOCHS=20\n",
        "results = model.fit(\n",
        " X_train, y_train,\n",
        " epochs=EPOCHS,\n",
        " validation_data=(X_test, y_test),\n",
        " batch_size=BATCH_SIZE\n",
        ")"
      ],
      "execution_count": 34,
      "outputs": [
        {
          "output_type": "stream",
          "text": [
            "Train on 9375 samples, validate on 3125 samples\n",
            "WARNING:tensorflow:From /usr/local/lib/python3.6/dist-packages/tensorflow/python/ops/math_ops.py:3066: to_int32 (from tensorflow.python.ops.math_ops) is deprecated and will be removed in a future version.\n",
            "Instructions for updating:\n",
            "Use tf.cast instead.\n",
            "Epoch 1/20\n",
            "9375/9375 [==============================] - 1s 126us/sample - loss: 0.5358 - acc: 0.7449 - val_loss: 0.3951 - val_acc: 0.8390\n",
            "Epoch 2/20\n",
            "9375/9375 [==============================] - 1s 83us/sample - loss: 0.3510 - acc: 0.8566 - val_loss: 0.3962 - val_acc: 0.8358\n",
            "Epoch 3/20\n",
            "9375/9375 [==============================] - 1s 85us/sample - loss: 0.3023 - acc: 0.8766 - val_loss: 0.3923 - val_acc: 0.8381\n",
            "Epoch 4/20\n",
            "9375/9375 [==============================] - 1s 86us/sample - loss: 0.2605 - acc: 0.8946 - val_loss: 0.4030 - val_acc: 0.8339\n",
            "Epoch 5/20\n",
            "9375/9375 [==============================] - 1s 85us/sample - loss: 0.2139 - acc: 0.9154 - val_loss: 0.4150 - val_acc: 0.8394\n",
            "Epoch 6/20\n",
            "9375/9375 [==============================] - 1s 83us/sample - loss: 0.1600 - acc: 0.9418 - val_loss: 0.4512 - val_acc: 0.8294\n",
            "Epoch 7/20\n",
            "9375/9375 [==============================] - 1s 83us/sample - loss: 0.1074 - acc: 0.9693 - val_loss: 0.4876 - val_acc: 0.8323\n",
            "Epoch 8/20\n",
            "9375/9375 [==============================] - 1s 84us/sample - loss: 0.0707 - acc: 0.9835 - val_loss: 0.5390 - val_acc: 0.8259\n",
            "Epoch 9/20\n",
            "9375/9375 [==============================] - 1s 84us/sample - loss: 0.0434 - acc: 0.9925 - val_loss: 0.5981 - val_acc: 0.8285\n",
            "Epoch 10/20\n",
            "9375/9375 [==============================] - 1s 83us/sample - loss: 0.0252 - acc: 0.9961 - val_loss: 0.6633 - val_acc: 0.8278\n",
            "Epoch 11/20\n",
            "9375/9375 [==============================] - 1s 84us/sample - loss: 0.0146 - acc: 0.9980 - val_loss: 0.7258 - val_acc: 0.8259\n",
            "Epoch 12/20\n",
            "9375/9375 [==============================] - 1s 85us/sample - loss: 0.0085 - acc: 0.9991 - val_loss: 0.7888 - val_acc: 0.8269\n",
            "Epoch 13/20\n",
            "9375/9375 [==============================] - 1s 84us/sample - loss: 0.0052 - acc: 0.9997 - val_loss: 0.8383 - val_acc: 0.8272\n",
            "Epoch 14/20\n",
            "9375/9375 [==============================] - 1s 84us/sample - loss: 0.0036 - acc: 0.9998 - val_loss: 0.8789 - val_acc: 0.8269\n",
            "Epoch 15/20\n",
            "9375/9375 [==============================] - 1s 84us/sample - loss: 0.0027 - acc: 0.9998 - val_loss: 0.9112 - val_acc: 0.8256\n",
            "Epoch 16/20\n",
            "9375/9375 [==============================] - 1s 86us/sample - loss: 0.0021 - acc: 0.9998 - val_loss: 0.9415 - val_acc: 0.8256\n",
            "Epoch 17/20\n",
            "9375/9375 [==============================] - 1s 86us/sample - loss: 0.0016 - acc: 0.9999 - val_loss: 0.9714 - val_acc: 0.8259\n",
            "Epoch 18/20\n",
            "9375/9375 [==============================] - 1s 83us/sample - loss: 0.0013 - acc: 0.9999 - val_loss: 0.9932 - val_acc: 0.8246\n",
            "Epoch 19/20\n",
            "9375/9375 [==============================] - 1s 83us/sample - loss: 0.0011 - acc: 0.9999 - val_loss: 1.0173 - val_acc: 0.8259\n",
            "Epoch 20/20\n",
            "9375/9375 [==============================] - 1s 84us/sample - loss: 9.5304e-04 - acc: 0.9999 - val_loss: 1.0368 - val_acc: 0.8250\n"
          ],
          "name": "stdout"
        }
      ]
    },
    {
      "metadata": {
        "id": "9gpws5-VY17J",
        "colab_type": "code",
        "outputId": "5b6ee492-924c-4bca-badd-c44ca97467d9",
        "colab": {
          "base_uri": "https://localhost:8080/",
          "height": 155
        }
      },
      "cell_type": "code",
      "source": [
        "saveTrainingMetrics(\"Opti-NN-Train NN 50 - 10 - 1\")"
      ],
      "execution_count": 35,
      "outputs": [
        {
          "output_type": "stream",
          "text": [
            "        acc      loss  val_acc  val_loss                         title  \\\n",
            "0  0.915413  0.213885  0.83936   0.41496  Opti-NN-Train NN 50 - 10 - 1   \n",
            "\n",
            "   sample_size  batch_size  train_test_ratio  training_set_size  \\\n",
            "0        12500          64              0.25               9375   \n",
            "\n",
            "   validation_set_size  vocab_size  nb_epochs  \n",
            "0                 3125        1000         20  \n"
          ],
          "name": "stdout"
        }
      ]
    },
    {
      "metadata": {
        "id": "vPb3tdEfPZv9",
        "colab_type": "text"
      },
      "cell_type": "markdown",
      "source": [
        "## Train NN 256 - 128 - 1 <a class=\"anchor\" id=\"train2\"></a>"
      ]
    },
    {
      "metadata": {
        "colab_type": "code",
        "id": "IG7nratoi09w",
        "colab": {}
      },
      "cell_type": "code",
      "source": [
        "model = keras.Sequential([\n",
        "    layers.Dense(256, activation = \"relu\", input_shape=(vocab_size, )),\n",
        "    layers.Dense(128, activation = \"relu\"),\n",
        "    layers.Dense(1, activation = \"sigmoid\")\n",
        "])"
      ],
      "execution_count": 0,
      "outputs": []
    },
    {
      "metadata": {
        "colab_type": "code",
        "id": "IOI6rAd_i091",
        "outputId": "c54dfe2a-ad14-41ff-ca11-eab55bdbd14f",
        "colab": {
          "base_uri": "https://localhost:8080/",
          "height": 242
        }
      },
      "cell_type": "code",
      "source": [
        "model.summary()"
      ],
      "execution_count": 37,
      "outputs": [
        {
          "output_type": "stream",
          "text": [
            "_________________________________________________________________\n",
            "Layer (type)                 Output Shape              Param #   \n",
            "=================================================================\n",
            "dense_3 (Dense)              (None, 256)               256256    \n",
            "_________________________________________________________________\n",
            "dense_4 (Dense)              (None, 128)               32896     \n",
            "_________________________________________________________________\n",
            "dense_5 (Dense)              (None, 1)                 129       \n",
            "=================================================================\n",
            "Total params: 289,281\n",
            "Trainable params: 289,281\n",
            "Non-trainable params: 0\n",
            "_________________________________________________________________\n"
          ],
          "name": "stdout"
        }
      ]
    },
    {
      "metadata": {
        "colab_type": "code",
        "id": "tHpN5VM8i097",
        "colab": {}
      },
      "cell_type": "code",
      "source": [
        "model.compile(\n",
        " optimizer = \"adam\",\n",
        " loss = \"binary_crossentropy\",\n",
        " metrics = [\"accuracy\"]\n",
        ")"
      ],
      "execution_count": 0,
      "outputs": []
    },
    {
      "metadata": {
        "colab_type": "code",
        "id": "FhcPKZnFi0-D",
        "outputId": "5b0847a5-445b-40f8-d730-af4ebd14b700",
        "colab": {
          "base_uri": "https://localhost:8080/",
          "height": 227
        }
      },
      "cell_type": "code",
      "source": [
        "EPOCHS=5\n",
        "results = model.fit(\n",
        " X_train, y_train,\n",
        " epochs=EPOCHS,\n",
        " validation_data=(X_test, y_test),\n",
        "batch_size=BATCH_SIZE\n",
        ")"
      ],
      "execution_count": 39,
      "outputs": [
        {
          "output_type": "stream",
          "text": [
            "Train on 9375 samples, validate on 3125 samples\n",
            "Epoch 1/5\n",
            "9375/9375 [==============================] - 1s 111us/sample - loss: 0.4580 - acc: 0.7935 - val_loss: 0.3759 - val_acc: 0.8374\n",
            "Epoch 2/5\n",
            "9375/9375 [==============================] - 1s 88us/sample - loss: 0.2756 - acc: 0.8869 - val_loss: 0.3817 - val_acc: 0.8333\n",
            "Epoch 3/5\n",
            "9375/9375 [==============================] - 1s 87us/sample - loss: 0.1619 - acc: 0.9428 - val_loss: 0.4394 - val_acc: 0.8259\n",
            "Epoch 4/5\n",
            "9375/9375 [==============================] - 1s 87us/sample - loss: 0.0557 - acc: 0.9863 - val_loss: 0.5886 - val_acc: 0.8250\n",
            "Epoch 5/5\n",
            "9375/9375 [==============================] - 1s 88us/sample - loss: 0.0130 - acc: 0.9978 - val_loss: 0.7423 - val_acc: 0.8291\n"
          ],
          "name": "stdout"
        }
      ]
    },
    {
      "metadata": {
        "colab_type": "code",
        "id": "i2T7Tom0i0-O",
        "outputId": "7703f771-64fc-47f3-a38e-4c232e093cf0",
        "colab": {
          "base_uri": "https://localhost:8080/",
          "height": 225
        }
      },
      "cell_type": "code",
      "source": [
        "results.history"
      ],
      "execution_count": 40,
      "outputs": [
        {
          "output_type": "execute_result",
          "data": {
            "text/plain": [
              "{'acc': [0.79349333, 0.8869333, 0.9428267, 0.98634666, 0.99776],\n",
              " 'loss': [0.4580307288233439,\n",
              "  0.2755668417453766,\n",
              "  0.16190532801946003,\n",
              "  0.055740674928824105,\n",
              "  0.01299528782894214],\n",
              " 'val_acc': [0.83744, 0.83328, 0.82592, 0.82496, 0.82912],\n",
              " 'val_loss': [0.3758724998950958,\n",
              "  0.38167366922378543,\n",
              "  0.43937484813690186,\n",
              "  0.5885822653484345,\n",
              "  0.7422854831886292]}"
            ]
          },
          "metadata": {
            "tags": []
          },
          "execution_count": 40
        }
      ]
    },
    {
      "metadata": {
        "id": "X3N7EaCHYHgJ",
        "colab_type": "code",
        "outputId": "6c599c45-334d-4010-d7ef-ef2d7447d7ab",
        "colab": {
          "base_uri": "https://localhost:8080/",
          "height": 155
        }
      },
      "cell_type": "code",
      "source": [
        "saveTrainingMetrics(\"Opti-NN-Train NN 256 - 128 - 1\")"
      ],
      "execution_count": 41,
      "outputs": [
        {
          "output_type": "stream",
          "text": [
            "        acc      loss  val_acc  val_loss                           title  \\\n",
            "0  0.793493  0.458031  0.83744  0.375872  Opti-NN-Train NN 256 - 128 - 1   \n",
            "\n",
            "   sample_size  batch_size  train_test_ratio  training_set_size  \\\n",
            "0        12500          64              0.25               9375   \n",
            "\n",
            "   validation_set_size  vocab_size  nb_epochs  \n",
            "0                 3125        1000          5  \n"
          ],
          "name": "stdout"
        }
      ]
    },
    {
      "metadata": {
        "id": "C1QyhP2mPZwd",
        "colab_type": "text"
      },
      "cell_type": "markdown",
      "source": [
        "## Train NN with K-Fold cross validation <a class=\"anchor\" id=\"kfold\"></a>"
      ]
    },
    {
      "metadata": {
        "id": "FNUp99AK1xlu",
        "colab_type": "code",
        "colab": {}
      },
      "cell_type": "code",
      "source": [
        "from keras.callbacks import History\n",
        "\n",
        "def getBestResultsFrom(bestResults,results):\n",
        "  if bestResults is None:\n",
        "    return results\n",
        "  \n",
        "  bestResultsDf = pd.DataFrame(data=bestResults.history)\n",
        "  bestResultsDf=bestResultsDf.sort_values(['val_acc'], ascending=False)\n",
        "  resultsDf = pd.DataFrame(data=results.history)\n",
        "  resultsDf=resultsDf.sort_values(['val_acc'], ascending=False)\n",
        "  \n",
        "  if bestResultsDf['val_acc'].iloc[0] > resultsDf['val_acc'].iloc[0]:    \n",
        "    return bestResults\n",
        "  \n",
        "  if bestResultsDf['val_acc'].iloc[0] == resultsDf['val_acc'].iloc[0]:\n",
        "    if bestResultsDf['acc'].iloc[0] < resultsDf['acc'].iloc[0]:\n",
        "      return bestResults\n",
        "    else:\n",
        "      return results\n",
        "\n",
        "  return results"
      ],
      "execution_count": 0,
      "outputs": []
    },
    {
      "metadata": {
        "colab_type": "code",
        "id": "_LwIgaq-i0-a",
        "colab": {}
      },
      "cell_type": "code",
      "source": [
        "X_train, X_test, y_train, y_test = train_test_split(np.array(reviews), np.array(labels), test_size=0.25)"
      ],
      "execution_count": 0,
      "outputs": []
    },
    {
      "metadata": {
        "colab_type": "code",
        "id": "c60zERWRi0-e",
        "colab": {}
      },
      "cell_type": "code",
      "source": [
        "FOLDS=3\n",
        "kfold = KFold(FOLDS, True, 1)"
      ],
      "execution_count": 0,
      "outputs": []
    },
    {
      "metadata": {
        "colab_type": "code",
        "id": "OR8fKYxai0-j",
        "colab": {}
      },
      "cell_type": "code",
      "source": [
        "train_data = list(zip(X_train, y_train))"
      ],
      "execution_count": 0,
      "outputs": []
    },
    {
      "metadata": {
        "colab_type": "code",
        "id": "pV3wG31Qi0-o",
        "outputId": "4c4a48d1-8177-4574-ea0a-217b189da981",
        "colab": {
          "base_uri": "https://localhost:8080/",
          "height": 35
        }
      },
      "cell_type": "code",
      "source": [
        "train_data[0][0].shape"
      ],
      "execution_count": 166,
      "outputs": [
        {
          "output_type": "execute_result",
          "data": {
            "text/plain": [
              "(1000,)"
            ]
          },
          "metadata": {
            "tags": []
          },
          "execution_count": 166
        }
      ]
    },
    {
      "metadata": {
        "id": "6_sF9E7XtyAI",
        "colab_type": "code",
        "colab": {}
      },
      "cell_type": "code",
      "source": [
        "EPOCHS=5\n",
        "SAMPLE_SIZE=len(X_train)\n",
        "TRAIN_TEST_RATIO=(1/FOLDS)\n",
        "TRAINING_SET_SIZE=int(SAMPLE_SIZE * (1 - TRAIN_TEST_RATIO))\n",
        "VALIDATION_SET_SIZE=int(SAMPLE_SIZE * TRAIN_TEST_RATIO)\n",
        "histories=[]"
      ],
      "execution_count": 0,
      "outputs": []
    },
    {
      "metadata": {
        "colab_type": "code",
        "id": "5sw1JTMli0-u",
        "outputId": "50a55cde-2770-490f-b643-796a7f14e84e",
        "colab": {
          "base_uri": "https://localhost:8080/",
          "height": 607
        }
      },
      "cell_type": "code",
      "source": [
        "bestResults=None\n",
        "for train_indices, test_indices in kfold.split(X_train,y=y_train):\n",
        "    model = keras.Sequential([\n",
        "      layers.Dense(256, activation = \"relu\", input_shape=(vocab_size,)),\n",
        "      layers.Dense(128, activation = \"relu\"),\n",
        "      layers.Dense(1, activation = \"sigmoid\")\n",
        "    ])\n",
        "    model.compile(\n",
        "      optimizer = \"adam\",\n",
        "      loss = \"binary_crossentropy\",\n",
        "      metrics = [\"accuracy\"]\n",
        "    )\n",
        "    K_X_train = X_train[train_indices]\n",
        "    K_y_train = y_train[train_indices]\n",
        "    K_X_test = X_train[test_indices]\n",
        "    K_y_test = y_train[test_indices]\n",
        "    results=model.fit(\n",
        "      K_X_train, K_y_train,\n",
        "      epochs=EPOCHS,\n",
        "      validation_data=(K_X_test, K_y_test),\n",
        "      batch_size=BATCH_SIZE\n",
        "    )\n",
        "    histories.append(results.history)\n",
        "    bestResults=getBestResultsFrom(bestResults,results)\n",
        "    \n",
        "results=bestResults"
      ],
      "execution_count": 168,
      "outputs": [
        {
          "output_type": "stream",
          "text": [
            "Train on 6250 samples, validate on 3125 samples\n",
            "Epoch 1/5\n",
            "6250/6250 [==============================] - 2s 271us/sample - loss: 0.4866 - acc: 0.7749 - val_loss: 0.3835 - val_acc: 0.8294\n",
            "Epoch 2/5\n",
            "6250/6250 [==============================] - 1s 108us/sample - loss: 0.2752 - acc: 0.8890 - val_loss: 0.3845 - val_acc: 0.8314\n",
            "Epoch 3/5\n",
            "6250/6250 [==============================] - 1s 111us/sample - loss: 0.1607 - acc: 0.9419 - val_loss: 0.4438 - val_acc: 0.8256\n",
            "Epoch 4/5\n",
            "6250/6250 [==============================] - 1s 110us/sample - loss: 0.0568 - acc: 0.9853 - val_loss: 0.5771 - val_acc: 0.8320\n",
            "Epoch 5/5\n",
            "6250/6250 [==============================] - 1s 107us/sample - loss: 0.0150 - acc: 0.9976 - val_loss: 0.6757 - val_acc: 0.8285\n",
            "Train on 6250 samples, validate on 3125 samples\n",
            "Epoch 1/5\n",
            "6250/6250 [==============================] - 2s 274us/sample - loss: 0.4656 - acc: 0.7837 - val_loss: 0.3936 - val_acc: 0.8342\n",
            "Epoch 2/5\n",
            "6250/6250 [==============================] - 1s 107us/sample - loss: 0.2659 - acc: 0.8958 - val_loss: 0.4011 - val_acc: 0.8294\n",
            "Epoch 3/5\n",
            "6250/6250 [==============================] - 1s 110us/sample - loss: 0.1412 - acc: 0.9515 - val_loss: 0.4931 - val_acc: 0.8256\n",
            "Epoch 4/5\n",
            "6250/6250 [==============================] - 1s 111us/sample - loss: 0.0483 - acc: 0.9883 - val_loss: 0.6474 - val_acc: 0.8186\n",
            "Epoch 5/5\n",
            "6250/6250 [==============================] - 1s 107us/sample - loss: 0.0110 - acc: 0.9981 - val_loss: 0.7677 - val_acc: 0.8192\n",
            "Train on 6250 samples, validate on 3125 samples\n",
            "Epoch 1/5\n",
            "6250/6250 [==============================] - 2s 277us/sample - loss: 0.4625 - acc: 0.7842 - val_loss: 0.4133 - val_acc: 0.8211\n",
            "Epoch 2/5\n",
            "6250/6250 [==============================] - 1s 109us/sample - loss: 0.2578 - acc: 0.8958 - val_loss: 0.4320 - val_acc: 0.8253\n",
            "Epoch 3/5\n",
            "6250/6250 [==============================] - 1s 109us/sample - loss: 0.1469 - acc: 0.9485 - val_loss: 0.5036 - val_acc: 0.8186\n",
            "Epoch 4/5\n",
            "6250/6250 [==============================] - 1s 111us/sample - loss: 0.0493 - acc: 0.9885 - val_loss: 0.6477 - val_acc: 0.8218\n",
            "Epoch 5/5\n",
            "6250/6250 [==============================] - 1s 110us/sample - loss: 0.0113 - acc: 0.9989 - val_loss: 0.8065 - val_acc: 0.8214\n"
          ],
          "name": "stdout"
        }
      ]
    },
    {
      "metadata": {
        "id": "K3Wmz90j1efN",
        "colab_type": "code",
        "colab": {
          "base_uri": "https://localhost:8080/",
          "height": 207
        },
        "outputId": "6090f27e-4cb1-4b32-e2af-9af7c28dae59"
      },
      "cell_type": "code",
      "source": [
        "saveTrainingMetrics(\"Opti-NN-Train NN with K-Fold cross validation\")"
      ],
      "execution_count": 169,
      "outputs": [
        {
          "output_type": "stream",
          "text": [
            "       acc      loss  val_acc  val_loss  \\\n",
            "0  0.78368  0.465594  0.83424  0.393609   \n",
            "\n",
            "                                           title  sample_size  batch_size  \\\n",
            "0  Opti-NN-Train NN with K-Fold cross validation         9375          64   \n",
            "\n",
            "   train_test_ratio  training_set_size  validation_set_size  vocab_size  \\\n",
            "0          0.333333               6250                 3125        1000   \n",
            "\n",
            "   nb_epochs  \n",
            "0          5  \n"
          ],
          "name": "stdout"
        }
      ]
    },
    {
      "metadata": {
        "colab_type": "code",
        "id": "s5ouE4n7i0-3",
        "outputId": "d3b75cc4-c9e3-4934-e603-89f7f05eac4d",
        "colab": {
          "base_uri": "https://localhost:8080/",
          "height": 368
        }
      },
      "cell_type": "code",
      "source": [
        "df = pd.DataFrame(data=histories)\n",
        "for col in df.columns:\n",
        "    df[col] =  df[col].apply(lambda x: x[-1])\n",
        "plot=df[[\"acc\",\"val_acc\"]].plot()\n",
        "plot.set_ylim([0,1])\n",
        "\n",
        "means=df[[\"acc\",\"val_acc\"]].mean()\n",
        "print(\"mean acc: {}, mean val_acc: {}\".format(means[\"acc\"],means[\"val_acc\"]))"
      ],
      "execution_count": 170,
      "outputs": [
        {
          "output_type": "stream",
          "text": [
            "mean acc: 0.9981866876284281, mean val_acc: 0.8230399886767069\n"
          ],
          "name": "stdout"
        },
        {
          "output_type": "display_data",
          "data": {
            "image/png": "[encoded data removed]",
            "text/plain": [
              "<Figure size 576x396 with 1 Axes>"
            ]
          },
          "metadata": {
            "tags": []
          }
        }
      ]
    },
    {
      "metadata": {
        "id": "MhsXqWp2PZw6",
        "colab_type": "text"
      },
      "cell_type": "markdown",
      "source": [
        "## Train RNN <a class=\"anchor\" id=\"rnn\"></a>"
      ]
    },
    {
      "metadata": {
        "id": "hIVA8Xr9PZw-",
        "colab_type": "code",
        "colab": {}
      },
      "cell_type": "code",
      "source": [
        ""
      ],
      "execution_count": 0,
      "outputs": []
    },
    {
      "metadata": {
        "id": "-rDReAbCPZxA",
        "colab_type": "text"
      },
      "cell_type": "markdown",
      "source": [
        "<a href='#table'>Back</a>\n",
        "# OPTIMIZE<a class=\"anchor\" id=\"opti\"></a>"
      ]
    },
    {
      "metadata": {
        "id": "14G1v5TEPZxB",
        "colab_type": "text"
      },
      "cell_type": "markdown",
      "source": [
        "## Optimize on dropout<a class=\"anchor\" id=\"opti_d\"></a>"
      ]
    },
    {
      "metadata": {
        "colab_type": "code",
        "id": "Wn6ISenGq7Aa",
        "colab": {}
      },
      "cell_type": "code",
      "source": [
        "X_train, X_test, y_train, y_test = train_test_split(np.array(reviews), np.array(labels), test_size=0.25)"
      ],
      "execution_count": 0,
      "outputs": []
    },
    {
      "metadata": {
        "colab_type": "code",
        "id": "nzc1nQ7wq7Am",
        "colab": {}
      },
      "cell_type": "code",
      "source": [
        "FOLDS=3\n",
        "kfold = KFold(FOLDS, True, 1)"
      ],
      "execution_count": 0,
      "outputs": []
    },
    {
      "metadata": {
        "colab_type": "code",
        "id": "V2iZzqKVq7Ax",
        "colab": {}
      },
      "cell_type": "code",
      "source": [
        "train_data = list(zip(X_train, y_train))"
      ],
      "execution_count": 0,
      "outputs": []
    },
    {
      "metadata": {
        "colab_type": "code",
        "id": "8VNkRI_f36lv",
        "colab": {}
      },
      "cell_type": "code",
      "source": [
        "from pdb import set_trace\n",
        "\n",
        "def getMeansFromResultsHistory(histories):\n",
        "  df = pd.DataFrame(data=histories)\n",
        "  for col in df.columns:\n",
        "      df[col] =  df[col].apply(lambda x: x[-1])\n",
        "  means=df[[\"acc\",\"val_acc\"]].mean()\n",
        "  return means\n",
        "\n",
        "def trainModelWithDropoutOn1Layer(epochs_nb=5,rate=0.0):\n",
        "  EPOCHS=5\n",
        "  SAMPLE_SIZE=len(X_train)\n",
        "  TRAIN_TEST_RATIO=(1/FOLDS)\n",
        "  TRAINING_SET_SIZE=int(SAMPLE_SIZE * (1 - TRAIN_TEST_RATIO))\n",
        "  VALIDATION_SET_SIZE=int(SAMPLE_SIZE * TRAIN_TEST_RATIO)\n",
        "\n",
        "  histories=[]\n",
        "  bestResults=None\n",
        "  for train_indices, test_indices in kfold.split(X_train,y=y_train):\n",
        "      model = keras.Sequential([\n",
        "        layers.Dense(256, activation = \"relu\", input_shape=(vocab_size, )),\n",
        "        layers.Dropout(rate),\n",
        "        layers.Dense(128, activation = \"relu\"),\n",
        "        layers.Dense(1, activation = \"sigmoid\")\n",
        "      ])\n",
        "      model.compile(\n",
        "       optimizer = \"adam\",\n",
        "       loss = \"binary_crossentropy\",\n",
        "       metrics = [\"accuracy\"]\n",
        "      )\n",
        "      K_X_train = X_train[train_indices]\n",
        "      K_y_train = y_train[train_indices]\n",
        "      K_X_test = X_train[test_indices]\n",
        "      K_y_test = y_train[test_indices]\n",
        "      results=model.fit(\n",
        "          K_X_train, K_y_train,\n",
        "          epochs=epochs_nb,\n",
        "          validation_data=(K_X_test, K_y_test),\n",
        "          batch_size=BATCH_SIZE\n",
        "      )\n",
        "      histories.append(results.history)\n",
        "      bestResults=getBestResultsFrom(bestResults,results)\n",
        "  \n",
        "  means=getMeansFromResultsHistory(histories)\n",
        "  print(means) \n",
        "  return bestResults,means\n",
        "\n",
        "def trainModelWithDropoutOn2Layers(epochs_nb=5,rate=0.0):\n",
        "  EPOCHS=5\n",
        "  SAMPLE_SIZE=len(X_train)\n",
        "  TRAIN_TEST_RATIO=(1/FOLDS)\n",
        "  TRAINING_SET_SIZE=int(SAMPLE_SIZE * (1 - TRAIN_TEST_RATIO))\n",
        "  VALIDATION_SET_SIZE=int(SAMPLE_SIZE * TRAIN_TEST_RATIO)\n",
        "\n",
        "  histories=[]\n",
        "  bestResults=None\n",
        "  for train_indices, test_indices in kfold.split(X_train,y=y_train):\n",
        "      model = keras.Sequential([\n",
        "      layers.Dense(256, activation = \"relu\", input_shape=(vocab_size, )),\n",
        "      layers.Dropout(rate),\n",
        "      layers.Dense(128, activation = \"relu\"),\n",
        "      layers.Dropout(rate),\n",
        "      layers.Dense(1, activation = \"sigmoid\")\n",
        "      ])\n",
        "      model.compile(\n",
        "       optimizer = \"adam\",\n",
        "       loss = \"binary_crossentropy\",\n",
        "       metrics = [\"accuracy\"]\n",
        "      )\n",
        "      K_X_train = X_train[train_indices]\n",
        "      K_y_train = y_train[train_indices]\n",
        "      K_X_test = X_train[test_indices]\n",
        "      K_y_test = y_train[test_indices]\n",
        "      results=model.fit(\n",
        "          K_X_train, K_y_train,\n",
        "          epochs=epochs_nb,\n",
        "          validation_data=(K_X_test, K_y_test),\n",
        "          batch_size=BATCH_SIZE\n",
        "      )\n",
        "      histories.append(results.history)\n",
        "      bestResults=getBestResultsFrom(bestResults,results)\n",
        "  \n",
        "  means=getMeansFromResultsHistory(histories)\n",
        "  print(means) \n",
        "  return bestResults,means"
      ],
      "execution_count": 0,
      "outputs": []
    },
    {
      "metadata": {
        "colab_type": "code",
        "id": "9s4XxkFy2gaU",
        "colab": {}
      },
      "cell_type": "code",
      "source": [
        "dropout_means=[]"
      ],
      "execution_count": 0,
      "outputs": []
    },
    {
      "metadata": {
        "id": "vUGkh0VEPZxR",
        "colab_type": "text"
      },
      "cell_type": "markdown",
      "source": [
        "### No dropout\n"
      ]
    },
    {
      "metadata": {
        "colab_type": "code",
        "id": "jOicSA33xPyy",
        "outputId": "af2162d8-1aed-4a40-dcb6-13c6021775f5",
        "colab": {
          "base_uri": "https://localhost:8080/",
          "height": 849
        }
      },
      "cell_type": "code",
      "source": [
        "rate=0.0\n",
        "EPOCHS=5\n",
        "results,means=trainModelWithDropoutOn1Layer(epochs_nb=EPOCHS,rate=rate)\n",
        "dropout_means.append([means[\"acc\"],means[\"val_acc\"], rate,0])\n",
        "saveTrainingMetrics(\"Opti-NN-Optimise with K-folds - No dropouts\")"
      ],
      "execution_count": 176,
      "outputs": [
        {
          "output_type": "stream",
          "text": [
            "Train on 6250 samples, validate on 3125 samples\n",
            "Epoch 1/5\n",
            "6250/6250 [==============================] - 2s 282us/sample - loss: 0.4726 - acc: 0.7798 - val_loss: 0.4149 - val_acc: 0.8317\n",
            "Epoch 2/5\n",
            "6250/6250 [==============================] - 1s 110us/sample - loss: 0.2659 - acc: 0.8978 - val_loss: 0.4349 - val_acc: 0.8230\n",
            "Epoch 3/5\n",
            "6250/6250 [==============================] - 1s 112us/sample - loss: 0.1515 - acc: 0.9458 - val_loss: 0.5081 - val_acc: 0.8186\n",
            "Epoch 4/5\n",
            "6250/6250 [==============================] - 1s 113us/sample - loss: 0.0524 - acc: 0.9861 - val_loss: 0.6425 - val_acc: 0.8182\n",
            "Epoch 5/5\n",
            "6250/6250 [==============================] - 1s 110us/sample - loss: 0.0105 - acc: 0.9995 - val_loss: 0.8161 - val_acc: 0.8182\n",
            "Train on 6250 samples, validate on 3125 samples\n",
            "Epoch 1/5\n",
            "6250/6250 [==============================] - 2s 288us/sample - loss: 0.4774 - acc: 0.7816 - val_loss: 0.3958 - val_acc: 0.8368\n",
            "Epoch 2/5\n",
            "6250/6250 [==============================] - 1s 111us/sample - loss: 0.2777 - acc: 0.8917 - val_loss: 0.4439 - val_acc: 0.8256\n",
            "Epoch 3/5\n",
            "6250/6250 [==============================] - 1s 113us/sample - loss: 0.1617 - acc: 0.9414 - val_loss: 0.4628 - val_acc: 0.8349\n",
            "Epoch 4/5\n",
            "6250/6250 [==============================] - 1s 111us/sample - loss: 0.0500 - acc: 0.9882 - val_loss: 0.6305 - val_acc: 0.8326\n",
            "Epoch 5/5\n",
            "6250/6250 [==============================] - 1s 112us/sample - loss: 0.0123 - acc: 0.9986 - val_loss: 0.7539 - val_acc: 0.8269\n",
            "Train on 6250 samples, validate on 3125 samples\n",
            "Epoch 1/5\n",
            "6250/6250 [==============================] - 2s 291us/sample - loss: 0.4739 - acc: 0.7856 - val_loss: 0.3921 - val_acc: 0.8362\n",
            "Epoch 2/5\n",
            "6250/6250 [==============================] - 1s 112us/sample - loss: 0.2785 - acc: 0.8920 - val_loss: 0.4011 - val_acc: 0.8262\n",
            "Epoch 3/5\n",
            "6250/6250 [==============================] - 1s 111us/sample - loss: 0.1543 - acc: 0.9469 - val_loss: 0.4690 - val_acc: 0.8317\n",
            "Epoch 4/5\n",
            "6250/6250 [==============================] - 1s 111us/sample - loss: 0.0526 - acc: 0.9890 - val_loss: 0.6702 - val_acc: 0.8163\n",
            "Epoch 5/5\n",
            "6250/6250 [==============================] - 1s 112us/sample - loss: 0.0142 - acc: 0.9979 - val_loss: 0.7676 - val_acc: 0.8253\n",
            "acc        0.998667\n",
            "val_acc    0.823467\n",
            "dtype: float64\n",
            "      acc      loss  val_acc  val_loss  \\\n",
            "0  0.7816  0.477366   0.8368  0.395784   \n",
            "\n",
            "                                         title  sample_size  batch_size  \\\n",
            "0  Opti-NN-Optimise with K-folds - No dropouts         9375          64   \n",
            "\n",
            "   train_test_ratio  training_set_size  validation_set_size  vocab_size  \\\n",
            "0          0.333333               6250                 3125        1000   \n",
            "\n",
            "   nb_epochs  \n",
            "0          5  \n"
          ],
          "name": "stdout"
        }
      ]
    },
    {
      "metadata": {
        "id": "TnO39h8BPZxW",
        "colab_type": "text"
      },
      "cell_type": "markdown",
      "source": [
        "### Low dropout on 1 layer"
      ]
    },
    {
      "metadata": {
        "colab_type": "code",
        "id": "Q5uhaJ-_rOO2",
        "outputId": "5f528eee-b22c-482c-98df-f2463bb2a492",
        "colab": {
          "base_uri": "https://localhost:8080/",
          "height": 849
        }
      },
      "cell_type": "code",
      "source": [
        "rate=0.2\n",
        "EPOCHS=5\n",
        "results,means=trainModelWithDropoutOn1Layer(epochs_nb=EPOCHS,rate=rate)\n",
        "dropout_means.append([means[\"acc\"],means[\"val_acc\"], rate,1])\n",
        "saveTrainingMetrics(\"Opti-NN-Optimise with K-folds - Low dropout on 1 layer\")"
      ],
      "execution_count": 177,
      "outputs": [
        {
          "output_type": "stream",
          "text": [
            "Train on 6250 samples, validate on 3125 samples\n",
            "Epoch 1/5\n",
            "6250/6250 [==============================] - 2s 298us/sample - loss: 0.4881 - acc: 0.7741 - val_loss: 0.4254 - val_acc: 0.8253\n",
            "Epoch 2/5\n",
            "6250/6250 [==============================] - 1s 113us/sample - loss: 0.2880 - acc: 0.8810 - val_loss: 0.4337 - val_acc: 0.8253\n",
            "Epoch 3/5\n",
            "6250/6250 [==============================] - 1s 113us/sample - loss: 0.1918 - acc: 0.9237 - val_loss: 0.4822 - val_acc: 0.8205\n",
            "Epoch 4/5\n",
            "6250/6250 [==============================] - 1s 113us/sample - loss: 0.0961 - acc: 0.9682 - val_loss: 0.5914 - val_acc: 0.8173\n",
            "Epoch 5/5\n",
            "6250/6250 [==============================] - 1s 112us/sample - loss: 0.0391 - acc: 0.9907 - val_loss: 0.7338 - val_acc: 0.8138\n",
            "Train on 6250 samples, validate on 3125 samples\n",
            "Epoch 1/5\n",
            "6250/6250 [==============================] - 2s 303us/sample - loss: 0.4845 - acc: 0.7715 - val_loss: 0.4121 - val_acc: 0.8250\n",
            "Epoch 2/5\n",
            "6250/6250 [==============================] - 1s 116us/sample - loss: 0.3080 - acc: 0.8763 - val_loss: 0.4069 - val_acc: 0.8323\n",
            "Epoch 3/5\n",
            "6250/6250 [==============================] - 1s 116us/sample - loss: 0.1960 - acc: 0.9278 - val_loss: 0.4515 - val_acc: 0.8253\n",
            "Epoch 4/5\n",
            "6250/6250 [==============================] - 1s 114us/sample - loss: 0.0944 - acc: 0.9706 - val_loss: 0.5701 - val_acc: 0.8214\n",
            "Epoch 5/5\n",
            "6250/6250 [==============================] - 1s 115us/sample - loss: 0.0382 - acc: 0.9912 - val_loss: 0.6942 - val_acc: 0.8256\n",
            "Train on 6250 samples, validate on 3125 samples\n",
            "Epoch 1/5\n",
            "6250/6250 [==============================] - 2s 312us/sample - loss: 0.4851 - acc: 0.7666 - val_loss: 0.3829 - val_acc: 0.8358\n",
            "Epoch 2/5\n",
            "6250/6250 [==============================] - 1s 115us/sample - loss: 0.3021 - acc: 0.8776 - val_loss: 0.3947 - val_acc: 0.8272\n",
            "Epoch 3/5\n",
            "6250/6250 [==============================] - 1s 116us/sample - loss: 0.1927 - acc: 0.9312 - val_loss: 0.4259 - val_acc: 0.8301\n",
            "Epoch 4/5\n",
            "6250/6250 [==============================] - 1s 115us/sample - loss: 0.0984 - acc: 0.9698 - val_loss: 0.5617 - val_acc: 0.8259\n",
            "Epoch 5/5\n",
            "6250/6250 [==============================] - 1s 114us/sample - loss: 0.0376 - acc: 0.9907 - val_loss: 0.6560 - val_acc: 0.8326\n",
            "acc        0.99088\n",
            "val_acc    0.82400\n",
            "dtype: float64\n",
            "       acc      loss  val_acc  val_loss  \\\n",
            "0  0.76656  0.485126  0.83584  0.382864   \n",
            "\n",
            "                                               title  sample_size  batch_size  \\\n",
            "0  Opti-NN-Optimise with K-folds - Low dropout on...         9375          64   \n",
            "\n",
            "   train_test_ratio  training_set_size  validation_set_size  vocab_size  \\\n",
            "0          0.333333               6250                 3125        1000   \n",
            "\n",
            "   nb_epochs  \n",
            "0          5  \n"
          ],
          "name": "stdout"
        }
      ]
    },
    {
      "metadata": {
        "id": "1CrRZgpaPZxZ",
        "colab_type": "text"
      },
      "cell_type": "markdown",
      "source": [
        "### High dropout on 1 layer\n"
      ]
    },
    {
      "metadata": {
        "colab_type": "code",
        "id": "1CblTzT_uul1",
        "outputId": "54f84cec-e8e6-409c-e53a-415e80b97ff5",
        "colab": {
          "base_uri": "https://localhost:8080/",
          "height": 849
        }
      },
      "cell_type": "code",
      "source": [
        "rate=0.4\n",
        "EPOCHS=5\n",
        "results,means=trainModelWithDropoutOn1Layer(epochs_nb=EPOCHS,rate=rate)\n",
        "dropout_means.append([means[\"acc\"],means[\"val_acc\"], rate,1])\n",
        "saveTrainingMetrics(\"Opti-NN-Optimise with K-folds - High dropout on 1 layer\")"
      ],
      "execution_count": 178,
      "outputs": [
        {
          "output_type": "stream",
          "text": [
            "Train on 6250 samples, validate on 3125 samples\n",
            "Epoch 1/5\n",
            "6250/6250 [==============================] - 2s 311us/sample - loss: 0.5012 - acc: 0.7621 - val_loss: 0.4083 - val_acc: 0.8314\n",
            "Epoch 2/5\n",
            "6250/6250 [==============================] - 1s 115us/sample - loss: 0.3219 - acc: 0.8685 - val_loss: 0.4044 - val_acc: 0.8320\n",
            "Epoch 3/5\n",
            "6250/6250 [==============================] - 1s 116us/sample - loss: 0.2392 - acc: 0.9048 - val_loss: 0.4429 - val_acc: 0.8240\n",
            "Epoch 4/5\n",
            "6250/6250 [==============================] - 1s 115us/sample - loss: 0.1547 - acc: 0.9443 - val_loss: 0.4940 - val_acc: 0.8262\n",
            "Epoch 5/5\n",
            "6250/6250 [==============================] - 1s 113us/sample - loss: 0.0984 - acc: 0.9678 - val_loss: 0.5876 - val_acc: 0.8218\n",
            "Train on 6250 samples, validate on 3125 samples\n",
            "Epoch 1/5\n",
            "6250/6250 [==============================] - 2s 317us/sample - loss: 0.5068 - acc: 0.7587 - val_loss: 0.3980 - val_acc: 0.8371\n",
            "Epoch 2/5\n",
            "6250/6250 [==============================] - 1s 115us/sample - loss: 0.3199 - acc: 0.8686 - val_loss: 0.4072 - val_acc: 0.8320\n",
            "Epoch 3/5\n",
            "6250/6250 [==============================] - 1s 116us/sample - loss: 0.2348 - acc: 0.9080 - val_loss: 0.4285 - val_acc: 0.8298\n",
            "Epoch 4/5\n",
            "6250/6250 [==============================] - 1s 115us/sample - loss: 0.1630 - acc: 0.9419 - val_loss: 0.4647 - val_acc: 0.8298\n",
            "Epoch 5/5\n",
            "6250/6250 [==============================] - 1s 115us/sample - loss: 0.0907 - acc: 0.9714 - val_loss: 0.5941 - val_acc: 0.8227\n",
            "Train on 6250 samples, validate on 3125 samples\n",
            "Epoch 1/5\n",
            "6250/6250 [==============================] - 2s 322us/sample - loss: 0.5122 - acc: 0.7509 - val_loss: 0.3985 - val_acc: 0.8240\n",
            "Epoch 2/5\n",
            "6250/6250 [==============================] - 1s 115us/sample - loss: 0.3272 - acc: 0.8680 - val_loss: 0.3908 - val_acc: 0.8349\n",
            "Epoch 3/5\n",
            "6250/6250 [==============================] - 1s 114us/sample - loss: 0.2447 - acc: 0.9013 - val_loss: 0.4180 - val_acc: 0.8342\n",
            "Epoch 4/5\n",
            "6250/6250 [==============================] - 1s 116us/sample - loss: 0.1664 - acc: 0.9405 - val_loss: 0.4935 - val_acc: 0.8240\n",
            "Epoch 5/5\n",
            "6250/6250 [==============================] - 1s 117us/sample - loss: 0.0966 - acc: 0.9667 - val_loss: 0.5657 - val_acc: 0.8294\n",
            "acc        0.96864\n",
            "val_acc    0.82464\n",
            "dtype: float64\n",
            "       acc      loss  val_acc  val_loss  \\\n",
            "0  0.75872  0.506801  0.83712  0.398043   \n",
            "\n",
            "                                               title  sample_size  batch_size  \\\n",
            "0  Opti-NN-Optimise with K-folds - High dropout o...         9375          64   \n",
            "\n",
            "   train_test_ratio  training_set_size  validation_set_size  vocab_size  \\\n",
            "0          0.333333               6250                 3125        1000   \n",
            "\n",
            "   nb_epochs  \n",
            "0          5  \n"
          ],
          "name": "stdout"
        }
      ]
    },
    {
      "metadata": {
        "id": "19DRpJToPZxd",
        "colab_type": "text"
      },
      "cell_type": "markdown",
      "source": [
        "### Low dropout on 2 layers"
      ]
    },
    {
      "metadata": {
        "id": "aBcUSBlr5uev",
        "colab_type": "code",
        "outputId": "491a88eb-8feb-4eee-adb2-4bc8b98235e6",
        "colab": {
          "base_uri": "https://localhost:8080/",
          "height": 849
        }
      },
      "cell_type": "code",
      "source": [
        "rate=0.2\n",
        "EPOCHS=5\n",
        "results,means=trainModelWithDropoutOn2Layers(epochs_nb=EPOCHS,rate=rate)\n",
        "dropout_means.append([means[\"acc\"],means[\"val_acc\"], rate,1])\n",
        "saveTrainingMetrics(\"Opti-NN-Optimise with K-folds - Low dropout on 2 layers\")"
      ],
      "execution_count": 179,
      "outputs": [
        {
          "output_type": "stream",
          "text": [
            "Train on 6250 samples, validate on 3125 samples\n",
            "Epoch 1/5\n",
            "6250/6250 [==============================] - 2s 329us/sample - loss: 0.4964 - acc: 0.7581 - val_loss: 0.4180 - val_acc: 0.8218\n",
            "Epoch 2/5\n",
            "6250/6250 [==============================] - 1s 117us/sample - loss: 0.2990 - acc: 0.8789 - val_loss: 0.4121 - val_acc: 0.8282\n",
            "Epoch 3/5\n",
            "6250/6250 [==============================] - 1s 115us/sample - loss: 0.1995 - acc: 0.9251 - val_loss: 0.4788 - val_acc: 0.8192\n",
            "Epoch 4/5\n",
            "6250/6250 [==============================] - 1s 119us/sample - loss: 0.1124 - acc: 0.9595 - val_loss: 0.5576 - val_acc: 0.8157\n",
            "Epoch 5/5\n",
            "6250/6250 [==============================] - 1s 119us/sample - loss: 0.0495 - acc: 0.9866 - val_loss: 0.6750 - val_acc: 0.8214\n",
            "Train on 6250 samples, validate on 3125 samples\n",
            "Epoch 1/5\n",
            "6250/6250 [==============================] - 2s 336us/sample - loss: 0.5030 - acc: 0.7589 - val_loss: 0.3938 - val_acc: 0.8397\n",
            "Epoch 2/5\n",
            "6250/6250 [==============================] - 1s 118us/sample - loss: 0.3052 - acc: 0.8741 - val_loss: 0.4129 - val_acc: 0.8256\n",
            "Epoch 3/5\n",
            "6250/6250 [==============================] - 1s 116us/sample - loss: 0.2024 - acc: 0.9229 - val_loss: 0.4291 - val_acc: 0.8336\n",
            "Epoch 4/5\n",
            "6250/6250 [==============================] - 1s 114us/sample - loss: 0.1058 - acc: 0.9653 - val_loss: 0.5315 - val_acc: 0.8317\n",
            "Epoch 5/5\n",
            "6250/6250 [==============================] - 1s 119us/sample - loss: 0.0441 - acc: 0.9882 - val_loss: 0.6805 - val_acc: 0.8262\n",
            "Train on 6250 samples, validate on 3125 samples\n",
            "Epoch 1/5\n",
            "6250/6250 [==============================] - 2s 341us/sample - loss: 0.4991 - acc: 0.7640 - val_loss: 0.3856 - val_acc: 0.8349\n",
            "Epoch 2/5\n",
            "6250/6250 [==============================] - 1s 116us/sample - loss: 0.3133 - acc: 0.8714 - val_loss: 0.3870 - val_acc: 0.8346\n",
            "Epoch 3/5\n",
            "6250/6250 [==============================] - 1s 120us/sample - loss: 0.2095 - acc: 0.9206 - val_loss: 0.4264 - val_acc: 0.8310\n",
            "Epoch 4/5\n",
            "6250/6250 [==============================] - 1s 116us/sample - loss: 0.1167 - acc: 0.9627 - val_loss: 0.5312 - val_acc: 0.8237\n",
            "Epoch 5/5\n",
            "6250/6250 [==============================] - 1s 121us/sample - loss: 0.0502 - acc: 0.9851 - val_loss: 0.6546 - val_acc: 0.8250\n",
            "acc        0.986613\n",
            "val_acc    0.824213\n",
            "dtype: float64\n",
            "       acc      loss  val_acc  val_loss  \\\n",
            "0  0.75888  0.502979  0.83968  0.393808   \n",
            "\n",
            "                                               title  sample_size  batch_size  \\\n",
            "0  Opti-NN-Optimise with K-folds - Low dropout on...         9375          64   \n",
            "\n",
            "   train_test_ratio  training_set_size  validation_set_size  vocab_size  \\\n",
            "0          0.333333               6250                 3125        1000   \n",
            "\n",
            "   nb_epochs  \n",
            "0          5  \n"
          ],
          "name": "stdout"
        }
      ]
    },
    {
      "metadata": {
        "id": "YndqkNTkPZxi",
        "colab_type": "text"
      },
      "cell_type": "markdown",
      "source": [
        "### High dropout on 2 layers\n"
      ]
    },
    {
      "metadata": {
        "id": "7vGsFrf35ZKe",
        "colab_type": "code",
        "outputId": "4035416f-79c6-4b48-8a07-8bc6ef1472a6",
        "colab": {
          "base_uri": "https://localhost:8080/",
          "height": 849
        }
      },
      "cell_type": "code",
      "source": [
        "rate=0.4\n",
        "EPOCHS=5\n",
        "results,means=trainModelWithDropoutOn2Layers(epochs_nb=EPOCHS,rate=rate)\n",
        "dropout_means.append([means[\"acc\"],means[\"val_acc\"], rate,1])\n",
        "saveTrainingMetrics(\"Opti-NN-Optimise with K-folds - High dropout on 2 layers\")"
      ],
      "execution_count": 180,
      "outputs": [
        {
          "output_type": "stream",
          "text": [
            "Train on 6250 samples, validate on 3125 samples\n",
            "Epoch 1/5\n",
            "6250/6250 [==============================] - 2s 344us/sample - loss: 0.5342 - acc: 0.7275 - val_loss: 0.4105 - val_acc: 0.8259\n",
            "Epoch 2/5\n",
            "6250/6250 [==============================] - 1s 120us/sample - loss: 0.3497 - acc: 0.8603 - val_loss: 0.4044 - val_acc: 0.8237\n",
            "Epoch 3/5\n",
            "6250/6250 [==============================] - 1s 122us/sample - loss: 0.2640 - acc: 0.8901 - val_loss: 0.4331 - val_acc: 0.8218\n",
            "Epoch 4/5\n",
            "6250/6250 [==============================] - 1s 120us/sample - loss: 0.1929 - acc: 0.9243 - val_loss: 0.4897 - val_acc: 0.8208\n",
            "Epoch 5/5\n",
            "6250/6250 [==============================] - 1s 120us/sample - loss: 0.1250 - acc: 0.9536 - val_loss: 0.5334 - val_acc: 0.8166\n",
            "Train on 6250 samples, validate on 3125 samples\n",
            "Epoch 1/5\n",
            "6250/6250 [==============================] - 2s 350us/sample - loss: 0.5480 - acc: 0.7168 - val_loss: 0.4054 - val_acc: 0.8269\n",
            "Epoch 2/5\n",
            "6250/6250 [==============================] - 1s 116us/sample - loss: 0.3550 - acc: 0.8518 - val_loss: 0.3917 - val_acc: 0.8304\n",
            "Epoch 3/5\n",
            "6250/6250 [==============================] - 1s 121us/sample - loss: 0.2680 - acc: 0.8936 - val_loss: 0.4048 - val_acc: 0.8381\n",
            "Epoch 4/5\n",
            "6250/6250 [==============================] - 1s 121us/sample - loss: 0.1902 - acc: 0.9227 - val_loss: 0.4538 - val_acc: 0.8349\n",
            "Epoch 5/5\n",
            "6250/6250 [==============================] - 1s 118us/sample - loss: 0.1253 - acc: 0.9573 - val_loss: 0.5107 - val_acc: 0.8339\n",
            "Train on 6250 samples, validate on 3125 samples\n",
            "Epoch 1/5\n",
            "6250/6250 [==============================] - 2s 357us/sample - loss: 0.5398 - acc: 0.7320 - val_loss: 0.3965 - val_acc: 0.8262\n",
            "Epoch 2/5\n",
            "6250/6250 [==============================] - 1s 118us/sample - loss: 0.3548 - acc: 0.8573 - val_loss: 0.3874 - val_acc: 0.8314\n",
            "Epoch 3/5\n",
            "6250/6250 [==============================] - 1s 119us/sample - loss: 0.2735 - acc: 0.8896 - val_loss: 0.4009 - val_acc: 0.8320\n",
            "Epoch 4/5\n",
            "6250/6250 [==============================] - 1s 119us/sample - loss: 0.1955 - acc: 0.9261 - val_loss: 0.4358 - val_acc: 0.8355\n",
            "Epoch 5/5\n",
            "6250/6250 [==============================] - 1s 121us/sample - loss: 0.1306 - acc: 0.9525 - val_loss: 0.5097 - val_acc: 0.8307\n",
            "acc        0.954453\n",
            "val_acc    0.827093\n",
            "dtype: float64\n",
            "      acc      loss  val_acc  val_loss  \\\n",
            "0  0.8936  0.268026  0.83808  0.404849   \n",
            "\n",
            "                                               title  sample_size  batch_size  \\\n",
            "0  Opti-NN-Optimise with K-folds - High dropout o...         9375          64   \n",
            "\n",
            "   train_test_ratio  training_set_size  validation_set_size  vocab_size  \\\n",
            "0          0.333333               6250                 3125        1000   \n",
            "\n",
            "   nb_epochs  \n",
            "0          5  \n"
          ],
          "name": "stdout"
        }
      ]
    },
    {
      "metadata": {
        "colab_type": "text",
        "id": "gz8yOkHOzD0k"
      },
      "cell_type": "markdown",
      "source": [
        "Plot results"
      ]
    },
    {
      "metadata": {
        "colab_type": "code",
        "id": "kWtdXNAAvW_c",
        "outputId": "f8b24ef5-56bb-401d-f898-359105687168",
        "colab": {
          "base_uri": "https://localhost:8080/",
          "height": 405
        }
      },
      "cell_type": "code",
      "source": [
        "df = pd.DataFrame(data=dropout_means,columns=['acc','val_acc','rate','nb_layers'])\n",
        "plt.rcParams[\"figure.figsize\"] = [17,2]\n",
        "plot=df[[\"acc\",\"val_acc\"]].plot()\n",
        "plot.set_ylim([0.7,1])\n",
        "plot.grid()\n",
        "\n",
        "plt.rcParams[\"figure.figsize\"] = [17,1.5]\n",
        "plot=df[[\"rate\"]].plot()\n",
        "plot.set_ylim([0,0.5])\n",
        "plot.grid()\n",
        "\n",
        "plt.rcParams[\"figure.figsize\"] = [17,1.5]\n",
        "plot=df[[\"nb_layers\"]].plot()\n",
        "plot.set_ylim([0,2.2])\n",
        "plot.grid()"
      ],
      "execution_count": 181,
      "outputs": [
        {
          "output_type": "display_data",
          "data": {
            "image/png": "[encoded data removed]",
            "text/plain": [
              "<Figure size 1224x144 with 1 Axes>"
            ]
          },
          "metadata": {
            "tags": []
          }
        },
        {
          "output_type": "display_data",
          "data": {
            "image/png": "[encoded data removed]",
            "text/plain": [
              "<Figure size 1224x108 with 1 Axes>"
            ]
          },
          "metadata": {
            "tags": []
          }
        },
        {
          "output_type": "display_data",
          "data": {
            "image/png": "[encoded data removed]",
            "text/plain": [
              "<Figure size 1224x108 with 1 Axes>"
            ]
          },
          "metadata": {
            "tags": []
          }
        }
      ]
    },
    {
      "metadata": {
        "colab_type": "code",
        "id": "46vBFEGrzpgG",
        "outputId": "a5e8c578-6f27-4454-8b93-80f8742d74a8",
        "colab": {
          "base_uri": "https://localhost:8080/",
          "height": 104
        }
      },
      "cell_type": "code",
      "source": [
        "dropout_means"
      ],
      "execution_count": 182,
      "outputs": [
        {
          "output_type": "execute_result",
          "data": {
            "text/plain": [
              "[[0.9986666639645895, 0.8234666585922241, 0.0, 0],\n",
              " [0.9908799727757772, 0.8240000009536743, 0.2, 1],\n",
              " [0.9686400095621744, 0.8246399958928426, 0.4, 1],\n",
              " [0.9866133332252502, 0.8242133259773254, 0.2, 1],\n",
              " [0.9544533292452494, 0.8270933429400126, 0.4, 1]]"
            ]
          },
          "metadata": {
            "tags": []
          },
          "execution_count": 182
        }
      ]
    },
    {
      "metadata": {
        "id": "UKxdXoGZPZxx",
        "colab_type": "text"
      },
      "cell_type": "markdown",
      "source": [
        "### Observation<a class=\"anchor\" id=\"opti_d_o\"></a>\n",
        "we have similar results, but got a higher test accuracy with low dropout on all layers and also less overfit (training and test accuracies are closer)"
      ]
    }
  ]
}