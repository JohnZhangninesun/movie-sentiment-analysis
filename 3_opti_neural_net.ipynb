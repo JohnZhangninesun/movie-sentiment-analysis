{
 "cells": [
  {
   "cell_type": "markdown",
   "metadata": {
    "colab_type": "text",
    "id": "lMofUnI1i05g"
   },
   "source": [
    "Sentiment analysis of movie (IMDB) reviews using dataset provided by the ACL 2011 paper, \n",
    "see http://ai.stanford.edu/~amaas/data/sentiment/\n",
    "This notebook uses neural net models\n",
    "\n",
    "The plan is to compare a variety of hyperparameters, vectorization techniques, neural net based models:\n",
    "* dense neural network with bag of words\n",
    "* dense neural network with fixed size input and words mapped to integers\n",
    "* LSTM\n",
    "* CNN\n"
   ]
  },
  {
   "cell_type": "markdown",
   "metadata": {
    "colab_type": "text",
    "id": "L-FXDJ17i05n"
   },
   "source": [
    "### Table of Contents<a class=\"anchor\" id=\"table\"></a>\n",
    "* [Load data](#load)\n",
    "* [Train different architectures](#train)\n",
    "    * [Train NN 50 - 10 - 1](#train1)\n",
    "    * [Train NN 256 - 128 - 1](#train2)\n",
    "    * [Train NN with K-Fold cross validation](#kfold)\n",
    "    * [Train RNN](#rnn)\n",
    "* [Optimize](#opti)\n",
    "    * [Optimize on dropouts](#opti_d)\n",
    "        * no dropout\n",
    "        * low dropout on 1 layer\n",
    "        * high dropout on 1 layer\n",
    "        * low dropout on 2 layers\n",
    "        * high dropout on 2 layers\n",
    "        * [Observation](#opti_d_o)"
   ]
  },
  {
   "cell_type": "code",
   "execution_count": 2,
   "metadata": {
    "colab": {
     "base_uri": "https://localhost:8080/",
     "height": 34
    },
    "colab_type": "code",
    "id": "hFAxjxjImFl2",
    "outputId": "4b397b76-1a96-42f0-a875-03e626135057"
   },
   "outputs": [
    {
     "name": "stdout",
     "output_type": "stream",
     "text": [
      "Collecting wget\n",
      "Installing collected packages: wget\n",
      "Successfully installed wget-3.2\n"
     ]
    }
   ],
   "source": [
    "!pip install wget"
   ]
  },
  {
   "cell_type": "code",
   "execution_count": 3,
   "metadata": {
    "colab": {
     "base_uri": "https://localhost:8080/",
     "height": 51
    },
    "colab_type": "code",
    "id": "eqIsNp2Yi05v",
    "outputId": "8b80cba9-3a53-491e-bd9e-ddafae6a4542"
   },
   "outputs": [
    {
     "name": "stdout",
     "output_type": "stream",
     "text": [
      "[nltk_data] Downloading package punkt to /home/jeremie/nltk_data...\n",
      "[nltk_data]   Package punkt is already up-to-date!\n"
     ]
    }
   ],
   "source": [
    "import numpy as np\n",
    "import os\n",
    "import os.path\n",
    "import glob\n",
    "import time\n",
    "\n",
    "import pandas as pd\n",
    "import matplotlib as plt\n",
    "\n",
    "from nltk.tokenize import word_tokenize\n",
    "from nltk.stem.porter import PorterStemmer\n",
    "from nltk.corpus import stopwords\n",
    "import nltk\n",
    "import tensorflow as tf\n",
    "import tensorflow.keras as keras\n",
    "from tensorflow.keras import layers\n",
    "from tensorflow.keras import models\n",
    "nltk.download('punkt')\n",
    "import nltk\n",
    "from sklearn.model_selection import train_test_split"
   ]
  },
  {
   "cell_type": "code",
   "execution_count": 4,
   "metadata": {
    "colab": {},
    "colab_type": "code",
    "id": "tafRpfeyi06R"
   },
   "outputs": [],
   "source": [
    "from sklearn.model_selection import KFold"
   ]
  },
  {
   "cell_type": "code",
   "execution_count": 5,
   "metadata": {
    "colab": {
     "base_uri": "https://localhost:8080/",
     "height": 34
    },
    "colab_type": "code",
    "id": "x_LeQpbQi06j",
    "outputId": "4b1dcfaa-99bf-4c82-e6eb-ddadf2bb7036"
   },
   "outputs": [
    {
     "name": "stdout",
     "output_type": "stream",
     "text": [
      "Dataset directory exists, taking no action\n"
     ]
    }
   ],
   "source": [
    "import wget\n",
    "import tarfile\n",
    "\n",
    "# By checking if the directory exists first, we allow people to delete the tarfile without the notebook re-downloading it\n",
    "if os.path.isdir('aclImdb'):\n",
    "    print(\"Dataset directory exists, taking no action\")\n",
    "else:    \n",
    "    if not os.path.isfile('aclImdb_v1.tar.gz'):\n",
    "        print(\"Downloading dataset\")\n",
    "        #!wget http://ai.stanford.edu/~amaas/data/sentiment/aclImdb_v1.tar.gz\n",
    "        wget.download('http://ai.stanford.edu/~amaas/data/sentiment/aclImdb_v1.tar.gz')\n",
    "    else:\n",
    "        print(\"Dataset already downloaded\")\n",
    "    \n",
    "    print(\"Unpacking dataset\")\n",
    "    #!tar -xf aclImdb_v1.tar.gz \n",
    "    tar = tarfile.open(\"aclImdb_v1.tar.gz\")\n",
    "    tar.extractall()\n",
    "    tar.close()\n",
    "    print(\"Dataset unpacked in aclImdb\")"
   ]
  },
  {
   "cell_type": "code",
   "execution_count": 6,
   "metadata": {
    "colab": {},
    "colab_type": "code",
    "id": "PQAl9GvRi067"
   },
   "outputs": [],
   "source": [
    "# configuration\n",
    "SAMPLE_SIZE=1000"
   ]
  },
  {
   "cell_type": "markdown",
   "metadata": {
    "colab_type": "text",
    "id": "vMYBkcdIB9uc"
   },
   "source": [
    "<a href='#table'>Back</a>\n",
    "# Load data<a class=\"anchor\" id=\"load\"></a>"
   ]
  },
  {
   "cell_type": "markdown",
   "metadata": {},
   "source": [
    "## Create a dense vector from reviews "
   ]
  },
  {
   "cell_type": "code",
   "execution_count": 7,
   "metadata": {
    "colab": {},
    "colab_type": "code",
    "id": "bcTVSZK-i07N"
   },
   "outputs": [],
   "source": [
    "time_beginning_of_notebook = time.time()\n",
    "positive_file_list = glob.glob(os.path.join('aclImdb/train/pos', \"*.txt\"))\n",
    "positive_sample_file_list = positive_file_list[:SAMPLE_SIZE]\n",
    "\n",
    "negative_file_list = glob.glob(os.path.join('aclImdb/train/neg', \"*.txt\"))\n",
    "negative_sample_file_list = negative_file_list[:SAMPLE_SIZE]\n",
    "\n",
    "import re\n",
    "\n",
    "# load doc into memory\n",
    "# regex to clean markup elements \n",
    "def load_doc(filename):\n",
    "    # open the file as read only\n",
    "    file = open(filename, 'r', encoding='utf8')\n",
    "    # read all text\n",
    "    text = re.sub('<[^>]*>', ' ', file.read())\n",
    "    #text = file.read()\n",
    "    # close the file\n",
    "    file.close()\n",
    "    return text"
   ]
  },
  {
   "cell_type": "code",
   "execution_count": 8,
   "metadata": {
    "colab": {},
    "colab_type": "code",
    "id": "dcjl_fogi07W"
   },
   "outputs": [],
   "source": [
    "positive_strings = [load_doc(x) for x in positive_sample_file_list]\n",
    "negative_strings = [load_doc(x) for x in negative_sample_file_list]\n",
    "\n",
    "positive_tokenized = [word_tokenize(s) for s in positive_strings]\n",
    "negative_tokenized = [word_tokenize(s) for s in negative_strings]"
   ]
  },
  {
   "cell_type": "code",
   "execution_count": 9,
   "metadata": {
    "colab": {},
    "colab_type": "code",
    "id": "DrxFWNmFi07d"
   },
   "outputs": [],
   "source": [
    "from collections import Counter\n",
    "import numpy as np"
   ]
  },
  {
   "cell_type": "code",
   "execution_count": 10,
   "metadata": {
    "colab": {},
    "colab_type": "code",
    "id": "TdNEv_DKi07l"
   },
   "outputs": [],
   "source": [
    "total_counts = Counter()\n",
    "all_reviews = positive_tokenized + negative_tokenized\n",
    "for r in all_reviews:\n",
    "    for word in r:\n",
    "        total_counts[word] += 1"
   ]
  },
  {
   "cell_type": "code",
   "execution_count": 11,
   "metadata": {
    "colab": {},
    "colab_type": "code",
    "id": "IiMud9kdi07u"
   },
   "outputs": [],
   "source": [
    "vocab = set(total_counts.keys())"
   ]
  },
  {
   "cell_type": "code",
   "execution_count": 12,
   "metadata": {
    "colab": {
     "base_uri": "https://localhost:8080/",
     "height": 34
    },
    "colab_type": "code",
    "id": "-WKETgG_i070",
    "outputId": "518d6b56-0884-493e-c7b5-aafd8ad5e621"
   },
   "outputs": [
    {
     "name": "stdout",
     "output_type": "stream",
     "text": [
      "32832\n"
     ]
    }
   ],
   "source": [
    "vocab_size = len(vocab)\n",
    "print(vocab_size)"
   ]
  },
  {
   "cell_type": "code",
   "execution_count": 13,
   "metadata": {
    "colab": {},
    "colab_type": "code",
    "id": "I8DCTKf7i078"
   },
   "outputs": [],
   "source": [
    "# Create a dictionary of words in the vocabulary mapped to index positions\n",
    "# (to be used in layer_0)\n",
    "word2index = {}\n",
    "for i,word in enumerate(vocab):\n",
    "    word2index[word] = i"
   ]
  },
  {
   "cell_type": "code",
   "execution_count": 14,
   "metadata": {
    "colab": {
     "base_uri": "https://localhost:8080/",
     "height": 34
    },
    "colab_type": "code",
    "id": "1y_wEoNPi08E",
    "outputId": "2754d5c9-a9cf-48f6-9310-ae6dbeaa1f6d"
   },
   "outputs": [
    {
     "name": "stdout",
     "output_type": "stream",
     "text": [
      "ID of 'movie' = 18418\n"
     ]
    }
   ],
   "source": [
    "print(\"ID of 'movie' = {}\".format(word2index['movie']))"
   ]
  },
  {
   "cell_type": "code",
   "execution_count": 15,
   "metadata": {
    "colab": {},
    "colab_type": "code",
    "id": "Rnt7_kXii08M"
   },
   "outputs": [],
   "source": [
    "def convert_to_bag(review):\n",
    "    bag = np.zeros(vocab_size)\n",
    "    for word in review:\n",
    "        i = word2index[word]\n",
    "        bag[i]+=1\n",
    "    return bag"
   ]
  },
  {
   "cell_type": "code",
   "execution_count": 16,
   "metadata": {
    "colab": {},
    "colab_type": "code",
    "id": "BLn_ywWwi08S"
   },
   "outputs": [],
   "source": [
    "test_bag = convert_to_bag(all_reviews[0])\n"
   ]
  },
  {
   "cell_type": "code",
   "execution_count": 17,
   "metadata": {
    "colab": {},
    "colab_type": "code",
    "id": "BWXsLsrTi08X"
   },
   "outputs": [],
   "source": [
    "all_reviews_encoded = [convert_to_bag(x) for x in all_reviews]"
   ]
  },
  {
   "cell_type": "code",
   "execution_count": 18,
   "metadata": {
    "colab": {
     "base_uri": "https://localhost:8080/",
     "height": 34
    },
    "colab_type": "code",
    "id": "hlrsPRWWi08f",
    "outputId": "b71f0004-a4b6-4008-b62f-0632c1941176"
   },
   "outputs": [
    {
     "data": {
      "text/plain": [
       "(32832,)"
      ]
     },
     "execution_count": 18,
     "metadata": {},
     "output_type": "execute_result"
    }
   ],
   "source": [
    "all_reviews_encoded[0].shape"
   ]
  },
  {
   "cell_type": "code",
   "execution_count": 19,
   "metadata": {
    "colab": {},
    "colab_type": "code",
    "id": "hbGb8T-Ei08n"
   },
   "outputs": [],
   "source": [
    "#all_reviews_trunc = np.trunc()"
   ]
  },
  {
   "cell_type": "code",
   "execution_count": 20,
   "metadata": {
    "colab": {
     "base_uri": "https://localhost:8080/",
     "height": 54
    },
    "colab_type": "code",
    "id": "1t-_7UmVi08s",
    "outputId": "f98ff701-a56b-44b1-e802-c58fd0bc5e5e"
   },
   "outputs": [],
   "source": [
    "# display the map of words to indices\n",
    "# print(\"word indexes = {}\".format(word2index))"
   ]
  },
  {
   "cell_type": "code",
   "execution_count": 21,
   "metadata": {
    "colab": {},
    "colab_type": "code",
    "id": "ZPEW66FQi08z"
   },
   "outputs": [],
   "source": [
    "import random\n",
    "\n",
    "positive_labels = []\n",
    "for i in range(len(positive_tokenized)):\n",
    "    positive_labels.append('POSITIVE')\n",
    "negative_labels = []\n",
    "for i in range(len(negative_tokenized)):\n",
    "    negative_labels.append('NEGATIVE')\n",
    "   "
   ]
  },
  {
   "cell_type": "code",
   "execution_count": 22,
   "metadata": {
    "colab": {},
    "colab_type": "code",
    "id": "w__rOGc7i085"
   },
   "outputs": [],
   "source": [
    "labels = positive_labels + negative_labels\n",
    "\n",
    "num_lables = []\n",
    "\n",
    "for val in labels:\n",
    "    if val == 'POSITIVE':\n",
    "       num_lables.append(1)\n",
    "    else:\n",
    "       num_lables.append(0) \n",
    "    "
   ]
  },
  {
   "cell_type": "code",
   "execution_count": 23,
   "metadata": {
    "colab": {},
    "colab_type": "code",
    "id": "V75H_F9Gi08-"
   },
   "outputs": [],
   "source": [
    "reviews_and_labels = list(zip(all_reviews_encoded, num_lables))\n",
    "random.shuffle(reviews_and_labels)\n",
    "reviews, labels = zip(*reviews_and_labels)"
   ]
  },
  {
   "cell_type": "code",
   "execution_count": 24,
   "metadata": {
    "colab": {},
    "colab_type": "code",
    "id": "HFOEHypri09D"
   },
   "outputs": [],
   "source": [
    "labels = np.array(labels)"
   ]
  },
  {
   "cell_type": "code",
   "execution_count": null,
   "metadata": {},
   "outputs": [],
   "source": []
  },
  {
   "cell_type": "markdown",
   "metadata": {},
   "source": [
    "## Create a sparse matrix from reviews (where we keep the order of the words)"
   ]
  },
  {
   "cell_type": "code",
   "execution_count": 39,
   "metadata": {},
   "outputs": [
    {
     "data": {
      "text/plain": [
       "'I thought I should qualify my position after reading other reviews. The movie is not great, but it has a lot of great elements. The lighting and scenes along with the camera work are great. The story is slow and weak, but entertaining. The acting is bad, but no worse than you will find on the SyFy Channel. The music is pretty good and the gore is good. It has the great Leather Face in the film and is produced by Bruce Campbell. I watched the complete movie and while mostly predictable, it was still enjoyable. The women are attractive enough and the lead actor does a good job of being brooding and creepy. The movie was remarkably clean for a modern film and the violence appropriate for children 13 and up. There was no sex scenes. I gave it 7 out of 10 and I think that is fair. I would watch it again if I had nothing better to do. The gay sounding angel was the most annoying aspect of the film, the devil is quite creepy.'"
      ]
     },
     "execution_count": 39,
     "metadata": {},
     "output_type": "execute_result"
    }
   ],
   "source": [
    "positive_strings[0]"
   ]
  },
  {
   "cell_type": "code",
   "execution_count": 43,
   "metadata": {},
   "outputs": [],
   "source": [
    "reviews=[]\n",
    "for sentence in positive_strings:\n",
    "    reviews.append([sentence,1])\n",
    "for sentence in negative_strings:\n",
    "    reviews.append([sentence,0])\n",
    "random.shuffle(reviews)\n"
   ]
  },
  {
   "cell_type": "code",
   "execution_count": 45,
   "metadata": {},
   "outputs": [],
   "source": [
    "tokenizer = keras.preprocessing.text.Tokenizer(num_words=None, filters='!\"#$%&()*+,-./:;<=>?@[\\]^_`{|}~',\\\n",
    "                                   lower=True, split=' ', char_level=False, oov_token=None, document_count=0)\n"
   ]
  },
  {
   "cell_type": "code",
   "execution_count": 46,
   "metadata": {},
   "outputs": [
    {
     "data": {
      "text/plain": [
       "2000"
      ]
     },
     "execution_count": 46,
     "metadata": {},
     "output_type": "execute_result"
    }
   ],
   "source": [
    "len(reviews)"
   ]
  },
  {
   "cell_type": "code",
   "execution_count": null,
   "metadata": {},
   "outputs": [],
   "source": []
  },
  {
   "cell_type": "markdown",
   "metadata": {},
   "source": [
    "<a href='#table'>Back</a>\n",
    "# Train models<a class=\"anchor\" id=\"train\"></a>\n",
    "## Train NN 50 - 10 - 1 <a class=\"anchor\" id=\"train1\"></a>\n"
   ]
  },
  {
   "cell_type": "code",
   "execution_count": 25,
   "metadata": {
    "colab": {},
    "colab_type": "code",
    "id": "RsW4fg5wi09R"
   },
   "outputs": [],
   "source": [
    "X_train, X_test, y_train, y_test = train_test_split(np.array(reviews), np.array(labels), test_size=0.25)"
   ]
  },
  {
   "cell_type": "code",
   "execution_count": 26,
   "metadata": {
    "colab": {
     "base_uri": "https://localhost:8080/",
     "height": 238
    },
    "colab_type": "code",
    "id": "94uBoS1xi09X",
    "outputId": "9da410a7-f695-45b2-da68-d6fa1e9224ac"
   },
   "outputs": [
    {
     "name": "stdout",
     "output_type": "stream",
     "text": [
      "_________________________________________________________________\n",
      "Layer (type)                 Output Shape              Param #   \n",
      "=================================================================\n",
      "dense (Dense)                (None, 50)                1641650   \n",
      "_________________________________________________________________\n",
      "dense_1 (Dense)              (None, 10)                510       \n",
      "_________________________________________________________________\n",
      "dense_2 (Dense)              (None, 1)                 11        \n",
      "=================================================================\n",
      "Total params: 1,642,171\n",
      "Trainable params: 1,642,171\n",
      "Non-trainable params: 0\n",
      "_________________________________________________________________\n"
     ]
    }
   ],
   "source": [
    "model = keras.Sequential()\n",
    "model.add(layers.Dense(50, activation = \"relu\", input_shape=(vocab_size, )))\n",
    "model.add(layers.Dense(10, activation = \"relu\"))\n",
    "model.add(layers.Dense(1, activation = \"sigmoid\"))\n",
    "model.summary()"
   ]
  },
  {
   "cell_type": "code",
   "execution_count": 27,
   "metadata": {
    "colab": {},
    "colab_type": "code",
    "id": "bJDNCzSui09e"
   },
   "outputs": [],
   "source": [
    "model.compile(\n",
    " optimizer = \"adam\",\n",
    " loss = \"binary_crossentropy\",\n",
    " metrics = [\"accuracy\"]\n",
    ")"
   ]
  },
  {
   "cell_type": "code",
   "execution_count": 28,
   "metadata": {
    "colab": {
     "base_uri": "https://localhost:8080/",
     "height": 204
    },
    "colab_type": "code",
    "id": "YvcEJsRxi09j",
    "outputId": "dedcc712-8fc6-41b2-d2d3-516c5bcc81b7"
   },
   "outputs": [
    {
     "name": "stdout",
     "output_type": "stream",
     "text": [
      "Train on 1500 samples, validate on 500 samples\n",
      "Epoch 1/20\n",
      "1500/1500 [==============================] - 1s 725us/step - loss: 0.6833 - acc: 0.5220 - val_loss: 0.6627 - val_acc: 0.6520\n",
      "Epoch 2/20\n",
      "1500/1500 [==============================] - 1s 469us/step - loss: 0.6049 - acc: 0.8013 - val_loss: 0.6378 - val_acc: 0.6160\n",
      "Epoch 3/20\n",
      "1500/1500 [==============================] - 1s 470us/step - loss: 0.5328 - acc: 0.7660 - val_loss: 0.5959 - val_acc: 0.7200\n",
      "Epoch 4/20\n",
      "1500/1500 [==============================] - 1s 470us/step - loss: 0.4631 - acc: 0.9427 - val_loss: 0.5828 - val_acc: 0.6880\n",
      "Epoch 5/20\n",
      "1500/1500 [==============================] - 1s 469us/step - loss: 0.4014 - acc: 0.9347 - val_loss: 0.5602 - val_acc: 0.7100\n",
      "Epoch 6/20\n",
      "1500/1500 [==============================] - 1s 472us/step - loss: 0.3535 - acc: 0.9760 - val_loss: 0.5581 - val_acc: 0.7120\n",
      "Epoch 7/20\n",
      "1500/1500 [==============================] - 1s 472us/step - loss: 0.3123 - acc: 0.9853 - val_loss: 0.5405 - val_acc: 0.7280\n",
      "Epoch 8/20\n",
      "1500/1500 [==============================] - 1s 471us/step - loss: 0.2763 - acc: 0.9947 - val_loss: 0.5441 - val_acc: 0.7280\n",
      "Epoch 9/20\n",
      "1500/1500 [==============================] - 1s 476us/step - loss: 0.2450 - acc: 0.9953 - val_loss: 0.5504 - val_acc: 0.7320\n",
      "Epoch 10/20\n",
      "1500/1500 [==============================] - 1s 470us/step - loss: 0.2164 - acc: 0.9980 - val_loss: 0.5416 - val_acc: 0.7400\n",
      "Epoch 11/20\n",
      "1500/1500 [==============================] - 1s 473us/step - loss: 0.1905 - acc: 0.9993 - val_loss: 0.5321 - val_acc: 0.7480\n",
      "Epoch 12/20\n",
      "1500/1500 [==============================] - 1s 472us/step - loss: 0.1671 - acc: 0.9993 - val_loss: 0.5319 - val_acc: 0.7480\n",
      "Epoch 13/20\n",
      "1500/1500 [==============================] - 1s 471us/step - loss: 0.1458 - acc: 0.9993 - val_loss: 0.5332 - val_acc: 0.7500\n",
      "Epoch 14/20\n",
      "1500/1500 [==============================] - 1s 472us/step - loss: 0.1269 - acc: 1.0000 - val_loss: 0.5065 - val_acc: 0.7700\n",
      "Epoch 15/20\n",
      "1500/1500 [==============================] - 1s 479us/step - loss: 0.1105 - acc: 1.0000 - val_loss: 0.5176 - val_acc: 0.7680\n",
      "Epoch 16/20\n",
      "1500/1500 [==============================] - 1s 501us/step - loss: 0.0963 - acc: 1.0000 - val_loss: 0.4884 - val_acc: 0.7760\n",
      "Epoch 17/20\n",
      "1500/1500 [==============================] - 1s 512us/step - loss: 0.0840 - acc: 1.0000 - val_loss: 0.4813 - val_acc: 0.7860\n",
      "Epoch 18/20\n",
      "1500/1500 [==============================] - 1s 534us/step - loss: 0.0736 - acc: 1.0000 - val_loss: 0.4667 - val_acc: 0.7900\n",
      "Epoch 19/20\n",
      "1500/1500 [==============================] - 1s 539us/step - loss: 0.0645 - acc: 1.0000 - val_loss: 0.4524 - val_acc: 0.8000\n",
      "Epoch 20/20\n",
      "1500/1500 [==============================] - 1s 529us/step - loss: 0.0568 - acc: 1.0000 - val_loss: 0.4551 - val_acc: 0.8000\n"
     ]
    }
   ],
   "source": [
    "results = model.fit(\n",
    " X_train, y_train,\n",
    " epochs= 20,\n",
    " validation_data=(X_test, y_test),\n",
    "batch_size=500\n",
    ")"
   ]
  },
  {
   "cell_type": "markdown",
   "metadata": {},
   "source": [
    "## Train NN 256 - 128 - 1 <a class=\"anchor\" id=\"train2\"></a>"
   ]
  },
  {
   "cell_type": "code",
   "execution_count": 111,
   "metadata": {
    "colab": {},
    "colab_type": "code",
    "id": "IG7nratoi09w"
   },
   "outputs": [],
   "source": [
    "model = keras.Sequential([\n",
    "    layers.Dense(256, activation = \"relu\", input_shape=(vocab_size, )),\n",
    "    layers.Dense(128, activation = \"relu\"),\n",
    "    layers.Dense(1, activation = \"sigmoid\")\n",
    "])"
   ]
  },
  {
   "cell_type": "code",
   "execution_count": 112,
   "metadata": {
    "colab": {
     "base_uri": "https://localhost:8080/",
     "height": 238
    },
    "colab_type": "code",
    "id": "IOI6rAd_i091",
    "outputId": "a6b9d82f-84a6-48a9-a7a6-aa1a61b1f13d"
   },
   "outputs": [
    {
     "name": "stdout",
     "output_type": "stream",
     "text": [
      "_________________________________________________________________\n",
      "Layer (type)                 Output Shape              Param #   \n",
      "=================================================================\n",
      "dense_63 (Dense)             (None, 256)               8405248   \n",
      "_________________________________________________________________\n",
      "dense_64 (Dense)             (None, 128)               32896     \n",
      "_________________________________________________________________\n",
      "dense_65 (Dense)             (None, 1)                 129       \n",
      "=================================================================\n",
      "Total params: 8,438,273\n",
      "Trainable params: 8,438,273\n",
      "Non-trainable params: 0\n",
      "_________________________________________________________________\n"
     ]
    }
   ],
   "source": [
    "model.summary()"
   ]
  },
  {
   "cell_type": "code",
   "execution_count": 113,
   "metadata": {
    "colab": {},
    "colab_type": "code",
    "id": "tHpN5VM8i097"
   },
   "outputs": [],
   "source": [
    "model.compile(\n",
    " optimizer = \"adam\",\n",
    " loss = \"binary_crossentropy\",\n",
    " metrics = [\"accuracy\"]\n",
    ")"
   ]
  },
  {
   "cell_type": "code",
   "execution_count": 114,
   "metadata": {
    "colab": {
     "base_uri": "https://localhost:8080/",
     "height": 68
    },
    "colab_type": "code",
    "id": "FhcPKZnFi0-D",
    "outputId": "d097a476-93b0-477a-c108-203e8a467ddb"
   },
   "outputs": [
    {
     "name": "stdout",
     "output_type": "stream",
     "text": [
      "Train on 1500 samples, validate on 500 samples\n",
      "Epoch 1/1\n",
      "1500/1500 [==============================] - 4s 3ms/step - loss: 0.6738 - acc: 0.6047 - val_loss: 0.6048 - val_acc: 0.6880\n"
     ]
    }
   ],
   "source": [
    "results = model.fit(\n",
    " X_train, y_train,\n",
    " epochs= 1,\n",
    " validation_data=(X_test, y_test),\n",
    "batch_size=500\n",
    ")"
   ]
  },
  {
   "cell_type": "code",
   "execution_count": 115,
   "metadata": {
    "colab": {
     "base_uri": "https://localhost:8080/",
     "height": 85
    },
    "colab_type": "code",
    "id": "i2T7Tom0i0-O",
    "outputId": "8e4e8522-210e-41c0-dbf3-afc1936e0eb2"
   },
   "outputs": [
    {
     "data": {
      "text/plain": [
       "{'val_loss': [0.6047532558441162],\n",
       " 'val_acc': [0.6880000233650208],\n",
       " 'loss': [0.6737996737162272],\n",
       " 'acc': [0.6046666701634725]}"
      ]
     },
     "execution_count": 115,
     "metadata": {},
     "output_type": "execute_result"
    }
   ],
   "source": [
    "results.history"
   ]
  },
  {
   "cell_type": "markdown",
   "metadata": {},
   "source": [
    "## Train NN with K-Fold cross validation <a class=\"anchor\" id=\"kfold\"></a>"
   ]
  },
  {
   "cell_type": "code",
   "execution_count": 116,
   "metadata": {
    "colab": {},
    "colab_type": "code",
    "id": "_LwIgaq-i0-a"
   },
   "outputs": [],
   "source": [
    "X_train, X_test, y_train, y_test = train_test_split(np.array(reviews), np.array(labels), test_size=0.25)"
   ]
  },
  {
   "cell_type": "code",
   "execution_count": 117,
   "metadata": {
    "colab": {},
    "colab_type": "code",
    "id": "c60zERWRi0-e"
   },
   "outputs": [],
   "source": [
    "kfold = KFold(3, True, 1)"
   ]
  },
  {
   "cell_type": "code",
   "execution_count": 118,
   "metadata": {
    "colab": {},
    "colab_type": "code",
    "id": "OR8fKYxai0-j"
   },
   "outputs": [],
   "source": [
    "train_data = list(zip(X_train, y_train))"
   ]
  },
  {
   "cell_type": "code",
   "execution_count": 119,
   "metadata": {
    "colab": {
     "base_uri": "https://localhost:8080/",
     "height": 34
    },
    "colab_type": "code",
    "id": "pV3wG31Qi0-o",
    "outputId": "ea4f389a-27bf-43f8-c3ac-c99bee868e29"
   },
   "outputs": [
    {
     "data": {
      "text/plain": [
       "(32832,)"
      ]
     },
     "execution_count": 119,
     "metadata": {},
     "output_type": "execute_result"
    }
   ],
   "source": [
    "train_data[0][0].shape"
   ]
  },
  {
   "cell_type": "code",
   "execution_count": 120,
   "metadata": {
    "colab": {
     "base_uri": "https://localhost:8080/",
     "height": 578
    },
    "colab_type": "code",
    "id": "5sw1JTMli0-u",
    "outputId": "bdabe653-4518-4634-f52f-a74d25bcf036"
   },
   "outputs": [
    {
     "name": "stdout",
     "output_type": "stream",
     "text": [
      "Train on 1000 samples, validate on 500 samples\n",
      "Epoch 1/5\n",
      "1000/1000 [==============================] - 5s 5ms/step - loss: 0.7022 - acc: 0.5020 - val_loss: 0.7173 - val_acc: 0.5280\n",
      "Epoch 2/5\n",
      "1000/1000 [==============================] - 1s 1ms/step - loss: 0.6728 - acc: 0.5110 - val_loss: 0.6345 - val_acc: 0.7300\n",
      "Epoch 3/5\n",
      "1000/1000 [==============================] - 1s 1ms/step - loss: 0.5178 - acc: 0.9530 - val_loss: 0.6641 - val_acc: 0.5600\n",
      "Epoch 4/5\n",
      "1000/1000 [==============================] - 1s 1ms/step - loss: 0.4684 - acc: 0.8440 - val_loss: 0.5823 - val_acc: 0.7200\n",
      "Epoch 5/5\n",
      "1000/1000 [==============================] - 1s 1ms/step - loss: 0.3615 - acc: 0.9640 - val_loss: 0.5143 - val_acc: 0.8100\n",
      "Train on 1000 samples, validate on 500 samples\n",
      "Epoch 1/5\n",
      "1000/1000 [==============================] - 5s 5ms/step - loss: 0.6936 - acc: 0.5200 - val_loss: 0.6766 - val_acc: 0.5860\n",
      "Epoch 2/5\n",
      "1000/1000 [==============================] - 1s 1ms/step - loss: 0.5940 - acc: 0.7360 - val_loss: 0.6339 - val_acc: 0.6400\n",
      "Epoch 3/5\n",
      "1000/1000 [==============================] - 1s 1ms/step - loss: 0.4807 - acc: 0.8910 - val_loss: 0.5722 - val_acc: 0.7560\n",
      "Epoch 4/5\n",
      "1000/1000 [==============================] - 1s 966us/step - loss: 0.3567 - acc: 0.9760 - val_loss: 0.5619 - val_acc: 0.7400\n",
      "Epoch 5/5\n",
      "1000/1000 [==============================] - 1s 1ms/step - loss: 0.2680 - acc: 0.9910 - val_loss: 0.4933 - val_acc: 0.7860\n",
      "Train on 1000 samples, validate on 500 samples\n",
      "Epoch 1/5\n",
      "1000/1000 [==============================] - 4s 4ms/step - loss: 0.7026 - acc: 0.4570 - val_loss: 0.6634 - val_acc: 0.6240\n",
      "Epoch 2/5\n",
      "1000/1000 [==============================] - 1s 1ms/step - loss: 0.5934 - acc: 0.8000 - val_loss: 0.6197 - val_acc: 0.6500\n",
      "Epoch 3/5\n",
      "1000/1000 [==============================] - 1s 1ms/step - loss: 0.4839 - acc: 0.8520 - val_loss: 0.5772 - val_acc: 0.7660\n",
      "Epoch 4/5\n",
      "1000/1000 [==============================] - 1s 1ms/step - loss: 0.3672 - acc: 0.9780 - val_loss: 0.5502 - val_acc: 0.7800\n",
      "Epoch 5/5\n",
      "1000/1000 [==============================] - 1s 1ms/step - loss: 0.2832 - acc: 0.9860 - val_loss: 0.4748 - val_acc: 0.8260\n"
     ]
    }
   ],
   "source": [
    "histories=[]\n",
    "for train_indices, test_indices in kfold.split(X_train,y=y_train):\n",
    "    model = keras.Sequential([\n",
    "    layers.Dense(256, activation = \"relu\", input_shape=(vocab_size, )),\n",
    "    layers.Dense(128, activation = \"relu\"),\n",
    "    layers.Dense(1, activation = \"sigmoid\")\n",
    "    ])\n",
    "    model.compile(\n",
    "     optimizer = \"adam\",\n",
    "     loss = \"binary_crossentropy\",\n",
    "     metrics = [\"accuracy\"]\n",
    "    )\n",
    "    K_X_train = X_train[train_indices]\n",
    "    K_y_train = y_train[train_indices]\n",
    "    K_X_test = X_train[test_indices]\n",
    "    K_y_test = y_train[test_indices]\n",
    "    results=model.fit(\n",
    "        K_X_train, K_y_train,\n",
    "        epochs= 5,\n",
    "        validation_data=(K_X_test, K_y_test),\n",
    "        batch_size=1000\n",
    "    )\n",
    "    histories.append(results.history)"
   ]
  },
  {
   "cell_type": "code",
   "execution_count": 121,
   "metadata": {
    "colab": {
     "base_uri": "https://localhost:8080/",
     "height": 368
    },
    "colab_type": "code",
    "id": "s5ouE4n7i0-3",
    "outputId": "b3130c3d-eb48-4626-e21d-4c3ea7041bb2"
   },
   "outputs": [
    {
     "name": "stdout",
     "output_type": "stream",
     "text": [
      "mean acc: 0.9803333282470703, mean val_acc: 0.8073333303133646\n"
     ]
    },
    {
     "data": {
      "image/png": "[encoded data removed]",
      "text/plain": [
       "<Figure size 1224x108 with 1 Axes>"
      ]
     },
     "metadata": {
      "needs_background": "light"
     },
     "output_type": "display_data"
    }
   ],
   "source": [
    "\n",
    "df = pd.DataFrame(data=histories)\n",
    "for col in df.columns:\n",
    "    df[col] =  df[col].apply(lambda x: x[-1])\n",
    "plot=df[[\"acc\",\"val_acc\"]].plot()\n",
    "plot.set_ylim([0,1])\n",
    "\n",
    "means=df[[\"acc\",\"val_acc\"]].mean()\n",
    "print(\"mean acc: {}, mean val_acc: {}\".format(means[\"acc\"],means[\"val_acc\"]))\n"
   ]
  },
  {
   "cell_type": "markdown",
   "metadata": {},
   "source": [
    "## Train RNN <a class=\"anchor\" id=\"rnn\"></a>"
   ]
  },
  {
   "cell_type": "code",
   "execution_count": 29,
   "metadata": {},
   "outputs": [
    {
     "data": {
      "text/plain": [
       "array([[0., 0., 0., ..., 0., 0., 0.],\n",
       "       [0., 0., 0., ..., 0., 0., 0.],\n",
       "       [0., 0., 0., ..., 0., 0., 0.],\n",
       "       ...,\n",
       "       [0., 0., 0., ..., 0., 0., 0.],\n",
       "       [0., 0., 0., ..., 0., 0., 0.],\n",
       "       [0., 0., 0., ..., 0., 0., 0.]])"
      ]
     },
     "execution_count": 29,
     "metadata": {},
     "output_type": "execute_result"
    }
   ],
   "source": [
    "X_train"
   ]
  },
  {
   "cell_type": "code",
   "execution_count": null,
   "metadata": {},
   "outputs": [],
   "source": []
  },
  {
   "cell_type": "markdown",
   "metadata": {},
   "source": [
    "<a href='#table'>Back</a>\n",
    "# OPTIMIZE<a class=\"anchor\" id=\"opti\"></a>"
   ]
  },
  {
   "cell_type": "markdown",
   "metadata": {},
   "source": [
    "## Optimize on dropout<a class=\"anchor\" id=\"opti_d\"></a>"
   ]
  },
  {
   "cell_type": "code",
   "execution_count": null,
   "metadata": {
    "colab": {},
    "colab_type": "code",
    "id": "PEMT1mvwEUXq"
   },
   "outputs": [],
   "source": []
  },
  {
   "cell_type": "code",
   "execution_count": 122,
   "metadata": {
    "colab": {},
    "colab_type": "code",
    "id": "Wn6ISenGq7Aa"
   },
   "outputs": [],
   "source": [
    "X_train, X_test, y_train, y_test = train_test_split(np.array(reviews), np.array(labels), test_size=0.25)"
   ]
  },
  {
   "cell_type": "code",
   "execution_count": 123,
   "metadata": {
    "colab": {},
    "colab_type": "code",
    "id": "nzc1nQ7wq7Am"
   },
   "outputs": [],
   "source": [
    "kfold = KFold(3, True, 1)"
   ]
  },
  {
   "cell_type": "code",
   "execution_count": 124,
   "metadata": {
    "colab": {},
    "colab_type": "code",
    "id": "V2iZzqKVq7Ax"
   },
   "outputs": [],
   "source": [
    "train_data = list(zip(X_train, y_train))"
   ]
  },
  {
   "cell_type": "code",
   "execution_count": 125,
   "metadata": {
    "colab": {
     "base_uri": "https://localhost:8080/",
     "height": 34
    },
    "colab_type": "code",
    "id": "tRc7u0amq7A-",
    "outputId": "75b4259b-9958-4510-ddc0-67d1011deccf"
   },
   "outputs": [],
   "source": [
    "# train_data[0][0].shape"
   ]
  },
  {
   "cell_type": "code",
   "execution_count": 126,
   "metadata": {
    "colab": {},
    "colab_type": "code",
    "id": "8VNkRI_f36lv"
   },
   "outputs": [],
   "source": [
    "from pdb import set_trace\n",
    "\n",
    "def getMeansFromResultsHistory(histories):\n",
    "  df = pd.DataFrame(data=histories)\n",
    "  for col in df.columns:\n",
    "      df[col] =  df[col].apply(lambda x: x[-1])\n",
    "  means=df[[\"acc\",\"val_acc\"]].mean()\n",
    "  return means\n",
    "\n",
    "def trainModelWithDropoutOn1Layer(epochs_nb=5,rate=0.0):\n",
    "  histories=[]\n",
    "  for train_indices, test_indices in kfold.split(X_train,y=y_train):\n",
    "      model = keras.Sequential([\n",
    "      layers.Dense(256, activation = \"relu\", input_shape=(vocab_size, )),\n",
    "      layers.Dropout(rate),\n",
    "      layers.Dense(128, activation = \"relu\"),\n",
    "      layers.Dense(1, activation = \"sigmoid\")\n",
    "      ])\n",
    "      model.compile(\n",
    "       optimizer = \"adam\",\n",
    "       loss = \"binary_crossentropy\",\n",
    "       metrics = [\"accuracy\"]\n",
    "      )\n",
    "      K_X_train = X_train[train_indices]\n",
    "      K_y_train = y_train[train_indices]\n",
    "      K_X_test = X_train[test_indices]\n",
    "      K_y_test = y_train[test_indices]\n",
    "      results=model.fit(\n",
    "          K_X_train, K_y_train,\n",
    "          epochs= epochs_nb,\n",
    "          validation_data=(K_X_test, K_y_test),\n",
    "          batch_size=1000\n",
    "      )\n",
    "      histories.append(results.history)\n",
    "#       set_trace()\n",
    "  \n",
    "  means= getMeansFromResultsHistory(histories)\n",
    "  print(means) \n",
    "  return means\n",
    "\n",
    "\n",
    "def trainModelWithDropoutOn2Layers(epochs_nb=5,rate=0.0):\n",
    "  histories=[]\n",
    "  for train_indices, test_indices in kfold.split(X_train,y=y_train):\n",
    "      model = keras.Sequential([\n",
    "      layers.Dense(256, activation = \"relu\", input_shape=(vocab_size, )),\n",
    "      layers.Dropout(rate),\n",
    "      layers.Dense(128, activation = \"relu\"),\n",
    "      layers.Dropout(rate),\n",
    "      layers.Dense(1, activation = \"sigmoid\")\n",
    "      ])\n",
    "      model.compile(\n",
    "       optimizer = \"adam\",\n",
    "       loss = \"binary_crossentropy\",\n",
    "       metrics = [\"accuracy\"]\n",
    "      )\n",
    "      K_X_train = X_train[train_indices]\n",
    "      K_y_train = y_train[train_indices]\n",
    "      K_X_test = X_train[test_indices]\n",
    "      K_y_test = y_train[test_indices]\n",
    "      results=model.fit(\n",
    "          K_X_train, K_y_train,\n",
    "          epochs= epochs_nb,\n",
    "          validation_data=(K_X_test, K_y_test),\n",
    "          batch_size=1000\n",
    "      )\n",
    "      histories.append(results.history)\n",
    "#       set_trace()\n",
    "  \n",
    "  means= getMeansFromResultsHistory(histories)\n",
    "  print(means) \n",
    "  return means"
   ]
  },
  {
   "cell_type": "code",
   "execution_count": 127,
   "metadata": {
    "colab": {},
    "colab_type": "code",
    "id": "9s4XxkFy2gaU"
   },
   "outputs": [],
   "source": [
    "dropout_means=[]"
   ]
  },
  {
   "cell_type": "markdown",
   "metadata": {},
   "source": [
    "### No dropout\n"
   ]
  },
  {
   "cell_type": "code",
   "execution_count": 128,
   "metadata": {
    "colab": {
     "base_uri": "https://localhost:8080/",
     "height": 1289
    },
    "colab_type": "code",
    "id": "jOicSA33xPyy",
    "outputId": "5250306c-805d-413a-c124-779b2ab67f15"
   },
   "outputs": [
    {
     "name": "stdout",
     "output_type": "stream",
     "text": [
      "Train on 1000 samples, validate on 500 samples\n",
      "Epoch 1/5\n",
      "1000/1000 [==============================] - 4s 4ms/step - loss: 0.6954 - acc: 0.5060 - val_loss: 0.6545 - val_acc: 0.6800\n",
      "Epoch 2/5\n",
      "1000/1000 [==============================] - 1s 986us/step - loss: 0.5832 - acc: 0.9020 - val_loss: 0.6107 - val_acc: 0.6940\n",
      "Epoch 3/5\n",
      "1000/1000 [==============================] - 1s 946us/step - loss: 0.4566 - acc: 0.9030 - val_loss: 0.5836 - val_acc: 0.7320\n",
      "Epoch 4/5\n",
      "1000/1000 [==============================] - 1s 936us/step - loss: 0.3612 - acc: 0.9770 - val_loss: 0.5117 - val_acc: 0.8040\n",
      "Epoch 5/5\n",
      "1000/1000 [==============================] - 1s 980us/step - loss: 0.2597 - acc: 0.9920 - val_loss: 0.4777 - val_acc: 0.8040\n",
      "Train on 1000 samples, validate on 500 samples\n",
      "Epoch 1/5\n",
      "1000/1000 [==============================] - 5s 5ms/step - loss: 0.7003 - acc: 0.5030 - val_loss: 0.7186 - val_acc: 0.4960\n",
      "Epoch 2/5\n",
      "1000/1000 [==============================] - 1s 1ms/step - loss: 0.6426 - acc: 0.5330 - val_loss: 0.6455 - val_acc: 0.7300\n",
      "Epoch 3/5\n",
      "1000/1000 [==============================] - 1s 1ms/step - loss: 0.5442 - acc: 0.9520 - val_loss: 0.6208 - val_acc: 0.6800\n",
      "Epoch 4/5\n",
      "1000/1000 [==============================] - 1s 1ms/step - loss: 0.4697 - acc: 0.9050 - val_loss: 0.5703 - val_acc: 0.7940\n",
      "Epoch 5/5\n",
      "1000/1000 [==============================] - 1s 1ms/step - loss: 0.3653 - acc: 0.9820 - val_loss: 0.5686 - val_acc: 0.7220\n",
      "Train on 1000 samples, validate on 500 samples\n",
      "Epoch 1/5\n",
      "1000/1000 [==============================] - 5s 5ms/step - loss: 0.7030 - acc: 0.5010 - val_loss: 0.6987 - val_acc: 0.5120\n",
      "Epoch 2/5\n",
      "1000/1000 [==============================] - 1s 981us/step - loss: 0.6595 - acc: 0.5600 - val_loss: 0.6514 - val_acc: 0.6820\n",
      "Epoch 3/5\n",
      "1000/1000 [==============================] - 1s 954us/step - loss: 0.5441 - acc: 0.9450 - val_loss: 0.6712 - val_acc: 0.5740\n",
      "Epoch 4/5\n",
      "1000/1000 [==============================] - 1s 984us/step - loss: 0.4860 - acc: 0.8020 - val_loss: 0.5998 - val_acc: 0.6900\n",
      "Epoch 5/5\n",
      "1000/1000 [==============================] - 1s 933us/step - loss: 0.3735 - acc: 0.9570 - val_loss: 0.5618 - val_acc: 0.7620\n",
      "acc        0.977000\n",
      "val_acc    0.762667\n",
      "dtype: float64\n"
     ]
    }
   ],
   "source": [
    "rate=0.0\n",
    "means=trainModelWithDropoutOn1Layer(epochs_nb=5,rate=rate)\n",
    "dropout_means.append([means[\"acc\"],means[\"val_acc\"], rate,0])"
   ]
  },
  {
   "cell_type": "markdown",
   "metadata": {},
   "source": [
    "### Low dropout on 1 layer"
   ]
  },
  {
   "cell_type": "code",
   "execution_count": 129,
   "metadata": {
    "colab": {},
    "colab_type": "code",
    "id": "Q5uhaJ-_rOO2"
   },
   "outputs": [
    {
     "name": "stdout",
     "output_type": "stream",
     "text": [
      "Train on 1000 samples, validate on 500 samples\n",
      "Epoch 1/5\n",
      "1000/1000 [==============================] - 5s 5ms/step - loss: 0.7089 - acc: 0.4600 - val_loss: 0.7279 - val_acc: 0.4900\n",
      "Epoch 2/5\n",
      "1000/1000 [==============================] - 1s 1ms/step - loss: 0.6669 - acc: 0.5310 - val_loss: 0.6492 - val_acc: 0.7400\n",
      "Epoch 3/5\n",
      "1000/1000 [==============================] - 1s 1ms/step - loss: 0.5593 - acc: 0.9470 - val_loss: 0.6316 - val_acc: 0.6660\n",
      "Epoch 4/5\n",
      "1000/1000 [==============================] - 1s 1ms/step - loss: 0.4807 - acc: 0.9220 - val_loss: 0.5699 - val_acc: 0.7920\n",
      "Epoch 5/5\n",
      "1000/1000 [==============================] - 1s 1ms/step - loss: 0.3747 - acc: 0.9810 - val_loss: 0.5388 - val_acc: 0.7620\n",
      "Train on 1000 samples, validate on 500 samples\n",
      "Epoch 1/5\n",
      "1000/1000 [==============================] - 5s 5ms/step - loss: 0.7095 - acc: 0.4900 - val_loss: 0.7130 - val_acc: 0.4960\n",
      "Epoch 2/5\n",
      "1000/1000 [==============================] - 1s 1ms/step - loss: 0.6620 - acc: 0.5180 - val_loss: 0.6540 - val_acc: 0.7200\n",
      "Epoch 3/5\n",
      "1000/1000 [==============================] - 1s 1ms/step - loss: 0.5763 - acc: 0.9390 - val_loss: 0.6251 - val_acc: 0.6700\n",
      "Epoch 4/5\n",
      "1000/1000 [==============================] - 1s 1ms/step - loss: 0.5030 - acc: 0.8760 - val_loss: 0.5773 - val_acc: 0.7700\n",
      "Epoch 5/5\n",
      "1000/1000 [==============================] - 1s 1ms/step - loss: 0.4090 - acc: 0.9600 - val_loss: 0.5605 - val_acc: 0.7460\n",
      "Train on 1000 samples, validate on 500 samples\n",
      "Epoch 1/5\n",
      "1000/1000 [==============================] - 6s 6ms/step - loss: 0.6962 - acc: 0.5070 - val_loss: 0.6768 - val_acc: 0.5800\n",
      "Epoch 2/5\n",
      "1000/1000 [==============================] - 1s 1ms/step - loss: 0.6211 - acc: 0.7510 - val_loss: 0.6367 - val_acc: 0.6840\n",
      "Epoch 3/5\n",
      "1000/1000 [==============================] - 1s 1ms/step - loss: 0.5363 - acc: 0.9070 - val_loss: 0.6042 - val_acc: 0.7020\n",
      "Epoch 4/5\n",
      "1000/1000 [==============================] - 1s 1ms/step - loss: 0.4239 - acc: 0.9330 - val_loss: 0.5571 - val_acc: 0.7320\n",
      "Epoch 5/5\n",
      "1000/1000 [==============================] - 1s 1ms/step - loss: 0.3282 - acc: 0.9670 - val_loss: 0.5203 - val_acc: 0.7700\n",
      "acc        0.969333\n",
      "val_acc    0.759333\n",
      "dtype: float64\n"
     ]
    }
   ],
   "source": [
    "\n",
    "rate=0.2\n",
    "means=trainModelWithDropoutOn1Layer(epochs_nb=5,rate=rate)\n",
    "dropout_means.append([means[\"acc\"],means[\"val_acc\"], rate,1])"
   ]
  },
  {
   "cell_type": "markdown",
   "metadata": {},
   "source": [
    "### High dropout on 1 layer\n"
   ]
  },
  {
   "cell_type": "code",
   "execution_count": 130,
   "metadata": {
    "colab": {},
    "colab_type": "code",
    "id": "1CblTzT_uul1"
   },
   "outputs": [
    {
     "name": "stdout",
     "output_type": "stream",
     "text": [
      "Train on 1000 samples, validate on 500 samples\n",
      "Epoch 1/5\n",
      "1000/1000 [==============================] - 6s 6ms/step - loss: 0.6973 - acc: 0.5060 - val_loss: 0.6633 - val_acc: 0.6440\n",
      "Epoch 2/5\n",
      "1000/1000 [==============================] - 1s 1ms/step - loss: 0.6251 - acc: 0.7710 - val_loss: 0.6391 - val_acc: 0.6420\n",
      "Epoch 3/5\n",
      "1000/1000 [==============================] - 1s 1ms/step - loss: 0.5484 - acc: 0.8110 - val_loss: 0.5911 - val_acc: 0.7300\n",
      "Epoch 4/5\n",
      "1000/1000 [==============================] - 1s 1ms/step - loss: 0.4563 - acc: 0.9210 - val_loss: 0.5464 - val_acc: 0.7540\n",
      "Epoch 5/5\n",
      "1000/1000 [==============================] - 1s 1ms/step - loss: 0.3643 - acc: 0.9470 - val_loss: 0.5069 - val_acc: 0.7640\n",
      "Train on 1000 samples, validate on 500 samples\n",
      "Epoch 1/5\n",
      "1000/1000 [==============================] - 6s 6ms/step - loss: 0.6957 - acc: 0.5230 - val_loss: 0.6854 - val_acc: 0.5440\n",
      "Epoch 2/5\n",
      "1000/1000 [==============================] - 1s 1ms/step - loss: 0.6337 - acc: 0.6540 - val_loss: 0.6365 - val_acc: 0.6400\n",
      "Epoch 3/5\n",
      "1000/1000 [==============================] - 1s 1ms/step - loss: 0.5585 - acc: 0.8210 - val_loss: 0.5864 - val_acc: 0.7220\n",
      "Epoch 4/5\n",
      "1000/1000 [==============================] - 1s 1ms/step - loss: 0.4523 - acc: 0.9140 - val_loss: 0.5602 - val_acc: 0.7360\n",
      "Epoch 5/5\n",
      "1000/1000 [==============================] - 1s 1ms/step - loss: 0.3721 - acc: 0.9520 - val_loss: 0.5128 - val_acc: 0.7740\n",
      "Train on 1000 samples, validate on 500 samples\n",
      "Epoch 1/5\n",
      "1000/1000 [==============================] - 6s 6ms/step - loss: 0.7055 - acc: 0.5060 - val_loss: 0.7148 - val_acc: 0.5200\n",
      "Epoch 2/5\n",
      "1000/1000 [==============================] - 1s 1ms/step - loss: 0.6639 - acc: 0.5480 - val_loss: 0.6520 - val_acc: 0.7000\n",
      "Epoch 3/5\n",
      "1000/1000 [==============================] - 1s 1ms/step - loss: 0.5694 - acc: 0.8960 - val_loss: 0.6288 - val_acc: 0.6940\n",
      "Epoch 4/5\n",
      "1000/1000 [==============================] - 1s 998us/step - loss: 0.4986 - acc: 0.9100 - val_loss: 0.5911 - val_acc: 0.7140\n",
      "Epoch 5/5\n",
      "1000/1000 [==============================] - 1s 1ms/step - loss: 0.3981 - acc: 0.9720 - val_loss: 0.5824 - val_acc: 0.7060\n",
      "acc        0.957\n",
      "val_acc    0.748\n",
      "dtype: float64\n"
     ]
    }
   ],
   "source": [
    "rate=0.4\n",
    "means=trainModelWithDropoutOn1Layer(epochs_nb=5,rate=rate)\n",
    "dropout_means.append([means[\"acc\"],means[\"val_acc\"], rate,1])"
   ]
  },
  {
   "cell_type": "markdown",
   "metadata": {},
   "source": [
    "### Low dropout on 2 layers"
   ]
  },
  {
   "cell_type": "code",
   "execution_count": 131,
   "metadata": {
    "colab": {},
    "colab_type": "code",
    "id": "Q5uhaJ-_rOO2"
   },
   "outputs": [
    {
     "name": "stdout",
     "output_type": "stream",
     "text": [
      "Train on 1000 samples, validate on 500 samples\n",
      "Epoch 1/5\n",
      "1000/1000 [==============================] - 7s 7ms/step - loss: 0.7026 - acc: 0.4820 - val_loss: 0.7094 - val_acc: 0.4940\n",
      "Epoch 2/5\n",
      "1000/1000 [==============================] - 1s 1ms/step - loss: 0.6590 - acc: 0.5420 - val_loss: 0.6429 - val_acc: 0.7440\n",
      "Epoch 3/5\n",
      "1000/1000 [==============================] - 1s 1ms/step - loss: 0.5589 - acc: 0.9570 - val_loss: 0.6210 - val_acc: 0.6880\n",
      "Epoch 4/5\n",
      "1000/1000 [==============================] - 1s 1ms/step - loss: 0.4818 - acc: 0.9250 - val_loss: 0.5516 - val_acc: 0.8040\n",
      "Epoch 5/5\n",
      "1000/1000 [==============================] - 1s 1ms/step - loss: 0.3690 - acc: 0.9780 - val_loss: 0.5167 - val_acc: 0.7760\n",
      "Train on 1000 samples, validate on 500 samples\n",
      "Epoch 1/5\n",
      "1000/1000 [==============================] - 6s 6ms/step - loss: 0.7001 - acc: 0.5050 - val_loss: 0.7304 - val_acc: 0.4920\n",
      "Epoch 2/5\n",
      "1000/1000 [==============================] - 1s 1ms/step - loss: 0.6652 - acc: 0.5260 - val_loss: 0.6371 - val_acc: 0.7560\n",
      "Epoch 3/5\n",
      "1000/1000 [==============================] - 1s 994us/step - loss: 0.5518 - acc: 0.9200 - val_loss: 0.6262 - val_acc: 0.6160\n",
      "Epoch 4/5\n",
      "1000/1000 [==============================] - 1s 1ms/step - loss: 0.4912 - acc: 0.8510 - val_loss: 0.5664 - val_acc: 0.7820\n",
      "Epoch 5/5\n",
      "1000/1000 [==============================] - 1s 1ms/step - loss: 0.3899 - acc: 0.9600 - val_loss: 0.5660 - val_acc: 0.7280\n",
      "Train on 1000 samples, validate on 500 samples\n",
      "Epoch 1/5\n",
      "1000/1000 [==============================] - 7s 7ms/step - loss: 0.7041 - acc: 0.5070 - val_loss: 0.7232 - val_acc: 0.4880\n",
      "Epoch 2/5\n",
      "1000/1000 [==============================] - 1s 1ms/step - loss: 0.6777 - acc: 0.5160 - val_loss: 0.6529 - val_acc: 0.6980\n",
      "Epoch 3/5\n",
      "1000/1000 [==============================] - 1s 1ms/step - loss: 0.5530 - acc: 0.9330 - val_loss: 0.6792 - val_acc: 0.5540\n",
      "Epoch 4/5\n",
      "1000/1000 [==============================] - 1s 1ms/step - loss: 0.5023 - acc: 0.7700 - val_loss: 0.6237 - val_acc: 0.6480\n",
      "Epoch 5/5\n",
      "1000/1000 [==============================] - 1s 1ms/step - loss: 0.3926 - acc: 0.9130 - val_loss: 0.5541 - val_acc: 0.7740\n",
      "acc        0.950333\n",
      "val_acc    0.759333\n",
      "dtype: float64\n"
     ]
    }
   ],
   "source": [
    "\n",
    "rate=0.2\n",
    "means=trainModelWithDropoutOn1Layer(epochs_nb=5,rate=rate)\n",
    "dropout_means.append([means[\"acc\"],means[\"val_acc\"], rate,2])"
   ]
  },
  {
   "cell_type": "markdown",
   "metadata": {},
   "source": [
    "### High dropout on 2 layers\n"
   ]
  },
  {
   "cell_type": "code",
   "execution_count": 132,
   "metadata": {
    "colab": {},
    "colab_type": "code",
    "id": "1CblTzT_uul1"
   },
   "outputs": [
    {
     "name": "stdout",
     "output_type": "stream",
     "text": [
      "Train on 1000 samples, validate on 500 samples\n",
      "Epoch 1/5\n",
      "1000/1000 [==============================] - 7s 7ms/step - loss: 0.7214 - acc: 0.5070 - val_loss: 0.7311 - val_acc: 0.5100\n",
      "Epoch 2/5\n",
      "1000/1000 [==============================] - 1s 1ms/step - loss: 0.7012 - acc: 0.4970 - val_loss: 0.6631 - val_acc: 0.6640\n",
      "Epoch 3/5\n",
      "1000/1000 [==============================] - 1s 1ms/step - loss: 0.6037 - acc: 0.8260 - val_loss: 0.6584 - val_acc: 0.5440\n",
      "Epoch 4/5\n",
      "1000/1000 [==============================] - 1s 1ms/step - loss: 0.5598 - acc: 0.7680 - val_loss: 0.6364 - val_acc: 0.5900\n",
      "Epoch 5/5\n",
      "1000/1000 [==============================] - 1s 1ms/step - loss: 0.4869 - acc: 0.8180 - val_loss: 0.5652 - val_acc: 0.7560\n",
      "Train on 1000 samples, validate on 500 samples\n",
      "Epoch 1/5\n",
      "1000/1000 [==============================] - 7s 7ms/step - loss: 0.7029 - acc: 0.4660 - val_loss: 0.6786 - val_acc: 0.5600\n",
      "Epoch 2/5\n",
      "1000/1000 [==============================] - 1s 1ms/step - loss: 0.6382 - acc: 0.6660 - val_loss: 0.6377 - val_acc: 0.6520\n",
      "Epoch 3/5\n",
      "1000/1000 [==============================] - 1s 1ms/step - loss: 0.5714 - acc: 0.8010 - val_loss: 0.5922 - val_acc: 0.7760\n",
      "Epoch 4/5\n",
      "1000/1000 [==============================] - 1s 1ms/step - loss: 0.4776 - acc: 0.9290 - val_loss: 0.5678 - val_acc: 0.7300\n",
      "Epoch 5/5\n",
      "1000/1000 [==============================] - 1s 1ms/step - loss: 0.3911 - acc: 0.9620 - val_loss: 0.5101 - val_acc: 0.8160\n",
      "Train on 1000 samples, validate on 500 samples\n",
      "Epoch 1/5\n",
      "1000/1000 [==============================] - 7s 7ms/step - loss: 0.7008 - acc: 0.4750 - val_loss: 0.7052 - val_acc: 0.5320\n",
      "Epoch 2/5\n",
      "1000/1000 [==============================] - 1s 1ms/step - loss: 0.6537 - acc: 0.5610 - val_loss: 0.6437 - val_acc: 0.7180\n",
      "Epoch 3/5\n",
      "1000/1000 [==============================] - 1s 1ms/step - loss: 0.5720 - acc: 0.8640 - val_loss: 0.6145 - val_acc: 0.7200\n",
      "Epoch 4/5\n",
      "1000/1000 [==============================] - 1s 1ms/step - loss: 0.4900 - acc: 0.9260 - val_loss: 0.5770 - val_acc: 0.7240\n",
      "Epoch 5/5\n",
      "1000/1000 [==============================] - 1s 1ms/step - loss: 0.3944 - acc: 0.9430 - val_loss: 0.5620 - val_acc: 0.7180\n",
      "acc        0.907667\n",
      "val_acc    0.763333\n",
      "dtype: float64\n"
     ]
    }
   ],
   "source": [
    "rate=0.4\n",
    "means=trainModelWithDropoutOn1Layer(epochs_nb=5,rate=rate)\n",
    "dropout_means.append([means[\"acc\"],means[\"val_acc\"], rate,2])"
   ]
  },
  {
   "cell_type": "markdown",
   "metadata": {
    "colab_type": "text",
    "id": "gz8yOkHOzD0k"
   },
   "source": [
    "Plot results"
   ]
  },
  {
   "cell_type": "code",
   "execution_count": 133,
   "metadata": {
    "colab": {},
    "colab_type": "code",
    "id": "kWtdXNAAvW_c"
   },
   "outputs": [
    {
     "data": {
      "image/png": "[encoded data removed]",
      "text/plain": [
       "<Figure size 1224x144 with 1 Axes>"
      ]
     },
     "metadata": {
      "needs_background": "light"
     },
     "output_type": "display_data"
    },
    {
     "data": {
      "image/png": "[encoded data removed]",
      "text/plain": [
       "<Figure size 1224x108 with 1 Axes>"
      ]
     },
     "metadata": {
      "needs_background": "light"
     },
     "output_type": "display_data"
    },
    {
     "data": {
      "image/png": "[encoded data removed]",
      "text/plain": [
       "<Figure size 1224x108 with 1 Axes>"
      ]
     },
     "metadata": {
      "needs_background": "light"
     },
     "output_type": "display_data"
    }
   ],
   "source": [
    "\n",
    "df = pd.DataFrame(data=dropout_means,columns=['acc','val_acc','rate','nb_layers'])\n",
    "plt.rcParams[\"figure.figsize\"] = [17,2]\n",
    "plot=df[[\"acc\",\"val_acc\"]].plot()\n",
    "plot.set_ylim([0.7,1])\n",
    "plot.grid()\n",
    "\n",
    "plt.rcParams[\"figure.figsize\"] = [17,1.5]\n",
    "plot=df[[\"rate\"]].plot()\n",
    "plot.set_ylim([0,0.5])\n",
    "plot.grid()\n",
    "\n",
    "plt.rcParams[\"figure.figsize\"] = [17,1.5]\n",
    "plot=df[[\"nb_layers\"]].plot()\n",
    "plot.set_ylim([0,2.2])\n",
    "plot.grid()\n",
    "\n",
    "# means=df[[\"acc\",\"val_acc\"]].mean()\n",
    "# print(\"mean acc: {}, mean val_acc: {}\".format(means[\"acc\"],means[\"val_acc\"]))\n"
   ]
  },
  {
   "cell_type": "code",
   "execution_count": 137,
   "metadata": {
    "colab": {},
    "colab_type": "code",
    "id": "46vBFEGrzpgG"
   },
   "outputs": [
    {
     "data": {
      "text/plain": [
       "[[0.9916666746139526, 0.7480000058809916, 0.0, 0],\n",
       " [0.9473333358764648, 0.7366666793823242, 0.2, 1],\n",
       " [0.9349999825159708, 0.7506666580835978, 0.4, 1],\n",
       " [0.9576666752497355, 0.7593333522478739, 0.2, 2],\n",
       " [0.9026666482289633, 0.7380000154177347, 0.4, 2]]"
      ]
     },
     "execution_count": 137,
     "metadata": {},
     "output_type": "execute_result"
    }
   ],
   "source": [
    "dropout_means"
   ]
  },
  {
   "cell_type": "markdown",
   "metadata": {},
   "source": [
    "### Observation<a class=\"anchor\" id=\"opti_d_o\"></a>\n",
    "we have similar results, but got a higher test accuracy with low dropout on all layers and also less overfit (training and test accuracies are closer)"
   ]
  }
 ],
 "metadata": {
  "colab": {
   "collapsed_sections": [],
   "name": "Sentiment_analysis_of_movies_(IMDB)_with_neural_net_.ipynb",
   "provenance": [],
   "version": "0.3.2"
  },
  "kernelspec": {
   "display_name": "Python 3",
   "language": "python",
   "name": "python3"
  },
  "language_info": {
   "codemirror_mode": {
    "name": "ipython",
    "version": 3
   },
   "file_extension": ".py",
   "mimetype": "text/x-python",
   "name": "python",
   "nbconvert_exporter": "python",
   "pygments_lexer": "ipython3",
   "version": "3.6.7"
  }
 },
 "nbformat": 4,
 "nbformat_minor": 2
}
