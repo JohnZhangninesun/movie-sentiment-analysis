{
  "nbformat": 4,
  "nbformat_minor": 0,
  "metadata": {
    "colab": {
      "name": "3_opti_neural_net.ipynb",
      "version": "0.3.2",
      "provenance": [],
      "collapsed_sections": [],
      "toc_visible": true
    },
    "kernelspec": {
      "name": "python3",
      "display_name": "Python 3"
    },
    "accelerator": "GPU"
  },
  "cells": [
    {
      "metadata": {
        "colab_type": "text",
        "id": "lMofUnI1i05g"
      },
      "cell_type": "markdown",
      "source": [
        "Sentiment analysis of movie (IMDB) reviews using dataset provided by the ACL 2011 paper, \n",
        "see http://ai.stanford.edu/~amaas/data/sentiment/\n",
        "This notebook uses neural net models\n",
        "\n",
        "The plan is to compare a variety of hyperparameters, vectorization techniques, neural net based models:\n",
        "* dense neural network with bag of words\n",
        "* dense neural network with fixed size input and words mapped to integers\n",
        "* LSTM\n",
        "* CNN\n"
      ]
    },
    {
      "metadata": {
        "colab_type": "text",
        "id": "L-FXDJ17i05n"
      },
      "cell_type": "markdown",
      "source": [
        "### Table of Contents<a class=\"anchor\" id=\"table\"></a>\n",
        "* [Load data](#load)\n",
        "* [Train different architectures](#train)\n",
        "    * [Train NN 50 - 10 - 1](#train1)\n",
        "    * [Train NN 256 - 128 - 1](#train2)\n",
        "    * [Train NN with K-Fold cross validation](#kfold)\n",
        "    * [Train RNN](#rnn)\n",
        "* [Optimize](#opti)\n",
        "    * [Optimize on dropouts](#opti_d)\n",
        "        * no dropout\n",
        "        * low dropout on 1 layer\n",
        "        * high dropout on 1 layer\n",
        "        * low dropout on 2 layers\n",
        "        * high dropout on 2 layers\n",
        "        * [Observation](#opti_d_o)"
      ]
    },
    {
      "metadata": {
        "colab_type": "code",
        "id": "hFAxjxjImFl2",
        "outputId": "141e8c58-236c-4a89-a7a1-9e6c8125332d",
        "colab": {
          "base_uri": "https://localhost:8080/",
          "height": 35
        }
      },
      "cell_type": "code",
      "source": [
        "!pip install wget"
      ],
      "execution_count": 97,
      "outputs": [
        {
          "output_type": "stream",
          "text": [
            "Requirement already satisfied: wget in /usr/local/lib/python3.6/dist-packages (3.2)\n"
          ],
          "name": "stdout"
        }
      ]
    },
    {
      "metadata": {
        "colab_type": "code",
        "id": "eqIsNp2Yi05v",
        "outputId": "3ea6fe1c-8424-407e-dd9e-40a8354c2aea",
        "colab": {
          "base_uri": "https://localhost:8080/",
          "height": 86
        }
      },
      "cell_type": "code",
      "source": [
        "import numpy as np\n",
        "import os\n",
        "import os.path\n",
        "import glob\n",
        "import time\n",
        "import string\n",
        "\n",
        "import pandas as pd\n",
        "import matplotlib as plt\n",
        "\n",
        "from nltk.tokenize import word_tokenize\n",
        "from nltk.corpus import stopwords\n",
        "from nltk.stem.porter import PorterStemmer\n",
        "import nltk\n",
        "nltk.download('punkt')\n",
        "nltk.download('stopwords')\n",
        "\n",
        "import tensorflow as tf\n",
        "import tensorflow.keras as keras\n",
        "from tensorflow.keras import layers\n",
        "from tensorflow.keras import models\n",
        "\n",
        "from sklearn.model_selection import train_test_split"
      ],
      "execution_count": 98,
      "outputs": [
        {
          "output_type": "stream",
          "text": [
            "[nltk_data] Downloading package punkt to /root/nltk_data...\n",
            "[nltk_data]   Package punkt is already up-to-date!\n",
            "[nltk_data] Downloading package stopwords to /root/nltk_data...\n",
            "[nltk_data]   Package stopwords is already up-to-date!\n"
          ],
          "name": "stdout"
        }
      ]
    },
    {
      "metadata": {
        "colab_type": "code",
        "id": "tafRpfeyi06R",
        "colab": {}
      },
      "cell_type": "code",
      "source": [
        "from sklearn.model_selection import KFold"
      ],
      "execution_count": 0,
      "outputs": []
    },
    {
      "metadata": {
        "colab_type": "code",
        "id": "x_LeQpbQi06j",
        "outputId": "916c582f-4c34-4203-a9b5-ac8d9d04052a",
        "colab": {
          "base_uri": "https://localhost:8080/",
          "height": 35
        }
      },
      "cell_type": "code",
      "source": [
        "import wget\n",
        "import tarfile\n",
        "\n",
        "# By checking if the directory exists first, we allow people to delete the tarfile without the notebook re-downloading it\n",
        "if os.path.isdir('aclImdb'):\n",
        "    print(\"Dataset directory exists, taking no action\")\n",
        "else:    \n",
        "    if not os.path.isfile('aclImdb_v1.tar.gz'):\n",
        "        print(\"Downloading dataset\")\n",
        "        #!wget http://ai.stanford.edu/~amaas/data/sentiment/aclImdb_v1.tar.gz\n",
        "        wget.download('http://ai.stanford.edu/~amaas/data/sentiment/aclImdb_v1.tar.gz')\n",
        "    else:\n",
        "        print(\"Dataset already downloaded\")\n",
        "    \n",
        "    print(\"Unpacking dataset\")\n",
        "    #!tar -xf aclImdb_v1.tar.gz \n",
        "    tar = tarfile.open(\"aclImdb_v1.tar.gz\")\n",
        "    tar.extractall()\n",
        "    tar.close()\n",
        "    print(\"Dataset unpacked in aclImdb\")"
      ],
      "execution_count": 100,
      "outputs": [
        {
          "output_type": "stream",
          "text": [
            "Dataset directory exists, taking no action\n"
          ],
          "name": "stdout"
        }
      ]
    },
    {
      "metadata": {
        "id": "OCN-uCBMdBJq",
        "colab_type": "code",
        "colab": {}
      },
      "cell_type": "code",
      "source": [
        "def foundGPU():\n",
        "  device_name = tf.test.gpu_device_name()\n",
        "  if device_name != '/device:GPU:0':\n",
        "    print('No GPU found')\n",
        "    return False\n",
        "  else: \n",
        "    print('Found GPU at: {}'.format(device_name))\n",
        "    return True"
      ],
      "execution_count": 0,
      "outputs": []
    },
    {
      "metadata": {
        "colab_type": "code",
        "id": "PQAl9GvRi067",
        "outputId": "289c2e5a-9065-47c3-fe87-167e36b31c9e",
        "colab": {
          "base_uri": "https://localhost:8080/",
          "height": 35
        }
      },
      "cell_type": "code",
      "source": [
        "# configuration\n",
        "if foundGPU():\n",
        "  SAMPLE_SIZE=12500\n",
        "else:\n",
        "  SAMPLE_SIZE=2000\n",
        "\n",
        "BATCH_SIZE=64\n",
        "TRAIN_TEST_RATIO=0.25\n",
        "TRAINING_SET_SIZE=int(SAMPLE_SIZE * (1 - TRAIN_TEST_RATIO))\n",
        "VALIDATION_SET_SIZE=int(SAMPLE_SIZE * TRAIN_TEST_RATIO)"
      ],
      "execution_count": 102,
      "outputs": [
        {
          "output_type": "stream",
          "text": [
            "Found GPU at: /device:GPU:0\n"
          ],
          "name": "stdout"
        }
      ]
    },
    {
      "metadata": {
        "colab_type": "text",
        "id": "vMYBkcdIB9uc"
      },
      "cell_type": "markdown",
      "source": [
        "<a href='#table'>Back</a>\n",
        "# Load data<a class=\"anchor\" id=\"load\"></a>"
      ]
    },
    {
      "metadata": {
        "id": "pQH5irwZPZuE",
        "colab_type": "text"
      },
      "cell_type": "markdown",
      "source": [
        "## Create a dense vector from reviews "
      ]
    },
    {
      "metadata": {
        "colab_type": "code",
        "id": "bcTVSZK-i07N",
        "colab": {}
      },
      "cell_type": "code",
      "source": [
        "time_beginning_of_notebook = time.time()\n",
        "SLICE = int(SAMPLE_SIZE / 2)\n",
        "positive_file_list = glob.glob(os.path.join('aclImdb/train/pos', \"*.txt\"))\n",
        "positive_sample_file_list = positive_file_list[:SLICE]\n",
        "\n",
        "negative_file_list = glob.glob(os.path.join('aclImdb/train/neg', \"*.txt\"))\n",
        "negative_sample_file_list = negative_file_list[:SLICE]\n",
        "\n",
        "import re\n",
        "\n",
        "# load doc into memory\n",
        "# regex to clean markup elements \n",
        "def load_doc(filename):\n",
        "    # open the file as read only\n",
        "    file = open(filename, 'r', encoding='utf8')\n",
        "    # read all text\n",
        "    text = re.sub('<[^>]*>', ' ', file.read())\n",
        "    #text = file.read()\n",
        "    # close the file\n",
        "    file.close()\n",
        "    return text"
      ],
      "execution_count": 0,
      "outputs": []
    },
    {
      "metadata": {
        "colab_type": "code",
        "id": "dcjl_fogi07W",
        "colab": {}
      },
      "cell_type": "code",
      "source": [
        "positive_strings = [load_doc(x) for x in positive_sample_file_list]\n",
        "negative_strings = [load_doc(x) for x in negative_sample_file_list]\n",
        "\n",
        "positive_tokenized = [word_tokenize(s) for s in positive_strings]\n",
        "negative_tokenized = [word_tokenize(s) for s in negative_strings]"
      ],
      "execution_count": 0,
      "outputs": []
    },
    {
      "metadata": {
        "id": "TVdtxPFDSxj7",
        "colab_type": "code",
        "outputId": "d1cca555-6a7c-4af3-e2f6-a86bde1ffeaa",
        "colab": {
          "base_uri": "https://localhost:8080/",
          "height": 55
        }
      },
      "cell_type": "code",
      "source": [
        "print(negative_tokenized[:100])"
      ],
      "execution_count": 105,
      "outputs": [
        {
          "output_type": "stream",
          "text": [
            "[['The', 'basic', 'plot', 'in', 'this', 'movie', 'is', \"n't\", 'bad', '.', 'A', 'lady', 'makes', 'it', 'big', 'and', 'comes', 'back', 'to', 'her', 'alma', 'mater', 'to', 'be', 'adored', '.', 'But', ',', 'despite', 'good', 'acting', 'by', 'Robert', 'Young', 'and', 'Eve', 'Arden', ',', 'the', 'movie', 'is', 'a', 'mess', '.', 'The', 'blame', 'for', 'this', 'I', 'place', 'on', 'either', 'Joan', 'Crawford', 'or', 'the', 'director', 'or', 'both', ',', 'as', 'her', 'performance', 'is', 'just', 'awful', '.', 'Instead', 'of', 'being', 'a', 'real', 'person', ',', 'she', 'does', 'a', 'wonderful', 'impersonation', 'of', 'a', 'deer', 'caught', 'in', 'the', 'headlights', '.', 'In', 'other', 'words', ',', 'she', 'stares', 'off', 'into', 'space', 'and', 'has', 'a', '``', 'golly', 'I', 'am', 'SOOOO', 'stunned', \"''\", 'expression', '.', 'After', 'just', 'a', 'few', 'minutes', 'it', 'really', 'became', 'annoying', 'for', 'me', '.', 'Now', 'this', 'is', 'certainly', 'not', 'the', 'only', 'Crawford', 'film', 'I', 'dislike', 'for', 'her', 'performance', ',', 'as', 'she', 'had', 'done', 'more', 'than', 'her', 'share', 'of', 'overacting', '--', 'in', 'films', 'such', 'as', 'JOHNNY', 'GUITAR', 'or', 'many', 'of', 'her', 'later', 'films', ',', 'such', 'as', 'BERSERK', '!', 'My', 'advice', 'is', 'to', 'try', 'a', 'different', 'Crawford', 'film', '--', 'there', 'certainly', 'were', 'better', '.'], ['I', 'found', 'this', 'film', 'embarrassing', 'to', 'watch', '.', 'I', 'felt', 'like', 'it', 'was', 'shoving', 'the', 'storyline', 'down', 'my', 'throat', 'as', 'if', 'I', 'could', \"n't\", 'pick', 'up', 'the', 'subtleties', 'I', 'needed', 'a', 'voice', 'over', 'to', 'spell', 'them', 'all', 'out', 'for', 'me', 'constantly', '.', 'Having', 'a', 'father', 'who', 'IS', 'still', 'an', 'alcoholic', ',', 'I', 'did', \"n't\", 'really', 'feel', 'it', 'was', 'a', 'film', 'about', 'alcoholism', 'as', 'such', '.', 'Alcoholics', ',', 'true', 'alcoholics', 'are', 'very', 'lonely', 'people', 'inside', ',', 'in', 'my', 'opinion', 'of', 'course', '.', 'They', 'find', 'it', 'hard', 'to', 'communicate', ',', 'something', 'that', 'the', 'main', 'character', 'had', 'no', 'problem', 'with', 'really', ',', 'except', 'he', 'DID', 'have', 'a', 'problem', 'saying', 'I', 'love', 'you', 'at', 'one', 'point-', 'which', 'was', 'a', 'bit', 'of', 'a', 'feeble', 'effort', 'at', 'establishing', 'his', 'cold', 'character', '.', 'He', 'was', 'constantly', 'surrounded', 'with', 'people', 'too', '!', '?', 'I', 'felt', 'cheated', 'that', 'at', 'no', 'point', 'were', 'we', 'really', 'alone', 'with', 'the', 'character', 'to', 'really', 'get', 'a', 'sense', 'of', 'his', 'inner', 'loneliness', 'and', 'turmoil', '.', 'I', 'could', \"n't\", 'connect', 'with', 'the', 'character', 'and', 'felt', 'no', 'link', 'at', 'all', 'considering', 'my', 'father', '.', 'I', 'felt', 'nothing', 'at', 'all', 'when', 'it', 'had', 'finished', ',', 'just', 'relief', 'it', 'was', 'over', '.', 'Kevin', 'McKidd', 'is', 'an', 'okay', 'actor', 'but', 'not', 'a', 'tough', 'guy', 'feature', 'lead', '!', 'The', 'clockwork', 'orange', 'thing', 'was', 'as', 'subtle', 'as', 'a', 'brick', '.', 'McKidd', 'was', 'too', 'old', 'for', 'the', 'teen', ',', 'they', 'should', 'have', 'got', 'three', 'different', 'characters', 'or', 'avoided', 'the', 'teen', 'stage', 'and', 'concentrated', 'more', 'on', 'the', 'adult', 'McKidd', '.', 'On', 'a', 'good', 'note', ',', 'I', 'felt', 'the', 'little', 'boy', 'actor', 'was', 'really', 'good', 'at', 'the', 'start', 'of', 'the', 'film', '!', '!'], ['This', 'is', 'one', 'of', 'the', 'most', 'putrid', 'movies', 'of', 'the', '90', \"'s\", '.', 'I', 'would', 'not', 'recommend', 'it', 'if', 'you', 'have', 'something', 'better', 'to', 'do', '.', 'This', 'picture', 'presents', 'African-Americans', 'as', 'savage', ',', 'uncultured', ',', 'violent', ',', 'inarticulate', ',', 'reefer-smoking', 'sociopaths', '.', 'Fudge', '(', 'Ice', 'Cube', ')', 'and', 'his', 'posse', 'of', 'homies', 'are', 'continuously', 'disrespectful', 'toward', 'others', 'in', 'the', 'dorm', ',', 'not', 'just', 'the', 'white', 'people', ',', 'but', 'Asians', 'too', ',', 'and', 'are', 'never', 'disciplined', 'for', 'their', 'actions', '.', 'Despite', 'all', 'that', 'tolerance', 'they', 'keep', 'on', 'whining', 'and', 'crying', 'about', 'the', 'evil', 'white', 'oppressors', 'who', 'run', 'their', 'lives', 'and', 'stand', 'in', 'their', 'way', '.', 'In', 'fact', 'it', 'is', 'Fudge', \"'s\", 'influence', 'that', 'causes', 'Remmy', 'to', 'bond', 'with', 'the', 'skin', 'heads', ',', 'to', 'drop', 'out', 'of', 'college', ',', 'and', 'eventually', 'to', 'kill', 'Malik', \"'s\", 'girlfriend', '.', 'The', 'skinheads', 'are', 'presented', 'as', 'a', 'covert', 'group', 'of', 'underachievers', 'who', 'share', 'a', 'pad', 'off', 'campus', 'and', 'generally', 'stay', 'away', 'from', 'everyone', 'else', '.', 'They', 'never', 'blast', 'their', 'music', 'to', 'annoy', 'people', 'nor', 'do', 'they', 'taunt', 'the', 'police', '.', 'They', 'do', 'commit', 'serious', 'crime', 'such', 'as', 'battery', 'and', 'rape', ',', 'yet', 'they', \"'re\", 'not', 'as', 'repulsive', 'nor', 'as', 'threatening', 'as', 'Fudge', 'and', 'Dreads', '(', 'Busta', 'Rhymes', ')', 'are', '.', 'There', \"'s\", 'a', 'lot', 'of', 'material', 'in', 'this', 'film', 'which', 'almost', 'offended', 'me', 'or', 'made', 'me', 'giggle', '.', 'Some', 'of', 'it', 'is', 'as', 'follows', 'below', '.', 'Fudge', 'and', 'Dreads', 'are', 'stated', 'as', 'students', 'at', 'the', 'Columbus', 'University', 'yet', 'we', 'never', 'see', 'them', 'in', 'class', 'and', 'it', 'is', 'completely', 'unclear', 'how', 'they', 'pay', 'their', 'tuition', '.', 'One', 'is', 'only', 'left', 'to', 'speculate', 'that', 'the', 'weed', 'they', 'smoke', 'has', 'something', 'to', 'do', 'with', 'their', 'finances', '.', 'Though', 'they', 'are', 'students', 'at', 'what', 'looks', 'like', 'a', 'private', 'university', ',', 'they', 'can', 'not', 'utter', 'a', 'single', 'line', 'of', 'proper', 'English', '.', 'Their', 'characters', 'are', 'developed', 'only', 'through', 'their', 'compulsive', 'whining', 'and', 'xenophobia', '.', 'It', 'appears', 'that', 'drunken', 'Kristen', '(', 'Kristy', 'Swanson', ')', 'knew', 'exactly', 'why', 'drunken', 'Billy', 'was', 'taking', 'her', 'to', 'his', 'house', '.', 'She', 'even', 'asked', 'him', 'to', 'get', 'a', 'rubber', 'so', 'that', 'they', 'could', 'begin', '.', 'The', 'fact', 'that', 'he', 'penetrated', 'her', 'without', 'a', 'condom', 'became', 'a', 'rape', 'whilst', 'it', 'would', 'be', 'great', 'sex', 'only', 'if', 'he', 'had', 'one', 'handy', '.', 'Later', 'Kristen', 'was', 'assured', 'by', 'Taryn', '(', 'Jennifer', 'Connely', ')', 'that', 'she', 'holds', 'no', 'accountability', 'in', 'that', 'matter', ',', 'and', 'despite', 'willfully', 'jumping', 'into', 'a', 'guy', \"'s\", 'bed', 'she', 'was', \"n't\", 'ready', 'for', 'sexual', 'intercourse', 'and', 'was', 'viciously', 'taken', 'advantage', 'of', 'by', 'a', 'sexual', 'predator', '.', 'Then', 'a', 'week', 'or', 'so', 'later', 'she', 'met', ',', 'and', 'slept', 'with', ',', 'an', 'ultra-sensitive', 'do-gooder', 'who', 'knew', 'how', 'to', 'avoid', 'raping', 'and', 'brought', 'a', 'condom', '.', 'The', 'director', 'stressed', 'contraception', 'thoroughly', '.', 'This', 'movie', 'is', 'complete', 'and', 'utter', 'garbage', 'that', 'makes', 'black', 'people', 'look', 'like', 'pricks', 'and', 'women', 'look', 'stupid', 'and', 'frail', '.', 'Cole', 'Hauser', \"'s\", 'acting', ',', 'and', 'Laurence', 'Fishburne', \"'s\", 'accent', 'are', 'the', 'only', 'reasons', 'I', 'can', 'think', 'of', 'to', 'watch', 'it', '.', 'The', 'writer/director', 'is', 'obviously', 'a', 'man', 'of', 'limited', 'intelligence', '.', 'Go', 'ahead', 'and', 'limit', 'your', 'own', 'by', 'watching', 'this', 'crap', 'if', 'you', 'want', ',', 'but', 'keep', 'in', 'mind', 'that', 'neurons', 'do', \"n't\", 'grow', 'back', '.', 'Just', 'follow', 'the', 'advice', 'at', 'the', 'end', 'and', 'UNLEARN', '.'], ['Well', 'this', 'movie', 'is', 'amazingly', 'awful', '.', 'I', 'felt', 'sorry', 'for', 'the', 'actors', 'involved', 'in', 'this', 'project', 'because', 'I', \"'m\", 'sure', 'they', 'did', 'not', 'write', 'their', 'lines', '.', 'Which', 'were', 'sometimes', 'delivered', 'with', 'slight', 'sarcasm', ',', 'which', 'lead', 'me', 'to', 'believe', 'they', 'were', 'not', 'taking', 'this', 'movie', 'seriously', ',', 'nor', 'could', 'anybody', 'who', 'watches', 'this', 'obnoxious', 'off', 'beat', 'monster', 'slasher', '.', 'While', 'watching', 'this', '``', 'Creature', 'Unknown', \"''\", 'I', 'could', 'not', 'help', 'but', 'think', 'that', 'there', 'was', 'not', 'much', 'of', 'a', 'budget', 'or', 'a', 'competent', 'writer', 'on', 'the', 'crew', '.', 'But', ',', 'if', 'you', 'go', 'into', 'watching', 'this', 'for', 'a', 'laugh', 'you', \"'ll\", 'be', 'happy', ',', 'the', 'movie', 'is', 'shameless', 'to', 'mocking', 'itself', 'because', 'i', 'cant', 'see', 'how', 'anybody', 'could', 'look', 'at', 'this', 'and', 'be', 'proud', 'of', 'pumping', 'this', 'straight', 'to', 'DVD', 'clichéd', 'wan', 'na', 'be', 'action', 'thriller/horror', 'movie', 'fightfest', 'to', 'light', '.'], ['An', 'offensively', 'over-the-top', 'action', 'adventure', ',', 'FIRST', 'BLOOD', 'PART', 'II', 'seemed', 'to', 'catch', 'the', 'mood', 'of', 'the', 'US', 'at', 'the', 'time', 'of', 'it', \"'s\", 'release', 'in', 'the', 'mid-80', \"'s\", ',', 'with', 'right-wing', 'Reaganism', 'and', 'virulent', 'anti-red', 'feelings', 'still', 'not', 'finished', 'yet', ',', 'though', 'the', 'emergence', 'of', 'a', 'certain', 'Mikhail', 'Gorbachev', 'in', 'the', 'heart', 'of', 'the', \"'Evil\", 'Empire', \"'\", 'in', 'Moscow', 'would', 'soon', 'render', 'these', 'types', 'of', 'films', 'redundant', ';', 'even', 'Reagan', 'himself', 'eventually', 'admitted', 'this', 'truism', '.', 'In', 'that', 'sense', ',', 'we', 'can', 'be', 'most', 'grateful', 'to', \"'Gorby\", \"'\", ',', 'not', 'for', 'his', 'disarmament', 'treaties', 'with', 'the', 'US', ',', 'nor', 'his', 'policies', 'of', \"'glasnost\", \"'\", ',', 'or', 'even', 'his', 'support', 'of', 'democracy', 'being', 'restored', 'to', 'the', 'Eastern', 'European', 'countries', 'in', 'the', 'former', 'Soviet', 'Union', \"'s\", 'backyard.No', ',', 'it', \"'s\", 'the', 'final', 'diminution', 'of', 'foolish', ',', 'jingoistic', ',', 'bloated', 'cold-war', 'adventures', 'like', 'this.The', 'first', 'RAMBO', 'film', 'was', 'hardly', 'perfect', ',', 'though', 'at', 'least', 'was', 'a', 'mildly', 'literate', 'and', 'adequate', 'action', 'thriller', 'with', 'a', 'not', 'too', 'bad', 'storyline.In', 'this', 'sequel', ',', 'any', 'sense', 'of', 'even', 'the', 'remotest', 'conviction', 'is', 'instantly', 'jettisoned', 'for', 'silly', ',', 'senseless', 'plotting', 'and', 'incident', 'in', 'which', 'Rambo', 'single-handedly', 'takes', 'on', 'scores', 'of', 'brainlessly', 'stereotyped', 'Vietnamese', 'and', 'Russian', 'troops', 'to', 'rescue', 'American', 'POW', \"'s\", 'ten', 'years', 'after', 'the', 'conflict', 'ended', ',', 'with', 'the', 'Americans', 'on', 'the', 'losing', 'side', '.', 'Perhaps', 'the', 'reason', 'why', 'the', 'film', 'was', 'a', 'huge', 'box-office', 'success', 'was', 'to', 'let', 'many', 'Americans', 'wallow', 'in', 'fantasy', ';', 'they', 'may', 'have', 'lost', 'the', 'war', ',', 'but', 'there', 'was', 'still', 'unfinished', 'business', 'at', 'hand', ',', 'and', 'ludicrous', 'comic-strip', 'heroics', 'with', 'a', 'robot-like', 'hero', 'killing', 'virtually', 'every', 'red', 'on', 'sight', ',', 'with', 'as', 'much', 'hardware', 'as', 'possible', ',', 'fulfilled', 'such', 'whimsically', 'far-fetched', 'ideals', '.', 'This', 'could', 'have', 'been', 'entertaining', 'on', 'a', 'SUPERMAN/SPIDERMAN', 'level', ',', 'but', 'sadly', 'everything', 'is', 'played', 'absolutely', 'straight.But', 'that', 'is', 'not', 'to', 'say', 'that', 'there', 'is', 'no', 'humour', 'in', 'the', 'film', ';', 'sadly', 'it', 'is', 'virtually', 'all', 'of', 'the', 'unintentional', 'kind.The', 'action', 'scenes', ',', 'though', 'technically', 'adequate', ',', 'never', 'once', 'carry', 'the', 'slightest', 'bit', 'of', 'conviction', 'or', 'persuasiveness', ',', 'because', 'they', 'are', 'always', 'placed', 'in', 'the', 'most', 'spectacularly', 'unbelievable', 'of', 'contexts', ';', 'namely', ',', 'our', 'hero', 'Rambo', 'is', 'always', 'unscathed', '(', 'aside', 'from', 'a', 'few', 'cuts', 'and', 'bruises', 'here', 'and', 'there', ')', 'despite', 'the', 'tons', 'of', 'explosives', ',', 'grenades', ',', 'gunshots', ',', 'etc.going', 'around', 'him', '.', 'In', 'between', 'the', 'mayhem', ',', 'what', 'there', 'is', 'of', 'a', 'script', 'consists', 'of', 'the', 'dullest', 'clichés', 'and', 'banalities.Stallone', ',', 'who', 'co-wrote', 'the', 'script', 'with', 'James', 'Cameron', '(', 'a', 'long', 'way', 'from', 'the', 'exciting', 'TERMINATOR', 'made', 'the', 'previous', 'year', ')', ',', 'deliberately', 'seems', 'to', 'have', 'given', 'the', 'Rambo', 'character', 'as', 'little', 'to', 'say', 'in', 'understandable', 'English', ',', 'and', 'merely', 'comes', 'out', 'with', 'moronic', 'grunts', ',', 'almost', 'as', 'though', 'he', 'has', 'invented', 'his', 'own', 'brand', 'of', 'patois', 'only', 'understandable', 'to', 'himself.Maybe', 'his', 'colleague', 'Cameron', 'was', 'thinking', 'of', 'The', 'Terminator', 'again', 'with', 'so', 'little', 'communication', 'involved', 'for', 'the', 'lead', 'character', '!', 'In', 'this', 'sense', 'Rambo', 'seems', 'even', 'less', 'of', 'a', 'human', 'than', 'the', 'Terminator', 'did', '!', 'The', 'rest', 'of', 'the', 'cast', 'do', 'little', 'better', 'with', 'good', 'actors', 'like', 'Charles', 'Napier', 'and', 'Richard', 'Crenna', 'doing', 'their', 'admirable', 'best', 'with', 'the', 'hackneyed', 'dialogue', 'they', 'are', 'given', ',', 'and', 'Steven', 'Berkoff', 'hamming', 'it', 'up', 'outrageously', 'yet', 'again', 'with', 'another', 'of', 'his', 'Russian', 'KGB/Red', 'Army', 'villain', 'roles.Berkoff', \"'s\", 'overplaying', 'is', 'mildly', 'enjoyable', 'but', 'not', 'remotely', 'menacing.How', 'come', 'that', 'Sly', 'managed', 'to', 'survive', 'Berkoff', \"'s\", 'electric', 'shock', 'torture', 'to', 'kill', 'yet', 'more', 'of', 'those', 'Red', 'Commie', 'scumbags', '?', 'Well', ',', 'credibility', 'is', 'never', 'this', 'film', \"'s\", 'strong', 'point.It', 'is', 'a', 'work', 'of', 'fantasy', 'comparable', 'with', 'THE', 'WIZARD', 'OF', 'OZ.At', 'least', 'that', 'WAS', 'meant', 'to', 'be', 'a', 'fantasy', ',', 'and', 'an', 'immortal', 'classic', 'it', 'turned', 'out', 'to', 'be.This', 'is', 'only', 'a', 'classic', 'of', 'the', 'most', 'dismal', ',', 'and', 'indeed', 'offensive', ',', 'kind.And', 'as', 'for', 'Sly', \"'s\", 'climactic', 'speech', '...', ',', 'rather', 'hypocritical', 'after', 'slaughtering', 'all', 'those', 'people', ',', 'eh', '?', 'By', 'the', 'way', ',', 'in', 'the', 'same', 'year', ',', 'he', 'also', 'made', 'ROCKY', 'IV', '...', '...', '...', '.', 'RATING:3', 'out', 'of', '10', '.'], ['OK', ',', 'here', 'it', 'is', ':', '``', 'Nazi', 'mountaineer', 'befriends', 'the', 'Dalai', 'Lama', '.', \"''\", 'What', 'we', 'do', 'is', ',', 'first', 'we', 'get', 'a', 'major', 'star', 'with', 'no', 'idea', 'whatsoever', 'how', 'to', 'do', 'a', 'Germanic', 'accent', ',', 'and', 'we', 'let', 'him', 'flounder', 'around', 'between', 'French', ',', 'German', ',', 'American', ',', 'and', 'British', 'for', 'over', '2', 'hours', '.', 'Then', 'we', 'concoct', 'a', 'series', 'of', 'wildly', 'improbable', 'events', 'and', 'space', 'them', 'apart', 'very', 'widely', ',', 'so', 'that', 'the', 'plot', 'inches', 'along', 'almost', 'imperceptibly', '.', 'But', 'just', 'to', 'make', 'sure', 'the', 'viewer', 'doesn´t', 'fall', 'asleep', ',', 'we', 'throw', 'in', 'details', 'which', 'are', 'shockingly', 'absurd', ',', 'such', 'as', 'our', 'hero', 'smoking', 'a', 'cigarette', 'at', 'an', 'altitude', 'of', '22,000', 'feet', '.', 'Naturally', ',', 'we', 'must', 'also', 'remember', 'that', 'our', 'target', 'audience', 'does', 'not', 'want', 'to', 'read', 'too', 'many', 'subtitles', ',', 'so', 'we', 'have', 'every', 'character', ',', 'even', 'the', 'lowliest', 'peasant', 'in', 'the', 'forbidden', 'closed-off', 'city', 'of', 'Lhasa', 'in', '1943', ',', 'speak', 'perfect', 'English', ',', 'also', 'with', 'dubious', 'accents', '.', 'Of', 'course', ',', 'the', 'trickiest', 'part', 'is', 'how', 'to', 'handle', 'the', 'spiritual', 'and', 'political', 'aspects', 'of', 'the', 'story', ',', 'so', 'what', 'we', 'do', 'is', 'this', ':', 'we', 'have', 'the', 'Dalai', 'Lama', 'befriend', 'the', 'now-reformed', 'Nazi', 'because', 'the', 'latter', 'is', 'so', 'good', 'at', 'fiddling', 'with', 'film', 'projectors', ',', 'radios', ',', 'antique', 'cars', ',', 'and', 'any', 'other', 'devices', 'with', 'represent', 'the', 'freedom', 'of', 'the', 'capitalist', 'west', '.', 'In', 'return', ',', 'our', 'hero', 'learns', 'from', 'his', 'young', 'protegé', 'a', 'kind', 'of', 'vague', ',', 'undefined', 'Buddhism', 'which', 'is', 'never', 'really', 'brought', 'out', 'or', 'treated', 'in', 'a', 'serious', 'fashion', '.', 'We', 'also', 'have', 'lots', 'of', 'scenes', 'with', 'the', 'hero', 'flaunting', 'all', 'the', 'marks', 'of', 'respects', 'and', 'protocol', 'which', 'the', 'rest', 'of', 'the', 'Tibetan', 'society', 'accords', 'the', 'Dalai', 'Lama', ',', 'even', 'as', 'we', 'pretend', 'that', 'the', 'hero', 'has', 'deep', 'and', 'profound', 'reverence', 'for', 'these', 'people', 'and', 'their', 'spiritual', 'leader', '.', 'In', 'other', 'words', ',', 'we', 'just', 'expect', 'the', 'audience', 'to', 'believe', 'that', 'this', 'guy', 'is', 'now', 'a', 'Buddhist', ',', 'sort', 'of', ',', 'in', 'his', 'own', 'way', ',', 'even', 'though', 'we', 'ourselves', 'don´t', 'seem', 'to', 'know', 'what', 'his', 'transformation', 'entails', 'or', 'how', 'far', 'we', 'want', 'it', 'to', 'go', '.', 'And', 'last', 'but', 'not', 'least', ',', 'we', 'hang', 'a', 'statistic', 'onto', 'the', 'end', 'of', 'the', 'film', 'about', 'how', 'appallingly', 'the', 'Chinese', 'have', 'treated', 'the', 'Tibetans', '(', 'which', 'is', 'certainly', 'true', ')', ',', 'thus', 'opening', 'ourselves', 'up', 'to', 'charges', 'that', 'we', 'have', 'made', 'a', '``', 'political', \"''\", 'movie', ',', 'even', 'though', 'it', 'is', 'nothing', 'of', 'the', 'sort', '.', 'So', ',', 'zat', 'ist', 'my', 'idea', '.', 'Vat', 'do', 'you', 'zink', '?', 'Can', 've', 'make', 'zis', 'movie', '?'], ['I', 'was', 'thirteen', 'years', 'old', ',', 'when', 'I', 'saw', 'this', 'movie', '.', 'I', 'expected', 'a', 'lot', 'of', 'action', '.', 'Since', 'Escape', 'From', 'New', 'York', 'was', '16-rated', 'in', 'Germany', 'I', 'entered', 'the', 'movie', 'as', 'fallback', '.', 'It', 'was', 'so', 'boring', '.', 'Afterwards', 'I', 'realized', 'that', 'this', 'was', 'just', 'crap', 'where', 'a', 'husband', 'exhibits', 'his', 'wife', '.', 'I', 'mean', 'today', 'you', 'do', 'this', 'via', 'internet', 'and', 'you', 'pay', 'for', 'instant', 'access', '.', 'It', 'is', 'more', 'then', '20', 'years', 'ago', ',', 'but', 'I', 'am', 'still', 'angry', 'that', 'I', 'waste', 'my', 'time', 'with', 'this', 'film', '.', 'This', 'is', 'a', 'soft-porno', 'for', 'schoolboys', '.', 'Undressing', 'Bo', 'Derek', 'and', 'painting', 'her', 'with', 'color', '-', 'nice', '.', 'But', 'then', 'they', 'should', 'named', 'the', 'film', 'Undressing', 'Bo', 'and', 'painting', 'her', '.'], ['Oh', '...', 'my', '...', 'god', '...', 'this', 'is', 'without', 'a', 'doubt', 'the', 'absolute', 'cheesiest', 'movie', 'I', 'have', 'ever', 'seen', '.', 'The', 'acting', 'is', 'bad', ',', 'the', 'story', 'is', 'weak', ',', 'the', 'characters', 'are', 'weaker', ',', 'and', 'the', 'whole', 'film', 'just', 'does', \"n't\", 'make', 'sense', '.', 'Couple', 'this', 'with', 'mediocre', 'directing', ',', 'really', 'strange', 'scenes', '(', 'such', 'as', 'the', 'one', 'where', 'the', 'kid', 'reaches', 'over', 'the', 'ravine', 'and', 'mysteriously', 'falls', 'in', ')', ',', 'and', 'thoroughly', 'abysmal', 'dialog', '(', '``', 'Look', '!', \"''\", '``', 'Musta', 'peed', 'his', 'pants', '!', '``', ')', ',', 'and', 'you', 'get', 'one', 'complete', 'failure', '.', 'Not', 'to', 'mention', 'the', 'fact', 'that', 'the', 'only', 'thing', 'Mr.', 'Atlas', 'looks', 'like', 'he', 'could', 'defeat', 'is', 'a', 'case', 'of', 'chocolate', 'bars', '.', 'But', 'this', 'is', 'part', 'of', 'the', 'movie', \"'s\", 'charm', '.', 'Sit', 'down', 'and', 'watch', 'it', 'with', 'a', 'few', 'of', 'your', 'friends', 'for', 'a', 'good', 'laugh', '.', 'I', 'love', 'this', 'movie', ',', 'because', 'it', \"'s\", 'just', 'SO', 'BAD', '!'], ['During', 'the', 'Civil', 'War', ',', 'there', 'were', 'many', 'cases', 'of', 'divided', 'loyalties', ';', 'obviously', ',', 'many', 'occurred', '``', 'In', 'the', 'Border', 'States', \"''\", ',', 'where', 'North', 'met', 'South', 'by', 'happenstance', 'of', 'geography', '.', 'From', 'the', 'border', ',', 'young', 'father', 'Owen', 'Moore', 'goes', 'off', 'to', 'join', 'the', 'Union', 'Army', '.', 'Shortly', ',', 'Confederate', 'soldier', 'Henry', 'B.', 'Walthall', ',', 'separated', 'from', 'his', 'regimen', ',', 'wanders', 'onto', 'the', 'enemy', \"'s\", 'property', ',', 'desperate', 'for', 'water', ';', 'he', 'finds', 'a', 'supply', 'where', 'the', 'Unionist', \"'s\", 'young', 'daughter', 'Gladys', 'Egan', 'sits', '.', 'When', 'the', 'Yankee', 'soldiers', 'track', 'him', 'down', ',', 'Little', 'Gladys', 'innocently', 'helps', 'the', 'Confederate', 'hide', '.', 'Later', ',', 'when', 'he', 'returns', 'to', 'kill', 'her', 'father', ',', 'the', 'little', 'girl', \"'s\", 'kindness', 'is', 'remembered', '.', 'A', 'sweet', ',', 'small', 'story', 'from', 'director', 'D.W.', 'Griffith', '.', 'Location', 'footage', 'and', 'humanity', 'are', 'lovingly', 'displayed', '.', '****', 'In', 'the', 'Border', 'States', '(', '6/13/10', ')', 'D.W.', 'Griffith', '~', 'Henry', 'B.', 'Walthall', ',', 'Owen', 'Moore', ',', 'Gladys', 'Egan'], ['I', 'had', 'the', '(', 'mis', ')', 'fortune', 'to', 'see', 'this', 'film', 'at', 'a', 'showing', 'in', 'the', 'US', '.', 'Having', 'reluctantly', 'sat', 'through', 'the', 'entire', 'abysmal', 'thing', ',', 'I', 'am', 'shocked', 'to', 'have', 'seen', 'so', 'many', 'good', 'reviews', 'here', 'on', 'IMDB', '.', 'The', 'original', 'film', 'was', 'a', 'turkey', ',', 'but', 'an', 'interesting', 'one', '.', 'It', 'fitted', 'into', 'that', 'early', 'seventies', ',', 'post', '1969', 'revolution', 'thing', ';', 'this', 'film', 'just', 'stinks', 'of', '...', '...', '.', ',', 'well', ',', 'nothing', 'really', '.', 'It', \"'s\", 'that', 'bad', '.', 'Imagine', 'a', 'badly', 'done', 'perfume', 'commercial', '-', 'see', 'what', 'I', 'mean', '?', 'Madonna', 'never', 'could', 'act', ',', 'and', 'has', 'been', 'an', 'embarrassment', 'on', 'the', 'big', 'screen', 'for', 'years', '.', 'She', 'looks', 'worse', 'and', 'worse', 'with', 'every', 'one', 'of', 'those', 'years', ',', 'increasingly', 'coming', 'to', 'resemble', 'a', 'skinned', 'meerkat', '.', 'Guy', 'Ritchie', ',', 'who', 'has', 'built', 'his', '``', 'reputation', \"''\", 'on', 'Lock', 'Stock', ',', 'could', 'never', 'direct', 'either', '-', 'his', 'movies', 'are', 'shallow', ',', 'badly', 'cut', ',', 'fashion', 'shows', '.', 'He', 'does', \"n't\", 'disappoint', 'here', 'either', ';', 'he', 'wisely', 'cast', 'his', 'wife', 'as', 'the', 'star', 'of', 'this', 'debacle', '.', 'Please', 'people', ',', 'take', 'little', 'heed', 'of', 'the', 'good', 'reviews', 'this', 'movie', 'has', 'received', 'from', 'other', 'posters', 'below', '.', 'They', 'are', 'quite', 'obviously', 'business', 'plants', '.', 'Do', \"n't\", 'encourage', 'Ritchie', 'to', 'humiliate', 'himself', 'further', 'by', 'giving', 'him', 'money', '.'], ['Where', 'to', 'begin', '.', 'This', 'movie', 'started', 'out', 'as', 'something', 'that', 'seemed', 'like', 'a', 'rip-off', 'of', '``', 'Darkness', 'Falls', \"''\", '.', 'An', 'old', ',', 'disfigured', 'woman', 'living', 'in', 'the', 'woods', ',', 'giving', 'kids', 'presents', 'for', 'their', 'teeth', '.', 'Sound', 'familiar', '?', 'Then', 'it', 'changes', '.', 'In', '``', 'Darkness', 'Falls', \"''\", ',', 'the', 'tooth', 'fairy', 'only', 'killed', 'you', 'if', 'you', 'saw', 'her', '.', 'The', 'tooth', 'fairy', 'in', 'this', 'movie', 'killed', 'you', 'no', 'matter', 'what', '.', 'Why', 'did', 'they', 'need', 'the', 'rocker', ',', 'his', 'hippie', 'girlfriend', 'or', 'the', 'Bubbas', 'and', 'their', 'sister', '?', 'I', 'think', 'the', 'movie', 'would', \"'ve\", 'been', 'fine', 'without', 'them', '.', 'It', 'seems', 'like', 'the', 'producers', 'sat', 'around', 'and', 'decided', 'that', 'they', 'needed', 'to', 'put', 'extra', 'people', 'in', 'the', 'movie', 'just', 'so', 'the', 'tooth', 'fairy', 'would', 'have', 'people', 'to', 'kill', '.', 'Although', ',', 'it', \"'s\", 'nice', 'to', 'see', 'a', 'pretty', 'blonde', 'girl', 'not', 'being', 'portrayed', 'as', 'a', 'bubble-head', 'for', 'a', 'change', '.', 'Okay', 'to', 'rent', ',', 'but', 'I', 'would', \"n't\", 'suggest', 'buying', 'it', '.'], ['What', 'boob', 'at', 'MGM', 'thought', 'it', 'would', 'be', 'a', 'good', 'idea', 'to', 'place', 'the', 'studly', 'Clark', 'Gable', 'in', 'the', 'role', 'of', 'a', 'Salvation', 'Army', 'worker', '?', '?', 'Ironically', 'enough', ',', 'another', 'handsome', 'future', 'star', ',', 'Cary', 'Grant', ',', 'also', 'played', 'a', 'Salvation', 'Army', 'guy', 'just', 'two', 'years', 'later', 'in', 'the', 'highly', 'overrated', 'SHE', 'DONE', 'HIM', 'WRONG', '.', 'I', 'guess', 'in', 'hindsight', 'it', \"'s\", 'pretty', 'easy', 'to', 'see', 'the', 'folly', 'of', 'these', 'roles', ',', 'but', 'I', 'still', 'wonder', 'WHO', 'thought', 'that', 'Salvation', 'Army', 'guys', 'are', '``', 'HOT', \"''\", 'and', 'who', 'could', 'look', 'at', 'these', 'dashing', 'men', 'and', 'see', 'them', 'as', 'realistic', 'representations', 'of', 'the', 'parts', 'they', 'played', '.', 'A', 'long', 'time', 'ago', ',', 'I', 'used', 'to', 'work', 'for', 'a', 'sister', 'organization', 'of', 'the', 'Salvation', 'Army', '(', 'the', 'Volunteers', 'of', 'America', ')', 'and', 'I', 'NEVER', 'saw', 'any', 'studly', 'guys', 'working', 'there', '(', 'and', 'that', 'includes', 'me', ',', 'unfortunately', ')', '.', 'Maybe', 'I', 'should', 'have', 'gotten', 'a', 'job', 'with', 'the', 'Salvation', 'Army', 'instead', '!', 'So', ',', 'for', 'the', 'extremely', 'curious', ',', 'this', 'is', 'a', 'good', 'film', 'to', 'look', 'out', 'for', ',', 'but', 'for', 'everyone', 'else', ',', 'it', \"'s\", 'poor', 'writing', ',', 'sloppy', 'dialog', 'and', 'annoying', 'moralizing', 'make', 'for', 'a', 'very', 'slow', 'film', '.'], ['We', 'went', 'into', 'this', 'movie', 'because', 'my', 'husband', 'had', 'enjoyed', 'the', 'original', 'version', 'of', '`My', 'favourite', 'Martian', \"'\", '.', 'We', 'had', 'our', '6', 'year', 'old', 'daughter', 'with', 'us', '.', 'She', 'wanted', 'to', 'leave', 'halfway', 'through', 'the', 'movie', 'which', 'was', 'fine', 'with', 'both', 'her', 'parents', '!', 'The', 'parts', 'we', 'did', 'see', 'were', 'only', 'occasionally', 'humorous', ',', 'mostly', 'either', 'too', 'silly', 'or', 'gross', '.', 'I', 'would', 'expect', 'that', 'this', 'movie', 'might', 'appeal', 'to', 'kids', 'between', '9-12', ',', 'if', 'that', '.', 'It', \"'s\", 'definitely', 'not', 'suited', 'for', 'younger', 'children', '.', 'From', 'what', 'I', \"'ve\", 'heard', 'the', 'original', 'series', 'was', 'by', 'far', 'superior', 'and', 'if', 'you', 'are', 'going', 'to', '``', 'relive', 'the', 'past', \"''\", 'you', \"'ll\", 'probably', 'be', 'disappointed', '.'], ['Near', 'the', 'beginning', ',', 'after', 'it', \"'s\", 'been', 'established', 'that', 'outlaw', 'John', 'Dillinger', '(', 'Warren', 'Oates', ')', ',', 'is', 'an', 'egomaniacal', 'rapist', ',', 'another', 'bandit', 'of', 'the', '1930s', 'is', 'cornered', 'in', 'a', 'farm', 'house', 'and', 'surrounded', 'by', 'the', 'FBI', '.', 'Second-in-command', 'Melvin', 'Purvis', '(', 'Ben', 'Johnson', ')', ',', 'surveys', 'the', 'situations', ',', 'sticks', 'a', 'lighted', 'cigar', 'in', 'his', 'mouth', ',', 'picks', 'up', 'two', 'loaded', '.45-caliber', 'automatics', ',', 'and', 'stalks', 'off', 'into', 'the', 'distant', 'house', 'alone', '.', 'Bang', ',', 'bang', ',', 'bang', '.', 'Purvis', 'emerges', 'alone', 'from', 'the', 'house', ',', 'carrying', 'the', 'female', 'hostage', ',', 'the', 'miscreant', 'dead', '.', 'All', 'in', 'long', 'shot', '.', 'If', 'you', \"'re\", 'enthralled', 'by', 'stories', 'like', 'Red', 'Riding', 'Hood', ',', 'this', 'should', 'have', 'considerable', 'appeal', '.', 'Oh', ',', 'it', \"'s\", 'as', 'exciting', 'as', 'it', 'is', 'mindless', '.', 'Pretty', 'Boy', 'Floyd', 'meets', 'his', 'demise', 'dramatically', '.', 'Multiple', 'violations', 'of', 'the', 'civic', 'code', '.', 'Plenty', 'of', 'shoot', 'outs', 'with', 'Tommy', 'guns', 'and', 'pistols', '.', 'Blood', 'all', 'over', '.', 'As', 'history', ',', 'it', 'stinks', '.', 'Few', 'remember', 'Melvin', 'Purvis', 'as', 'an', 'FBI', 'hero', ',', 'partly', ',', 'I', 'would', 'guess', ',', 'because', 'of', 'his', 'name', '.', 'Melvin', 'PURVIS', '?', 'We', 'all', 'remember', 'J.', 'Edgar', 'Hoover', ',', 'who', 'fired', 'Melvin', 'Purvis', 'because', 'he', 'was', 'a', 'rival', 'in', 'the', 'quest', 'for', 'public', 'attention', 'though', '.', 'The', 'picture', 'was', 'written', 'and', 'directed', 'by', 'John', 'Milius', '.', 'He', \"'s\", 'the', 'guy', 'who', 'had', 'it', 'written', 'into', 'his', 'contract', 'that', ',', 'should', 'any', 'animals', 'be', 'shot', 'and', 'killed', 'in', 'the', 'course', 'of', 'one', 'of', 'his', 'productions', ',', 'he', 'should', 'be', 'the', 'designated', 'shooter', '.', 'Milius', 'is', 'the', 'guy', ',', 'a', 'compleat', 'gun', 'freak', ',', 'who', 'had', 'Teddy', 'Roosevelt', \"'s\", 'Rough', 'Riders', 'in', 'the', 'Spanish-American', 'war', 'shouting', 'quotations', 'from', 'Henry', 'V', '--', '``', 'Saint', 'Crispin', \"'s\", 'Day', \"''\", 'and', 'all', 'that', '.', 'Exciting', ',', 'yes', ',', 'and', 'complete', 'garbage', '.', '``', 'I', 'knew', 'I', \"'d\", 'never', 'take', 'him', 'alive', ',', 'and', 'I', 'did', \"n't\", 'try', 'too', 'hard', 'neither', '.', \"''\", 'That', 'is', ',', 'kill', \"'em\", 'all', 'and', 'let', 'God', 'sort', 'them', 'out', '.', 'You', \"'ll\", 'just', 'love', 'it', '.'], ['I', 'am', 'a', 'big-time', 'horror/sci-fi', 'fan', 'regardless', 'of', 'budget', ',', 'but', 'after', 'watching', 'countless', 'horror', 'movies', 'late', 'night', 'on', 'cable', 'and', 'video', ',', 'this', 'has', 'to', 'be', 'the', 'worst', 'of', 'all', 'movies', '.', 'With', 'bloody', 'special', 'effects', '(', 'what', 'looked', 'like', 'a', 'roast', 'covered', 'in', 'fake', 'blood', 'or', 'ketchup', 'that', 'kept', 'being', 'shown', 'over', 'and', 'over', 'again', ')', 'and', 'people', 'running', 'around', 'screaming', 'from', 'left', ',', 'then', 'to', 'right', ',', 'then', 'back', 'again', '.', 'It', 'should', 'have', 'stayed', 'with', 'the', 'beginning', 'convenience', 'store', 'scene', 'and', 'stopped', 'there', 'and', 'been', '15', 'minutes', '.', 'Instead', ',', 'it', 'is', 'dragged', 'out', 'very', 'long', '.', 'It', 'is', 'very', ',', 'very', 'x5', 'low', 'budget', '.', 'Many', 'scenes', 'were', 'way', ',', 'way', 'too', 'long', '.', 'Narrator', 'sounded', 'very', 'amateurish', 'like', 'a', 'random', 'person', 'out', 'of', 'junior', 'high', 'was', 'talking', '.', 'This', 'is', 'the', 'only', 'movie', 'to', 'rate', 'lower', 'in', 'my', 'opinion', 'than', 'Manos', ',', 'Red', 'Zone', 'Cuba', ',', 'Benji', ',', 'and', 'Godzilla', 'vs.', 'megalon', 'despite', 'their', 'higher', 'budgets', '.', '10', 'snoozes', ',', 'try', 'to', 'stay', 'awake', 'through', 'whole', 'movie', 'in', 'one', 'setting', 'or', 'better', 'yet', ',', 'avoid', 'it', 'like', 'you', 'would', 'an', 'undead', 'brain-eating', 'mob', '.', 'The', 'Why-Did-I-Ever-See-This-Piece-Of-Zombie-Dung-Blues', '.', 'Epitome', 'of', 'nauseatingly', 'bad', 'made', 'movies', 'etc..ad', 'infinitum', '.', '-infinity/10'], ['Loved', 'the', 'original', 'story', ',', 'had', 'very', 'high', 'expectations', 'for', 'the', 'film', '(', 'especially', 'since', 'Barker', 'was', 'raving', 'about', 'it', 'in', 'interviews', ')', ',', 'finally', 'saw', 'it', 'and', 'what', 'can', 'I', 'say', '?', 'It', 'was', 'a', 'total', 'MESS', '!', 'The', 'directing', 'is', 'all', 'over', 'the', 'place', ',', 'the', 'acting', 'was', 'atrocious', ',', 'the', 'flashy', 'visuals', 'and', 'choreography', 'were', 'just', 'flat', ',', 'empty', 'and', 'completely', 'unnecessary', '(', 'whats', 'up', 'with', 'the', 'generic', 'music', 'video', 'techniques', 'like', 'the', 'fast-forward-slow', 'mo', 'nonsense', '?', 'It', 'was', 'stylish', 'yes', 'but', 'not', 'needed', 'in', 'this', 'film', 'and', 'cheapened', 'the', 'vibe', 'into', 'some', 'dumb', 'MTV', 'Marilyn', 'Manson/Smashing', 'Pumpkins/Placebo', 'music', 'video', ')', '.', 'Whilst', 'some', 'of', 'the', 'kills', 'are', 'pretty', 'cool', 'and', 'brutal', ',', 'some', 'are', 'just', 'ridiculously', 'laughable', '(', 'the', 'first', 'kill', 'on', 'the', 'Japanese', 'girl', 'was', 'hilarious', 'and', 'Ted', 'Raimi', \"'s\", 'death', 'was', 'just', 'stupidly', 'funny', ')', '.', 'It', 'just', 'rushes', 'all', 'over', 'the', 'place', 'with', 'zero', 'tension', 'and', 'suspense', ',', 'totally', 'moving', 'away', 'from', 'the', 'original', 'story', 'and', 'then', 'going', 'back', 'to', 'it', 'in', 'the', 'finale', 'which', 'by', 'that', 'point', 'just', 'feels', 'tacked', 'on', 'to', 'mess', 'it', 'up', 'even', 'more', '.', 'No', 'explanations', 'were', 'given', 'whatsoever', ',', 'I', 'mean', 'I', 'knew', 'what', 'was', 'happening', 'only', 'as', 'i', \"'d\", 'read', 'the', 'story', 'but', 'for', 'people', 'who', 'had', \"n't\", 'it', \"'s\", 'even', 'more', 'confusing', 'as', 'at', 'times', 'even', 'i', 'did', \"n't\", 'know', 'where', 'it', 'was', 'going', 'and', 'what', 'it', 'was', 'trying', 'to', 'do-', 'it', 'was', 'going', 'on', 'an', 'insane', 'tangent', 'the', 'whole', 'time', '.', 'God', ',', 'I', 'really', 'wanted', 'to', 'like', 'this', 'film', 'as', 'i', \"'m\", 'a', 'huge', 'fan', 'of', 'Barker', \"'s\", 'work', 'and', 'loved', 'the', 'story', 'as', 'it', 'has', 'immense', 'potential', 'for', 'a', 'cracking', 'movie', ',', 'hell', 'I', 'even', 'enjoyed', 'some', 'of', 'Kitamura', \"'s\", 'movies', 'as', 'fun', 'romps', 'but', 'this', 'film', 'just', 'reeked', 'of', 'amateurism', 'and', 'silliness', 'from', 'start', 'to', 'finish-', 'I', 'did', \"n't\", 'care', 'about', 'anyone', 'or', 'anything', ',', 'the', 'whole', 'thing', 'was', 'rushed', 'and', 'severely', 'cut', 'down', 'from', 'the', 'actual', 'source', ',', 'turning', 'it', 'into', 'something', 'else', 'entirely', '.', 'Granted', 'it', 'was', 'gory', 'and', 'Vinnie', 'Jones', 'played', 'a', 'superb', 'badass', ',', 'but', 'everything', 'else', 'was', 'all', 'over', 'the', 'place', ',', 'more', 'than', 'disappointing', '.', 'Gutted'], ['First', 'of', 'all', ',', 'I', 'apologize', 'for', 'my', 'English', '.', 'Everybody', 'from', 'ex-Yugoslavia', 'who', 'is', \"n't\", 'some', 'extreme', 'Serbian', 'radical', 'will', 'agree', 'with', 'me', '.', 'This', 'movie', ',', 'shows', 'Serbian', 'side', ',', 'and', 'only', 'Serbian', 'side', '.', 'No', 'Serbian', 'crimes', 'were', 'represented', '.', 'Luckily', ',', 'everyone', 'can', 'see', 'that', 'this', 'movie', 'was', 'made', 'by', 'Serbians', ',', 'so', 'there', 'is', 'no', 'neutrality', '.', 'All', \"''professionals\", \"''\", 'who', 'were', 'interviewed', 'are', 'not', 'professionals', 'at', 'all', '.', 'Some', 'guy', 'only', 'read', 'a', 'book', 'written', 'by', 'some', 'radical', 'Serbian', ',', 'the', 'other', 'one', 'is', 'genocide', 'denier', 'etc.etc', '.', 'Even', 'Slovenians', 'were', 'accused', 'in', 'this', 'movie.And', 'the', 'whole', 'war', 'in', 'Slovenia', 'lasted', 'for', 'few', 'days', ',', 'and', 'only', 'because', 'Slovenians', 'were', 'lucky.There', 'were', \"n't\", 'many', 'Serbs', 'in', 'Slovenia', ',', 'and', 'YNA', 'could', \"n't\", 'reach', 'Slovenia', 'trough', 'Croatia', '(', 'after', 'Croatia-Serbia', 'war', 'started', ')', '.', 'Every', 'Slovenian', 'is', 'outraged', 'by', 'all', 'accusations', 'in', 'this', 'movie', '.', 'Every', 'reasonable', 'Croat', 'will', 'agree', 'with', 'one', 'thing', ':', 'The', 'independence', 'was', 'too', 'early', '.', 'Perhaps', 'all', 'major', 'conflicts', 'could', 'be', 'avoided', '.', 'However', ',', 'mentioning', 'WWII', 'and', 'some', 'unrelated', 'things', 'was', 'truly', 'pathetic', 'attempt', 'to', 'justify', 'everything', '.', 'Just', 'imagine', 'Japanese', 'throwing', 'nuclear', 'bombs', 'at', 'Seattle', 'and', 'Washington', ',', 'and', 'saying', 'that', 'was', 'justified', 'by', 'Hiroshima', 'and', 'Nagasaki', '.', 'You', 'will', 'find', 'no', 'evidence', 'about', 'strangled', 'YNA', 'soldier', ',', 'and', 'murdered', 'Serbian', 'civilians', 'near', 'Vukovar', '.', 'But', 'you', 'can', 'find', 'the', 'tape', 'with', 'reporter', 'committing', 'that', 'his', 'claims', 'about', 'Serbian', 'civilians', 'near', 'Vukovar', 'were', 'lies', '.', 'All', 'over', 'the', 'internet', '.', 'And', 'the', 'director', 'forgot', 'to', 'mention', 'the', 'whole', 'bombing', 'of', 'Vukovar', 'by', 'YNA', '(', 'now', 'on', 'Serbian', 'and', 'Montenegro', 'side-and', '100', '%', 'full', 'of', 'Serbs', 'and', 'Montenegrin', ')', 'And', 'let', \"'s\", 'not', 'start', 'about', 'the', 'Chetnik', 'movement', '.', 'At', 'the', 'beginning', ',', 'it', 'was', 'simply', 'a', 'resistance', 'movement', '.', 'But', 'director', 'somehow', 'forgot', 'to', 'mention', 'collaboration', 'with', 'the', 'Nazis', ',', 'including', 'Ustashe', ',', 'ethnic', 'cleansing', ',', 'and', 'fighting', 'again', 'the', 'Yugoslav', 'partisans', '.', 'There', 'are', 'thousands', 'of', 'other', 'things', ',', 'but', 'all', 'of', 'it', 'can', 'be', 'easily', 'checked', '.', 'There', 'are', 'many', 'misleading', 'things', 'in', 'this', 'movie', '.', 'Only', 'few', 'of', 'all', 'accusations', 'are', 'true', '.', 'Every', 'Croatian', 'is', 'outraged', 'by', 'this', 'movie', '.', 'I', 'believe', 'that', 'I', 'do', \"n't\", 'need', 'to', 'mention', 'Srebrenica', 'genocide', 'denial', ',', 'the', 'genocide', 'that', 'has', 'too', 'many', 'evidence', '.', 'Imagine', 'the', 'movie', 'about', 'holocaust', 'denial', '.', 'This', 'movie', 'is', 'the', 'same', '.', 'And', 'according', 'to', 'this', 'movie', 'Bosnian', 'Muslims', 'in', 'Sarajevo', 'bombed', 'themselves', '.', 'Every', 'Bosnian', 'Muslim', 'is', 'outraged', 'by', 'this', 'movie', '.', 'Somehow', 'director', 'forgot', 'to', 'mention', 'the', 'short', 'occupation', 'of', 'small', 'piece', 'of', 'Macedonian', '(', 'FYROM', ')', 'land', 'by', 'the', 'Serbs', '.', 'Croatians', ',', 'Slovenians', ',', 'Bosnians', ',', 'and', 'Macedonians', 'never', 'entered', 'Serbian', 'borders', '.', 'If', 'you', 'are', 'not', 'Serbian', 'and', 'you', 'actually', 'started', 'to', 'believe', 'some', 'things', 'from', 'this', 'movie', ',', 'know', 'that', 'Serbs', 'have', 'some', 'kind', 'of', 'propaganda', 'that', 'Croats', ',', 'Bosnian', 'Muslims', ',', 'and', 'Macedonians', 'are', 'actually', 'Serbs', 'who', 'made', 'up', 'their', 'history', '.', 'So', '...', 'Even', '50', '%', 'of', 'Serbs', 'will', 'say', 'that', 'this', 'movie', 'is', \"''little\", \"''\", 'extreme', 'and', 'pro-Serbian', '.', 'And', 'Serbian', 'radicals', 'are', 'very', ',', 'very', 'pleased', 'with', 'this', 'movie', '(', 'there', 'is', 'about', '40', '%', 'Serbs', 'who', 'vote', 'for', 'radicals', ')', '.', 'I', 'think', 'everyone', 'understands', 'my', 'points', 'in', 'here', '.', 'In', 'this', 'so', 'called', 'documentary', 'is', 'very', 'little', 'truth', ',', 'and', 'my', 'advice', 'to', 'everyone', 'is', ':', 'Inform', 'yourself', 'before', 'watching', 'this', 'movie', '.', 'After', 'that', ',', 'you', 'will', 'only', 'laugh', 'at', 'all', 'pathetic', 'accusations', '.', 'Watch', 'real', ',', 'neutral', 'documentaries', 'about', 'death', 'of', 'Yugoslavia', '.'], ['Possible', 'Spoilers', ',', 'Perhaps', '.', 'I', 'must', 'say', 'that', '``', 'Cinderella', 'II', ':', 'Dreams', 'Come', 'True', \"''\", 'is', 'one', 'of', 'the', 'worst', 'movies', 'ever', 'made', '.', 'First', 'of', 'all', ',', 'the', 'movie', 'was', 'made', 'during', 'the', 'height', 'of', 'Disney', \"'s\", 'sequel', 'rampage', '.', 'It', 'was', 'created', 'around', 'the', 'same', 'time', 'as', '``', 'The', 'Little', 'Mermaid', 'II', ',', \"''\", '``', 'The', 'Jungle', 'Book', 'II', ',', \"''\", 'and', '``', 'Peter', 'Pan', 'II', ',', \"''\", 'all', 'of', 'which', 'were', 'disservices', 'to', 'their', 'original', 'film', 'classics', '.', '(', 'Disney', 'also', 'made', '``', 'The', 'Hunchback', 'of', 'Notre', 'Dame', 'II', \"''\", 'and', '``', 'Atlantis', 'II', ',', \"''\", 'but', 'I', \"'m\", 'going', 'to', 'drop', 'that', 'topic', 'because', 'their', 'original', 'movies', 'were', 'never', 'really', 'classics', 'in', 'the', 'first', 'place', '.', \"''\", ')', 'Let', 'me', 'go', 'ahead', 'and', 'say', 'that', 'I', 'am', 'an', 'avid', 'supporter', 'of', 'good', 'Disney', 'films', ',', 'and', 'I', 'absolutely', 'adore', 'the', 'original', 'Disney', '``', 'Cinderella', '.', \"''\", 'The', 'sequel', 'to', '``', 'Cinderella', ',', \"''\", 'however', ',', 'was', 'a', 'waste', 'of', 'time', '.', 'The', 'character', 'of', 'Cinderella', 'in', 'the', 'sequel', 'was', 'so', 'very', 'unlike', 'the', 'original', 'girl', 'that', 'I', 'grew', 'up', 'watching', '.', 'In', 'the', 'original', ',', 'Cinderella', 'was', 'kind', 'and', 'loving', '.', 'The', 'new', 'Cinderella', 'had', 'very', 'out-of-character', 'moments', 'with', 'current-era', 'phrasing', 'like', ',', '``', 'I', \"'m\", 'going', 'to', 'do', 'this', 'banquet', 'my', 'way', '!', \"''\", 'Let', 'me', 'also', 'tell', 'you', 'that', 'new', 'Cinderella', '(', 'as', 'I', 'have', 'affectionately', 'named', 'her', ')', 'says', ',', '``', 'Ewww', '!', \"''\", 'That', 'is', 'the', 'anti-Cinderella', '.', 'I', 'try', 'to', 'find', 'the', 'best', 'in', 'people', ',', 'but', 'in', 'the', 'sequel', ',', 'Anastasia', ',', 'one', 'of', 'the', 'stepsisters', ',', 'is', 'good', '!', 'What', 'the', 'heck', '?', 'Why', '?', 'They', 'made', 'it', 'all', 'out', 'to', 'be', 'like', 'Lady', 'Tremaine', 'and', 'Drizella', 'are', 'just', 'horrible', 'family', 'members', 'for', 'poor', 'little', 'Anastasia', '.', 'My', 'question', 'to', 'the', 'world', ':', 'did', 'the', 'people', 'at', 'Disney', 'watch', 'the', 'original', '``', 'Cinderella', \"''\", 'when', 'making', 'this', 'sequel', '?', 'Well', ',', 'it', 'surely', 'does', \"n't\", 'seem', 'so', '.', 'If', 'I', 'remember', 'correctly', ',', 'Anastasia', 'was', 'just', 'as', 'abusive', 'to', 'Cinderella', 'as', 'Drizella', 'and', 'Lady', 'Tremaine', '.', 'I', 'am', 'all', 'for', 'redemption', 'and', 'forgiveness', ',', 'but', 'there', 'was', 'no', 'point', 'of', 'redemption', 'for', 'Anastasia', 'in', 'this', 'movie', '.', 'In', 'the', 'first', 'one', ',', 'Anastasia', 'was', 'evil', '.', 'In', 'the', 'second', 'one', ',', 'she', 'is', 'good', '.', 'One', 'just', 'ca', \"n't\", 'leave', 'a', 'story', 'like', 'this', '.', 'I', 'hope', 'Disney', 'realizes', 'that', 'this', 'movie', ',', 'among', 'other', 'movies', ',', 'is', 'shaming', 'Walt', 'Disney', \"'s\", 'name', '.', 'Perhaps', 'now', 'that', 'Michael', 'Eisner', 'is', 'gone', ',', 'things', 'will', 'start', 'shaping', 'up', 'around', 'the', 'House', 'of', 'Mouse', '.'], ['Absolutely', 'the', 'worst', 'film', 'yet', 'by', 'Burton', ',', 'who', 'seems', 'to', 'be', 'getting', 'worse', 'with', 'each', 'film', 'he', 'directs', '.', 'A', 'miserable', 'script', 'loaded', 'with', 'cliches', 'is', 'only', 'the', 'first', 'of', 'many', 'objectionable', 'aspects', 'to', 'this', 'film', '.', 'This', 'is', 'the', 'kind', 'of', 'movie', 'where', 'every', 'time', 'something', 'happens', ',', 'you', \"'ll\", 'be', 'sure', 'to', 'hear', 'someone', 'shout', 'out', '``', 'he', \"'s\", 'lost', 'his', 'gun', '!', \"''\", 'or', 'whatever', 'it', 'is', 'to', 'let', 'everybody', 'know', '.', 'Carter', 'is', 'really', 'awful', 'and', 'so', 'is', 'Wahlberg', ',', 'who', 'ca', \"n't\", 'play', 'this', 'straight', 'and', 'be', 'convincing', '.', 'Very', 'nice', 'effects', 'and', 'photography', ',', 'but', 'poor', 'music', 'in', 'the', 'John', 'Williams', 'mold', 'by', 'Burton', \"'s\", 'crony', 'Elfman', '.', 'Heston', 'appears', 'in', 'a', 'nonsensichal', 'scene', 'to', 'spout', 'out', 'his', 'most', 'famous', 'catch-phrases', 'from', 'the', 'first', 'movie', '.', 'Very', 'poor', 'results', '.', 'If', 'anyone', 'else', 'out', 'there', 'also', 'saw', '``', 'Sleepy', 'Hollow', \"''\", ',', 'they', 'will', 'probably', 'have', 'noticed', ',', 'as', 'I', 'have', ',', 'the', 'declining', 'quality', 'of', 'Burton', \"'s\", 'films', '.', 'I', \"'ve\", 'heard', 'that', 'this', 'particular', 'project', 'was', 'produced', 'by', 'others', 'and', 'that', 'Burton', 'was', 'brought', 'in', 'as', 'director', ',', 'in', 'which', 'case', 'his', 'judgement', 'should', 'be', 'questioned', '.', 'But', 'I', 'think', 'he', 'has', 'allowed', 'any', 'possible', 'vision', 'he', 'might', 'have', 'had', 'earlier', 'in', 'his', 'career', 'to', 'slip', ';', 'the', 'evidence', 'is', 'there', 'in', 'the', 'films', '.', 'In', '``', 'Sleepy', 'Hollow', \"''\", ',', 'he', 'could', \"n't\", 'decide', 'what', 'kind', 'of', 'movie', 'he', 'was', 'making', ',', 'whether', 'it', 'was', 'a', 'comedy', 'or', 'a', 'real', 'horror', 'movie', ',', 'and', 'the', 'population', 'of', 'british', 'character', 'actors', '(', 'Chris', 'Lee', ',', 'etc', '.', ')', 'made', 'you', 'also', 'think', 'it', 'was', 'kind', 'of', 'a', 'monster', 'rally', 'film', '(', 'those', 'are', 'never', 'scary', ',', 'as', 'horror', 'fans', 'know', ')', '.', 'The', 'movie', 'could', \"n't\", 'succeed', 'on', 'either', 'horror', 'or', 'comedy', 'because', 'it', 'was', 'so', 'schizophrenic', ',', 'and', 'no', 'style', 'had', 'been', 'developed', 'to', 'smooth', 'the', 'two', 'together', '.', '``', 'Planet', 'of', 'the', 'Apes', \"''\", 'is', 'much', 'the', 'same', 'way', ',', 'and', 'the', 'result', 'comes', 'off', 'more', 'like', '``', 'Total', 'Recall', \"''\", 'or', '``', 'Tango', 'and', 'Cash', \"''\", 'than', 'like', 'sci-fi', '.', 'He', \"'s\", 'also', 'fallen', 'into', 'the', 'rut', 'of', 'so', 'many', 'other', '``', 'big', \"''\", 'directors', 'of', 'trying', 'to', 'satisfy', 'the', 'entire', 'possible', 'audience', '.', 'Word', 'to', 'Burton', ',', 'if', 'you', \"'re\", 'out', 'there', '--', 'pick', 'something', 'and', 'do', 'it', 'straight', ',', 'or', 'use', 'some', 'style', 'to', 'peice', 'it', 'all', 'together', '(', 'as', 'in', '``', 'Mars', 'Attacks', \"''\", 'or', '``', 'Beetlejuice', \"''\", ')', 'or', 'you', 'might', 'as', 'well', 'retire', ',', 'because', 'people', 'like', 'me', 'that', 'are', 'fans', 'of', 'your', 'movies', 'will', 'stop', 'going', '.'], ['Kind', 'of', 'hard', 'to', 'believe', 'that', 'the', 'movie', 'from', 'this', 'book', 'could', 'succeed', 'in', 'topping', 'its', 'awfulness', '!', 'The', 'plot', 'is', 'so', 'contrived', 'and', 'unbelievable', '.', '.', '.', 'starting', 'with', 'laying', 'a', 'ton', 'of', 'guilt', 'on', 'a', 'small', 'child', 'to', 'spare', 'her', 'pain', '!', 'Then', 'we', 'have', 'the', 'collusive', 'behavior', 'of', 'at', 'least', 'six', 'and', 'maybe', 'more', 'people', '(', 'including', 'clergy', ')', 'involved', 'in', 'what', 'is', 'a', 'crime', 'everywhere', '.', 'Next', 'we', 'have', 'a', 'wife', 'who', 'seemingly', 'in', 'the', 'length', 'of', 'a', 'ferry', 'ride', 'goes', 'from', 'being', 'comparatively', 'happy', 'to', 'very', 'shortly', 'kicking', 'over', 'the', 'traces', '.', 'A', 'very', 'unpleasant', 'and', 'coo', 'coo', 'mother', ',', 'aided', ',', 'abetted', 'and', 'supported', 'by', 'a', 'politically', 'correct', 'group', 'of', 'friends', '!', 'Moving', 'the', 'setting', 'from', 'an', 'island', 'off', 'the', 'coast', 'of', 'South', 'Carolina', ',', 'did', 'not', 'help', 'the', 'story', 'although', 'it', 'may', 'have', 'helped', 'the', 'film', 'makers', 'budget', '.', 'The', 'very', 'beautiful', 'buildings', 'supposedly', 'housing', 'the', 'monastery', 'did', 'not', 'seem', 'to', 'logically', 'suit', 'an', 'island', 'small', 'enough', 'to', 'need', 'golf', 'carts', 'and', 'such', 'a', 'small', 'ferry', 'service', '.', 'Kim', 'Basinger', 'whom', 'I', 'do', 'really', 'like', 'is', 'painfully', 'thin', 'in', 'this', 'movie', 'and', 'her', 'hairdo', 'certainly', 'belongs', 'in', 'another', 'decade', '.', 'Also', 'there', 'is', 'simply', 'no', 'chemistry', 'at', 'all', 'between', 'her', 'and', 'either', 'of', 'the', 'male', 'leads', '.', 'I', 'thoroughly', 'disliked', 'the', 'book', 'from', 'which', 'this', 'was', 'taken', 'but', 'did', 'read', 'it', 'all', '.', 'The', 'movie', 'I', 'kept', 'surfing', 'back', 'and', 'forth', 'to', ',', 'had', 'to', 'leave', 'whenever', 'that', 'saccharine', 'music', 'got', 'too', 'much', '.', 'Unless', 'you', 'like', 'an', 'unbelievable', 'story', ',', 'wooden', 'acting', ',', 'a', 'contorted', 'mixture', 'of', 'religious/mythological/allegory', 'my', 'advice', 'is', 'to', 'skip', 'this', 'one', '.', 'Oh', 'and', 'maybe', 'a', 'small', 'carping', 'criticism', ',', 'but', 'would', \"n't\", 'a', 'caring', 'father', 'have', 'a', 'life', 'jacket', 'on', 'a', 'small', 'child', 'on', 'a', 'small', 'boat', '?', 'The', 'best', 'part', 'of', 'this', 'movie', 'is', 'the', 'scenery'], ['Stupid', ',', 'mindless', 'drivel', 'about', 'a', 'jet', 'assembled', 'within', 'hours', 'by', 'mechanics', 'who', 'have', 'never', 'worked', 'on', 'airplanes', '(', 'piloted', 'by', 'Burgess', 'Meredith', ')', 'chasing', 'a', 'Porsche', 'race', 'car', 'which', 'runs', 'on', 'decades-old', 'gasoline', 'sludge', ',', 'driven', 'by', 'Lee', 'Majors', ',', 'with', 'Chris', 'Makepeace', 'as', 'the', 'runaway', 'techno-wiz', 'who', 'can', 'McGyver', 'spare', 'parts', 'into', 'a', 'radio', 'receiver', 'which', 'can', 'pick', 'up', 'all', 'frequencies', 'simultaneously', ',', 'and', 'who', 'somehow', 'learned', 'how', 'to', 'acquire', 'and', 'use', 'chemicals', 'to', 'make', 'high', 'explosives', 'in', 'a', 'perfectly', 'peaceful', 'society', '.', 'As', 'moronic', 'as', 'it', 'sounds', '.', 'Terrible', 'waste', 'of', 'Burgess', 'Meredith', ',', 'but', 'Chris', 'Makepeace', 'may', 'at', 'least', 'be', 'forgiven', 'on', 'the', 'grounds', 'that', 'this', 'was', 'only', 'his', 'second', 'film', '.'], ['Over', 'the', 'past', 'year', ',', 'Uwe', 'Boll', 'has', 'shown', 'marginal', 'improvement', 'as', 'a', 'filmmaker', ',', 'cranking', 'out', 'the', 'competent', '``', 'In', 'the', 'Name', 'of', 'the', 'King', \"''\", '(', 'a', '``', 'Lord', 'of', 'the', 'Rings', \"''\", 'clone', ')', 'and', 'the', 'proudly', 'vulgar', ',', 'post-9/11', 'satire', '``', 'Postal', '.', \"''\", 'But', 'then', 'came', '``', 'Seed', ',', \"''\", 'and', 'the', 'counter', 'was', 'reset', 'to', 'Zero', ',', 'keeping', 'his', 'bid', 'for', 'legitimacy', 'and', 'respect', 'that', 'much', 'further', 'out', 'of', 'reach', '.', 'And', 'I', \"'m\", 'a', 'fan', 'of', 'the', 'guy\\x96his', 'films', 'exhibit', 'a', 'uniquely', 'screwball', 'vision', ',', 'and', 'are', 'never', 'dull', '.', 'Spawned', 'from', 'his', 'frustration', 'over', 'the', 'savage', 'notices', 'his', 'early', 'films', 'received', ',', '``', 'Seed', \"''\", 'is', 'a', 'colossally', 'misguided', 'attempt', 'at', 'social', 'commentary', ',', 'and', 'an', 'even', 'worse', 'jab', 'at', 'creating', 'an', 'iconic', 'slasher', 'mythology', '(', 'Boll', 'often', 'seems', 'to', 'be', 'taking', 'a', 'page', 'from', 'Rob', 'Zombie', \"'s\", 'successful', 'reboot', 'of', '``', 'Halloween', \"''\", ')', '.', 'The', 'antagonist', 'is', 'Maxwell', 'Seed', '(', 'Will', 'Sanderson', ')', ',', 'a', 'mute', ',', 'hulking', 'brute', 'who', \"'s\", 'slain', '666', 'people', 'and', 'sits', 'on', 'death', 'row', ',', 'awaiting', 'execution', ';', 'after', 'unsuccessfully', 'frying', 'the', 'beast', ',', 'he', 'rises', 'from', 'the', 'grave', 'to', 'seek', 'revenge', 'on', 'those', 'who', 'put', 'him', 'there', '...', 'and', 'so', 'begins', 'a', 'string', 'of', 'wholly', 'gratuitous', 'mayhem', '.', 'Trying', 'to', 'create', 'a', 'new-millennium', 'slasher', 'in', 'the', 'vein', 'of', 'Michael', 'Myers', 'or', 'Jason', 'Voorhees', ',', 'Max', 'Seed', 'is', 'too', 'nondescript', 'and', 'boring', 'to', 'leave', 'an', 'impression', ',', 'ultimately', 'resembling', 'a', 'washed-up', 'pro', 'wrestler', 'doing', '``', 'The', 'Toolbox', 'Murders', \"''\", 'on', 'a', 'succession', 'of', 'equally', 'boring', 'victims', '.', 'Furthermore', ',', 'Seed', \"'s\", 'character', 'and', 'Boll', \"'s\", '``', 'message', \"''\", 'run', 'contrary', 'to', 'one', 'another', ':', 'the', 'death', 'penalty', 'is', 'wrong', ',', 'sure', ',', 'but', 'are', 'we', 'really', 'expected', 'to', 'sympathize', 'with', 'a', 'soulless', 'killer', 'who', \"'s\", 'left', 'a', 'couple', 'hundred', 'corpses', 'in', 'his', 'wake', '?', 'I', 'think', 'not', '.', 'Meanwhile', ',', 'Michael', 'Pare', 'acts', 'like', 'a', 'listless', ',', 'long-lost', 'brother', 'to', 'James', 'Remar', \"'s\", 'character', 'on', '``', 'Dexter', \"''\", ':', 'a', 'cop', 'who', 'sits', 'at', 'his', 'desk', 'a', 'lot', ',', 'thumbing', 'through', 'newspaper', 'clippings', ',', 'and', 'watching', 'pointless', 'stop-motion', 'scenes', 'of', 'decomposing', 'animals', 'and', 'people', 'trapped', 'in', 'Seed', \"'s\", 'lair', '.', 'By', 'the', 'time', 'he', 'and', 'a', 'bunch', 'of', 'cardboard', 'cops', 'storm', 'Seed', \"'s\", 'hideout', ',', 'the', 'sequence', 'is', 'so', 'drawn-out', ',', 'ill-conceived', '(', 'the', 'lighting', 'is', 'almost', 'non-existent', ')', ',', 'and', 'unexciting', '(', 'despite', 'a', 'healthy', 'dose', 'of', 'gore', ')', 'that', 'it', 'almost', 'put', 'me', 'to', 'sleep', '.', 'The', 'shoddy', 'film-making', 'is', \"n't\", 'limited', 'to', 'just', 'that', 'sequence', ':', '``', 'Seed', \"''\", 'appears', 'to', 'have', 'been', 'shot', 'by', 'a', 'drunken', 'cinematographer', ',', 'since', 'the', 'camera', 'bobs', 'and', 'weaves', 'endlessly', ',', 'a', 'technique', 'that', \"'s\", 'more', 'stomach-turning', 'than', 'the', 'gore', 'itself', ';', 'these', 'protracted', 'takes', 'of', 'very', 'little', 'happening', 'only', 'draw', 'attention', 'to', 'the', 'meandering', ',', 'almost', 'non-existent', 'narrative', '.', 'At', '90', 'minutes', ',', 'the', 'film', 'is', 'distended', 'enough', 'to', 'be', 'considered', 'a', 'form', 'of', 'torture', ',', 'which', 'might', 'have', 'been', 'Boll', \"'s\", 'intent', 'all', 'along', '.', 'Pure', 'genius', '...', 'I', 'guess', 'the', 'joke', \"'s\", 'on', 'me', '.'], ['The', 'only', 'thing', 'I', 'remember', 'about', 'this', 'movie', 'are', 'two', 'things', ':', 'first', ',', 'as', 'a', 'twelve', 'year', 'old', ',', 'even', 'I', 'thought', 'it', 'stunk', '.', 'Second', ',', 'it', 'was', 'so', 'bad', 'that', 'when', 'Mad', 'magazine', 'did', 'a', 'parody', 'of', 'it', ',', 'they', 'quit', 'after', 'the', 'first', 'page', ',', 'and', 'wrote', 'a', 'disclaimer', 'at', 'the', 'bottom', 'of', 'the', 'page', 'saying', 'that', 'they', 'had', 'completely', 'disavowed', 'it', '.', 'If', 'you', 'want', 'to', 'see', 'great', 'sophomoric', 'comedies', 'of', 'this', 'period', ',', 'try', 'Animal', 'House', '.', 'It', \"'s\", 'so', 'stupid', 'and', 'vulgar', 'it', 'lowers', 'itself', 'to', 'high', 'art', '.', 'Another', 'good', 'selection', 'would', 'be', 'Caddyshack', ',', 'the', 'classic', 'with', 'the', 'late', 'Rodney', 'Dangerfield', 'and', 'Bill', 'Murray', 'before', 'he', 'became', 'annoyingly', 'charming', ',', 'with', 'great', 'lines', 'like', 'greens', 'keeper', 'Carl', 'Spackler', \"'s\", '``', 'Correct', 'me', 'if', 'I', \"'m\", 'wrong', 'Sandy', ',', 'but', 'if', 'I', 'kill', 'all', 'the', 'golfers', 'they', \"'ll\", 'lock', 'me', 'up', 'and', 'throw', 'away', 'the', 'key', '.', \"''\"], ['This', 'movie', 'appears', 'to', 'have', 'been', 'an', 'on', 'the', 'job', 'training', 'exercise', 'for', 'the', 'Coppola', 'family', '.', 'It', 'does', \"n't\", 'seem', 'to', 'know', 'whether', 'to', 'be', 'an', '``', 'A', \"''\", 'or', 'a', '``', 'B', \"''\", 'western', '.', 'I', 'mean', ',', 'the', 'hero', 'is', 'called', 'Hopalong', 'Cassidy', 'for', 'God', \"'s\", 'sake', '.', 'William', 'Boyd', 'must', 'be', 'spinning', 'in', 'his', 'grave', '.', 'All', 'the', '``', 'B', \"''\", 'western', 'cliches', 'are', 'here', '.', 'The', 'two-gun', 'pearly', 'toothed', 'hero', 'in', 'the', 'white', 'hat', 'with', 'the', 'trusty', 'steed', '(', '``', \"C'mon\", 'Thunder', \"''\", ')', ',', 'the', 'all-in-black', 'bearded', 'villain', ',', 'the', 'heroine', 'in', 'distress', ',', 'the', 'rancher', 'in', 'trouble', ',', 'the', 'cowardly', 'sheriff', ',', 'over', 'the', 'top', 'bad', 'guys', 'etc', '.', 'The', 'acting', ',', 'with', 'few', 'exceptions', ',', 'is', 'strictly', 'from', 'the', 'Yakima', 'Canutt', 'School', 'of', 'Acting', '.', 'Chris', 'Lybbert', '(', 'who', '?', ')', 'as', 'the', 'hero', 'and', 'Louis', 'Schweibert', '(', 'who', '?', ')', 'as', 'the', 'villain', 'look', 'like', 'they', 'would', 'have', 'been', 'more', 'at', 'home', 'in', 'a', '30', \"'s\", 'Poverty', 'Row', 'quickie', '.', 'The', 'addition', 'to', 'the', 'cast', 'of', 'veteran', 'performers', 'Martin', 'Sheen', ',', 'Robert', 'Carradine', ',', 'Clu', 'Gulager', 'and', 'Will', 'Hutchins', 'helps', 'a', 'little', ',', 'but', 'they', 'are', 'not', 'given', 'enough', 'to', 'do', 'to', 'salvage', 'this', 'one', '.', 'What', 'was', 'the', 'point', 'of', 'the', 'Martin', 'Sheen/Robert', 'Carradine', 'framing', 'sequences', '?', 'Are', 'we', 'to', 'believe', 'that', 'the', 'Sheen', 'character', 'was', 'a', 'ghost', '?', 'What', 'was', 'the', 'purpose', 'of', 'the', 'black', 'gloves', '?', 'It', 'just', 'did', \"n't\", 'make', 'sense', '.', 'Being', 'a', 'great', 'lover', 'of', 'westerns', 'from', 'all', 'genres', ',', 'I', 'tried', 'hard', 'to', 'find', 'some', 'redeeming', 'qualities', 'in', 'this', 'film', '.', 'The', 'cinematography', 'was', 'quite', 'good', 'and', 'the', 'settings', 'looked', 'very', 'authentic', '.', 'Aside', 'from', 'the', 'hero', 'and', 'main', 'villain', ',', 'the', 'other', 'characters', 'looked', 'authentic', '.', 'If', 'the', 'producers', 'were', 'going', 'to', 'resurrect', 'the', 'Hopalong', 'Cassidy', 'character', ',', 'they', 'might', 'have', 'given', 'some', 'thought', 'to', 'portraying', 'him', 'as', 'he', 'was', 'originally', 'written', '-', 'a', 'grizzled', 'foul-mouthed', 'ranch', 'hand', 'with', 'a', 'chip', 'on', 'his', 'shoulder', ',', 'the', 'kind', 'of', 'part', 'Lee', 'Marvin', 'would', 'have', 'excelled', 'in', '.', 'What', 'else', 'can', 'I', 'say', 'but..on', 'Thunder', ',', 'on', 'big', 'fellow', '.'], ['After', 'the', 'success', 'of', 'Part', '4', ',', 'another', 'sequel', 'was', 'a', 'natural', 'move', '.', 'However', 'they', 'should', 'have', 'stopped', 'it', 'before', 'it', 'began', '.', 'Alice', ',', 'having', 'survived', 'Part', '4', 'finds', 'herself', 'pregnant', 'and', 'it', 'seems', 'Freddy', 'is', 'using', 'her', 'unborn', 'child', 'to', 'get', 'at', 'his', 'victims', ',', 'which', 'of', 'course', 'are', 'Alice', \"'s\", 'friends', '.', 'Strange', 'Nightmare', 'movie', ',', 'very', 'heavy', 'on', 'religious', 'imagery', 'and', 'bad', 'acting', '.', 'The', 'special', 'effects', 'are', 'good', ',', 'but', 'the', 'movie', 'itself', 'is', 'not', '.'], ['There', 'is', 'absolutely', 'no', 'plot', 'in', 'this', 'movie', '...', 'no', 'character', 'development', '...', 'no', 'climax', '...', 'nothing', '.', 'But', 'has', 'a', 'few', 'good', 'fighting', 'scenes', 'that', 'are', 'actually', 'pretty', 'good', '.', 'So', 'there', 'you', 'go', '...', 'as', 'a', 'movie', 'overall', 'is', 'pretty', 'bad', ',', 'but', 'if', 'you', 'like', 'a', 'brainless', 'flick', 'that', 'offer', 'nothing', 'but', 'just', 'good', 'action', 'scene', 'then', 'watch', 'this', 'movie', '.', 'Do', 'not', 'expect', 'nothing', 'more', 'that', 'just', 'that.Decent', 'acting', 'and', 'a', 'not', 'so', 'bad', 'direction..A', 'couple', 'of', 'cameos', 'from', 'Kimbo', 'and', 'Carano', '...', 'I', 'was', 'looking', 'to', 'see', 'Carano', 'a', 'little', 'bit', 'more', 'in', 'this', 'movie..she', 'is', 'a', 'good', 'fighter', 'and', 'a', 'really', 'hot', 'girl', '...', '.', 'White', 'is', 'a', 'great', 'martial', 'artist', 'and', 'a', 'decent', 'actor', '.', 'I', 'really', 'hope', 'he', 'can', 'land', 'a', 'better', 'movie', 'in', 'the', 'future', 'so', 'we', 'can', 'really', 'enjoy', 'his', 'art..Imagine', 'a', 'film', 'with', 'White', 'and', 'Jaa', 'together', '...', 'that', 'would', 'be', 'awesome'], ['I', 'hate', 'this', 'movie', '.', 'I', 'hate', 'the', 'show', '.', 'i', 'hate', 'just', 'about', 'everything', 'about', 'it', '.', 'it', \"'s\", 'so', 'annoying', 'and', 'stupid', '.', 'everyone', \"'s\", 'saying', 'that', 'nat', 'and', 'alex', 'wolff', 'are', 'heroes', 'in', 'the', 'music', 'world', 'and', 'that', 'they', \"'re\", 'going', 'to', 'make', 'it', 'big', '.', 'WHAT', 'KIND', 'OF', 'DRUGS', 'ARE', 'YOU', 'TAKING', '?', '?', '?', '!', '!', '!', '?', '!', '?', '!', '?', '!', '?', '!', 'nat', 'and', 'alex', 'are', 'going', 'to', 'end', 'up', 'as', 'either', 'hobos', 'or', 'end', 'up', 'like', 'Jane', 'Hudson', 'from', '``', 'Whatever', 'Happened', 'to', 'Baby', 'Jane', '?', \"''\", '.', 'i', 'could', 'only', 'get', 'through', 'not', 'even', '20', 'minutes', 'of', 'this', 'one', ',', 'barely', '30', 'seconds', 'of', 'the', 'show', ',', 'and', 'i', 'managed', 'to', 'survive', 'about', 'half', 'an', 'hour', 'of', \"'Battle\", 'of', 'the', 'Bands', \"'\", '.', 'How', 'anyone', 'could', 'cheer', 'for', 'these', 'guys', 'in', 'the', 'audience', 'at', 'the', 'Kid', \"'s\", 'Choice', 'Awards', ',', 'i', 'have', 'no', 'clue', '.', 'days', 'before', 'the', 'movie', 'premiere', 'on', 'Nick', ',', 'most', 'of', 'the', 'teen', 'girl', 'actresses', 'on', 'Nick', '(', 'Jamie', 'Spears', ',', 'Emma', 'Roberts', ',', 'Lindsey', 'Shaw', ',', 'etc', '.', ')', 'showed', 'up', 'in', 'a', 'commercial', 'influencing', 'brain-dead', 'kids', 'about', 'how', 'awesome', 'nat', 'and', 'alex', 'wolff', 'are', '.', 'first', 'off', ',', 'they', 'didn', ';', 't', 'trick', 'me', ',', 'and', 'second', 'of', 'all', ',', 'nat', 'and', 'alex', 'probably', 'either', 'drugged', 'them', 'or', 'payed', 'them', 'loads', 'of', 'money', 'in', 'order', 'to', 'say', 'that', 'and', 'sound', 'convincing', ',', 'because', 'i', 'do', \"n't\", 'see', 'how', 'anyone', 'could', 'find', 'this', 'show/movie', 'entertaining', '.', 'the', 'music', 'is', 'just', 'awful', '.', 'nat', \"'s\", 'singing', 'sounds', 'like', 'a', 'sick', ',', 'dying', 'moose', 'on', 'crack', '.', 'alex', 'is', 'the', 'most', 'annoying', 'movie/TV', 'show', 'character', 'EVER', '.', 'he', \"'s\", 'not', 'funny', ',', 'he', \"'s\", 'annoying', ',', 'he', \"'s\", 'really', 'weird', ',', 'and', 'he', 'thinks', 'he', \"'s\", 'hot', 'and', 'knows', 'everything', 'about', 'girls', '.', 'this', 'guy', \"'s\", 'lucky', 'if', 'he', 'ever', 'manages', 'to', 'get', 'laid', '.', 'you', 'know', 'this', 'show', 'is', 'fake', 'when', 'you', 'find', 'out', 'that', 'some', 'of', 'the', 'characters', '(', 'in', 'real', 'life', ')', 'do', \"n't\", 'even', 'exist', '!', '!', 'the', 'character', 'Jesse', 'is', 'actually', 'played', 'by', 'Nat', 'and', 'Alex', \"'s\", 'cousin', 'jesse', 'Draper', '(', 'they', 'mustve', 'had', 'some', 'budget', 'problem', ')', '.', 'Their', 'father', 'is', 'not', 'single', ',', 'he', \"'s\", 'married', 'to', 'Polly', 'Draper', ',', 'but', 'she', 'does', \"n't\", 'appear', 'on', 'the', 'show', ',', 'making', 'it', 'seem', 'the', 'Wolff', \"'s\", 'are', 'mom-less', '.', 'Rosalina', 'does', \"n't\", 'exist', 'either', '.', 'Her', 'name', 'is', 'Allie', 'DiMeco', '.', 'I', \"'ll\", 'tell', 'ya', ',', 'the', 'Naked', 'Brothers', 'are', 'gon', 'na', 'be', 'in', 'some', 'deep', 'sh**', 'when', 'their', '``', 'fans', \"''\", 'find', 'out', 'the', 'whole', 'thing', 'is', 'staged', '.', '0/10'], ['I', 'did', \"n't\", 'know', 'Willem', 'Dafoe', 'was', 'so', 'hard', 'up', 'for', 'bucks', 'that', 'he', \"'d\", 'disgrace', 'himself', 'with', 'such', 'shocking', 'hamming', 'in', 'this', 'monstrosity', '.', 'Hell', ':', 'I', \"'ll\", 'donate', 'that', 'money', 'that', 'I', 'was', 'going', 'to', 'send', 'to', 'Ethiopia', 'if', 'he', \"'s\", 'that', 'desperate', '.', 'I', 'have', 'never', 'seen', 'such', 'a', 'pathetic', 'and', 'disgusting', 'film', 'for', 'a', 'long', 'time', '...', 'who', 'paid', 'for', 'this', '?', 'They', 'are', 'either', 'pulling', 'some', 'tax', 'scam', 'or', 'insane', '.', 'A', '5-year', 'old', 'would', 'be', 'ashamed', 'of', 'the', 'plot', ',', 'and', 'I', \"'d\", 'rather', 'get', 'cancer', 'than', 'sit', 'through', 'more', 'than', 'the', 'hour', 'I', 'suffered', 'already', '.', 'Everybody', 'involved', 'should', 'be', 'locked', 'up', 'for', 'a', 'year', 'in', 'the', 'sodomy', 'wing', 'of', 'a', 'third', 'world', 'prison', '.', 'Avoid', 'at', 'all', 'costs', '.', 'I', \"'d\", 'give', 'it', 'minus', '10', 'if', 'possible', '...', 'unbelievable', '.'], ['Director', 'Kevin', 'Connor', 'and', 'wannabe', 'action-hero', '/', 'romantic', 'lead', 'Doug', 'McClure', ',', 're-team', 'in', 'this', 'ghost', 'story', 'set', 'in', 'Japan', '.', 'They', 'had', 'been', 'moderately', 'successful', 'together', 'in', 'the', '1970', \"'s\", ',', 'with', 'the', 'likes', 'of', \"'The\", 'Land', 'that', 'Time', 'Forgot', \"'\", '(', '1975', ')', ',', \"'At\", 'the', 'Earth', \"'s\", 'Core', \"'\", '(', '1976', ')', 'etc', '.', 'Without', 'plastic', 'monsters', 'to', 'carry', 'the', 'narrative', 'along', 'though', ',', 'the', 'results', 'are', 'shabby', 'and', 'derivative', 'in', 'the', 'most', 'corny', 'way', '.', 'The', 'film', 'begins', 'with', 'a', 'prologue', 'set', 'in', 'the', '19th', 'Century', ',', 'with', 'a', 'samurai', 'husband', 'killing', 'his', 'wife', 'and', 'her', 'lover', 'before', 'committing', 'suicide', '.', 'A', 'move', 'forward', 'to', 'the', 'present', 'introduces', 'married', 'couple', 'Ted', '&', 'Laura', ',', 'visiting', 'Japan', 'and', 'moving', 'in', 'to', 'the', 'house', 'where', 'the', 'tragedy', 'took', 'place', '.', 'No', 'surprises', 'as', 'to', 'what', 'happens', 'next', ',', 'with', 'the', 'spirits', 'of', 'the', 'dead', 'starting', 'to', 'take', 'over', 'the', 'new', 'inhabitants', 'with', 'family', 'friend', 'Alex', '(', 'McClure', ')', 'assuming', 'the', 'role', 'of', 'the', 'wife', \"'s\", 'lover', '.', 'Everything', 'rumbles', 'clumsily', 'along', 'with', 'the', 'elegance', 'and', 'grace', 'of', 'a', 'charging', 'elephant', ',', 'to', 'an', 'inevitable', '(', 'but', 'surprisingly', 'downbeat', ')', 'conclusion', '.', 'Main', 'points', 'of', 'interest', 'are', 'two', 'feeble', 'decapitations', '(', \"'The\", 'Omen', \"'\", 'has', 'a', 'lot', 'to', 'answer', 'for', 'in', 'promoting', 'this', 'as', 'a', 'standard', 'horror', 'set-piece', ')', ',', 'and', 'the', 'love-making', 'scenes', 'featuring', 'the', 'doe-eyed', 'but', 'extremely', 'kinky', 'Susan', 'George', '.', 'The', 'first', 'is', 'a', 'long', \"'Do\", \"n't\", 'Look', 'Now', \"'\", 'inspired', 'piece', 'with', 'her', 'hubby', ',', 'complete', 'with', 'piano', 'music', ';', 'the', 'second', 'a', 'much', 'shorter', '(', 'probably', 'at', 'her', 'insistence', ')', 'entanglement', 'with', 'McClure', ',', 'both', 'looking', 'pretty', 'uncomfortable', '.', 'Anyway', ',', 'every', 'cloud', 'has', 'a', 'silver', 'lining', 'and', 'both', 'scenes', 'show', 'of', 'her', 'fantastic', 'knockers', 'so', 'all', 'is', 'not', 'lost', '.', 'Overall', 'I', 'ca', \"n't\", 'decide', 'whether', \"'The\", 'House', 'where', 'Evil', 'Dwells', \"'\", 'is', 'rubbish', ',', 'watchable', 'rubbish', ',', 'or', 'entertaining', 'in', 'a', 'masochistic', 'kind', 'of', 'way', '.', 'If', 'you', \"'re\", 'not', 'into', 'the', 'genre', 'there', 'is', 'nothing', 'here', 'at', 'all', ',', 'but', 'for', 'horror', 'fans', 'there', 'is', 'probably', 'enough', 'to', 'provoke', 'the', 'odd', 'rye', 'smile', 'and', 'appreciative', 'nod', 'of', 'respect', 'for', 'effort', '.', 'BEST', 'SCENE', '-', 'in', 'any', 'other', 'film', 'the', 'big', ',', 'black', ',', 'tree-climbing', ',', 'Japanese-muttering', 'mechanical', 'crabs', 'would', 'have', 'stolen', 'the', 'show', '.', 'They', 'are', 'eclipsed', 'though', 'by', 'the', 'legendary', 'family', 'meal', 'scene', ',', 'where', 'a', 'ghostly', 'head', 'appears', 'in', 'the', 'daughters', 'soup', '.', 'On', 'seeing', 'this', 'apparition', 'she', 'asks', 'what', 'kind', 'of', 'soup', 'it', 'is', '(', '!', '!', '!', '!', ')', ',', 'to', 'be', 'told', 'beef', 'and', 'vegetable', ',', 'before', 'uttering', 'the', 'immortal', 'line', '``', 'Ugh', '-', 'there', \"'s\", 'an', 'awful', 'face', 'in', 'my', 'soup', \"''\", '.', 'If', 'this', 'was', \"n't\", 'enough', 'the', 'reply', 'is', '``', \"C'mon\", ',', 'eat', 'your', 'soup', 'for', 'Daddy', '.', \"''\", 'Laurel', '&', 'Hardy', 'rest', 'in', 'piece', '.'], ['Awesomely', 'improbable', 'and', 'foolish', 'potboiler', 'that', 'at', 'least', 'has', 'some', 'redeeming', ',', 'crisp', 'location', 'photography', ',', 'but', 'it', \"'s\", 'too', 'unbelievable', 'to', 'generate', 'much', 'in', 'the', 'way', 'of', 'tension', '.', 'I', 'was', 'kinda', 'hoping', 'that', 'Stanwyck', 'would', \"n't\", 'make', 'it', 'back', 'in', 'time', 'because', ',', 'really', ',', 'she', 'was', 'saddled', 'with', 'the', 'wet', ',', 'in', 'more', 'ways', 'than', 'one', ',', 'husband', ',', 'and', 'she', 'had', 'an', 'idiot', 'child', 'as', 'well..why', 'NOT', 'run', 'off', 'with', 'Meeker', '?', 'But', 'the', 'nagging', 'question', 'remains..what', 'sort', 'of', 'wood', 'was', 'that', 'pier', 'support', 'made', 'of', 'if', 'a', 'rotten', 'piece', 'of', 'it', 'pulled', 'off', 'did', \"n't\", 'float', '?', 'Stanwyck', ',', 'always', 'impeccably', 'professional', ',', 'does', 'the', 'best', 'she', 'could', 'with', 'the', 'material', 'but', 'it', \"'s\", 'threadbare', '.'], ['The', 'main', 'reason', 'for', 'writing', 'this', 'review', 'is', 'I', 'found', 'this', '``', 'revisioning', \"''\", 'of', 'a', 'great', 'play', 'and', 'worthy', '1972', 'film', ',', 'a', 'horrible', 'movie', 'experience', '.', 'If', 'I', 'can', 'save', 'someone', 'from', 'watching', 'it', ',', 'I', 'will', 'have', 'done', 'a', 'good', 'thing', '.', 'This', '``', 'new', \"''\", 'version', 'is', 'loaded', 'with', 'talent', ',', 'and', 'it', 'all', 'goes', 'wrong', '.', 'Kenneth', 'Branagh', 'OKs', 'an', 'ugly', ',', 'sterile', ',', 'one', 'note', 'set', '.', 'He', 'proceeds', 'to', 'film', 'the', 'movie', 'from', 'every', 'arty', ',', 'distracting', ',', 'self-centered', 'angle', 'possible', '.', 'We', 'see', 'reflections', 'of', 'the', 'actors', 'in', 'stainless', 'steel', ',', 'on', 'security', 'monitors', ',', 'shots', 'of', 'their', 'heads', 'from', '200', 'ft', 'above', ',', 'close', 'ups', 'of', 'eyes', ',', 'chins', ',', 'and', 'on', 'and', 'on', '.', 'The', 'screenplay', ',', 'by', 'a', 'Nobel', 'Laureate', ',', 'introduces', 'long', 'stretchs', 'of', 'unpleasant', 'homosexual', 'banter', ',', 'that', 'is', 'being', 'faked', 'by', 'both', 'parties', ',', '...', '.', 'I', 'think', '?', '?', 'Given', 'the', 'character', '``', 'twists', \"''\", 'how', 'would', 'I', 'know', '?', 'The', 'characters', 'themselves', ',', 'so', 'richly', 'drawn', 'in', 'the', 'original', ',', 'are', 'crass', 'and', 'unsympathetic', '.', 'The', 'running', 'time', 'has', 'been', 'cut', 'by', 'an', 'hour', ',', 'which', 'is', 'either', 'the', 'real', 'problem', 'or', 'the', 'kindest', 'thing', 'the', 'Director', 'did', 'for', 'us', '.', 'The', 'actors', 'perform', 'their', 'lines', 'effectively', ',', 'but', 'nothing', 'they', 'say', 'or', 'do', 'is', 'remotely', 'believable', '.', 'Jude', 'Law', 'is', 'over', 'the', 'top', 'more', 'than', 'Caine', ',', 'but', 'as', 'the', 'credited', 'Producer', ',', 'must', 'have', 'had', 'Branagh', \"'s\", 'blessing', '.', 'All', 'in', 'all', 'I', 'found', 'this', 'to', 'be', 'an', 'ugly', 'to', 'look', 'at', ',', 'unconvincing', 'shell', 'of', 'a', 'former', 'classic', '.', 'Why', 'was', 'it', 'even', 'made', '?', '?', '?', 'The', 'paying', 'public', 'spent', 'less', 'that', '$', '4M', 'worldwide', 'to', 'see', 'it', '!', 'A', 'vanity', 'piece', 'of', 'work', 'that', 'fails', 'at', 'every', 'turn', '.'], ['there', 'are', 'those', 'movies', 'that', 'are', 'bad', 'they', 'are', 'funny', ',', 'then', 'there', 'are', 'those', 'where', 'you', 'scream', '``', 'i', 'want', 'that', 'one', 'and', 'a', 'half', 'hours', 'of', 'my', 'life', 'back', \"''\", '...', 'thats', 'pretty', 'much', 'what', 'this', 'is', '.', 'dean', 'cain', 'tries', 'to', 'be', 'an', 'actor', 'but', 'fails', '.', 'the', 'sfx', 'are', 'really', 'bad', '(', 'repeated', 'scenes', 'and', 'rocks', 'that', 'look', 'like', 'falling', 'paper', ')', 'and', 'the', 'fake', 'plastic', 'guns', 'that', 'have', 'torches', 'taped', 'on', 'them', '...', 'the', 'split', 'screen', 'effect', 'used', 'to', 'show', 'multiple', 'things', 'happening', 'at', 'once', 'is', 'just', 'terrible', '.', 'this', 'movie', 'cant', 'even', 'be', 'used', 'as', 'one', 'of', 'those', 'simple', 'night', 'entertainers', ',', 'its', 'just', 'that', 'bad', 'if', 'i', 'could', 'go', 'negative', 'ratings', ',', 'i', 'would'], ['Cheap', ',', 'mediocre', 'sequel', 'to', 'the', 'successful', '``', 'The', 'Mummy', \"'s\", 'Hand', \"''\", 'has', 'presumably', 'dead', 'evil', 'Professor', 'Andoheb', '(', 'George', 'Zucco', ')', 'preparing', 'his', 'predecessor', 'Mehemet', 'Bey', '(', 'Turhan', 'Bey', ')', 'for', 'the', 'quest', 'of', 'revenge', 'overseas', 'to', 'America', 'using', 'mummy', 'Kharis', '(', 'Lon', 'Chaney', ',', 'Jr', 'who', 'has', 'no', 'reason', 'being', 'in', 'the', 'disguise..any', 'stunt', 'man', 'could', 'do', 'the', 'same', 'credible', 'work', 'lumbering', 'around', 'and', 'choking', 'victims', ')', 'in', 'the', 'goal', 'of', 'killing', 'the', 'surviving', 'members', 'of', 'the', 'Banning', 'family', 'whose', 'patriarch', 'Stephen', '(', 'Dick', 'Foran', ')', 'and', 'assistant', 'Babe', 'Hanson', '(', 'Wallace', 'Ford', ')', 'retrieved', 'the', 'mummified', 'corpse', 'of', 'Princess', 'Ananka', 'from', 'her', 'tomb', 'in', 'Egypt..Andoheb', 'considers', 'this', 'an', 'outlandish', 'act', 'of', 'desecration', 'and', 'wants', 'the', 'family', 'to', 'suffer', 'for', 'doing', 'such', 'an', 'awful', 'deed', 'towards', 'an', 'ancient', 'Egyptian', 'custom', '.', 'Bey', 'and', 'the', 'mummy', 'Kharis', 'find', 'a', 'nice', 'hideaway', 'in', 'a', 'cemetery', 'where', 'the', 'High', 'Priest', 'of', 'Karnak', 'can', 'work', 'as', 'a', 'caretaker', 'in', 'disguise', '.', 'Every', 'Full', 'Moon', ',', 'Bey', 'will', 'feed', 'Kharis', 'a', 'form', 'of', 'liquid', 'derived', 'of', 'several', 'Tana', 'leaves', 'which', 'will', 'keep', 'him', 'not', 'only', 'alive', 'but', 'subservient', 'to', 'his', 'master', \"'s\", 'wishes', '.', 'Bey', 'commands', 'Kharis', 'to', 'kill', 'Stephen', 'and', 'his', 'sister', 'Jane', '(', 'Mary', 'Gordon', ')', ',', 'while', 'also', 'biding', 'time', 'for', 'Babe', 'to', 'return', 'so', 'that', 'he', 'will', 'become', 'victim', '#', '3', '.', 'Dr.', 'John', 'Banning', '(', 'John', 'Hubbard', ')', 'plans', 'to', 'wed', 'Isobel', '(', 'Elyse', 'Knox', ')', ',', 'but', 'does', \"n't\", 'know', 'that', 'Bey', 'secretly', 'covets', 'his', 'fiancé', 'making', 'plans', 'to', 'kidnap', 'her', 'with', 'Kharis', \"'\", 'help', '.', 'John', \"'s\", 'life', 'is', 'in', 'danger', 'because', 'of', 'his', 'father..he', \"'s\", 'also', 'the', 'last', 'remaining', 'member', 'of', 'the', 'Banning', 'line', '.', 'If', 'Bey', 'has', 'Isobel', ',', 'there', \"'s\", 'no', 'chance', 'of', 'any', 'more', 'Bannings', 'being', 'born', '.', 'The', 'police', 'must', 'find', 'Kharis', 'and', 'the', 'one', 'responsible', 'for', 'his', 'carnage..Bey', '.', 'This', 'film', 'is', 'a', 'continuation', 'from', 'HAND', 'set', 'years', 'later', 'as', 'members', 'of', 'that', 'film', ',', 'Foran', ',', 'Ford', '&', 'Zucco', 'all', 'appear', 'in', '``', 'aging', \"''\", 'make-up', 'providing', 'wrinkles', 'showing', 'the', 'gaps', 'in', 'time', 'as', 'Andoheb', 'has', 'been', 'preparing', 'for', 'the', 'deaths', 'of', 'the', 'Bannings', '.', 'The', 'cornball', 'romance', 'of', 'John', 'and', 'Isobel', 'seems', 'merely', 'in', 'this', 'plot', 'so', 'that', 'Bey', 'will', 'screw', 'up', 'endangering', 'his', 'perfect', 'plan', 'which', 'was', 'being', 'carried', 'out', 'successfully', 'before', 'he', 'loused', 'it', 'up', '.', 'And', ',', 'Bey', 'merely', 'sees', 'her', 'frolicking', 'with', 'John', 'on', 'the', 'grass..the', 'whole', '``', 'love-at-first-sight', \"''\", 'rubbish', 'really', 'did', \"n't\", 'wash', 'for', 'me', '.', 'Plus', 'you', 'have', 'the', 'mummy', 'being', 'able', 'to', 'kill', 'people', 'with', 'one', 'arm..is', 'any', 'mummy', 'really', 'THAT', 'powerful', '?', 'This', 'film', 'also', 'uses', 'a', 'ton', 'of', 'footage', 'from', 'the', 'previous', 'film', 'to', 'save', 'budget', 'on', 'this', 'sequel', 'to', 'it', '.', 'There', 'really', 'is', \"n't\", 'that', 'much', 'story', 'here', 'and', 'yes', ',', 'typical', 'of', 'Universal', 'monster', 'pictures', ',', 'even', 'in', 'America', 'a', 'mob', 'of', 'people', 'will', 'light..ho', 'hum..torches', 'going', 'after', 'Kharis', '.', 'You', 'know', 'how', 'it', \"'ll\", 'end..John', 'and', 'the', 'super-powerful', 'Kharis', 'will', 'square', 'off', 'in', 'some', 'huge', 'mansion', 'with', 'fire', 'burning', 'all', 'around', 'them', 'with', 'the', 'evil', 'one', 'being', 'engulfed', 'in', 'flame', '.'], ['I', 'remember', 'Devil', 'Dog', 'playing', 'on', 'TBS', 'almost', '20', 'years', 'ago', ',', 'and', 'my', 'older', 'sister', 'and', 'her', 'friends', 'watching', 'it', 'and', 'laughing', 'all', 'the', 'next', 'day', '.', 'It', \"'s\", 'not', 'that', 'bad', 'for', 'a', 'made-for-TV', 'horror', 'movie', ',', 'but', 'it', 'is', 'derivative', '(', 'mostly', 'of', 'The', 'Exorcist', ')', 'and', 'businesslike', ',', 'for', 'lack', 'of', 'a', 'better', 'word', '.', 'It', 'wo', \"n't\", 'blow', 'you', 'away', 'with', 'artful', 'cinematography', 'or', 'great', 'acting', ',', 'but', 'it', \"'s\", 'not', 'a', 'waste', 'of', 'time', ',', 'either', '.', 'It', \"'s\", 'the', 'kind', 'of', 'movie', 'you', 'watch', 'to', 'kill', 'a', 'couple', 'of', 'hours', 'when', 'you', 'are', \"n't\", 'in', 'the', 'mood', 'to', 'think', 'too', 'hard', '.', 'However', ',', 'if', 'you', 'go', 'into', 'the', 'movie', 'looking', 'for', 'some', 'laughs', ',', 'you', 'wo', \"n't\", 'be', 'disappointed', '.', 'The', 'early', 'scenes', ',', 'with', 'Lucky', 'the', 'Devil', 'Dog', 'as', 'a', 'cute', 'little', 'puppy', 'with', 'Children', 'of', 'the', 'Damned', 'eyes', 'are', 'hilariously', 'non-threatening', ',', 'and', 'the', 'climactic', 'blue-screen', 'effects', 'of', 'a', 'giant', 'black', 'dog', '(', 'with', 'horns', '!', ')', 'are', 'pretty', 'side-splitting', '.', 'And', 'keep', 'an', 'eye', 'out', 'for', 'the', 'cloaked', 'Satanist', 'in', 'Maverick', 'shades', 'toward', 'the', 'beginning', '.', 'Not', 'a', 'great', 'horror', 'film', 'by', 'any', 'stretch', 'of', 'the', 'imagination', ',', 'but', 'I', 'wish', 'they', 'still', 'made', 'stuff', 'like', 'this', 'for', 'TV', '.'], ['If', 'you', 'are', 'the', 'sort', 'of', 'person', 'who', 'can', 'get', 'a', 'kick', 'out', 'of', 'a', 'very', 'bad', 'movie', ',', 'then', 'I', 'highly', 'recommend', 'this', 'one', '.', 'If', 'you', 'are', \"n't\", ',', 'stay', 'away', '.', 'This', 'is', 'an', 'astonishingly', 'cheap-looking', 'movie', ',', 'and', 'at', 'times', 'you', 'may', 'find', 'yourself', 'wondering', 'if', 'it', 'is', \"n't\", 'just', 'a', 'prank', 'someone', 'is', 'pulling', 'on', 'you', '.', 'The', 'most', 'positive', 'comment', 'I', 'can', 'make', 'about', 'it', 'is', 'that', 'the', 'people', 'responsible', 'seemed', 'to', 'realize', 'that', 'it', 'was', 'super-low-budget', 'nonsense', ',', 'so', 'there', 'is', 'at', 'least', 'a', 'sense', 'of', 'fun', 'here', '.', 'But', 'this', 'is', 'as', 'amateurish', 'as', 'it', 'gets', '.', 'Their', 'idea', 'of', 'giant', 'killer', 'mushrooms', 'are', 'simply', 'guys', 'covered', 'with', 'beige', 'colored', 'sheets', 'with', 'what', 'looks', 'like', 'trash', 'can', 'covers', 'on', 'their', 'heads', '.', 'It', \"'s\", 'obviously', 'not', 'meant', 'to', 'be', 'taken', 'seriously', '(', 'to', 'say', 'the', 'least', ')', ',', 'but', 'even', 'with', 'that', 'disclaimer', 'you', \"'ll\", 'find', 'yourself', 'shaking', 'your', 'head', 'at', 'the', 'awesome', 'cheesiness', 'of', 'it', 'all', '.', 'Or', 'laughing', 'out', 'loud', 'frequently', ',', 'as', 'I', 'did', '.'], ['That', 'this', 'poor', 'excuse', 'for', 'an', 'amateur', 'hour', 'showcase', 'was', 'heralded', 'at', 'Sundance', 'is', 'a', 'great', 'example', 'of', 'what', 'is', 'wrong', 'with', 'most', 'indie', 'filmmakers', 'these', 'days', '.', 'First', 'of', 'all', ',', 'there', 'is', 'such', 'a', 'thing', 'as', 'the', 'art', 'of', 'cinematography', '.', 'Just', 'picking', 'up', 'a', '16mm', 'camera', 'and', 'pointing', 'it', 'at', 'whomever', 'has', 'a', 'line', 'does', 'not', 'make', 'for', 'a', 'real', 'movie', '.', 'I', 'guess', 'we', 'have', 'to', 'consider', 'ourselves', 'lucky', 'the', 'director', 'did', \"n't\", 'pick', 'up', 'someone', \"'s\", 'camcorder', '...', 'Second', ',', 'indie', 'films', 'are', 'supposed', 'to', 'be', 'about', 'real', 'people', '.', 'There', \"'s\", 'nothing', 'real', 'in', 'this', 'film', '.', 'None', 'of', 'the', 'characters', 'come', 'across', 'as', 'being', 'even', 'remotely', 'human', '.', 'What', 'they', 'come', 'across', 'as', 'being', 'is', 'figments', 'of', 'the', 'imagination', 'of', 'a', 'writer', 'trying', 'to', 'impress', 'his', 'buddies', 'by', 'showing', 'them', 'how', '``', 'cool', 'and', 'edgy', \"''\", 'he', 'is', '.', 'Sorry', ',', 'but', 'this', 'is', 'not', 'good', 'writing', ',', 'or', 'good', 'directing', '.', 'What', 'is', 'left', 'is', 'a', 'husk', 'of', 'a', 'bad', 'movie', 'that', 'somehow', 'made', 'its', 'way', 'to', 'Sundance', '.', 'Hard', 'to', 'believe', 'this', 'was', 'one', 'of', 'the', 'best', 'films', 'submitted', '...', 'In', 'any', 'case', ',', 'it', 'made', 'me', 'loose', 'what', 'was', 'left', 'of', 'my', 'respect', 'for', 'the', 'Sundance', 'brand', '.'], ['Remember', 'when', 'Harrison', 'Ford', 'was', 'the', 'biggest', 'star', 'in', 'Hollywood', 'because', 'he', 'made', 'great', 'movies', '?', 'Those', 'days', 'are', 'feeling', 'like', 'a', 'more', 'and', 'more', 'distant', 'memory', '.', 'While', '``', 'Hollywood', 'Homicide', \"''\", 'is', 'by', 'no', 'means', 'terrible', ',', 'it', 'is', 'a', 'routine', 'and', 'surprisingly', 'boring', 'buddy', 'cop', 'movie', '.', 'It', \"'s\", 'a', 'comedy', 'that', \"'s\", 'not', 'particularly', 'funny', ',', 'and', 'an', 'action', 'movie', 'that', \"'s\", 'not', 'especially', 'exciting', '.', 'An', 'overabundance', 'of', 'subplots', 'can', 'not', 'mask', 'the', 'weakest', 'of', 'the', 'central', 'storyline', '.', 'Ford', 'at', 'least', 'appears', 'to', 'be', 'enjoying', 'himself', 'more', 'than', 'is', 'his', 'last', 'few', 'projects', ',', 'and', 'he', 'is', 'able', 'to', 'carry', 'the', 'film', 'most', 'of', 'the', 'time', '.', 'Hartnett', 'is', 'adequate', ',', 'but', 'he', 'and', 'Ford', 'are', \"n't\", 'exactly', 'Newman', 'and', 'Redford', 'as', 'far', 'as', 'chemistry', 'is', 'concerned', '.', 'All', 'in', 'all', ',', '``', 'Hollywood', 'Homicide', \"''\", 'is', 'a', 'reasonably', 'amusing', 'diversion', ',', 'but', 'just', 'barely', '.', 'Take', 'out', 'Ford', ',', 'and', 'it', \"'s\", 'not', 'even', 'that', '.'], ['The', '``', 'Wrinkle', 'in', 'Time', \"''\", 'book', 'series', 'is', 'my', 'favorite', 'series', 'from', 'childhood', '.', 'I', 'have', 'read', 'and', 're-read', 'them', 'more', 'times', 'than', 'I', 'can', 'count', 'over', 'the', 'last', '35+', 'years', '.', 'The', 'characters', ',', 'with', 'all', 'their', 'virtues', 'and', 'flaws', ',', 'are', 'near', 'and', 'dear', 'to', 'my', 'heart', '.', 'This', 'adaptation', 'contained', 'very', 'little', 'of', 'the', 'wonderful', ',', 'magical', ',', 'spiritual', 'story', 'that', 'I', 'love', 'so', 'much', '.', 'To', 'say', 'I', 'was', 'disappointed', 'with', 'this', 'film', 'would', 'be', 'a', 'great', 'understatement', '.', 'If', 'you', 'have', 'never', 'read', 'the', 'book', '(', 's', ')', 'I', 'imagine', 'you', 'will', 'enjoy', 'the', 'movie', '.', 'The', 'acting', 'is', 'passable', ',', 'the', 'special', 'effects', 'are', 'well', 'done', 'for', 'a', 'made', 'for', 'TV', 'movie', ',', 'and', 'the', 'story', 'is', 'interesting', '.', 'However', ',', 'if', 'you', 'love', 'the', 'books', ',', 'avoid', 'this', 'movie', 'at', 'all', 'costs', '.', 'I', 'found', 'this', 'statement', 'at', 'the', 'Wikipedia', 'page', 'of', 'the', 'novel', ':', '``', 'In', 'an', 'interview', 'with', 'Newsweek', ',', \"L'Engle\", 'said', 'of', 'the', 'film', ',', \"'I\", 'expected', 'it', 'to', 'be', 'bad', ',', 'and', 'it', 'is', '.', \"'\", \"''\", 'I', ',', 'like', 'another', 'reviewer', 'here', ',', 'feel', 'the', 'need', 'to', 'read', 'the', 'book', 'again', 'to', 'dispel', 'this', 'movie', 'from', 'my', 'mind', '.'], ['OK', 'OK', ',', 'it', 'might', 'be', 'hard', 'to', 'put', 'the', 'entirety', 'of', 'a', 'man', \"'s\", 'life', 'in', 'one', 'film', '.', 'Traditionally', 'therefore', ',', 'biopics', 'focus', 'on', 'one', 'or', 'two', 'significant', 'parts', 'in', 'the', 'subject', \"'s\", 'life', '.', 'Now', ',', 'Byron', 'was', 'a', '``', 'my', 'week', 'beats', 'your', 'year', \"''\", 'fellow', ',', 'which', 'makes', 'selecting', 'parts', 'that', 'are', 'representative', 'even', 'harder', '.', 'Furthermore', ',', 'just', 'as', 'Byron', \"'s\", 'poetry', 'is', 'inseparable', 'from', 'his', 'life', ',', 'the', 'man', \"'s\", 'life', 'itself', 'must', 'be', 'seen', 'as', 'a', 'whole', '.', 'Lifting', 'parts', 'out', 'is', 'not', 'only', 'not', 'showing', 'the', 'whole', 'picture', ',', 'it', \"'s\", 'showing', 'a', 'different', 'picture', 'altogether', '.', 'Now', ',', 'in', 'short', 'my', 'review', 'comes', 'down', 'to', 'this', ':', 'supposedly', ',', 'Byron', 'was', 'indeed', 'the', '``', 'my', 'week', 'beats', 'your', 'year', \"''\", 'prototype', ',', 'a', 'guy', 'who', 'lived', 'so', 'intensely', 'that', 'he', 'indeed', 'did', 'more', 'in', 'his', '15', 'or', 'so', 'active', 'years', 'than', 'most', 'do', 'in', 'an', 'entire', 'lifetime', '.', 'True', ',', 'he', 'had', 'setbacks', 'and', 'was', 'a', 'victim', 'of', 'the', 'time', 'and', 'social', 'setting', 'he', 'lived', 'in', '-', 'but', 'in', 'the', 'end', ',', 'this', 'dude', 'is', 'supposed', 'to', 'be', 'the', 'prototype', 'whose', 'life', 'we', \"'d\", 'all', 'want', 'to', 'lead', ',', 'no', '?', 'Well', ',', 'I', 'did', 'NOT', ',', 'at', 'ANY', 'moment', ',', 'want', 'to', 'live', 'the', 'life', 'depicted', 'in', 'this', 'film', '.', 'So', 'it', 'gets', '3', '.', 'Not', 'for', 'being', 'so', 'badly', 'done', '(', 'which', ',', 'direction-wise', ',', 'it', 'more', 'or', 'less', 'was', ')', ',', 'but', 'more', 'importantly', 'for', 'missing', 'the', 'point', 'entirely', 'in', 'a', 'flat', 'plot', '.', 'Some', 'more', 'detail', '.', 'Well', ',', 'to', 'over', 'simplify', 'things', ',', 'a', 'Byron', 'bio', 'should', 'have', 'two', 'distinct', 'episodes', ':', '1', '.', 'Post-first', 'Europe', 'trip', ':', 'England', 'and', 'his', 'rise', 'to', 'fame', '+', 'marriage', '/', '2', '.', 'His', 'life', 'abroad', '.', 'Now', ',', 'the', 'important', 'thing', 'is', 'that', 'the', 'SECOND', 'part', 'should', 'be', 'at', 'least', 'as', 'important', 'as', 'the', 'first', '.', 'Not', 'only', 'was', 'it', 'a', 'lot', 'longer', ',', 'but', 'the', 'most', 'significant', 'change', 'in', 'Byron', 'took', 'place', 'then', '.', 'Furthermore', ',', 'it', \"'s\", 'where', 'he', 'created', 'his', 'best', 'works', '(', 'Don', 'Juan', ',', 'the', 'Vision', 'of', 'Judgement', 'etc', '.', '-', 'all', 'the', 'stuff', 'that', 'makes', 'him', '*really*', 'unique', 'in', 'English', 'literature', ')', '.', 'Instead', ',', 'in', 'this', 'film', '(', 'a', ')', 'Byron', \"'s\", 'life', 'never', 'comes', 'across', 'as', 'even', 'remotely', 'entertaining', ',', '(', 'b', ')', 'it', 'only', 'gets', '*worse*', 'after', 'he', 'leaves', 'England', '.', 'They', 'did', 'two', 'good', 'jobs', ':', 'first', ',', 'they', 'started', 'at', 'his', 'return', 'of', 'his', 'Europe', 'trip', '(', 'though', 'a', 'bit', 'more', 'of', 'the', 'actual', 'trip', 'would', 'have', 'been', 'welcome', 'as', 'a', 'prologue', ')', ',', 'second', ',', 'they', 'chose', 'an', 'angle', ',', 'and', 'they', 'chose', 'his', 'incestuous', 'love', 'for', 'Augusta', '(', 'who', 'is', 'rather', 'perfectly', 'cast', ')', '.', 'The', 'problem', 'with', 'this', 'last', 'thing', 'is', 'that', 'they', 'never', 'let', 'it', 'go', '.', 'True', ',', 'Byron', 'remained', 'strongly', 'attached', 'to', 'Augusta', 'for', 'the', 'rest', 'of', 'his', 'life', ',', 'but', ',', 'especially', 'as', 'he', 'was', 'such', 'a', 'mood', 'swing', 'person', ',', 'the', 'fact', 'that', 'his', 'letters', 'reflect', 'that', 'does', 'not', 'mean', 'that', 'at', 'other', 'times', 'he', 'might', 'not', 'have', 'completely', 'enjoyed', 'life', '.', 'Anyway', ',', 'the', 'first', 'part', 'of', 'the', 'TV', 'film', 'should', 'have', 'ended', 'with', 'him', 'leaving', 'England', '.', 'There', \"'s\", 'no', 'doubt', 'about', 'that', '.', 'The', 'thing', 'is', ':', 'once', 'abroad', ',', 'a', 'life', 'of', 'debauchery', 'began', '(', 'with', 'the', 'infamous', 'Geneva', 'period', ')', ',', 'but', 'in', 'Italy', 'Byron', 'also', 'discovered', 'a', 'new', 'life', ',', 'both', 'for', 'his', 'poetry', '(', 'inspired', 'by', 'Italian', 'comedy', ')', ',', 'already', 'in', 'Venice', ',', 'and', 'for', 'himself', 'when', 'he', 'found', 'the', 'Contessa', 'Teresa', 'Guiccioli', 'and', 'moved', 'to', 'Ravenna', '(', 'afterwards', ',', 'at', 'the', 'request', 'of', 'Shelly', ',', 'with', 'Teresa', ',', 'to', 'Pisa', ')', '.', 'In', 'other', 'words', ',', 'he', 'was', 'also', '*liberated*', '.', 'His', 'mind', 'and', 'life', 'opened', 'up', '(', 'and', 'not', 'only', 'in', 'the', 'decadent', 'sense', ')', ',', 'while', 'England', \"'s\", 'closed', 'further', 'as', 'it', 'fell', 'into', 'the', 'gravitational', 'pull', 'of', 'the', 'Victorian', 'age', '.', 'True', ',', 'freedom', 'was', 'Augusta-less', ',', 'but', 'this', 'bitter-sweet', 'freedom', 'tastes', 'sour', 'in', 'this', 'film', '.', 'We', 'see', 'a', 'lonely', ',', 'bored', 'snob', 'getting', 'older', '.', 'I', 'mean', ',', 'hell', ',', 'Byron', 'never', 'thought', 'much', 'about', 'his', 'poetry', ',', 'except', 'when', 'he', 'finally', 'found', 'his', 'own', 'voice', 'in', 'Don', 'Juan', '!', 'Apart', 'from', 'poetic', 'and', 'romantic', 'developments', ',', 'his', 'relationship', 'with', 'Shelly', '(', 'and', 'the', 'down-break', ')', 'should', 'have', 'been', 'more', 'documented', '.', 'Also', ',', 'it', 'is', 'in', 'Italy', 'in', 'Ravenna', 'that', 'he', 'gets', 'involved', 'with', 'politics', 'and', 'revolutionary', 'ideas', '.', 'This', 'is', 'important', ',', 'as', 'it', 'shows', 'that', 'the', 'decadent', 'romantic', 'and', 'ultimately', 'escapist', 'language', 'and', 'person', 'of', 'Childe', 'Harold', 'is', 'changing', 'into', 'the', 'more', 'planted-in-life', 'realistic', 'and', 'lighter', 'passion', 'of', 'the', 'language', 'and', 'person', 'of', 'Don', 'Juan', '.', 'Life', 'and', 'work', 'are', 'one', '.', 'True', ',', 'still', 'a', 'bit', 'naive', ',', 'but', 'it', \"'s\", 'what', 'got', 'him', 'to', 'Greece', '!', 'And', 'the', 'whole', 'thing', 'came', 'full', 'circle', 'in', 'Pisa', ',', 'where', 'Shelley', \"'s\", 'revolutionary', 'spirit', 'further', 'ignited', 'the', 'spark', '.', 'Missolonghi', 'was', \"n't\", 'the', 'bored', 'snob', 'suddenly', 'looking', 'for', 'some', 'action', '.', 'It', 'was', 'the', 'insights', 'in', 'Italy', '(', 'the', 'Gambas', ')', 'stirring', 'him', 'into', 'action', '.', 'It', 'can', 'be', 'a', 'symbol', 'for', 'the', 'man', 'looking', 'for', 'some', 'ancient-style', 'battle', 'excitement', 'while', 'the', 'rest', 'of', 'Europe', 'becomes', 'fixed', 'in', 'the', 'clay', 'of', 'modern', 'reason', 'and', 'conservatism', '.', 'But', 'it', 'was', \"n't\", 'just', 'that', ',', 'there', 'was', 'a', 'true', 'inspiration', 'behind', 'it', '.', 'Meanwhile', ',', 'Byron', 'wrote', 'massive', 'amounts', 'of', 'Don', 'Juan', '.', 'True', ',', 'his', 'end', 'is', 'a', 'bit', 'sad', ',', 'but', 'it', \"'s\", 'not', 'like', 'he', \"'s\", 'worn', 'out', '.', 'THAT', 'is', 'the', 'essence', 'of', 'Byron', \"'s\", 'life', ':', 'he', 'may', 'have', 'had', 'some', 'strong', 'emotional', 'attachments', '(', '2', ':', 'Augusta', 'and', 'Teresa', ')', ',', 'but', 'EVERY', 'time', 'he', 'managed', 'to', 'reinvent', 'himself', 'truly', '.', 'Meaning', 'that', 'he', 'was', \"n't\", \"'less\", \"'\", 'at', 'the', 'end', 'of', 'his', 'life', '-', 'no', ',', 'he', \"'d\", 'made', 'a', 'physical', 'and', 'mental', 'JOURNEY', 'that', ',', 'at', 'the', 'time', ',', 'few', 'people', 'were', 'prepared', 'to', 'make', '.', 'I', 'wonder', '.', 'Why', 'is', 'it', 'that', 'so', 'often', 'the', 'second', 'period', 'in', 'Byron', \"'s\", 'life', 'is', 'overlooked', '?', 'Because', 'it', 'had', 'less', 'obvious', 'conflicts', ',', 'as', 'the', 'man', 'was', 'finally', 'coming', 'to', 'his', 'own', '?', 'In', 'focusing', 'our', 'attention', 'on', 'the', 'frustrated', 'England', 'years', 'fraught', 'with', 'scandals', ',', 'we', 'show', 'ourselves', 'to', 'be', 'not', 'much', 'better', 'than', 'the', 'English', 'aristocracy', 'at', 'the', 'time', ',', 'which', 'Byron', 'so', 'despised', ',', 'and', 'which', ',', 'despite', 'the', 'fact', 'that', 'he', 'had', 'no', 'choice', ',', 'he', '*willingly*', 'fled', 'in', '1816', ',', 'to', 'find', 'a', 'world', 'that', 'was', 'modern', 'and', 'liberal', 'enough', 'to', 'let', 'him', 'find', 'the', 'voice', 'that', 'would', 'make', 'him', 'the', 'first', 'romantic', 'plainspoken', 'language', 'poet', 'and', 'evolve', 'from', 'a', 'self-obsessed', 'snob', 'to', 'a', 'passionate', 'man', 'moving', 'onward', 'with', 'a', 'cause', '.'], ['Awful', ',', 'simply', 'awful', '.', 'It', 'proves', 'my', 'theory', 'about', '``', 'star', 'power', '.', \"''\", 'This', 'is', 'supposed', 'to', 'be', 'great', 'TV', 'because', 'the', 'guy', 'who', 'directed', '(', 'battlestar', ')', 'Titanica', 'is', 'the', 'same', 'guy', 'who', 'directed', 'this', 'shlop', 'schtock', 'schtick', 'about', 'a', 'chick', '.', 'B', 'O', 'R', 'I', 'N', 'G.', 'Find', 'something', 'a', 'thousand', 'times', 'more', 'interesting', 'to', 'do', '-', 'like', 'watch', 'your', 'TV', 'with', 'no', 'picture', 'and', 'no', 'sound', '.', '1/10', '(', 'I', 'rated', 'it', 'so', 'high', 'b/c', 'there', 'are', \"n't\", 'any', 'negative', 'scores', 'in', 'the', 'IMDb.com', 'rating', 'system', '.', ')', '-Zaphoid', 'PS', ':', 'My', 'theory', 'about', '``', 'star', 'power', \"''\", 'is', ':', 'the', 'more', '``', 'star', 'power', \"''\", 'used', 'in', 'a', 'show', ',', 'the', 'weaker', 'the', 'show', 'is', '.', '(', 'It', \"'s\", 'called', 'an', 'indirect', 'proportionality', ':', 'quality', '1/', \"''\", 'star', 'power', \"''\", ',', 'less', '``', 'sp', \"''\", 'makes', 'for', 'better', 'quality', ',', 'etc', '.', 'Another', 'way', 'to', 'look', 'at', 'it', 'is', ':', '``', 'more', 'is', 'less', '.', \"''\", ')', '-Z'], ['Although', 'a', 'film', 'with', 'Bruce', 'Willis', 'is', 'always', 'worth', 'watching', ',', 'you', 'better', 'skip', 'this', 'one', '.', 'I', 'watched', 'this', 'one', 'on', 'television', ',', 'so', 'I', 'did', \"n't\", 'have', 'to', 'plunk', 'down', 'cash', 'for', 'it', '.', 'Lucky', 'me', '.', 'The', 'plot', 'develops', 'slowly', ',', 'very', 'slowly', '.', 'Although', 'the', 'first', '30', 'minutes', 'or', 'so', 'are', 'quite', 'believable', ',', 'it', 'gets', 'more', 'and', 'more', 'unbelievable', 'towards', 'the', 'end', '.', 'It', 'is', 'highly', 'questionable', ',', 'if', 'a', 'seasoned', 'soldier', 'like', 'Lt', '.', 'Waters', 'would', 'disobey', 'direct', 'orders', '.', 'And', 'even', 'if', 'he', 'would', ',', 'if', 'the', 'rest', 'of', 'his', 'platoon', 'would', '.', 'They', 'know', 'he', 'puts', 'them', 'in', 'direct', 'danger', ',', 'and', 'they', 'know', 'they', 'will', 'certainly', 'die', 'if', 'they', 'follow', 'him', ',', 'but', 'what', 'the', 'heck', ',', 'he', 'is', 'our', 'Lt.', 'so', 'let', \"'s\", 'do', 'what', 'he', 'says', '(', 'despite', 'the', 'direct', 'orders', ',', 'remember', ')', '.', 'Still', ',', 'there', 'are', 'some', 'nice', 'scenes', 'in', 'this', 'movie', '.', 'They', 'somewhat', 'save', 'a', 'village', ',', 'where', 'the', 'total', 'population', 'is', 'being', 'massacred', 'by', 'the', 'rebels', '.', 'Well', ',', 'they', 'save', 'a', 'dozen', 'villagers', 'or', 'so', ',', 'the', 'rest', 'was', 'already', 'killed', '.', 'The', 'strange', 'part', 'of', 'it', ',', 'that', 'they', 'did', 'take', 'the', 'trucks', 'which', 'the', 'rebels', 'left', 'behind', '.', 'They', 'rather', 'go', 'on', 'foot', '.', 'Maybe', 'because', 'the', 'roads', 'are', 'unsafe', ',', 'but', 'there', 'was', 'no', 'explanation', 'for', 'it', '.', 'Anyway', '.', 'I', 'think', 'this', 'was', 'what', 'earned', 'the', 'movie', 'the', 'one', 'point', 'I', 'gave', 'it', '.', 'What', 'made', 'this', 'movie', 'an', 'insult', 'to', 'the', 'brain', 'and', 'hence', 'completely', 'unbelievable', 'is', 'that', 'a', 'group', 'of', '7', 'soldiers', 'can', 'kill', 'of', 'so', 'many', 'rebels', 'without', 'being', 'hurt', 'or', 'killed', 'themselves', '.', 'Only', 'near', 'the', 'end', 'they', 'loose', 'a', 'few', 'comrades', '.', 'And', 'that', 'is', 'only', 'because', 'they', 'have', 'to', 'fight', 'of', 'an', 'army', 'of', 'nearly', '500', 'or', 'more', '.', 'Can', 'you', 'believe', 'that', '?', 'They', 'fight', 'of', 'an', 'army', 'of', 'so', 'many', ',', 'kill', 'hundreds', 'of', 'them', ',', 'and', 'only', 'loose', 'a', 'few', 'of', 'themselves', '.', 'And', 'they', 'have', 'rounds', 'and', 'round', 'of', 'ammo', '.', 'Never', 'run', 'out', 'of', 'it', '.', 'Grenades', 'and', 'claymore', 'mines', ',', 'an', 'M60', 'machine', 'gun', 'and', 'even', 'an', 'RPG', '.', 'Where', 'do', 'they', 'get', 'this', 'stuff', '.', 'Carrying', 'it', 'around', 'or', 'what', '?', 'They', 'even', 'got', 'a', 'laptop', 'which', 'shows', 'them', 'the', 'activity', 'of', 'enemy', 'rebels', '.', 'And', 'this', 'laptop', 'has', 'a', 'battery', 'which', 'goes', 'on', 'for', 'days', '.', 'Really', '?', 'Who', 'think', 'up', 'this', 'crap', '.', 'I', 'guess', 'if', 'you', 'turn', 'off', 'your', 'brain', 'completely', 'and', 'accept', 'that', 'the', 'rebels', 'are', 'a', 'bunch', 'of', 'idiots', ',', 'you', 'give', 'this', 'movie', 'a', 'high', 'rating', '.', 'If', 'not', ',', 'skip', 'this', 'one', '.', 'It', 'saves', 'you', 'time', '.'], ['I', 'think', 'that', ',', 'deep', 'down', 'in', 'the', 'darkest', ',', 'slimiest', 'part', 'of', 'their', 'heart', ',', 'everyone', 'likes', 'Jerry', 'Springer', 'just', 'a', 'little', 'bit', '.', 'While', 'his', 'show', 'is', 'undeniably', 'offensive', 'and', 'stupid', ',', 'it', 'also', 'gives', 'us', 'a', 'chance', 'to', 'see', 'that', ',', 'relatively', 'speaking', ',', 'most', 'of', 'us', 'have', 'it', 'real', 'good', '.', 'When', 'you', 'look', 'at', 'the', 'trailer', 'park', 'livin', \"'\", ',', 'dollar', 'whiskey', 'drinkin', \"'\", ',', 'incest', 'lovin', \"'\", 'people', 'on', 'the', 'Springer', 'show', ',', 'it', 'makes', 'even', 'your', 'worst', 'day', 'seem', 'like', 'a', 'walk', 'in', 'the', 'park', '.', 'Jerry', 'is', 'performing', 'a', 'public', 'service', ',', 'and', 'we', 'should', 'be', 'grateful', '.', 'He', 'ditched', 'a', 'political', 'career', 'to', 'host', 'the', 'show', ',', 'just', 'for', 'us', '.', 'What', 'we', 'should', 'not', 'be', 'grateful', 'for', 'in', 'any', 'way', 'is', 'the', 'piece', 'of', 'garbage', 'movie', '``', 'Ringmaster', \"''\", '.', '``', 'Ringmaster', \"''\", 'shows', 'what', 'life', 'is', 'like', 'for', 'people', 'who', 'wind', 'up', 'being', 'guests', 'on', 'the', 'show', ',', 'or', 'so', 'they', 'would', 'like', 'us', 'to', 'think', '.', 'The', 'movie', 'follows', 'the', 'pre-requisite', 'Springer', 'story', 'line', ':', 'Love', 'triangles', '.', 'One', 'triangle', 'involves', 'Connie', ',', 'her', 'daughter', 'Angel', ',', 'and', 'her', 'husband', 'Rusty', '.', 'The', 'other', 'involves', 'Starletta', ',', 'Vonda', ',', 'and', 'Demond', '.', 'When', 'the', 'two', 'hapless', 'groups', 'meet', 'up', 'in', 'LA', ',', 'their', 'lives', 'intertwine', 'and', 'collide', 'head-on', ',', 'all', 'culminating', 'in', 'an', 'explosive', 'episode', 'of', 'the', 'Springer', 'show', '.', 'It', \"'s\", 'like', 'what', '``', 'Short', 'Cuts', \"''\", 'would', 'be', 'if', 'Robert', 'Altman', 'had', 'had', 'a', 'severe', 'crack', 'habit', '.', '``', 'Ringmaster', \"''\", 'is', 'true', 'to', 'the', 'show', ',', 'as', 'it', 'is', 'stupid', 'and', 'offensive', 'from', 'start', 'to', 'finish', '.', 'It', 'also', 'makes', 'me', 'very', 'glad', 'that', 'I', 'do', \"n't\", 'live', 'in', 'the', 'squalor', 'it', \"'s\", 'characters', 'do', '.', 'But', 'the', 'movie', 'has', 'a', 'problem', '.', 'It', \"'s\", 'billed', 'as', 'a', 'comedy', ',', 'but', 'it', 'just', 'is', \"n't\", 'very', 'funny', '.', 'What', 'laughs', 'there', 'are', 'to', 'be', 'had', 'are', 'few', 'and', 'far', 'between', '.', 'Maybe', 'some', 'people', 'watch', 'this', 'and', 'laugh', 'non-stop', '.', 'If', 'you', 'think', 'blow', 'jobs', 'and', 'rape', 'are', 'funny', ',', 'well', 'then', 'I', 'guess', 'you', \"'re\", 'one', 'of', 'those', 'folks', '.', 'Personally', ',', 'I', 'laughed', 'two', 'or', 'three', 'times', 'and', 'spent', 'the', 'rest', 'of', 'the', 'movie', 'in', 'utter', 'awe', 'of', 'the', 'agonizing', 'horrors', 'of', 'white-trash', 'life', '.', 'The', 'Jerry', 'Springer', 'Show', 'just', 'is', \"n't\", 'meant', 'to', 'make', 'the', 'leap', 'from', 'TV', 'to', 'the', 'silver', 'screen', '.', 'What', \"'s\", 'funny', 'in', 'an', 'hour', 'long', 'show', '(', 'less', ',', 'when', 'you', 'count', 'commercials', ')', 'is', \"n't\", 'necessarily', 'going', 'to', 'be', 'funny', 'in', 'a', 'ninety', 'minute', 'movie', '.', 'Movies', 'have', 'to', 'tell', 'a', 'story', ',', 'and', 'that', \"'s\", 'something', 'else', '``', 'Ringmaster', \"''\", 'has', 'trouble', 'with', '.', 'The', 'story', 'is', 'threadbare', '.', 'There', 'are', 'so', 'many', 'plot', 'holes', 'and', 'continuity', 'errors', 'that', 'any', 'attempt', 'at', 'telling', 'a', 'cohesive', 'narrative', 'is', 'quickly', 'put', 'asunder', '.', 'And', 'even', 'if', 'there', 'were', \"n't\", 'such', 'problems', ',', 'how', 'much', 'fun', 'can', 'you', 'pull', 'out', 'of', 'a', 'story', 'of', 'stereotypical', 'people', 'in', 'a', 'stereotypical', 'story', '?', 'Even', 'the', 'Hollywood', 'formula', 'could', \"n't\", 'make', 'this', 'better', '.', '``', 'Ringmaster', ':', 'is', 'so', 'bad', ',', 'it', 'even', 'screws', 'up', 'the', 'best', 'part', 'of', 'the', 'Springer', 'show', ':', 'the', 'Final', 'Thought', '.', 'Somehow', ',', 'even', 'the', 'smartest', 'and', 'simplest', 'aspect', 'of', 'the', 'show', 'wound', 'up', 'blowing', 'harder', 'than', 'the', 'slutty', 'women', 'the', 'film', 'is', 'built', 'around', '.', 'The', 'worst', 'offender', 'in', 'all', 'of', 'this', 'is', 'Springer', 'himself', '.', 'He', \"'s\", 'such', 'a', 'bad', 'actor', 'that', 'he', 'ca', \"n't\", 'even', 'play', 'himself', 'convincingly', '.', 'Watching', 'Springer', 'play', 'Springer', 'is', 'sad', '.', 'It', \"'s\", 'like', 'he', 'was', 'going', 'for', 'a', \"'What\", 'if', 'Woody', 'Allen', 'played', 'Jerry', 'Springer', \"'\", 'vibe', ',', 'and', 'he', 'failed', '.', 'Miserably', '.', 'He', 'went', 'to', 'the', 'trouble', 'of', 'producing', 'this', 'disaster', ',', 'the', 'least', 'he', 'could', 'do', 'is', 'try', 'to', 'make', 'it', 'just', 'that', 'much', 'better', '.', 'Not', 'that', 'I', \"'m\", 'saying', 'everyone', 'else', 'in', 'this', 'movie', 'put', 'in', 'an', 'award', 'worthy', 'performance', '.', 'Just', 'the', 'opposite', '.', 'They', 'all', 'suck', '.', 'Not', 'so', 'surprisingly', ',', 'no', 'one', 'in', 'this', 'movie', 'went', 'on', 'to', 'greatness', '.', 'The', 'best', 'any', 'of', 'them', 'was', 'did', 'was', 'Molly', 'Hagan', 'landing', 'a', 'job', 'on', 'a', 'Nickelodeon', 'sitcom', '.', 'Apparently', ',', 'Nickelodeon', 'has', 'no', 'problem', 'with', 'hiring', 'a', 'woman', 'who', 'starred', 'in', 'the', 'most', 'vile', 'film', 'of', 'the', \"'90\", \"'s\", 'to', 'star', 'in', 'a', 'children', \"'s\", 'program', '.', 'It', 'makes', 'you', 'wonder', 'what', 'kind', 'of', 'things', 'the', 'other', 'adults', 'on', 'that', 'channel', 'have', 'done', 'in', 'their', 'pasts', '.', 'Here', 'are', 'my', 'Final', 'Thoughts', ':', 'What', 'we', 'have', 'here', 'is', 'a', 'group', 'of', 'people', 'with', 'no', 'self', 'respect', 'and', 'a', 'man', 'with', 'money', 'to', 'burn', ',', 'who', 'have', 'met', 'and', 'put', 'their', 'resources', 'together', 'to', 'produce', 'a', 'film', 'that', 'shows', 'how', 'much', 'they', 'hate', 'themselves', 'and', 'how', 'little', 'they', 'think', 'of', 'the', 'intelligence', 'of', 'their', 'viewing', 'audience', '.', 'Should', 'we', 'accept', 'people', 'who', 'make', 'movies', 'that', 'treat', 'us', 'like', 'severely', 'brain-damaged', 'lumps', 'of', 'goo', '?', 'I', 'say', 'no', '.', 'Somewhere', 'out', 'there', ',', 'in', 'this', 'crazy', ',', 'mixed', 'up', 'world', ',', 'there', 'is', 'a', 'perfect', 'movie', 'for', 'each', 'of', 'us', '.', 'We', 'just', 'have', 'to', 'keep', 'looking', 'for', 'it', '.', 'Until', 'next', 'time', ',', 'take', 'care', 'of', 'yourselves', 'and', 'your', 'loved', 'ones', '.', 'And', 'do', \"n't\", 'ever', 'watch', '``', 'Ringmaster', \"''\", '.'], ['Sorry', ',', 'I', 'just', 'did', \"n't\", 'find', 'the', 'subject', 'matter', 'as', 'compelling', 'as', 'the', 'filmmaker', 'did', '.', 'The', 'robot', 'guy', 'and', 'the', 'mole', 'rat', 'guy', 'were', 'pretty', 'interesting', ',', 'although', 'Morris', 'did', \"n't\", 'really', 'tell', 'us', 'much', 'about', 'them', '.', 'The', 'other', 'two', 'subjects', 'were', 'a', 'bore', '.', 'And', 'the', 'supposed', '``', 'connections', \"''\", 'between', 'them', 'did', \"n't\", 'hold', 'up', '.'], ['This', 'is', 'actually', 'a', 'pretty', 'bad', 'film', '.', 'The', 'ideology', 'is', 'not', 'as', 'perverse', 'as', 'in', 'those', 'films', 'Collins', 'made', 'later', '.', 'However', ',', 'my', 'main', 'misgivings', 'about', 'the', 'film', 'are', 'that', 'it', 'is', 'implausible', 'and', 'quite', 'frankly', 'boring', 'for', 'a', 'long', 'time', '.', 'The', 'whole', 'concept', 'of', 'an', 'ex-SAS', 'man', 'joining', 'terrorists', 'for', 'no', 'particular', 'reason', 'is', \"n't\", 'very', 'convincing', 'and', 'you', 'ca', \"n't\", 'help', 'wondering', 'why', 'a', 'group', 'of', 'highly', 'organized', 'terrorists', '(', 'who', 'later', 'become', 'pretty', 'clueless', ')', 'fall', 'for', 'it', '.', 'The', 'film', 'starts', 'with', 'a', 'pretty', 'powerful', 'scene', 'but', 'then', 'meanders', 'for', 'quite', 'a', 'long', 'time', 'building', 'up', 'towards', 'the', 'great', 'finale', '.', 'Overall', ',', 'I', 'think', 'Who', 'dares', 'wins', 'could', 'have', 'been', 'an', 'interesting', '45', 'minutes', 'episode', 'of', 'The', 'Professionals', 'but', 'the', 'story', 'does', \"n't\", 'carry', 'a', 'feature', 'film', '.', 'Although', 'reasonably', 'successful', 'at', 'the', 'time', 'this', 'film', 'initiated', 'the', 'demise', 'of', 'Collins', \"'\", 'career', 'who', 'in', 'the', 'eighties', 'mainly', 'made', 'cheap', 'and', 'dubious', 'soldier-of-fortune', 'or', 'army', 'films', '.', 'Pity', ',', 'because', 'he', 'actually', 'is', 'quite', 'a', 'versatile', 'actor', 'but', 'at', 'the', 'end', 'of', 'the', 'day', 'Martin', 'Shaw', 'chose', 'his', 'roles', 'more', 'carefully', 'and', 'has', 'a', 'career', 'that', \"'s\", 'still', 'successful', '.'], ['this', 'film', 'has', 'its', 'good', 'points', ':', 'hot', 'chicks', 'people', 'die', 'the', 'problem', '...', 'the', 'hot', 'Chicks', 'barley', 'get', 'nude', 'and', 'you', 'do', \"n't\", 'get', 'to', 'see', 'many', 'of', 'the', 'people', 'dieing', ',', 'mostly', 'just', 'lots', 'of', 'fast', 'movements', 'and', 'screaming', 'though', 'there', 'were', 'two', 'good', 'kill', 'scenes', '.', 'also', 'for', 'those', 'of', 'you', 'watching', 'this', 'for', 'JENNA', 'JAMESON', 'she', 'is', 'just', 'a', 'side', 'chearator', 'with', 'a', 'very', 'small', 'role', 'and', 'Minor', 'nude', 'scenes', '.', 'What', 'this', 'film', 'needed..', 'script', 'and', 'story', 'would', 'be', 'nice', 'but', 'I', 'will', 'not', 'complain', 'about', 'that..', 'simply', 'put', 'it', 'needs', 'more', 'nudity', 'and', 'better', 'kill', 'scenes', 'cuz', 'lets', 'face', 'it', 'that', 'is', 'why', 'we', 'watch', 'these', 'flicks', '...', 'I', 'would', \"n't\", 'waste', 'my', 'money', 'on', 'it', '...', 'and', 'if', 'you', 'must', ',', 'wait', 'until', 'it', \"'s\", 'on', 'the', 'OLD', 'shelves', 'at', 'your', 'local', 'video', 'store'], ['When', 'teenagers', 'go', 'on', 'a', 'trip', 'in', 'a', 'camper', 'van', 'there', 'are', 'many', 'clichés', 'that', 'you', 'can', 'guarantee', 'will', 'follow', '.', '1', ')', 'The', 'teenagers', 'will', 'be', 'warned', 'not', 'to', 'go', 'where', 'they', 'are', 'going', 'by', 'a', 'crazy', 'local', '.', 'Dan', 'Van', 'Husen', 'handles', 'that', 'with', 'ridiculous', 'exposition', 'about', 'deadly', 'Sirens', '.', 'What', ',', 'who', ',', 'how', 'and', 'why', 'are', 'handled', 'in', 'one', 'almost', 'unintelligible', 'burst', '.', '2', ')', 'The', 'van', 'will', 'break', 'down', '.', '3', ')', 'Whilst', 'looking', 'for', 'help', 'the', 'group', 'will', 'be', 'split', 'up', 'and', 'be', 'picked', 'off', 'one', 'by', 'one', 'by', 'whatever', 'monster', 'they', 'have', 'been', 'warned', 'about.4', ')', 'They', 'will', 'find', 'a', 'house', 'inhabited', 'by', 'a', 'madman', ',', 'he', 'will', 'capture', 'them', '.', '5', ')', 'The', 'house', 'will', 'have', 'a', 'phone', 'but', 'it', 'will', 'not', 'work', ',', 'it', 'will', 'be', 'disturbingly', 'decorated', ',', 'there', 'will', 'be', 'flickering', 'neon', 'light', ',', 'spiders', 'and', 'maggots', '.', '6', ')', 'The', 'madman', 'will', 'catch', 'them', 'as', 'they', 'try', 'to', 'escape', 'in', 'a', 'vehicle', 'that', 'wo', \"n't\", 'start', '(', 'here', 'the', 'high', 'speed', 'getaway', 'was', 'to', 'be', 'made', 'on', 'a', 'tractor', ')', '.', '7', ')', 'The', 'madman', 'will', 'be', 'seemingly', 'killed', 'only', 'to', 'come', 'back', 'from', 'the', 'dead', 'for', 'a', 'cheap', ',', 'weak', 'scare', 'and', 'will', 'then', 'be', 'killed', 'properly', '.', '8', ')', 'Only', 'a', 'girl', 'will', 'be', 'left', 'alive', 'from', 'the', 'group', '.', '9', ')', 'There', 'will', 'be', 'an', 'unnecessary', 'twist', 'at', 'the', 'end', '.', 'Add', 'to', 'these', 'elements', 'naked', 'Sirens', '(', 'who', 'the', 'characters', 'seem', 'to', 'react', 'to', 'in', 'startling', 'different', 'ways', 'despite', 'the', 'fact', 'that', 'everyone', 'that', 'sees', 'them', 'is', 'supposed', 'to', 'fall', 'into', 'lust', 'with', 'them', 'immediately', ')', 'that', 'seduce', 'and', 'kill', 'the', 'teens', ',', 'throats', 'being', 'ripped', 'out', 'and', 'bodies', 'being', 'pulled', 'in', 'half', 'and', 'you', 'have', 'something', 'resembling', 'a', 'twelve', 'year', 'old', 'boys', 'dream', 'movie', '.', 'I', 'think', 'it', 'is', 'only', 'fair', 'to', 'say', 'that', 'my', 'opinion', 'of', 'the', 'director', 'and', 'his', 'previous', 'work', 'is', 'as', 'low', 'as', 'it', 'is', 'possible', 'to', 'be', 'but', 'I', 'am', 'happy', 'to', 'point', 'out', 'that', 'there', 'are', 'a', 'few', 'elements', 'that', 'boarder', 'on', 'pleasurable', 'and', 'are', 'a', 'great', 'improvement', 'on', 'his', 'previous', 'film', ',', 'Darkhunters', ',', 'which', 'is', 'one', 'of', 'the', 'worst', 'films', 'I', 'have', 'ever', 'seen', '.', 'At', 'times', 'the', 'cinematography', 'is', 'very', 'good', ',', 'the', 'music', 'and', 'editing', 'are', 'a', 'cut', 'above', 'his', 'previous', 'films', 'and', 'some', 'other', 'low', 'budget', 'horror', 'movies', '.', 'I', 'was', 'impressed', 'to', 'hear', 'that', 'it', 'was', 'achieved', 'with', 'a', 'third', 'of', 'the', 'money', 'spent', 'on', 'the', 'previous', 'monstrosity', '.', 'However', ',', 'the', 'worst', 'things', 'about', 'this', 'movie', 'are', 'not', 'to', 'be', 'found', 'in', 'the', 'body', 'of', 'the', 'film', ',', 'it', 'is', 'ultimately', 'a', 'mildly', 'diverting', 'if', 'pointless', 'movie', 'that', 'has', 'been', 'done', 'time', 'and', 'time', 'again', ',', 'but', 'amongst', 'the', 'DVD', 'extras', '.', 'If', 'you', 'do', 'rent', 'this', 'film', 'I', 'implore', 'you', 'to', 'listen', 'to', 'the', 'director', \"'s\", 'commentary', 'it', 'is', 'beyond', 'belief', '.', 'There', 'is', 'more', 'to', 'say', 'about', 'this', 'than', 'the', 'film', 'itself', '.', 'One', 'staggering', 'part', 'of', 'the', 'commentary', 'is', 'the', 'director', \"'s\", 'claim', 'that', 'the', 'film', 'is', 'cliché', 'leaden', 'because', 'it', 'was', 'a', 'preconceived', 'idea', '.', 'He', 'says', 'it', 'is', 'a', 'deliberate', 'attempt', 'to', 'use', 'all', 'of', 'the', 'clichés', 'and', 'openly', 'he', 'wonders', 'if', '``', 'people', 'will', 'get', 'it', \"''\", '.', 'I', \"'m\", 'afraid', 'to', 'say', 'that', 'if', 'this', 'is', 'supposed', 'to', 'be', 'a', 'clever', 'nod', 'and', 'a', 'wink', 'to', 'films', 'of', 'the', 'past', 'and', 'the', 'genre', 'clichés', 'within', 'them', 'then', 'it', 'is', 'not', 'wittily', 'scripted', 'enough', ',', 'acted', 'in', 'an', 'appropriate', 'tone', 'nor', 'directed', 'with', 'enough', 'style', 'to', 'work', '.', 'If', 'this', 'film', 'was', 'made', 'to', 'order', 'it', 'leads', 'me', 'to', 'ask', 'one', 'question', ';', '``', 'What', 'was', 'the', 'point', '?', \"''\", 'This', 'is', 's', 'afilm', 'that', 'just', 'slips', 'right', 'into', 'the', 'canon', 'of', 'bad', 'horror', 'movies', ',', 'any', 'attempt', 'to', 'do', 'something', 'clever', 'or', 'different', 'have', \"n't\", 'worked', '.', 'The', 'next', 'nugget', 'of', 'brilliance', 'is', 'a', 'conversation', 'about', 'the', 'snobbery', 'towards', 'digital', 'film', 'formats', '.', 'They', 'rightly', 'point', 'out', 'that', 'digital', 'is', 'often', 'synonymous', 'with', 'cheapness', 'and', 'ease', 'of', 'use', '.', 'However', ',', 'the', 'best', 'moment', 'of', 'the', 'conversation', 'comes', 'when', 'they', 'bemoan', 'the', 'fact', 'that', 'when', 'Michael', 'Mann', 'makes', 'a', 'film', 'in', 'the', 'format', 'he', 'is', 'branded', 'as', 'a', 'visionary', '.', 'There', 'is', 'a', 'simple', 'distinction', 'to', 'be', 'made', 'here', ';', 'Mann', 'is', 'a', 'talented', 'director', 'who', 'will', 'use', 'the', 'format', 'to', 'fit', 'his', 'story', 'and', 'style', ',', 'Roberts', 'is', 'a', 'horror', 'hack', 'who', 'uses', 'it', 'to', 'produce', 'bottom', 'shelf', 'genre', 'pictures', '.', 'I', 'think', 'the', 'differences', 'are', 'obvious', 'and', 'the', 'comparison', 'is', 'not', 'only', 'arrogant', 'but', 'redundant', '.', 'The', 'best', 'moment', 'is', 'reserved', 'for', 'Robert', \"'s\", 'comments', 'about', 'people', 'who', 'have', 'taken', 'the', 'time', 'to', 'review', 'his', 'previous', 'film', '.', 'Those', 'who', 'did', \"n't\", 'like', 'it', 'are', 'generalised', 'as', \"'geeks\", \"'\", 'and', 'he', 'even', 'goes', 'as', 'far', 'as', 'to', 'single', 'out', 'specific', 'people', 'for', 'having', 'the', 'nerve', 'to', 'voice', 'their', 'opinion', 'in', 'forums', 'that', 'encourage', 'them', 'to', 'do', 'just', 'that', '.', 'I', 'must', 'admit', 'I', 'was', 'slightly', 'disappointed', 'that', 'my', 'review', 'of', 'his', 'last', 'film', 'was', \"n't\", 'singled', 'out', 'for', 'ridicule', '.', 'The', 'tirade', 'goes', 'further', 'as', 'the', 'group', 'joke', 'about', 'Norwegian', 'reviewers', ',', 'complete', 'with', \"'hilarious\", \"'\", 'accents', 'to', 'imply', 'that', 'people', 'from', 'Norway', 'would', \"n't\", 'know', 'a', 'good', 'film', 'simply', 'because', 'of', 'where', 'they', 'are', 'born', '.', 'As', 'always', 'these', 'sorts', 'of', 'comments', 'say', 'more', 'about', 'those', 'saying', 'them', 'than', 'those', 'they', 'are', 'targeting', ',', 'they', 'simply', 'make', 'the', 'director', 'and', 'his', 'friends', 'look', 'ignorant', '.', 'The', 'package', 'in', 'rounded', 'out', 'with', 'a', 'tasteful', 'featurette', 'about', 'how', 'the', 'Sirens', 'were', 'cast', '.', 'Robert', \"'s\", 'swears', 'blind', 'in', 'voice', 'over', ',', \"'I\", 'did', \"n't\", 'want', 'to', 'make', 'a', 'film', 'that', 'was', 'like', 'Baywatch', \"'\", 'as', 'we', 'see', 'audition', 'tapes', 'of', 'topless', 'and', 'naked', 'girls', 'writhing', 'around', 'on', 'the', 'ground', '.', 'There', 'is', 'also', 'a', 'simpering', ',', 'self-indulgent', 'documentary', 'about', 'the', 'making', 'of', 'Darkhunters', 'during', 'which', 'Robert', \"'s\", 'says', 'that', 'a', 'reviewer', 'has', 'claimed', 'that', 'Forest', 'is', '``', 'The', 'best', 'British', 'film', 'in', 'years', \"''\", '.', 'I', 'do', \"n't\", 'know', 'who', 'he', 'is', 'trying', 'to', 'convince', '.', 'At', 'one', 'point', 'in', 'the', 'commentary', 'track', 'Robert', \"'s\", 'says', 'jokingly', '``', 'I', 'can', 'see', 'people', 'sitting', 'at', 'home', 'saying', '``', 'this', 'is', \"n't\", 'amazing', ',', 'its', 'sh', '$', 't', \"''\", 'he', 'is', \"n't\", 'wrong', '.'], ['``', 'Fred', 'Claus', \"''\", 'somehow', 'avoids', 'becoming', 'this', 'year', \"'s\", '``', 'The', 'Santa', 'Clause', \"''\", 'by', 'at', 'least', 'having', 'a', 'bit', 'more', 'amusing', 'moments', 'than', 'that', 'Tim', 'Allen', 'starrer', ',', 'but', 'it', 'does', \"n't\", 'mean', 'that', 'it', \"'s\", 'got', 'enough', 'going', 'for', 'it', 'that', \"'s\", 'worth', 'a', 'trip', 'to', 'the', 'theater', '.', 'As', 'holiday', 'movies', 'go', ',', 'it', \"'s\", 'contrived', 'and', 'sentimental', '.', 'But', 'actually', ',', 'that', 'could', 'be', 'the', 'least', 'of', 'one', \"'s\", 'concern', 'as', '``', 'Fred', 'Claus', ',', \"''\", 'boasting', 'of', 'having', 'David', 'Dobkin', '(', '``', 'Shanghai', 'Knights', ',', \"''\", '``', 'The', 'Wedding', 'Crashers', \"''\", ')', 'at', 'the', 'helm', ',', 'contains', 'virtually', 'nary', 'a', 'genuinely', 'funny', 'moment', 'as', 'it', 'clumsily', 'treads', 'the', 'line', 'between', 'a', 'boorish', 'Vince', 'Vaughn', 'vehicle', 'and', 'a', 'fuzzy', 'Christmas', 'film', '.', 'In', 'the', 'end', ',', 'it', 'amounts', 'to', 'not', 'much', 'of', 'both', '.', 'And', 'with', 'a', 'cast', 'that', 'comprises', 'of', 'Paul', 'Giamatti', ',', 'Kevin', 'Spacey', ',', 'Rachel', 'Weisz', ',', 'and', 'Kathy', 'Bates', ',', 'all', 'the', 'more', 'it', 'leaves', 'one', 'disappointed', '.', 'Vaughn', 'plays', 'Fred', ',', 'Nick', \"'s\", '(', 'Giamatti', ')', 'older', 'and', 'estranged', 'brother', ',', 'who', 'once', 'upon', 'a', 'time', ',', 'left', 'him', 'and', 'their', 'parents', '(', 'Bates', 'and', 'Trevor', 'Peacock', ')', 'after', 'having', 'had', 'enough', 'of', 'enduring', 'his', 'parents', \"'\", 'favoritism', 'of', 'his', 'younger', 'sibling', '.', 'Nick', 'grows', 'up', 'to', 'be', 'Santa', 'Claus', '(', 'and', 'as', 'the', 'voice-over', 'tells', 'us', ',', 'time', 'freezes', 'on', 'you', 'and', 'your', 'family', 'when', 'you', 'become', 'a', 'saint', ')', ',', 'while', 'Fred', 'becomes', 'a', 'Yuletide-jaded', 'repo', 'man', 'in', 'Chicago', 'who', \"'s\", 'having', 'a', 'hard', 'time', 'remembering', 'his', 'girlfriend', 'Wanda', \"'s\", '(', 'Weisz', ')', 'birthday', '.', 'He', 'runs', 'in', 'trouble', 'with', 'the', 'law', 'and', 'had', 'to', 'call', 'his', 'younger', 'brother', '(', 'who', 'eerily', 'looks', 'at', 'least', 'a', 'decade', 'older', 'than', 'him', ')', 'to', 'bail', 'him', 'out', 'of', 'jail', '.', 'Nick', 'agrees', 'but', 'only', 'if', 'Fred', 'agrees', 'to', 'help', 'out', 'on', 'the', 'toy-wrapping', 'business', 'up', 'in', 'the', 'North', 'Pole', '.', 'Fred', 'reluctantly', 'agrees', 'but', 'his', 'cynicism', 'clashes', 'with', 'Santa', 'and', 'the', 'elves', \"'\", 'perpetually', 'cheery', 'nature', ',', 'even', 'as', 'an', 'efficiency', 'expert', '(', 'Spacey', ')', 'is', 'checking', 'on', 'the', 'toy', 'factory', 'operations', ',', 'only', 'too', 'happy', 'to', 'have', 'the', 'whole', 'Arctic', 'operations', 'shut', 'down', 'if', 'things', 'fail', '.', 'The', 'film', ',', 'as', 'said', ',', 'does', 'have', 'its', 'moments', ',', 'but', 'the', 'padded', 'running', 'length', 'stretches', 'them', 'thin', 'across', 'its', 'duration', '.', 'In', 'between', 'are', 'piles', 'of', 'Christmas', 'film', 'clichés', 'that', 'were', 'handled', 'better', 'in', ',', 'say', ',', '``', 'Elf', \"''\", 'and', 'the', 'attempts', 'at', 'sentimentality', 'are', 'as', 'endearing', 'as', 'last', 'year', \"'s\", 'fruitcake', '.', 'Vaugn', ',', 'as', 'usual', ',', 'brings', 'on', 'his', 'coarse', 'charm', 'to', 'the', 'table', ',', 'but', 'the', 'neutered', 'script', 'of', 'Dan', 'Fogelman', 'keeps', 'him', 'from', 'REALLY', 'doing', 'his', 'thing', '.', 'Giamatti', ',', 'underneath', 'the', 'bad', 'fat', 'suit', ',', 'brings', 'a', 'jolly', 'old', 'charm', 'to', 'his', 'iconic', 'character', ',', 'but', 'unfortunately', ',', 'has', 'to', 'play', 'second', 'fiddle', 'to', 'Fred', '.', 'Spacey', 'brings', 'his', 'game', 'face', ',', 'but', 'his', 'turns', 'usually', 'end', 'as', 'unfunnily', 'vapid', '.', 'Ultimately', ',', '``', 'Fred', 'Claus', \"''\", 'becomes', 'a', 'forgettable', 'film', 'that', 'falls', 'below', 'what', 'those', 'involved', 'in', 'it', 'deserve', '.', 'Sure', ',', 'there', 'are', 'worse', 'ways', 'to', 'start', 'the', 'season', 'at', 'the', 'cinema', ',', 'but', 'there', 'are', 'certainly', 'far', 'better', 'ways', '.'], ['It', \"'s\", 'been', 'close', 'to', 'ten', 'years', 'since', 'I', \"'ve\", 'seen', 'either', 'of', 'the', 'last', 'two', 'sequels', 'to', '``', 'Phantasm', \"''\", '-', 'surely', 'due', 'to', 'my', 'still', 'vivid', 'remembrance', 'of', 'them', 'not', 'being', 'very', 'good', '.', 'That', 'being', 'acknowledged', 'to', 'this', 'day', ',', 'I', \"'m\", 'still', 'a', 'huge', 'fan', 'of', 'the', 'first', 'two', 'installments', 'so', 'I', 'thought', 'I', \"'d\", 'go', 'back', 'and', 're-experience', 'the', \"'final\", 'chapters', \"'\", '.', 'Part', 'three', 'is', 'definitely', 'the', 'worst', 'of', 'the', 'series', 'since', 'it', 'obviously', 'takes', 'itself', 'less', 'seriously', 'and', 'throws', 'in', 'a', 'bunch', 'of', 'confusing', 'stuff', 'that', 'does', \"n't\", 'make', 'much', 'sense', '...', 'Again', ',', 'kicking', 'off', 'right', 'where', 'the', 'previous', 'movie', 'left', 'us', ',', 'Reggie', 'saves', 'Mike', 'from', 'the', 'Tall', 'Man', 'who', 'vows', 'to', 'come', 'back', 'for', 'him', 'later', ',', 'but', 'things', 'are', \"n't\", 'safe', 'for', 'long', 'when', 'they', 'come', 'across', 'Jody', 'who', 'is', 'inexplicably', 'able', 'to', 'the', 'take', 'the', 'form', 'of', 'a', 'sphere', '.', 'Apparently', 'his', 'soul', 'is', 'held', 'prisoner', 'by', 'the', 'Tall', 'Man', 'so', 'Mike', 'is', 'then', 'dragged', 'into', 'the', 'sinister', 'double-pronged', 'Netherworld', 'and', 'Reg', 'has', 'to', 'find', 'him', '...', 'Along', 'the', 'way', ',', 'he', 'meets', 'up', 'with', 'a', 'ten', 'year-old', 'kid', 'and', 'a', 'nun-chuck', 'wielding', 'black', 'chick', 'named', 'Rocky', 'who', 'assist', 'him', 'throughout', 'his', 'journey', '.', 'There', \"'s\", 'really', 'nothing', 'memorable', 'about', '``', 'Phantasm', 'III', \"''\", 'other', 'than', 'how', 'stupid', 'and', 'forcefully', '``', 'humorous', \"''\", 'it', 'tries', 'to', 'be', '.', 'Only', 'one', 'positive', 'aspect', 'that', 'did', \"n't\", 'even', 'help', 'the', 'movie', 'and', 'that', 'was', 'the', 'return', 'of', 'A.', 'Michael', 'Baldwin', 'and', 'Bill', 'Thornbury', 'who', 'reprise', 'their', 'roles', 'for', 'the', 'first', 'time', 'since', 'the', 'original', '1978', 'classic', '.', 'The', 'problem', 'is', ',', 'they', 'pretty', 'much', 'make', 'cameo', 'appearances', '...', 'Reggie', 'Banister', 'is', 'of', 'course', 'back', 'in', 'his', 'starring', 'role', ',', 'but', 'his', 'bumbling', ',', 'love-sick', 'attitude', 'makes', 'his', 'presence', 'far', 'too', 'annoying', 'to', 'like', '.', 'Angus', 'Scrimm', 'also', 'just', 'did', \"n't\", 'seem', 'entirely', '``', 'into', \"''\", 'his', 'role', '.', 'He', 'talks', 'too', 'much', 'here', 'and', 'is', 'nowhere', 'near', 'as', 'menacing', 'and', 'creepy', 'in', 'contrast', 'with', 'the', '``', 'quirkiness', \"''\", 'that', 'the', 'movie', 'seemed', 'to', 'carelessly', 'resort', 'to', '.', 'Most', 'people', \"'s\", 'opinion', 'on', 'this', 'flick', 'seem', 'pretty', 'impassive', 'and', 'tend', 'to', 'think', '``', 'it', \"'s\", 'still', 'entertaining', \"''\", '.', 'Maybe', 'I', \"'m\", 'just', 'too', 'much', 'of', 'a', 'nit', 'picker', 'but', 'I', 'just', 'could', \"n't\", 'get', 'into', 'this', 'one', '.', 'I', 'remember', 'disliking', 'it', 'when', 'I', 'was', 'a', 'kid', 'and', 'after', 're-watching', 'it', '-', 'I', 'can', 'safely', 'say', '-', 'nothing', 'has', 'changed', '.', 'Don', 'Coscarelli', 'rocked', 'the', 'scene', 'with', 'his', 'original', 'low-budget', ',', 'nightmarish', ',', 'legendary', 'film', '``', 'Phantasm', \"''\", ',', 'which', 'I', 'still', 'rank', 'as', 'my', 'top', 'favorite', 'horror', 'flick', 'and', 'his', 'respectable', 'sequel', 'kept', 'things', 'moving', 'and', 'darkly', 'surreal', 'and', 'GORY', ',', 'but', '``', 'Lord', 'of', 'the', 'Dead', \"''\", '(', 'stupid', 'title', ')', 'just', 'looked', 'too', 'rushed', 'and', 'slapped', 'together', 'to', 'me', '...', 'The', 'inclusion', 'of', 'the', 'two', 'new', 'characters', ',', 'Tim', 'and', 'Rocky', '(', 'the', 'only', 'thing', 'missing', 'was', 'Scrappy', 'Doo', '!', '!', ')', ',', 'was', 'a', 'strong', 'indication', 'of', 'Coscarelli', 'running', 'out', 'of', 'ideas', 'and', 'seeing', 'how', 'far', 'he', 'could', 'ride', 'the', 'franchise', '...', 'So', ',', 'it', \"'s\", 'a', '``', 'Phantasm', \"''\", 'movie', 'with', 'very', 'little', 'gore', ',', 'nudity', ',', 'and', 'quadruple-barrel', 'shot', 'guns', '.', 'Need', 'I', 'say', 'more', '?'], ['There', 'is', 'a', 'really', 'good', 'movie', 'lurking', 'just', 'beneath', 'the', 'surface', 'of', 'the', 'layers', 'upon', 'layers', 'of', 'cheese', 'that', 'is', '``', 'the', 'Pagemaster', \"''\", '.', 'I', 'found', 'this', 'out', 'when', 'I', 'watched', 'this', 'again', 'this', 'morning', 'after', 'neglecting', 'it', 'for', 'years', 'and', 'years', '.', 'I', 'remember', 'hating', 'it', 'with', 'a', 'passion', 'when', 'it', 'first', 'came', 'out', ',', 'but', 'this', 'time', ',', 'I', 'found', 'that', 'the', 'special', 'effects', 'are', 'quite', 'good', '.', 'The', 'plot', 'is', 'just', '``', 'the', 'Neverending', 'Story', \"''\", 'with', 'a', 'creativity-endectomy', ',', 'but', 'it', \"'s\", 'an', 'okay', 'little', 'flick', 'for', 'anyone', 'who', 'just', 'wants', 'some', 'really', 'awesome', 'eye-candy', '.', 'The', 'animation', 'is', 'amazing', ',', 'and', 'I', 'especially', 'liked', 'how', 'the', 'animators', 'let', 'their', 'characters', 'look', 'and', 'act', 'a', 'bit', 'more', 'surrealistic', 'than', 'the', 'norm', '.', 'I', \"'m\", 'giving', 'it', 'a', 'grade', 'of', 'three', 'as', 'I', '*would*', 'have', 'given', 'it', 'a', 'two', '(', 'just', 'for', 'parody', 'value', ')', 'if', 'I', 'had', 'ever', 'decided', 'to', 'watch', 'this', 'movie', 'expecting', 'it', 'to', 'absolutely', 'blow', 'my', 'mind', 'story-wise', '.'], ['This', 'is', 'is', 'a', 'thoroughly', 'unpleasant', ',', 'if', 'slickly', 'made', ',', 'movie', '.', 'I', 'tried', 'it', 'because', 'it', 'stars', 'Richard', 'Dreyfus', 'and', 'Jeff', 'Goldblum', ',', 'two', 'good', 'actors', ',', 'and', 'because', 'the', 'plot', 'line', '-', 'a', 'mob', 'boss', 'is', 'about', 'to', 'be', 'released', 'from', 'a', 'mental', 'institution', '-', 'sounded', 'promising', '.', 'The', 'movie', 'is', 'billed', 'as', 'a', 'comedy', ',', 'sorta', '.', 'What', 'we', 'have', 'is', 'an', 'endless', 'series', 'of', 'shots', '-', 'you', 'should', 'pardon', 'the', 'pun', '-', 'of', 'people', 'in', 'dimly', 'lit', 'and', 'elegant', ',', 'if', 'somewhat', 'surreal', ',', 'interiors', ',', 'shooting', 'each', 'other', '-', 'in', 'the', 'head', ',', 'stomach', ',', 'kneecap', ',', 'foot', ',', 'heart', '(', 'no', 'part', 'of', 'the', 'anatomy', 'is', 'avoided', ',', 'it', 'seems', ')', 'while', 'uttering', 'vague', 'and', 'cryptic', 'dialogue', ',', 'some', 'of', 'which', 'is', 'supposed', ',', 'evidently', ',', 'to', 'be', 'humorous', 'in', 'a', 'sort', 'of', 'post-modern', 'way', '.', 'Goldblum', \"'s\", 'dialogue', 'for', 'the', 'whole', 'movie', 'could', 'fit', 'on', 'a', '3x5', 'card', ',', 'and', 'he', 'wears', 'a', 'single', 'facial', 'expression', '-', 'a', 'sardonic', 'grin', '-', 'throughout', '.', 'Ellen', 'Barkin', 'and', 'Gregory', 'Hines', 'do', 'the', 'best', 'they', 'can', '.', 'Burt', 'Reynolds', 'does', 'a', 'cameo', '.', 'The', 'credits', 'list', 'Rob', 'Reiner', 'and', 'Joey', 'Bishop', ',', 'but', 'I', 'somehow', 'missed', 'them', '(', 'good', 'move', 'on', 'their', 'part', ')', '.', 'The', 'whole', 'thing', 'is', 'cold', ',', 'sterile', ',', 'mechanical', 'and', 'unsavory', ';', 'an', 'heir', ',', 'I', 'suspect', ',', 'to', 'the', 'style', 'of', \"'Pulp\", 'Fiction', \"'\", ',', \"'Fargo\", \"'\", 'and', \"'Natural\", 'Born', 'Killers', \"'\", '.', 'If', 'you', 'liked', 'those', ',', 'you', \"'ll\", 'probably', 'like', 'this', '.'], ['This', 'is', 'meant', 'to', 'be', 'a', 'comedy', 'but', 'mainly', 'bad', 'taste', ',', 'and', 'nothing', 'remotely', 'causing', 'a', 'smile', 'in', 'the', 'film', '.', 'The', 'movie', 'is', 'about', 'a', 'couple', 'trying', 'for', 'a', 'child', ',', 'and', 'those', 'people', 'in', 'real', 'life', 'who', 'are', 'in', 'that', 'situation', 'will', 'wince', 'at', 'the', 'depictions', 'that', 'are', 'portrayed', '.', 'For', 'instance', 'scenes', 'at', 'a', 'fertility', 'clinic', 'are', 'not', 'in', 'the', 'least', 'funny', 'and', 'are', 'quite', 'frankly', 'embarrassing', '.', 'The', 'male', 'lead', 'who', 'plays', 'a', 'construction', 'worker', 'and', 'in', 'his', 'hard', 'hat', 'comes', 'across', 'as', 'a', 'poor', 'excuse', 'for', 'a', 'reject', 'from', 'Village', 'People', '.', 'The', 'female', 'lead', 'is', 'trying', 'to', 'look', '20', 'years', 'younger', 'than', 'she', 'is', '.', 'Both', 'leads', 'come', 'across', 'as', 'unappealing', ',', 'unattractive', 'and', 'completely', 'unconvincing', '.', 'There', 'are', 'various', 'ridiculous', 'and', 'totally', 'unassuming', 'gratuitous', 'scenes', 'in', 'the', 'film', ',', 'for', 'example', 'with', 'a', 'budget', 'airline', ',', 'which', 'is', 'devoid', 'of', 'any', 'humor', '.', 'The', 'only', 'reason', 'I', 'give', 'this', '3/10', 'instead', 'of', '1/10', 'is', 'one', 'mark', 'for', 'Shirley', 'Maclaine', ',', 'who', 'is', 'a', 'a', 'class', 'above', 'anything', 'else', 'in', 'the', 'pic', ',', 'and', 'one', 'mark', 'for', 'some', 'half', 'decent', '(', 'albeit', 'old', ')', 'music', '.'], ['The', 'movie', 'had', 'a', 'cute', 'opening', ',', 'I', 'truly', 'believed', 'I', 'was', 'in', 'for', 'one', 'of', 'the', 'best', 'romantic', 'comedies', 'i', \"'ve\", 'seen', 'in', 'a', 'while', '...', 'there', 'was', 'something', 'particular', '``', 'foreign', \"''\", 'about', 'the', 'way', 'the', 'movie', 'was', 'set', 'up', ',', 'realistic', 'yet', 'somewhat', 'abstract', 'and', 'mystical', '.', 'But', 'then', 'the', 'story', 'line', 'started', 'becoming', 'more', 'and', 'more', 'unrealistic', '.', 'To', 'say', 'that', 'the', 'ending', 'was', 'CORNY', 'and', 'PREDICTABLE', 'would', 'almost', 'be', 'an', 'understatement', '...', 'The', 'most', 'typical', 'romantic', 'ending', 'where', 'everything', 'goes', 'great', 'for', 'every', \"'likable\", \"'\", 'character', '.', 'A', 'scene', 'where', 'the', 'main', 'character', 'realises', 'that', 'he', 'has', 'made', 'a', 'mistake', 'and', 'chases', 'the', '``', 'woman', 'of', 'his', 'dreams', \"''\", 'only', 'to', 'confess', 'his', 'love', 'for', 'her', 'in', 'front', 'of', 'a', 'sympathetic', 'crowd', 'of', 'on-', 'lookers', '.', 'Come', 'on', '.', 'In', 'the', 'end', ',', 'the', \"'good\", 'guys', \"'\", 'win', ',', \"'bad\", 'guys', \"'\", 'loose', '...', 'You', 'get', 'the', 'picture', '.', 'A', 'WASTE', 'of', 'a', 'potentially', 'interesting', 'movie', '.'], ['Cliché-ridden', 'story', 'of', 'an', 'impending', 'divorce', '-', 'or', 'is', 'it', '?', '-', 'through', 'the', 'eyes', 'of', 'a', '6', 'year-old', 'child', '.', 'Corny', 'dialogue', ',', 'cardboard', 'characters', ',', 'stock', 'situations', ',', 'a', 'red', 'herring', 'zombie', 'sub-plot', 'and', ',', 'worst', 'of', 'all', ',', 'absolutely', 'no', 'payoff', ',', 'either', 'emotionally', 'or', 'dramatically', '.', 'Does', 'no-one', 'teach', 'creative', 'writing', 'any', 'more', '?', 'The', 'true', 'sign', 'of', 'a', 'weak', 'storyteller', '-', 'when', 'you', 'can', 'not', 'create', 'any', 'kind', 'of', 'satisfying', 'denouement', '-', 'just', 'end', 'the', 'story', '.', 'I', \"'m\", 'compelled', 'to', 'ask', ',', '``', 'what', 'made', 'you', 'think', 'this', 'was', 'a', 'story', 'worth', 'telling', 'in', 'the', 'first', 'place', '!', '?', \"''\", 'Good', ',', 'but', 'wasted', ',', 'debut', 'by', 'child', 'actor', 'Anthony', 'De', 'Marco', '-', 'the', 'rest', 'of', 'the', 'cast', 'was', ',', 'at', 'best', ',', 'forgettable', '.', 'And', 'they', 'wonder', 'why', 'no-one', 'watches', 'indie', 'films', '!', 'This', 'is', 'ninety', 'minutes', 'of', 'my', 'life', 'I', 'will', 'never', 'get', 'back', '.'], ['I', 'watched', 'this', 'movie', 'after', 'having', 'so', 'much', 'of', 'trouble', 'in', 'downloading', 'it', 'through', 'rapidshare', '.', 'And', 'I', 'have', 'to', 'say', ',', 'it', 'did', 'not', 'deserve', 'it', '.', 'Parinda', 'was', 'so', 'hyped', ',', 'that', 'I', 'was', 'really', 'looking', 'forward', 'to', 'watch', 'it', '.', 'Parinda', 'is', 'one', 'of', 'those', 'movies', 'which', 'fail', 'to', 'satisfy', 'the', 'standards', 'set', 'by', 'other', 'good', 'Indian', 'film-makers', ',', 'despite', 'having', 'a', 'great', 'story', '.', 'It', 'was', 'even', 'more', 'pathetic', 'to', 'know', ',', 'that', 'the', 'story', 'itself', 'was', 'not', 'original', ',', 'it', 'was', 'loosely', 'based', 'on', 'the', 'classic', '``', 'On', 'the', 'Waterfront', \"''\", '.', 'Anil', 'Kapoor', 'was', 'irritating', ',', 'especially', 'when', 'he', 'comes', 'from', 'America', '.', 'The', 'direction', 'lacked', 'quality', 'many', 'a', 'times', ',', 'except', 'a', 'few', 'in-between', 'scenes', '.', 'Give', 'this', 'script', 'to', 'any', 'of', 'them', '-', 'Ram', 'Gopal', 'Verma', ',', 'Deepa', 'Mehta', ',', 'Mahesh', 'Bhatt', ',', 'Sudhir', 'Mishra', ',', 'and', 'I', \"'m\", '100', '%', 'sure', ',', 'they', \"'ll\", 'make', 'a', 'mind-blowing', 'movie', 'out', 'of', 'it', '.', 'I', \"'m\", 'not', 'saying', 'Parinda', 'was', 'bad', '.', 'It', 'was', 'just', 'not', 'good', 'enough', '.'], ['This', 'movie', 'is', 'similar', 'to', 'the', 'play', 'entitled', \"'Blithe\", 'Spirit', \"'\", 'written', 'by', 'Noel', 'Coward', '.', 'The', 'plot', 'of', 'a', 'ghost', 'wife', 'and', 'a', 'medium', 'are', 'strongly', 'linked', 'to', 'Coward', \"'s\", 'writing', '.', 'I', \"'m\", 'surprised', 'that', 'movies', 'of', 'this', 'nature', 'do', \"n't\", 'acknowledge', 'the', 'original', 'writer', \"'s\", 'concept', '.', 'I', 'realize', 'that', 'the', 'public', 'may', 'not', 'be', 'aware', 'that', 'this', 'is', 'a', 'knockoff', 'but', 'it', 'is', '.', 'Sad', '.', 'These', 'movies', 'are', 'so', 'expensive', 'to', 'produce', '.', 'I', 'do', 'perk', 'up', 'when', 'a', 'screenplay', 'is', 'original', '.', 'I', 'even', 'perk', 'up', 'when', 'it', \"'s\", 'an', 'innovative', 'way', 'to', 'produce', 'a', 'work', 'that', 'was', 'previously', 'released', '.', 'There', 'were', 'some', 'samples', 'mentioned', '(', 'such', 'as', 'Topper', ',', 'etc.', ')', '.', 'I', 'realize', 'that', 'movies', 'are', 'still', 'a', 'comparatively', 'affordable', 'form', 'of', 'entertainment', '.', 'However', ',', 'I', \"'m\", 'not', 'please', 'when', 'the', 'public', \"'s\", 'taste', 'is', 'taken', 'for', 'granted', '.', 'In', 'this', 'situation', ',', 'the', 'public', \"'s\", 'taste', 'is', 'overlooked', '.', 'I', 'look', 'forward', 'to', 'better', 'produced', 'movie', 'entertainment', '.', 'In', 'this', 'case', '.', 'I', 'rather', 'see', 'the', 'play', '.'], ['Do', 'you', 'like', 'stand', 'up', '?', 'Then', 'stay', 'away', 'from', 'this', '...', 'During', 'the', 'early', 'rounds', ',', 'there', 'are', 'in', 'fact', 'good', 'comics', ',', 'but', 'unless', 'they', 'got', 'some', 'cute', 'qualities', ',', 'they', 'got', 'a', 'snowballs', 'chance', '.', 'Any', 'controversial', 'material', 'and', 'you', 'are', 'OUT', '!', '...', 'and', 'I', 'think', 'I', 'hurt', 'as', 'much', 'as', 'the', 'discarded', 'comedians', ',', 'when', 'I', 'see', 'who', 'the', 'crooked', 'judges', 'are', 'letting', 'in', '.', '1', 'out', 'of', 'my', 'top', '4', 'made', 'it', 'further', 'than', 'the', 'preliminaries', '.', 'Half+', 'of', 'the', 'finalists', 'have', 'given', 'me', '0', 'laughs', '.', 'Several', 'of', 'them', 'have', 'lifted', 'their', 'material', 'elsewhere', ',', 'something', 'the', 'judges', 'does', \"n't\", 'seem', 'to', 'have', 'problems', 'with', '.', 'It', 'is', 'more', 'entertaining', 'than', 'a', 'lot', 'of', 'what', 'else', 'is', 'on', 'TV', ',', 'but', 'incredibly', 'hard', 'to', 'watch', 'without', 'contemplating', 'what', 'it', 'could', 'have', 'been', '.', 'If', 'the', 'producers', 'changed', 'the', 'name', 'of', 'the', 'contest', 'to', '``', 'Last', 'Clown', 'Standing', \"''\", ',', 'all', 'my', 'criticism', 'would', 'loose', 'validity', '.', 'Maybe', 'an', 'idea', '?'], ['I', 'had', 'to', 'compare', 'two', 'versions', 'of', 'Hamlet', 'for', 'my', 'Shakespeare', 'class', 'and', 'unfortunately', 'I', 'picked', 'this', 'version', '.', 'Everything', 'from', 'the', 'acting', '(', 'the', 'actors', 'deliver', 'most', 'of', 'their', 'lines', 'directly', 'to', 'the', 'camera', ')', 'to', 'the', 'camera', 'shots', '(', 'all', 'medium', 'or', 'close', 'up', 'shots', '...', 'no', 'scenery', 'shots', 'and', 'very', 'little', 'back', 'ground', 'in', 'the', 'shots', ')', 'were', 'absolutely', 'terrible', '.', 'I', 'watched', 'this', 'over', 'my', 'spring', 'break', 'and', 'it', 'is', 'very', 'safe', 'to', 'say', 'that', 'I', 'feel', 'that', 'I', 'was', 'gypped', 'out', 'of', '114', 'minutes', 'of', 'my', 'vacation', '.', 'Not', 'recommended', 'by', 'any', 'stretch', 'of', 'the', 'imagination', '.'], ['This', 'was', 'the', 'worst', 'acted', 'movie', 'I', \"'ve\", 'ever', 'seen', 'in', 'my', 'life', '.', 'No', ',', 'really', '.', 'I', \"'m\", 'not', 'kidding', '.', 'All', 'the', '``', 'based', 'on', 'a', 'true', 'story/historical', 'references', \"''\", 'aside', ',', 'there', \"'s\", 'no', 'excuse', 'for', 'such', 'bad', 'acting', '.', 'It', \"'s\", 'a', 'shame', ',', 'because', ',', 'as', 'others', 'have', 'posted', ',', 'the', 'sets', '&', 'costumes', 'were', 'great', '.', 'The', 'sound', 'track', 'was', 'typical', '``', 'asian-style', \"''\", 'music', ',', 'although', 'I', 'could', \"n't\", 'figure', 'out', 'where', 'the', '``', 'modern', \"''\", 'love', 'song', 'came', 'in', 'when', 'Fernando', 'was', 'lying', 'in', 'his', 'bed', 'thinking', 'of', 'Maria', '.', 'I', 'do', \"n't\", 'know', 'who', 'wrote', '&', 'sang', 'that', 'beautiful', 'song', ',', 'but', 'it', 'was', 'as', 'if', 'suddenly', 'Norah', 'Jones', 'was', 'transported', 'to', 'the', '1500s', '.', 'The', 'Hershey', 'syrup', 'blood', 'in', 'Phycho', 'was', 'more', 'realistic', 'than', 'the', 'ketchup', 'spurted', 'during', 'the', 'Kwik-n-EZ', 'battle', 'scenes', '.', 'But', 'the', 'acting', '.', 'Oh', ',', 'so', 'painfully', 'sad', '.', 'Lines', 'delivered', 'like', 'a', 'bad', 'junior', 'high', 'play', '.', 'If', 'Gary', 'Stretch', 'had', 'donned', 'a', 'potato', 'costume', 'for', 'the', 'County', '4H', 'Fair', 'he', 'may', 'have', 'been', 'more', 'believable', '.', 'Towards', 'the', 'end', 'he', 'sounded', 'more', 'like', 'a', 'Little', 'Italy', 'street', 'thug', '.', 'At', 'times', 'I', 'half', 'expected', 'him', 'to', 'yell', 'out', '``', 'Adrian', '!', \"''\", 'or', 'even', '``', 'You', 'wan', 'na', 'piece', 'of', 'me', '?', '!', \"''\", '.', 'Favourite', 'line', ':', 'When', 'the', 'queen', 'says', 'to', 'her', 'lover', '(', 'after', 'barfing', 'on', 'the', 'floor', ')', '``', 'I', \"'m\", 'going', 'to', 'have', 'a', 'baby', '.', \"''\", 'He', 'responds', '``', 'A', 'child', '?', \"''\", 'I', 'expected', 'her', 'to', 'retort', '``', 'No', ',', 'jackass', ',', 'a', 'chair', 'leg', '!', 'Duh', '.', \"''\"], ['After', 'sitting', 'through', 'this', 'pile', 'of', 'dung', ',', 'my', 'husband', 'and', 'I', 'wondered', 'whether', 'it', 'was', 'actually', 'the', 'product', 'of', 'an', 'experiment', 'to', 'see', 'whether', 'a', 'computer', 'program', 'could', 'produce', 'a', 'movie', '.', 'It', 'was', 'that', 'listless', 'and', 'formulaic', '.', 'But', 'the', 'U.S.', 'propaganda', 'thrown', 'in', 'your', 'face', 'throughout', 'the', 'film', 'proves', '--', 'disappointingly', '--', 'that', 'it', \"'s\", 'the', 'work', 'of', 'humans', '.', 'Call', 'me', 'a', 'conspiracy', 'theorist', ',', 'but', 'quotes', 'like', ',', '``', 'We', 'have', 'to', 'steal', 'the', 'Declaration', 'of', 'Independence', 'to', 'protect', 'it', \"''\", 'seem', 'like', 'ways', 'to', 'justify', 'actions', 'like', 'the', 'invasion', 'of', 'Iraq', ',', 'etc', '.', 'The', 'fact', 'that', 'Nicholas', 'Cage', 'spews', 'lines', 'like', ',', '``', 'I', 'would', 'never', 'use', 'the', 'Declaration', 'of', 'Independence', 'as', 'a', 'bargaining', 'chip', \"''\", 'with', 'a', 'straight', 'face', 'made', 'me', 'and', 'my', 'husband', 'wonder', 'whether', 'the', 'entire', 'cast', 'took', 'Valium', 'before', 'shooting', 'each', 'scene', '.', 'The', '``', 'reasoning', \"''\", 'behind', 'each', 'plot', 'turn', 'and', 'new', '``', 'clue', \"''\", 'is', 'truly', 'ridiculous', 'and', 'impossible', 'to', 'follow', '.', 'And', 'there', \"'s\", 'also', 'a', 'bonus', 'side', 'plot', 'of', 'misogyny', ',', 'with', 'Dr.', 'Whatever-Her-Name-Was', 'being', 'chided', 'by', 'all', 'involved', 'for', '``', 'never', 'shutting', 'up', '.', \"''\", 'She', \"'s\", 'clearly', 'in', 'the', 'movie', 'only', 'for', 'looks', ',', 'but', 'they', 'felt', 'the', 'need', 'to', 'slap', 'a', '``', 'Dr.', \"''\", 'title', 'on', 'her', 'character', 'to', 'give', 'her', 'some', 'gravity', '.', 'At', 'one', 'point', ',', 'Cage', \"'s\", 'character', 'says', ',', '``', 'Do', \"n't\", 'you', 'ever', 'shut', 'up', '?', \"''\", 'and', 'the', 'camera', 'pans', 'to', 'her', 'looking', 'poutily', 'down', 'at', 'her', 'hands', ',', 'like', 'she', \"'s\", 'a', 'child', '.', 'Truly', 'grotesque', '.', 'The', 'only', 'benefit', 'to', 'this', 'movie', 'was', 'that', 'it', \"'s\", 'so', 'astonishingly', 'bad', ',', 'you', 'do', 'get', 'a', 'few', 'laughs', 'out', 'of', 'it', '.', 'The', 'really', 'scary', 'thing', 'is', 'that', 'a', 'majority', 'of', 'the', 'people', 'watching', 'the', 'movie', 'with', 'us', 'seemed', 'to', 'enjoy', 'it', '.', 'Creepy', '...', '.'], ['This', 'should', 'be', 'a', 'great', 'film', '...', 'Meryl', 'Streep', 'and', 'Jack', 'Nicholson', 'co-starring', 'as', 'two', 'newspaper', 'writers', '.', 'Mike', 'Nichols', 'directing', '.', 'Uh', 'uh', '.', 'It', \"'s\", 'dull', 'dull', 'dull', '!', 'Pointless', 'and', 'predictable', '!', 'Slow', 'and', 'unfocused', '!', 'It', \"'s\", 'a', 'cookie', 'cutter', \"'boy\", 'meets', 'girl', ',', 'boy', 'marries', 'girl', ',', 'boy', 'has', 'affair', ',', 'girl', 'leaves', 'boy', \"'\", 'story', '.', 'Now', 'theres', 'an', 'original', 'concept', '!', 'After', 'squirming', 'through', 'two', 'hours', '(', 'was', 'it', 'only', 'two', '?', 'It', 'felt', 'like', 'six', '.', ')', 'I', 'was', \"n't\", 'sure', 'whether', 'it', 'was', 'a', 'comedy', ',', 'a', 'romance', ',', 'a', 'tragedy', 'or', 'a', 'soap', 'opera', '.', 'It', 'was', 'done', 'in', '1986', '.', 'I', \"'m\", 'sure', 'all', 'of', 'us', 'did', 'things', 'sixteen', 'years', 'ago', 'that', 'we', 'rather', 'would', 'forget', '.', 'I', 'hope', 'the', 'damage', 'to', 'the', 'reputations', 'of', 'Streep', 'et', 'al', 'is', 'beginning', 'to', 'heal', 'and', 'that', 'the', 'emulsion', 'on', 'the', 'master', 'is', 'beginning', 'to', 'fade', '.', 'It', \"'s\", 'not', 'that', 'it', \"'s\", 'such', 'a', 'bad', 'picture', '.', 'It', \"'s\", 'just', 'that', 'it', \"'s\", 'such', 'an', 'un-good', 'one', '.'], ['I', 'saw', 'this', 'movie', 'at', 'an', 'actual', 'movie', 'theater', '(', 'probably', 'the', '$', '2.00', 'one', ')', 'with', 'my', 'cousin', 'and', 'uncle', '.', 'We', 'were', 'around', '11', 'and', '12', ',', 'I', 'guess', ',', 'and', 'really', 'into', 'scary', 'movies', '.', 'I', 'remember', 'being', 'so', 'excited', 'to', 'see', 'it', 'because', 'my', 'cool', 'uncle', 'let', 'us', 'pick', 'the', 'movie', '(', 'and', 'we', 'probably', 'never', 'got', 'to', 'do', 'that', 'again', '!', ')', 'and', 'sooo', 'disappointed', 'afterwards', '!', '!', 'Just', 'boring', 'and', 'not', 'scary', '.', 'The', 'only', 'redeeming', 'thing', 'I', 'can', 'remember', 'was', 'Corky', 'Pigeon', 'from', 'Silver', 'Spoons', ',', 'and', 'that', 'was', \"n't\", 'all', 'that', 'great', ',', 'just', 'someone', 'I', 'recognized', '.', 'I', \"'ve\", 'seen', 'bad', 'movies', 'before', 'and', 'this', 'one', 'has', 'always', 'stuck', 'out', 'in', 'my', 'mind', 'as', 'the', 'worst', '.', 'This', 'was', 'from', 'what', 'I', 'can', 'recall', ',', 'one', 'of', 'the', 'most', 'boring', ',', 'non-scary', ',', 'waste', 'of', 'our', 'collective', '$', '6', ',', 'and', 'a', 'waste', 'of', 'film', '.', 'I', 'have', 'read', 'some', 'of', 'the', 'reviews', 'that', 'say', 'it', 'is', 'worth', 'a', 'watch', 'and', 'I', 'say', ',', '``', 'Too', 'each', 'his', 'own', \"''\", ',', 'but', 'I', 'would', \"n't\", 'even', 'bother', '.', 'Not', 'even', 'so', 'bad', 'it', \"'s\", 'good', '.'], ['I', 'do', \"n't\", 'like', 'this', 'film', ',', 'but', 'then', 'I', 'did', \"n't\", 'think', 'much', 'of', 'the', 'book', 'either', 'which', ',', 'although', 'lauded', 'by', 'many', 'as', 'a', '``', 'masterpiece', \"''\", ',', 'I', 'found', 'lacking', 'in', 'character', 'development', 'and', 'disjointed', 'and', 'illogical', 'in', 'plot', ',', 'although', 'it', 'was', 'far', 'more', 'readable', 'than', 'Fante', \"'s\", 'dreadful', 'first', 'effort', '``', 'Road', 'to', 'Los', 'Angeles', \"''\", 'not', 'published', 'until', 'Fante', 'became', 'fashionable', 'in', 'the', 'mid', '80s', '.', 'I', 'was', 'intrigued', 'to', 'see', 'what', 'sort', 'of', 'soup', 'Towne', 'would', 'make', 'with', 'such', 'meager', 'ingredients', '.', 'He', 'has', 'worked', 'hard', 'script-wise', 'to', 'repair', 'the', 'many', 'shortcomings', 'of', 'the', 'book', 'but', 'for', 'my', 'money', 'did', \"n't\", 'rescue', 'it', '.', 'There', 'was', 'never', 'a', 'movie', 'in', 'Ask', 'the', 'Dust', 'while', 'ever', 'he', 'tried', 'to', 'stay', 'faithful', 'to', 'the', 'book', '.', 'I', 'consider', 'this', 'film', 'Towne', \"'s\", 'folly', '.', 'In', 'a', 'word', ':', 'forgettable', '.'], ['This', 'movie', 'start', 'quite', 'gruesomely', 'with', 'a', 'female', 'being', 'bound', 'and', 'psychologically', 'tortured', '.', 'There', \"'s\", 'male', 'full', 'frontal', 'nudity', ',', 'dead', 'animal', 'parts', ',', 'dogs', 'licking', 'nipples', ',', 'the', 'female', 'loosing', 'control', 'of', 'her', 'bladder', '.', 'All', 'shot', 'in', 'a', 'gray', 'cold', 'color', '.', 'Effective', ',', 'but', 'a', 'little', 'too', 'much', '.', 'We', 'then', 'move', 'on', 'to', 'seeing', 'the', 'BTK', 'killer', \"'s\", 'youth', 'as', 'well', 'as', 'the', 'present', 'and', 'his', 'history', 'of', 'crimes', '.', 'The', 'tension', 'is', 'entirely', 'psychological', 'and', 'the', 'scenes', 'of', 'the', 'killer', 'entering', 'the', 'homes', 'of', 'his', 'victims', 'and', 'talking', 'to', 'them', 'lasts', 'for', 'quite', 'a', 'long', 'time', 'and', 'it', \"'s\", 'creepy', '.', 'Here', 'we', 'do', \"n't\", 'see', 'fancy', 'or', 'good', 'imagery', ',', 'it', 'looks', 'as', 'if', 'shot', 'with', 'your', 'home', 'camera', '.', 'It', 'does', \"n't\", 'look', 'horrifying', ',', 'but', 'in', 'a', 'way', 'seeing', 'a', 'criminal', 'engage', 'his', 'victims', 'for', 'quite', 'some', 'time', 'before', 'killing', 'them', 'is', 'quite', 'unusual', 'and', 'chilling', '.', 'What', 'this', 'movie', 'does', \"n't\", 'have', 'is', 'any', 'drama', ',', 'really', '.', 'There', 'are', 'some', 'cop', 'scenes', 'every', 'once', 'in', 'a', 'while', ',', 'but', 'there', \"'s\", 'no', 'excitement', 'in', 'terms', 'of', 'them', 'finding', 'the', 'killer', '.', 'There', 'is', \"n't\", 'much', 'of', 'an', 'arc', 'to', 'this', 'story', '.', 'This', 'could', 'have', 'been', 'an', 'effective', 'psychological', 'thriller', ',', 'a', 'study', 'of', 'madness', '.', 'Unfortunately', ',', 'the', 'movie', 'is', 'filled', 'with', 'real', 'slaughterhouse', 'footage', '.', 'It', \"'s\", 'dispersed', 'throughout', 'the', 'movie', 'and', 'comes', 'on', 'suddenly', 'again', 'and', 'again', '.', 'Sometimes', 'you', 'do', \"n't\", 'know', 'it', \"'s\", 'coming', 'and', 'do', \"n't\", 'have', 'enough', 'time', 'to', 'look', 'away', '.', 'And', 'that', 'I', 'have', 'to', 'reject', '.', 'I', \"'m\", 'all', 'for', 'low', 'budget', 'horror', 'movies', 'but', 'I', 'do', \"n't\", 'tolerate', 'animal', 'suffering', '.', 'It', 'was', 'unnecessary', ',', 'excessive', ',', 'and', 'comes', 'without', 'warning', '.', 'I', \"'m\", 'glad', 'that', 'Lionsgate', 'releases', 'stuff', 'that', 'no', 'one', 'else', 'does', ',', 'but', 'they', 'should', 'have', 'passed', 'on', 'this', 'movie', 'or', 'edited', 'out', 'the', 'animal', 'gore', '.', 'Stay', 'away', 'from', 'this', 'garbage', '.'], ['Hi', ',', 'May', 'be', 'because', 'I', 'am', 'not', 'a', 'Theater', 'major', 'or', 'a', 'sophisticated', 'movie', 'watcher', '...', 'I', 'think', 'this', 'movie', 'is', '``', 'Boring', \"''\", 'and', '``', 'Dumb', \"''\", '.', 'I', 'rented', 'this', 'movie', 'because', 'of', 'Charles', 'Bronson', 'and', 'it', \"'s\", 'title', '...', 'but', 'boy', 'what', 'a', 'waste', 'of', 'time', '...', 'just', 'watching', '2', 'guys', 'sitting', 'in', 'a', 'vault', 'and', 'talking', '...', 'The', 'movie', 'on', 'this', 'DVD', 'was', 'so', '``', 'DARK', \"''\", '...', 'I', 'had', 'hard', 'time', 'watching', 'the', 'darn', 'movie', '...', 'I', 'realize', 'it', 'is', 'a', '1968', 'movie', '...', 'but', 'they', 'are', 'putting', 'it', 'on', 'a', 'DVD', 'then', 'they', 'should', 'do', 'some', 'digital', 'remastering', '.', 'Also', ',', 'I', 'was', 'totally', 'surprised', 'to', 'see', 'these', 'high', 'marks', 'on', 'IMDb', 'for', 'this', 'movie', '...', 'like', 'I', 'said', 'before', 'I', 'am', 'not', 'as', 'sophisticated', 'as', 'the', 'other', 'folks', 'who', 'commented', 'on', 'this', 'movie', 'earlier', '.'], ['Contains', 'spoilers', '.', 'The', 'British', 'director', 'J.', 'Lee', 'Thompson', 'made', 'some', 'excellent', 'films', ',', 'notably', \"'Ice\", 'Cold', 'in', 'Alex', \"'\", 'and', \"'Cape\", 'Fear', \"'\", ',', 'but', \"'Country\", 'Dance', \"'\", 'is', 'one', 'of', 'his', 'more', 'curious', 'offerings', '.', 'The', 'story', 'is', 'set', 'among', 'the', 'upper', 'classes', 'of', 'rural', 'Scotland', ',', 'and', 'details', 'the', 'strange', 'triangular', 'relationship', 'between', 'Sir', 'Charles', 'Ferguson', ',', 'an', 'eccentric', 'aristocratic', 'landowner', ',', 'his', 'sister', 'Hilary', ',', 'and', 'Hilary', \"'s\", 'estranged', 'husband', 'Douglas', ',', 'who', 'is', 'hoping', 'for', 'a', 'reconciliation', 'with', 'her', '.', 'We', 'learn', 'that', 'during', 'his', 'career', 'as', 'an', 'Army', 'officer', ',', 'Charles', 'was', 'regarded', 'as', 'having', \"'low\", 'moral', 'fibre', \"'\", '.', 'This', 'appears', 'to', 'have', 'been', 'an', 'accurate', 'diagnosis', 'of', 'his', 'condition', ';', 'throughout', 'the', 'film', 'he', 'displays', 'an', 'attitude', 'of', 'gloomy', 'disillusionment', 'with', 'the', 'world', ',', 'and', 'his', 'main', 'sources', 'of', 'emotional', 'support', 'seem', 'to', 'be', 'Hilary', 'and', 'his', 'whisky', 'bottle', '.', 'The', 'film', 'ends', 'with', 'his', 'committal', 'to', 'an', 'upper-class', 'lunatic', 'asylum', '.', 'Peter', \"O'Toole\", 'was', ',', 'when', 'he', 'was', 'at', 'his', 'best', 'as', 'in', \"'Lawrence\", 'of', 'Arabia', \"'\", ',', 'one', 'of', 'Britain', \"'s\", 'leading', 'actors', ',', 'but', 'the', 'quality', 'of', 'his', 'work', 'was', 'very', 'uneven', ',', 'and', \"'Country\", 'Dance', \"'\", 'is', 'not', 'one', 'of', 'his', 'better', 'films', '.', 'He', 'overacts', 'frantically', ',', 'making', 'Charles', 'into', 'a', 'caricature', 'of', 'the', 'useless', 'inbred', 'aristocrat', ',', 'as', 'though', 'he', 'were', 'auditioning', 'for', 'a', 'part', 'in', 'the', 'Monty', 'Python', \"'Upper-Class\", 'Twit', 'of', 'the', 'Year', \"'\", 'sketch', '.', 'Susannah', 'York', 'as', 'Hilary', 'and', 'Michael', 'Craig', 'as', 'Douglas', 'are', 'rather', 'better', ',', 'but', 'there', 'is', 'no', 'really', 'outstanding', 'acting', 'performance', 'in', 'the', 'film', '.', 'There', 'is', 'also', 'little', 'in', 'the', 'way', 'of', 'coherent', 'plot', ',', 'beyond', 'the', 'tale', 'of', 'Charles', \"'s\", 'inexorable', 'downward', 'slide', '.', 'The', 'main', 'problem', 'with', 'the', 'film', ',', 'however', ',', 'is', 'neither', 'the', 'acting', 'nor', 'the', 'plot', ',', 'but', 'rather', 'that', 'of', 'the', 'Theme', 'That', 'Dare', 'Not', 'Speak', 'Its', 'Name', '.', 'There', 'are', 'half-hearted', 'hints', 'of', 'an', 'incestuous', 'relationship', 'between', 'Charles', 'and', 'Hilary', ',', 'or', 'at', 'least', 'of', 'an', 'incestuous', 'attraction', 'towards', 'her', 'on', 'his', 'part', ',', 'and', 'that', 'his', 'dislike', 'of', 'Douglas', 'is', 'motivated', 'by', 'sexual', 'jealousy', '.', 'Unfortunately', ',', 'even', 'in', 'the', 'swinging', 'sixties', 'and', 'early', 'seventies', '(', 'the', 'date', 'of', 'the', 'film', 'is', 'variously', 'given', 'as', 'either', '1969', 'or', '1970', ')', 'there', 'was', 'a', 'limit', 'to', 'what', 'the', 'British', 'Board', 'of', 'Film', 'Censors', 'was', 'willing', 'to', 'allow', ',', 'and', 'a', 'film', 'with', 'an', 'explicitly', 'incestuous', 'theme', 'was', 'definitely', 'off-limits', '.', '(', 'The', 'American', 'title', 'for', 'the', 'film', 'was', \"'Brotherly\", 'Love', \"'\", ',', 'but', 'this', 'was', 'not', 'used', 'in', 'Britain', ';', 'was', 'it', 'too', 'suggestive', 'for', 'the', 'liking', 'of', 'the', 'BBFC', '?', ')', 'These', 'hints', 'are', 'therefore', 'never', 'developed', 'and', 'we', 'never', 'get', 'to', 'see', 'what', 'motivates', 'Charles', 'or', 'what', 'has', 'caused', 'his', 'moral', 'collapse', ',', 'resulting', 'in', 'a', 'hollow', 'film', 'with', 'a', 'hole', 'at', 'its', 'centre', '.', '4/10'], ['Okay', ',', 'let', 'me', 'start', 'off', 'by', 'saying', 'that', 'nothing', 'in', 'this', 'will', 'come', 'as', 'a', 'surprise', 'to', 'anyone', 'who', \"'s\", 'read', 'the', 'other', 'comments', '.', 'That', 'being', 'said', ',', 'MY', 'G-D', ',', 'THIS', 'MOVIE', 'REEKED', '!', 'I', 'mean', ',', 'WOW', ',', 'I', 'did', \"n't\", 'know', 'it', 'was', 'possible', 'to', 'throw', 'as', 'much', 'money', 'as', 'they', 'obviously', 'did', 'at', 'something', 'and', 'still', 'come', 'out', 'worse', 'than', 'ANY', 'Roger', 'Corman', 'movie', '!', 'Corman', 'was', 'probably', 'pitched', 'this', 'movie', 'at', 'some', 'point', 'but', 'declined', 'due', 'to', 'the', 'poor', 'quality', 'of', 'the', 'script', '!', 'The', 'only', 'reason', 'this', 'movie', 'got', 'made', 'in', 'the', 'first', 'place', 'is', 'that', 'someone', 'said', ',', \"'Hey\", ',', 'Zombies', 'are', 'popular', '.', 'Video', 'games', 'are', 'popular', '.', 'What', 'game', 'can', 'we', 'get', 'a', 'hold', 'of', 'that', 'has', 'zombies', 'in', 'it', '?', 'Resident', 'Evil', '?', 'No', ',', 'someone', 'else', 'got', 'there', 'first', '.', 'Silent', 'Hill', '?', 'No', ',', 'too', 'silent', '.', 'People', 'will', 'never', 'sit', 'in', 'a', 'dark', 'room', 'just', 'to', 'be', 'scared', 'silly', '.', 'Hey', ',', 'did', \"n't\", 'Sega', 'have', 'a', 'game', 'where', 'people', 'ran', 'around', 'shooting', 'zombies', '?', 'They', \"'re\", 'out', 'of', 'the', 'platform', 'biz', ',', 'we', 'could', 'get', 'that', 'for', 'pennies', '!', \"'\", 'Basically', 'they', 'tried', 'their', 'best', 'to', 'make', 'a', 'movie', 'that', 'felt', 'like', 'the', 'video', 'game', ',', 'even', 'down', 'to', 'shooting', 'the', 'combat', 'as', 'if', 'the', 'characters', 'were', 'actually', 'playing', 'the', 'game', '.', 'The', 'first', 'and', 'major', 'problem', 'is', 'that', 'the', 'original', 'game', 'was', 'horrid', '.', 'I', 'mean', ',', 'bad-movie-merchandising-made-into-a-worse-game-in-two-weeks-and-then-shippe', 'd-out-and-bought-by-morons-and-their-parents-for-christmas', 'horrid', '.', 'The', 'graphics', 'were', 'boring', '.', 'The', 'monsters', 'were', 'boring', '.', 'The', 'levels', 'were', 'boring', '.', 'The', 'interface', 'was', 'boring', '.', 'The', 'CASE', 'was', 'boring', '.', 'In', 'other', 'words', ',', 'this', 'was', 'a', 'boring', 'game', '.', 'And', 'that', 'was', 'the', 'ARCADE', 'version', '.', 'The', 'home', 'version', 'was', 'even', 'worse', '!', 'With', 'the', 'home', 'version', ',', 'you', 'did', \"n't\", 'even', 'get', 'the', 'shotgun', 'to', 'hold', 'in', 'your', 'hand', 'while', 'you', 'were', 'being', 'bored', 'silly', 'by', 'this', 'pointless', 'game', '!', 'But', 'I', 'digress', '.', 'The', 'second', 'problem', 'is', 'that', 'they', 'went', 'so', 'far', 'as', 'to', 'actually', 'intercut', 'scenes', 'from', 'actual', 'gameplay', 'during', 'the', 'fight', 'scenes', '.', 'HUH', '?', '?', '?', 'Did', \"n't\", 'the', 'editor', 'have', 'enough', 'confidence', 'in', 'the', 'effects', 'to', 'indicate', 'that', 'there', 'was', 'an', 'actual', 'fight', 'going', 'on', '?', 'Not', 'to', 'mention', 'that', 'EVERY', 'fight', 'was', 'shot', 'from', 'the', 'perspective', 'of', 'a', 'video', 'game', ',', 'which', 'may', 'explain', 'the', 'tedious', 'use', 'of', 'Matrix-style', 'effects', '.', 'The', 'problem', 'with', 'this', 'is', 'that', 'the', 'game', 'was', 'a', 'first-person', 'shooter', '(', 'the', 'player', 'proceeds', 'from', 'the', 'POV', 'of', 'the', 'character', ')', '.', 'Maybe', 'that', \"'s\", 'why', 'they', 'put', 'in', 'the', 'game', 'graphics', ',', 'to', 'let', 'you', 'know', 'that', 'they', 'were', 'alluding', 'to', 'the', 'game', '...', 'Right', ',', 'whatever', '...', 'Anyway', ',', 'the', 'only', 'thing', 'that', 'made', 'this', 'ENTIRE', 'experience', 'remotely', 'enjoyable', 'was', 'the', 'fact', 'that', 'everyone', 'in', 'the', 'theatre', 'was', 'making', 'fun', 'of', 'the', 'movie', 'out', 'loud', ',', 'so', 'my', 'sudden', 'fits', 'of', 'hysterical', 'laughter', 'and', 'general', 'incredulity', 'were', 'taken', 'as', 'commonplace', 'and', 'did', \"n't\", 'get', 'me', 'kicked', 'out', '.', 'To', 'sum', 'up', ',', 'DO', \"N'T\", 'GO', 'SEE', 'THIS', 'MOVIE', '!', 'Do', \"n't\", 'even', 'deign', 'to', 'rent', 'it', 'when', 'it', 'comes', 'out', 'on', 'video', 'in', 'a', 'couple', 'of', 'week', '.', 'Run', '.', 'Just', 'run', '.'], ['Weak', 'plot', ',', 'unlikely', 'car', 'malfunction', ',', 'and', 'helpless', 'fumbling', 'characters', '.', 'At', 'first', 'I', 'thought', 'this', 'movie', 'was', 'made', 'during', 'the', 'seventies', ',', 'since', 'the', 'picture', 'quality', ',', 'as', 'well', 'as', 'the', 'storyline', 'and', 'drama', 'seemed', 'taken', 'from', 'an', 'old', 'Kojac', 'episode', '.', 'When', 'I', 'checked', 'and', 'found', 'that', 'it', 'was', 'really', 'made', 'as', 'late', 'as', '-97', 'I', 'was', 'astonished', '.', 'This', 'is', 'by', 'far', 'one', 'of', 'the', 'worst', 'and', 'least', '(', 'thriller', ')', 'movies', 'I', 'have', 'ever', 'seen', '.', 'If', 'you', 'read', 'this', ',', 'be', 'advised', ',', 'if', 'you', 'see', 'it', 'you', 'waste', 'time', 'when', 'you', 'could', 'have', 'done', 'something', 'more', 'exciting', ',', 'like', 'watching', 'paint', 'dry', '.'], ['I', 'saw', 'this', 'movie', 'primarily', 'to', 'see', 'Brooke', 'Burke', '(', 'as', 'Jill', ')', ',', 'who', 'I', 'had', 'meet', 'briefly', 'in', 'LA', 'at', 'a', 'modeling', 'trade', 'show', ',', 'in', 'her', 'first', 'feature', 'film', '.', 'I', 'was', 'hoping', 'to', 'see', 'more', 'of', 'her', ',', 'but', 'thought', 'she', 'did', 'very', 'well', 'acting', 'her', 'role', '.', 'Since', 'she', 'is', 'such', 'a', 'beautiful', 'and', 'poised', 'TV', 'host', ',', 'and', 'model', ',', 'it', 'was', 'not', 'surprising', '.', 'I', 'was', 'left', 'wondering', 'why', 'she', 'was', 'killed', ',', 'and', 'what', 'happened', 'as', 'a', 'result', '.', 'Maybe', 'I', 'just', 'missed', 'it', '.', 'I', 'was', \"n't\", 'really', 'sure', 'about', 'the', 'genre', 'of', 'this', 'movie', ',', 'and', 'although', 'I', 'liked', 'the', 'actors', 'I', 'felt', 'like', 'it', 'was', 'for', 'a', 'college', 'audience', '.', 'I', 'tried', 'to', 'keep', 'an', 'open', 'mind', 'considering', 'horror', 'was', \"n't\", 'my', 'favorite', 'genre', ',', 'but', 'felt', 'like', 'I', 'had', 'outgrown', 'the', 'gags', '.', 'It', 'seemed', 'to', 'drag', 'out', 'in', 'some', 'places', ',', 'leave', 'you', 'guessing', 'in', 'some', 'places', 'about', 'what', 'powers', 'the', 'evil', 'professor', 'had', ',', 'and', ',', 'like', 'a', 'lot', 'of', 'other', 'films', 'had', 'an', 'unsatisfying', 'ending', '.', 'Having', 'written', 'a', 'couple', 'of', 'scripts', ',', 'I', 'know', 'a', 'lot', 'of', 'this', 'is', 'difficult', 'and', 'may', 'come', 'down', 'to', 'personal', 'opinions', ',', 'how', 'many', 'movies', 'you', 'have', 'seen', '&', 'studied', ',', 'and', 'those', 'you', 'relate', 'with', 'at', 'a', 'point', 'in', 'time', '.', 'In', 'a', 'nutshell', ',', 'I', 'found', 'it', 'interesting', ',', 'but', 'not', 'a', 'satisfying', 'plot', 'and', 'ending', 'for', 'me', '.', 'If', 'Jill', '(', 'Brooke', 'Burke', ')', 'would', 'have', 'returned', 'through', 'the', 'portal', 'in', 'the', 'end', 'and', 'kicked', 'everyone', \"'s\", 'ass', 'that', 'would', 'be', 'a', 'satisfying', 'ending', 'and', 'would', 'earn', 'a', 'higher', 'rating', '.'], ['Another', 'movie', 'that', 'relies', 'upon', 'the', 'trite', ',', 'worn-out', 'cliché', 'of', 'the', 'mad', 'scientist', 'gone', 'madder', '.', 'The', 'movie', 'centers', 'around', 'a', 'surgeon', 'whose', 'life', \"'s\", 'ambition', 'is', 'to', 'bring', 'the', 'dead', '...', 'back', 'to', 'life', '.', 'I', 'know', ',', 'I', 'know', '...', 'you', \"'ve\", 'never', 'heard', 'that', 'one', 'before', '!', 'Of', 'course', ',', 'as', 'all', 'of', 'these', 'movies', 'go', ',', 'the', 'experiment', 'goes', 'very', ',', 'very', 'wrong', 'and', 'creates', 'a', 'maniacal', ',', 'bloodthirsty', 'creature', '.', 'For', 'this', 'promising', 'setup', ',', 'you', \"'d\", 'think', 'that', 'it', \"'d\", 'be', 'at', 'least', 'a', 'bit', 'suspenseful', '.', 'Wrong', '.', 'Like', 'many', 'movies', 'of', 'this', 'era', ',', 'the', 'idea', 'is', 'nice', ',', 'but', 'the', 'execution', 'and', 'the', 'script', 'is', 'mediocre', '.', 'Not', 'the', 'worst', 'horror', 'movie', 'I', \"'ve\", 'seen', '(', 'no', ',', 'Abominator', ':', 'the', 'Evilmaker', '2', 'still', 'takes', 'the', 'cake', ')', '...', 'but', 'not', 'one', 'of', 'the', 'gems', ',', 'either', '.'], ['The', 'good', 'fellas', 'at', 'Webster', \"'s\", 'Dictionary', 'define', 'Logophobia', 'as', 'the', '\\x91fear', 'of', 'words', \"'\", '.', 'I', 'may', 'just', 'be', 'Logophobic', '.', 'For', 'no', 'word', 'combination', 'scares', 'me', 'more', 'than', 'when', 'at', 'the', 'beginning', 'of', 'a', 'film', ',', 'credits', 'contain', 'the', 'words', '`Produced', ',', 'Written', 'and', 'Directed', 'by', ':', \"'\", ',', 'and', 'are', 'followed', 'by', 'a', 'single', 'individual', \"'s\", 'name', '.', 'Think', 'about', 'it', '.', 'There', 'are', 'carpenters', ',', 'electricians', 'and', 'plumbers', ',', 'but', 'so', 'few', 'jack-of-all-trades', '.', 'Even', 'the', 'most', 'seasoned', 'of', 'directors', 'like', 'Speilberg', 'and', 'Scorsese', 'rarely', 'take', 'such', 'control', 'of', 'their', 'films', '.', 'But', 'there', 'I', 'was', ',', 'all', 'nestled', 'in', 'my', 'theatre', 'seat', ',', 'popcorn', 'in', 'hand', 'and', 'about', 'to', 'watch', 'The', 'Order', 'when', 'hurled', 'at', 'me', 'like', 'a', 'Nolan', 'Ryan', 'fastball', ',', 'were', 'the', 'words', '`Produced', ',', 'Written', 'and', 'Directed', 'by', 'Brian', 'Helgeland', \"'\", '.', 'Whoa', '!', 'Being', 'a', 'film', 'buff', ',', 'I', 'knew', 'of', 'Brian', 'Helgeland', '.', 'As', 'a', 'writer', 'his', 'filmograpghy', 'over', 'the', 'past', '10', 'years', 'would', 'be', 'graphed', 'like', 'a', 'dotcom', 'company', \"'s\", 'stock', 'price', 'in', '1998', '.', 'There', 'were', 'as', 'many', 'theatrical', 'unpleasantries', '(', 'Assassins', ',', 'The', 'Postman', ',', 'Conspiracy', 'Theory', ')', 'as', 'there', 'were', 'critical', 'and', 'award', 'winning', 'successes', '(', 'L.A', '.', 'Confidential', ',', 'Mystic', 'River', ')', '.', 'They', 'seemed', 'to', 'alternate', '\\x96', 'one', 'good', ',', 'one', 'bad', ',', 'so', 'knowing', 'that', 'his', 'last', 'film', ',', 'BloodWork', 'was', 'one', 'of', 'the', 'most', 'wasted', 'efforts', 'in', 'Clint', 'Eastwood', \"'s\", 'career', ',', 'I', 'took', 'a', 'breath', 'and', 'hoped', 'for', 'the', 'best', '.', 'In', 'retrospect', ',', 'I', 'should', 'not', 'have', 'exhaled', '.', 'The', 'Order', 'stars', 'Heath', 'Ledger', '(', 'Helgeland', \"'s\", 'A', 'Knights', 'Tale', ')', ',', 'as', 'Alex', 'Bernier', ',', 'a', 'priest', 'in', 'an', 'order', 'known', 'as', 'the', 'Carolingians', ',', 'who', 'is', 'summoned', 'to', 'Rome', 'when', 'a', 'fellow', 'priest', 'is', 'killed', 'under', 'circumstances', 'that', 'the', 'Arch', 'Bishop', 'deems', '\\x91curious', \"'\", '.', 'Meeting', 'up', 'with', 'Father', 'Thomas', '(', 'also', 'of', 'the', 'Order', 'and', 'played', 'wonderfully', 'by', 'Still', 'Standings', \"'\", 'Mark', 'Addy', ')', ',', 'they', 'set', 'out', 'to', 'piece', 'together', 'the', 'riddle', 'left', 'behind', 'in', 'the', 'wake', 'of', 'the', 'priest', \"'s\", 'untimely', 'death', '.', 'Complicating', 'matters', 'is', 'a', 'sub', 'plot', 'involving', 'Mara', 'Sinclair', '(', 'played', 'by', 'Shannyn', 'Sossamon', ')', 'who', 'has', 'escaped', 'from', 'an', 'institution', 'that', 'was', 'the', 'result', 'of', 'her', 'attempts', 'to', 'kill', 'Alex', 'during', 'an', 'exorcism', '.', 'Alex', 'has', 'feelings', 'towards', 'Mara', 'and', 'for', 'some', 'reason', 'unbeknownst', 'to', 'the', 'audience', ',', 'they', 'travel', 'to', 'Rome', 'together', '.', 'Nary', 'a', 'good', 'nights', 'sleep', 'goes', 'by', 'and', 'Alex', 'is', 'confronted', 'by', 'William', 'Eden', '(', 'Benno', 'Fürmann', ')', 'who', 'claims', 'to', 'be', 'a', 'centuries', 'old', 'Sin', 'Eater', '.', 'A', 'Sin', 'Eater', ',', 'as', 'we', 'are', 'told', ',', 'are', 'those', 'that', 'eat', 'the', 'sins', 'of', 'a', 'dying', 'individual', 'when', 'the', 'church', 'does', 'not', ',', 'thus', 'allowing', 'entrance', 'into', 'Heaven', '.', 'William', ',', 'as', 'luck', 'would', 'have', 'it', ',', 'is', 'tired', 'of', 'a', 'life', 'of', 'healing', 'and', 'looks', 'for', 'Alex', 'to', 'take', 'over', 'his', 'role', 'and', 'free', 'him', 'from', 'his', 'worldly', 'duties', '.', 'Alex', 'is', 'reluctant', ',', 'but', 'after', 'the', 'death', 'of', 'his', 'new', 'love', 'Mara', ',', 'Alex', 'resorts', 'to', 'the', 'ritual', 'of', 'the', 'Sin', 'Eater', 'to', 'save', 'her', 'and', 'the', 'transformation', 'is', 'complete', '.', 'Alex', 'then', 'searches', 'for', 'answers', 'to', 'his', 'many', 'queries', 'while', 'Father', 'Thomas', 'unveils', 'the', 'Vatican', 'plot', 'behind', 'the', 'passing', 'of', 'authority', 'to', 'his', 'fellow', 'investigator', '.', 'The', 'Order', 'is', 'not', 'a', 'terrible', 'film', ',', 'but', 'it', 'is', 'terribly', 'boring', '.', 'There', 'were', 'ridiculous', 'special', 'effects', 'and', 'no', 'connection', 'with', 'any', 'of', 'the', 'characters', '.', 'Even', 'in', 'the', 'most', 'dramatic', 'scene', '-', 'that', 'of', 'Alex', 'walking', 'in', 'on', 'the', 'dying', 'Mara', '-', 'is', 'pale', 'and', 'bland', 'and', 'leaves', 'us', 'with', 'no', 'emotional', 'response', 'towards', 'the', 'couple', \"'s\", 'plight', '.', 'Everybody', 'seems', 'to', 'talk', 'so', 'quietly', 'and', 'unemotionally', 'that', 'the', 'film', 'flat', 'lines', 'and', 'smelling', 'salts', 'could', 'have', 'been', 'administered', 'to', 'keep', 'me', 'from', 'trying', 'to', 'grab', 'a', 'quick', 'nap', 'in', 'the', 'middle', 'of', 'the', 'film', '.', 'So', ',', 'Mr.', 'Helgeland', ',', 'I', 'plead', 'with', 'you', 'not', 'to', 'try', 'this', 'again', '.', 'Share', 'your', 'vision', 'with', 'others', 'and', 'allow', 'those', 'more', 'experienced', 'to', 'help', 'direct', 'you', 'in', 'directions', 'that', 'are', 'not', 'so', 'narrow', 'minded', 'and', 'self-serving', '.', 'Until', 'then', ',', 'there', 'is', 'nothing', 'emanating', 'that', 'shows', 'you', 'are', 'capable', 'of', 'anything', 'more', 'than', 'a', 'failing', 'grade', '.', 'Two', 'stars', '.'], ['Unless', 'you', 'are', 'mentally', 'ill', 'or', 'the', 'most', 'die', 'hard', 'segal', 'fan', 'you', 'will', 'tire', 'of', 'this', 'horrendous', 'excuse', 'for', 'a', 'film', 'in', 'under', '5', 'minutes', '.', 'The', 'Plot', '-', 'Even', 'for', 'a', 'Seagal', 'film', ',', 'the', 'plot', 'is', 'just', 'stupid', '.', 'I', 'mean', 'its', 'not', 'just', 'bad', ',', 'its', 'barely', 'coherent', '.', 'The', 'Acting', '-', 'Unbelievably', 'wooden', '.', 'Literally', 'seen', 'better', 'acting', 'in', 'porno', \"'s\", '.', 'Ironically', 'this', 'film', 'tries', 'to', 'cash', 'in', 'on', 'this', 'audience', 'which', 'a', \"'lesbian\", 'love', 'scene', \"'\", 'which', 'is', 'utterly', 'cringe-worthy', '.', 'Special', 'Effects', '-', 'would', \"n't\", 'look', 'out', 'of', 'place', 'in', 'a', '60', \"'s\", 'sword', 'and', 'sorcery', 'flick', '.', 'Unless', 'you', 'suffer', 'from', 'insomnia', 'and', 'have', 'exhausted', 'all', 'other', 'cures', ',', 'do', \"n't\", 'make', 'the', 'same', 'mistake', 'as', 'i', 'did', 'and', 'buy', 'this', 'DVD', ',', 'as', 'you', 'will', 'be', 'asking', 'for', 'that', 'hour', 'and', 'a', 'half', 'of', 'your', 'life', 'back', '.'], ['Actually', 'had', 'to', 'stop', 'it', '.', 'Do', \"n't\", 'get', 'me', 'wrong', ',', 'love', 'bad', 'monster', 'movies', '.', 'But', 'this', 'one', 'was', 'way', 'too', 'boring', ',', 'regardless', 'of', 'the', 'suspenseful', 'music', 'that', 'never', 'leads', 'you', 'anywhere', '.', 'The', 'actress', 'had', 'too', 'many', 'teeth', 'and', 'that', 'moment', 'when', 'she', 'makes', 'contact', 'with', 'one', 'of', 'the', 'beasts', ',', 'was', 'way', 'too', 'obvious', 'a', 'cliché', '.', 'This', 'film', 'totally', 'betrays', 'the', 'cover', 'on', 'the', 'DVD', 'which', 'looks', 'pretty', 'interesting', '.', 'From', 'the', 'cover', 'one', 'expects', 'a', 'giant', 'monster', ',', 'but', 'you', 'get', 'these', 'cute', 'not', 'as', 'gigantic', 'as', 'expected', 'electric', 'eels', '.', 'Moved', 'on', 'to', 'watch', 'another', 'film', 'called', 'The', 'Killer', 'Rats', 'but', 'that', \"'s\", 'another', 'review', '.', 'Deep', 'Shock', 'was', 'really', 'crap', ',', 'a', 'big', 'shame', 'considering', 'the', 'fact', 'that', 'it', 'looks', 'pretty', 'high', 'budget', '.'], ['``', 'A', 'trio', 'of', 'treasure', 'hunters', 'is', 'searching', 'the', 'West', 'Indies', 'for', 'a', 'hidden', 'fortune', '.', 'The', 'lure', 'of', 'gold', 'makes', 'for', 'a', 'rise', 'in', 'tension', 'as', 'the', 'men', 'come', 'closer', 'to', 'the', 'treasure', \"'s\", 'location', '.', 'The', 'deep-sea', 'divers', 'hope', 'to', 'track', 'down', 'the', 'gold', ',', 'but', 'find', 'that', 'greed', 'and', 'hatred', 'leads', 'to', 'murder', ',', \"''\", 'according', 'to', 'the', 'DVD', 'sleeve', \"'s\", 'synopsis', '.', '``', 'Manfish', \"''\", 'is', 'the', 'name', 'of', 'their', 'boat', ',', 'not', 'a', 'monster', '.', 'The', 'skeleton', 'who', 'gives', 'muscular', 'Captain', 'John', 'Bromfield', '(', 'as', 'Brannigan', ')', 'his', 'half', 'of', 'the', 'treasure', 'map', 'is', 'very', 'good', '.', 'Old', 'salt', 'Victor', 'Jory', '(', 'as', 'Professor', ')', 'provides', 'the', 'other', 'half', 'of', 'the', 'map', '.', 'First', 'mate', 'Lon', 'Chaney', 'Jr.', '(', 'as', 'Swede', ')', 'plays', 'dumb', ',', 'and', 'sexy', 'Tessa', 'Prendergast', '(', 'as', 'Alita', ')', 'guards', 'the', 'rum', '(', 'not', 'very', 'well', ',', 'obviously', ')', '.', 'Serious', 'editing', 'and', 'continuity', 'problems', 'mar', 'the', 'picture', ',', 'which', 'otherwise', 'might', 'have', 'amounted', 'to', 'something', '.', '***', 'Manfish', '(', '2/56', ')', 'W.', 'Lee', 'Wilder', '~', 'John', 'Bromfield', ',', 'Victor', 'Jory', ',', 'Lon', 'Chaney', 'Jr', '.'], ['NATIONAL', 'LAMPOON', \"'S\", 'CLASS', 'REUNION', 'was', 'a', 'flop', 'when', 'it', 'was', 'released', '.', 'It', 'did', \"n't\", 'stay', 'long', 'in', 'theaters', 'in', 'my', 'big', 'city', '.', 'Why', '?', 'Because', 'it', \"'s\", 'BAD', '!', '!', '!', '!', '!', 'Not', 'bad', 'in', 'a', 'good', 'way', 'but', 'bad', 'in', 'a', 'really', 'painfully', 'unfunny', 'way', '.', 'The', 'entire', 'cast', 'of', 'actors', 'were', 'mostly', 'unknowns', 'then', 'and', 'have', 'remained', 'unknowns', 'after', 'this', 'turkey', '.', 'The', 'idea', 'is', 'actually', 'great', '(', 'a', 'parody', 'of', 'slasher', 'flicks', ')', 'but', 'the', 'execution', 'is', 'sorely', 'lacking', 'in', 'every', 'aspect', '.', 'Just', 'avoid', 'this', '``', 'comedy', \"''\", '.', 'Your', 'time', 'is', 'more', 'precious', 'than', 'spending', 'a', 'nanosecond', 'watching', 'this', 'embarrassing', 'misfire', '.'], ['I', 'will', 'give', 'it', 'a', '3', 'just', 'because', 'it', 'showed', 'history', 'that', 'we', 'need', 'to', 'know', 'about', ',', 'to', 'prevent', 'it', 'from', 'happening', 'again', '.', 'I', 'agree', 'with', 'the', 'comments', 'from', 'the', 'gentleman', 'from', 'UK', '.', 'The', 'movie', 'was', 'pretty', 'terrible', '.', 'All', 'cliché', ',', 'no', 'real', 'plot', '.', 'Historical', 'and', 'technical', 'inaccuracies', 'abound', '.', 'Look', 'up', 'the', 'technical', 'specs', 'on', 'DE', '529', ',', 'or', 'any', 'Everts', 'class', 'Destroyer', 'Escort', ',', 'and', 'you', 'will', 'see', 'what', 'I', 'mean', '.', 'I', 'now', 'its', 'black', 'history', 'month', 'in', 'the', 'US', ',', 'and', 'Im', 'going', 'to', 'be', 'called', 'a', 'racist', 'just', 'for', 'saying', 'this', ',', 'but', 'the', 'history', 'of', 'this', 'ship', 'is', 'not', 'that', 'great', '.', 'They', 'did', 'some', 'escort', 'work', ',', 'chased', 'a', '``', 'submarine', \"''\", 'that', 'turned', 'out', 'to', 'be', 'a', 'hulk', 'that', 'they', 'rammed', '.', 'Sorry', ',', 'but', 'black', 'people', 'did', 'a', 'lot', 'more', 'in', 'WWII', 'then', 'this', 'silly', 'movie', 'gives', 'them', 'credit', 'for', '.', 'This', 'movie', 'makes', 'them', 'look', 'like', 'whiners', '.', 'Let', 'the', 'name', 'calling', 'commence', ',', 'I', 'can', 'handle', 'it', '.'], ['I', 'saw', 'this', 'movie', 'when', 'it', 'was', 'released', ',', 'and', 'my', 'distaste', 'for', 'it', 'has', 'stuck', 'with', 'me', 'all', 'these', 'years', '.', 'Here', \"'s\", 'why', ':', 'Greenaway', \"'s\", 'goal', 'seems', 'to', 'be', 'to', 'take', 'every', 'literary', 'image', 'in', 'the', 'Tempest', 'and', 'make', 'it', 'literal', '.', 'If', 'a', 'character', 'were', 'to', 'say', ',', '``', 'my', 'heart', 'takes', 'flight', ',', \"''\", 'we', \"'d\", 'be', 'shown', 'an', 'actual', 'human', 'heart', ',', 'with', 'pigeon', 'wings', 'attached', ',', 'flapping', 'across', 'the', 'screen', '.', 'This', 'process', 'makes', 'for', 'some', 'lush', 'tableaux', ',', 'but', 'ultimately', 'it', \"'s\", 'a', 'facile', 'exercise', '.', 'And', 'it', 'becomes', 'deadly', 'boring', '.', 'I', 'do', \"n't\", 'begrudge', 'the', 'pleasure', 'other', 'viewers', 'found', 'in', 'this', 'movie', ',', 'but', 'it', \"'s\", 'worth', 'knowing', 'that', 'not', 'everyone', 'in', 'the', 'audience', 'was', 'enraptured', '.'], ['...', 'okay', ',', 'maybe', 'not', 'all', 'of', 'it', '.', 'Lured', 'by', 'the', 'false', 'promise', 'of', 'bikini-clad', 'women', 'on', 'the', 'movie', \"'s\", 'cover', '...', 'but', 'the', 'HORROR', '...', 'THE', 'HORROR', '...', '...', 'whatever', 'you', 'do', ',', 'do', 'NOT', 'watch', 'this', 'movie', '.', 'Gouge', 'out', 'your', 'eyes', ',', 'repeatedly', 'bash', 'your', 'skull', 'in', '...', 'do', 'what', 'it', 'takes', '.', 'Never', 'again', '--', 'never', 'forget', '!'], ['Having', 'seen', 'the', 'first', 'ten', 'episodes', ',', 'I', 'must', 'say', 'this', 'show', 'sucks', '.', 'What', 'bothers', 'me', 'the', 'most', ',', 'is', 'that', 'the', 'show', 'was', 'shot', 'in', 'Canada', '.', 'I', 'know', 'it', \"'s\", 'cheaper', ',', 'but', 'they', 'should', 'have', 'shot', 'it', 'in', 'California', ',', 'so', 'we', 'could', 'have', 'had', 'scenes', 'in', 'the', 'desert', '.', 'That', 'would', 'have', 'been', 'more', 'true', 'to', 'the', 'movie', '.', 'The', 'first', 'scene', 'where', 'they', 'are', 'outside', 'in', 'another', 'world', 'is', 'in', 'the', 'mountains', ',', 'with', 'lots', 'of', 'pinetrees', 'where', 'it', 'looks', 'cold', '.', 'That', \"does'nt\", 'feel', 'very', 'Egyptian', '.', 'What', 'worked', 'so', 'well', 'in', 'the', 'movie', 'was', 'that', 'it', 'felt', 'like', 'you', 'were', 'in', 'the', 'ancient', 'Egypt', '.', 'Here', 'it', 'feels', 'like', 'they', \"'re\", 'running', 'around', 'fighting', 'aliens', 'in', 'a', 'Canadian', 'forrest', '.', 'And', 'it', \"'s\", 'so', 'lame', 'that', 'appaerantly', ',', 'on', 'other', 'planets', ',', 'the', 'fall', 'comes', 'as', 'well', '.', 'You', 'can', 'see', 'leaves', 'on', 'the', 'ground', 'in', 'the', 'forrests', 'that', 'all', 'look', 'like', 'forrests', 'outside', 'Vancouver', '.', 'It', 'just', 'makes', 'the', 'show', 'even', 'more', 'unbelievable', 'and', 'dumb', '.', 'And', 'then', 'there', 'is', 'Richard', 'Dean', 'Anderson', '.', 'He', 'is', 'no', 'Kurt', 'Russel', '.', 'Sure', 'he', 'does', 'a', 'decent', 'job', 'and', 'he', 'tries', 'to', 'copy', 'Russels', 'performance', 'a', 'little', 'bit', ',', 'but', 'he', 'is', 'just', 'not', 'as', 'cool', 'as', 'Russel', '.', 'And', 'not', 'nearly', 'as', 'good', 'an', 'actor', 'as', 'Russel', '.', 'And', 'Russells', 'way', 'of', 'playing', 'O', 'Neill', ',', 'well', 'he', 'was', 'much', 'more', 'cynical', '.', 'Andersons', 'O', 'Neil', ',', 'is', 'way', 'too', 'soft', '.', 'I', 'liked', 'it', 'that', 'Russels', 'version', 'just', \"did'nt\", 'give', 'a', 's***', 'and', 'had', 'no', 'trouble', 'detonating', 'the', 'bomb', 'until', 'the', 'very', 'end', 'of', 'the', 'movie', '.', 'Michael', 'Shanks', 'does', 'a', 'really', 'good', 'job', 'as', 'Jackson', 'though', 'taking', 'over', 'from', 'James', 'Spader', '.', \"Teal'c\", 'is', 'a', 'really', 'annoying', 'character', '.', 'He', 'is', 'Jaffa', '.', 'Not', 'a', 'Jaffa', '.', 'Just', 'Jaffa', '.', 'Aaaarrgh', '!', '!', 'A', 'former', 'bodyguard', 'of', 'a', 'pathetic', 'Ra', 'character', ',', 'seen', 'only', 'in', 'the', 'pilot', 'and', 'in', 'one', 'other', 'episode', 'so', 'far', '.', \"Teal'c\", 'speaks', 'talks', 'and', 'acts', 'like', 'a', 'robot', '.', 'I', \"'ve\", 'seen', 'better', 'acting', 'from', 'Jean', 'Claude', 'Van', 'Damme', '.', 'And', 'the', 'fact', 'that', \"Teal'c\", 'and', 'the', 'Ra', 'character', 'and', 'the', 'people', 'they', 'saved', 'in', 'the', 'movie', ',', 'can', 'speak', 'English', 'all', 'of', 'a', 'sudden', 'is', 'also', 'incredibly', 'dumb', '.', 'What', 'made', 'the', 'aliens', 'so', 'scary', 'in', 'the', 'movie', 'was', 'that', 'they', 'spoke', 'an', 'ancient', 'language', 'and', 'were', 'real', 'monsters', '.', 'As', 'for', 'the', 'special', 'effects', ',', 'they', 'are', 'really', 'good', 'in', 'the', 'pilot', '.', 'But', 'the', 'very', 'rare', 'effects', 'in', 'the', 'actual', 'show', 'are', 'badly', 'done', 'and', 'looks', 'cheap', '.', 'Especially', 'a', 'planet', 'they', 'visit', 'with', 'crystals', '.', 'It', \"'s\", 'so', 'obvious', 'they', 'walk', 'around', 'on', 'a', 'soundstage', 'with', 'a', 'badly', 'made', 'painting', 'in', 'the', 'background', '.', 'It', \"'s\", 'an', 'insult', 'to', 'us', 'viewers', 'that', 'they', 'made', 'it', 'look', 'so', 'cheap', '.', 'Especially', 'when', 'they', 'could', 'have', 'made', 'it', 'in', 'front', 'of', 'a', 'bluescreen', 'with', 'cgi', 'backgrounds', '.', 'The', 'X-files', 'had', 'better', 'effects', 'when', 'they', 'aired', 'their', 'first', 'episodes', 'in', '1993', '.', 'That', 'was', '4', 'years', 'before', 'SG-1', 'started', '.', 'And', 'they', \"did'nt\", 'have', 'the', 'apparent', 'two', 'million', 'dollar', 'budget', 'per', 'episode', ',', 'that', 'SG-1', 'supposedly', 'had', '.', 'They', 'must', 'have', 'spend', 'all', 'the', 'money', 'on', 'catering', '.', 'Because', 'I', 'do', \"n't\", 'see', 'it', 'on', 'the', 'screen', '.', 'Incredibly', 'boring', 'and', 'pointless', 'show', ',', 'that', 'could', 'have', 'been', 'great', 'if', 'they', 'had', 'shot', 'the', 'show', 'in', 'Hollywood', 'with', 'a', 'bigger', 'budget', 'and', 'better', 'writers', 'and', 'better', 'characters', '.'], ['This', 'overrated', ',', 'short-lived', 'series', '(', 'a', 'measly', 'two', 'seasons', ')', 'is', 'about', 'as', 'experimental', 'and', 'unique', 'as', 'a', 'truck', 'driver', 'going', 'to', 'a', 'strip', 'bar', '.', 'I', 'am', 'not', 'quite', 'sure', 'what', 'they', 'mean', 'by', '``', 'ground-breaking', \"''\", 'and', '``', 'original', \"''\", 'when', 'they', 'fawn', 'all', 'over', 'Lynch', 'and', 'his', 'silly', 'little', 'TV', 'opus', '.', 'What', 'exactly', 'is', 'their', 'criteria', 'of', 'what', 'is', 'original', '?', 'Sure', ',', 'compared', 'to', 'the', '``', 'Bill', 'Cosby', 'Show', \"''\", 'or', '``', 'Hill', 'Street', 'Blues', \"''\", 'it', \"'s\", 'original', '.', 'Definitely', '.', 'Next', 'to', '``', 'Law', '&', 'Order', \"''\", 'TP', 'spews', 'originality', 'left', 'and', 'right', '.', 'Fans', 'of', 'TP', 'often', 'say', 'that', 'the', 'show', 'was', 'canceled', 'because', 'too', 'many', 'viewers', 'were', \"n't\", 'smart', 'enough', ',', 'open', 'enough', 'for', 'the', 'show', \"'s\", 'supposed', '``', 'weirdness', \"''\", ',', 'its', 'alleged', 'wild', 'ingenuity', ',', 'or', 'whatever', '.', 'As', 'a', 'fan', 'of', 'weirdness', 'myself', ',', 'I', 'have', 'to', 'correct', 'that', 'misconception', '.', 'There', 'is', 'nothing', 'too', 'off-the-wall', 'about', 'TP', ';', 'it', 'is', 'a', 'merely', 'watchable', ',', 'rather', 'silly', 'whodunit', 'that', 'goes', 'around', 'in', 'circles', ',', 'spinning', 'webs', 'in', 'every', 'corner', 'but', '(', 'or', 'because', 'of', 'it', ')', 'ultimately', 'going', 'nowhere', '.', 'The', 'supposed', 'weirdness', 'is', 'always', 'forced', ';', 'the', 'characters', 'do', \"n't\", 'behave', 'in', 'a', 'strange', 'way', 'as', 'much', 'as', 'they', 'behave', 'in', 'an', 'IDIOTIC', 'way', 'half', 'the', 'time', '.', 'There', \"'s\", 'a', 'difference', '...', 'Whenever', 'I', 'watch', 'the', '``', 'weird', 'dream', \"''\", 'sequence', 'in', '``', 'Living', 'In', 'Oblivion', \"''\", 'in', 'which', 'the', 'dwarf', 'criticizes', 'the', 'director', '(', 'Buscemi', ')', 'for', 'succumbing', 'to', 'the', 'tired', 'old', \"let's-use-a-midget-in-a-dream-scene\", 'cliché', ',', 'I', 'think', 'of', 'Lynch', '.', 'You', 'want', 'weird', '?', '``', 'Eraserhead', \"''\", 'is', 'weird', '-', 'in', 'fact', ',', 'it', \"'s\", 'beyond', 'weird', ',', 'it', \"'s\", 'basically', 'abstract', '.', 'You', 'want', 'a', 'unique', 'TV', 'show', '?', 'Watch', '``', 'The', 'Prisoner', \"''\", '.', 'You', 'want', 'a', 'strange-looking', 'cast', '?', 'Felini', \"'s\", 'and', 'Leone', \"'s\", 'films', 'offer', 'that', '.', 'TP', 'looks', 'like', 'an', 'overly', 'coiffed', 'TV', 'crime', 'drama', 'in', 'which', 'all', 'the', 'young', 'people', 'look', 'like', 'fashion', 'models', '.', 'The', 'cast', 'gives', 'TP', 'a', 'plastic', 'look', '.', 'Kens', '&', 'Barbies', 'en', 'masse', '.', 'In', 'fact', ',', 'one', 'of', 'the', 'producers', 'of', 'TP', 'said', 'that', 'Lynch', 'was', 'looking', 'for', '``', 'unique', 'faces', \"''\", 'for', 'the', 'series', '.', 'Unique', 'faces', '?', 'Like', 'Lara', 'Flynn', 'Boyle', \"'s\", '?', 'Sheryll', 'Fenn', \"'s\", '?', 'Like', 'those', 'effeminate-faced', '``', 'hunks', \"''\", 'straight', 'out', 'of', 'men', \"'s\", 'catalogs', '(', 'or', 'gay', 'magazines', ')', '?', 'Do', \"n't\", 'get', 'me', 'wrong', ';', 'there', 'is', 'nothing', 'wrong', 'with', 'getting', 'an', 'attractive', 'cast', ',', 'especially', 'with', 'beauties', 'like', 'Fenn', '(', 'the', 'way', 'Madonna', 'would', 'look', 'if', 'she', 'were', '1000', 'times', 'prettier', ')', ',', 'but', 'then', 'do', \"n't\", 'go', 'around', 'saying', 'you', \"'re\", 'making', 'a', '``', 'weird', 'show', 'with', 'weird-looking', 'people', \"''\", '.', 'And', 'I', 'have', 'never', 'understood', 'Lynch', \"'s\", 'misguided', 'fascination', 'with', 'Kyle', 'MacLachlan', '(', 'I', 'should', 'get', 'a', 'medal', 'for', 'bothering', 'to', 'spell', 'his', 'name', 'right', ')', '.', 'He', 'is', 'not', 'unlikable', ',', 'but', 'lacks', 'charisma', ',', 'seeming', 'a', 'little', 'too', 'bland', 'and', 'polished', '.', 'His', 'character', \"'s\", 'laughable', '``', 'eccentricities', \"''\", 'were', 'not', 'at', 'all', 'interesting', ',', 'merely', 'one', 'of', 'Lynch', \"'s\", 'many', 'attempts', 'to', 'force', 'the', 'weirdness', ',', 'trying', 'hard', 'to', 'live', 'up', 'to', 'his', 'reputation', '-', 'him', 'having', 'completely', 'lost', 'his', 'edge', 'but', 'that', 'time', '.', 'Everything', 'Lynch', 'made', 'post-', \"''\", 'Elephant', 'Man', \"''\", 'was', 'very', 'much', 'sub-par', 'compared', 'to', 'his', 'first', 'two', 'movies', '.', 'What', 'followed', 'were', 'often', 'mediocre', 'efforts', 'that', 'relied', 'on', 'Lynch', \"'s\", 'relatively', 'small', 'but', 'fanatical', 'fan', 'base', 'to', 'keep', 'him', 'in', 'the', 'public', 'eye', 'by', 'interpreting', 'meanings', 'into', 'his', 'badly', 'put-together', 'stories', 'that', 'do', \"n't\", 'hold', 'any', 'water', 'on', 'closer', 'scrutiny', '.', 'In', 'other', 'words', ',', 'Lynch', 'is', 'every', 'intellectual-wannabe', \"'s\", 'darling', '.', 'So', 'Laura', 'Palmer', 'was', 'killed', 'by', 'her', 'Dad', '...', '?', 'He', 'was', 'obsessed', 'by', 'the', 'devil', 'or', 'some', 'such', 'nonsense', '.', 'That', \"'s\", 'the', 'best', 'this', '``', 'great', 'mind', \"''\", 'could', 'come', 'up', 'with', '...', 'You', \"'ve\", 'got', 'B-movie', 'horror', 'films', 'that', 'end', 'with', 'more', 'originality', '.', 'Lynch', 'is', 'neither', 'bright', 'nor', 'hard-working', 'enough', 'to', 'come', 'up', 'with', 'a', 'terrific', 'story', '.', 'Go', 'to', 'http', ':', '//rateyourmusic.com/~Fedor8', ',', 'and', 'check', 'out', 'my', '``', 'TV', '&', 'Cinema', ':', '150', 'Worst', 'Cases', 'Of', 'Nepotism', \"''\", 'list', '.'], ['I', \"'ll\", 'admit', 'that', 'I', 'liked', 'the', 'first', 'one', ',', 'and', 'was', 'really', 'looking', 'forward', 'to', 'the', 'sequel', '.', 'I', 'was', 'let', 'down', '.', 'Sure', 'the', 'special', 'effects', 'were', 'technically', 'amazing', '--', 'but', 'they', 'were', \"n't\", 'believable', 'looking', '.', 'It', 'looked', 'more', 'like', 'a', 'cartoon', '.', 'Alright', ',', 'I', 'admit', 'to', 'liking', '80', '%', 'of', 'the', 'chase', 'scene', '--', 'but', 'the', 'fight', 'with', 'all', 'the', 'Mr', 'Smiths', '?', 'It', 'was', 'too', 'obviously', 'animated', '.', 'I', 'can', 'accept', 'all', 'of', 'that', '.', 'What', 'I', 'ca', \"n't\", 'accept', 'is', 'that', 'the', 'non-action', 'parts', 'were', 'crap', '.', 'Every', 'time', 'Morpheus', 'opened', 'his', 'mouth', ',', 'I', 'knew', 'I', 'was', 'in', 'for', 'a', 'speech', 'that', 'went', 'on', 'forever', 'and', 'signified', 'nothing', '.', 'I', 'was', 'also', 'disappointed', 'with', 'the', 'little', 'plot', 'that', 'did', 'exist', '.', 'What', 'this', 'movie', 'did', 'was', 'tell', 'us', 'that', 'there', 'was', 'no', 'truth', 'in', 'the', 'first', 'movie', '(', 'except', 'about', 'the', 'existence', 'of', 'the', 'matrix', ')', '.', 'This', 'movie', 'was', 'a', 'little', 'like', 'seeing', 'the', 'episode', 'of', 'DALLAS', 'where', 'you', 'find', 'out', 'that', 'the', 'entire', 'previous', 'season', 'was', 'a', 'dream', '.', 'Ugh', '!', 'I', 'want', 'my', '$', '7.00', 'back', '!'], ['This', 'is', 'a', 'review', 'of', 'The', 'Wizard', ',', 'not', 'to', 'be', 'confused', 'with', 'The', 'Wiz', ',', 'or', 'Mr.', 'Wizard', '.', 'The', 'Wizard', 'is', 'a', 'late-eighties', 'film', 'about', 'a', 'seriously', 'silent', 'boy', \"'s\", 'ability', 'to', 'play', 'video', 'games', 'and', 'walk', 'during', 'the', 'entire', 'opening', 'credits', '.', 'The', 'Wiz', 'is', 'an', 'unnecessary', 'update', 'of', 'The', 'Wizard', 'of', 'Oz', ',', 'and', 'Mr.', 'Wizard', 'is', 'that', 'guy', 'that', 'attached', '100', 'straws', 'together', 'and', 'had', 'some', 'kid', 'drink', 'tang', 'out', 'of', 'it', '.', 'Now', 'that', 'we', \"'ve\", 'gotten', 'all', 'that', 'out', 'of', 'the', 'way', ',', 'let', 'me', 'say', 'this', ':', 'there', \"'s\", 'really', 'no', 'reason', 'to', 'see', 'this', 'movie', '.', 'It', \"'s\", 'simply', 'a', '100', 'minute', 'Nintendo', 'commercial', 'designed', 'to', 'capitalize', 'on', 'the', 'Powerglove', ',', 'the', 'Legend', 'of', 'Zelda', 'and', 'Super', 'Mario', 'Brothers', '3', '.', 'I', 'use', 'the', 'word', '``', 'designed', \"''\", 'in', 'the', 'loosest', 'sense', 'possible', ',', 'because', 'it', 'seems', 'like', 'this', 'movie', 'was', 'written', 'over', 'a', 'weekend', 'by', 'a', 'crack', 'team', 'of', 'people', 'who', 'had', 'never', 'played', 'Nintendo', ',', 'and', 'directed', 'by', 'a', 'man', 'with', 'less', 'sense', 'of', 'style', 'than', 'my', 'grandmother', '.', 'Maybe', 'if', 'the', 'writer', 'and', 'director', 'sat', 'down', 'and', 'actually', 'played', 'some', 'games', 'together', ',', 'they', \"'d\", 'realize', 'that', 'they', 'were', 'about', 'to', 'film', 'total', 'rubbish', 'and', 'instead', 'go', 'to', 'vocational', 'school', 'to', 'learn', 'how', 'to', 'install', 'car', 'stereos', '.', 'I', 'hope', 'that', 'this', 'has', 'been', 'an', 'enlightening', 'experience', 'for', 'you', '.', 'It', 'sure', 'has', \"n't\", 'been', 'for', 'me', '.', 'In', 'fact', ',', 'I', 'think', 'I', 'might', 'have', 'lost', 'a', 'few', 'braincells', 'in', 'the', 'act', 'of', 'watching', 'this', 'movie', 'and', 'writing', 'about', 'it', '.', 'Next', 'time', 'you', \"'re\", 'at', 'the', 'video', 'store', 'and', 'you', 'see', 'the', 'The', 'Wiz', ',', 'The', 'Wizard', 'and', 'The', 'Wizard', 'of', 'Oz', 'all', 'sitting', 'there', 'on', 'the', 'shelf', 'in', 'a', 'pretty', 'little', 'row', ',', 'give', 'them', 'all', 'a', 'miss', 'and', 'play', 'Duck', 'Hunt', 'instead', '.'], ['This', 'was', 'disappointing', '.', 'It', 'started', 'well', 'enough', 'but', 'as', 'it', 'went', 'on', 'and', 'lost', 'every', 'opportunity', 'to', 'soar', ',', 'it', 'fell', 'flat', '.', 'Maria', 'Schrader', \"'s\", 'acting', 'is', 'dreadful', ',', 'never', 'seeming', 'to', 'mean', 'what', 'she', 'says', ',', 'or', 'even', 'knowing', 'what', 'she', 'says', 'until', 'she', 'says', 'it', '.', 'She', 'showed', 'no', 'genuine', 'emotion', 'at', 'all', ',', 'not', 'for', 'her', 'beloved', 'goy', ',', 'or', 'her', 'mother', \"'s\", 'story', '.', 'When', 'with', 'Lena', 'she', 'seemed', 'to', 'have', 'little', 'more', 'than', 'an', 'academic', 'interest', 'in', 'Lena', \"'s\", 'story', '.', 'There', 'never', 'seemed', 'to', 'be', 'a', 'real', 'relationship', 'between', 'Lena', 'and', 'her', 'mother', 'except', 'her', 'mother', 'seemed', 'to', 'be', 'having', 'a', 'good', 'time', 'at', 'the', 'wedding', ',', 'which', 'is', \"n't\", 'much', '.', 'The', 'supposed', 'parallel', 'between', 'Hannah', \"'s\", '``', 'mixed', \"''\", 'romance', 'and', 'her', 'mother', \"'s\", 'relationship', 'with', 'her', 'father', 'was', 'as', 'cliché', 'as', 'they', 'come', ',', 'and', 'failed', 'miserably', 'anyway', '.', 'The', 'wedding', 'was', 'completely', 'unconvincing', 'and', 'a', 'dumb', 'finish', '.', 'The', 'climax', 'of', 'the', 'protest', 'was', 'uninspiring', ',', 'and', 'no', 'matter', 'what', 'Lena', 'had', 'or', 'had', 'not', 'done', 'to', 'influence', 'the', 'outcome', ',', 'she', 'would', 'surely', 'have', 'shown', 'some', 'complexity', 'of', 'feeling', 'at', 'the', 'time', ',', 'a', 'haunted', 'look', ',', 'an', 'inexplicable', 'ambivalence', '.', 'In', 'fact', ',', 'none', 'of', 'the', 'characters', 'in', 'the', 'film', 'had', 'any', 'depth', 'or', 'spark', '.', 'It', 'was', 'very', 'hard', 'to', 'care', 'about', 'any', 'of', 'them', ',', 'even', 'little', 'Ruth', '.', 'Everything', 'with', 'Luis', 'was', 'a', 'distraction', '.', '(', 'Why', 'did', 'she', 'dis', 'him', 'so', 'when', 'on', 'the', 'phone', 'from', 'the', 'hotel', '?', 'There', 'was', 'no', 'context', 'or', 'explanation', 'whatever', 'for', 'that', '.', ')', 'If', 'every', 'reference', 'to', 'him', 'was', 'removed', 'it', 'would', \"n't\", 'be', 'noticed', '.', 'A', 'simple', 'story', 'made', 'confusing', 'by', 'poor', 'character', 'development', '(', 'who', 'was', 'whose', 'mother', ',', 'again', '?', '?', ')', 'weak', 'acting', ',', 'and', 'directing', 'that', 'made', 'everyone', 'look', 'like', 'they', 'were', 'acting', '.', 'You', 'could', 'almost', 'hear', '``', 'quiet', 'on', 'the', 'set', '!', '...', '.', \"''\", 'I', 'started', 'thinking', 'this', 'was', 'worthy', 'of', 'a', '7', ',', 'but', 'as', 'the', 'film', 'went', 'on', 'it', 'dropped', 'rapidly', 'to', 'a', '4', ',', 'then', 'earning', 'a', '3', 'after', 'the', 'silliness', 'of', 'the', 'wedding', 'scene', '.', 'This', 'was', 'about', 'as', 'cold', 'and', 'sterile', 'a', 'movie', 'as', 'I', 'have', 'seen', '.', 'A', 'terrible', 'waste', 'of', 'a', 'good', 'story', '.'], ['There', 'is', 'no', 'question', 'as', 'to', 'who', 'is', 'in', 'command', 'of', 'the', 'training', 'of', 'cadets', 'in', 'this', 'film', ':', 'Major', 'Chick', 'Davis', '(', 'Pat', \"O'Brien\", ')', '.', \"O'Brien\", 'plays', 'an', 'officer', 'who', 'adheres', 'to', 'military', 'discipline', 'in', 'the', 'creation', 'of', 'a', 'new', 'kind', 'of', 'soldier', 'from', 'his', 'cadets', '--', 'the', 'bombardier', '.', 'But', 'he', 'is', 'not', 'so', 'rigid', 'as', 'to', 'be', 'unfair', 'or', 'unfriendly', '.', 'In', 'fact', ',', 'he', 'even', 'changes', 'his', 'opinion', 'as', 'to', 'the', 'value', 'of', 'women', 'working', 'in', 'the', 'military', '.', 'He', \"'s\", 'tough', 'when', 'he', 'has', 'to', 'be', ',', 'yet', 'at', 'other', 'times', 'he', 'is', 'a', 'clear', 'mix', 'of', 'coach', 'and', 'pastor', ',', 'roles', 'he', 'perfected', 'in', 'other', 'films', '.', 'His', 'character', 'is', 'the', 'foundation', 'of', 'the', 'action', 'around', 'which', 'everything', 'revolves', '.', \"O'Brien\", 'seems', 'natural', 'in', 'the', 'role', ',', 'and', 'plays', 'it', 'in', 'fine', 'fashion', '.', 'Two', 'things', 'help', 'this', 'movie', ':', \"O'Brien\", \"'s\", 'performance', 'and', 'the', 'spectacular', 'special', 'effects', 'ending', '.'], ['This', 'movie', 'was', 'astonishing', '.', 'It', 'is', 'beyond', 'atrocious', '.', 'I', 'often', 'get', 'together', 'with', 'a', 'group', 'of', 'friends', 'and', 'go', 'to', 'the', 'movie', 'store', 'to', 'find', 'awful', 'movies', 'to', 'watch', 'for', 'their', 'comedic', 'value', '.', 'My', 'friend', 'suggested', 'this', 'one', ',', 'but', 'as', 'we', 'watched', 'it', ',', 'people', 'began', 'to', 'leave', '.', 'I', 'really', 'wanted', 'to', 'finish', 'it', ',', 'just', 'so', 'that', 'I', 'could', 'say', 'that', 'I', 'had', ',', 'but', 'I', 'was', 'unable', 'to', '.', 'It', \"'s\", 'that', 'bad', '.', 'Horrible', 'running', 'gags', ',', 'lame', 'acting', '.', 'The', 'main', 'characters', 'are', 'an', 'annoying', 'dinosaur', 'klutz', 'and', 'Whoopi', 'Goldberg', '.', 'I', 'would', 'rather', 'watch', 'Costener', \"'s\", 'The', 'Postman', 'twelve', 'times', 'in', 'a', 'row', 'than', 'see', 'a', 'fraction', 'of', 'this', 'movie', 'again', '.', 'I', 'think', 'they', 'try', 'to', 'deal', 'with', 'some', 'dinosaur', 'discrimination', 'issues', ',', 'but', 'the', 'part', 'of', 'the', 'movie', 'that', 'really', 'stands', 'out', 'is', 'the', 'dinosaur', 'constantly', 'knocking', 'things', 'over', 'with', 'his', 'tail', ',', 'and', 'then', 'guffawing', 'about', 'it', '.', 'It', 'hurts', '.', 'Watch', 'it', 'if', 'you', \"'re\", 'an', 'aspiring', 'masochist', ',', 'otherwise', ',', 'leave', 'this', 'one', 'alone', '.'], ['Exceedingly', 'complicated', 'and', 'drab', '.', 'I', \"'m\", 'a', 'bright', 'guy', ',', 'but', 'this', 'was', 'just', 'too', 'much', 'for', 'a', 'tired', 'brain', '.', 'It', 'would', 'really', 'benefit', 'from', 'a', 'few', 'early', 'clues', 'as', 'to', 'who', 'these', 'people', 'are', 'and', 'what', 'they', 'are', 'doing', '.', 'Probably', 'better', 'for', 'the', 'US', 'market', '.', 'GC', 'himself', 'hinted', 'that', 'this', 'alone', 'did', 'not', 'supply', 'his', 'Oscar', 'and', 'you', 'can', 'see', 'why', '.', 'Still', 'the', 'sand', 'dunes', 'are', 'pretty', '.', 'The', 'nail', 'pulling', 'is', 'nasty', '.', 'The', 'attorneys', 'drunk', 'dad', 'is', 'a', 'mystery', '.', 'The', 'cricket', 'is', 'good', 'to', 'see', '.', 'Very', 'difficult', 'to', 'write', 'the', 'required', 'ten', 'lines', 'on', 'this', ',', 'despite', 'it', 'being', 'over', '2', 'hours', 'long', '.', 'Thank', 'heavens', 'they', 'shortened', 'it', '.', 'Admittedly', 'we', 'do', \"n't\", 'get', 'to', 'the', 'pictures', 'much', ',', 'but', 'the', 'last', 'film', 'we', 'saw', ',', 'Walk', 'the', 'Line', ',', 'was', '10', 'times', 'better', 'and', 'I', 'do', \"n't\", 'really', 'like', 'Johnny', 'Cash', '.', 'My', 'wife', 'says', 'George', 'still', 'looks', 'good', 'with', 'the', 'beard', 'and', 'a', 'few', 'extra', 'pounds', 'so', 'there', \"'s\", 'that', '...', '..am', 'I', 'nearly', 'there', 'yet', '?', 'How', 'about', 'now'], ['I', 'got', 'this', 'movie', 'because', 'I', 'worked', 'at', 'a', 'movie', 'store', 'so', 'I', 'got', 'free', 'rentals', '.', 'It', 'came', 'in', ',', 'and', 'the', 'cover', 'made', 'it', 'look', 'alright', '.', 'Hot', 'chick', ',', 'carrying', 'a', 'weapon', ',', 'alright', ',', 'I', \"'ll\", 'check', 'it', 'out', '.', 'Oh', 'man', ',', 'bad', 'move', '.', 'This', 'was', 'so', 'horrible', ',', 'I', 'spent', 'half', 'the', 'movie', 'watching', 'in', 'fast-forward', 'to', 'get', 'to', 'the', 'nudity', ',', 'which', 'was', 'minimal', '.', 'I', 'think', 'MAYBE', 'three', 'scenes', 'of', 'partial', 'nudity', '.', 'Cheesy', 'dialogue', ',', 'crappy', 'violence', ',', 'poor', 'excuses', 'of', 'characters', '.', 'I', 'feel', 'bad', 'putting', 'this', 'movie', 'down', ',', 'because', 'I', 'know', 'it', 'was', 'made', 'on', 'a', 'cheap', 'budget', ',', 'but', 'so', 'was', '``', 'Clerks', \"''\", 'and', 'it', 'became', 'a', 'cult', 'classic', 'and', 'a', 'franchise', '.', '2/10', '.'], ['This', 'movie', 'is', 'very', 'very', 'very', 'poor', '.', 'I', 'have', 'seen', 'better', 'movies', '.', 'There', 'was', 'a', 'bit', 'of', 'tension', 'but', 'not', 'much', 'to', 'make', 'you', 'jump', 'out', 'of', 'your', 'chair', '.', 'It', 'begins', 'slowly', 'with', 'the', 'building', 'of', 'tension', '.', 'Which', 'is', 'not', 'a', 'success', '.', 'At', 'least', 'if', 'you', 'ask', 'me', '.', 'Though', 'at', 'some', 'points', 'or', 'moments', 'I', 'must', 'say', 'it', 'was', 'a', 'bit', 'funny', 'when', 'people', 'got', 'shot', 'and', 'how', 'they', 'went', 'down', '.', 'They', 'should', 'had', 'made', 'it', 'something', 'like', 'Scary', 'Movie', ',', 'then', 'it', 'might', 'be', 'a', 'better', 'movie', '.', 'Because', 'I', 'watched', 'only', 'pieces', 'of', 'the', 'movie', 'by', 'skipping', 'scenes', 'and', 'it', 'got', 'to', 'boring', 'through', 'out', 'the', 'movie', '.', 'I', 'must', 'say', 'that', 'i', 'felt', 'sleepy', 'watching', 'this', 'movie', 'so', 'I', 'sure', 'can', 'say', 'it', 'is', 'not', 'worth', 'it', '.', 'Do', \"n't\", 'waste', 'time', 'on', 'even', 'thinking', 'to', 'do', 'something', 'with', 'this', 'movie', 'besides', 'leaving', 'it', 'where', 'it', 'already', 'is', '.', 'Somewhere', 'very', 'dusty..'], ['Acclaimed', 'Japanese', 'director', 'Takashi', 'Miike', 'ca', \"n't\", 'seem', 'to', 'get', 'the', 'wheels', 'moving', 'with', 'this', 'torpid', 'thriller', ',', 'an', 'adaptation', 'of', 'Yasushi', 'Akimoto', \"'s\", 'book', 'concerning', 'an', 'evil', 'old', 'woman', '(', 'and', 'child', 'abuser', '!', ')', 'who', 'is', 'part', 'of', 'a', 'new', 'urban', 'legend', ':', 'if', 'your', 'cell-phone', 'rings', 'with', 'a', 'strange', 'tone', '--', 'and', 'you', 'see', 'the', 'message', \"'One\", 'Missed', 'Call', \"'\", '--', 'you', 'will', 'replay', 'the', 'message', 'only', 'to', 'hear', 'your', 'own', 'final', 'words', 'before', 'your', 'death', '.', 'Most', 'successful', 'part', 'of', 'the', 'film', 'is', 'the', 'trenchant', 'satire', 'of', 'Reality', 'TV', 'cameras', 'intruding', 'on', 'the', 'future', 'victims', ',', 'but', 'the', 'not-so-elaborate', 'deaths', '(', 'which', 'include', 'a', 'hidden', 'piece', 'of', 'red', 'candy', '!', ')', 'are', 'disappointing', 'and', 'dispiriting', '.', 'The', 'frequent', 'shots', 'of', 'ravaged', 'dead', 'bodies', 'are', 'actually', 'displayed', 'rather', 'discreetly', ',', 'and', 'this', 'overall', 'politeness', 'may', 'be', 'the', 'reason', 'why', 'the', 'film', 'is', 'ultimately', 'so', 'staid', '.', 'Hollywood', 'predictably', 'jumped', 'on', 'the', 'far-fetched', 'plot', 'in', '2008', ',', 'yet', 'the', 'U.S.', 'version', 'fared', 'no', 'better', '.', 'NO', 'STARS', 'from', '****'], ['This', 'long', 'winded', 'film', 'turns', 'out', 'to', 'be', 'less', 'about', 'Berkowitz', 'and', 'his', 'effect', 'on', 'NYC', ',', 'but', 'more', 'about', 'painting', 'caricatures', 'of', 'a', 'certain', 'group', 'of', 'Italian-Americans', ',', 'known', 'locally', 'as', '``', 'Guidos', '.', \"''\", 'The', 'problem', 'is', 'that', '``', 'Guidos', \"''\", 'are', 'uninteresting', ',', 'no', 'matter', 'what', 'kind', 'of', 'story', 'or', 'setting', 'they', 'are', 'immersed', 'in', '.', 'They', 'are', 'already', 'living', 'caricatures', ',', 'so', 'Lee', 'only', 'amplifies', 'them', ',', 'rather', 'than', 'simply', 'portraying', 'them', '.', 'When', 'someone', 'has', 'a', 'caricature', 'done', 'of', 'themselves', ',', 'they', 'do', \"n't\", 'go', 'home', 'and', 'say', ',', '``', 'Hey', ',', 'let', \"'s\", 'make', 'the', 'ears', 'and', 'nose', 'even', 'bigger', '!', \"''\", 'That', \"'s\", 'what', 'Lee', 'has', 'done', 'in', 'this', 'film', '.', 'The', 'most', 'interesting', 'characters', 'in', 'the', 'film', 'are', 'the', 'two', '(', 'Adrian', 'Brody', 'and', 'Jennifer', 'Esposito', ')', 'who', 'wish', 'to', 'escape', 'the', '``', 'Guido', \"''\", 'lifestyle', '.', 'Top', 'it', 'off', 'with', 'an', 'uninteresting', 'storyline', 'for', 'the', 'characters', ',', 'particularly', 'John', 'Leguizamo', \"'s\", ',', 'and', 'you', 'get', 'a', 'nice', 'film', 'to', 'fall', 'asleep', 'by', '.', 'Especially', 'considering', 'it', \"'s\", 'lengthy', 'run', 'time', '.', 'One', 'more', 'strike', 'against', 'it', ':', 'For', 'someone', 'proclaiming', 'to', 'be', 'a', 'Yankees', 'fan', ',', 'and', 'has', 'grown', 'up', 'in', 'New', 'York', ',', 'Spike', 'Lee', 'should', 'know', 'how', 'to', 'spell', 'Phil', 'Rizzuto', ',', 'which', 'is', 'spelled', 'incorrectly', 'in', 'the', 'closing', 'credits', '.'], ['I', 'was', 'shocked', 'by', 'the', 'ridiculously', 'unbelievable', 'plot', 'of', 'Tigerland', '.', 'It', 'was', 'a', 'liberal', \"'s\", 'fantasy', 'of', 'how', 'the', 'military', 'should', 'be', '.', 'The', 'dialogue', 'was', 'difficult', 'to', 'swallow', 'along', 'with', 'the', 'silly', 'things', 'Colin', 'Farrell', \"'s\", 'character', 'was', 'allowed', 'to', 'get', 'away', 'with', 'by', 'his', 'superior', 'officers', '.', 'I', 'kept', 'thinking', ',', '``', 'Hey', ',', 'there', \"'s\", 'a', 'reason', 'why', 'boot', 'camp', 'is', 'tough', '.', 'It', \"'s\", 'supposed', 'to', 'condition', 'soldiers', 'for', 'battle', 'and', 'turn', 'them', 'into', 'one', 'cohesive', 'unit', '.', 'There', \"'s\", 'no', 'room', 'for', 'cocky', 'attitudes', 'and', 'men', 'who', 'wo', \"n't\", 'follow', 'orders', '.', \"''\", 'I', 'was', 'rooting', 'for', 'Bozz', 'to', 'get', 'his', 'butt', 'kicked', 'because', 'he', 'was', 'such', 'a', 'danger', 'to', 'his', 'fellow', 'soldiers', '.', 'I', 'would', 'not', 'want', 'to', 'fight', 'alongside', 'someone', 'like', 'him', 'in', 'war', 'because', 'he', 'was', 'more', 'concerned', 'with', 'people', \"'s\", 'feelings', 'than', 'with', 'doing', 'what', 'was', 'necessary', 'to', 'protect', 'his', 'unit', '.', '--'], ['I', 'watched', 'this', 'movie', 'last', 'week', 'sometime', 'and', 'had', 'the', 'biggest', 'laugh', 'i', \"'ve\", 'had', 'in', 'a', 'long', 'while', '.', 'The', 'plot', 'of', 'the', 'film', 'is', 'pretty', 'dumb', 'and', 'convoluted', 'in', 'a', 'badly', 'crafted', 'way', '.', 'The', 'only', 'plus', 'to', 'be', 'found', 'anywhere', 'in', 'the', 'film', 'are', 'Corey', 'Savier', \"'s\", 'impressive', 'abs', '.', 'Alexandra', 'Paul', '(', 'i', 'think', 'that', \"'s\", 'her', 'name', ')', 'is', 'horrendous', 'as', 'the', 'preacher', \"'s\", 'wife', 'who', 'has', 'a', 'history', 'of', 'depression', '.', 'Ted', 'McKenzie', 'is', 'gross', 'and', 'his', 'character', \"'s\", 'a', 'twit', 'on', 'top', 'of', 'it', 'all', '.', 'And', 'as', 'if', 'the', 'fact', 'that', 'you', 'think', 'she', \"'s\", 'having', 'sex', 'with', 'her', 'son', 'is', \"n't\", 'enough', ',', 'they', 'throw', 'in', 'needless', 'sax', 'solos', 'at', 'every', 'opportunity', '!', 'The', 'end', 'and', 'climax', 'of', 'this', 'film', 'is', 'absolutely', 'abysmal', 'and', 'also', 'laughable', '.', 'I', 'mean', 'who', 'the', 'hell', 'wants', 'to', 'carry', 'the', 'child', 'of', 'a', 'con', 'who', 'tried', 'to', 'make', 'you', 'think', 'he', 'was', 'your', 'son', 'and', 'that', 'you', 'were', 'having', 'an', 'incestuous', 'relationship', 'with', 'him', '!'], ['When', 'I', 'had', 'first', 'heard', 'of', '``', 'Solar', 'Crisis', \"''\", 'then', 'got', 'a', 'load', 'of', 'the', 'cast', ',', 'I', 'wondered', 'why', 'I', 'had', 'never', 'heard', 'of', 'a', 'movie', 'with', 'such', 'a', 'big', 'cast', 'before', '.', 'Then', 'I', 'saw', 'it', '.', 'Now', 'I', 'know', '.', 'For', 'a', 'movie', 'that', 'encompasses', 'outer', 'space', ',', 'the', 'sun', ',', 'vast', 'deserts', 'and', 'sprawling', 'metropolises', ',', 'this', 'is', 'an', 'awfully', 'cramped', 'and', 'claustrophobic', 'feature', ';', 'it', 'feels', 'like', 'everyone', 'is', 'hunkered', 'close', 'together', 'so', 'the', 'camera', 'wo', \"n't\", 'have', 'to', 'pull', 'too', 'far', 'back', '.', 'And', 'the', 'effects', ',', 'while', 'good', ',', 'are', 'pretty', 'underwhelming', ';', 'we', \"'re\", 'talking', 'about', 'the', 'imminent', 'destruction', 'of', 'the', 'planet', 'Earth', 'if', 'a', 'team', 'of', 'scientists', 'and', 'soldiers', 'can', 'not', 'deflect', 'a', 'deadly', 'solar', 'flare', '.', 'But', 'other', 'than', 'shouting', ',', 'sweating', 'and', 'a', 'red', 'glow', 'about', 'everything', ',', 'there', \"'s\", 'no', 'real', 'feel', 'of', 'emergency', '.', 'Do', \"n't\", 'get', 'me', 'started', 'about', 'the', 'cast', '.', 'What', 'Heston', ',', 'Palance', ',', 'Matheson', ',', 'Boyle', ',', 'et', 'al', 'are', 'doing', 'in', 'this', 'movie', 'without', 'even', 'bothering', 'to', 'act', 'with', 'any', 'feel', 'for', 'the', 'material', 'is', 'anyone', \"'s\", 'guess', '.', 'Makes', 'you', 'wonder', 'who', 'else', \"'s\", 'condos', 'are', \"n't\", 'paid', 'for', 'in', 'Hollywood', '...', '.', 'And', 'as', 'far', 'as', 'the', 'end', 'goes', '...', '.', 'Well', ',', 'let', \"'s\", 'just', 'say', 'it', \"'s\", 'tense', 'and', 'intriguing', 'but', 'it', \"'s\", 'too', 'little', 'too', 'late', 'in', 'an', 'effort', 'like', 'this', '.', 'If', 'it', 'had', 'kept', 'up', 'that', 'kind', 'of', 'pace', 'all', 'through', 'the', 'film', ',', 'maybe', 'I', 'would', 'have', 'heard', 'of', '``', 'Solar', 'Crisis', \"''\", 'sooner', '.', 'Two', 'stars', '.', 'Mostly', 'for', 'lost', 'opportunities', 'and', 'bad', 'career', 'moves', '.', 'I', 'wonder', 'how', 'Alan', 'Smithee', 'keeps', 'his', 'job', 'doing', 'junk', 'like', 'this', '?'], ['The', 'humor', 'in', 'Who', \"'s\", 'Your', 'Daddy', 'is', 'such', 'poor', 'taste', 'that', 'I', 'actually', 'closed', 'my', 'eyes', 'in', 'certain', 'scenes', '.', 'Close', 'ups', 'of', 'semen', 'are', 'not', 'funny', '!', 'Nobody', 'thinks', 'they', 'are', '.', 'People', 'get', 'nervous', 'when', 'they', 'see', 'something', 'so', 'gross', 'and', 'to', 'hide', 'their', 'nervousness', ',', 'they', 'laugh', '.', 'Watching', 'Who', \"'s\", 'Your', 'Daddy', 'gave', 'me', 'a', 'disgusting', 'nervous', 'feeling', '.'], ['Without', 'a', 'doubt', 'this', 'is', 'one', 'of', 'the', 'worst', 'films', 'I', \"'ve\", 'ever', 'wasted', 'money', 'on', '!', 'The', 'plot', 'is', ',', 'erm', 'sorry', ',', 'did', 'I', 'say', 'there', 'was', 'a', 'plot', '?', 'The', 'scariest', 'moment', 'was', 'when', '...', ',', 'nope', 'ca', \"n't\", 'think', 'of', 'one', '!', 'The', 'best', 'special', 'effect', 'that', 'had', 'me', 'hiding', 'under', 'the', 'bed', 'covers', 'was', '...', ',', 'nope', 'ca', \"n't\", 'think', 'of', 'one', 'for', 'that', 'either', '.', 'You', 'knew', 'who', 'the', 'killer', 'was', 'right', 'from', 'the', 'start', '.', 'There', 'was', 'nothing', 'scary', 'about', 'the', 'whole', 'movie', ',', 'in', 'fact', 'the', 'only', 'two', 'vaguely', 'interesting', 'bits', 'were', 'when', 'you', 'saw', 'the', 'kid', 'sister', ',', 'Misty', ',', 'in', 'the', 'shower', 'and', 'when', 'you', 'saw', 'Nurse', 'Toppan', 'take', 'her', 'top', 'off', '.', 'This', 'film', 'should', 'only', 'be', 'watched', 'to', 'get', 'an', 'idea', 'of', 'how', 'NOT', 'to', 'make', 'a', 'horror', 'movie', '!', '!', '!'], ['Honestly', 'before', 'I', 'watched', 'this', 'movie', ',', 'I', 'had', 'heard', 'many', 'people', 'said', 'this', 'movie', 'was', 'a', 'disgrace', '.', 'I', 'did', 'not', 'believe', 'that', 'since', 'Morgan', 'Freeman', 'and', 'Kevin', 'Spacey', 'have', 'taken', 'roles', 'in', 'this', 'movie', ',', 'and', 'watched', 'it', 'by', 'my', 'own', '.', 'Apparently', 'they', 'were', 'right', '.', 'I', 'was', 'really', 'disappointed', 'and', 'wondering', 'all', 'the', 'time', 'during', 'the', 'movie', '-', 'why', 'the', 'hell', 'did', 'I', 'watch', 'this', 'movie', '.', 'Of', 'course', 'I', 'was', 'not', 'expecting', 'much', 'from', 'Justin', 'as', 'he', 'really', 'does', 'not', 'belong', 'in', 'the', 'movie/theater', 'business', '.', 'But', 'Morgan', 'and', 'Kevin', '?', 'I', 'could', 'not', 'stop', 'asking', 'myself', 'why', 'the', 'heck', 'they', 'agreed', 'to', 'take', 'part', 'in', 'Edison', '.', 'To', 'be', 'honest', ',', 'their', 'roles', 'are', 'rather', 'stupid', '.', 'Well', 'you', 'might', 'think', 'if', 'the', 'players', 'suck', ',', 'then', 'I', 'should', 'pay', 'more', 'attention', 'to', 'the', 'story', '.', 'It', 'is', 'indeed', 'story', 'is', 'the', 'core', 'of', 'a', 'movie', ',', 'but', 'guys', '...', 'trust', 'me', '...', 'this', 'is', 'not', 'a', 'movie', 'you', 'want', 'to', 'give', 'a', 'credit', 'for', 'its', 'story', '.', 'Imagine', 'this', ',', 'a', 'smart-ass', 'journalist', '(', 'Justin', 'Timberlake', ')', 'wrote', 'a', 'story', 'against', 'the', 'system', 'and', 'at', 'the', 'same', 'time', 'learning', 'how', 'to', 'become', 'a', \"'real\", \"'\", 'journalist', 'from', 'his', 'boss', '(', 'Morgan', 'Freeman', ')', '.', 'This', 'all', 'was', 'supported', 'by', 'one', 'agent', 'who', 'still', 'has', 'heart', 'for', 'justice', '(', 'LL', 'Cool', 'J', ')', 'and', 'an', 'brilliant', 'investigator', '(', 'Kevin', 'Spacey', ')', '.', 'At', 'the', 'end', ',', 'they', 'beat', 'the', 'system', 'with', 'a', 'happy', 'ending', 'story', '.', 'Jeez', ',', 'I', 'could', 'not', 'even', 'carry', 'on', 'with', 'this', '.', 'Just', 'recalling', 'the', 'movie', 'is', 'making', 'me', 'sick', 'already', '.', 'My', 'advise', 'guys', ',', 'do', \"n't\", 'watch', 'this', '!', 'Please', 'save', 'your', 'money', 'and', 'time', 'for', 'another', 'movie', '.'], ['This', 'production', 'never', 'really', 'got', 'off', 'the', 'ground', 'for', 'me', '.', 'The', 'plot', 'is', 'so', 'cut', 'up', 'as', 'to', 'be', 'disjointed', 'and', 'the', 'production', 'is', 'so', 'short', 'that', 'unless', 'you', \"'ve\", 'read', 'the', 'novel', 'or', 'seen', 'a', 'better', 'adaptation', '(', 'like', 'the', '1995', 'one', 'with', 'Amanda', 'Root', ')', 'you', \"'re\", 'going', 'to', 'be', 'a', 'bit', 'lost', 'since', 'there', \"'s\", 'no', 'time', 'for', 'character', 'development', '.', 'I', 'liked', 'Sally', 'Hawkins', 'as', 'Anne', ',', 'but', 'the', 'rest', 'of', 'the', 'cast', 'fell', 'rather', 'short', 'of', 'what', 'they', 'should', 'have', 'been', '.', 'Mrs.', 'Croft', 'was', 'far', 'too', 'old', ',', 'as', 'was', 'Anne', \"'s\", 'elder', 'sister', 'Elizabeth', '.', 'Mary', 'uttered', 'everything', 'in', 'such', 'throbbing', 'accents', 'that', 'the', 'general', 'peevishness', 'and', 'selfishness', 'of', 'her', 'character', 'was', 'lost', '.', 'Much', 'better', 'was', 'Sophie', 'Thompson', \"'s\", 'Mary', ',', 'whose', 'selfishness', 'and', 'sense', 'of', 'ill-usage', 'is', 'so', 'well', 'established', 'that', 'by', 'the', 'time', 'Wentworth', 'suggests', 'Anne', 'stay', 'with', 'the', 'injured', 'Louisa', 'and', 'Mary', 'objects', 'that', 'she', ',', 'as', 'Louisa', \"'s\", 'sister', 'in', 'law', ',', 'should', 'stay', 'instead', ',', 'you', 'ca', \"n't\", 'imagine', 'anyone', 'less', 'suited', 'to', 'do', 'so', '.', 'In', 'this', 'version', ',', 'she', 'might', 'as', 'well', 'stay', 'as', 'she', 'is', 'insufficiently', 'differentiated', 'from', 'anyone', 'else', 'in', 'the', 'production', '.', 'Rupert', 'Penry-Jones', 'is', 'nice', 'to', 'look', 'at', ',', 'but', 'he', 'made', 'a', 'much', 'better', 'St.', 'John', 'Rivers', '(', '1995', 'Jane', 'Eyre', ')', ',', 'probably', 'because', 'that', 'character', 'required', 'less', 'implied', 'depth', 'of', 'feeling', '.', 'I', 'agree', 'with', 'the', 'comments', 'made', 'earlier', 'about', 'the', 'gig', 'scene', ':', 'seemed', 'more', 'like', 'he', 'was', 'trying', 'to', 'get', 'rid', 'of', 'Anne', 'than', 'do', 'her', 'a', 'favor', '.', 'Likewise', 'the', 'accident', 'scene', ':', 'it', 'happens', 'so', 'fast', 'and', 'with', 'so', 'little', 'context', ',', 'you', 'wonder', 'what', 'all', 'the', 'fuss', 'is', 'about', '.', 'And', 'moving', 'the', 'speech', 'that', 'Wentworth', 'overhears', 'in', 'the', 'novel', 'to', 'the', 'beginning', 'of', 'this', 'production', 'is', 'a', 'critical', 'misstep', 'that', 'only', 'contributes', 'to', 'the', 'disjointed', 'nature', 'of', 'the', 'script', '.', 'My', 'other', 'problem', 'with', 'this', 'version', 'was', 'the', 'lighting', '.', 'Sometimes', 'everything', 'looked', 'like', 'a', 'scene', 'from', 'the', 'CSI', 'morgue', '--', 'very', 'very', 'blue', '.', 'Other', 'times', 'the', 'lighting', 'was', 'so', 'bad', 'it', 'was', 'hard', 'to', 'make', 'out', 'the', 'scene', 'very', 'well', ',', 'like', 'when', 'Anne', 'visits', 'her', 'old', 'school', 'friend', ',', 'Mrs.', 'Smith', '(', 'who', ',', 'by', 'the', 'way', ',', 'is', 'supposed', 'to', 'be', 'more', 'or', 'less', 'paralyzed', '.', 'Having', 'her', 'run', 'up', 'to', 'Anne', 'on', 'the', 'street', 'to', 'tell', 'her', 'of', 'Mr.', 'Elliot', \"'s\", 'awful', 'character', 'was', 'such', 'a', 'violation', 'that', 'for', 'a', 'minute', 'I', 'could', \"n't\", 'think', 'who', 'she', 'was', '--', 'I', 'thought', 'she', 'was', 'one', 'of', 'the', 'Musgrove', 'girls', '.', 'And', 'she', 'might', 'as', 'well', 'have', 'been', '.', 'All', 'the', 'girls', 'were', 'pretty', 'much', 'interchangeable', ')', '.', 'And', 'the', 'running', 'scene', 'at', 'the', 'end', '...', 'in', 'an', 'era', 'where', 'propriety', 'was', 'at', 'a', 'premium', ',', 'it', \"'s\", 'hard', 'to', 'imagine', 'gentle', 'Anne', 'tearing', 'all', 'over', 'Bath', 'like', 'some', 'demented', 'hoyden', '.', 'How', 'silly', 'can', 'you', 'get', '?', 'It', \"'s\", 'too', 'bad', '.', 'Sally', 'Hawkins', 'had', 'all', 'the', 'makings', 'of', 'a', 'good', 'Anne', 'Elliot', ',', 'but', 'she', 'was', 'completely', 'hamstrung', 'by', 'a', 'poorly', 'organized', 'script', 'and', 'an', 'over-truncated', 'production', '.'], ['It', \"'s\", 'funny', '.', 'I', \"'ve\", 'seen', 'a', 'bunch', 'of', 'Fassbinder', 'films', 'and', 'I', 'have', 'found', 'some', 'to', 'be', 'extremely', 'creative', 'and', 'interesting', ',', 'while', 'others', 'are', 'repellent', 'and', 'self-indulgent', 'messes', '--', 'like', 'this', 'film', '.', 'For', 'me', ',', 'it', 'ranges', 'from', 'great', 'to', 'crap', '--', 'without', 'much', 'in', 'the', 'middle', '.', 'I', 'know', 'he', 'has', 'a', 'lot', 'of', 'fans', 'among', 'the', '``', 'sophisticated', \"''\", ',', 'but', 'I', 'ca', \"n't\", 'help', 'but', 'think', 'that', 'a', 'lot', 'of', 'his', 'appeal', 'is', 'pure', 'hype', '.', 'From', 'my', 'point', 'of', 'view', '(', 'and', 'I', 'know', 'I', 'will', 'get', 'a', 'lot', 'of', 'negative', 'ratings', 'for', 'this', ')', ',', 'he', 'made', 'too', 'many', 'movies', 'too', 'quickly', 'and', 'was', 'too', 'self-indulgent', '.', 'His', 'gay', 'or', 'gender-bending', 'films', '(', 'like', 'this', 'one', ')', 'tend', 'to', 'be', 'really', 'bad', '--', 'sloppily', 'done', ',', 'sometimes', 'quite', 'boring', '(', 'such', 'as', 'QUERELLE', 'and', 'THE', 'BITTER', 'TEARS', 'OF', 'PETRA', 'VON', 'KANT', ')', 'and', 'sometimes', 'just', 'gross', '(', 'like', 'this', 'film', ')', '.', 'Could', \"n't\", 'his', 'message', 'about', 'acceptance', 'of', 'a', 'person', \"'s\", 'gender-confusion', 'be', 'handled', 'better', 'than', 'showing', 'him', 'get', 'slapped', 'around', 'or', 'watching', 'cows', 'being', 'gruesomely', 'slaughtered', '?', 'Show', 'some', 'sensitivity', 'for', 'the', 'subject', 'matter', 'and', 'make', 'your', 'characters', 'more', 'human', 'and', 'sympathetic', '--', 'then', ',', 'maybe', ',', 'I', \"'d\", 'care', 'about', 'the', 'films', '.', 'I', \"'m\", 'honestly', 'at', 'the', 'point', 'after', 'watching', 'this', 'film', 'that', 'I', 'might', 'not', 'bother', 'with', 'any', 'more', 'Fassbinder', 'films', '--', 'the', 'bad', 'seems', 'to', 'be', 'out-weighing', 'the', 'good', '.'], ['``', 'Cavemen', \"''\", 'exceeded', 'my', 'expectations', ',', 'and', 'not', 'in', 'a', 'good', 'way', '.', 'It', 'was', 'even', 'worse', 'than', 'I', 'thought', 'it', 'would', 'be', '.', 'Basically', ',', 'here', \"'s\", 'the', 'show', ':', 'The', 'Cavemen', 'are', 'an', 'alternate', 'race', ',', 'they', 'face', 'prejudice', ',', 'etc', '.', 'Quite', 'possibly', 'the', 'stupidest', 'idea', 'ever', 'created', ';', 'almost', 'being', 'worthy', 'of', 'jail', 'time', 'for', 'the', 'writers', '.', 'One', 'show', 'featured', 'the', 'cavemen', 'going', 'into', 'a', 'club', ',', 'trying', 'to', 'pick', 'up', 'girls', ',', 'and', 'then', 'nothing', 'else', 'happened', '.', 'It', 'was', 'reminiscent', 'of', 'listening', 'to', 'a', '22', 'minute', 'Andy', 'Rooney', 'dialog', ',', 'followed', 'by', 'death', 'by', 'steak', 'knives', 'via', 'midget', 'cannibals', '.', 'For', 'those', 'who', 'have', 'not', 'seen', 'this', 'show', ',', 'here', \"'s\", 'an', 'example', 'of', 'the', 'dialog', ':', '``', 'You', \"'re\", 'sure', 'you', \"'re\", 'okay', 'with', 'going', 'out', 'with', 'a', 'caveman', '.', \"''\", '``', 'Yeah', ',', 'that', \"'s\", 'fine', '.', 'I', \"'ve\", 'had', 'like', '10', '-', 'thousand', '!', \"''\", 'Hilarious', '...', 'Possibly', 'the', 'best', 'writing', 'I', \"'ve\", 'ever', 'witnessed', '.', '22', 'minutes', 'of', 'cavemen', 'with', 'horrible', 'makeup', ',', 'tackling', 'tough', 'social', 'issues', '...', 'Sounds', 'like', 'an', 'entertaining', 'night', '.', 'I', 'also', 'love', 'how', 'bad', 'the', 'recent', 'ideas', 'are', 'that', 'they', \"'re\", 'resorted', 'to', 'making', 'a', 'sitcom', 'out', 'of', 'car', 'insurance', 'commercials', '.', 'I', 'wonder', 'if', 'they', \"'ll\", 'do', 'the', 'Gecko', 'next', ',', 'so', 'that', 'I', 'can', 'have', 'a', 'new', 'title', 'for', 'the', 'worst', 'show', 'I', \"'ve\", 'ever', 'seen', '.', 'I', 'would', 'even', 'say', 'that', 'this', 'is', 'worse', 'than', '``', 'Viva', 'Laughlin', '.', \"''\", 'At', 'least', '``', 'Viva', 'Laughlin', \"''\", 'was', 'ripped', 'off', 'from', 'something', 'that', 'was', 'somewhat', 'inspired', '.', 'Shows', 'like', 'this', 'make', 'me', 'hope', 'that', 'there', \"'s\", 'a', 'comet', 'up', 'there', 'somewhere', 'aimed', 'for', 'Earth', '.', '(', 'Unratable', 'honestly', '...', ')'], ['Prison', 'is', 'set', 'in', 'Wyoming', 'where', 'work', 'on', 'a', 'new', 'prison', 'has', 'hit', 'a', 'problem', 'so', 'the', 'state', 'board', 'decide', 'to', 're-open', 'an', 'old', 'state', 'penitentiary', 'that', 'has', 'been', 'closed', 'for', '20', 'years', ',', 'Warden', 'Eaton', 'Sharpe', '(', 'Lane', 'Smith', ')', 'is', 'put', 'in', 'charge', '.', '200', 'odd', 'prisoners', 'are', 'shipped', 'in', '&', 'they', 'are', 'put', 'to', 'work', 'fixing', 'the', 'rundown', 'prison', 'up', 'including', 'Burke', '(', 'Viggo', 'Mortensen', ')', 'who', 'is', 'ordered', 'to', 'break', 'into', 'the', 'old', 'execution', 'chamber', ',', 'he', 'duly', 'obliges', 'but', 'when', 'he', 'penetrates', 'the', 'bricked', 'up', 'door', 'an', 'intense', 'beam', 'of', 'light', 'shoots', 'out', '&', 'all', 'the', 'electrics', ',', 'gas', '&', 'fire', 'around', 'the', 'prison', 'goes', 'crazy', 'for', 'a', 'few', 'minutes', '.', 'Burke', 'has', 'unwittingly', 'unleashed', 'a', 'deadly', 'evil', 'force', 'which', 'is', 'in', 'the', 'mood', 'for', 'some', 'killing', '&', 'no-one', 'is', 'safe', '...', 'Directed', 'by', 'Renny', 'Harlin', 'I', 'thought', 'Prison', 'was', 'a', 'poor', 'late', '80', \"'s\", 'horror', 'flick', 'that', 'seemed', 'to', 'forget', 'about', 'the', 'small', 'point', 'of', 'having', 'a', 'story', '.', 'The', 'script', 'was', 'by', 'Empire', 'Pictures', 'regular', 'C.', 'Courtney', 'Joyner', 'who', 'was', 'responsible', 'for', 'writing', 'such', \"'classics\", \"'\", 'as', 'Class', 'of', '1999', '(', '1990', ')', ',', 'Puppet', 'Master', 'III', ':', 'Toulon', \"'s\", 'Revenge', '(', '1991', ')', '&', 'Puppet', 'Master', 'vs', '.', 'Demonic', 'Toys', '(', '2004', ')', 'amongst', 'other', 'low', 'budget', 'horror', 'crap', 'that', 'even', 'I', 'have', \"n't\", 'heard', 'of', '&', 'seems', 'to', 'take', 'itself', 'very', 'seriously', '.', 'The', 'biggest', 'problems', 'I', 'have', 'with', 'Prison', 'are', 'that', 'it', \"'s\", 'far', 'too', 'slow', ',', 'it', \"'s\", 'over', '30', 'minutes', 'into', 'the', 'film', 'before', 'the', \"'evil\", 'force', \"'\", 'is', 'even', 'released', 'although', 'the', 'pace', 'does', 'pick', 'up', 'towards', 'the', 'end', 'but', 'by', 'then', 'it', 'was', 'too', 'little', 'too', 'late', 'as', 'far', 'as', 'I', 'was', 'concerned', ',', 'then', 'there', \"'s\", 'the', 'fact', 'there', \"'s\", 'no', 'discernible', 'storyline', 'here', 'at', 'all', '.', 'For', 'a', 'start', 'it', 'never', 'tries', 'to', 'explain', 'why', 'there', \"'s\", 'an', \"'evil\", 'force', \"'\", 'bricked', 'up', 'in', 'the', 'old', 'execution', 'chamber', ',', 'it', 'never', 'explains', 'why', 'this', 'force', 'decides', 'to', 'kill', 'random', 'inmates', 'when', 'it', \"'s\", 'supposed', 'to', 'be', 'out', 'on', 'a', 'revenge', 'mission', 'or', 'why', 'it', 'just', 'does', \"n't\", 'kill', 'Warden', 'Sharpe', 'straight', 'away', ',', 'no', 'explanation', 'is', 'given', 'to', 'where', 'Burke', 'fits', 'into', 'it', 'even', 'though', 'he', 'looks', 'exactly', 'the', 'same', 'as', 'the', 'prisoner', 'who', 'was', 'electrocuted', '&', 'has', 'come', 'back', ',', 'there', \"'s\", 'no', 'real', 'explanation', 'as', 'to', 'how', 'the', 'Warden', 'is', 'connected', 'to', 'everything', 'that', \"'s\", 'going', 'on', 'apart', 'from', 'two', 'early', 'nightmare', 'sequences', 'in', 'which', 'he', 'seems', 'to', 'be', 'remembering', 'something', 'although', 'it', \"'s\", 'never', 'revealed', 'what', 'it', 'is', 'or', 'why', '.', 'To', 'be', 'honest', 'I', 'could', \"n't\", 'really', 'give', 'you', 'a', 'plot', 'synopsis', 'as', 'the', 'film', 'does', \"n't\", 'have', 'a', 'rigid', 'story', 'which', 'it', 'follows', 'all', 'the', 'way', 'through', '.', 'The', 'character', \"'s\", 'are', 'dull', '&', 'forgettable', ',', 'the', 'murders', 'are', 'few', '&', 'far', 'between', ',', 'the', 'pacing', 'is', 'way', 'off', ',', 'the', 'whole', 'film', 'is', 'a', 'mess', '&', 'even', 'ghosts', 'ca', \"n't\", 'shoot', 'straight', 'when', 'it', 'comes', 'to', 'trying', 'to', 'shoot', 'the', 'hero', '.', 'A', 'less', 'than', 'satisfactory', 'way', 'to', 'spend', '100', 'odd', 'minutes', ',', 'there', 'really', 'are', 'better', 'things', 'you', 'could', 'be', 'doing', '.', 'Director', 'Harlin', \"'s\", 'full', 'American', 'flick', 'debut', 'he', 'does', 'a', 'good', 'job', '&', 'there', \"'s\", 'a', 'decent', 'atmosphere', 'but', 'after', 'over', 'an', 'hour', 'of', 'constant', 'drab', ',', 'dull', ',', 'dark', 'prison', 'cells', '&', 'corridors', 'I', 'started', 'to', 'get', 'bored', '.', 'I', 'just', 'think', 'the', 'look', 'of', 'the', 'film', 'is', 'far', 'too', 'repetitive', ',', 'bland', '&', 'frankly', 'lifeless', '.', 'I', 'did', \"n't\", 'think', 'it', 'was', 'scary', '&', 'the', 'gore', 'is', 'pretty', 'tame', 'apart', 'from', 'the', 'best', 'moment', 'in', 'the', 'entire', 'film', 'when', 'a', 'police', 'guard', 'gets', 'killed', 'when', 'a', 'load', 'of', 'barb', 'wire', 'wraps', 'itself', 'around', 'his', 'body', '&', 'face', 'with', 'a', 'nice', 'close', 'up', 'of', 'his', 'throat', 'being', 'torn', 'open', '.', 'Other', 'than', 'that', 'there', \"'s\", 'a', 'burnt', 'corpse', '&', 'a', 'mangled', 'body', 'which', 'falls', 'from', 'the', 'ceiling', '&', 'very', 'little', 'else', '.', 'There', 'is', 'a', 'scene', 'when', 'the', 'Warden', 'burns', 'all', 'the', 'prisoner', 'mattresses', 'in', 'front', 'of', 'them', '&', 'then', 'makes', 'them', 'stand', 'all', 'night', 'in', 'their', 'underwear', 'in', 'the', 'yard', ',', 'I', 'was', 'watching', 'this', 'scene', '&', 'thought', 'that', 'you', \"'d\", 'never', 'get', 'away', 'with', 'doing', 'something', 'like', 'that', '.', 'Over', 'here', 'prisoners', 'have', 'rights', '&', 'if', 'the', 'Warden', 'did', 'something', 'like', 'that', 'there', 'would', 'be', 'a', 'national', 'outcry', 'from', 'all', 'those', 'humanitarians', '&', 'every', 'prisoner', 'would', 'sue', 'the', 'Warden', ',', 'the', 'prison', 'service', '&', 'the', 'Government', 'for', 'everything', 'they', 'had', '&', 'they', \"'d\", 'win', '!', 'With', 'a', 'supposed', 'budget', 'of', 'about', '$', '4,000,000', 'Prison', 'actually', 'had', 'a', 'pretty', 'healthy', 'budget', 'although', 'it', 'does', \"n't\", 'really', 'look', 'like', 'it', 'on', 'screen', ',', 'sure', 'there', \"'s\", 'a', 'decent', 'cast', '&', 'the', 'few', 'special', 'effects', 'that', 'are', 'included', 'are', 'good', 'but', 'overall', 'it', \"'s\", 'set', 'in', 'the', 'same', 'location', 'with', 'limited', 'ambition', '.', 'Prison', 'was', 'actually', 'shot', 'in', 'a', 'real', 'Wyoming', 'state', 'prison', 'so', 'it', 'certainly', 'looks', 'the', 'business', '.', 'The', 'acting', 'is', 'alright', ',', 'Prison', 'proves', 'that', 'sometimes', 'Hollywood', 'stars', 'not', 'only', 'have', 'one', 'crap', 'horror', 'film', 'skeleton', 'in', 'their', 'closets', 'but', 'in', 'the', 'case', 'of', 'Mortensen', 'he', 'has', 'two', 'with', 'this', '&', 'the', 'awful', 'The', 'Return', 'of', 'the', 'Texas', 'Chainsaw', 'Massacre', '(', '1994', ')', 'both', 'of', 'which', 'I', \"'m\", 'sure', 'he', \"'d\", 'like', 'to', 'forget', 'about', '...', 'Prison', 'is', 'a', 'dull', ',', 'lifeless', ',', 'colourless', '&', 'humourless', 'waste', 'of', '100', 'minutes', ',', 'despite', 'one', 'good', 'gore', 'scene', 'I', 'did', \"n't\", 'like', 'it', 'at', 'all', 'as', 'I', 'actually', 'prefer', 'my', 'films', 'to', 'have', 'a', 'story', 'rather', 'than', 'seemingly', 'random', 'events', '&', 'incidents', 'cobbled', 'together', 'with', 'no', 'narrative', 'sense', '.'], ['This', 'utterly', 'dull', ',', 'senseless', ',', 'pointless', ',', 'spiritless', ',', 'and', 'dumb', 'movie', 'is', \"n't\", 'the', 'final', 'proof', 'that', 'the', 'world', 'can', 'forget', 'about', 'Danny', 'Boyle', 'and', 'his', 'post-', \"''\", 'Trainspotting', \"''\", 'movies', ':', '``', 'The', 'Beach', \"''\", 'already', 'took', 'care', 'of', 'that', '.', 'What', 'this', 'low-budget', 'oddity', 'does', 'is', 'merely', 'to', 'secure', 'his', 'place', 'among', 'those', 'who', 'started', 'very', 'well', 'but', 'got', 'completely', 'lost', 'in', 'drugs', ',', 'booze', ',', 'ego', ',', 'self-delusion', ',', 'bad', 'management', 'or', 'whatever', 'it', 'was', 'that', 'lead', 'to', 'this', 'once-promising', 'director', \"'s\", 'quick', 'demise', '.', 'The', 'premise', 'is', 'absurd', ':', 'two', 'losers', '(', 'Ecclestone', 'and', 'some', 'bimbo', 'Jenna', 'G', '-', 'a', 'rapper', ',', 'likely', ')', 'meet', 'by', 'chance', 'and', 'spontaneously', 'start', 'singing', 'with', 'fervour', 'more', 'akin', 'to', 'lunatic', 'asylum', 'inhabitants', 'than', 'a', 'potential', 'hit-making', 'duo', '-', 'which', 'they', 'become', '.', 'A', 'friend', 'of', 'theirs', '-', 'an', 'even', 'bigger', 'illiterate', 'loser', '-', 'becomes', 'their', 'manager', 'by', 'smashing', 'a', 'store', 'window', 'and', 'stealing', 'a', 'video-camera', 'by', 'which', 'he', 'films', 'them', 'in', '``', 'action', \"''\", ',', 'and', 'then', 'shows', 'the', 'tape', 'to', 'some', 'music', 'people', 'who', 'actually', 'show', 'interest', 'in', 'this', 'garbage', '.', 'Now', ',', 'I', 'know', 'that', 'the', 'UK', 'in', 'recent', 'years', 'has', 'put', 'out', 'incredible', 'junk', ',', 'but', 'this', 'is', 'ridiculous', ';', 'the', 'music', 'makes', 'Oasis', 'seem', 'like', 'The', 'Beatles', '.', 'During', 'the', 'studio', 'recordings', ',', 'the', 'duo', '-', 'Strumpet', '-', 'change', 'lyrics', 'in', 'every', 'take', 'and', 'Ecclestone', 'quite', 'arrogantly', 'tells', 'the', 'music', 'biz', 'guys', 'to', 'take', 'it', 'or', 'leave', 'it', ',', 'and', 'quite', 'absurdly', 'they', 'do', 'take', 'it', '.', 'Not', 'only', 'is', 'the', 'music', 'total', 'and', 'utter', 'trash', ',', 'but', 'its', '``', 'performers', \"''\", 'are', 'anti-social', ';', 'these', 'NEWCOMERS', 'are', 'supposed', 'to', 'be', 'calling', 'the', 'shots', '.', 'It', \"'s\", 'just', 'too', 'dumb', '.', 'It', \"'s\", 'plain', 'awful', '.', 'The', 'dialog', 'is', 'unfunny', 'and', 'goes', 'nowhere', ',', 'and', 'this', 'rags-to-bitches', 'story', 'has', 'no', 'point', 'and', 'makes', 'no', 'sense', '.', 'It', 'often', 'feels', 'improvised', '-', 'under', 'the', 'influence', 'of', 'drugs', '.', 'Danny', 'Boyle', 'is', 'a', 'complete', 'idiot', '.', 'This', 'little', 'piece', 'of', 'trash', 'is', 'so', 'bad', 'it', \"'s\", 'embarrassing', 'to', 'watch', '.', 'Ecclestone', \"'s\", 'I.Q', '.', 'also', 'has', 'to', 'be', 'questioned', 'for', 'agreeing', 'to', 'be', 'part', 'of', 'this', 'nonsense', '.', 'Whoever', 'financed', 'this', '£1000', 'joke', 'should', 'leave', 'the', 'movie', 'business', 'before', 'they', 'end', 'up', 'selling', 'their', 'own', 'underwear', 'on', 'street', 'corners', '.']]\n"
          ],
          "name": "stdout"
        }
      ]
    },
    {
      "metadata": {
        "colab_type": "code",
        "id": "DrxFWNmFi07d",
        "colab": {}
      },
      "cell_type": "code",
      "source": [
        "from collections import Counter\n",
        "import numpy as np"
      ],
      "execution_count": 0,
      "outputs": []
    },
    {
      "metadata": {
        "colab_type": "code",
        "id": "TdNEv_DKi07l",
        "colab": {}
      },
      "cell_type": "code",
      "source": [
        "stop = stopwords.words('english') + list(string.punctuation) + [\"''\", '``', '...', \"'s\", \"n't\"]\n",
        "\n",
        "total_counts = Counter()\n",
        "all_reviews = positive_tokenized + negative_tokenized\n",
        "for r in all_reviews:\n",
        "    sig_words = [w.lower() for w in r if w.lower() not in stop]\n",
        "    for word in sig_words:\n",
        "        total_counts[word] += 1"
      ],
      "execution_count": 0,
      "outputs": []
    },
    {
      "metadata": {
        "colab_type": "code",
        "id": "IiMud9kdi07u",
        "colab": {}
      },
      "cell_type": "code",
      "source": [
        "VOCAB_SIZE = 1000\n",
        "\n",
        "vocab = total_counts.most_common(VOCAB_SIZE)\n",
        "vocab = [t[0] for t in vocab]\n"
      ],
      "execution_count": 0,
      "outputs": []
    },
    {
      "metadata": {
        "id": "J3bghzl0Tcpz",
        "colab_type": "code",
        "outputId": "cd8eca7b-4888-45b2-d7bf-58d10a80b0ba",
        "colab": {
          "base_uri": "https://localhost:8080/",
          "height": 55
        }
      },
      "cell_type": "code",
      "source": [
        "print(vocab)"
      ],
      "execution_count": 109,
      "outputs": [
        {
          "output_type": "stream",
          "text": [
            "['movie', 'film', 'one', 'like', 'good', 'would', 'even', 'time', 'story', 'really', 'see', 'much', 'well', 'could', 'people', 'get', 'also', 'bad', 'first', 'great', 'made', 'way', 'make', 'movies', 'think', 'characters', 'character', 'watch', 'films', 'two', 'many', 'seen', 'acting', 'plot', 'little', 'best', 'never', 'show', 'love', 'life', 'know', 'ever', 'better', 'still', 'end', 'man', '--', 'scenes', 'scene', 'say', \"'ve\", 'something', 'go', \"'m\", 'back', 'though', 'real', 'actors', 'watching', 'thing', 'years', 'actually', 'funny', 'work', 'nothing', 'another', 'new', 'makes', 'look', 'find', 'old', 'director', 'going', 'lot', 'every', 'part', 'cast', 'world', 'things', 'us', 'pretty', 'seems', 'young', 'got', 'want', 'quite', 'around', \"'re\", 'take', 'fact', 'horror', 'ca', 'enough', 'however', 'without', 'big', 'may', 'thought', 'original', 'give', 'long', 'almost', 'times', 'series', 'role', 'right', 'family', 'gets', 'always', 'saw', 'interesting', 'script', 'come', 'must', 'action', 'whole', 'point', 'least', 'bit', 'done', 'comedy', 'since', 'guy', 'minutes', 'performance', 'music', 'probably', 'might', 'kind', 'anything', 'rather', 'far', 'feel', \"'ll\", 'last', 'worst', 'away', 'sure', 'girl', 'woman', 'although', 'anyone', 'fun', 'making', 'yet', 'found', 'especially', 'looks', 'played', 'comes', 'course', 'believe', 'tv', 'trying', 'day', 'someone', 'goes', 'hard', \"'d\", 'sense', 'place', 'book', 'shows', 'different', 'money', 'maybe', 'let', 'put', 'actor', 'ending', 'true', 'screen', 'dvd', 'worth', 'effects', 'john', '2', 'set', 'everyone', 'reason', 'everything', 'job', 'seem', 'looking', 'later', 'watched', 'beautiful', 'audience', 'said', 'main', 'version', 'together', 'plays', 'takes', 'instead', 'play', 'three', 'excellent', '10', 'special', 'seeing', 'idea', 'wife', 'american', 'house', 'father', 'left', 'nice', 'simply', 'night', 'year', 'read', 'shot', 'else', 'star', 'home', 'poor', 'death', 'given', 'war', 'less', 'kids', 'high', 'try', 'either', 'men', 'women', 'help', 'mind', 'fan', 'second', 'boring', 'completely', 'classic', 'black', 'half', 'need', 'used', 'wrong', 'use', 'rest', 'hollywood', 'along', 'episode', 'performances', 'production', 'next', 'enjoy', 'dead', 'line', 'couple', 'short', 'start', 'friends', 'remember', 'came', 'tell', 'recommend', 'moments', 'truly', 'full', 'terrible', 'stupid', 'perhaps', 'others', 'getting', 'gives', 'mean', 'sex', 'awful', 'understand', 'small', 'face', 'case', 'wonderful', 'stars', 'keep', 'playing', 'lines', 'lost', 'camera', 'budget', 'definitely', 'school', 'person', 'name', 'piece', 'often', 'become', 'dialogue', 'mother', 'video', 'early', 'finally', 'children', 'perfect', 'written', 'worse', 'entire', 'cinema', 'went', 'top', 'liked', 'evil', 'yes', 'picture', 'supposed', 'absolutely', 'boy', 'felt', 'live', 'head', 'title', 'certainly', 'style', 'human', 'waste', 'entertaining', 'problem', 'direction', 'beginning', 'sort', 'based', '3', 'throughout', 'white', 'overall', 'several', 'hope', 'friend', 'son', 'dark', 'already', 'seemed', 'final', 'lives', 'oh', 'laugh', 'turn', '\\x96', 'loved', 'fine', 'despite', 'becomes', 'killer', 'drama', 'writing', 'wants', '1', 'fans', 'wanted', 'tries', 'lead', 'humor', 'turns', 'low', 'totally', 'care', 'game', 'michael', 'past', 'sound', 'viewer', 'quality', 'unfortunately', 'guys', 'guess', 'works', 'act', 'child', 'called', 'example', 'days', 'favorite', 'enjoyed', 'side', 'today', 'amazing', 'eyes', 'kill', 'starts', 'able', 'behind', 'history', 'town', 'gave', 'flick', 'horrible', 'car', 'genre', 'directed', 'girls', 'actress', 'wo', 'brilliant', 'late', 'obviously', 'sometimes', 'except', 'heart', 'parts', 'run', 'soon', 'expect', 'thinking', 'art', 'fight', 'hour', 'killed', 'says', 'blood', 'violence', 'leave', 'city', 'stuff', 'decent', 'stories', 'roles', 'kid', 'happened', 'god', 'daughter', 'close', 'highly', 'particularly', 'took', 'group', 'james', 'looked', 'happen', 'voice', 'etc', 'anyway', 'involved', 'feeling', 'brother', 'alone', 'matter', 'happens', 'complete', 'moment', 'strong', 'age', 'hand', 'chance', 'released', 'including', 'living', 'heard', 'police', 'save', 'coming', 'type', 'gore', 'david', 'scary', 'obvious', 'across', 'told', 'extremely', 'experience', 'attempt', 'mr.', 'seriously', 'robert', 'wonder', 'please', 'lack', 'ridiculous', 'jack', 'crap', 'ago', 'simple', 'shown', 'whose', 'hero', 'usually', 'order', 'none', 'saying', 'hell', 'cool', 'murder', 'jokes', 'started', 'ends', 'sad', 'relationship', 'number', 'cinematography', 'ok', 'career', 'interest', 'ones', 'possible', 'score', 'body', 'annoying', 'usual', 'opinion', 'female', 'somewhat', 'song', 'english', 'serious', 'george', 'strange', 'stop', 'running', 'cut', 'talking', 'novel', 'slow', 'mostly', 'exactly', 'king', 'shots', 'taken', 'paul', 'opening', 'events', 'important', 'finds', 'known', 'major', 'hours', 'husband', 'tells', 'basically', 'huge', 'apparently', 'level', 'talent', 'songs', 'attention', 'rating', 'power', 'needs', 'supporting', 'call', 'due', 'lady', 'light', 'clearly', '4', 'taking', 'episodes', 'hilarious', 'change', 'turned', 'reality', 'wish', 'whether', 'television', 'cheap', 'view', '5', 'similar', 'hit', 'words', 'rock', 'problems', 'entertainment', 'sets', 'room', 'bring', 'disappointed', 'four', 'appears', 'happy', 'beyond', 'review', 'british', 'knows', 'knew', 'local', 'richard', 'silly', 'modern', 'message', 'country', 'word', 'predictable', 'upon', 'easily', 'five', 'ways', 'theme', 'bunch', 'musical', 'single', 'moving', 'sequence', 'dull', 'lee', 'peter', 'earth', 'theater', 'miss', 'release', 'falls', 'mention', 'future', 'means', 'writer', 'feels', 'sequel', 'talk', 'within', 'animation', 'points', 'documentary', 'giving', 'comic', 'clear', 'york', 'red', 'stay', 'lots', 'tale', 'mystery', 'romantic', 'team', 'nearly', 'easy', 'surprised', 'named', 'middle', 'effort', 'showing', 'actual', 'thriller', 'somehow', 'working', 'dance', 'begins', 'doubt', 'fall', 'add', 'enjoyable', 'hate', 'imagine', 'certain', 'viewers', 'eye', 'straight', 'general', 'kept', 'avoid', 'reviews', 'leads', 'using', 'storyline', 'typical', 'class', 'weak', 'near', 'tried', 'among', 'particular', 'form', 'soundtrack', 'sister', 'season', 'ten', 'period', 'sorry', 'forget', 'famous', 'zombie', 'parents', 'comments', 'fantastic', 'viewing', 'gone', 'elements', 'editing', 'feature', 'figure', 'greatest', 'material', 'french', 'sexual', 'brought', 'move', 'okay', 'believable', 'street', 'wait', 'atmosphere', 'filmed', 'die', 'dialog', 'screenplay', 'suspense', 'space', 'premise', 'leaves', 'killing', 'realistic', 'plenty', 'fast', 'surprise', 'check', 'nature', 'disney', 'stand', 'poorly', 'america', 'lame', 'difficult', 'sequences', 'sit', 'baby', 'expected', 'third', 'learn', 'tom', 'oscar', 'buy', 'weird', 'stage', 'hear', 'deal', 'average', 'de', 'forced', 'whatever', 'begin', 'meet', 'eventually', 'monster', 'decided', 'reading', 'became', 'badly', 'minute', 'directors', 'crime', 'development', 'truth', 'situation', 'follow', 'otherwise', 'jane', 'superb', 'ask', 'subject', 'unless', 'shame', 'society', 'memorable', 'credits', 'dog', 'imdb', 'question', 'features', 'directing', 'hands', 'male', 'japanese', 'rent', 'earlier', 'needed', 'plus', 'hardly', 'laughs', 'unique', 'romance', 'setting', 'mess', 'quickly', 'comment', 'write', 'casting', 'fairly', 'brings', 'writers', 'possibly', 'towards', 'dream', 'result', 'hot', 'secret', 'effect', 'following', 'various', 'outside', 'admit', 'battle', 'beauty', 'ideas', 'inside', 'open', 'realize', 'older', '20', 'meets', 'creepy', 'bill', 'incredibly', 'mark', 'return', 'crew', 'note', 'total', 'sounds', 'meant', 'previous', 'powerful', 'william', 'indeed', 'joke', 'break', 'dr.', 'scott', 'interested', 'sadly', 'fear', 'leading', 'deserves', 'western', 'rich', 'crazy', 'christmas', 'incredible', 'emotional', 'cheesy', 'remake', 'free', 'deep', 'fantasy', 'dramatic', 'potential', 'business', 'apart', 'doctor', 'keeps', 'political', 'portrayed', 'air', 'fire', 'nudity', 'manages', 'success', 'appear', 'personal', 'acted', 'footage', 'pay', 'forward', 'fighting', 'fails', 'gay', 'dumb', 'married', 'neither', 'missing', 'girlfriend', 'odd', 'talented', 'ben', 'reasons', 'decides', 'died', 'missed', 'present', 'create', 'telling', 'list', 'steve', 'expecting', \"'the\", 'convincing', 'public', 'background', 'pure', 'boys', 'recently', 'masterpiece', 'large', 'front', 'perfectly', 'copy', 'flat', 'worked', 'clever', 'tension', 'joe', 'era', 'members', 'ended', 'effective', 'social', 'match', 'positive', 'agree', 'portrayal', 'unlike', 'plain', 'wasted', 'sweet', 'pace', '80', 'revenge', 'credit', 'party', 'german', 'tony', 'wrote', 'rate', 'created', 'escape', 'hold', 'b', 'caught', 'island', 'kills', 'speak', 'choice', 'dancing', 'familiar', 'spirit', 'considering', 'moves', 'sci-fi', 'waiting', 'cat', 'slightly', 'successful', 'cute', 'villain', 'fit', 'exciting', 'office', 'brothers', 'band', 'cop', 'appreciate', 'bored', 'adult', 'concept', 'value', 'ultimately', 'entirely', 'uses', 'trouble', 'attempts', 'twist', 'produced', 'cold', 'recent', 'spend', 'singing', 'gun', 'spent', 'laughing', 'filmmakers', 'box', 'italian', 'biggest', 'suddenly', 'cartoon', 'compared', 'sees', '30', 'violent', 'audiences', 'popular', 'science', '8', 'water', 'cause', 'impressive', 'accent', 'filled', '7', 'animated', 'visual', 'solid', 'jim', 'common', 'pointless', 'planet', 'language', 'zombies', 'amusing', 'culture', 'cover', 'involving', 'mary', 'studio', 'depth', 'fake', 'disturbing', 'impossible', 'ghost', 'brain', 'sick', 'mentioned']\n"
          ],
          "name": "stdout"
        }
      ]
    },
    {
      "metadata": {
        "colab_type": "code",
        "id": "I8DCTKf7i078",
        "colab": {}
      },
      "cell_type": "code",
      "source": [
        "# Create a dictionary of words in the vocabulary mapped to index positions\n",
        "# (to be used in layer_0)\n",
        "word2index = {}\n",
        "for i,word in enumerate(vocab):\n",
        "    word2index[word] = i"
      ],
      "execution_count": 0,
      "outputs": []
    },
    {
      "metadata": {
        "colab_type": "code",
        "id": "1y_wEoNPi08E",
        "outputId": "188f1a3e-354b-4c56-89f6-f92328627ee8",
        "colab": {
          "base_uri": "https://localhost:8080/",
          "height": 35
        }
      },
      "cell_type": "code",
      "source": [
        "print(\"ID of 'movie' = {}\".format(word2index['movie']))"
      ],
      "execution_count": 111,
      "outputs": [
        {
          "output_type": "stream",
          "text": [
            "ID of 'movie' = 0\n"
          ],
          "name": "stdout"
        }
      ]
    },
    {
      "metadata": {
        "colab_type": "code",
        "id": "Rnt7_kXii08M",
        "colab": {}
      },
      "cell_type": "code",
      "source": [
        "def convert_to_bag(review):\n",
        "    bag = np.zeros(VOCAB_SIZE)\n",
        "    for word in review:\n",
        "        if word in vocab:\n",
        "          i = word2index[word.lower()]\n",
        "          bag[i]+=1\n",
        "    return bag"
      ],
      "execution_count": 0,
      "outputs": []
    },
    {
      "metadata": {
        "colab_type": "code",
        "id": "BLn_ywWwi08S",
        "colab": {}
      },
      "cell_type": "code",
      "source": [
        "test_bag = convert_to_bag(all_reviews[0])"
      ],
      "execution_count": 0,
      "outputs": []
    },
    {
      "metadata": {
        "colab_type": "code",
        "id": "BWXsLsrTi08X",
        "colab": {}
      },
      "cell_type": "code",
      "source": [
        "all_reviews_encoded = [convert_to_bag(x) for x in all_reviews]"
      ],
      "execution_count": 0,
      "outputs": []
    },
    {
      "metadata": {
        "colab_type": "code",
        "id": "hlrsPRWWi08f",
        "outputId": "3f69eb87-2d54-4b83-f8d4-30c7d00a5bec",
        "colab": {
          "base_uri": "https://localhost:8080/",
          "height": 35
        }
      },
      "cell_type": "code",
      "source": [
        "all_reviews_encoded[0].shape"
      ],
      "execution_count": 115,
      "outputs": [
        {
          "output_type": "execute_result",
          "data": {
            "text/plain": [
              "(1000,)"
            ]
          },
          "metadata": {
            "tags": []
          },
          "execution_count": 115
        }
      ]
    },
    {
      "metadata": {
        "colab_type": "code",
        "id": "ZPEW66FQi08z",
        "colab": {}
      },
      "cell_type": "code",
      "source": [
        "import random\n",
        "\n",
        "positive_labels = []\n",
        "for i in range(len(positive_tokenized)):\n",
        "    positive_labels.append('POSITIVE')\n",
        "negative_labels = []\n",
        "for i in range(len(negative_tokenized)):\n",
        "    negative_labels.append('NEGATIVE')\n",
        "   "
      ],
      "execution_count": 0,
      "outputs": []
    },
    {
      "metadata": {
        "colab_type": "code",
        "id": "w__rOGc7i085",
        "colab": {}
      },
      "cell_type": "code",
      "source": [
        "labels = positive_labels + negative_labels\n",
        "\n",
        "num_lables = []\n",
        "\n",
        "for val in labels:\n",
        "    if val == 'POSITIVE':\n",
        "       num_lables.append(1)\n",
        "    else:\n",
        "       num_lables.append(0) \n",
        "    "
      ],
      "execution_count": 0,
      "outputs": []
    },
    {
      "metadata": {
        "colab_type": "code",
        "id": "V75H_F9Gi08-",
        "colab": {}
      },
      "cell_type": "code",
      "source": [
        "reviews_and_labels = list(zip(all_reviews_encoded, num_lables))\n",
        "random.shuffle(reviews_and_labels)\n",
        "reviews, labels = zip(*reviews_and_labels)"
      ],
      "execution_count": 0,
      "outputs": []
    },
    {
      "metadata": {
        "colab_type": "code",
        "id": "HFOEHypri09D",
        "colab": {}
      },
      "cell_type": "code",
      "source": [
        "labels = np.array(labels)"
      ],
      "execution_count": 0,
      "outputs": []
    },
    {
      "metadata": {
        "id": "ExIGdNTQPZvr",
        "colab_type": "code",
        "colab": {}
      },
      "cell_type": "code",
      "source": [
        "def saveTrainingMetrics(title):\n",
        "  df = pd.DataFrame(results.history)\n",
        "  df=df[df['val_acc']==df.val_acc.max()]\n",
        "  df=df[df['acc']==df.acc.min()]\n",
        "\n",
        "  df.reset_index(inplace=True)\n",
        "    \n",
        "  df[\"title\"]=[title]\n",
        "  df[\"sample_size\"]=[SAMPLE_SIZE]\n",
        "  df[\"batch_size\"]=[BATCH_SIZE]\n",
        "  df[\"train_test_ratio\"]=[TRAIN_TEST_RATIO]\n",
        "  df[\"training_set_size\"]=[TRAINING_SET_SIZE]\n",
        "  df[\"validation_set_size\"]=[VALIDATION_SET_SIZE]\n",
        "  df[\"vocab_size\"]=[VOCAB_SIZE]  \n",
        "  df[\"nb_epochs\"]=[EPOCHS]\n",
        "  df[\"training_duration_in_secs\"]=[training_duration_in_secs]\n",
        "  df.drop(labels=\"index\",axis=1,inplace=True)\n",
        "  print(df)\n",
        "  df.to_csv(path_or_buf=df.iloc[0].title+\".csv\")"
      ],
      "execution_count": 0,
      "outputs": []
    },
    {
      "metadata": {
        "id": "qeAuh5wcPZvU",
        "colab_type": "text"
      },
      "cell_type": "markdown",
      "source": [
        "## Create a sparse matrix from reviews (where we keep the order of the words)"
      ]
    },
    {
      "metadata": {
        "id": "OpYv1kJXPZvV",
        "colab_type": "code",
        "outputId": "d2acc1de-d839-4e61-bd2b-d3559df59ad6",
        "colab": {
          "base_uri": "https://localhost:8080/",
          "height": 55
        }
      },
      "cell_type": "code",
      "source": [
        "positive_strings[0]"
      ],
      "execution_count": 121,
      "outputs": [
        {
          "output_type": "execute_result",
          "data": {
            "text/plain": [
              "\"This is an incredible film. I can't remember the last time I saw a Swedish movie this layered. It's funny, it's tragic, it's compelling, and most of all it's a slice of Swedish small town life. It crushes the clichés, and dwells deeper. It makes you feel connected, not only to the main characters, but to all the characters.  Big city girl tracing back to her roots, her small hometown, to celebrate her father's 70th birthday, crossing paths with people she hasn't met in several years. Although the story itself isn't unique, it offers a fresh approach. The center of the story is the relationship between three sisters (on different stages in life), who aren't very close. Or at least don't realize how close they are.  One key reason that makes it so easy to connect to the people in this film is the immaculate cast. First, I'm more than pleased about the fact that there are absolutely no so-called 'A-list' Swedish actors in this film. Usually there is a handful of actors that has the ability to find their way into almost every major production in Sweden. This time the production company managed to keep it real by casting actors who actually seem to love their profession. Sofia Helin is probably the first Swedish actress since Eva Röse to prove that you don't need words to convey an emotion.  The writing is also very appealing. The dialogue is more than believable, and compared with other Swedish films from the past year or two, it's ahead by miles. Maria Blom controls everything from the beginning, and if you didn't know, you would never guess that this is her first time writing AND directing a feature length film. I can't wait for her next one.  Once you start watching this, you really want to see it through.\""
            ]
          },
          "metadata": {
            "tags": []
          },
          "execution_count": 121
        }
      ]
    },
    {
      "metadata": {
        "id": "WPJRAN45PZvb",
        "colab_type": "code",
        "colab": {}
      },
      "cell_type": "code",
      "source": [
        "### We need to found out why we need this code and possibly who has written this code\n",
        "# reviews=[]\n",
        "# for sentence in positive_strings:\n",
        "#     reviews.append([sentence,1])\n",
        "# for sentence in negative_strings:\n",
        "#     reviews.append([sentence,0])\n",
        "# random.shuffle(reviews)\n"
      ],
      "execution_count": 0,
      "outputs": []
    },
    {
      "metadata": {
        "id": "YDQ10eDrPZvf",
        "colab_type": "code",
        "colab": {}
      },
      "cell_type": "code",
      "source": [
        "# tokenizer = keras.preprocessing.text.Tokenizer(num_words=None, filters='!\"#$%&()*+,-./:;<=>?@[\\]^_`{|}~',\\\n",
        "#                                    lower=True, split=' ', char_level=False, oov_token=None, document_count=0)"
      ],
      "execution_count": 0,
      "outputs": []
    },
    {
      "metadata": {
        "id": "LC4R-X_4PZvk",
        "colab_type": "code",
        "colab": {}
      },
      "cell_type": "code",
      "source": [
        "# len(reviews)"
      ],
      "execution_count": 0,
      "outputs": []
    },
    {
      "metadata": {
        "id": "gEmgoPp-PZvv",
        "colab_type": "text"
      },
      "cell_type": "markdown",
      "source": [
        "<a href='#table'>Back</a>\n",
        "# Train models<a class=\"anchor\" id=\"train\"></a>\n",
        "## Train NN 50 - 10 - 1 <a class=\"anchor\" id=\"train1\"></a>\n"
      ]
    },
    {
      "metadata": {
        "colab_type": "code",
        "id": "RsW4fg5wi09R",
        "colab": {}
      },
      "cell_type": "code",
      "source": [
        "X_train, X_test, y_train, y_test = train_test_split(np.array(reviews), np.array(labels), test_size=0.25)"
      ],
      "execution_count": 0,
      "outputs": []
    },
    {
      "metadata": {
        "id": "tpher_taUnSR",
        "colab_type": "code",
        "outputId": "298985d0-b0d5-4fc1-a0a8-ad48f003b957",
        "colab": {
          "base_uri": "https://localhost:8080/",
          "height": 138
        }
      },
      "cell_type": "code",
      "source": [
        "X_train"
      ],
      "execution_count": 125,
      "outputs": [
        {
          "output_type": "execute_result",
          "data": {
            "text/plain": [
              "array([[ 0., 18.,  1., ...,  0.,  0.,  0.],\n",
              "       [ 7.,  0.,  0., ...,  0.,  0.,  0.],\n",
              "       [ 1.,  0.,  2., ...,  0.,  0.,  0.],\n",
              "       ...,\n",
              "       [ 0.,  0.,  1., ...,  0.,  0.,  0.],\n",
              "       [ 0.,  1.,  0., ...,  0.,  0.,  0.],\n",
              "       [ 0., 10.,  0., ...,  0.,  0.,  0.]])"
            ]
          },
          "metadata": {
            "tags": []
          },
          "execution_count": 125
        }
      ]
    },
    {
      "metadata": {
        "colab_type": "code",
        "id": "94uBoS1xi09X",
        "outputId": "8e742919-3937-4952-9984-eb61108f2c8e",
        "colab": {
          "base_uri": "https://localhost:8080/",
          "height": 242
        }
      },
      "cell_type": "code",
      "source": [
        "startTime=time.time()\n",
        "model = keras.Sequential()\n",
        "model.add(layers.Dense(50, activation = \"relu\", input_shape=(VOCAB_SIZE, )))\n",
        "model.add(layers.Dense(10, activation = \"relu\"))\n",
        "model.add(layers.Dense(1, activation = \"sigmoid\"))\n",
        "model.summary()"
      ],
      "execution_count": 126,
      "outputs": [
        {
          "output_type": "stream",
          "text": [
            "_________________________________________________________________\n",
            "Layer (type)                 Output Shape              Param #   \n",
            "=================================================================\n",
            "dense_21 (Dense)             (None, 50)                50050     \n",
            "_________________________________________________________________\n",
            "dense_22 (Dense)             (None, 10)                510       \n",
            "_________________________________________________________________\n",
            "dense_23 (Dense)             (None, 1)                 11        \n",
            "=================================================================\n",
            "Total params: 50,571\n",
            "Trainable params: 50,571\n",
            "Non-trainable params: 0\n",
            "_________________________________________________________________\n"
          ],
          "name": "stdout"
        }
      ]
    },
    {
      "metadata": {
        "colab_type": "code",
        "id": "bJDNCzSui09e",
        "colab": {}
      },
      "cell_type": "code",
      "source": [
        "model.compile(\n",
        " optimizer = \"adam\",\n",
        " loss = \"binary_crossentropy\",\n",
        "   metrics = [\"accuracy\"]\n",
        ")"
      ],
      "execution_count": 0,
      "outputs": []
    },
    {
      "metadata": {
        "colab_type": "code",
        "id": "YvcEJsRxi09j",
        "outputId": "9c395b75-9236-4f9f-aec1-31af53730447",
        "colab": {
          "base_uri": "https://localhost:8080/",
          "height": 745
        }
      },
      "cell_type": "code",
      "source": [
        "EPOCHS=20\n",
        "results=model.fit(\n",
        "   X_train, y_train,\n",
        "   epochs=EPOCHS,\n",
        "   validation_data=(X_test, y_test),\n",
        "   batch_size=BATCH_SIZE\n",
        "  )\n",
        "endTime=time.time()"
      ],
      "execution_count": 128,
      "outputs": [
        {
          "output_type": "stream",
          "text": [
            "Train on 9375 samples, validate on 3125 samples\n",
            "Epoch 1/20\n",
            "9375/9375 [==============================] - 1s 126us/sample - loss: 0.4856 - acc: 0.7698 - val_loss: 0.4029 - val_acc: 0.8349\n",
            "Epoch 2/20\n",
            "9375/9375 [==============================] - 1s 90us/sample - loss: 0.3312 - acc: 0.8620 - val_loss: 0.3961 - val_acc: 0.8413\n",
            "Epoch 3/20\n",
            "9375/9375 [==============================] - 1s 89us/sample - loss: 0.2768 - acc: 0.8891 - val_loss: 0.4019 - val_acc: 0.8413\n",
            "Epoch 4/20\n",
            "9375/9375 [==============================] - 1s 91us/sample - loss: 0.2290 - acc: 0.9154 - val_loss: 0.4234 - val_acc: 0.8326\n",
            "Epoch 5/20\n",
            "9375/9375 [==============================] - 1s 88us/sample - loss: 0.1756 - acc: 0.9385 - val_loss: 0.4438 - val_acc: 0.8282\n",
            "Epoch 6/20\n",
            "9375/9375 [==============================] - 1s 92us/sample - loss: 0.1261 - acc: 0.9603 - val_loss: 0.4781 - val_acc: 0.8317\n",
            "Epoch 7/20\n",
            "9375/9375 [==============================] - 1s 91us/sample - loss: 0.0812 - acc: 0.9794 - val_loss: 0.5472 - val_acc: 0.8285\n",
            "Epoch 8/20\n",
            "9375/9375 [==============================] - 1s 89us/sample - loss: 0.0505 - acc: 0.9893 - val_loss: 0.6105 - val_acc: 0.8314\n",
            "Epoch 9/20\n",
            "9375/9375 [==============================] - 1s 90us/sample - loss: 0.0299 - acc: 0.9958 - val_loss: 0.6702 - val_acc: 0.8288\n",
            "Epoch 10/20\n",
            "9375/9375 [==============================] - 1s 86us/sample - loss: 0.0175 - acc: 0.9979 - val_loss: 0.7376 - val_acc: 0.8282\n",
            "Epoch 11/20\n",
            "9375/9375 [==============================] - 1s 85us/sample - loss: 0.0115 - acc: 0.9991 - val_loss: 0.7768 - val_acc: 0.8262\n",
            "Epoch 12/20\n",
            "9375/9375 [==============================] - 1s 85us/sample - loss: 0.0079 - acc: 0.9994 - val_loss: 0.8294 - val_acc: 0.8288\n",
            "Epoch 13/20\n",
            "9375/9375 [==============================] - 1s 87us/sample - loss: 0.0050 - acc: 0.9996 - val_loss: 0.8748 - val_acc: 0.8253\n",
            "Epoch 14/20\n",
            "9375/9375 [==============================] - 1s 89us/sample - loss: 0.0044 - acc: 0.9997 - val_loss: 0.9029 - val_acc: 0.8278\n",
            "Epoch 15/20\n",
            "9375/9375 [==============================] - 1s 88us/sample - loss: 0.0029 - acc: 0.9997 - val_loss: 0.9394 - val_acc: 0.8256\n",
            "Epoch 16/20\n",
            "9375/9375 [==============================] - 1s 88us/sample - loss: 0.0028 - acc: 0.9997 - val_loss: 0.9650 - val_acc: 0.8278\n",
            "Epoch 17/20\n",
            "9375/9375 [==============================] - 1s 88us/sample - loss: 0.0021 - acc: 0.9997 - val_loss: 0.9951 - val_acc: 0.8240\n",
            "Epoch 18/20\n",
            "9375/9375 [==============================] - 1s 86us/sample - loss: 0.0023 - acc: 0.9998 - val_loss: 1.0131 - val_acc: 0.8259\n",
            "Epoch 19/20\n",
            "9375/9375 [==============================] - 1s 86us/sample - loss: 0.0015 - acc: 0.9998 - val_loss: 1.0358 - val_acc: 0.8250\n",
            "Epoch 20/20\n",
            "9375/9375 [==============================] - 1s 89us/sample - loss: 0.0019 - acc: 0.9999 - val_loss: 1.0507 - val_acc: 0.8253\n"
          ],
          "name": "stdout"
        }
      ]
    },
    {
      "metadata": {
        "id": "9gpws5-VY17J",
        "colab_type": "code",
        "outputId": "0d14fa37-d1d9-45ab-93fb-33a1088201b6",
        "colab": {
          "base_uri": "https://localhost:8080/",
          "height": 155
        }
      },
      "cell_type": "code",
      "source": [
        "training_duration_in_secs=endTime - startTime\n",
        "saveTrainingMetrics(\"Opti-NN-Train NN 50 - 10 - 1\")"
      ],
      "execution_count": 129,
      "outputs": [
        {
          "output_type": "stream",
          "text": [
            "        acc      loss  val_acc  val_loss                         title  \\\n",
            "0  0.861973  0.331242  0.84128  0.396138  Opti-NN-Train NN 50 - 10 - 1   \n",
            "\n",
            "   sample_size  batch_size  train_test_ratio  training_set_size  \\\n",
            "0        12500          64              0.25               9375   \n",
            "\n",
            "   validation_set_size  vocab_size  nb_epochs  training_duration_in_secs  \n",
            "0                 3125        1000         20                  18.424121  \n"
          ],
          "name": "stdout"
        }
      ]
    },
    {
      "metadata": {
        "id": "vPb3tdEfPZv9",
        "colab_type": "text"
      },
      "cell_type": "markdown",
      "source": [
        "## Train NN 256 - 128 - 1 <a class=\"anchor\" id=\"train2\"></a>"
      ]
    },
    {
      "metadata": {
        "colab_type": "code",
        "id": "IG7nratoi09w",
        "colab": {}
      },
      "cell_type": "code",
      "source": [
        "startTime=time.time()\n",
        "model = keras.Sequential([\n",
        "    layers.Dense(256, activation = \"relu\", input_shape=(VOCAB_SIZE, )),\n",
        "    layers.Dense(128, activation = \"relu\"),\n",
        "    layers.Dense(1, activation = \"sigmoid\")\n",
        "])"
      ],
      "execution_count": 0,
      "outputs": []
    },
    {
      "metadata": {
        "colab_type": "code",
        "id": "IOI6rAd_i091",
        "outputId": "a76e1079-263d-4a59-9f67-ea97db286bf2",
        "colab": {
          "base_uri": "https://localhost:8080/",
          "height": 242
        }
      },
      "cell_type": "code",
      "source": [
        "model.summary()"
      ],
      "execution_count": 131,
      "outputs": [
        {
          "output_type": "stream",
          "text": [
            "_________________________________________________________________\n",
            "Layer (type)                 Output Shape              Param #   \n",
            "=================================================================\n",
            "dense_24 (Dense)             (None, 256)               256256    \n",
            "_________________________________________________________________\n",
            "dense_25 (Dense)             (None, 128)               32896     \n",
            "_________________________________________________________________\n",
            "dense_26 (Dense)             (None, 1)                 129       \n",
            "=================================================================\n",
            "Total params: 289,281\n",
            "Trainable params: 289,281\n",
            "Non-trainable params: 0\n",
            "_________________________________________________________________\n"
          ],
          "name": "stdout"
        }
      ]
    },
    {
      "metadata": {
        "colab_type": "code",
        "id": "tHpN5VM8i097",
        "colab": {}
      },
      "cell_type": "code",
      "source": [
        "model.compile(\n",
        " optimizer = \"adam\",\n",
        " loss = \"binary_crossentropy\",\n",
        " metrics = [\"accuracy\"]\n",
        ")"
      ],
      "execution_count": 0,
      "outputs": []
    },
    {
      "metadata": {
        "colab_type": "code",
        "id": "FhcPKZnFi0-D",
        "outputId": "2d1c0513-2c94-487d-a821-6a0653996b64",
        "colab": {
          "base_uri": "https://localhost:8080/",
          "height": 227
        }
      },
      "cell_type": "code",
      "source": [
        "EPOCHS=5\n",
        "results = model.fit(\n",
        " X_train, y_train,\n",
        " epochs=EPOCHS,\n",
        " validation_data=(X_test, y_test),\n",
        "batch_size=BATCH_SIZE\n",
        ")"
      ],
      "execution_count": 133,
      "outputs": [
        {
          "output_type": "stream",
          "text": [
            "Train on 9375 samples, validate on 3125 samples\n",
            "Epoch 1/5\n",
            "9375/9375 [==============================] - 1s 133us/sample - loss: 0.4422 - acc: 0.7965 - val_loss: 0.3908 - val_acc: 0.8336\n",
            "Epoch 2/5\n",
            "9375/9375 [==============================] - 1s 90us/sample - loss: 0.2823 - acc: 0.8838 - val_loss: 0.3924 - val_acc: 0.8368\n",
            "Epoch 3/5\n",
            "9375/9375 [==============================] - 1s 93us/sample - loss: 0.1693 - acc: 0.9383 - val_loss: 0.4467 - val_acc: 0.8285\n",
            "Epoch 4/5\n",
            "9375/9375 [==============================] - 1s 93us/sample - loss: 0.0601 - acc: 0.9836 - val_loss: 0.6005 - val_acc: 0.8314\n",
            "Epoch 5/5\n",
            "9375/9375 [==============================] - 1s 93us/sample - loss: 0.0165 - acc: 0.9970 - val_loss: 0.7539 - val_acc: 0.8275\n"
          ],
          "name": "stdout"
        }
      ]
    },
    {
      "metadata": {
        "colab_type": "code",
        "id": "i2T7Tom0i0-O",
        "outputId": "9f7d8c31-50ab-483b-fd00-ccc644bec89e",
        "colab": {
          "base_uri": "https://localhost:8080/",
          "height": 225
        }
      },
      "cell_type": "code",
      "source": [
        "results.history"
      ],
      "execution_count": 134,
      "outputs": [
        {
          "output_type": "execute_result",
          "data": {
            "text/plain": [
              "{'acc': [0.79648, 0.88384, 0.9383467, 0.9835733, 0.99701333],\n",
              " 'loss': [0.4421726690896352,\n",
              "  0.2823379472875595,\n",
              "  0.16927311407327653,\n",
              "  0.06012259160041809,\n",
              "  0.016521675756623347],\n",
              " 'val_acc': [0.8336, 0.8368, 0.82848, 0.83136, 0.82752],\n",
              " 'val_loss': [0.39082043525695803,\n",
              "  0.39239724227905276,\n",
              "  0.4467250364303589,\n",
              "  0.6005179628562928,\n",
              "  0.7538636566352844]}"
            ]
          },
          "metadata": {
            "tags": []
          },
          "execution_count": 134
        }
      ]
    },
    {
      "metadata": {
        "id": "X3N7EaCHYHgJ",
        "colab_type": "code",
        "outputId": "5219e900-d2c0-4e8a-aa72-9081561463e0",
        "colab": {
          "base_uri": "https://localhost:8080/",
          "height": 155
        }
      },
      "cell_type": "code",
      "source": [
        "endTime=time.time()\n",
        "training_duration_in_secs=endTime - startTime\n",
        "saveTrainingMetrics(\"Opti-NN-Train NN 256 - 128 - 1\")"
      ],
      "execution_count": 135,
      "outputs": [
        {
          "output_type": "stream",
          "text": [
            "       acc      loss  val_acc  val_loss                           title  \\\n",
            "0  0.88384  0.282338   0.8368  0.392397  Opti-NN-Train NN 256 - 128 - 1   \n",
            "\n",
            "   sample_size  batch_size  train_test_ratio  training_set_size  \\\n",
            "0        12500          64              0.25               9375   \n",
            "\n",
            "   validation_set_size  vocab_size  nb_epochs  training_duration_in_secs  \n",
            "0                 3125        1000          5                   6.271968  \n"
          ],
          "name": "stdout"
        }
      ]
    },
    {
      "metadata": {
        "id": "C1QyhP2mPZwd",
        "colab_type": "text"
      },
      "cell_type": "markdown",
      "source": [
        "## Train NN with K-Fold cross validation <a class=\"anchor\" id=\"kfold\"></a>"
      ]
    },
    {
      "metadata": {
        "id": "FNUp99AK1xlu",
        "colab_type": "code",
        "colab": {}
      },
      "cell_type": "code",
      "source": [
        "from keras.callbacks import History\n",
        "\n",
        "def getBestResultsFrom(bestResults,results):\n",
        "  if bestResults is None:\n",
        "    return results\n",
        "  \n",
        "  bestResultsDf = pd.DataFrame(data=bestResults.history)\n",
        "  bestResultsDf=bestResultsDf.sort_values(['val_acc'], ascending=False)\n",
        "  resultsDf = pd.DataFrame(data=results.history)\n",
        "  resultsDf=resultsDf.sort_values(['val_acc'], ascending=False)\n",
        "  \n",
        "  if bestResultsDf['val_acc'].iloc[0] > resultsDf['val_acc'].iloc[0]:    \n",
        "    return bestResults\n",
        "  \n",
        "  if bestResultsDf['val_acc'].iloc[0] == resultsDf['val_acc'].iloc[0]:\n",
        "    if bestResultsDf['acc'].iloc[0] < resultsDf['acc'].iloc[0]:\n",
        "      return bestResults\n",
        "    else:\n",
        "      return results\n",
        "\n",
        "  return results"
      ],
      "execution_count": 0,
      "outputs": []
    },
    {
      "metadata": {
        "colab_type": "code",
        "id": "_LwIgaq-i0-a",
        "colab": {}
      },
      "cell_type": "code",
      "source": [
        "X_train, X_test, y_train, y_test = train_test_split(np.array(reviews), np.array(labels), test_size=0.25)"
      ],
      "execution_count": 0,
      "outputs": []
    },
    {
      "metadata": {
        "colab_type": "code",
        "id": "c60zERWRi0-e",
        "colab": {}
      },
      "cell_type": "code",
      "source": [
        "FOLDS=3\n",
        "kfold = KFold(FOLDS, True, 1)"
      ],
      "execution_count": 0,
      "outputs": []
    },
    {
      "metadata": {
        "colab_type": "code",
        "id": "OR8fKYxai0-j",
        "colab": {}
      },
      "cell_type": "code",
      "source": [
        "train_data = list(zip(X_train, y_train))"
      ],
      "execution_count": 0,
      "outputs": []
    },
    {
      "metadata": {
        "colab_type": "code",
        "id": "pV3wG31Qi0-o",
        "outputId": "671e5ec3-c6d5-4035-8441-1d5553aa7054",
        "colab": {
          "base_uri": "https://localhost:8080/",
          "height": 35
        }
      },
      "cell_type": "code",
      "source": [
        "train_data[0][0].shape"
      ],
      "execution_count": 140,
      "outputs": [
        {
          "output_type": "execute_result",
          "data": {
            "text/plain": [
              "(1000,)"
            ]
          },
          "metadata": {
            "tags": []
          },
          "execution_count": 140
        }
      ]
    },
    {
      "metadata": {
        "id": "6_sF9E7XtyAI",
        "colab_type": "code",
        "colab": {}
      },
      "cell_type": "code",
      "source": [
        "EPOCHS=5\n",
        "SAMPLE_SIZE=len(X_train)\n",
        "TRAIN_TEST_RATIO=(1/FOLDS)\n",
        "TRAINING_SET_SIZE=int(SAMPLE_SIZE * (1 - TRAIN_TEST_RATIO))\n",
        "VALIDATION_SET_SIZE=int(SAMPLE_SIZE * TRAIN_TEST_RATIO)\n",
        "histories=[]"
      ],
      "execution_count": 0,
      "outputs": []
    },
    {
      "metadata": {
        "colab_type": "code",
        "id": "5sw1JTMli0-u",
        "outputId": "89872a3a-b2fd-47a7-f1cc-a335c5f80795",
        "colab": {
          "base_uri": "https://localhost:8080/",
          "height": 607
        }
      },
      "cell_type": "code",
      "source": [
        "startTime=time.time()\n",
        "bestResults=None\n",
        "for train_indices, test_indices in kfold.split(X_train,y=y_train):\n",
        "    model = keras.Sequential([\n",
        "      layers.Dense(256, activation = \"relu\", input_shape=(VOCAB_SIZE,)),\n",
        "      layers.Dense(128, activation = \"relu\"),\n",
        "      layers.Dense(1, activation = \"sigmoid\")\n",
        "    ])\n",
        "    model.compile(\n",
        "      optimizer = \"adam\",\n",
        "      loss = \"binary_crossentropy\",\n",
        "      metrics = [\"accuracy\"]\n",
        "    )\n",
        "    K_X_train = X_train[train_indices]\n",
        "    K_y_train = y_train[train_indices]\n",
        "    K_X_test = X_train[test_indices]\n",
        "    K_y_test = y_train[test_indices]\n",
        "    results=model.fit(\n",
        "      K_X_train, K_y_train,\n",
        "      epochs=EPOCHS,\n",
        "      validation_data=(K_X_test, K_y_test),\n",
        "      batch_size=BATCH_SIZE\n",
        "    )\n",
        "    histories.append(results.history)\n",
        "    bestResults=getBestResultsFrom(bestResults,results)\n",
        "    \n",
        "results=bestResults\n",
        "endTime=time.time()"
      ],
      "execution_count": 142,
      "outputs": [
        {
          "output_type": "stream",
          "text": [
            "Train on 6250 samples, validate on 3125 samples\n",
            "Epoch 1/5\n",
            "6250/6250 [==============================] - 1s 164us/sample - loss: 0.4634 - acc: 0.7816 - val_loss: 0.4131 - val_acc: 0.8314\n",
            "Epoch 2/5\n",
            "6250/6250 [==============================] - 1s 98us/sample - loss: 0.2698 - acc: 0.8982 - val_loss: 0.4395 - val_acc: 0.8208\n",
            "Epoch 3/5\n",
            "6250/6250 [==============================] - 1s 102us/sample - loss: 0.1505 - acc: 0.9485 - val_loss: 0.5143 - val_acc: 0.8179\n",
            "Epoch 4/5\n",
            "6250/6250 [==============================] - 1s 98us/sample - loss: 0.0551 - acc: 0.9875 - val_loss: 0.6943 - val_acc: 0.8138\n",
            "Epoch 5/5\n",
            "6250/6250 [==============================] - 1s 98us/sample - loss: 0.0123 - acc: 0.9990 - val_loss: 0.8444 - val_acc: 0.8144\n",
            "Train on 6250 samples, validate on 3125 samples\n",
            "Epoch 1/5\n",
            "6250/6250 [==============================] - 1s 160us/sample - loss: 0.4739 - acc: 0.7790 - val_loss: 0.4083 - val_acc: 0.8237\n",
            "Epoch 2/5\n",
            "6250/6250 [==============================] - 1s 99us/sample - loss: 0.2832 - acc: 0.8838 - val_loss: 0.3920 - val_acc: 0.8403\n",
            "Epoch 3/5\n",
            "6250/6250 [==============================] - 1s 100us/sample - loss: 0.1611 - acc: 0.9450 - val_loss: 0.4608 - val_acc: 0.8320\n",
            "Epoch 4/5\n",
            "6250/6250 [==============================] - 1s 100us/sample - loss: 0.0560 - acc: 0.9872 - val_loss: 0.6045 - val_acc: 0.8234\n",
            "Epoch 5/5\n",
            "6250/6250 [==============================] - 1s 98us/sample - loss: 0.0133 - acc: 0.9986 - val_loss: 0.7018 - val_acc: 0.8301\n",
            "Train on 6250 samples, validate on 3125 samples\n",
            "Epoch 1/5\n",
            "6250/6250 [==============================] - 1s 176us/sample - loss: 0.4823 - acc: 0.7797 - val_loss: 0.3921 - val_acc: 0.8326\n",
            "Epoch 2/5\n",
            "6250/6250 [==============================] - 1s 100us/sample - loss: 0.2869 - acc: 0.8838 - val_loss: 0.3942 - val_acc: 0.8330\n",
            "Epoch 3/5\n",
            "6250/6250 [==============================] - 1s 98us/sample - loss: 0.1692 - acc: 0.9389 - val_loss: 0.4577 - val_acc: 0.8234\n",
            "Epoch 4/5\n",
            "6250/6250 [==============================] - 1s 100us/sample - loss: 0.0593 - acc: 0.9845 - val_loss: 0.5795 - val_acc: 0.8186\n",
            "Epoch 5/5\n",
            "6250/6250 [==============================] - 1s 100us/sample - loss: 0.0151 - acc: 0.9984 - val_loss: 0.6939 - val_acc: 0.8224\n"
          ],
          "name": "stdout"
        }
      ]
    },
    {
      "metadata": {
        "id": "K3Wmz90j1efN",
        "colab_type": "code",
        "outputId": "3cea9443-b115-4e65-c7b6-d0316e9a4bc2",
        "colab": {
          "base_uri": "https://localhost:8080/",
          "height": 207
        }
      },
      "cell_type": "code",
      "source": [
        "training_duration_in_secs=endTime - startTime\n",
        "saveTrainingMetrics(\"Opti-NN-Train NN with K-Fold cross validation\")"
      ],
      "execution_count": 143,
      "outputs": [
        {
          "output_type": "stream",
          "text": [
            "       acc      loss  val_acc  val_loss  \\\n",
            "0  0.88384  0.283239  0.84032  0.392032   \n",
            "\n",
            "                                           title  sample_size  batch_size  \\\n",
            "0  Opti-NN-Train NN with K-Fold cross validation         9375          64   \n",
            "\n",
            "   train_test_ratio  training_set_size  validation_set_size  vocab_size  \\\n",
            "0          0.333333               6250                 3125        1000   \n",
            "\n",
            "   nb_epochs  training_duration_in_secs  \n",
            "0          5                  15.756862  \n"
          ],
          "name": "stdout"
        }
      ]
    },
    {
      "metadata": {
        "colab_type": "code",
        "id": "s5ouE4n7i0-3",
        "outputId": "b69e916b-8da6-4159-964f-86a959be5f06",
        "colab": {
          "base_uri": "https://localhost:8080/",
          "height": 368
        }
      },
      "cell_type": "code",
      "source": [
        "df = pd.DataFrame(data=histories)\n",
        "for col in df.columns:\n",
        "    df[col] =  df[col].apply(lambda x: x[-1])\n",
        "plot=df[[\"acc\",\"val_acc\"]].plot()\n",
        "plot.set_ylim([0,1])\n",
        "\n",
        "means=df[[\"acc\",\"val_acc\"]].mean()\n",
        "print(\"mean acc: {}, mean val_acc: {}\".format(means[\"acc\"],means[\"val_acc\"]))"
      ],
      "execution_count": 144,
      "outputs": [
        {
          "output_type": "stream",
          "text": [
            "mean acc: 0.9986666639645895, mean val_acc: 0.8222933212916056\n"
          ],
          "name": "stdout"
        },
        {
          "output_type": "display_data",
          "data": {
            "image/png": "[encoded data removed]",
            "text/plain": [
              "<Figure size 576x396 with 1 Axes>"
            ]
          },
          "metadata": {
            "tags": []
          }
        }
      ]
    },
    {
      "metadata": {
        "id": "MhsXqWp2PZw6",
        "colab_type": "text"
      },
      "cell_type": "markdown",
      "source": [
        "## Train RNN <a class=\"anchor\" id=\"rnn\"></a>"
      ]
    },
    {
      "metadata": {
        "id": "hIVA8Xr9PZw-",
        "colab_type": "code",
        "colab": {}
      },
      "cell_type": "code",
      "source": [
        ""
      ],
      "execution_count": 0,
      "outputs": []
    },
    {
      "metadata": {
        "id": "-rDReAbCPZxA",
        "colab_type": "text"
      },
      "cell_type": "markdown",
      "source": [
        "<a href='#table'>Back</a>\n",
        "# OPTIMIZE<a class=\"anchor\" id=\"opti\"></a>"
      ]
    },
    {
      "metadata": {
        "id": "14G1v5TEPZxB",
        "colab_type": "text"
      },
      "cell_type": "markdown",
      "source": [
        "## Optimize on dropout<a class=\"anchor\" id=\"opti_d\"></a>"
      ]
    },
    {
      "metadata": {
        "colab_type": "code",
        "id": "Wn6ISenGq7Aa",
        "colab": {}
      },
      "cell_type": "code",
      "source": [
        "X_train, X_test, y_train, y_test = train_test_split(np.array(reviews), np.array(labels), test_size=0.25)"
      ],
      "execution_count": 0,
      "outputs": []
    },
    {
      "metadata": {
        "colab_type": "code",
        "id": "nzc1nQ7wq7Am",
        "colab": {}
      },
      "cell_type": "code",
      "source": [
        "FOLDS=3\n",
        "kfold = KFold(FOLDS, True, 1)"
      ],
      "execution_count": 0,
      "outputs": []
    },
    {
      "metadata": {
        "colab_type": "code",
        "id": "V2iZzqKVq7Ax",
        "colab": {}
      },
      "cell_type": "code",
      "source": [
        "train_data = list(zip(X_train, y_train))"
      ],
      "execution_count": 0,
      "outputs": []
    },
    {
      "metadata": {
        "colab_type": "code",
        "id": "8VNkRI_f36lv",
        "colab": {}
      },
      "cell_type": "code",
      "source": [
        "from pdb import set_trace\n",
        "\n",
        "def getMeansFromResultsHistory(histories):\n",
        "  df = pd.DataFrame(data=histories)\n",
        "  for col in df.columns:\n",
        "      df[col] =  df[col].apply(lambda x: x[-1])\n",
        "  means=df[[\"acc\",\"val_acc\"]].mean()\n",
        "  return means\n",
        "\n",
        "def trainModelWithDropoutOn1Layer(epochs_nb=5,rate=0.0):\n",
        "  EPOCHS=5\n",
        "  SAMPLE_SIZE=len(X_train)\n",
        "  TRAIN_TEST_RATIO=(1/FOLDS)\n",
        "  TRAINING_SET_SIZE=int(SAMPLE_SIZE * (1 - TRAIN_TEST_RATIO))\n",
        "  VALIDATION_SET_SIZE=int(SAMPLE_SIZE * TRAIN_TEST_RATIO)\n",
        "\n",
        "  histories=[]\n",
        "  bestResults=None\n",
        "  for train_indices, test_indices in kfold.split(X_train,y=y_train):\n",
        "      model = keras.Sequential([\n",
        "        layers.Dense(256, activation = \"relu\", input_shape=(VOCAB_SIZE, )),\n",
        "        layers.Dropout(rate),\n",
        "        layers.Dense(128, activation = \"relu\"),\n",
        "        layers.Dense(1, activation = \"sigmoid\")\n",
        "      ])\n",
        "      model.compile(\n",
        "       optimizer = \"adam\",\n",
        "       loss = \"binary_crossentropy\",\n",
        "       metrics = [\"accuracy\"]\n",
        "      )\n",
        "      K_X_train = X_train[train_indices]\n",
        "      K_y_train = y_train[train_indices]\n",
        "      K_X_test = X_train[test_indices]\n",
        "      K_y_test = y_train[test_indices]\n",
        "      results=model.fit(\n",
        "          K_X_train, K_y_train,\n",
        "          epochs=epochs_nb,\n",
        "          validation_data=(K_X_test, K_y_test),\n",
        "          batch_size=BATCH_SIZE\n",
        "      )\n",
        "      histories.append(results.history)\n",
        "      bestResults=getBestResultsFrom(bestResults,results)\n",
        "  \n",
        "  means=getMeansFromResultsHistory(histories)\n",
        "  print(means) \n",
        "  return bestResults,means\n",
        "\n",
        "def trainModelWithDropoutOn2Layers(epochs_nb=5,rate=0.0):\n",
        "  EPOCHS=5\n",
        "  SAMPLE_SIZE=len(X_train)\n",
        "  TRAIN_TEST_RATIO=(1/FOLDS)\n",
        "  TRAINING_SET_SIZE=int(SAMPLE_SIZE * (1 - TRAIN_TEST_RATIO))\n",
        "  VALIDATION_SET_SIZE=int(SAMPLE_SIZE * TRAIN_TEST_RATIO)\n",
        "\n",
        "  histories=[]\n",
        "  bestResults=None\n",
        "  for train_indices, test_indices in kfold.split(X_train,y=y_train):\n",
        "      model = keras.Sequential([\n",
        "      layers.Dense(256, activation = \"relu\", input_shape=(VOCAB_SIZE, )),\n",
        "      layers.Dropout(rate),\n",
        "      layers.Dense(128, activation = \"relu\"),\n",
        "      layers.Dropout(rate),\n",
        "      layers.Dense(1, activation = \"sigmoid\")\n",
        "      ])\n",
        "      model.compile(\n",
        "       optimizer = \"adam\",\n",
        "       loss = \"binary_crossentropy\",\n",
        "       metrics = [\"accuracy\"]\n",
        "      )\n",
        "      K_X_train = X_train[train_indices]\n",
        "      K_y_train = y_train[train_indices]\n",
        "      K_X_test = X_train[test_indices]\n",
        "      K_y_test = y_train[test_indices]\n",
        "      results=model.fit(\n",
        "          K_X_train, K_y_train,\n",
        "          epochs=epochs_nb,\n",
        "          validation_data=(K_X_test, K_y_test),\n",
        "          batch_size=BATCH_SIZE\n",
        "      )\n",
        "      histories.append(results.history)\n",
        "      bestResults=getBestResultsFrom(bestResults,results)\n",
        "  \n",
        "  means=getMeansFromResultsHistory(histories)\n",
        "  print(means) \n",
        "  return bestResults,means"
      ],
      "execution_count": 0,
      "outputs": []
    },
    {
      "metadata": {
        "colab_type": "code",
        "id": "9s4XxkFy2gaU",
        "colab": {}
      },
      "cell_type": "code",
      "source": [
        "dropout_means=[]"
      ],
      "execution_count": 0,
      "outputs": []
    },
    {
      "metadata": {
        "id": "vUGkh0VEPZxR",
        "colab_type": "text"
      },
      "cell_type": "markdown",
      "source": [
        "### No dropout\n"
      ]
    },
    {
      "metadata": {
        "colab_type": "code",
        "id": "jOicSA33xPyy",
        "outputId": "b35252b3-682e-49e6-d0d2-41af18af456c",
        "colab": {
          "base_uri": "https://localhost:8080/",
          "height": 901
        }
      },
      "cell_type": "code",
      "source": [
        "rate=0.0\n",
        "EPOCHS=5\n",
        "startTime=time.time()\n",
        "results,means=trainModelWithDropoutOn1Layer(epochs_nb=EPOCHS,rate=rate)\n",
        "dropout_means.append([means[\"acc\"],means[\"val_acc\"], rate,0])\n",
        "endTime=time.time()\n",
        "training_duration_in_secs=endTime - startTime\n",
        "saveTrainingMetrics(\"Opti-NN-Optimise with K-folds - No dropouts\")"
      ],
      "execution_count": 150,
      "outputs": [
        {
          "output_type": "stream",
          "text": [
            "WARNING:tensorflow:From /usr/local/lib/python3.6/dist-packages/tensorflow/python/keras/layers/core.py:143: calling dropout (from tensorflow.python.ops.nn_ops) with keep_prob is deprecated and will be removed in a future version.\n",
            "Instructions for updating:\n",
            "Please use `rate` instead of `keep_prob`. Rate should be set to `rate = 1 - keep_prob`.\n",
            "Train on 6250 samples, validate on 3125 samples\n",
            "Epoch 1/5\n",
            "6250/6250 [==============================] - 1s 171us/sample - loss: 0.4786 - acc: 0.7790 - val_loss: 0.4050 - val_acc: 0.8256\n",
            "Epoch 2/5\n",
            "6250/6250 [==============================] - 1s 99us/sample - loss: 0.2704 - acc: 0.8949 - val_loss: 0.4281 - val_acc: 0.8253\n",
            "Epoch 3/5\n",
            "6250/6250 [==============================] - 1s 102us/sample - loss: 0.1550 - acc: 0.9461 - val_loss: 0.4440 - val_acc: 0.8250\n",
            "Epoch 4/5\n",
            "6250/6250 [==============================] - 1s 99us/sample - loss: 0.0582 - acc: 0.9867 - val_loss: 0.6099 - val_acc: 0.8182\n",
            "Epoch 5/5\n",
            "6250/6250 [==============================] - 1s 98us/sample - loss: 0.0176 - acc: 0.9974 - val_loss: 0.7082 - val_acc: 0.8259\n",
            "Train on 6250 samples, validate on 3125 samples\n",
            "Epoch 1/5\n",
            "6250/6250 [==============================] - 1s 170us/sample - loss: 0.4702 - acc: 0.7824 - val_loss: 0.3934 - val_acc: 0.8378\n",
            "Epoch 2/5\n",
            "6250/6250 [==============================] - 1s 98us/sample - loss: 0.2777 - acc: 0.8890 - val_loss: 0.4157 - val_acc: 0.8301\n",
            "Epoch 3/5\n",
            "6250/6250 [==============================] - 1s 96us/sample - loss: 0.1621 - acc: 0.9442 - val_loss: 0.4880 - val_acc: 0.8202\n",
            "Epoch 4/5\n",
            "6250/6250 [==============================] - 1s 101us/sample - loss: 0.0667 - acc: 0.9811 - val_loss: 0.6143 - val_acc: 0.8205\n",
            "Epoch 5/5\n",
            "6250/6250 [==============================] - 1s 101us/sample - loss: 0.0191 - acc: 0.9971 - val_loss: 0.7612 - val_acc: 0.8208\n",
            "Train on 6250 samples, validate on 3125 samples\n",
            "Epoch 1/5\n",
            "6250/6250 [==============================] - 1s 183us/sample - loss: 0.4825 - acc: 0.7774 - val_loss: 0.3845 - val_acc: 0.8342\n",
            "Epoch 2/5\n",
            "6250/6250 [==============================] - 1s 97us/sample - loss: 0.2862 - acc: 0.8886 - val_loss: 0.3824 - val_acc: 0.8314\n",
            "Epoch 3/5\n",
            "6250/6250 [==============================] - 1s 98us/sample - loss: 0.1822 - acc: 0.9339 - val_loss: 0.4121 - val_acc: 0.8307\n",
            "Epoch 4/5\n",
            "6250/6250 [==============================] - 1s 99us/sample - loss: 0.0720 - acc: 0.9813 - val_loss: 0.5377 - val_acc: 0.8301\n",
            "Epoch 5/5\n",
            "6250/6250 [==============================] - 1s 99us/sample - loss: 0.0199 - acc: 0.9966 - val_loss: 0.6338 - val_acc: 0.8310\n",
            "acc        0.997067\n",
            "val_acc    0.825920\n",
            "dtype: float64\n",
            "      acc      loss  val_acc  val_loss  \\\n",
            "0  0.7824  0.470243  0.83776   0.39341   \n",
            "\n",
            "                                         title  sample_size  batch_size  \\\n",
            "0  Opti-NN-Optimise with K-folds - No dropouts         9375          64   \n",
            "\n",
            "   train_test_ratio  training_set_size  validation_set_size  vocab_size  \\\n",
            "0          0.333333               6250                 3125        1000   \n",
            "\n",
            "   nb_epochs  training_duration_in_secs  \n",
            "0          5                   16.88148  \n"
          ],
          "name": "stdout"
        }
      ]
    },
    {
      "metadata": {
        "id": "TnO39h8BPZxW",
        "colab_type": "text"
      },
      "cell_type": "markdown",
      "source": [
        "### Low dropout on 1 layer"
      ]
    },
    {
      "metadata": {
        "colab_type": "code",
        "id": "Q5uhaJ-_rOO2",
        "outputId": "44fec685-96bf-44eb-804a-bdf6333aa2a4",
        "colab": {
          "base_uri": "https://localhost:8080/",
          "height": 849
        }
      },
      "cell_type": "code",
      "source": [
        "rate=0.2\n",
        "EPOCHS=5\n",
        "startTime=time.time()\n",
        "results,means=trainModelWithDropoutOn1Layer(epochs_nb=EPOCHS,rate=rate)\n",
        "dropout_means.append([means[\"acc\"],means[\"val_acc\"], rate,1])\n",
        "endTime=time.time()\n",
        "training_duration_in_secs=endTime - startTime\n",
        "saveTrainingMetrics(\"Opti-NN-Optimise with K-folds - Low dropout on 1 layer\")"
      ],
      "execution_count": 151,
      "outputs": [
        {
          "output_type": "stream",
          "text": [
            "Train on 6250 samples, validate on 3125 samples\n",
            "Epoch 1/5\n",
            "6250/6250 [==============================] - 1s 186us/sample - loss: 0.4768 - acc: 0.7830 - val_loss: 0.4385 - val_acc: 0.8090\n",
            "Epoch 2/5\n",
            "6250/6250 [==============================] - 1s 102us/sample - loss: 0.2918 - acc: 0.8824 - val_loss: 0.4032 - val_acc: 0.8307\n",
            "Epoch 3/5\n",
            "6250/6250 [==============================] - 1s 104us/sample - loss: 0.1980 - acc: 0.9229 - val_loss: 0.4592 - val_acc: 0.8234\n",
            "Epoch 4/5\n",
            "6250/6250 [==============================] - 1s 101us/sample - loss: 0.1050 - acc: 0.9662 - val_loss: 0.5515 - val_acc: 0.8150\n",
            "Epoch 5/5\n",
            "6250/6250 [==============================] - 1s 101us/sample - loss: 0.0486 - acc: 0.9862 - val_loss: 0.6557 - val_acc: 0.8275\n",
            "Train on 6250 samples, validate on 3125 samples\n",
            "Epoch 1/5\n",
            "6250/6250 [==============================] - 1s 194us/sample - loss: 0.4905 - acc: 0.7643 - val_loss: 0.3934 - val_acc: 0.8330\n",
            "Epoch 2/5\n",
            "6250/6250 [==============================] - 1s 101us/sample - loss: 0.3001 - acc: 0.8778 - val_loss: 0.4141 - val_acc: 0.8208\n",
            "Epoch 3/5\n",
            "6250/6250 [==============================] - 1s 100us/sample - loss: 0.1929 - acc: 0.9262 - val_loss: 0.4501 - val_acc: 0.8323\n",
            "Epoch 4/5\n",
            "6250/6250 [==============================] - 1s 102us/sample - loss: 0.0988 - acc: 0.9677 - val_loss: 0.5699 - val_acc: 0.8282\n",
            "Epoch 5/5\n",
            "6250/6250 [==============================] - 1s 102us/sample - loss: 0.0498 - acc: 0.9854 - val_loss: 0.6860 - val_acc: 0.8192\n",
            "Train on 6250 samples, validate on 3125 samples\n",
            "Epoch 1/5\n",
            "6250/6250 [==============================] - 1s 199us/sample - loss: 0.4968 - acc: 0.7589 - val_loss: 0.3833 - val_acc: 0.8432\n",
            "Epoch 2/5\n",
            "6250/6250 [==============================] - 1s 101us/sample - loss: 0.3053 - acc: 0.8765 - val_loss: 0.3868 - val_acc: 0.8400\n",
            "Epoch 3/5\n",
            "6250/6250 [==============================] - 1s 102us/sample - loss: 0.1941 - acc: 0.9306 - val_loss: 0.4107 - val_acc: 0.8416\n",
            "Epoch 4/5\n",
            "6250/6250 [==============================] - 1s 103us/sample - loss: 0.1037 - acc: 0.9670 - val_loss: 0.5030 - val_acc: 0.8352\n",
            "Epoch 5/5\n",
            "6250/6250 [==============================] - 1s 101us/sample - loss: 0.0398 - acc: 0.9923 - val_loss: 0.6036 - val_acc: 0.8304\n",
            "acc        0.988000\n",
            "val_acc    0.825707\n",
            "dtype: float64\n",
            "       acc      loss  val_acc  val_loss  \\\n",
            "0  0.75888  0.496847   0.8432  0.383254   \n",
            "\n",
            "                                               title  sample_size  batch_size  \\\n",
            "0  Opti-NN-Optimise with K-folds - Low dropout on...         9375          64   \n",
            "\n",
            "   train_test_ratio  training_set_size  validation_set_size  vocab_size  \\\n",
            "0          0.333333               6250                 3125        1000   \n",
            "\n",
            "   nb_epochs  training_duration_in_secs  \n",
            "0          5                   19.12289  \n"
          ],
          "name": "stdout"
        }
      ]
    },
    {
      "metadata": {
        "id": "1CrRZgpaPZxZ",
        "colab_type": "text"
      },
      "cell_type": "markdown",
      "source": [
        "### High dropout on 1 layer\n"
      ]
    },
    {
      "metadata": {
        "colab_type": "code",
        "id": "1CblTzT_uul1",
        "outputId": "8e183bf8-1ebc-4b89-a093-683835e8f84e",
        "colab": {
          "base_uri": "https://localhost:8080/",
          "height": 849
        }
      },
      "cell_type": "code",
      "source": [
        "rate=0.4\n",
        "EPOCHS=5\n",
        "startTime=time.time()\n",
        "results,means=trainModelWithDropoutOn1Layer(epochs_nb=EPOCHS,rate=rate)\n",
        "dropout_means.append([means[\"acc\"],means[\"val_acc\"], rate,1])\n",
        "endTime=time.time()\n",
        "training_duration_in_secs=endTime - startTime\n",
        "saveTrainingMetrics(\"Opti-NN-Optimise with K-folds - High dropout on 1 layer\")"
      ],
      "execution_count": 152,
      "outputs": [
        {
          "output_type": "stream",
          "text": [
            "Train on 6250 samples, validate on 3125 samples\n",
            "Epoch 1/5\n",
            "6250/6250 [==============================] - 1s 199us/sample - loss: 0.5082 - acc: 0.7474 - val_loss: 0.4066 - val_acc: 0.8256\n",
            "Epoch 2/5\n",
            "6250/6250 [==============================] - 1s 100us/sample - loss: 0.3204 - acc: 0.8685 - val_loss: 0.4117 - val_acc: 0.8269\n",
            "Epoch 3/5\n",
            "6250/6250 [==============================] - 1s 102us/sample - loss: 0.2429 - acc: 0.9054 - val_loss: 0.4326 - val_acc: 0.8211\n",
            "Epoch 4/5\n",
            "6250/6250 [==============================] - 1s 102us/sample - loss: 0.1683 - acc: 0.9378 - val_loss: 0.4687 - val_acc: 0.8221\n",
            "Epoch 5/5\n",
            "6250/6250 [==============================] - 1s 102us/sample - loss: 0.1127 - acc: 0.9622 - val_loss: 0.5392 - val_acc: 0.8259\n",
            "Train on 6250 samples, validate on 3125 samples\n",
            "Epoch 1/5\n",
            "6250/6250 [==============================] - 1s 202us/sample - loss: 0.5187 - acc: 0.7453 - val_loss: 0.3972 - val_acc: 0.8368\n",
            "Epoch 2/5\n",
            "6250/6250 [==============================] - 1s 103us/sample - loss: 0.3266 - acc: 0.8613 - val_loss: 0.4299 - val_acc: 0.8163\n",
            "Epoch 3/5\n",
            "6250/6250 [==============================] - 1s 104us/sample - loss: 0.2407 - acc: 0.9066 - val_loss: 0.4288 - val_acc: 0.8288\n",
            "Epoch 4/5\n",
            "6250/6250 [==============================] - 1s 102us/sample - loss: 0.1577 - acc: 0.9432 - val_loss: 0.4845 - val_acc: 0.8243\n",
            "Epoch 5/5\n",
            "6250/6250 [==============================] - 1s 104us/sample - loss: 0.0959 - acc: 0.9682 - val_loss: 0.5687 - val_acc: 0.8272\n",
            "Train on 6250 samples, validate on 3125 samples\n",
            "Epoch 1/5\n",
            "6250/6250 [==============================] - 1s 210us/sample - loss: 0.5245 - acc: 0.7469 - val_loss: 0.3808 - val_acc: 0.8419\n",
            "Epoch 2/5\n",
            "6250/6250 [==============================] - 1s 103us/sample - loss: 0.3368 - acc: 0.8613 - val_loss: 0.3694 - val_acc: 0.8432\n",
            "Epoch 3/5\n",
            "6250/6250 [==============================] - 1s 105us/sample - loss: 0.2445 - acc: 0.9048 - val_loss: 0.3895 - val_acc: 0.8429\n",
            "Epoch 4/5\n",
            "6250/6250 [==============================] - 1s 102us/sample - loss: 0.1703 - acc: 0.9350 - val_loss: 0.4365 - val_acc: 0.8362\n",
            "Epoch 5/5\n",
            "6250/6250 [==============================] - 1s 104us/sample - loss: 0.1003 - acc: 0.9669 - val_loss: 0.5112 - val_acc: 0.8333\n",
            "acc        0.96576\n",
            "val_acc    0.82880\n",
            "dtype: float64\n",
            "       acc      loss  val_acc  val_loss  \\\n",
            "0  0.86128  0.336839   0.8432  0.369354   \n",
            "\n",
            "                                               title  sample_size  batch_size  \\\n",
            "0  Opti-NN-Optimise with K-folds - High dropout o...         9375          64   \n",
            "\n",
            "   train_test_ratio  training_set_size  validation_set_size  vocab_size  \\\n",
            "0          0.333333               6250                 3125        1000   \n",
            "\n",
            "   nb_epochs  training_duration_in_secs  \n",
            "0          5                  20.440294  \n"
          ],
          "name": "stdout"
        }
      ]
    },
    {
      "metadata": {
        "id": "19DRpJToPZxd",
        "colab_type": "text"
      },
      "cell_type": "markdown",
      "source": [
        "### Low dropout on 2 layers"
      ]
    },
    {
      "metadata": {
        "id": "aBcUSBlr5uev",
        "colab_type": "code",
        "outputId": "9fee604f-690c-496f-e77e-40e895881816",
        "colab": {
          "base_uri": "https://localhost:8080/",
          "height": 849
        }
      },
      "cell_type": "code",
      "source": [
        "rate=0.2\n",
        "EPOCHS=5\n",
        "startTime=time.time()\n",
        "results,means=trainModelWithDropoutOn2Layers(epochs_nb=EPOCHS,rate=rate)\n",
        "dropout_means.append([means[\"acc\"],means[\"val_acc\"], rate,1])\n",
        "endTime=time.time()\n",
        "training_duration_in_secs=endTime - startTime\n",
        "saveTrainingMetrics(\"Opti-NN-Optimise with K-folds - Low dropout on 2 layers\")"
      ],
      "execution_count": 153,
      "outputs": [
        {
          "output_type": "stream",
          "text": [
            "Train on 6250 samples, validate on 3125 samples\n",
            "Epoch 1/5\n",
            "6250/6250 [==============================] - 1s 223us/sample - loss: 0.4831 - acc: 0.7658 - val_loss: 0.4074 - val_acc: 0.8240\n",
            "Epoch 2/5\n",
            "6250/6250 [==============================] - 1s 107us/sample - loss: 0.3099 - acc: 0.8762 - val_loss: 0.4040 - val_acc: 0.8278\n",
            "Epoch 3/5\n",
            "6250/6250 [==============================] - 1s 111us/sample - loss: 0.2106 - acc: 0.9200 - val_loss: 0.4497 - val_acc: 0.8202\n",
            "Epoch 4/5\n",
            "6250/6250 [==============================] - 1s 109us/sample - loss: 0.1315 - acc: 0.9523 - val_loss: 0.5028 - val_acc: 0.8198\n",
            "Epoch 5/5\n",
            "6250/6250 [==============================] - 1s 106us/sample - loss: 0.0645 - acc: 0.9830 - val_loss: 0.6351 - val_acc: 0.8157\n",
            "Train on 6250 samples, validate on 3125 samples\n",
            "Epoch 1/5\n",
            "6250/6250 [==============================] - 1s 231us/sample - loss: 0.4961 - acc: 0.7678 - val_loss: 0.4142 - val_acc: 0.8310\n",
            "Epoch 2/5\n",
            "6250/6250 [==============================] - 1s 105us/sample - loss: 0.3020 - acc: 0.8747 - val_loss: 0.4014 - val_acc: 0.8339\n",
            "Epoch 3/5\n",
            "6250/6250 [==============================] - 1s 108us/sample - loss: 0.1995 - acc: 0.9237 - val_loss: 0.4551 - val_acc: 0.8298\n",
            "Epoch 4/5\n",
            "6250/6250 [==============================] - 1s 109us/sample - loss: 0.1072 - acc: 0.9672 - val_loss: 0.5618 - val_acc: 0.8246\n",
            "Epoch 5/5\n",
            "6250/6250 [==============================] - 1s 108us/sample - loss: 0.0544 - acc: 0.9840 - val_loss: 0.6549 - val_acc: 0.8250\n",
            "Train on 6250 samples, validate on 3125 samples\n",
            "Epoch 1/5\n",
            "6250/6250 [==============================] - 1s 229us/sample - loss: 0.4978 - acc: 0.7651 - val_loss: 0.3849 - val_acc: 0.8374\n",
            "Epoch 2/5\n",
            "6250/6250 [==============================] - 1s 106us/sample - loss: 0.3170 - acc: 0.8738 - val_loss: 0.3784 - val_acc: 0.8381\n",
            "Epoch 3/5\n",
            "6250/6250 [==============================] - 1s 107us/sample - loss: 0.2244 - acc: 0.9154 - val_loss: 0.4092 - val_acc: 0.8378\n",
            "Epoch 4/5\n",
            "6250/6250 [==============================] - 1s 110us/sample - loss: 0.1266 - acc: 0.9606 - val_loss: 0.4727 - val_acc: 0.8352\n",
            "Epoch 5/5\n",
            "6250/6250 [==============================] - 1s 106us/sample - loss: 0.0600 - acc: 0.9851 - val_loss: 0.5867 - val_acc: 0.8285\n",
            "acc        0.984053\n",
            "val_acc    0.823040\n",
            "dtype: float64\n",
            "       acc      loss  val_acc  val_loss  \\\n",
            "0  0.87376  0.317024  0.83808  0.378381   \n",
            "\n",
            "                                               title  sample_size  batch_size  \\\n",
            "0  Opti-NN-Optimise with K-folds - Low dropout on...         9375          64   \n",
            "\n",
            "   train_test_ratio  training_set_size  validation_set_size  vocab_size  \\\n",
            "0          0.333333               6250                 3125        1000   \n",
            "\n",
            "   nb_epochs  training_duration_in_secs  \n",
            "0          5                  23.531958  \n"
          ],
          "name": "stdout"
        }
      ]
    },
    {
      "metadata": {
        "id": "YndqkNTkPZxi",
        "colab_type": "text"
      },
      "cell_type": "markdown",
      "source": [
        "### High dropout on 2 layers\n"
      ]
    },
    {
      "metadata": {
        "id": "7vGsFrf35ZKe",
        "colab_type": "code",
        "outputId": "4c95e500-f285-4496-b3d6-f0c55bf0e182",
        "colab": {
          "base_uri": "https://localhost:8080/",
          "height": 849
        }
      },
      "cell_type": "code",
      "source": [
        "rate=0.4\n",
        "EPOCHS=5\n",
        "startTime=time.time()\n",
        "results,means=trainModelWithDropoutOn2Layers(epochs_nb=EPOCHS,rate=rate)\n",
        "dropout_means.append([means[\"acc\"],means[\"val_acc\"], rate,1])\n",
        "endTime=time.time()\n",
        "training_duration_in_secs=endTime - startTime\n",
        "saveTrainingMetrics(\"Opti-NN-Optimise with K-folds - High dropout on 2 layers\")"
      ],
      "execution_count": 154,
      "outputs": [
        {
          "output_type": "stream",
          "text": [
            "Train on 6250 samples, validate on 3125 samples\n",
            "Epoch 1/5\n",
            "6250/6250 [==============================] - 1s 239us/sample - loss: 0.5360 - acc: 0.7261 - val_loss: 0.4417 - val_acc: 0.8077\n",
            "Epoch 2/5\n",
            "6250/6250 [==============================] - 1s 109us/sample - loss: 0.3429 - acc: 0.8576 - val_loss: 0.3949 - val_acc: 0.8282\n",
            "Epoch 3/5\n",
            "6250/6250 [==============================] - 1s 108us/sample - loss: 0.2606 - acc: 0.8952 - val_loss: 0.4112 - val_acc: 0.8259\n",
            "Epoch 4/5\n",
            "6250/6250 [==============================] - 1s 110us/sample - loss: 0.1948 - acc: 0.9269 - val_loss: 0.4552 - val_acc: 0.8301\n",
            "Epoch 5/5\n",
            "6250/6250 [==============================] - 1s 110us/sample - loss: 0.1344 - acc: 0.9549 - val_loss: 0.4996 - val_acc: 0.8269\n",
            "Train on 6250 samples, validate on 3125 samples\n",
            "Epoch 1/5\n",
            "6250/6250 [==============================] - 2s 244us/sample - loss: 0.5489 - acc: 0.7269 - val_loss: 0.3994 - val_acc: 0.8298\n",
            "Epoch 2/5\n",
            "6250/6250 [==============================] - 1s 108us/sample - loss: 0.3521 - acc: 0.8525 - val_loss: 0.3955 - val_acc: 0.8288\n",
            "Epoch 3/5\n",
            "6250/6250 [==============================] - 1s 108us/sample - loss: 0.2695 - acc: 0.8909 - val_loss: 0.4103 - val_acc: 0.8339\n",
            "Epoch 4/5\n",
            "6250/6250 [==============================] - 1s 110us/sample - loss: 0.1997 - acc: 0.9230 - val_loss: 0.4572 - val_acc: 0.8339\n",
            "Epoch 5/5\n",
            "6250/6250 [==============================] - 1s 108us/sample - loss: 0.1284 - acc: 0.9549 - val_loss: 0.5398 - val_acc: 0.8294\n",
            "Train on 6250 samples, validate on 3125 samples\n",
            "Epoch 1/5\n",
            "6250/6250 [==============================] - 2s 250us/sample - loss: 0.5477 - acc: 0.7173 - val_loss: 0.3978 - val_acc: 0.8346\n",
            "Epoch 2/5\n",
            "6250/6250 [==============================] - 1s 107us/sample - loss: 0.3579 - acc: 0.8530 - val_loss: 0.3716 - val_acc: 0.8374\n",
            "Epoch 3/5\n",
            "6250/6250 [==============================] - 1s 110us/sample - loss: 0.2776 - acc: 0.8933 - val_loss: 0.3853 - val_acc: 0.8403\n",
            "Epoch 4/5\n",
            "6250/6250 [==============================] - 1s 111us/sample - loss: 0.2108 - acc: 0.9222 - val_loss: 0.4281 - val_acc: 0.8365\n",
            "Epoch 5/5\n",
            "6250/6250 [==============================] - 1s 107us/sample - loss: 0.1407 - acc: 0.9515 - val_loss: 0.4770 - val_acc: 0.8352\n",
            "acc        0.953760\n",
            "val_acc    0.830507\n",
            "dtype: float64\n",
            "       acc      loss  val_acc  val_loss  \\\n",
            "0  0.89328  0.277582  0.84032   0.38533   \n",
            "\n",
            "                                               title  sample_size  batch_size  \\\n",
            "0  Opti-NN-Optimise with K-folds - High dropout o...         9375          64   \n",
            "\n",
            "   train_test_ratio  training_set_size  validation_set_size  vocab_size  \\\n",
            "0          0.333333               6250                 3125        1000   \n",
            "\n",
            "   nb_epochs  training_duration_in_secs  \n",
            "0          5                  24.983345  \n"
          ],
          "name": "stdout"
        }
      ]
    },
    {
      "metadata": {
        "colab_type": "text",
        "id": "gz8yOkHOzD0k"
      },
      "cell_type": "markdown",
      "source": [
        "Plot results"
      ]
    },
    {
      "metadata": {
        "colab_type": "code",
        "id": "kWtdXNAAvW_c",
        "outputId": "0705fa4e-90b8-4d48-920f-11393bd5e00f",
        "colab": {
          "base_uri": "https://localhost:8080/",
          "height": 405
        }
      },
      "cell_type": "code",
      "source": [
        "df = pd.DataFrame(data=dropout_means,columns=['acc','val_acc','rate','nb_layers'])\n",
        "plt.rcParams[\"figure.figsize\"] = [17,2]\n",
        "plot=df[[\"acc\",\"val_acc\"]].plot()\n",
        "plot.set_ylim([0.7,1])\n",
        "plot.grid()\n",
        "\n",
        "plt.rcParams[\"figure.figsize\"] = [17,1.5]\n",
        "plot=df[[\"rate\"]].plot()\n",
        "plot.set_ylim([0,0.5])\n",
        "plot.grid()\n",
        "\n",
        "plt.rcParams[\"figure.figsize\"] = [17,1.5]\n",
        "plot=df[[\"nb_layers\"]].plot()\n",
        "plot.set_ylim([0,2.2])\n",
        "plot.grid()"
      ],
      "execution_count": 155,
      "outputs": [
        {
          "output_type": "display_data",
          "data": {
            "image/png": "[encoded data removed]",
            "text/plain": [
              "<Figure size 1224x144 with 1 Axes>"
            ]
          },
          "metadata": {
            "tags": []
          }
        },
        {
          "output_type": "display_data",
          "data": {
            "image/png": "[encoded data removed]",
            "text/plain": [
              "<Figure size 1224x108 with 1 Axes>"
            ]
          },
          "metadata": {
            "tags": []
          }
        },
        {
          "output_type": "display_data",
          "data": {
            "image/png": "[encoded data removed]",
            "text/plain": [
              "<Figure size 1224x108 with 1 Axes>"
            ]
          },
          "metadata": {
            "tags": []
          }
        }
      ]
    },
    {
      "metadata": {
        "colab_type": "code",
        "id": "46vBFEGrzpgG",
        "outputId": "2d5cc200-a578-41e6-b2fe-d18b0a524ae9",
        "colab": {
          "base_uri": "https://localhost:8080/",
          "height": 104
        }
      },
      "cell_type": "code",
      "source": [
        "dropout_means"
      ],
      "execution_count": 156,
      "outputs": [
        {
          "output_type": "execute_result",
          "data": {
            "text/plain": [
              "[[0.9970666766166687, 0.8259200056393942, 0.0, 0],\n",
              " [0.9880000154177347, 0.8257066607475281, 0.2, 1],\n",
              " [0.9657599925994873, 0.8288000027338663, 0.4, 1],\n",
              " [0.9840533336003622, 0.8230400085449219, 0.2, 1],\n",
              " [0.953760008017222, 0.8305066625277201, 0.4, 1]]"
            ]
          },
          "metadata": {
            "tags": []
          },
          "execution_count": 156
        }
      ]
    },
    {
      "metadata": {
        "id": "UKxdXoGZPZxx",
        "colab_type": "text"
      },
      "cell_type": "markdown",
      "source": [
        "### Observation<a class=\"anchor\" id=\"opti_d_o\"></a>\n",
        "we have similar results, but got a higher test accuracy with low dropout on all layers and also less overfit (training and test accuracies are closer)"
      ]
    }
  ]
}