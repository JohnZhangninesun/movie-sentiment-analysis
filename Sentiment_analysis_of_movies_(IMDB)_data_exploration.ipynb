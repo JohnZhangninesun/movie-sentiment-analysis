{
 "cells": [
  {
   "cell_type": "markdown",
   "metadata": {},
   "source": [
    "## Exloring the movie review data\n",
    "In separate sheet to keep sheets running the models from being too cluttered"
   ]
  },
  {
   "cell_type": "code",
   "execution_count": 1,
   "metadata": {},
   "outputs": [
    {
     "name": "stdout",
     "output_type": "stream",
     "text": [
      "Dataset directory exists, taking no action\n"
     ]
    }
   ],
   "source": [
    "import os\n",
    "import wget\n",
    "import tarfile\n",
    "\n",
    "# By checking if the directory exists first, we allow people to delete the tarfile without the notebook re-downloading it\n",
    "if os.path.isdir('aclImdb'):\n",
    "    print(\"Dataset directory exists, taking no action\")\n",
    "else:    \n",
    "    if not os.path.isfile('aclImdb_v1.tar.gz'):\n",
    "        print(\"Downloading dataset\")\n",
    "        #!wget http://ai.stanford.edu/~amaas/data/sentiment/aclImdb_v1.tar.gz\n",
    "        wget.download('http://ai.stanford.edu/~amaas/data/sentiment/aclImdb_v1.tar.gz')\n",
    "    else:\n",
    "        print(\"Dataset already downloaded\")\n",
    "    \n",
    "    print(\"Unpacking dataset\")\n",
    "    #!tar -xf aclImdb_v1.tar.gz \n",
    "    tar = tarfile.open(\"aclImdb_v1.tar.gz\")\n",
    "    tar.extractall()\n",
    "    tar.close()\n",
    "    print(\"Dataset unpacked in aclImdb\")"
   ]
  },
  {
   "cell_type": "code",
   "execution_count": 2,
   "metadata": {},
   "outputs": [],
   "source": [
    "# configuration\n",
    "SAMPLE_SIZE=1000\n"
   ]
  },
  {
   "cell_type": "code",
   "execution_count": 3,
   "metadata": {},
   "outputs": [],
   "source": [
    "import numpy as np\n",
    "import os\n",
    "import os.path\n",
    "import glob\n",
    "import time\n",
    "\n",
    "time_beginning_of_notebook = time.time()\n",
    "positive_file_list = glob.glob(os.path.join('aclImdb/train/pos', \"*.txt\"))\n",
    "positive_sample_file_list = positive_file_list[:SAMPLE_SIZE]\n",
    "\n",
    "negative_file_list = glob.glob(os.path.join('aclImdb/train/neg', \"*.txt\"))\n",
    "negative_sample_file_list = negative_file_list[:SAMPLE_SIZE]\n",
    "\n",
    "import re\n",
    "\n",
    "# load doc into memory\n",
    "# regex to clean markup elements \n",
    "def load_doc(filename):\n",
    "    # open the file as read only\n",
    "    file = open(filename, 'r', encoding='utf8')\n",
    "    # read all text\n",
    "    text = re.sub('<[^>]*>', ' ', file.read())\n",
    "    #text = file.read()\n",
    "    # close the file\n",
    "    file.close()\n",
    "    return text"
   ]
  },
  {
   "cell_type": "code",
   "execution_count": 4,
   "metadata": {},
   "outputs": [],
   "source": [
    "positive_reviews = [load_doc(x) for x in positive_file_list]\n",
    "negative_reviews = [load_doc(x) for x in negative_file_list]"
   ]
  },
  {
   "cell_type": "code",
   "execution_count": 5,
   "metadata": {},
   "outputs": [],
   "source": [
    "def pretty_print_positive_and_negative(i):\n",
    "    print(positive_reviews[i][:30] + \"\\t:\\t\" + negative_reviews[i][:30] + \"...\")"
   ]
  },
  {
   "cell_type": "code",
   "execution_count": 6,
   "metadata": {},
   "outputs": [
    {
     "name": "stdout",
     "output_type": "stream",
     "text": [
      "25000\n",
      "\n",
      " Positive reviews \n",
      "  This movie is a journey through the mind of a scre\n",
      "\n",
      " Negative reviews \n",
      "  While the original First Blood had its far-fetched\n"
     ]
    }
   ],
   "source": [
    "print(len(positive_reviews) + len(negative_reviews))\n",
    "print('\\n Positive reviews \\n ', positive_reviews[2137][:50])\n",
    "print('\\n Negative reviews \\n ', negative_reviews[2137][:50])"
   ]
  },
  {
   "cell_type": "code",
   "execution_count": 7,
   "metadata": {},
   "outputs": [
    {
     "name": "stdout",
     "output_type": "stream",
     "text": [
      "positive reviews \t : \t negative reviews\n",
      "\n",
      "This movie is a journey throug\t:\tWhile the original First Blood...\n",
      "are highlights of this 1917 fe\t:\tOK I had higher hopes for this...\n",
      "Here's the kind of love story \t:\tWhat a disappointment!  This f...\n",
      "A small pleasure in life is wa\t:\tSome nice scenery, but the sto...\n",
      "This film was amazing. It had \t:\tI remember when I first saw th...\n"
     ]
    }
   ],
   "source": [
    "print(\"positive reviews \\t : \\t negative reviews\\n\")\n",
    "pretty_print_positive_and_negative(2137)\n",
    "pretty_print_positive_and_negative(12444)\n",
    "pretty_print_positive_and_negative(6267)\n",
    "pretty_print_positive_and_negative(5297)\n",
    "pretty_print_positive_and_negative(4998)"
   ]
  },
  {
   "cell_type": "code",
   "execution_count": 8,
   "metadata": {},
   "outputs": [],
   "source": [
    "from collections import Counter\n",
    "import numpy as np"
   ]
  },
  {
   "cell_type": "code",
   "execution_count": 9,
   "metadata": {},
   "outputs": [],
   "source": [
    "# Create three Counter objects to store positive, negative and total counts\n",
    "positive_counts = Counter()\n",
    "negative_counts = Counter()\n",
    "total_counts = Counter()"
   ]
  },
  {
   "cell_type": "code",
   "execution_count": 10,
   "metadata": {},
   "outputs": [],
   "source": [
    "# Loop over all the words in all the reviews and increment the counts in the appropriate counter objects\n",
    "for i in range(len(positive_reviews)):\n",
    "    for word in positive_reviews[i].split(\" \"):\n",
    "        positive_counts[word] += 1\n",
    "        total_counts[word] += 1\n",
    "for i in range(len(negative_reviews)):\n",
    "    for word in negative_reviews[i].split(\" \"):\n",
    "        negative_counts[word] += 1\n",
    "        total_counts[word] += 1\n"
   ]
  },
  {
   "cell_type": "code",
   "execution_count": 11,
   "metadata": {},
   "outputs": [
    {
     "data": {
      "text/plain": [
       "[('the', 148466),\n",
       " ('and', 84295),\n",
       " ('a', 79438),\n",
       " ('of', 75349),\n",
       " ('to', 65216),\n",
       " ('is', 55366),\n",
       " ('in', 45802),\n",
       " ('I', 32622),\n",
       " ('that', 31948),\n",
       " ('', 27700),\n",
       " ('it', 26999),\n",
       " ('this', 26037),\n",
       " ('as', 23934),\n",
       " ('with', 22034),\n",
       " ('was', 21312),\n",
       " ('for', 20874),\n",
       " ('The', 20300),\n",
       " ('but', 16459),\n",
       " ('his', 16203),\n",
       " ('on', 15387),\n",
       " ('film', 14420),\n",
       " ('are', 14397),\n",
       " ('movie', 13375),\n",
       " ('not', 12493),\n",
       " ('you', 12416),\n",
       " ('have', 12270),\n",
       " ('he', 11771),\n",
       " ('be', 11696),\n",
       " ('by', 11462),\n",
       " ('an', 10794),\n",
       " ('one', 10686),\n",
       " ('at', 10231),\n",
       " ('who', 10152),\n",
       " ('from', 10134),\n",
       " ('all', 9159),\n",
       " ('has', 9032),\n",
       " ('her', 8999),\n",
       " ('like', 7981),\n",
       " ('about', 7829),\n",
       " ('very', 7796),\n",
       " ('they', 7714),\n",
       " ('This', 7437),\n",
       " ('so', 7383),\n",
       " ('or', 7013),\n",
       " ('more', 6825),\n",
       " ('out', 6692),\n",
       " ('some', 6664),\n",
       " ('just', 6533),\n",
       " ('It', 6238),\n",
       " ('when', 5987),\n",
       " ('what', 5903),\n",
       " ('their', 5893),\n",
       " ('good', 5797),\n",
       " ('which', 5645),\n",
       " ('she', 5402),\n",
       " (\"it's\", 5313),\n",
       " ('can', 5275),\n",
       " ('see', 5250),\n",
       " ('my', 5226),\n",
       " ('would', 5191),\n",
       " ('really', 5160),\n",
       " ('great', 5102),\n",
       " ('up', 5036),\n",
       " ('had', 4963),\n",
       " ('story', 4888),\n",
       " ('will', 4859),\n",
       " ('only', 4839),\n",
       " ('-', 4745),\n",
       " ('if', 4735),\n",
       " ('than', 4664),\n",
       " ('were', 4625),\n",
       " ('also', 4624),\n",
       " ('into', 4472),\n",
       " ('most', 4407),\n",
       " ('its', 4141),\n",
       " ('other', 4127),\n",
       " ('much', 4107),\n",
       " ('even', 4100),\n",
       " ('been', 4073),\n",
       " ('we', 4058),\n",
       " ('get', 4028),\n",
       " ('first', 3944),\n",
       " ('there', 3931),\n",
       " ('time', 3897),\n",
       " ('because', 3757),\n",
       " ('how', 3684),\n",
       " ('no', 3652),\n",
       " ('well', 3607),\n",
       " ('me', 3597),\n",
       " ('him', 3589),\n",
       " ('people', 3494),\n",
       " ('many', 3425),\n",
       " ('best', 3387),\n",
       " ('But', 3352),\n",
       " ('love', 3327),\n",
       " ('think', 3316),\n",
       " ('two', 3221),\n",
       " ('do', 3208),\n",
       " ('made', 3183),\n",
       " ('make', 3085)]"
      ]
     },
     "execution_count": 11,
     "metadata": {},
     "output_type": "execute_result"
    }
   ],
   "source": [
    "positive_counts.most_common()[:100]"
   ]
  },
  {
   "cell_type": "code",
   "execution_count": 12,
   "metadata": {},
   "outputs": [
    {
     "data": {
      "text/plain": [
       "[('the', 138707),\n",
       " ('a', 75682),\n",
       " ('and', 68417),\n",
       " ('of', 67636),\n",
       " ('to', 67364),\n",
       " ('is', 47882),\n",
       " ('in', 39790),\n",
       " ('I', 37007),\n",
       " ('that', 32619),\n",
       " ('this', 31208),\n",
       " ('', 29753),\n",
       " ('it', 27455),\n",
       " ('was', 25393),\n",
       " ('The', 20694),\n",
       " ('for', 20202),\n",
       " ('with', 19694),\n",
       " ('as', 18587),\n",
       " ('but', 17340),\n",
       " ('movie', 17140),\n",
       " ('on', 15383),\n",
       " ('have', 14863),\n",
       " ('are', 14106),\n",
       " ('be', 13818),\n",
       " ('not', 13775),\n",
       " ('film', 12994),\n",
       " ('you', 12714),\n",
       " ('his', 11492),\n",
       " ('at', 11071),\n",
       " ('like', 10158),\n",
       " ('they', 10131),\n",
       " ('one', 10010),\n",
       " ('by', 9969),\n",
       " ('he', 9914),\n",
       " ('an', 9833),\n",
       " ('just', 9802),\n",
       " ('or', 9211),\n",
       " ('from', 9112),\n",
       " ('so', 8966),\n",
       " ('all', 8907),\n",
       " ('who', 8691),\n",
       " ('about', 8463),\n",
       " ('out', 7679),\n",
       " ('some', 7553),\n",
       " ('has', 7445),\n",
       " ('This', 7054),\n",
       " ('her', 6833),\n",
       " ('would', 6732),\n",
       " ('even', 6509),\n",
       " ('no', 6412),\n",
       " ('only', 6274),\n",
       " ('if', 6175),\n",
       " ('more', 6128),\n",
       " ('had', 5914),\n",
       " ('were', 5837),\n",
       " ('what', 5788),\n",
       " ('It', 5661),\n",
       " ('really', 5657),\n",
       " ('good', 5647),\n",
       " ('up', 5622),\n",
       " ('when', 5509),\n",
       " (\"it's\", 5423),\n",
       " ('very', 5291),\n",
       " ('can', 5285),\n",
       " ('their', 5119),\n",
       " ('there', 5112),\n",
       " ('than', 5110),\n",
       " ('bad', 5099),\n",
       " ('which', 5011),\n",
       " ('been', 4980),\n",
       " ('my', 4951),\n",
       " ('see', 4910),\n",
       " ('-', 4778),\n",
       " ('get', 4752),\n",
       " ('because', 4601),\n",
       " ('she', 4536),\n",
       " ('into', 4480),\n",
       " ('could', 4411),\n",
       " ('much', 4401),\n",
       " ('make', 4401),\n",
       " ('any', 4380),\n",
       " ('do', 4204),\n",
       " (\"don't\", 4171),\n",
       " ('me', 3943),\n",
       " ('time', 3869),\n",
       " ('people', 3843),\n",
       " ('other', 3792),\n",
       " ('made', 3781),\n",
       " ('we', 3753),\n",
       " ('how', 3722),\n",
       " ('will', 3700),\n",
       " ('story', 3640),\n",
       " ('movie.', 3490),\n",
       " ('then', 3467),\n",
       " ('most', 3453),\n",
       " ('first', 3400),\n",
       " ('And', 3364),\n",
       " ('think', 3343),\n",
       " ('it.', 3329),\n",
       " ('But', 3300),\n",
       " ('too', 3245)]"
      ]
     },
     "execution_count": 12,
     "metadata": {},
     "output_type": "execute_result"
    }
   ],
   "source": [
    "negative_counts.most_common()[:100]"
   ]
  },
  {
   "cell_type": "code",
   "execution_count": 13,
   "metadata": {},
   "outputs": [
    {
     "name": "stdout",
     "output_type": "stream",
     "text": [
      "169811\n",
      "167430\n",
      "265378\n",
      "169811\n",
      "167430\n",
      "265378\n"
     ]
    }
   ],
   "source": [
    "print(len(positive_counts.items()))\n",
    "print(len(negative_counts.items()))\n",
    "print(len(total_counts.items()))\n",
    "print(len(positive_counts.most_common()))\n",
    "print(len(negative_counts.most_common()))\n",
    "print(len(total_counts.most_common()))"
   ]
  },
  {
   "cell_type": "code",
   "execution_count": 14,
   "metadata": {},
   "outputs": [],
   "source": [
    "pos_neg_ratios = Counter()\n",
    "\n",
    "# Calculate the ratios of positive and negative uses of the most common words\n",
    "# Consider words to be \"common\" if they've been used at least 100 times\n",
    "for term, count in list(total_counts.most_common()):\n",
    "    if(count > 100):\n",
    "        pos_neg_ratio = positive_counts[term] / float(negative_counts[term]+1)\n",
    "        pos_neg_ratios[term] = pos_neg_ratio"
   ]
  },
  {
   "cell_type": "code",
   "execution_count": 15,
   "metadata": {},
   "outputs": [
    {
     "name": "stdout",
     "output_type": "stream",
     "text": [
      "Pos-to-neg ratio for 'the' = 1.0703492228278109\n",
      "Pos-to-neg ratio for 'amazing' = 3.77720207253886\n",
      "Pos-to-neg ratio for 'terrible' = 0.23886138613861385\n"
     ]
    }
   ],
   "source": [
    "print(\"Pos-to-neg ratio for 'the' = {}\".format(pos_neg_ratios[\"the\"]))\n",
    "print(\"Pos-to-neg ratio for 'amazing' = {}\".format(pos_neg_ratios[\"amazing\"]))\n",
    "print(\"Pos-to-neg ratio for 'terrible' = {}\".format(pos_neg_ratios[\"terrible\"]))"
   ]
  },
  {
   "cell_type": "code",
   "execution_count": 16,
   "metadata": {},
   "outputs": [],
   "source": [
    "# Convert ratios to logs\n",
    "for word in pos_neg_ratios:\n",
    "    pos_neg_ratios[word] = np.log(pos_neg_ratios[word])"
   ]
  },
  {
   "cell_type": "code",
   "execution_count": 17,
   "metadata": {},
   "outputs": [
    {
     "name": "stdout",
     "output_type": "stream",
     "text": [
      "Pos-to-neg ratio for 'the' = 0.0679849716991887\n",
      "Pos-to-neg ratio for 'amazing' = 1.3289835431037726\n",
      "Pos-to-neg ratio for 'terrible' = -1.4318718696162098\n"
     ]
    }
   ],
   "source": [
    "print(\"Pos-to-neg ratio for 'the' = {}\".format(pos_neg_ratios[\"the\"]))\n",
    "print(\"Pos-to-neg ratio for 'amazing' = {}\".format(pos_neg_ratios[\"amazing\"]))\n",
    "print(\"Pos-to-neg ratio for 'terrible' = {}\".format(pos_neg_ratios[\"terrible\"]))"
   ]
  },
  {
   "cell_type": "code",
   "execution_count": 18,
   "metadata": {},
   "outputs": [
    {
     "data": {
      "text/plain": [
       "[('7/10', 3.2733640101522705),\n",
       " ('8/10', 3.2255203675868693),\n",
       " ('Excellent', 3.1986731175506815),\n",
       " ('Highly', 2.929287174145838),\n",
       " ('9/10', 2.515678308454754),\n",
       " ('10/10', 2.4908413853078146),\n",
       " ('Matthau', 2.4849066497880004),\n",
       " ('Victoria', 2.332890442489375),\n",
       " ('perfect,', 2.312535423847214),\n",
       " ('superbly', 2.12389330425067),\n",
       " ('wonderfully', 2.120263536200091),\n",
       " ('amazing.', 2.094945728215801),\n",
       " ('superb.', 2.03688192726104),\n",
       " ('captures', 2.017566137961748),\n",
       " ('refreshing', 1.9387416595767009),\n",
       " ('wonderful.', 1.9379419794061366),\n",
       " ('Bourne', 1.9307583440347111),\n",
       " ('gripping', 1.9252908618525775),\n",
       " ('beautifully', 1.8536348729461425),\n",
       " ('breathtaking', 1.8495790401168812),\n",
       " ('perfect.', 1.8382794848629478),\n",
       " ('Powell', 1.807507826196194),\n",
       " ('excellent.', 1.8044984950054848),\n",
       " ('delightful', 1.7971214123694403),\n",
       " ('Nancy', 1.7439688053917064),\n",
       " ('brilliant.', 1.7376922479577792),\n",
       " ('finest', 1.7197859696029656),\n",
       " ('chilling', 1.7100814382137879),\n",
       " ('underrated', 1.692552819144607),\n",
       " ('extraordinary', 1.6916760106710724),\n",
       " ('recommended.', 1.6863989535702288),\n",
       " ('friendship', 1.6445292322453706),\n",
       " ('touching', 1.591419406931422),\n",
       " ('superb', 1.5913261624910544),\n",
       " ('brilliantly', 1.5863154950132463),\n",
       " ('tremendous', 1.5686159179138452),\n",
       " ('magnificent', 1.5382104031457327),\n",
       " ('marvelous', 1.5339303599259553),\n",
       " ('portrait', 1.5184661342283736),\n",
       " ('Pitt', 1.5040773967762742),\n",
       " ('always,', 1.498212277323876),\n",
       " ('exceptional', 1.498212277323876),\n",
       " ('Stewart', 1.4911739919403662),\n",
       " ('pleasantly', 1.4894785973551214),\n",
       " ('terrific', 1.4891517465595985),\n",
       " ('wonderful', 1.4841052635893588),\n",
       " ('Stanwyck', 1.4772661393256175),\n",
       " ('haunting', 1.4718165345580525),\n",
       " ('!', 1.4633741036627699),\n",
       " ('fantastic', 1.463255402256019),\n",
       " ('contrast', 1.461517782357478),\n",
       " ('Welles', 1.4586150226995167),\n",
       " ('gem', 1.4561640410803767),\n",
       " ('Kelly', 1.4437052683332297),\n",
       " ('unforgettable', 1.4415570397949402),\n",
       " ('remarkable', 1.4279670575204586),\n",
       " ('Marie', 1.410199881973445),\n",
       " ('Bette', 1.3862943611198906),\n",
       " ('Ralph', 1.3862943611198906),\n",
       " ('Sinatra', 1.3784511836588647),\n",
       " ('Through', 1.374318170073175),\n",
       " ('today.', 1.3725641683079886),\n",
       " ('noir', 1.3711807233098425),\n",
       " ('excellent', 1.3642796114648583),\n",
       " ('freedom', 1.3581234841531944),\n",
       " ('gritty', 1.3581234841531944),\n",
       " ('subtle', 1.3568804759135973),\n",
       " ('Red', 1.3487116499708478),\n",
       " ('Emma', 1.3470736479666094),\n",
       " ('love,', 1.33500106673234),\n",
       " ('Prince', 1.33072450996508),\n",
       " ('brilliant,', 1.330413902725434),\n",
       " ('amazing', 1.3289835431037726),\n",
       " ('Jackie', 1.328400382700988),\n",
       " ('Sidney', 1.32818673031261),\n",
       " ('rural', 1.3277981544382822),\n",
       " ('excellent,', 1.327453861096957),\n",
       " ('outstanding', 1.3272054447498842),\n",
       " ('stunning', 1.3239040685206092),\n",
       " ('Season', 1.3217558399823195),\n",
       " ('ensemble', 1.3192836508369303),\n",
       " ('darker', 1.3156767939059373),\n",
       " ('troubled', 1.3093333199837622),\n",
       " ('powerful', 1.3036440900392732),\n",
       " ('journey', 1.2962979072868075),\n",
       " ('Great', 1.2881765051613672),\n",
       " ('balance', 1.2788741124990537),\n",
       " ('favorite', 1.2769743666662692),\n",
       " ('beauty', 1.2755429968271879),\n",
       " ('Hoffman', 1.258954938743289),\n",
       " ('emotions', 1.2504183015361139),\n",
       " ('Chan', 1.2474579162656747),\n",
       " ('Daniel', 1.242254990896953),\n",
       " ('appreciated', 1.23884162997676),\n",
       " ('shines', 1.2378743560016172),\n",
       " ('innocence', 1.2339536365378718),\n",
       " ('everyday', 1.2294518896269209),\n",
       " ('favourite', 1.2290293841632736),\n",
       " ('musicals', 1.2286654169163074),\n",
       " ('poignant', 1.2237754316221157)]"
      ]
     },
     "execution_count": 18,
     "metadata": {},
     "output_type": "execute_result"
    }
   ],
   "source": [
    "# words most frequently seen in a review with a \"POSITIVE\" label\n",
    "pos_neg_ratios.most_common()[:100]"
   ]
  },
  {
   "cell_type": "code",
   "execution_count": 19,
   "metadata": {},
   "outputs": [],
   "source": [
    "vocab = set(total_counts.keys())"
   ]
  },
  {
   "cell_type": "code",
   "execution_count": 20,
   "metadata": {},
   "outputs": [
    {
     "name": "stdout",
     "output_type": "stream",
     "text": [
      "265378\n"
     ]
    }
   ],
   "source": [
    "vocab_size = len(vocab)\n",
    "print(vocab_size)"
   ]
  },
  {
   "cell_type": "code",
   "execution_count": null,
   "metadata": {},
   "outputs": [],
   "source": []
  }
 ],
 "metadata": {
  "kernelspec": {
   "display_name": "Python 3",
   "language": "python",
   "name": "python3"
  },
  "language_info": {
   "codemirror_mode": {
    "name": "ipython",
    "version": 3
   },
   "file_extension": ".py",
   "mimetype": "text/x-python",
   "name": "python",
   "nbconvert_exporter": "python",
   "pygments_lexer": "ipython3",
   "version": "3.5.2"
  }
 },
 "nbformat": 4,
 "nbformat_minor": 2
}
