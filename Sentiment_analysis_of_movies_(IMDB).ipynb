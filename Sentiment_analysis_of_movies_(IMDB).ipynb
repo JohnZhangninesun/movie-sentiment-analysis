{
  "nbformat": 4,
  "nbformat_minor": 0,
  "metadata": {
    "colab": {
      "name": "Sentiment analysis of movies (IMDB).ipynb",
      "version": "0.3.2",
      "provenance": [],
      "collapsed_sections": []
    },
    "kernelspec": {
      "name": "python3",
      "display_name": "Python 3"
    }
  },
  "cells": [
    {
      "metadata": {
        "id": "A0XMzfB5_EtE",
        "colab_type": "text"
      },
      "cell_type": "markdown",
      "source": [
        "### Sentiment analysis of movie (IMDB) reviews using dataset provided by the ACL 2011 paper, see http://ai.stanford.edu/~amaas/data/sentiment/.\n",
        "\n",
        "#### Dataset can be downloaded separately from http://ai.stanford.edu/~amaas/data/sentiment/aclImdb_v1.tar.gz, but wont be necessary as the download process has been embedded in the notebook and source file."
      ]
    },
    {
      "metadata": {
        "id": "CML_IG6z-iwM",
        "colab_type": "code",
        "colab": {
          "base_uri": "https://localhost:8080/",
          "height": 411
        },
        "outputId": "c3d61cdd-e770-434c-d49c-b260b3d94ae6"
      },
      "cell_type": "code",
      "source": [
        "!pip install nltk\n",
        "!pip install --upgrade gensim\n",
        "\n",
        "import numpy as np\n",
        "import os\n",
        "import os.path\n",
        "\n",
        "from nltk.tokenize import word_tokenize\n",
        "import nltk\n",
        "nltk.download('punkt')\n",
        "\n",
        "import glob\n",
        "from gensim.models import Word2Vec  "
      ],
      "execution_count": 88,
      "outputs": [
        {
          "output_type": "stream",
          "text": [
            "Requirement already satisfied: nltk in /usr/local/lib/python3.6/dist-packages (3.2.5)\n",
            "Requirement already satisfied: six in /usr/local/lib/python3.6/dist-packages (from nltk) (1.11.0)\n",
            "Requirement already up-to-date: gensim in /usr/local/lib/python3.6/dist-packages (3.6.0)\n",
            "Requirement already satisfied, skipping upgrade: scipy>=0.18.1 in /usr/local/lib/python3.6/dist-packages (from gensim) (0.19.1)\n",
            "Requirement already satisfied, skipping upgrade: numpy>=1.11.3 in /usr/local/lib/python3.6/dist-packages (from gensim) (1.14.6)\n",
            "Requirement already satisfied, skipping upgrade: smart-open>=1.2.1 in /usr/local/lib/python3.6/dist-packages (from gensim) (1.7.1)\n",
            "Requirement already satisfied, skipping upgrade: six>=1.5.0 in /usr/local/lib/python3.6/dist-packages (from gensim) (1.11.0)\n",
            "Requirement already satisfied, skipping upgrade: boto>=2.32 in /usr/local/lib/python3.6/dist-packages (from smart-open>=1.2.1->gensim) (2.49.0)\n",
            "Requirement already satisfied, skipping upgrade: requests in /usr/local/lib/python3.6/dist-packages (from smart-open>=1.2.1->gensim) (2.18.4)\n",
            "Requirement already satisfied, skipping upgrade: bz2file in /usr/local/lib/python3.6/dist-packages (from smart-open>=1.2.1->gensim) (0.98)\n",
            "Requirement already satisfied, skipping upgrade: boto3 in /usr/local/lib/python3.6/dist-packages (from smart-open>=1.2.1->gensim) (1.9.25)\n",
            "Requirement already satisfied, skipping upgrade: idna<2.7,>=2.5 in /usr/local/lib/python3.6/dist-packages (from requests->smart-open>=1.2.1->gensim) (2.6)\n",
            "Requirement already satisfied, skipping upgrade: certifi>=2017.4.17 in /usr/local/lib/python3.6/dist-packages (from requests->smart-open>=1.2.1->gensim) (2018.10.15)\n",
            "Requirement already satisfied, skipping upgrade: urllib3<1.23,>=1.21.1 in /usr/local/lib/python3.6/dist-packages (from requests->smart-open>=1.2.1->gensim) (1.22)\n",
            "Requirement already satisfied, skipping upgrade: chardet<3.1.0,>=3.0.2 in /usr/local/lib/python3.6/dist-packages (from requests->smart-open>=1.2.1->gensim) (3.0.4)\n",
            "Requirement already satisfied, skipping upgrade: s3transfer<0.2.0,>=0.1.10 in /usr/local/lib/python3.6/dist-packages (from boto3->smart-open>=1.2.1->gensim) (0.1.13)\n",
            "Requirement already satisfied, skipping upgrade: botocore<1.13.0,>=1.12.25 in /usr/local/lib/python3.6/dist-packages (from boto3->smart-open>=1.2.1->gensim) (1.12.25)\n",
            "Requirement already satisfied, skipping upgrade: jmespath<1.0.0,>=0.7.1 in /usr/local/lib/python3.6/dist-packages (from boto3->smart-open>=1.2.1->gensim) (0.9.3)\n",
            "Requirement already satisfied, skipping upgrade: docutils>=0.10 in /usr/local/lib/python3.6/dist-packages (from botocore<1.13.0,>=1.12.25->boto3->smart-open>=1.2.1->gensim) (0.14)\n",
            "Requirement already satisfied, skipping upgrade: python-dateutil<3.0.0,>=2.1; python_version >= \"2.7\" in /usr/local/lib/python3.6/dist-packages (from botocore<1.13.0,>=1.12.25->boto3->smart-open>=1.2.1->gensim) (2.5.3)\n",
            "[nltk_data] Downloading package punkt to /root/nltk_data...\n",
            "[nltk_data]   Package punkt is already up-to-date!\n"
          ],
          "name": "stdout"
        }
      ]
    },
    {
      "metadata": {
        "id": "FJiWamI00hBp",
        "colab_type": "code",
        "colab": {
          "base_uri": "https://localhost:8080/",
          "height": 34
        },
        "outputId": "5ce7b889-06f7-4af9-9340-8995405c1c2a"
      },
      "cell_type": "code",
      "source": [
        "# MacOSX: See https://www.mkyong.com/mac/wget-on-mac-os-x/ for wget\n",
        "print('On the MacOSX, you will need to install wget, see https://www.mkyong.com/mac/wget-on-mac-os-x/')\n",
        "\n",
        "if not os.path.isfile('aclImdb_v1.tar.gz'):\n",
        "  !wget http://ai.stanford.edu/~amaas/data/sentiment/aclImdb_v1.tar.gz \n",
        "\n",
        "if not os.path.isfile('aclImdb'):  \n",
        "  !tar -xf aclImdb_v1.tar.gz \n"
      ],
      "execution_count": 89,
      "outputs": [
        {
          "output_type": "stream",
          "text": [
            "On the MacOSX, you will need to install wget, see https://www.mkyong.com/mac/wget-on-mac-os-x/\n"
          ],
          "name": "stdout"
        }
      ]
    },
    {
      "metadata": {
        "id": "U5Tnmoh-Dpfk",
        "colab_type": "code",
        "colab": {}
      },
      "cell_type": "code",
      "source": [
        "SAMPLE_SIZE=600\n",
        "positive_sample_file_list = glob.glob(os.path.join('aclImdb/train/pos', \"*.txt\"))\n",
        "positive_sample_file_list = positive_sample_file_list[:SAMPLE_SIZE]\n",
        "\n",
        "negative_sample_file_list = glob.glob(os.path.join('aclImdb/train/neg', \"*.txt\"))\n",
        "negative_sample_file_list = negative_sample_file_list[:SAMPLE_SIZE]\n",
        "\n",
        "import re\n",
        "\n",
        "# load doc into memory\n",
        "# regex to clean markup elements \n",
        "def load_doc(filename):\n",
        "\t# open the file as read only\n",
        "\tfile = open(filename, 'r', encoding='utf8')\n",
        "\t# read all text\n",
        "\ttext = re.sub('<[^>]*>', ' ', file.read())\n",
        "\t# close the file\n",
        "\tfile.close()\n",
        "\treturn text\n"
      ],
      "execution_count": 0,
      "outputs": []
    },
    {
      "metadata": {
        "id": "vMYBkcdIB9uc",
        "colab_type": "text"
      },
      "cell_type": "markdown",
      "source": [
        "# New Section"
      ]
    },
    {
      "metadata": {
        "id": "cz5eJi7AGSqR",
        "colab_type": "code",
        "colab": {
          "base_uri": "https://localhost:8080/",
          "height": 71
        },
        "outputId": "a7cbde8b-c7b3-41ba-a771-db8f88876206"
      },
      "cell_type": "code",
      "source": [
        "positive_strings = [load_doc(x) for x in positive_sample_file_list]\n",
        "print(positive_strings[:10])\n",
        "\n",
        "negative_strings = [load_doc(x) for x in negative_sample_file_list]\n",
        "print(negative_strings[:10])\n",
        "    "
      ],
      "execution_count": 91,
      "outputs": [
        {
          "output_type": "stream",
          "text": [
            "[\"A beautiful piece of children's cinema buried in a world of archaic Celticism. Setting the story around the famous Book of Kels, believed to have been comprised by monks from the small island of Iona, off the western coast of Scotland.  Telling the tale of a young abbots apprentice who goes off into the forest in search of Crom-Cruic, the fierce headless horseman of pagan mythology. In hopes of recovering a lost artefact.  The films true beauty lies in its' animation. Cell shaded in a bright and inspirational style of deep complexity resulting in a look of seem less simplicity. Deriving much from the artistic style of the brilliant Cartoon Network series 'Samurai Jack' for its genius use of mark making and background depth, The Secret of Kels creates a consistently affective Celtic world living under the shadow of Viking invasion.  The history may be intensely inaccurate and the ways of life portrayed lacking realism but these facts are utterly irrelevant as the film sets itself in a world of fantasy and Celtic-revivalist mysticism. The girl of the forest is a wonderful addition and in my opinion makes the picture what it is, as she glides from branch to branch. Appearing and disappearing like a mysterious nymph with qualities resembling the legendary Cheshire Cat from Alice and Wonderland.  The Secret of Kels is an absolute treat. For all genders, all ages, it's a lovely piece of family cinema.  Don't expect to be awed but instead pleasantly impressed!\", \"Raising Victor Vargas is a movie you definitely need to see. It was very heart felt and had a lot of humor that gets you sucked right in. It is so much like real life with what teenagers have to go through. Victor, a cocky teen, but with a good heart at the end deals with love in all the right places dealing with girls and family. At the end Victor learns the true meaning of love after dealing with a old fashioned grandmother and a girl who he wants to use is actually using him too.I recommend people to watch this movie because it will be like you are watching a real family. Thats how much feeling this movie has. One heart felt moment was when Victor's grandmother throws victor out over something simple. Victor was really heart and couldn't believe that she would do something like that. It made me feel real sorry for him like it was real. Overall I give this movie a B+\", \"This film is stunningly beautiful. Goldsworthy's art really benefits with the medium of film because you can see the art at its most beautiful, moving and changing and blossoming. I strongly recommend this movie to everyone. I can think of nothing else to say about it. It's just the kind of movie you HAVE TO see, because it's so visually compelling and left me very refreshed when I left the theatre.\", \"My Tutor Friend is a well scripted romance comedy movie that has something similar to My Sassy Girl.. there's no kissing/sex scenes. Hollywood should learn more from Korean productions. Sex is not always required in a good romantic movie.  The movie is of light hearted tone with occasional cartoon CG scenes blended into the movie. I like the part when Ji-Hoon almost kissed Su-Wan. The funniest moment is when Ji-Hoon punched Su-Wan's first love because he dumped Su-Wan for another girl and he is going to be a father soon. How he became a father was revealed in the next scene, which brings smiles to the audience.  Mao points: 8/10\", 'Gillian Holroyd (Kim Novak) is a witch. Secretly, she\\'s attracted to her quite normal neighbor Shep Henderson (James Stewart). She casts a spell on Shep that forces him to dump his fiancé and fall for her. Things are going along quite nicely until Gillian discovers she really cares for this mortal man. She decides to tell him her secret. But how will Shep react when he finds out that he was \"tricked\" into falling in love with Gillian?   As far as light-hearted 1950s comedies go, Bell Book and Candle is good, but nothing spectacular. It\\'s an enjoyable enough watch and should appeal to almost anyone who sits down with it. Just don\\'t go into the movie expecting the greatest thing since sliced bread. The movie\\'s cute, funny at times, and touching in the end. Kim Novak and James Stewart do their best and have some real chemistry. Novak (as others have pointed out) looks quite incredible in an understated sort of way. The supporting cast with Jack Lemmon, Hermione Gingold, and Elsa Lanchester is often laugh-out-loud funny and steals a lot of the spotlight from Novak and Stewart. The biggest problem I see is that Bell Book and Candle can\\'t quite decide what kind of movie it wants to be. Is it a screwball comedy? Is it a romantic comedy? Is it a supernatural comedy? Had director Richard Quine stuck with just one approach, the movie might have been even better and more memorable.', \"This movie is about a fictional soap opera. It is very fast and funny. To say anything else would ruin the movie. There are several plots and sub plots in the movie. This movie has ensemble cast with today's hottest stars. They all gives over the top performances. This movie is favorite of mine from the year 1991. Soapdish is perfect for fans of either daytime soap opera /or prime time soap opera!!!If you watch soap go check this movie it's hilarious!!!\", \"Eddie Murphy Delirious is undoubtedly the funniest thing I have ever seen in my life. When I saw it for the first time about 2 years ago I was in stitches for weeks after it. To date I have seen it a further 17 times and i still laugh my ass off each time. For those who dont know Eddie Murphy was a brilliant stand up comedian before he was a Hollywood superstar. There is not one dull spot in this piece of genius unlike Eddie Murphy Raw which was released in 1987 which goes flat during the middle. If you are not the sort of person who can't stand swearing then I wouldn't advise you to see it as you will probably hear swearing of some form every 5-10 seconds. I gave this a 10 out of 10 because it displays the greatest comic genius of them all at his best.\", 'Everything a musical comedy should be. Gene Kelly (as Joe Brady) doesn\\'t miss a step, and Frank Sinatra (as Clarence Doolittle) doesn\\'t miss a note. Scenes with them together are very good, showing how much talent can add to a somewhat uneven plot. Sinatra\\'s \"I Fall in Love Too Easily\" is an indication of his then and future best. Kelly\\'s \"Mexican Hat Dance\" with a young Mexican girl is delightful. Kelly certainly earned his nomination as Best Actor. And there is a bushel of truly funny lines, like: \"You think the navy takes dopes?\"; \"You think anybody sings a sailor to sleep?\"; and, \"We got in a little trouble, we picked up a little kid.\" A thoroughly enjoyable movie, just the thing for shaking off the dust of a recently concluded World War II.', \"I know this sounds odd coming from someone born almost 15 years after the show stopped airing, but I love this show. I don't know why, but I enjoy watching it. I love Adam the best. The only disappointing thing is that the only place I found to buy the seasons on DVD was in Germany, and that was only the first two seasons. That is disappointing, but that's OK. I'll keep looking online. If anyone has any tips on where to buy the second through 14th seasons, please email me at darkangel_1627@yahoo.com. I already own the first one. The only down side is that the DVDs being from Germany, they only play on my portable DVD player and my computer. Oh well. I still own it!\", 'I watched to movie today and it just blew my mind away. It is a real masterpiece of art and I don\\'t understand why most of the people think it\\'s garbage. The main idea of the movie - take your ego away and then you will have true power! This was the main battle at the end of the movie and Guy Ritchie has shown that in a magnificent way. \"The greatest enemy will hide in the last place you will ever look\" - do you remember this from the movie? Because our true enemy is in us - it is our ego... That voice that always tells us that we are important, that gives us our pride, that tells us not to give, but only to take, that creates our aggression, that wants to be in control, that creates all the negative feelings and thoughts. GR expressed this idea in an astonishing way and has shown that the only way to gain true control is when you loose control and you just let go of your personal importance. A superb movie!']\n",
            "['How viewers react to this new \"adaption\" of Shirley Jackson\\'s book, which was promoted as NOT being a remake of the original 1963 movie (true enough), will be based, I suspect, on the following: those who were big fans of either the book or original movie are not going to think much of this one...and those who have never been exposed to either, and who are big fans of Hollywood\\'s current trend towards \"special effects\" being the first and last word in how \"good\" a film is, are going to love it.  Things I did not like about this adaption:  1. It was NOT a true adaption of the book. From the articles I had read, this movie was supposed to cover other aspects in the book that the first one never got around to. And, that seemed reasonable, no film can cover a book word for word unless it is the length of THE STAND! (And not even then) But, there were things in this movie that were never by any means ever mentioned or even hinted at, in the movie. Reminded me of the way they decided to kill off the black man in the original movie version of THE SHINING. I didn\\'t like that, either. What the movie\\'s press release SHOULD have said is...\"We got the basic, very basic, idea from Shirley Jackson\\'s book, we kept the same names of the house and several (though not all) of the leading character\\'s names, but then we decided to write our own story, and, what the heck, we watched THE CHANGELING and THE SHINING and GHOST first, and decided to throw in a bit of them, too.\"  2. They completely lost the theme of a parapyschologist inviting carefully picked guest who had all had brushes with the paranormal in their pasts, to investigate a house that truly seemed to have been \"born bad\". No, instead, this \"doctor\" got everyone to the house under the false pretense of studying their \"insomnia\" (he really invited them there to scare them to death and then see how they reacted to their fear...like lab rats, who he mentioned never got told they are part of an experiment...nice guy). This doctor, who did not have the same name, by the way, was as different from the dedicated professional of the original movie as night from day.  3. In direct contrast to the statement that was used to promote both movies \"some houses are just born bad\", this house was not born bad but rather became bad because of what happened there...and, this time around, Nel gets to unravel the mystery (shades of THE CHANGELING). The only problem was, the so-called mystery was so incoherently told that I\\'m sure it remained a mystery to most of the audience...but, then there was no mystery in the first place (not in the book), because the house was bad TO BEGIN WITH. It\\'s first \"victim\" died before ever setting eyes on it.  4. The way the character of Luke was portrayed was absolutely ridiculous. He was supposed to be a debonair playboy who was someday to inherit the house (and was a true skeptic of it\\'s \"history\")...and in this one he was just a winey-voiced, bumbling nerd who couldn\\'t sleep(insomnia remember) and was a compulsive liar.  5. I was also annoyed with the way the movie jumped from almost trying to recreate original scenes word for word (the scene with Nel\\'s sister\\'s family, and Mrs. Dudley\\'s little opening speech...) to going off into flights of fancy that made me think more of these other movies than THE HAUNTING. It\\'s like it couldn\\'t make up its mind what it wanted to do.  6. I missed Nel\\'s narrative through the whole movie. The original was so like a gothic novel in the way that the story was mostly told in the first person, through Nel\\'s eyes, and we always were privy to her thoughts. That totally unique touch was completely lost in the new version. They also tried to make Nel much more of a heroine. The original Nel was not a bad person, but she was a bitter person (could she be otherwise after sacrificing 11 years of her life to a selfish old woman and a spiteful sister?) and she liked to moan, and she lost her temper... This one was almost too good to be true. This was never more apparent than in the climax of the movie where the writer\\'s had obviously been watching GHOST one too many times.  7. They changed the history of the house and it\\'s occupents too much. There was no Abigail Crain (the daughter of Hugh whose legend loomed large in the original versions), there was no \"companion\", and there was no nursery. There was also no \"Grace\" (wife of the original doctor) and Hugh Crain\\'s wives died in totally different ways. These changes, changed the story WAY too much. I don\\'t know whether the producers of this movie should be glad Shirley Jackson no longer walks this earth or whether they should...BE SORRY (if ya get my drift!!! The hauntings she could envision are not something to be trifled with!!!).  In conclusion, let me just leave you with some words from the original Luke (appropriate substitution of the word \"house\" for \"movie\"!): \"This \\'movie\\' should be burnt to the ground, and the ground sprinkled with salt!\" My favorite movie of all time remains so. No competition from this one.', 'OK, I knew this would be a back alley F-film (well below B-film standards) going into it, so I thought, \"Man, I could use a good laugh, so let\\'s see some nether-beings kill each other.\" Well, what I got could have been found at your local \"love toy\" store. Random lesbian scenes, very little fighting, and no plot.  For example, one scene in particular I remember (for its sheer stupidity only; I\\'ve seen better porn on ABC) is where the two main characters (I can\\'t remember their names offhand...great movie, huh?) are driving along, as they mostly did, and the driver was tired of driving and stopped:  Driver: \"Let\\'s pull over, I\\'m tired. You want to take over?\" Passenger: \"Sure, I can drive for a while.\" (Once pulled over, the driver starts grabbing the passenger\\'s boobs) Passenger: \"What are you doing? I\\'m not like that!\" Driver: \"It\\'s OK, everyone does it sometime.\" Passenger: \"OK then.\" (Proceed to take off shirts, fondle, kiss, and perform fellatio)  Now, last time I checked, horror films were not in the porn section of Hollywood Video (unless you\\'re into S&M, then you go elsewhere), and it definitely shouldn\\'t be in the mainstream videos at Blockbuster. Don\\'t get me wrong; I\\'m definitely not one of those people who hate porn, but I only watch it when appropriate and definitely don\\'t want to watch it if I\\'m looking for a movie in the mainstream stores, as this one I rented was at one of the two retailers I named (and probably at the other too if I went and looked).  Worst movie ever, no one should rent it, and it should only be bought for a public burning ceremony. If I could give it a 0, I would, but I can only give it a * of 10.', 'I will never be a member of any club that would have me,  especially this one.  Starr Andreeff is a single mom/stripper who gets attacked by a  female vampire and left for dead. She begins to get a hankering for  blood, and meets up with John Savage, looking like he\\'s  wondering where he left Michael Cimino\\'s phone number. Savage  is also a vampire and wants to let Andreef join his little vampire  family, which consists of a British vamp, the blonde vamp who  attacked Starr, and a green haired midget (I am not making this  up).  The family does not want Starr, so they try to kill Savage and Starr  and Starr\\'s kid.  Someone forgot to tell John Savage that this was a drama. He  spends most of his screen time exhibiting more facial tics than  Hugh Grant on a Jolt Cola bender, and he reads all of his lines like  he is making a Farrelly Brothers film. Andreeff tries to make the  most of a badly written role, but screenwriter/director Ruben goes  for all the vampire cliches, like Starr eating her son\\'s pet hamster  and buying a lot of raw meat to fight the craving for blood. The kid  also gets knocked around a lot, for those who think watching  violence against children is really entertaining.  The film is extra gory, but not in a wild, over the top way like \"Killer  Tongue.\" Here, the gore is gross and never justified, it just occurs.  It is just in the budget. Most of the R rating goes to Andreeff\\'s  coworkers, who are put through embarassing strip routines in the  background of conversation scenes. The budget does not include  vampire fangs! All the vampires here must stab their prey to eat.  Nifty idea, unless you have already seen George Romero\\'s  \"Martin.\"  Even at 77 minutes, and once you throw in Ruben\\'s attempts at  arty direction (skewed frames, blurred scenes), this is one  tiresome, dull, and dirty ride. Leave this club and take a shower,  you will need it.  This is rated (R) for strong physical violence, gun violence, sexual  violence, strong gore, strong profanity, female nudity, sexual  references, drug abuse, and adult situations.  ', 'This movie was the worst movie ever made on the planet, I like BARNEY more than this movie. The graphics suck, half the movie is animated, the deaths suck, and over all, I was ready to SUE the people that made this movie!PLEASE DO NOT WASTE HOURS OF YOUR LIFE WATCHING THIS MOVIE. The only good part was when the movie ******* ended! This movie is 50 percent Jurassic park, .1 percent Sabretooth, and 49.9 percent DUMB! Please do not waste your time watching this movie, you will regret it.You want to know why this movie sucks? Well, the cover sucked, the graphics sucked, the blood looked ( I mean is) ketchup, the people tried to blow themselves up, the college students think there all that and can stand up to the animal. I mean, there was a 5 ft. tiger running straight at a woman, she throws a spear at it from 100 ft away! WAIT TILL YOU CAN Actually HIT IT! The acting was horrible too. Jurrasic Park is actually a good movie, and this just had to go and ruin it.', 'The DVD was a joke, the audio for the first few minutes was terrible with sound out of sync and Segals voice not even his!!!! Pathetic! When the audio sync was better in about 5 minutes the poor plot, lines and actors should get another job because the movie business is not where any of them should be.  While Segal had some good movies in the early days the latest ones are a joke and should be a an embarrassment to him and the company that made it.  If Segal was the one that handled this he better return to having another party run the show, because he has no talent what so ever in this.  This film is a complete embarrassment to all involved in its production and a disgrace to all who viewed it. I turned it off in about 20 minutes.  I will be asking for my money back at Block Buster! Mark from Ontario, Canada', 'I love all types of films, especially horror. That being said, Survival does not live up to ANY of the hype surrounding it.  I can\\'t give it any points on originality. There is nothing wrong with exploring the same themes, or remaking what others have done. It has just become a cop out for indie films to take us on a slasher journey through the woods, a crazed killer, and as of lately, throw in some crazy family. On those lines I have to compare it with the likes of Texas Chainsaw, Wrong Turn (though the twist in that one is obvious), and others. Survival falls up way short against comparable films. The plot was just not original in ANY way. Some films can get by with a weak (and way over-done) plot with superb acting, special fx, or a slew of other factors. Survivial doesn\\'t have any of that to bank on. If you will, note the following: The acting in the movie never took off. I don\\'t knock or blame the actors for that, nor the director. The dialogue was at best mediocre, and the actors involved never showed (not saying didn\\'t HAVE) the talent to pull it off. I mention 2 standouts. The leading man in this film certainly has the look, but I seriously thinks he needs to consider more training before he is ready to carry a film. The actor who portrayed Greg also had potential, but we never got to see any of it (watch the movie to see why, you won\\'t believe it..).  The grainy film look. Ah yes, that little tid-bit of film making magic designed to take us to the glory days of \"Grindhouse\" films. In today\\'s film making, that has become a gimmick. It either works or it doesn\\'t. In this case it just does not work. There are too many other flaws going on, so it winds up distracting from the film, not adding to it. That being said, I think they did a good job of adding that grain. That is some good, quality grain. I think with a different script, better direction, and possibly actors, they should try another \"Grindhouse\" attempt. They will probably pull it off.  As far as the tech aspects, in my opinion, they never quite gelled for me either. Better care could have been taken with audio (sounds like it was fed directly into the camera, but there is nothing wrong with that) and for being shot on DV, it was too soft for my taste.  That is all I have to say about that.....', 'Soon after watching this film you will realize why it didn\\'t even make it to the theaters! This movie does not deserve the \"prequel\" tag. Instead this is a common theme in Hollywood, rip off previously good movies with disastrous prequels, sequels, etc.  This film\\'s plot was bouncing all over the place like a ping pong ball, and the character development was non-existent. I seriously felt like I was watching a comedy at some points in the movie because the acting was so bad. P Diddy needs to stop tainting movies with his horrible acting, he actually made me laugh every time.  The only good thing that comes out of this movie is Jaclyn DeSantis, who looks excellent in this movie and actually brought some enjoyment from watching this film.  If you are a big Carlito\\'s Way fan, I recommend you not watch this. If you decide to watch it anyway then treat this movie as if it ripped off the original, because that is exactly what it did.', \"The Slackers as titled in this movie are three college friends Dave, Jeff and Sam(Devon Sawa, Michael Maronna and Jason Segel respectively), who are about to graduate from university without sitting through an honest exam but making it end successfully. This continues until the very end when unlikeable but the most likable character of the movie Nathan(Schwartzman) figures out what they are up to. Nathan starts blackmailing in order to make up with his dream girl as he cant pursue that in normal conditions. The only problem is when the trio starts to work on it, Dave falls in love with the gorgeous and good hearted Angela(James King) Unfortunately, not a brilliant genre movie. Schwartzman makes to watch the movie easy as his performance is brilliant. King's performance is average, I think she was hired just to be around with her gorgeous look. The Slackers is reminiscent of American Pie with a different direction. Jokes are as shallow as in American Pie. But aren't they all used? I think this movie is a warning to the filmmakers of the genre that they are running out of originality. Overall, a few smiley moments but a horrible movie in terms of acting(except for Schwartzman) and subject. * out of *****\", 'So don\\'t even think about renting this from the shops, because this is one hell of a bad movie. You\\'d think that JJ Abrahams had written this movie. Basically, a rat is flushed down the toilet and somehow has to get back out. Fans of the completely terrible \"Shrek\" might enjoy, but \"Wallace & Gromit\" fans will probably turn away in disgust. Also, why didn\\'t they do it in plasticine or clay? I mean, CGI animation?? For an AARDMAN movie??!! Obviously, Aardman lazed around while they let Dreamworks do the whole thing. Wrong, wrong, WRONG!!! Nearly every single character is awful, apart from that freaky frog guy, who is just right for a movie villain. But everything else about the movie is DULL, DULL, DULL!!! I almost fell asleep with boredom watching this movie. No, wait, actually, I DID fall asleep with boredom watching this movie. It\\'s just terrible. But thankfully, it\\'s not as bad as \"Shrek.\"', 'I\\'m a huge Randolph Scott fan, but this film is a dud. The whole thing has a canned, fake, soundstage feel to it, with truly awful rear-screen projection. It has a good plot idea that the screenwriter has successfully buried in a nitwit script, which makes it impossible for the audience to become immersed in the action and truly care about any of the characters. The directing is pedestrian, and only accentuates how bad the script is instead of helping to improve it. I\\'ve seen plenty of thoroughly enjoyable \"soundstage productions\" before, but this is not one of them. All it does is make you appreciate the gritty Scott/Boetticher films all the more.  Randolph Scott is tanned, trim, and shines that million dollar smile throughout. He\\'s always a pleasure...even in the worst of his films. Aside from Scott, the other main reason I wanted to see this movie was due to how much I enjoyed Ms. Wymore in Errol Flynn\\'s movie, \"Rocky Mountian\". In \"Man Behind the Gun\", she is just as beautiful, and you can tell she\\'s a good actress, but she was forced to say some pretty dumb lines, and the blocking she was given by the director was truly awful. I\\'ve only seen Phil Carey in \"Operation Pacific\", and he plays the exact same character here...an arrogant pain-in-the-butt you want to beat into unconsciousness. I guess it proves he\\'s a good actor...he made me hate him. There are some lame attempts at comic relief that only detract from the film, in my opinion. Although there are many elements to knock, I must say that I found myself truly enjoying the two Spanish songs sung in the musical numbers...but that\\'s not why we go to see Randolph Scott movies, right?  There are definitely worse Scott films out there, and this one certainly isn\\'t unbearable, but it also certainly couldn\\'t be deemed anything beyond mediocre.']\n"
          ],
          "name": "stdout"
        }
      ]
    },
    {
      "metadata": {
        "id": "Ln1-QrMcGOgD",
        "colab_type": "code",
        "colab": {
          "base_uri": "https://localhost:8080/",
          "height": 34
        },
        "outputId": "e3d94752-1b00-4201-9b21-8faee0eb3c50"
      },
      "cell_type": "code",
      "source": [
        "positive_labels = np.array(SAMPLE_SIZE * [1])\n",
        "print(positive_labels)"
      ],
      "execution_count": 92,
      "outputs": [
        {
          "output_type": "stream",
          "text": [
            "[1 1 1 ... 1 1 1]\n"
          ],
          "name": "stdout"
        }
      ]
    },
    {
      "metadata": {
        "id": "pS4Rhx54IoW9",
        "colab_type": "code",
        "colab": {
          "base_uri": "https://localhost:8080/",
          "height": 34
        },
        "outputId": "82f2fae8-c220-43d7-e8aa-9c40ebdbd967"
      },
      "cell_type": "code",
      "source": [
        "negative_labels = np.array(SAMPLE_SIZE * [0])\n",
        "print(negative_labels)"
      ],
      "execution_count": 93,
      "outputs": [
        {
          "output_type": "stream",
          "text": [
            "[0 0 0 ... 0 0 0]\n"
          ],
          "name": "stdout"
        }
      ]
    },
    {
      "metadata": {
        "id": "C0WiHTr7I4CN",
        "colab_type": "code",
        "colab": {
          "base_uri": "https://localhost:8080/",
          "height": 71
        },
        "outputId": "85ddf338-d39a-4bca-97b7-f5307d09b44e"
      },
      "cell_type": "code",
      "source": [
        "positive_tokenized = [word_tokenize(s) for s in positive_strings]\n",
        "print(positive_tokenized[1])\n",
        "print(positive_tokenized[2])"
      ],
      "execution_count": 94,
      "outputs": [
        {
          "output_type": "stream",
          "text": [
            "['Raising', 'Victor', 'Vargas', 'is', 'a', 'movie', 'you', 'definitely', 'need', 'to', 'see', '.', 'It', 'was', 'very', 'heart', 'felt', 'and', 'had', 'a', 'lot', 'of', 'humor', 'that', 'gets', 'you', 'sucked', 'right', 'in', '.', 'It', 'is', 'so', 'much', 'like', 'real', 'life', 'with', 'what', 'teenagers', 'have', 'to', 'go', 'through', '.', 'Victor', ',', 'a', 'cocky', 'teen', ',', 'but', 'with', 'a', 'good', 'heart', 'at', 'the', 'end', 'deals', 'with', 'love', 'in', 'all', 'the', 'right', 'places', 'dealing', 'with', 'girls', 'and', 'family', '.', 'At', 'the', 'end', 'Victor', 'learns', 'the', 'true', 'meaning', 'of', 'love', 'after', 'dealing', 'with', 'a', 'old', 'fashioned', 'grandmother', 'and', 'a', 'girl', 'who', 'he', 'wants', 'to', 'use', 'is', 'actually', 'using', 'him', 'too.I', 'recommend', 'people', 'to', 'watch', 'this', 'movie', 'because', 'it', 'will', 'be', 'like', 'you', 'are', 'watching', 'a', 'real', 'family', '.', 'Thats', 'how', 'much', 'feeling', 'this', 'movie', 'has', '.', 'One', 'heart', 'felt', 'moment', 'was', 'when', 'Victor', \"'s\", 'grandmother', 'throws', 'victor', 'out', 'over', 'something', 'simple', '.', 'Victor', 'was', 'really', 'heart', 'and', 'could', \"n't\", 'believe', 'that', 'she', 'would', 'do', 'something', 'like', 'that', '.', 'It', 'made', 'me', 'feel', 'real', 'sorry', 'for', 'him', 'like', 'it', 'was', 'real', '.', 'Overall', 'I', 'give', 'this', 'movie', 'a', 'B+']\n",
            "['This', 'film', 'is', 'stunningly', 'beautiful', '.', 'Goldsworthy', \"'s\", 'art', 'really', 'benefits', 'with', 'the', 'medium', 'of', 'film', 'because', 'you', 'can', 'see', 'the', 'art', 'at', 'its', 'most', 'beautiful', ',', 'moving', 'and', 'changing', 'and', 'blossoming', '.', 'I', 'strongly', 'recommend', 'this', 'movie', 'to', 'everyone', '.', 'I', 'can', 'think', 'of', 'nothing', 'else', 'to', 'say', 'about', 'it', '.', 'It', \"'s\", 'just', 'the', 'kind', 'of', 'movie', 'you', 'HAVE', 'TO', 'see', ',', 'because', 'it', \"'s\", 'so', 'visually', 'compelling', 'and', 'left', 'me', 'very', 'refreshed', 'when', 'I', 'left', 'the', 'theatre', '.']\n"
          ],
          "name": "stdout"
        }
      ]
    },
    {
      "metadata": {
        "id": "YDP-eqAGIq5R",
        "colab_type": "code",
        "colab": {
          "base_uri": "https://localhost:8080/",
          "height": 71
        },
        "outputId": "77d5370b-de4c-41b0-f3a3-aa5acdc3f5b2"
      },
      "cell_type": "code",
      "source": [
        "negative_tokenized = [word_tokenize(s) for s in negative_strings]\n",
        "print(negative_tokenized[1])\n",
        "print(negative_tokenized[2])"
      ],
      "execution_count": 95,
      "outputs": [
        {
          "output_type": "stream",
          "text": [
            "['OK', ',', 'I', 'knew', 'this', 'would', 'be', 'a', 'back', 'alley', 'F-film', '(', 'well', 'below', 'B-film', 'standards', ')', 'going', 'into', 'it', ',', 'so', 'I', 'thought', ',', '``', 'Man', ',', 'I', 'could', 'use', 'a', 'good', 'laugh', ',', 'so', 'let', \"'s\", 'see', 'some', 'nether-beings', 'kill', 'each', 'other', '.', \"''\", 'Well', ',', 'what', 'I', 'got', 'could', 'have', 'been', 'found', 'at', 'your', 'local', '``', 'love', 'toy', \"''\", 'store', '.', 'Random', 'lesbian', 'scenes', ',', 'very', 'little', 'fighting', ',', 'and', 'no', 'plot', '.', 'For', 'example', ',', 'one', 'scene', 'in', 'particular', 'I', 'remember', '(', 'for', 'its', 'sheer', 'stupidity', 'only', ';', 'I', \"'ve\", 'seen', 'better', 'porn', 'on', 'ABC', ')', 'is', 'where', 'the', 'two', 'main', 'characters', '(', 'I', 'ca', \"n't\", 'remember', 'their', 'names', 'offhand', '...', 'great', 'movie', ',', 'huh', '?', ')', 'are', 'driving', 'along', ',', 'as', 'they', 'mostly', 'did', ',', 'and', 'the', 'driver', 'was', 'tired', 'of', 'driving', 'and', 'stopped', ':', 'Driver', ':', '``', 'Let', \"'s\", 'pull', 'over', ',', 'I', \"'m\", 'tired', '.', 'You', 'want', 'to', 'take', 'over', '?', \"''\", 'Passenger', ':', '``', 'Sure', ',', 'I', 'can', 'drive', 'for', 'a', 'while', '.', \"''\", '(', 'Once', 'pulled', 'over', ',', 'the', 'driver', 'starts', 'grabbing', 'the', 'passenger', \"'s\", 'boobs', ')', 'Passenger', ':', '``', 'What', 'are', 'you', 'doing', '?', 'I', \"'m\", 'not', 'like', 'that', '!', \"''\", 'Driver', ':', '``', 'It', \"'s\", 'OK', ',', 'everyone', 'does', 'it', 'sometime', '.', \"''\", 'Passenger', ':', '``', 'OK', 'then', '.', \"''\", '(', 'Proceed', 'to', 'take', 'off', 'shirts', ',', 'fondle', ',', 'kiss', ',', 'and', 'perform', 'fellatio', ')', 'Now', ',', 'last', 'time', 'I', 'checked', ',', 'horror', 'films', 'were', 'not', 'in', 'the', 'porn', 'section', 'of', 'Hollywood', 'Video', '(', 'unless', 'you', \"'re\", 'into', 'S', '&', 'M', ',', 'then', 'you', 'go', 'elsewhere', ')', ',', 'and', 'it', 'definitely', 'should', \"n't\", 'be', 'in', 'the', 'mainstream', 'videos', 'at', 'Blockbuster', '.', 'Do', \"n't\", 'get', 'me', 'wrong', ';', 'I', \"'m\", 'definitely', 'not', 'one', 'of', 'those', 'people', 'who', 'hate', 'porn', ',', 'but', 'I', 'only', 'watch', 'it', 'when', 'appropriate', 'and', 'definitely', 'do', \"n't\", 'want', 'to', 'watch', 'it', 'if', 'I', \"'m\", 'looking', 'for', 'a', 'movie', 'in', 'the', 'mainstream', 'stores', ',', 'as', 'this', 'one', 'I', 'rented', 'was', 'at', 'one', 'of', 'the', 'two', 'retailers', 'I', 'named', '(', 'and', 'probably', 'at', 'the', 'other', 'too', 'if', 'I', 'went', 'and', 'looked', ')', '.', 'Worst', 'movie', 'ever', ',', 'no', 'one', 'should', 'rent', 'it', ',', 'and', 'it', 'should', 'only', 'be', 'bought', 'for', 'a', 'public', 'burning', 'ceremony', '.', 'If', 'I', 'could', 'give', 'it', 'a', '0', ',', 'I', 'would', ',', 'but', 'I', 'can', 'only', 'give', 'it', 'a', '*', 'of', '10', '.']\n",
            "['I', 'will', 'never', 'be', 'a', 'member', 'of', 'any', 'club', 'that', 'would', 'have', 'me', ',', 'especially', 'this', 'one', '.', 'Starr', 'Andreeff', 'is', 'a', 'single', 'mom/stripper', 'who', 'gets', 'attacked', 'by', 'a', 'female', 'vampire', 'and', 'left', 'for', 'dead', '.', 'She', 'begins', 'to', 'get', 'a', 'hankering', 'for', 'blood', ',', 'and', 'meets', 'up', 'with', 'John', 'Savage', ',', 'looking', 'like', 'he', \"'s\", 'wondering', 'where', 'he', 'left', 'Michael', 'Cimino', \"'s\", 'phone', 'number', '.', 'Savage', 'is', 'also', 'a', 'vampire', 'and', 'wants', 'to', 'let', 'Andreef', 'join', 'his', 'little', 'vampire', 'family', ',', 'which', 'consists', 'of', 'a', 'British', 'vamp', ',', 'the', 'blonde', 'vamp', 'who', 'attacked', 'Starr', ',', 'and', 'a', 'green', 'haired', 'midget', '(', 'I', 'am', 'not', 'making', 'this', 'up', ')', '.', 'The', 'family', 'does', 'not', 'want', 'Starr', ',', 'so', 'they', 'try', 'to', 'kill', 'Savage', 'and', 'Starr', 'and', 'Starr', \"'s\", 'kid', '.', 'Someone', 'forgot', 'to', 'tell', 'John', 'Savage', 'that', 'this', 'was', 'a', 'drama', '.', 'He', 'spends', 'most', 'of', 'his', 'screen', 'time', 'exhibiting', 'more', 'facial', 'tics', 'than', 'Hugh', 'Grant', 'on', 'a', 'Jolt', 'Cola', 'bender', ',', 'and', 'he', 'reads', 'all', 'of', 'his', 'lines', 'like', 'he', 'is', 'making', 'a', 'Farrelly', 'Brothers', 'film', '.', 'Andreeff', 'tries', 'to', 'make', 'the', 'most', 'of', 'a', 'badly', 'written', 'role', ',', 'but', 'screenwriter/director', 'Ruben', 'goes', 'for', 'all', 'the', 'vampire', 'cliches', ',', 'like', 'Starr', 'eating', 'her', 'son', \"'s\", 'pet', 'hamster', 'and', 'buying', 'a', 'lot', 'of', 'raw', 'meat', 'to', 'fight', 'the', 'craving', 'for', 'blood', '.', 'The', 'kid', 'also', 'gets', 'knocked', 'around', 'a', 'lot', ',', 'for', 'those', 'who', 'think', 'watching', 'violence', 'against', 'children', 'is', 'really', 'entertaining', '.', 'The', 'film', 'is', 'extra', 'gory', ',', 'but', 'not', 'in', 'a', 'wild', ',', 'over', 'the', 'top', 'way', 'like', '``', 'Killer', 'Tongue', '.', \"''\", 'Here', ',', 'the', 'gore', 'is', 'gross', 'and', 'never', 'justified', ',', 'it', 'just', 'occurs', '.', 'It', 'is', 'just', 'in', 'the', 'budget', '.', 'Most', 'of', 'the', 'R', 'rating', 'goes', 'to', 'Andreeff', \"'s\", 'coworkers', ',', 'who', 'are', 'put', 'through', 'embarassing', 'strip', 'routines', 'in', 'the', 'background', 'of', 'conversation', 'scenes', '.', 'The', 'budget', 'does', 'not', 'include', 'vampire', 'fangs', '!', 'All', 'the', 'vampires', 'here', 'must', 'stab', 'their', 'prey', 'to', 'eat', '.', 'Nifty', 'idea', ',', 'unless', 'you', 'have', 'already', 'seen', 'George', 'Romero', \"'s\", '``', 'Martin', '.', \"''\", 'Even', 'at', '77', 'minutes', ',', 'and', 'once', 'you', 'throw', 'in', 'Ruben', \"'s\", 'attempts', 'at', 'arty', 'direction', '(', 'skewed', 'frames', ',', 'blurred', 'scenes', ')', ',', 'this', 'is', 'one', 'tiresome', ',', 'dull', ',', 'and', 'dirty', 'ride', '.', 'Leave', 'this', 'club', 'and', 'take', 'a', 'shower', ',', 'you', 'will', 'need', 'it', '.', 'This', 'is', 'rated', '(', 'R', ')', 'for', 'strong', 'physical', 'violence', ',', 'gun', 'violence', ',', 'sexual', 'violence', ',', 'strong', 'gore', ',', 'strong', 'profanity', ',', 'female', 'nudity', ',', 'sexual', 'references', ',', 'drug', 'abuse', ',', 'and', 'adult', 'situations', '.']\n"
          ],
          "name": "stdout"
        }
      ]
    },
    {
      "metadata": {
        "id": "6bgN1KJRMPpq",
        "colab_type": "code",
        "colab": {
          "base_uri": "https://localhost:8080/",
          "height": 368
        },
        "outputId": "3002e963-7038-437f-aa9f-8918c6aeb160"
      },
      "cell_type": "code",
      "source": [
        "# load doc into memory\n",
        "with open('aclImdb/imdb.vocab') as f:\n",
        "  content = f.readlines()\n",
        "universe_vocabulary = [x.strip() for x in content]\n",
        "\n",
        "\n",
        "print(sum([len(token) for token in positive_tokenized]))\n",
        "stripped_positive_tokenized = []\n",
        "for tokens in positive_tokenized:\n",
        "  stripped_positive_tokenized.append([token.lower() for token in tokens if token.lower() in universe_vocabulary])\n",
        "\n",
        "print(sum([len(token) for token in stripped_positive_tokenized]))"
      ],
      "execution_count": 96,
      "outputs": [
        {
          "output_type": "stream",
          "text": [
            "1347352\n"
          ],
          "name": "stdout"
        },
        {
          "output_type": "error",
          "ename": "KeyboardInterrupt",
          "evalue": "ignored",
          "traceback": [
            "\u001b[0;31m---------------------------------------------------------------------------\u001b[0m",
            "\u001b[0;31mKeyboardInterrupt\u001b[0m                         Traceback (most recent call last)",
            "\u001b[0;32m<ipython-input-96-ca0dbdb85993>\u001b[0m in \u001b[0;36m<module>\u001b[0;34m()\u001b[0m\n\u001b[1;32m      7\u001b[0m \u001b[0mstripped_positive_tokenized\u001b[0m \u001b[0;34m=\u001b[0m \u001b[0;34m[\u001b[0m\u001b[0;34m]\u001b[0m\u001b[0;34m\u001b[0m\u001b[0m\n\u001b[1;32m      8\u001b[0m \u001b[0;32mfor\u001b[0m \u001b[0mtokens\u001b[0m \u001b[0;32min\u001b[0m \u001b[0mpositive_tokenized\u001b[0m\u001b[0;34m:\u001b[0m\u001b[0;34m\u001b[0m\u001b[0m\n\u001b[0;32m----> 9\u001b[0;31m   \u001b[0mstripped_positive_tokenized\u001b[0m\u001b[0;34m.\u001b[0m\u001b[0mappend\u001b[0m\u001b[0;34m(\u001b[0m\u001b[0;34m[\u001b[0m\u001b[0mtoken\u001b[0m\u001b[0;34m.\u001b[0m\u001b[0mlower\u001b[0m\u001b[0;34m(\u001b[0m\u001b[0;34m)\u001b[0m \u001b[0;32mfor\u001b[0m \u001b[0mtoken\u001b[0m \u001b[0;32min\u001b[0m \u001b[0mtokens\u001b[0m \u001b[0;32mif\u001b[0m \u001b[0mtoken\u001b[0m\u001b[0;34m.\u001b[0m\u001b[0mlower\u001b[0m\u001b[0;34m(\u001b[0m\u001b[0;34m)\u001b[0m \u001b[0;32min\u001b[0m \u001b[0muniverse_vocabulary\u001b[0m\u001b[0;34m]\u001b[0m\u001b[0;34m)\u001b[0m\u001b[0;34m\u001b[0m\u001b[0m\n\u001b[0m\u001b[1;32m     10\u001b[0m \u001b[0;34m\u001b[0m\u001b[0m\n\u001b[1;32m     11\u001b[0m \u001b[0mprint\u001b[0m\u001b[0;34m(\u001b[0m\u001b[0msum\u001b[0m\u001b[0;34m(\u001b[0m\u001b[0;34m[\u001b[0m\u001b[0mlen\u001b[0m\u001b[0;34m(\u001b[0m\u001b[0mtoken\u001b[0m\u001b[0;34m)\u001b[0m \u001b[0;32mfor\u001b[0m \u001b[0mtoken\u001b[0m \u001b[0;32min\u001b[0m \u001b[0mstripped_positive_tokenized\u001b[0m\u001b[0;34m]\u001b[0m\u001b[0;34m)\u001b[0m\u001b[0;34m)\u001b[0m\u001b[0;34m\u001b[0m\u001b[0m\n",
            "\u001b[0;32m<ipython-input-96-ca0dbdb85993>\u001b[0m in \u001b[0;36m<listcomp>\u001b[0;34m(.0)\u001b[0m\n\u001b[1;32m      7\u001b[0m \u001b[0mstripped_positive_tokenized\u001b[0m \u001b[0;34m=\u001b[0m \u001b[0;34m[\u001b[0m\u001b[0;34m]\u001b[0m\u001b[0;34m\u001b[0m\u001b[0m\n\u001b[1;32m      8\u001b[0m \u001b[0;32mfor\u001b[0m \u001b[0mtokens\u001b[0m \u001b[0;32min\u001b[0m \u001b[0mpositive_tokenized\u001b[0m\u001b[0;34m:\u001b[0m\u001b[0;34m\u001b[0m\u001b[0m\n\u001b[0;32m----> 9\u001b[0;31m   \u001b[0mstripped_positive_tokenized\u001b[0m\u001b[0;34m.\u001b[0m\u001b[0mappend\u001b[0m\u001b[0;34m(\u001b[0m\u001b[0;34m[\u001b[0m\u001b[0mtoken\u001b[0m\u001b[0;34m.\u001b[0m\u001b[0mlower\u001b[0m\u001b[0;34m(\u001b[0m\u001b[0;34m)\u001b[0m \u001b[0;32mfor\u001b[0m \u001b[0mtoken\u001b[0m \u001b[0;32min\u001b[0m \u001b[0mtokens\u001b[0m \u001b[0;32mif\u001b[0m \u001b[0mtoken\u001b[0m\u001b[0;34m.\u001b[0m\u001b[0mlower\u001b[0m\u001b[0;34m(\u001b[0m\u001b[0;34m)\u001b[0m \u001b[0;32min\u001b[0m \u001b[0muniverse_vocabulary\u001b[0m\u001b[0;34m]\u001b[0m\u001b[0;34m)\u001b[0m\u001b[0;34m\u001b[0m\u001b[0m\n\u001b[0m\u001b[1;32m     10\u001b[0m \u001b[0;34m\u001b[0m\u001b[0m\n\u001b[1;32m     11\u001b[0m \u001b[0mprint\u001b[0m\u001b[0;34m(\u001b[0m\u001b[0msum\u001b[0m\u001b[0;34m(\u001b[0m\u001b[0;34m[\u001b[0m\u001b[0mlen\u001b[0m\u001b[0;34m(\u001b[0m\u001b[0mtoken\u001b[0m\u001b[0;34m)\u001b[0m \u001b[0;32mfor\u001b[0m \u001b[0mtoken\u001b[0m \u001b[0;32min\u001b[0m \u001b[0mstripped_positive_tokenized\u001b[0m\u001b[0;34m]\u001b[0m\u001b[0;34m)\u001b[0m\u001b[0;34m)\u001b[0m\u001b[0;34m\u001b[0m\u001b[0m\n",
            "\u001b[0;31mKeyboardInterrupt\u001b[0m: "
          ]
        }
      ]
    },
    {
      "metadata": {
        "id": "c4AooCUbHlE0",
        "colab_type": "code",
        "colab": {
          "base_uri": "https://localhost:8080/",
          "height": 71
        },
        "outputId": "41da8be9-1269-42bb-ebb1-34176d25c056"
      },
      "cell_type": "code",
      "source": [
        "print(positive_tokenized[0:5])\n",
        "print(stripped_positive_tokenized[0:5])"
      ],
      "execution_count": 57,
      "outputs": [
        {
          "output_type": "stream",
          "text": [
            "[['A', 'beautiful', 'piece', 'of', 'children', \"'s\", 'cinema', 'buried', 'in', 'a', 'world', 'of', 'archaic', 'Celticism', '.', 'Setting', 'the', 'story', 'around', 'the', 'famous', 'Book', 'of', 'Kels', ',', 'believed', 'to', 'have', 'been', 'comprised', 'by', 'monks', 'from', 'the', 'small', 'island', 'of', 'Iona', ',', 'off', 'the', 'western', 'coast', 'of', 'Scotland.', '<', 'br', '/', '>', '<', 'br', '/', '>', 'Telling', 'the', 'tale', 'of', 'a', 'young', 'abbots', 'apprentice', 'who', 'goes', 'off', 'into', 'the', 'forest', 'in', 'search', 'of', 'Crom-Cruic', ',', 'the', 'fierce', 'headless', 'horseman', 'of', 'pagan', 'mythology', '.', 'In', 'hopes', 'of', 'recovering', 'a', 'lost', 'artefact.', '<', 'br', '/', '>', '<', 'br', '/', '>', 'The', 'films', 'true', 'beauty', 'lies', 'in', 'its', \"'\", 'animation', '.', 'Cell', 'shaded', 'in', 'a', 'bright', 'and', 'inspirational', 'style', 'of', 'deep', 'complexity', 'resulting', 'in', 'a', 'look', 'of', 'seem', 'less', 'simplicity', '.', 'Deriving', 'much', 'from', 'the', 'artistic', 'style', 'of', 'the', 'brilliant', 'Cartoon', 'Network', 'series', \"'Samurai\", 'Jack', \"'\", 'for', 'its', 'genius', 'use', 'of', 'mark', 'making', 'and', 'background', 'depth', ',', 'The', 'Secret', 'of', 'Kels', 'creates', 'a', 'consistently', 'affective', 'Celtic', 'world', 'living', 'under', 'the', 'shadow', 'of', 'Viking', 'invasion.', '<', 'br', '/', '>', '<', 'br', '/', '>', 'The', 'history', 'may', 'be', 'intensely', 'inaccurate', 'and', 'the', 'ways', 'of', 'life', 'portrayed', 'lacking', 'realism', 'but', 'these', 'facts', 'are', 'utterly', 'irrelevant', 'as', 'the', 'film', 'sets', 'itself', 'in', 'a', 'world', 'of', 'fantasy', 'and', 'Celtic-revivalist', 'mysticism', '.', 'The', 'girl', 'of', 'the', 'forest', 'is', 'a', 'wonderful', 'addition', 'and', 'in', 'my', 'opinion', 'makes', 'the', 'picture', 'what', 'it', 'is', ',', 'as', 'she', 'glides', 'from', 'branch', 'to', 'branch', '.', 'Appearing', 'and', 'disappearing', 'like', 'a', 'mysterious', 'nymph', 'with', 'qualities', 'resembling', 'the', 'legendary', 'Cheshire', 'Cat', 'from', 'Alice', 'and', 'Wonderland.', '<', 'br', '/', '>', '<', 'br', '/', '>', 'The', 'Secret', 'of', 'Kels', 'is', 'an', 'absolute', 'treat', '.', 'For', 'all', 'genders', ',', 'all', 'ages', ',', 'it', \"'s\", 'a', 'lovely', 'piece', 'of', 'family', 'cinema.', '<', 'br', '/', '>', '<', 'br', '/', '>', 'Do', \"n't\", 'expect', 'to', 'be', 'awed', 'but', 'instead', 'pleasantly', 'impressed', '!'], ['Raising', 'Victor', 'Vargas', 'is', 'a', 'movie', 'you', 'definitely', 'need', 'to', 'see', '.', 'It', 'was', 'very', 'heart', 'felt', 'and', 'had', 'a', 'lot', 'of', 'humor', 'that', 'gets', 'you', 'sucked', 'right', 'in', '.', 'It', 'is', 'so', 'much', 'like', 'real', 'life', 'with', 'what', 'teenagers', 'have', 'to', 'go', 'through', '.', 'Victor', ',', 'a', 'cocky', 'teen', ',', 'but', 'with', 'a', 'good', 'heart', 'at', 'the', 'end', 'deals', 'with', 'love', 'in', 'all', 'the', 'right', 'places', 'dealing', 'with', 'girls', 'and', 'family', '.', 'At', 'the', 'end', 'Victor', 'learns', 'the', 'true', 'meaning', 'of', 'love', 'after', 'dealing', 'with', 'a', 'old', 'fashioned', 'grandmother', 'and', 'a', 'girl', 'who', 'he', 'wants', 'to', 'use', 'is', 'actually', 'using', 'him', 'too.I', 'recommend', 'people', 'to', 'watch', 'this', 'movie', 'because', 'it', 'will', 'be', 'like', 'you', 'are', 'watching', 'a', 'real', 'family', '.', 'Thats', 'how', 'much', 'feeling', 'this', 'movie', 'has', '.', 'One', 'heart', 'felt', 'moment', 'was', 'when', 'Victor', \"'s\", 'grandmother', 'throws', 'victor', 'out', 'over', 'something', 'simple', '.', 'Victor', 'was', 'really', 'heart', 'and', 'could', \"n't\", 'believe', 'that', 'she', 'would', 'do', 'something', 'like', 'that', '.', 'It', 'made', 'me', 'feel', 'real', 'sorry', 'for', 'him', 'like', 'it', 'was', 'real', '.', 'Overall', 'I', 'give', 'this', 'movie', 'a', 'B+'], ['This', 'film', 'is', 'stunningly', 'beautiful', '.', 'Goldsworthy', \"'s\", 'art', 'really', 'benefits', 'with', 'the', 'medium', 'of', 'film', 'because', 'you', 'can', 'see', 'the', 'art', 'at', 'its', 'most', 'beautiful', ',', 'moving', 'and', 'changing', 'and', 'blossoming', '.', 'I', 'strongly', 'recommend', 'this', 'movie', 'to', 'everyone', '.', 'I', 'can', 'think', 'of', 'nothing', 'else', 'to', 'say', 'about', 'it', '.', 'It', \"'s\", 'just', 'the', 'kind', 'of', 'movie', 'you', 'HAVE', 'TO', 'see', ',', 'because', 'it', \"'s\", 'so', 'visually', 'compelling', 'and', 'left', 'me', 'very', 'refreshed', 'when', 'I', 'left', 'the', 'theatre', '.'], ['My', 'Tutor', 'Friend', 'is', 'a', 'well', 'scripted', 'romance', 'comedy', 'movie', 'that', 'has', 'something', 'similar', 'to', 'My', 'Sassy', 'Girl..', 'there', \"'s\", 'no', 'kissing/sex', 'scenes', '.', 'Hollywood', 'should', 'learn', 'more', 'from', 'Korean', 'productions', '.', 'Sex', 'is', 'not', 'always', 'required', 'in', 'a', 'good', 'romantic', 'movie.', '<', 'br', '/', '>', '<', 'br', '/', '>', 'The', 'movie', 'is', 'of', 'light', 'hearted', 'tone', 'with', 'occasional', 'cartoon', 'CG', 'scenes', 'blended', 'into', 'the', 'movie', '.', 'I', 'like', 'the', 'part', 'when', 'Ji-Hoon', 'almost', 'kissed', 'Su-Wan', '.', 'The', 'funniest', 'moment', 'is', 'when', 'Ji-Hoon', 'punched', 'Su-Wan', \"'s\", 'first', 'love', 'because', 'he', 'dumped', 'Su-Wan', 'for', 'another', 'girl', 'and', 'he', 'is', 'going', 'to', 'be', 'a', 'father', 'soon', '.', 'How', 'he', 'became', 'a', 'father', 'was', 'revealed', 'in', 'the', 'next', 'scene', ',', 'which', 'brings', 'smiles', 'to', 'the', 'audience.', '<', 'br', '/', '>', '<', 'br', '/', '>', 'Mao', 'points', ':', '8/10'], ['Gillian', 'Holroyd', '(', 'Kim', 'Novak', ')', 'is', 'a', 'witch', '.', 'Secretly', ',', 'she', \"'s\", 'attracted', 'to', 'her', 'quite', 'normal', 'neighbor', 'Shep', 'Henderson', '(', 'James', 'Stewart', ')', '.', 'She', 'casts', 'a', 'spell', 'on', 'Shep', 'that', 'forces', 'him', 'to', 'dump', 'his', 'fiancé', 'and', 'fall', 'for', 'her', '.', 'Things', 'are', 'going', 'along', 'quite', 'nicely', 'until', 'Gillian', 'discovers', 'she', 'really', 'cares', 'for', 'this', 'mortal', 'man', '.', 'She', 'decides', 'to', 'tell', 'him', 'her', 'secret', '.', 'But', 'how', 'will', 'Shep', 'react', 'when', 'he', 'finds', 'out', 'that', 'he', 'was', '``', 'tricked', \"''\", 'into', 'falling', 'in', 'love', 'with', 'Gillian', '?', '<', 'br', '/', '>', '<', 'br', '/', '>', 'As', 'far', 'as', 'light-hearted', '1950s', 'comedies', 'go', ',', 'Bell', 'Book', 'and', 'Candle', 'is', 'good', ',', 'but', 'nothing', 'spectacular', '.', 'It', \"'s\", 'an', 'enjoyable', 'enough', 'watch', 'and', 'should', 'appeal', 'to', 'almost', 'anyone', 'who', 'sits', 'down', 'with', 'it', '.', 'Just', 'do', \"n't\", 'go', 'into', 'the', 'movie', 'expecting', 'the', 'greatest', 'thing', 'since', 'sliced', 'bread', '.', 'The', 'movie', \"'s\", 'cute', ',', 'funny', 'at', 'times', ',', 'and', 'touching', 'in', 'the', 'end', '.', 'Kim', 'Novak', 'and', 'James', 'Stewart', 'do', 'their', 'best', 'and', 'have', 'some', 'real', 'chemistry', '.', 'Novak', '(', 'as', 'others', 'have', 'pointed', 'out', ')', 'looks', 'quite', 'incredible', 'in', 'an', 'understated', 'sort', 'of', 'way', '.', 'The', 'supporting', 'cast', 'with', 'Jack', 'Lemmon', ',', 'Hermione', 'Gingold', ',', 'and', 'Elsa', 'Lanchester', 'is', 'often', 'laugh-out-loud', 'funny', 'and', 'steals', 'a', 'lot', 'of', 'the', 'spotlight', 'from', 'Novak', 'and', 'Stewart', '.', 'The', 'biggest', 'problem', 'I', 'see', 'is', 'that', 'Bell', 'Book', 'and', 'Candle', 'ca', \"n't\", 'quite', 'decide', 'what', 'kind', 'of', 'movie', 'it', 'wants', 'to', 'be', '.', 'Is', 'it', 'a', 'screwball', 'comedy', '?', 'Is', 'it', 'a', 'romantic', 'comedy', '?', 'Is', 'it', 'a', 'supernatural', 'comedy', '?', 'Had', 'director', 'Richard', 'Quine', 'stuck', 'with', 'just', 'one', 'approach', ',', 'the', 'movie', 'might', 'have', 'been', 'even', 'better', 'and', 'more', 'memorable', '.']]\n",
            "[['a', 'beautiful', 'piece', 'of', 'children', 'cinema', 'buried', 'in', 'a', 'world', 'of', 'archaic', 'celticism', 'setting', 'the', 'story', 'around', 'the', 'famous', 'book', 'of', 'kels', 'believed', 'to', 'have', 'been', 'comprised', 'by', 'monks', 'from', 'the', 'small', 'island', 'of', 'iona', 'off', 'the', 'western', 'coast', 'of', 'br', 'br', 'telling', 'the', 'tale', 'of', 'a', 'young', 'abbots', 'apprentice', 'who', 'goes', 'off', 'into', 'the', 'forest', 'in', 'search', 'of', 'crom-cruic', 'the', 'fierce', 'headless', 'horseman', 'of', 'pagan', 'mythology', 'in', 'hopes', 'of', 'recovering', 'a', 'lost', 'br', 'br', 'the', 'films', 'true', 'beauty', 'lies', 'in', 'its', 'animation', 'cell', 'shaded', 'in', 'a', 'bright', 'and', 'inspirational', 'style', 'of', 'deep', 'complexity', 'resulting', 'in', 'a', 'look', 'of', 'seem', 'less', 'simplicity', 'deriving', 'much', 'from', 'the', 'artistic', 'style', 'of', 'the', 'brilliant', 'cartoon', 'network', 'series', 'jack', 'for', 'its', 'genius', 'use', 'of', 'mark', 'making', 'and', 'background', 'depth', 'the', 'secret', 'of', 'kels', 'creates', 'a', 'consistently', 'affective', 'celtic', 'world', 'living', 'under', 'the', 'shadow', 'of', 'viking', 'br', 'br', 'the', 'history', 'may', 'be', 'intensely', 'inaccurate', 'and', 'the', 'ways', 'of', 'life', 'portrayed', 'lacking', 'realism', 'but', 'these', 'facts', 'are', 'utterly', 'irrelevant', 'as', 'the', 'film', 'sets', 'itself', 'in', 'a', 'world', 'of', 'fantasy', 'and', 'celtic-revivalist', 'mysticism', 'the', 'girl', 'of', 'the', 'forest', 'is', 'a', 'wonderful', 'addition', 'and', 'in', 'my', 'opinion', 'makes', 'the', 'picture', 'what', 'it', 'is', 'as', 'she', 'glides', 'from', 'branch', 'to', 'branch', 'appearing', 'and', 'disappearing', 'like', 'a', 'mysterious', 'nymph', 'with', 'qualities', 'resembling', 'the', 'legendary', 'cheshire', 'cat', 'from', 'alice', 'and', 'br', 'br', 'the', 'secret', 'of', 'kels', 'is', 'an', 'absolute', 'treat', 'for', 'all', 'genders', 'all', 'ages', 'it', 'a', 'lovely', 'piece', 'of', 'family', 'br', 'br', 'do', \"n't\", 'expect', 'to', 'be', 'awed', 'but', 'instead', 'pleasantly', 'impressed', '!'], ['raising', 'victor', 'vargas', 'is', 'a', 'movie', 'you', 'definitely', 'need', 'to', 'see', 'it', 'was', 'very', 'heart', 'felt', 'and', 'had', 'a', 'lot', 'of', 'humor', 'that', 'gets', 'you', 'sucked', 'right', 'in', 'it', 'is', 'so', 'much', 'like', 'real', 'life', 'with', 'what', 'teenagers', 'have', 'to', 'go', 'through', 'victor', 'a', 'cocky', 'teen', 'but', 'with', 'a', 'good', 'heart', 'at', 'the', 'end', 'deals', 'with', 'love', 'in', 'all', 'the', 'right', 'places', 'dealing', 'with', 'girls', 'and', 'family', 'at', 'the', 'end', 'victor', 'learns', 'the', 'true', 'meaning', 'of', 'love', 'after', 'dealing', 'with', 'a', 'old', 'fashioned', 'grandmother', 'and', 'a', 'girl', 'who', 'he', 'wants', 'to', 'use', 'is', 'actually', 'using', 'him', 'recommend', 'people', 'to', 'watch', 'this', 'movie', 'because', 'it', 'will', 'be', 'like', 'you', 'are', 'watching', 'a', 'real', 'family', 'thats', 'how', 'much', 'feeling', 'this', 'movie', 'has', 'one', 'heart', 'felt', 'moment', 'was', 'when', 'victor', 'grandmother', 'throws', 'victor', 'out', 'over', 'something', 'simple', 'victor', 'was', 'really', 'heart', 'and', 'could', \"n't\", 'believe', 'that', 'she', 'would', 'do', 'something', 'like', 'that', 'it', 'made', 'me', 'feel', 'real', 'sorry', 'for', 'him', 'like', 'it', 'was', 'real', 'overall', 'i', 'give', 'this', 'movie', 'a'], ['this', 'film', 'is', 'stunningly', 'beautiful', 'goldsworthy', 'art', 'really', 'benefits', 'with', 'the', 'medium', 'of', 'film', 'because', 'you', 'can', 'see', 'the', 'art', 'at', 'its', 'most', 'beautiful', 'moving', 'and', 'changing', 'and', 'blossoming', 'i', 'strongly', 'recommend', 'this', 'movie', 'to', 'everyone', 'i', 'can', 'think', 'of', 'nothing', 'else', 'to', 'say', 'about', 'it', 'it', 'just', 'the', 'kind', 'of', 'movie', 'you', 'have', 'to', 'see', 'because', 'it', 'so', 'visually', 'compelling', 'and', 'left', 'me', 'very', 'refreshed', 'when', 'i', 'left', 'the', 'theatre'], ['my', 'tutor', 'friend', 'is', 'a', 'well', 'scripted', 'romance', 'comedy', 'movie', 'that', 'has', 'something', 'similar', 'to', 'my', 'sassy', 'there', 'no', 'scenes', 'hollywood', 'should', 'learn', 'more', 'from', 'korean', 'productions', 'sex', 'is', 'not', 'always', 'required', 'in', 'a', 'good', 'romantic', 'br', 'br', 'the', 'movie', 'is', 'of', 'light', 'hearted', 'tone', 'with', 'occasional', 'cartoon', 'cg', 'scenes', 'blended', 'into', 'the', 'movie', 'i', 'like', 'the', 'part', 'when', 'ji-hoon', 'almost', 'kissed', 'su-wan', 'the', 'funniest', 'moment', 'is', 'when', 'ji-hoon', 'punched', 'su-wan', 'first', 'love', 'because', 'he', 'dumped', 'su-wan', 'for', 'another', 'girl', 'and', 'he', 'is', 'going', 'to', 'be', 'a', 'father', 'soon', 'how', 'he', 'became', 'a', 'father', 'was', 'revealed', 'in', 'the', 'next', 'scene', 'which', 'brings', 'smiles', 'to', 'the', 'br', 'br', 'mao', 'points'], ['gillian', 'holroyd', 'kim', 'novak', 'is', 'a', 'witch', 'secretly', 'she', 'attracted', 'to', 'her', 'quite', 'normal', 'neighbor', 'shep', 'henderson', 'james', 'stewart', 'she', 'casts', 'a', 'spell', 'on', 'shep', 'that', 'forces', 'him', 'to', 'dump', 'his', 'fiancé', 'and', 'fall', 'for', 'her', 'things', 'are', 'going', 'along', 'quite', 'nicely', 'until', 'gillian', 'discovers', 'she', 'really', 'cares', 'for', 'this', 'mortal', 'man', 'she', 'decides', 'to', 'tell', 'him', 'her', 'secret', 'but', 'how', 'will', 'shep', 'react', 'when', 'he', 'finds', 'out', 'that', 'he', 'was', 'tricked', 'into', 'falling', 'in', 'love', 'with', 'gillian', '?', 'br', 'br', 'as', 'far', 'as', 'light-hearted', 'comedies', 'go', 'bell', 'book', 'and', 'candle', 'is', 'good', 'but', 'nothing', 'spectacular', 'it', 'an', 'enjoyable', 'enough', 'watch', 'and', 'should', 'appeal', 'to', 'almost', 'anyone', 'who', 'sits', 'down', 'with', 'it', 'just', 'do', \"n't\", 'go', 'into', 'the', 'movie', 'expecting', 'the', 'greatest', 'thing', 'since', 'sliced', 'bread', 'the', 'movie', 'cute', 'funny', 'at', 'times', 'and', 'touching', 'in', 'the', 'end', 'kim', 'novak', 'and', 'james', 'stewart', 'do', 'their', 'best', 'and', 'have', 'some', 'real', 'chemistry', 'novak', 'as', 'others', 'have', 'pointed', 'out', 'looks', 'quite', 'incredible', 'in', 'an', 'understated', 'sort', 'of', 'way', 'the', 'supporting', 'cast', 'with', 'jack', 'lemmon', 'hermione', 'gingold', 'and', 'elsa', 'lanchester', 'is', 'often', 'laugh-out-loud', 'funny', 'and', 'steals', 'a', 'lot', 'of', 'the', 'spotlight', 'from', 'novak', 'and', 'stewart', 'the', 'biggest', 'problem', 'i', 'see', 'is', 'that', 'bell', 'book', 'and', 'candle', 'ca', \"n't\", 'quite', 'decide', 'what', 'kind', 'of', 'movie', 'it', 'wants', 'to', 'be', 'is', 'it', 'a', 'screwball', 'comedy', '?', 'is', 'it', 'a', 'romantic', 'comedy', '?', 'is', 'it', 'a', 'supernatural', 'comedy', '?', 'had', 'director', 'richard', 'quine', 'stuck', 'with', 'just', 'one', 'approach', 'the', 'movie', 'might', 'have', 'been', 'even', 'better', 'and', 'more', 'memorable']]\n"
          ],
          "name": "stdout"
        }
      ]
    },
    {
      "metadata": {
        "id": "DSFWrZInMueS",
        "colab_type": "code",
        "colab": {
          "base_uri": "https://localhost:8080/",
          "height": 51
        },
        "outputId": "6eafbab9-8f0b-401d-ad45-013ca578c65a"
      },
      "cell_type": "code",
      "source": [
        "print(sum([len(token) for token in positive_tokenized]))\n",
        "stripped_negative_tokenized = []\n",
        "for tokens in negative_tokenized:\n",
        "  stripped_negative_tokenized.append([token.lower() for token in tokens if token.lower() in universe_vocabulary])\n",
        "\n",
        "print(sum([len(token) for token in stripped_negative_tokenized]))"
      ],
      "execution_count": 58,
      "outputs": [
        {
          "output_type": "stream",
          "text": [
            "166351\n",
            "146040\n"
          ],
          "name": "stdout"
        }
      ]
    },
    {
      "metadata": {
        "id": "xDfk6j5gM3vF",
        "colab_type": "code",
        "colab": {
          "base_uri": "https://localhost:8080/",
          "height": 71
        },
        "outputId": "84e5039f-73f1-4716-d349-9445bd36d958"
      },
      "cell_type": "code",
      "source": [
        "print(negative_tokenized[0:5])\n",
        "print(stripped_negative_tokenized[0:5])"
      ],
      "execution_count": 59,
      "outputs": [
        {
          "output_type": "stream",
          "text": [
            "[['How', 'viewers', 'react', 'to', 'this', 'new', '``', 'adaption', \"''\", 'of', 'Shirley', 'Jackson', \"'s\", 'book', ',', 'which', 'was', 'promoted', 'as', 'NOT', 'being', 'a', 'remake', 'of', 'the', 'original', '1963', 'movie', '(', 'true', 'enough', ')', ',', 'will', 'be', 'based', ',', 'I', 'suspect', ',', 'on', 'the', 'following', ':', 'those', 'who', 'were', 'big', 'fans', 'of', 'either', 'the', 'book', 'or', 'original', 'movie', 'are', 'not', 'going', 'to', 'think', 'much', 'of', 'this', 'one', '...', 'and', 'those', 'who', 'have', 'never', 'been', 'exposed', 'to', 'either', ',', 'and', 'who', 'are', 'big', 'fans', 'of', 'Hollywood', \"'s\", 'current', 'trend', 'towards', '``', 'special', 'effects', \"''\", 'being', 'the', 'first', 'and', 'last', 'word', 'in', 'how', '``', 'good', \"''\", 'a', 'film', 'is', ',', 'are', 'going', 'to', 'love', 'it.', '<', 'br', '/', '>', '<', 'br', '/', '>', 'Things', 'I', 'did', 'not', 'like', 'about', 'this', 'adaption', ':', '<', 'br', '/', '>', '<', 'br', '/', '>', '1', '.', 'It', 'was', 'NOT', 'a', 'true', 'adaption', 'of', 'the', 'book', '.', 'From', 'the', 'articles', 'I', 'had', 'read', ',', 'this', 'movie', 'was', 'supposed', 'to', 'cover', 'other', 'aspects', 'in', 'the', 'book', 'that', 'the', 'first', 'one', 'never', 'got', 'around', 'to', '.', 'And', ',', 'that', 'seemed', 'reasonable', ',', 'no', 'film', 'can', 'cover', 'a', 'book', 'word', 'for', 'word', 'unless', 'it', 'is', 'the', 'length', 'of', 'THE', 'STAND', '!', '(', 'And', 'not', 'even', 'then', ')', 'But', ',', 'there', 'were', 'things', 'in', 'this', 'movie', 'that', 'were', 'never', 'by', 'any', 'means', 'ever', 'mentioned', 'or', 'even', 'hinted', 'at', ',', 'in', 'the', 'movie', '.', 'Reminded', 'me', 'of', 'the', 'way', 'they', 'decided', 'to', 'kill', 'off', 'the', 'black', 'man', 'in', 'the', 'original', 'movie', 'version', 'of', 'THE', 'SHINING', '.', 'I', 'did', \"n't\", 'like', 'that', ',', 'either', '.', 'What', 'the', 'movie', \"'s\", 'press', 'release', 'SHOULD', 'have', 'said', 'is', '...', \"''\", 'We', 'got', 'the', 'basic', ',', 'very', 'basic', ',', 'idea', 'from', 'Shirley', 'Jackson', \"'s\", 'book', ',', 'we', 'kept', 'the', 'same', 'names', 'of', 'the', 'house', 'and', 'several', '(', 'though', 'not', 'all', ')', 'of', 'the', 'leading', 'character', \"'s\", 'names', ',', 'but', 'then', 'we', 'decided', 'to', 'write', 'our', 'own', 'story', ',', 'and', ',', 'what', 'the', 'heck', ',', 'we', 'watched', 'THE', 'CHANGELING', 'and', 'THE', 'SHINING', 'and', 'GHOST', 'first', ',', 'and', 'decided', 'to', 'throw', 'in', 'a', 'bit', 'of', 'them', ',', 'too', '.', '``', '<', 'br', '/', '>', '<', 'br', '/', '>', '2', '.', 'They', 'completely', 'lost', 'the', 'theme', 'of', 'a', 'parapyschologist', 'inviting', 'carefully', 'picked', 'guest', 'who', 'had', 'all', 'had', 'brushes', 'with', 'the', 'paranormal', 'in', 'their', 'pasts', ',', 'to', 'investigate', 'a', 'house', 'that', 'truly', 'seemed', 'to', 'have', 'been', '``', 'born', 'bad', \"''\", '.', 'No', ',', 'instead', ',', 'this', '``', 'doctor', \"''\", 'got', 'everyone', 'to', 'the', 'house', 'under', 'the', 'false', 'pretense', 'of', 'studying', 'their', '``', 'insomnia', \"''\", '(', 'he', 'really', 'invited', 'them', 'there', 'to', 'scare', 'them', 'to', 'death', 'and', 'then', 'see', 'how', 'they', 'reacted', 'to', 'their', 'fear', '...', 'like', 'lab', 'rats', ',', 'who', 'he', 'mentioned', 'never', 'got', 'told', 'they', 'are', 'part', 'of', 'an', 'experiment', '...', 'nice', 'guy', ')', '.', 'This', 'doctor', ',', 'who', 'did', 'not', 'have', 'the', 'same', 'name', ',', 'by', 'the', 'way', ',', 'was', 'as', 'different', 'from', 'the', 'dedicated', 'professional', 'of', 'the', 'original', 'movie', 'as', 'night', 'from', 'day.', '<', 'br', '/', '>', '<', 'br', '/', '>', '3', '.', 'In', 'direct', 'contrast', 'to', 'the', 'statement', 'that', 'was', 'used', 'to', 'promote', 'both', 'movies', '``', 'some', 'houses', 'are', 'just', 'born', 'bad', \"''\", ',', 'this', 'house', 'was', 'not', 'born', 'bad', 'but', 'rather', 'became', 'bad', 'because', 'of', 'what', 'happened', 'there', '...', 'and', ',', 'this', 'time', 'around', ',', 'Nel', 'gets', 'to', 'unravel', 'the', 'mystery', '(', 'shades', 'of', 'THE', 'CHANGELING', ')', '.', 'The', 'only', 'problem', 'was', ',', 'the', 'so-called', 'mystery', 'was', 'so', 'incoherently', 'told', 'that', 'I', \"'m\", 'sure', 'it', 'remained', 'a', 'mystery', 'to', 'most', 'of', 'the', 'audience', '...', 'but', ',', 'then', 'there', 'was', 'no', 'mystery', 'in', 'the', 'first', 'place', '(', 'not', 'in', 'the', 'book', ')', ',', 'because', 'the', 'house', 'was', 'bad', 'TO', 'BEGIN', 'WITH', '.', 'It', \"'s\", 'first', '``', 'victim', \"''\", 'died', 'before', 'ever', 'setting', 'eyes', 'on', 'it.', '<', 'br', '/', '>', '<', 'br', '/', '>', '4', '.', 'The', 'way', 'the', 'character', 'of', 'Luke', 'was', 'portrayed', 'was', 'absolutely', 'ridiculous', '.', 'He', 'was', 'supposed', 'to', 'be', 'a', 'debonair', 'playboy', 'who', 'was', 'someday', 'to', 'inherit', 'the', 'house', '(', 'and', 'was', 'a', 'true', 'skeptic', 'of', 'it', \"'s\", '``', 'history', \"''\", ')', '...', 'and', 'in', 'this', 'one', 'he', 'was', 'just', 'a', 'winey-voiced', ',', 'bumbling', 'nerd', 'who', 'could', \"n't\", 'sleep', '(', 'insomnia', 'remember', ')', 'and', 'was', 'a', 'compulsive', 'liar.', '<', 'br', '/', '>', '<', 'br', '/', '>', '5', '.', 'I', 'was', 'also', 'annoyed', 'with', 'the', 'way', 'the', 'movie', 'jumped', 'from', 'almost', 'trying', 'to', 'recreate', 'original', 'scenes', 'word', 'for', 'word', '(', 'the', 'scene', 'with', 'Nel', \"'s\", 'sister', \"'s\", 'family', ',', 'and', 'Mrs.', 'Dudley', \"'s\", 'little', 'opening', 'speech', '...', ')', 'to', 'going', 'off', 'into', 'flights', 'of', 'fancy', 'that', 'made', 'me', 'think', 'more', 'of', 'these', 'other', 'movies', 'than', 'THE', 'HAUNTING', '.', 'It', \"'s\", 'like', 'it', 'could', \"n't\", 'make', 'up', 'its', 'mind', 'what', 'it', 'wanted', 'to', 'do.', '<', 'br', '/', '>', '<', 'br', '/', '>', '6', '.', 'I', 'missed', 'Nel', \"'s\", 'narrative', 'through', 'the', 'whole', 'movie', '.', 'The', 'original', 'was', 'so', 'like', 'a', 'gothic', 'novel', 'in', 'the', 'way', 'that', 'the', 'story', 'was', 'mostly', 'told', 'in', 'the', 'first', 'person', ',', 'through', 'Nel', \"'s\", 'eyes', ',', 'and', 'we', 'always', 'were', 'privy', 'to', 'her', 'thoughts', '.', 'That', 'totally', 'unique', 'touch', 'was', 'completely', 'lost', 'in', 'the', 'new', 'version', '.', 'They', 'also', 'tried', 'to', 'make', 'Nel', 'much', 'more', 'of', 'a', 'heroine', '.', 'The', 'original', 'Nel', 'was', 'not', 'a', 'bad', 'person', ',', 'but', 'she', 'was', 'a', 'bitter', 'person', '(', 'could', 'she', 'be', 'otherwise', 'after', 'sacrificing', '11', 'years', 'of', 'her', 'life', 'to', 'a', 'selfish', 'old', 'woman', 'and', 'a', 'spiteful', 'sister', '?', ')', 'and', 'she', 'liked', 'to', 'moan', ',', 'and', 'she', 'lost', 'her', 'temper', '...', 'This', 'one', 'was', 'almost', 'too', 'good', 'to', 'be', 'true', '.', 'This', 'was', 'never', 'more', 'apparent', 'than', 'in', 'the', 'climax', 'of', 'the', 'movie', 'where', 'the', 'writer', \"'s\", 'had', 'obviously', 'been', 'watching', 'GHOST', 'one', 'too', 'many', 'times.', '<', 'br', '/', '>', '<', 'br', '/', '>', '7', '.', 'They', 'changed', 'the', 'history', 'of', 'the', 'house', 'and', 'it', \"'s\", 'occupents', 'too', 'much', '.', 'There', 'was', 'no', 'Abigail', 'Crain', '(', 'the', 'daughter', 'of', 'Hugh', 'whose', 'legend', 'loomed', 'large', 'in', 'the', 'original', 'versions', ')', ',', 'there', 'was', 'no', '``', 'companion', \"''\", ',', 'and', 'there', 'was', 'no', 'nursery', '.', 'There', 'was', 'also', 'no', '``', 'Grace', \"''\", '(', 'wife', 'of', 'the', 'original', 'doctor', ')', 'and', 'Hugh', 'Crain', \"'s\", 'wives', 'died', 'in', 'totally', 'different', 'ways', '.', 'These', 'changes', ',', 'changed', 'the', 'story', 'WAY', 'too', 'much', '.', 'I', 'do', \"n't\", 'know', 'whether', 'the', 'producers', 'of', 'this', 'movie', 'should', 'be', 'glad', 'Shirley', 'Jackson', 'no', 'longer', 'walks', 'this', 'earth', 'or', 'whether', 'they', 'should', '...', 'BE', 'SORRY', '(', 'if', 'ya', 'get', 'my', 'drift', '!', '!', '!', 'The', 'hauntings', 'she', 'could', 'envision', 'are', 'not', 'something', 'to', 'be', 'trifled', 'with', '!', '!', '!', ')', '.', '<', 'br', '/', '>', '<', 'br', '/', '>', 'In', 'conclusion', ',', 'let', 'me', 'just', 'leave', 'you', 'with', 'some', 'words', 'from', 'the', 'original', 'Luke', '(', 'appropriate', 'substitution', 'of', 'the', 'word', '``', 'house', \"''\", 'for', '``', 'movie', \"''\", '!', ')', ':', '``', 'This', \"'movie\", \"'\", 'should', 'be', 'burnt', 'to', 'the', 'ground', ',', 'and', 'the', 'ground', 'sprinkled', 'with', 'salt', '!', \"''\", 'My', 'favorite', 'movie', 'of', 'all', 'time', 'remains', 'so', '.', 'No', 'competition', 'from', 'this', 'one', '.'], ['OK', ',', 'I', 'knew', 'this', 'would', 'be', 'a', 'back', 'alley', 'F-film', '(', 'well', 'below', 'B-film', 'standards', ')', 'going', 'into', 'it', ',', 'so', 'I', 'thought', ',', '``', 'Man', ',', 'I', 'could', 'use', 'a', 'good', 'laugh', ',', 'so', 'let', \"'s\", 'see', 'some', 'nether-beings', 'kill', 'each', 'other', '.', \"''\", 'Well', ',', 'what', 'I', 'got', 'could', 'have', 'been', 'found', 'at', 'your', 'local', '``', 'love', 'toy', \"''\", 'store', '.', 'Random', 'lesbian', 'scenes', ',', 'very', 'little', 'fighting', ',', 'and', 'no', 'plot.', '<', 'br', '/', '>', '<', 'br', '/', '>', 'For', 'example', ',', 'one', 'scene', 'in', 'particular', 'I', 'remember', '(', 'for', 'its', 'sheer', 'stupidity', 'only', ';', 'I', \"'ve\", 'seen', 'better', 'porn', 'on', 'ABC', ')', 'is', 'where', 'the', 'two', 'main', 'characters', '(', 'I', 'ca', \"n't\", 'remember', 'their', 'names', 'offhand', '...', 'great', 'movie', ',', 'huh', '?', ')', 'are', 'driving', 'along', ',', 'as', 'they', 'mostly', 'did', ',', 'and', 'the', 'driver', 'was', 'tired', 'of', 'driving', 'and', 'stopped', ':', '<', 'br', '/', '>', '<', 'br', '/', '>', 'Driver', ':', '``', 'Let', \"'s\", 'pull', 'over', ',', 'I', \"'m\", 'tired', '.', 'You', 'want', 'to', 'take', 'over', '?', \"''\", 'Passenger', ':', '``', 'Sure', ',', 'I', 'can', 'drive', 'for', 'a', 'while', '.', \"''\", '(', 'Once', 'pulled', 'over', ',', 'the', 'driver', 'starts', 'grabbing', 'the', 'passenger', \"'s\", 'boobs', ')', 'Passenger', ':', '``', 'What', 'are', 'you', 'doing', '?', 'I', \"'m\", 'not', 'like', 'that', '!', \"''\", 'Driver', ':', '``', 'It', \"'s\", 'OK', ',', 'everyone', 'does', 'it', 'sometime', '.', \"''\", 'Passenger', ':', '``', 'OK', 'then', '.', \"''\", '(', 'Proceed', 'to', 'take', 'off', 'shirts', ',', 'fondle', ',', 'kiss', ',', 'and', 'perform', 'fellatio', ')', '<', 'br', '/', '>', '<', 'br', '/', '>', 'Now', ',', 'last', 'time', 'I', 'checked', ',', 'horror', 'films', 'were', 'not', 'in', 'the', 'porn', 'section', 'of', 'Hollywood', 'Video', '(', 'unless', 'you', \"'re\", 'into', 'S', '&', 'M', ',', 'then', 'you', 'go', 'elsewhere', ')', ',', 'and', 'it', 'definitely', 'should', \"n't\", 'be', 'in', 'the', 'mainstream', 'videos', 'at', 'Blockbuster', '.', 'Do', \"n't\", 'get', 'me', 'wrong', ';', 'I', \"'m\", 'definitely', 'not', 'one', 'of', 'those', 'people', 'who', 'hate', 'porn', ',', 'but', 'I', 'only', 'watch', 'it', 'when', 'appropriate', 'and', 'definitely', 'do', \"n't\", 'want', 'to', 'watch', 'it', 'if', 'I', \"'m\", 'looking', 'for', 'a', 'movie', 'in', 'the', 'mainstream', 'stores', ',', 'as', 'this', 'one', 'I', 'rented', 'was', 'at', 'one', 'of', 'the', 'two', 'retailers', 'I', 'named', '(', 'and', 'probably', 'at', 'the', 'other', 'too', 'if', 'I', 'went', 'and', 'looked', ')', '.', '<', 'br', '/', '>', '<', 'br', '/', '>', 'Worst', 'movie', 'ever', ',', 'no', 'one', 'should', 'rent', 'it', ',', 'and', 'it', 'should', 'only', 'be', 'bought', 'for', 'a', 'public', 'burning', 'ceremony', '.', 'If', 'I', 'could', 'give', 'it', 'a', '0', ',', 'I', 'would', ',', 'but', 'I', 'can', 'only', 'give', 'it', 'a', '*', 'of', '10', '.'], ['I', 'will', 'never', 'be', 'a', 'member', 'of', 'any', 'club', 'that', 'would', 'have', 'me', ',', '<', 'br', '/', '>', '<', 'br', '/', '>', 'especially', 'this', 'one.', '<', 'br', '/', '>', '<', 'br', '/', '>', 'Starr', 'Andreeff', 'is', 'a', 'single', 'mom/stripper', 'who', 'gets', 'attacked', 'by', 'a', '<', 'br', '/', '>', '<', 'br', '/', '>', 'female', 'vampire', 'and', 'left', 'for', 'dead', '.', 'She', 'begins', 'to', 'get', 'a', 'hankering', 'for', '<', 'br', '/', '>', '<', 'br', '/', '>', 'blood', ',', 'and', 'meets', 'up', 'with', 'John', 'Savage', ',', 'looking', 'like', 'he', \"'s\", '<', 'br', '/', '>', '<', 'br', '/', '>', 'wondering', 'where', 'he', 'left', 'Michael', 'Cimino', \"'s\", 'phone', 'number', '.', 'Savage', '<', 'br', '/', '>', '<', 'br', '/', '>', 'is', 'also', 'a', 'vampire', 'and', 'wants', 'to', 'let', 'Andreef', 'join', 'his', 'little', 'vampire', '<', 'br', '/', '>', '<', 'br', '/', '>', 'family', ',', 'which', 'consists', 'of', 'a', 'British', 'vamp', ',', 'the', 'blonde', 'vamp', 'who', '<', 'br', '/', '>', '<', 'br', '/', '>', 'attacked', 'Starr', ',', 'and', 'a', 'green', 'haired', 'midget', '(', 'I', 'am', 'not', 'making', 'this', '<', 'br', '/', '>', '<', 'br', '/', '>', 'up', ')', '.', '<', 'br', '/', '>', '<', 'br', '/', '>', 'The', 'family', 'does', 'not', 'want', 'Starr', ',', 'so', 'they', 'try', 'to', 'kill', 'Savage', 'and', 'Starr', '<', 'br', '/', '>', '<', 'br', '/', '>', 'and', 'Starr', \"'s\", 'kid.', '<', 'br', '/', '>', '<', 'br', '/', '>', 'Someone', 'forgot', 'to', 'tell', 'John', 'Savage', 'that', 'this', 'was', 'a', 'drama', '.', 'He', '<', 'br', '/', '>', '<', 'br', '/', '>', 'spends', 'most', 'of', 'his', 'screen', 'time', 'exhibiting', 'more', 'facial', 'tics', 'than', '<', 'br', '/', '>', '<', 'br', '/', '>', 'Hugh', 'Grant', 'on', 'a', 'Jolt', 'Cola', 'bender', ',', 'and', 'he', 'reads', 'all', 'of', 'his', 'lines', 'like', '<', 'br', '/', '>', '<', 'br', '/', '>', 'he', 'is', 'making', 'a', 'Farrelly', 'Brothers', 'film', '.', 'Andreeff', 'tries', 'to', 'make', 'the', '<', 'br', '/', '>', '<', 'br', '/', '>', 'most', 'of', 'a', 'badly', 'written', 'role', ',', 'but', 'screenwriter/director', 'Ruben', 'goes', '<', 'br', '/', '>', '<', 'br', '/', '>', 'for', 'all', 'the', 'vampire', 'cliches', ',', 'like', 'Starr', 'eating', 'her', 'son', \"'s\", 'pet', 'hamster', '<', 'br', '/', '>', '<', 'br', '/', '>', 'and', 'buying', 'a', 'lot', 'of', 'raw', 'meat', 'to', 'fight', 'the', 'craving', 'for', 'blood', '.', 'The', 'kid', '<', 'br', '/', '>', '<', 'br', '/', '>', 'also', 'gets', 'knocked', 'around', 'a', 'lot', ',', 'for', 'those', 'who', 'think', 'watching', '<', 'br', '/', '>', '<', 'br', '/', '>', 'violence', 'against', 'children', 'is', 'really', 'entertaining.', '<', 'br', '/', '>', '<', 'br', '/', '>', 'The', 'film', 'is', 'extra', 'gory', ',', 'but', 'not', 'in', 'a', 'wild', ',', 'over', 'the', 'top', 'way', 'like', '``', 'Killer', '<', 'br', '/', '>', '<', 'br', '/', '>', 'Tongue', '.', \"''\", 'Here', ',', 'the', 'gore', 'is', 'gross', 'and', 'never', 'justified', ',', 'it', 'just', 'occurs.', '<', 'br', '/', '>', '<', 'br', '/', '>', 'It', 'is', 'just', 'in', 'the', 'budget', '.', 'Most', 'of', 'the', 'R', 'rating', 'goes', 'to', 'Andreeff', \"'s\", '<', 'br', '/', '>', '<', 'br', '/', '>', 'coworkers', ',', 'who', 'are', 'put', 'through', 'embarassing', 'strip', 'routines', 'in', 'the', '<', 'br', '/', '>', '<', 'br', '/', '>', 'background', 'of', 'conversation', 'scenes', '.', 'The', 'budget', 'does', 'not', 'include', '<', 'br', '/', '>', '<', 'br', '/', '>', 'vampire', 'fangs', '!', 'All', 'the', 'vampires', 'here', 'must', 'stab', 'their', 'prey', 'to', 'eat.', '<', 'br', '/', '>', '<', 'br', '/', '>', 'Nifty', 'idea', ',', 'unless', 'you', 'have', 'already', 'seen', 'George', 'Romero', \"'s\", '<', 'br', '/', '>', '<', 'br', '/', '>', \"''\", 'Martin', '.', '``', '<', 'br', '/', '>', '<', 'br', '/', '>', 'Even', 'at', '77', 'minutes', ',', 'and', 'once', 'you', 'throw', 'in', 'Ruben', \"'s\", 'attempts', 'at', '<', 'br', '/', '>', '<', 'br', '/', '>', 'arty', 'direction', '(', 'skewed', 'frames', ',', 'blurred', 'scenes', ')', ',', 'this', 'is', 'one', '<', 'br', '/', '>', '<', 'br', '/', '>', 'tiresome', ',', 'dull', ',', 'and', 'dirty', 'ride', '.', 'Leave', 'this', 'club', 'and', 'take', 'a', 'shower', ',', '<', 'br', '/', '>', '<', 'br', '/', '>', 'you', 'will', 'need', 'it.', '<', 'br', '/', '>', '<', 'br', '/', '>', 'This', 'is', 'rated', '(', 'R', ')', 'for', 'strong', 'physical', 'violence', ',', 'gun', 'violence', ',', 'sexual', '<', 'br', '/', '>', '<', 'br', '/', '>', 'violence', ',', 'strong', 'gore', ',', 'strong', 'profanity', ',', 'female', 'nudity', ',', 'sexual', '<', 'br', '/', '>', '<', 'br', '/', '>', 'references', ',', 'drug', 'abuse', ',', 'and', 'adult', 'situations.', '<', 'br', '/', '>', '<', 'br', '/', '>'], ['This', 'movie', 'was', 'the', 'worst', 'movie', 'ever', 'made', 'on', 'the', 'planet', ',', 'I', 'like', 'BARNEY', 'more', 'than', 'this', 'movie', '.', 'The', 'graphics', 'suck', ',', 'half', 'the', 'movie', 'is', 'animated', ',', 'the', 'deaths', 'suck', ',', 'and', 'over', 'all', ',', 'I', 'was', 'ready', 'to', 'SUE', 'the', 'people', 'that', 'made', 'this', 'movie', '!', 'PLEASE', 'DO', 'NOT', 'WASTE', 'HOURS', 'OF', 'YOUR', 'LIFE', 'WATCHING', 'THIS', 'MOVIE', '.', 'The', 'only', 'good', 'part', 'was', 'when', 'the', 'movie', '*******', 'ended', '!', 'This', 'movie', 'is', '50', 'percent', 'Jurassic', 'park', ',', '.1', 'percent', 'Sabretooth', ',', 'and', '49.9', 'percent', 'DUMB', '!', 'Please', 'do', 'not', 'waste', 'your', 'time', 'watching', 'this', 'movie', ',', 'you', 'will', 'regret', 'it.You', 'want', 'to', 'know', 'why', 'this', 'movie', 'sucks', '?', 'Well', ',', 'the', 'cover', 'sucked', ',', 'the', 'graphics', 'sucked', ',', 'the', 'blood', 'looked', '(', 'I', 'mean', 'is', ')', 'ketchup', ',', 'the', 'people', 'tried', 'to', 'blow', 'themselves', 'up', ',', 'the', 'college', 'students', 'think', 'there', 'all', 'that', 'and', 'can', 'stand', 'up', 'to', 'the', 'animal', '.', 'I', 'mean', ',', 'there', 'was', 'a', '5', 'ft.', 'tiger', 'running', 'straight', 'at', 'a', 'woman', ',', 'she', 'throws', 'a', 'spear', 'at', 'it', 'from', '100', 'ft', 'away', '!', 'WAIT', 'TILL', 'YOU', 'CAN', 'Actually', 'HIT', 'IT', '!', 'The', 'acting', 'was', 'horrible', 'too', '.', 'Jurrasic', 'Park', 'is', 'actually', 'a', 'good', 'movie', ',', 'and', 'this', 'just', 'had', 'to', 'go', 'and', 'ruin', 'it', '.'], ['The', 'DVD', 'was', 'a', 'joke', ',', 'the', 'audio', 'for', 'the', 'first', 'few', 'minutes', 'was', 'terrible', 'with', 'sound', 'out', 'of', 'sync', 'and', 'Segals', 'voice', 'not', 'even', 'his', '!', '!', '!', '!', 'Pathetic', '!', 'When', 'the', 'audio', 'sync', 'was', 'better', 'in', 'about', '5', 'minutes', 'the', 'poor', 'plot', ',', 'lines', 'and', 'actors', 'should', 'get', 'another', 'job', 'because', 'the', 'movie', 'business', 'is', 'not', 'where', 'any', 'of', 'them', 'should', 'be.', '<', 'br', '/', '>', '<', 'br', '/', '>', 'While', 'Segal', 'had', 'some', 'good', 'movies', 'in', 'the', 'early', 'days', 'the', 'latest', 'ones', 'are', 'a', 'joke', 'and', 'should', 'be', 'a', 'an', 'embarrassment', 'to', 'him', 'and', 'the', 'company', 'that', 'made', 'it.', '<', 'br', '/', '>', '<', 'br', '/', '>', 'If', 'Segal', 'was', 'the', 'one', 'that', 'handled', 'this', 'he', 'better', 'return', 'to', 'having', 'another', 'party', 'run', 'the', 'show', ',', 'because', 'he', 'has', 'no', 'talent', 'what', 'so', 'ever', 'in', 'this.', '<', 'br', '/', '>', '<', 'br', '/', '>', 'This', 'film', 'is', 'a', 'complete', 'embarrassment', 'to', 'all', 'involved', 'in', 'its', 'production', 'and', 'a', 'disgrace', 'to', 'all', 'who', 'viewed', 'it', '.', 'I', 'turned', 'it', 'off', 'in', 'about', '20', 'minutes.', '<', 'br', '/', '>', '<', 'br', '/', '>', 'I', 'will', 'be', 'asking', 'for', 'my', 'money', 'back', 'at', 'Block', 'Buster', '!', 'Mark', 'from', 'Ontario', ',', 'Canada']]\n",
            "[['how', 'viewers', 'react', 'to', 'this', 'new', 'adaption', 'of', 'shirley', 'jackson', 'book', 'which', 'was', 'promoted', 'as', 'not', 'being', 'a', 'remake', 'of', 'the', 'original', 'movie', 'true', 'enough', 'will', 'be', 'based', 'i', 'suspect', 'on', 'the', 'following', 'those', 'who', 'were', 'big', 'fans', 'of', 'either', 'the', 'book', 'or', 'original', 'movie', 'are', 'not', 'going', 'to', 'think', 'much', 'of', 'this', 'one', 'and', 'those', 'who', 'have', 'never', 'been', 'exposed', 'to', 'either', 'and', 'who', 'are', 'big', 'fans', 'of', 'hollywood', 'current', 'trend', 'towards', 'special', 'effects', 'being', 'the', 'first', 'and', 'last', 'word', 'in', 'how', 'good', 'a', 'film', 'is', 'are', 'going', 'to', 'love', 'br', 'br', 'things', 'i', 'did', 'not', 'like', 'about', 'this', 'adaption', 'br', 'br', 'it', 'was', 'not', 'a', 'true', 'adaption', 'of', 'the', 'book', 'from', 'the', 'articles', 'i', 'had', 'read', 'this', 'movie', 'was', 'supposed', 'to', 'cover', 'other', 'aspects', 'in', 'the', 'book', 'that', 'the', 'first', 'one', 'never', 'got', 'around', 'to', 'and', 'that', 'seemed', 'reasonable', 'no', 'film', 'can', 'cover', 'a', 'book', 'word', 'for', 'word', 'unless', 'it', 'is', 'the', 'length', 'of', 'the', 'stand', '!', 'and', 'not', 'even', 'then', 'but', 'there', 'were', 'things', 'in', 'this', 'movie', 'that', 'were', 'never', 'by', 'any', 'means', 'ever', 'mentioned', 'or', 'even', 'hinted', 'at', 'in', 'the', 'movie', 'reminded', 'me', 'of', 'the', 'way', 'they', 'decided', 'to', 'kill', 'off', 'the', 'black', 'man', 'in', 'the', 'original', 'movie', 'version', 'of', 'the', 'shining', 'i', 'did', \"n't\", 'like', 'that', 'either', 'what', 'the', 'movie', 'press', 'release', 'should', 'have', 'said', 'is', 'we', 'got', 'the', 'basic', 'very', 'basic', 'idea', 'from', 'shirley', 'jackson', 'book', 'we', 'kept', 'the', 'same', 'names', 'of', 'the', 'house', 'and', 'several', 'though', 'not', 'all', 'of', 'the', 'leading', 'character', 'names', 'but', 'then', 'we', 'decided', 'to', 'write', 'our', 'own', 'story', 'and', 'what', 'the', 'heck', 'we', 'watched', 'the', 'changeling', 'and', 'the', 'shining', 'and', 'ghost', 'first', 'and', 'decided', 'to', 'throw', 'in', 'a', 'bit', 'of', 'them', 'too', 'br', 'br', 'they', 'completely', 'lost', 'the', 'theme', 'of', 'a', 'parapyschologist', 'inviting', 'carefully', 'picked', 'guest', 'who', 'had', 'all', 'had', 'brushes', 'with', 'the', 'paranormal', 'in', 'their', 'pasts', 'to', 'investigate', 'a', 'house', 'that', 'truly', 'seemed', 'to', 'have', 'been', 'born', 'bad', 'no', 'instead', 'this', 'doctor', 'got', 'everyone', 'to', 'the', 'house', 'under', 'the', 'false', 'pretense', 'of', 'studying', 'their', 'insomnia', 'he', 'really', 'invited', 'them', 'there', 'to', 'scare', 'them', 'to', 'death', 'and', 'then', 'see', 'how', 'they', 'reacted', 'to', 'their', 'fear', 'like', 'lab', 'rats', 'who', 'he', 'mentioned', 'never', 'got', 'told', 'they', 'are', 'part', 'of', 'an', 'experiment', 'nice', 'guy', 'this', 'doctor', 'who', 'did', 'not', 'have', 'the', 'same', 'name', 'by', 'the', 'way', 'was', 'as', 'different', 'from', 'the', 'dedicated', 'professional', 'of', 'the', 'original', 'movie', 'as', 'night', 'from', 'br', 'br', 'in', 'direct', 'contrast', 'to', 'the', 'statement', 'that', 'was', 'used', 'to', 'promote', 'both', 'movies', 'some', 'houses', 'are', 'just', 'born', 'bad', 'this', 'house', 'was', 'not', 'born', 'bad', 'but', 'rather', 'became', 'bad', 'because', 'of', 'what', 'happened', 'there', 'and', 'this', 'time', 'around', 'nel', 'gets', 'to', 'unravel', 'the', 'mystery', 'shades', 'of', 'the', 'changeling', 'the', 'only', 'problem', 'was', 'the', 'so-called', 'mystery', 'was', 'so', 'incoherently', 'told', 'that', 'i', 'sure', 'it', 'remained', 'a', 'mystery', 'to', 'most', 'of', 'the', 'audience', 'but', 'then', 'there', 'was', 'no', 'mystery', 'in', 'the', 'first', 'place', 'not', 'in', 'the', 'book', 'because', 'the', 'house', 'was', 'bad', 'to', 'begin', 'with', 'it', 'first', 'victim', 'died', 'before', 'ever', 'setting', 'eyes', 'on', 'br', 'br', 'the', 'way', 'the', 'character', 'of', 'luke', 'was', 'portrayed', 'was', 'absolutely', 'ridiculous', 'he', 'was', 'supposed', 'to', 'be', 'a', 'debonair', 'playboy', 'who', 'was', 'someday', 'to', 'inherit', 'the', 'house', 'and', 'was', 'a', 'true', 'skeptic', 'of', 'it', 'history', 'and', 'in', 'this', 'one', 'he', 'was', 'just', 'a', 'winey-voiced', 'bumbling', 'nerd', 'who', 'could', \"n't\", 'sleep', 'insomnia', 'remember', 'and', 'was', 'a', 'compulsive', 'br', 'br', 'i', 'was', 'also', 'annoyed', 'with', 'the', 'way', 'the', 'movie', 'jumped', 'from', 'almost', 'trying', 'to', 'recreate', 'original', 'scenes', 'word', 'for', 'word', 'the', 'scene', 'with', 'nel', 'sister', 'family', 'and', 'dudley', 'little', 'opening', 'speech', 'to', 'going', 'off', 'into', 'flights', 'of', 'fancy', 'that', 'made', 'me', 'think', 'more', 'of', 'these', 'other', 'movies', 'than', 'the', 'haunting', 'it', 'like', 'it', 'could', \"n't\", 'make', 'up', 'its', 'mind', 'what', 'it', 'wanted', 'to', 'br', 'br', 'i', 'missed', 'nel', 'narrative', 'through', 'the', 'whole', 'movie', 'the', 'original', 'was', 'so', 'like', 'a', 'gothic', 'novel', 'in', 'the', 'way', 'that', 'the', 'story', 'was', 'mostly', 'told', 'in', 'the', 'first', 'person', 'through', 'nel', 'eyes', 'and', 'we', 'always', 'were', 'privy', 'to', 'her', 'thoughts', 'that', 'totally', 'unique', 'touch', 'was', 'completely', 'lost', 'in', 'the', 'new', 'version', 'they', 'also', 'tried', 'to', 'make', 'nel', 'much', 'more', 'of', 'a', 'heroine', 'the', 'original', 'nel', 'was', 'not', 'a', 'bad', 'person', 'but', 'she', 'was', 'a', 'bitter', 'person', 'could', 'she', 'be', 'otherwise', 'after', 'sacrificing', 'years', 'of', 'her', 'life', 'to', 'a', 'selfish', 'old', 'woman', 'and', 'a', 'spiteful', 'sister', '?', 'and', 'she', 'liked', 'to', 'moan', 'and', 'she', 'lost', 'her', 'temper', 'this', 'one', 'was', 'almost', 'too', 'good', 'to', 'be', 'true', 'this', 'was', 'never', 'more', 'apparent', 'than', 'in', 'the', 'climax', 'of', 'the', 'movie', 'where', 'the', 'writer', 'had', 'obviously', 'been', 'watching', 'ghost', 'one', 'too', 'many', 'br', 'br', 'they', 'changed', 'the', 'history', 'of', 'the', 'house', 'and', 'it', 'occupents', 'too', 'much', 'there', 'was', 'no', 'abigail', 'crain', 'the', 'daughter', 'of', 'hugh', 'whose', 'legend', 'loomed', 'large', 'in', 'the', 'original', 'versions', 'there', 'was', 'no', 'companion', 'and', 'there', 'was', 'no', 'nursery', 'there', 'was', 'also', 'no', 'grace', 'wife', 'of', 'the', 'original', 'doctor', 'and', 'hugh', 'crain', 'wives', 'died', 'in', 'totally', 'different', 'ways', 'these', 'changes', 'changed', 'the', 'story', 'way', 'too', 'much', 'i', 'do', \"n't\", 'know', 'whether', 'the', 'producers', 'of', 'this', 'movie', 'should', 'be', 'glad', 'shirley', 'jackson', 'no', 'longer', 'walks', 'this', 'earth', 'or', 'whether', 'they', 'should', 'be', 'sorry', 'if', 'ya', 'get', 'my', 'drift', '!', '!', '!', 'the', 'hauntings', 'she', 'could', 'envision', 'are', 'not', 'something', 'to', 'be', 'trifled', 'with', '!', '!', '!', 'br', 'br', 'in', 'conclusion', 'let', 'me', 'just', 'leave', 'you', 'with', 'some', 'words', 'from', 'the', 'original', 'luke', 'appropriate', 'substitution', 'of', 'the', 'word', 'house', 'for', 'movie', '!', 'this', 'should', 'be', 'burnt', 'to', 'the', 'ground', 'and', 'the', 'ground', 'sprinkled', 'with', 'salt', '!', 'my', 'favorite', 'movie', 'of', 'all', 'time', 'remains', 'so', 'no', 'competition', 'from', 'this', 'one'], ['ok', 'i', 'knew', 'this', 'would', 'be', 'a', 'back', 'alley', 'f-film', 'well', 'below', 'b-film', 'standards', 'going', 'into', 'it', 'so', 'i', 'thought', 'man', 'i', 'could', 'use', 'a', 'good', 'laugh', 'so', 'let', 'see', 'some', 'nether-beings', 'kill', 'each', 'other', 'well', 'what', 'i', 'got', 'could', 'have', 'been', 'found', 'at', 'your', 'local', 'love', 'toy', 'store', 'random', 'lesbian', 'scenes', 'very', 'little', 'fighting', 'and', 'no', 'br', 'br', 'for', 'example', 'one', 'scene', 'in', 'particular', 'i', 'remember', 'for', 'its', 'sheer', 'stupidity', 'only', 'i', 'seen', 'better', 'porn', 'on', 'abc', 'is', 'where', 'the', 'two', 'main', 'characters', 'i', 'ca', \"n't\", 'remember', 'their', 'names', 'offhand', 'great', 'movie', 'huh', '?', 'are', 'driving', 'along', 'as', 'they', 'mostly', 'did', 'and', 'the', 'driver', 'was', 'tired', 'of', 'driving', 'and', 'stopped', 'br', 'br', 'driver', 'let', 'pull', 'over', 'i', 'tired', 'you', 'want', 'to', 'take', 'over', '?', 'passenger', 'sure', 'i', 'can', 'drive', 'for', 'a', 'while', 'once', 'pulled', 'over', 'the', 'driver', 'starts', 'grabbing', 'the', 'passenger', 'boobs', 'passenger', 'what', 'are', 'you', 'doing', '?', 'i', 'not', 'like', 'that', '!', 'driver', 'it', 'ok', 'everyone', 'does', 'it', 'sometime', 'passenger', 'ok', 'then', 'proceed', 'to', 'take', 'off', 'shirts', 'fondle', 'kiss', 'and', 'perform', 'fellatio', 'br', 'br', 'now', 'last', 'time', 'i', 'checked', 'horror', 'films', 'were', 'not', 'in', 'the', 'porn', 'section', 'of', 'hollywood', 'video', 'unless', 'you', 'into', 's', 'm', 'then', 'you', 'go', 'elsewhere', 'and', 'it', 'definitely', 'should', \"n't\", 'be', 'in', 'the', 'mainstream', 'videos', 'at', 'blockbuster', 'do', \"n't\", 'get', 'me', 'wrong', 'i', 'definitely', 'not', 'one', 'of', 'those', 'people', 'who', 'hate', 'porn', 'but', 'i', 'only', 'watch', 'it', 'when', 'appropriate', 'and', 'definitely', 'do', \"n't\", 'want', 'to', 'watch', 'it', 'if', 'i', 'looking', 'for', 'a', 'movie', 'in', 'the', 'mainstream', 'stores', 'as', 'this', 'one', 'i', 'rented', 'was', 'at', 'one', 'of', 'the', 'two', 'retailers', 'i', 'named', 'and', 'probably', 'at', 'the', 'other', 'too', 'if', 'i', 'went', 'and', 'looked', 'br', 'br', 'worst', 'movie', 'ever', 'no', 'one', 'should', 'rent', 'it', 'and', 'it', 'should', 'only', 'be', 'bought', 'for', 'a', 'public', 'burning', 'ceremony', 'if', 'i', 'could', 'give', 'it', 'a', 'i', 'would', 'but', 'i', 'can', 'only', 'give', 'it', 'a', 'of'], ['i', 'will', 'never', 'be', 'a', 'member', 'of', 'any', 'club', 'that', 'would', 'have', 'me', 'br', 'br', 'especially', 'this', 'br', 'br', 'starr', 'andreeff', 'is', 'a', 'single', 'who', 'gets', 'attacked', 'by', 'a', 'br', 'br', 'female', 'vampire', 'and', 'left', 'for', 'dead', 'she', 'begins', 'to', 'get', 'a', 'hankering', 'for', 'br', 'br', 'blood', 'and', 'meets', 'up', 'with', 'john', 'savage', 'looking', 'like', 'he', 'br', 'br', 'wondering', 'where', 'he', 'left', 'michael', 'cimino', 'phone', 'number', 'savage', 'br', 'br', 'is', 'also', 'a', 'vampire', 'and', 'wants', 'to', 'let', 'andreef', 'join', 'his', 'little', 'vampire', 'br', 'br', 'family', 'which', 'consists', 'of', 'a', 'british', 'vamp', 'the', 'blonde', 'vamp', 'who', 'br', 'br', 'attacked', 'starr', 'and', 'a', 'green', 'haired', 'midget', 'i', 'am', 'not', 'making', 'this', 'br', 'br', 'up', 'br', 'br', 'the', 'family', 'does', 'not', 'want', 'starr', 'so', 'they', 'try', 'to', 'kill', 'savage', 'and', 'starr', 'br', 'br', 'and', 'starr', 'br', 'br', 'someone', 'forgot', 'to', 'tell', 'john', 'savage', 'that', 'this', 'was', 'a', 'drama', 'he', 'br', 'br', 'spends', 'most', 'of', 'his', 'screen', 'time', 'exhibiting', 'more', 'facial', 'tics', 'than', 'br', 'br', 'hugh', 'grant', 'on', 'a', 'jolt', 'cola', 'bender', 'and', 'he', 'reads', 'all', 'of', 'his', 'lines', 'like', 'br', 'br', 'he', 'is', 'making', 'a', 'farrelly', 'brothers', 'film', 'andreeff', 'tries', 'to', 'make', 'the', 'br', 'br', 'most', 'of', 'a', 'badly', 'written', 'role', 'but', 'ruben', 'goes', 'br', 'br', 'for', 'all', 'the', 'vampire', 'cliches', 'like', 'starr', 'eating', 'her', 'son', 'pet', 'hamster', 'br', 'br', 'and', 'buying', 'a', 'lot', 'of', 'raw', 'meat', 'to', 'fight', 'the', 'craving', 'for', 'blood', 'the', 'kid', 'br', 'br', 'also', 'gets', 'knocked', 'around', 'a', 'lot', 'for', 'those', 'who', 'think', 'watching', 'br', 'br', 'violence', 'against', 'children', 'is', 'really', 'br', 'br', 'the', 'film', 'is', 'extra', 'gory', 'but', 'not', 'in', 'a', 'wild', 'over', 'the', 'top', 'way', 'like', 'killer', 'br', 'br', 'tongue', 'here', 'the', 'gore', 'is', 'gross', 'and', 'never', 'justified', 'it', 'just', 'br', 'br', 'it', 'is', 'just', 'in', 'the', 'budget', 'most', 'of', 'the', 'r', 'rating', 'goes', 'to', 'andreeff', 'br', 'br', 'coworkers', 'who', 'are', 'put', 'through', 'embarassing', 'strip', 'routines', 'in', 'the', 'br', 'br', 'background', 'of', 'conversation', 'scenes', 'the', 'budget', 'does', 'not', 'include', 'br', 'br', 'vampire', 'fangs', '!', 'all', 'the', 'vampires', 'here', 'must', 'stab', 'their', 'prey', 'to', 'br', 'br', 'nifty', 'idea', 'unless', 'you', 'have', 'already', 'seen', 'george', 'romero', 'br', 'br', 'martin', 'br', 'br', 'even', 'at', 'minutes', 'and', 'once', 'you', 'throw', 'in', 'ruben', 'attempts', 'at', 'br', 'br', 'arty', 'direction', 'skewed', 'frames', 'blurred', 'scenes', 'this', 'is', 'one', 'br', 'br', 'tiresome', 'dull', 'and', 'dirty', 'ride', 'leave', 'this', 'club', 'and', 'take', 'a', 'shower', 'br', 'br', 'you', 'will', 'need', 'br', 'br', 'this', 'is', 'rated', 'r', 'for', 'strong', 'physical', 'violence', 'gun', 'violence', 'sexual', 'br', 'br', 'violence', 'strong', 'gore', 'strong', 'profanity', 'female', 'nudity', 'sexual', 'br', 'br', 'references', 'drug', 'abuse', 'and', 'adult', 'br', 'br'], ['this', 'movie', 'was', 'the', 'worst', 'movie', 'ever', 'made', 'on', 'the', 'planet', 'i', 'like', 'barney', 'more', 'than', 'this', 'movie', 'the', 'graphics', 'suck', 'half', 'the', 'movie', 'is', 'animated', 'the', 'deaths', 'suck', 'and', 'over', 'all', 'i', 'was', 'ready', 'to', 'sue', 'the', 'people', 'that', 'made', 'this', 'movie', '!', 'please', 'do', 'not', 'waste', 'hours', 'of', 'your', 'life', 'watching', 'this', 'movie', 'the', 'only', 'good', 'part', 'was', 'when', 'the', 'movie', 'ended', '!', 'this', 'movie', 'is', 'percent', 'jurassic', 'park', 'percent', 'sabretooth', 'and', 'percent', 'dumb', '!', 'please', 'do', 'not', 'waste', 'your', 'time', 'watching', 'this', 'movie', 'you', 'will', 'regret', 'want', 'to', 'know', 'why', 'this', 'movie', 'sucks', '?', 'well', 'the', 'cover', 'sucked', 'the', 'graphics', 'sucked', 'the', 'blood', 'looked', 'i', 'mean', 'is', 'ketchup', 'the', 'people', 'tried', 'to', 'blow', 'themselves', 'up', 'the', 'college', 'students', 'think', 'there', 'all', 'that', 'and', 'can', 'stand', 'up', 'to', 'the', 'animal', 'i', 'mean', 'there', 'was', 'a', 'tiger', 'running', 'straight', 'at', 'a', 'woman', 'she', 'throws', 'a', 'spear', 'at', 'it', 'from', 'ft', 'away', '!', 'wait', 'till', 'you', 'can', 'actually', 'hit', 'it', '!', 'the', 'acting', 'was', 'horrible', 'too', 'jurrasic', 'park', 'is', 'actually', 'a', 'good', 'movie', 'and', 'this', 'just', 'had', 'to', 'go', 'and', 'ruin', 'it'], ['the', 'dvd', 'was', 'a', 'joke', 'the', 'audio', 'for', 'the', 'first', 'few', 'minutes', 'was', 'terrible', 'with', 'sound', 'out', 'of', 'sync', 'and', 'segals', 'voice', 'not', 'even', 'his', '!', '!', '!', '!', 'pathetic', '!', 'when', 'the', 'audio', 'sync', 'was', 'better', 'in', 'about', 'minutes', 'the', 'poor', 'plot', 'lines', 'and', 'actors', 'should', 'get', 'another', 'job', 'because', 'the', 'movie', 'business', 'is', 'not', 'where', 'any', 'of', 'them', 'should', 'br', 'br', 'while', 'segal', 'had', 'some', 'good', 'movies', 'in', 'the', 'early', 'days', 'the', 'latest', 'ones', 'are', 'a', 'joke', 'and', 'should', 'be', 'a', 'an', 'embarrassment', 'to', 'him', 'and', 'the', 'company', 'that', 'made', 'br', 'br', 'if', 'segal', 'was', 'the', 'one', 'that', 'handled', 'this', 'he', 'better', 'return', 'to', 'having', 'another', 'party', 'run', 'the', 'show', 'because', 'he', 'has', 'no', 'talent', 'what', 'so', 'ever', 'in', 'br', 'br', 'this', 'film', 'is', 'a', 'complete', 'embarrassment', 'to', 'all', 'involved', 'in', 'its', 'production', 'and', 'a', 'disgrace', 'to', 'all', 'who', 'viewed', 'it', 'i', 'turned', 'it', 'off', 'in', 'about', 'br', 'br', 'i', 'will', 'be', 'asking', 'for', 'my', 'money', 'back', 'at', 'block', 'buster', '!', 'mark', 'from', 'ontario', 'canada']]\n"
          ],
          "name": "stdout"
        }
      ]
    },
    {
      "metadata": {
        "id": "bpggN67wRqI3",
        "colab_type": "code",
        "colab": {
          "base_uri": "https://localhost:8080/",
          "height": 173
        },
        "outputId": "e69d1e13-32f0-4a98-d9a7-b594c86dfea6"
      },
      "cell_type": "code",
      "source": [
        "model_ted = Word2Vec(sentences=positive_tokenized, size=100, window=5, min_count=5, workers=1, sg=0, seed=42)\n",
        "model_ted.wv.most_similar(\"brother\")\n",
        "\n",
        "print(np.linalg.norm(model_ted.wv['man'] - model_ted.wv['woman']))\n",
        "print(np.linalg.norm(model_ted.wv['father'] - model_ted.wv['mother']))\n",
        "print(np.linalg.norm(model_ted.wv['brother'] - model_ted.wv['sister']))\n",
        "print(np.linalg.norm(model_ted.wv['house'] - model_ted.wv['road']))  ### boat or ship does not exist in the corpus so we get an error if we use them\n",
        "\n",
        "print(np.linalg.norm(model_ted.wv['father'] - model_ted.wv['mother']))\n",
        "print(np.linalg.norm(model_ted.wv['sister'] - model_ted.wv['mother']))"
      ],
      "execution_count": 11,
      "outputs": [
        {
          "output_type": "stream",
          "text": [
            "1.0623424\n",
            "0.6094943\n",
            "0.12904908\n",
            "1.8528767\n",
            "0.6094943\n",
            "0.6138573\n"
          ],
          "name": "stdout"
        },
        {
          "output_type": "stream",
          "text": [
            "/usr/local/lib/python3.6/dist-packages/gensim/matutils.py:737: FutureWarning: Conversion of the second argument of issubdtype from `int` to `np.signedinteger` is deprecated. In future, it will be treated as `np.int64 == np.dtype(int).type`.\n",
            "  if np.issubdtype(vec.dtype, np.int):\n"
          ],
          "name": "stderr"
        }
      ]
    },
    {
      "metadata": {
        "id": "j8YFEiQdRUO3",
        "colab_type": "code",
        "colab": {}
      },
      "cell_type": "code",
      "source": [
        "features = np.array(stripped_positive_tokenized + stripped_negative_tokenized)\n",
        "labels = np.concatenate([positive_labels, negative_labels])\n",
        "# print(features.shape)\n",
        "# print(features)\n",
        "# print(labels.shape)\n",
        "# print(labels)\n",
        "\n",
        "from keras.preprocessing import text\n",
        "\n",
        "\n",
        "# GitHub reference: https://github.com/tensorflow/workshops/blob/master/extras/keras-bag-of-words/keras-bow-model.ipynb\n",
        "# Blog: https://cloud.google.com/blog/products/gcp/intro-to-text-classification-with-keras-automatically-tagging-stack-overflow-posts\n",
        "\n",
        "vocab_size = 1000\n",
        "tokenize = text.Tokenizer(num_words=vocab_size, char_level=False)\n",
        "tokenize.fit_on_texts(features)\n",
        "tokenized_features = tokenize.texts_to_matrix(features)\n",
        "\n",
        "\n",
        "from sklearn.model_selection import train_test_split\n",
        "x_train, x_test, y_train, y_test = train_test_split(tokenized_features, labels, test_size=0.25)\n",
        "\n",
        "print(x_train[1])\n",
        "# print(x_train.shape)\n",
        "# print(x_test.shape)\n",
        "# print(y_train.shape)\n",
        "# print(y_test.shape)"
      ],
      "execution_count": 0,
      "outputs": []
    },
    {
      "metadata": {
        "id": "dnu21deYOkDE",
        "colab_type": "text"
      },
      "cell_type": "markdown",
      "source": [
        "**Simple models**\n",
        "\n",
        "- Logistic\n",
        "- Random Forst\n",
        "- LSTM\n",
        "- GRU\n",
        "- CNN\n",
        "\n",
        "**Vectorisation techniques**\n",
        "- Bag of Words\n",
        "- Word2Vec\n",
        "- TFIDF (probability scores)\n",
        "- FastText\n",
        "- Glove"
      ]
    },
    {
      "metadata": {
        "id": "Ia49ffAePy88",
        "colab_type": "code",
        "colab": {
          "base_uri": "https://localhost:8080/",
          "height": 34
        },
        "outputId": "35653a99-5454-4559-f5fd-84317e666117"
      },
      "cell_type": "code",
      "source": [
        "from sklearn.linear_model import LogisticRegression\n",
        "\n",
        "# all parameters not specified are set to their defaults\n",
        "logisticRegr = LogisticRegression()\n",
        "\n",
        "logisticRegr.fit(x_train, y_train)\n",
        "\n",
        "score = logisticRegr.score(x_test, y_test)\n",
        "print(\"Score: \", score)\n",
        "y_test = logisticRegr.predict(x_test)"
      ],
      "execution_count": 87,
      "outputs": [
        {
          "output_type": "stream",
          "text": [
            "Score:  0.73\n"
          ],
          "name": "stdout"
        }
      ]
    },
    {
      "metadata": {
        "id": "MsRBh5AVVRUL",
        "colab_type": "code",
        "colab": {}
      },
      "cell_type": "code",
      "source": [
        ""
      ],
      "execution_count": 0,
      "outputs": []
    }
  ]
}