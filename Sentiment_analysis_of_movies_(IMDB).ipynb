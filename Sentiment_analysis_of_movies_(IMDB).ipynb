{
  "nbformat": 4,
  "nbformat_minor": 0,
  "metadata": {
    "colab": {
      "name": "Sentiment analysis of movies (IMDB).ipynb",
      "version": "0.3.2",
      "provenance": [],
      "collapsed_sections": []
    },
    "kernelspec": {
      "name": "python3",
      "display_name": "Python 3"
    }
  },
  "cells": [
    {
      "metadata": {
        "id": "A0XMzfB5_EtE",
        "colab_type": "text"
      },
      "cell_type": "markdown",
      "source": [
        "### Sentiment analysis of movie (IMDB) reviews using dataset provided by the ACL 2011 paper, see http://ai.stanford.edu/~amaas/data/sentiment/.\n",
        "\n",
        "#### Dataset can be downloaded separately from http://ai.stanford.edu/~amaas/data/sentiment/aclImdb_v1.tar.gz, but wont be necessary as the download process has been embedded in the notebook and source file."
      ]
    },
    {
      "metadata": {
        "id": "CML_IG6z-iwM",
        "colab_type": "code",
        "colab": {
          "base_uri": "https://localhost:8080/",
          "height": 406
        },
        "outputId": "ed907d98-b14f-42a8-c0a4-5b8a3082c9f5"
      },
      "cell_type": "code",
      "source": [
        "!pip install nltk\n",
        "!pip install --upgrade gensim\n",
        "\n",
        "import numpy as np\n",
        "import os\n",
        "import os.path\n",
        "\n",
        "from nltk.tokenize import word_tokenize\n",
        "import nltk\n",
        "nltk.download('punkt')\n",
        "\n",
        "import glob\n",
        "from gensim.models import Word2Vec\n",
        "\n",
        "import time"
      ],
      "execution_count": 62,
      "outputs": [
        {
          "output_type": "stream",
          "text": [
            "Requirement already satisfied: nltk in /usr/local/lib/python3.6/dist-packages (3.2.5)\n",
            "Requirement already satisfied: six in /usr/local/lib/python3.6/dist-packages (from nltk) (1.11.0)\n",
            "Requirement already up-to-date: gensim in /usr/local/lib/python3.6/dist-packages (3.6.0)\n",
            "Requirement already satisfied, skipping upgrade: six>=1.5.0 in /usr/local/lib/python3.6/dist-packages (from gensim) (1.11.0)\n",
            "Requirement already satisfied, skipping upgrade: scipy>=0.18.1 in /usr/local/lib/python3.6/dist-packages (from gensim) (0.19.1)\n",
            "Requirement already satisfied, skipping upgrade: numpy>=1.11.3 in /usr/local/lib/python3.6/dist-packages (from gensim) (1.14.6)\n",
            "Requirement already satisfied, skipping upgrade: smart-open>=1.2.1 in /usr/local/lib/python3.6/dist-packages (from gensim) (1.7.1)\n",
            "Requirement already satisfied, skipping upgrade: bz2file in /usr/local/lib/python3.6/dist-packages (from smart-open>=1.2.1->gensim) (0.98)\n",
            "Requirement already satisfied, skipping upgrade: boto>=2.32 in /usr/local/lib/python3.6/dist-packages (from smart-open>=1.2.1->gensim) (2.49.0)\n",
            "Requirement already satisfied, skipping upgrade: boto3 in /usr/local/lib/python3.6/dist-packages (from smart-open>=1.2.1->gensim) (1.9.25)\n",
            "Requirement already satisfied, skipping upgrade: requests in /usr/local/lib/python3.6/dist-packages (from smart-open>=1.2.1->gensim) (2.18.4)\n",
            "Requirement already satisfied, skipping upgrade: jmespath<1.0.0,>=0.7.1 in /usr/local/lib/python3.6/dist-packages (from boto3->smart-open>=1.2.1->gensim) (0.9.3)\n",
            "Requirement already satisfied, skipping upgrade: s3transfer<0.2.0,>=0.1.10 in /usr/local/lib/python3.6/dist-packages (from boto3->smart-open>=1.2.1->gensim) (0.1.13)\n",
            "Requirement already satisfied, skipping upgrade: botocore<1.13.0,>=1.12.25 in /usr/local/lib/python3.6/dist-packages (from boto3->smart-open>=1.2.1->gensim) (1.12.25)\n",
            "Requirement already satisfied, skipping upgrade: certifi>=2017.4.17 in /usr/local/lib/python3.6/dist-packages (from requests->smart-open>=1.2.1->gensim) (2018.10.15)\n",
            "Requirement already satisfied, skipping upgrade: idna<2.7,>=2.5 in /usr/local/lib/python3.6/dist-packages (from requests->smart-open>=1.2.1->gensim) (2.6)\n",
            "Requirement already satisfied, skipping upgrade: urllib3<1.23,>=1.21.1 in /usr/local/lib/python3.6/dist-packages (from requests->smart-open>=1.2.1->gensim) (1.22)\n",
            "Requirement already satisfied, skipping upgrade: chardet<3.1.0,>=3.0.2 in /usr/local/lib/python3.6/dist-packages (from requests->smart-open>=1.2.1->gensim) (3.0.4)\n",
            "Requirement already satisfied, skipping upgrade: python-dateutil<3.0.0,>=2.1; python_version >= \"2.7\" in /usr/local/lib/python3.6/dist-packages (from botocore<1.13.0,>=1.12.25->boto3->smart-open>=1.2.1->gensim) (2.5.3)\n",
            "Requirement already satisfied, skipping upgrade: docutils>=0.10 in /usr/local/lib/python3.6/dist-packages (from botocore<1.13.0,>=1.12.25->boto3->smart-open>=1.2.1->gensim) (0.14)\n",
            "[nltk_data] Downloading package punkt to /root/nltk_data...\n",
            "[nltk_data]   Package punkt is already up-to-date!\n"
          ],
          "name": "stdout"
        }
      ]
    },
    {
      "metadata": {
        "id": "FJiWamI00hBp",
        "colab_type": "code",
        "colab": {
          "base_uri": "https://localhost:8080/",
          "height": 34
        },
        "outputId": "177c454e-cf13-49a5-91dd-74c40c2365fb"
      },
      "cell_type": "code",
      "source": [
        "# MacOSX: See https://www.mkyong.com/mac/wget-on-mac-os-x/ for wget\n",
        "print('On the MacOSX, you will need to install wget, see https://www.mkyong.com/mac/wget-on-mac-os-x/')\n",
        "\n",
        "if not os.path.isfile('aclImdb_v1.tar.gz'):\n",
        "  !wget http://ai.stanford.edu/~amaas/data/sentiment/aclImdb_v1.tar.gz \n",
        "\n",
        "if not os.path.isfile('aclImdb'):  \n",
        "  !tar -xf aclImdb_v1.tar.gz \n"
      ],
      "execution_count": 63,
      "outputs": [
        {
          "output_type": "stream",
          "text": [
            "On the MacOSX, you will need to install wget, see https://www.mkyong.com/mac/wget-on-mac-os-x/\n"
          ],
          "name": "stdout"
        }
      ]
    },
    {
      "metadata": {
        "id": "U5Tnmoh-Dpfk",
        "colab_type": "code",
        "colab": {}
      },
      "cell_type": "code",
      "source": [
        "time_beginning_of_notebook = time.time()\n",
        "SAMPLE_SIZE=600\n",
        "positive_sample_file_list = glob.glob(os.path.join('aclImdb/train/pos', \"*.txt\"))\n",
        "positive_sample_file_list = positive_sample_file_list[:SAMPLE_SIZE]\n",
        "\n",
        "negative_sample_file_list = glob.glob(os.path.join('aclImdb/train/neg', \"*.txt\"))\n",
        "negative_sample_file_list = negative_sample_file_list[:SAMPLE_SIZE]\n",
        "\n",
        "import re\n",
        "\n",
        "# load doc into memory\n",
        "# regex to clean markup elements \n",
        "def load_doc(filename):\n",
        "\t# open the file as read only\n",
        "\tfile = open(filename, 'r', encoding='utf8')\n",
        "\t# read all text\n",
        "\ttext = re.sub('<[^>]*>', ' ', file.read())\n",
        "\t# close the file\n",
        "\tfile.close()\n",
        "\treturn text\n"
      ],
      "execution_count": 0,
      "outputs": []
    },
    {
      "metadata": {
        "id": "vMYBkcdIB9uc",
        "colab_type": "text"
      },
      "cell_type": "markdown",
      "source": [
        "# New Section"
      ]
    },
    {
      "metadata": {
        "id": "cz5eJi7AGSqR",
        "colab_type": "code",
        "colab": {
          "base_uri": "https://localhost:8080/",
          "height": 70
        },
        "outputId": "854b06de-6285-44bb-8f53-49f32565c770"
      },
      "cell_type": "code",
      "source": [
        "positive_strings = [load_doc(x) for x in positive_sample_file_list]\n",
        "print(positive_strings[:10])\n",
        "\n",
        "negative_strings = [load_doc(x) for x in negative_sample_file_list]\n",
        "print(negative_strings[:10])\n",
        "    "
      ],
      "execution_count": 80,
      "outputs": [
        {
          "output_type": "stream",
          "text": [
            "['Great entertainment from start to the end. Wonderful performances by Belushi, Beach, Dalton & Railsback. Some twists and many action scenes. The movie was made for me! Funny lines in the screenplay, good music. Dalton as the tough sheriff and Railsback as \"redneck-villain\". I must recommend this film to every action-adventure fan! 10/10', '\"Kalifornia\"is a great film that makes us look at ourselves.The film has a great cast,Brad Pitt(Johnny Suede,A River Runs Through It,and The Legends Of The Fall)as Early Grayce,David Duchovny(The X Files)as Brian Kessler,Michelle Forbes(Star Trek:The Next Generation,Homicide:Life On The Street,and Escape From L.A.)as Carrie Loughlin,Brian\\'s girlfriend,and Juliette Lewis(Natural Born Killers,Cape Fear,and What\\'s Eating Gilbert Grape)as Adele Corners,Early\\'s girlfriend.  Brian Kessler is a writer who is a Liberal,is getting ready to write a book about serial killers.Brian and his girlfriend,Carrie decide they want to move to California,so Brian places an ad at the college for some who wants to go to California,to share expenses on the trip.  Early Grayce is an ex con and sociopath on parole,who recently lost his job at the mirror factory in town,is in debt,owes his landlord money.Early\\'s parole officer stops to visit him and tells him about a job.Early goes to the college and sees the ad,he later tells Adele,his girlfriend about leaving to go to California.Early and Adele meet Brian and Carrie at the bus stop and leave town.Brian and Carrie do not know that he is a killer who just killed his landlord.For a little while Brian and Carrie thought of Early and Adele different but got to know them and become sort of friends,Carrie and Adele become real good friends.  Their journey is a very learning one.Though Brain and Carrie not knowing early is a killer till later on in the movie.The question Brian asks in this film about the difference between killers and us is a very good question.Early Grayce is a sociopath who doesn\\'t see the error of his ways,goes down hill later on and pays the price.  This film is a great movie,I give it 10/10 stars and 2 thumbs up.I love the songs in the movie,especially at the end of the film,the song\"Look Up To The Sky\"by The Indians.', 'This is an excellent modern-day film noir....\"excellent\" in that it\\'s interesting, start-to-finish. There are some holes in here and some goofy parts that make you shake your head in disbelief.....but I haven\\'t found anyone who didn\\'t get caught up in this story. The movie has the right amount of action, suspense, plot twists and interesting characters. In addition, it sports some nice colors and cinematography plus a good guitar-based soundtrack.   I labeled this crime movie a \"film noir\" because it\\'s gritty and the all the characters are no good. Even the only supposed-good guy, played by Nicholas Cage, gets himself in trouble by lying and has a quick affair he should\\'t have. He also does something at the end which isn\\'t right, but I\\'m not going the spoil it by saying. Suffice to say, however, that the rest of the characters are so bad they make Cage look good!  Speaking of \"bad guys,\" does anyone do it better than Dennis Hopper? Not many. At least in the \"deranged\" category, he\\'s tough to beat. Lara Flynn Boyle is fun to watch for a bunch of reasons. J.T. Walsh gives another great supporting performance, too.  This is one of those films that never got much publicity, but it should have. You\\'ll have fun watching this. By the way, try saying the name of this movie out loud three times fast without messing it up!', '\"If I wanted to dribble, I\\'d call a nurse.\"   \"Haven\\'t you had enough?\" ...\"More than enough.\"  \"You got me a choo-choo.\"  \"If I begin to die, please remove (the cowboy hat) from my head. That is not the way I wish to be remembered.\"   Some of the wonderfully humorous, and often insightful, quotations from this charming and often insightful film. Dudley Moore is charming, lovable and rich. Sir John Gielgud is aristocratic, charming and loving...and poor. The two have a non-father/father and son relationship which defines the man whom Arthur is to become. Will he follow his heart and soul, or just his wealth? Over twenty-five years, I\\'ve returned to this movie, with glee and amusement and joy. It is a movie to return to, time and time again, and remember what is important in life, as short as it is.   Judge Miller', 'When I saw this movie a few days ago, my eyes were completely fixed to the screen. Its greatness held my attention to such an extent that I focused all of my attention on it for its entire duration. I would recommend seeing it not just to fans of anime, but to anyone who likes great movies period (or who likes really weird stuff). The style of art is beautiful, the sound is perfect, and the symbolism within it is breathtaking. I\\'ve heard complaints about the weird insertion of English text in the movie, but I think the way its done is complementary to the strange style of the movie. The self-attributed description of \"Hello Kitty on acid\" doesn\\'t do justice to this film of absolutely epic proportions. I\\'d like to find more works by whoever made this, and see them.', '...this is a classic with so many great dialogs and scenes nobody should miss. Nice story, funny riches-to-rags situations, Mel Brooks is not a bad lead, maybe not perfect but he is funny ;D Don\\'t pay attention to the rating, it\\'s BS. Watch it, then watch something like final destination (2009) and tell me that Life Stinks deserves about the same rating. If you do, I don\\'t think we can be friends XD At this point I recommend the fourth season of \"Curb Your Enthusiasm\" to every Brooks fan ;) Vote 10 against the ignorant opinions of inchworms! I\\'ve to make 10 lines here to post a comment? I don\\'t wanna write a book here :P', \"The trailer for this movie didn't do the movie justice. And while the movie didn't know what it really wanted to get across, the first half of the movie being a light, romance comedy and the second have a more serious, romantic drama, the overall impact was much better than I thought it would be. This movie was more of a date movie, but the trailer made it into more of a suspense thriller which it never really turned out to be. Kidman, being one of my favorites, of course I'm biased, but this movie proved to be a light, sensitive, if somewhat quirky movie that deserved better. Three out of four stars. 9/5/02.\", \"This is yet another gritty and compelling film directed by Sam Fuller in the early 1950s. This minimalist and fast-working director has something unusual for his earlier films--a cast with some stars. Richard Widmark, Jean Peters and Richard Kiley star in this film about a group of Communist agents who are trying to sneak secrets out of America--and they'll stop at nothing to succeed.  The film starts with Peters on a subway car being watched by federal agents. They know she is a link in a long espionage chain. Unknown to everyone is the wild card in the equation--a small-time pickpocket (Widmark) is also on the train and he manages to steal the secrets that Peters is carrying. Widmark thinks it's just another purse he's ransacked--only later does he realize the seriousness of what he's stolen. Now it's Widmark on his own--with Commies and the FBI hot on his trail.  Widmark and the rest are exceptional and the film is gripping from start to finish. Although she didn't get top billing, a special mention should be made of Thelma Ritter. This supporting actress had perhaps the performance of her lifetime as a stool pigeon. Seldom was she given this much of a chance to act and I was impressed by her ability to play a broken down and sad old lady.  As far as the script and directing go, they are very good--but with one small exception. At first, I loved the way Widmark and Peters interacted. It's one of the few times on film you'll see a woman punched square in the mouth! Now THAT'S tough. Later, inexplicably, they become amazingly close--too close to be believable. Still, with so much great drama and such an effective Noir-like film, this can be overlooked. See this film.\", 'Thankfully as a student I have been able to watch \"Diagnosis Murder\" for a number of years now. It is basically about a doctor who solves murders with the help of his LAPD son, a young doctor and a pathologist. DM provided 8 seasons of exceptional entertainment. What made it different from the many other cop shows and worth watching many times over was its cast and quality of writing. The main cast gave good performances and Dick Van Dyke\\'s entertainer roots shone through with the use of magic, dance and humor. The best aspects of DM was the fast pace, witty scripts and of course the toe tapping score. Sadly it has been unfairly compared to \"Murder, She Wrote\". DM is far superior boasting more difficult mysteries to solve and more variety. Now it is gone TV is a worse place. Gone are the days of feelgood, family friendly cop shows. Now there is just depressing \\'gritty\\' ones.', \"9/11 is a classic example of cinema verite, a sort of realist documentary, in this case of New York firemen as they battle against one of the most extraordinary events of world history. It's all tiny, unobtrusive, hand-held video cameras, often betrayed by the poor quality of most of the filming (and by the director, Naudet's hand frequently wiping the screen).  In this film, you get to know most of the firemen - Tony Benatatos, the rookie (or 'probie', in NY fireman vernacular), the Fire Chief Joseph Pfeiffer (who finds he's lost his brother later on) and a few others. There are studio interviews with most of these people throughout the film, just to emphasise the personal, reflexive nature of the events. The build-up is quite dramatic and well-done, particularly the passing-out ceremony at the Fire Department, with a few useful swish-pans and a sort of dialectical editing of the rather limited filmwork (just like Rob Reiner's A Few Good Men). Tony looks proud.  The viewpoint and camera angle is usually from amidst the firemen, which is interesting and there is some excellent footage from inside the lobby of WTC1 while Pfeiffer and his team plan what to do next - this is classic cinema verite. There is also the eery, haunting sound of the occasional human body crashing against the portico outside. It is then that an increasingly forlorn Fire Chief Pfeiffer realises that his task is desperate and probably hopeless - and this is before WTC2 collapses. You have to give credit to Naudet for knowing which faces to film and at which moment.  The sound of the neighbouring WTC2 collapsing is so awfully sad, poignant and terrifying that you realise what an ordeal this is for the firemen. From the lobby, it looks, feels and sounds like the end of the world and the poor firemen look so utterly bewildered and frightened. You hear an enormous rumbling, trembling maelstrom - like that of a giant, monolithic beast slowly falling to the ground after being so mortally wounded - the neighbouring tower has collapsed yet the fire team remaining in WTC1 are oblivious to this event. Where is the communication?  This film is captivating yet the narration is amateurish and should have been avoided - cues like 'this really was a day like no other' or Naudet's frequently banal pronouncements like 'you could see fear in everybody's eyes' and 'I knew Tony was freaking out'! The film is really just one long video diary. There are no pictures from higher up the building where some of the firemen have gone. Imagine this film blended with CCTV footage from some of the rooms higher up or some of the news coverage from the day. The effect would be greater. You could even combine this story with that of Mayor Giuliani and, perhaps, the famous Cornishman Rick Riscorla who literally was many floors up acting the hero.  I don't see much of a propaganda element in this film, as some reviewers suggest. This film is no Triumph of the Will, by Riefenstahl. Some time later the firemen drape the American flag over a nearby, surviving building overlooking what has become Ground Zero. So what?  There are also some moments of dubious camerawork; for example, who is holding the camera when the two Naudet brothers are reunited back at the fire station? Is it staged?  There is an excellent finish, very much in the traditon of the excellent French director Alain Resnais (Hiroshima mon amour), with two strips of light reflected in the water, shimmying.\"]\n",
            "['\"Metamorphosis\" hold a tiny bit of cult-value, simply because it was written and directed by George Eastman. This Italian bloke is more or less the personification of male sleaze and starred in pretty much every rancid Joe D\\'Amato production during the late 70\\'s/early 80\\'s. Wouldn\\'t it be interesting for avid Euro-cult purchasers to own the only movie directed by the guy who walked around bare-butted in \"Erotic Nights of the Living Dead\" all the time? I thought so! Now, unlike the movies he starred in, Eastman\\'s own \"Metamorphosis\" is kind of disappointing in the gore & sleaze departments. There are a handful of nasty murders, cheesy monster effects and naked female bodies (a guest appearance by sleaze-queen Laura Gemser!) on display, but it\\'s mainly a talkative movie. The handsome & eloquent Dr. Houseman is on the verge of a scientific breakthrough with his research on human DNA codes when suddenly the university he works for threatens to cancel his funds. He developed a theory to decode genes and block the human ageing process, but if he doesn\\'t come up with detailed reports any time soon, his research will be stopped. So Dr. Houseman does what any intelligent scientist would do and injects the untested serum into his own veins. Needless to say (and like the title implies), he slowly turns into murderous monster that actually ages much quicker! In other words, his research sucked! Like the other reviewers already mentioned, this movie \"borrows\" a lot of ideas from David Cronenberg\\'s \"The Fly\" \\x96 the dramatic romance sub plot included - but doesn\\'t add any originality from its own. The big difference is that you constantly feel connected with Jeff Goldblum\\'s character in \"The Fly\", whereas Dr. Houseman becomes just another monster that needs to be destroyed as fast as possible. The rapid-ageing-syndrome aspect also reminded me of Ruggero Deodato\\'s sadly underrated giallo \"Phantom of Death\", only the protagonist in that film inherited the disease and didn\\'t inflict it on himself. The physical deterioration of the carriers is very similar in both films, though. Few scares or excitement to discover here, instead the movie features loads of bad acting, poor lighting, lousy editing and a completely retarded climax to boot. Feel free to skip this one.', \"**May Contain Spoilers**  A dude in a dopey-looking Kong suit (the same one used in KING KONG VS. GODZILLA in 1962) provides much of the laffs in this much-mocked monster flick. Kong is resurrected on Mondo Island and helps out the lunkhead hero and other good guys this time around. The vampire-like villain is named Dr. Who\\x96-funny, he doesn't look like Peter Cushing! Kong finally dukes it out with Who's pride and joy, a giant robot ape that looks like a bad metal sculpture of Magilla Gorilla. Like many of Honda's flicks this may have had some merit before American audiences diddled around with it and added new footage. The Rankin/Bass animation company had a hand in this mess. They should have stuck to superior children's programs like The Little Drummer Boy.\", 'What do you get when you mix a lump of clichés with a directionless pacing and a group of characters who you don\\'t care about and a failed attempt at creating an appealing visual style and an even bigger lump of clichés and a weak sense of humor and a really big budget? Why, you get one of the most intolerably unwatchable movies ever made! I\\'m referring, of course, to Domino.  Here are some things that people might say during the viewing of this movie:  \"Ooh, wow, the storyline is told out of sequence, that hasn\\'t been done a billion times before. And much more skillfully than in this movie.\"  \"Wow, look at all of the flashing lights and grainy film texture and elaborate transitions! The director is trying so hard to make things look arty and to establish a visual style! It\\'s just too bad that none of these effects add anything to the movie or make sense with the scenes they\\'re in, and it\\'s also too bad that most of them come across as irritating!\"  \"I\\'ve heard that exchange of dialogue in about twenty thousand movies before!\"  \"I\\'ve seen this scene in about thirty thousand movies before!\"  \"This one too!\"  \"Uh, didn\\'t they reveal this \\'plot twist\\' about half an hour ago? Was that supposed to be surprising?\"  \"If this movie is supposed to be showing a \\'tough chick\\' going around kicking ass... when why doesn\\'t she do very much of it?\"  \"I can\\'t believe how unoriginal this dialogue is.\"  \"How long is this thing? I feel like I\\'ve been watching it for over four hours already.\"  \"I have no idea what just happened, but also, I don\\'t particularly feel motivated to try to figure it out.\"  \"Is this over yet?\"  \"I want my money back.\"  \"The songs in this soundtrack feel so misused here.\"  \"It\\'s ironic that all of the cursing they use actually detracts from the impact of each one.\"  \"UGH.\"  And, finally: \"I might have to end my friendship with the person who recommended this movie to me.\"  In summation, this movie is a failure in nearly every aspect. Avoid watching it at all costs. If your house is on fire and this movie is playing in the only room that isn\\'t flammable, you should seriously consider being burned alive instead.  (If I sound bitter, it\\'s because I just spent over two hours watching this movie and, uh, I didn\\'t enjoy it very much.)', \"Any movie in which Brooke Shields out-acts a Fonda is going to be both an anomaly and a horror. Shields actually is only bad because she's youthful, inexperienced, and clearly not well directed by her co-star. Peter Fonda is bad because, well, because he's bad. I liked him in Ulee's Gold, years later, but Lord above, he's awful here. Not that anyone else is good. There's not a single performance (outside Henry Fonda's delightful cameo) that is even passable. I've never seen a movie with this many bad performances. In the case of Luke Askew, the chief villain, it's clear this is because of poor dialogue and direction, as he's done good work in the past. But his partner, played by Ted Markland, is an embarrassing ham. The writing is just bloody awful, and the actors cannot be faulted for the terrible things they have to say. But they say them so badly! The editing and direction are worse than pedestrian. Shots are held way too long for no dramatic reason, or cut off before the impact of the scene can be realized. This picture was far worse than I'd imagined and would have been utterly forgotten (and probably never even made) without the participation of a couple of famous names. One bright spot: the cinematography in the Grand Canyon is exquisite, capturing the beauty of that area in a way even big-screen Imax productions have not quite done so well. And finally: either this is a bad version of Paper Moon, with a lovable pair of father-daughter types, or it's a bad version of Pretty Baby, with a considerably more icky romantic relationship between a forty-something and a 13-year-old. It suggests more of the latter than the former, and thus is pretty disturbing.\", 'I just got back from this free screening, and this \"Osama Witch Project\" is the hands-down worst film I\\'ve seen this year, worse than even \"Catwoman\" - which had the decency to at least pass itself off as fiction.  In \"September Tapes,\" a \"film crew\" of \"documentary journalists\" heads to Afghanistan - despite being thoroughly unprepared for the trip, the conditions and, oh yeah, the psychotic and ridiculous vendetta of their filmmaker leader to avenge his wife\\'s death on Sept. 11 - to track down Osama bin Laden.  They \"made\" eight tapes on their journey, which now \"document\" their travels and, of course, their attempts to kill the terrorist leader. (The eight tapes, thankfully, all end at points significant in the narrative, which is convenient for a \"documentary.\")  The psychotic, idiotic protagonist - who is given to long, significant speeches that he probably learned watching \"MacGyver\" - cares nothing for his own life or the life of his innocent crew as he gets them further and further into danger through a series of completely dumb mishaps. I don\\'t know why he didn\\'t just wear a sign on his back that said \"Shoot me.\"  The crew\\'s translator, supposedly their sensible voice-of-reason, does little more than whine and gets baffled as the idiot hero leads them into doom.   You wish they\\'d brought along someone on their trip to call them all morons.  Around \"Tape 4,\" I began rooting for the terrorists to shoot the film crew.', 'Awwww....yes, it is heartwarming and all that some unlucky family gets adopted by ABC/Sears and has their home \"renovated.\" That\\'s where the humanistic appeal ends. I liked it early in its run, but now this show has become disgustingly excessive.  Ten needy families could be given relatively luxurious homes with lots of goodies for every one family that each episode of this show splurges on. The people at Habitat For Humanity must be shaking their heads in disbelief. For example, is it necessary for a healthy sixteen year old boy to have a jacuzzi in his bedroom, or have his bed tricked-out with \"Low Rider\" hydraulics? Does the mom really need her dilapidated, non-running and rusted out old pick-up truck restored and \"pimped\" by some of the best customizers in California? A new one would have done the job quite nicely, and probably for a third of the price. Do people really need a sixty-five inch plasma screen in every room of the house? And then there\\'s the issue of who pays the increased property taxes and utility bills. Even after the zaniacs at \"Makeover\" leave, somebody still has earn a living. I doubt the friendly folks down at Social Services will see the humor in all of this largess.  This show is nothing more than a ratings grabber for ABC, and a tacit commercial for its sponsors.', \"to make up a movie-going audience - I'm certainly stunned by the number of positive comments this wretched film has garnered here. I can't credit it, can't help but be suspicious, for that matter, of back alley payoffs to critics who are touting Annette Bening for an Oscar; the hole in the kitchen ceiling might be more appropriately attributed to her scenery chewing. She's a wonderful actress but this is an unfortunately unbalanced performance, lacking that essential quality film actors must master of catching the cadence of the screenplay and maintaining it for the duration of the disjointed madness that is a film shoot.  I don't really want to blame Miss Bening or most of the other performers (well, Gwyneth Paltrow has no excuse for her muzzy work), however, because this is a horrendous adaptation, a classic case of mistranslation (I am prepared to assume. I haven't read the book and don't think I will after this). The script launches us into the middle/muddle of unaccountable behaviour and extreme emotional angst spewing from mystifying characters who have developed relationships neither with us nor each other. It quickly becomes a grotesquely excessive tsunami-like assault that sullies characters and audience alike and left me like a survivor shaking my head at the detritus left at the end of each repetitive episode. Shock and awe would describe my reaction to frantic, bi-polar mood swings between ranting and oh-so-quiet sensitivity, the latter telegraphed by one of the most irritating, manipulative, droning soundtracks I've heard - that is, when all this isn't being set to ludicrously incongruous toons - period stuff, ya know, but chosen with an astounding disregard for the tone of the scenes.  How this fine cast got mixed up in this I don't know - I can't believe they saw the screenplay before signing. They certainly apply their skills with commitment - I felt so sorry for the wonderful Jill Clayburgh saddled with a cartoon bag lady costume and wig trying vainly to wrench something of significance from sketchy and clichéd dialogue. In contrast, somehow, Alec Baldwin rises above the material to deliver a consistent, nuanced, real performance. Can somebody give this man a lead role of substance, please? And how about Rachel Evan Wood - or Joseph Fiennes? You'd think the industry could make better use of him, and without appearing as hirsute as Elliot Gould in M.A.S.H.   My vote? A standup turd, all right, but no link with heaven.\", \"After reading the first 5 reviews on IMDb I was very enthusiastic about this movie. But it's really an awful movie, the total time you see the alien is about 5 minutes (the rest of the movie is cheap suspense), the acting is over the top en the story, oh boy, which story?  The story doesn't seem to go in a direction, first they capture the alien (after 7 years! they finally succeed), then they don't know what to do with it (after 7 years?) and even want to release it (why the hell did they capture it?). Then the girlfriend, who's acting is the most over the top, wants to walk away from this madness, then suddenly she doesn't, then again, she does and then she doesn't. Then they come to the conclusion that killing the alien will kill the whole human race (and remember, in all those years no other human have seen these permanently settled aliens) and what do they do? They torture it and blow a bunch of aliens to peaces.  This is my first review on IMDb, I'm a very lazy person who doesn't write very soon, so listen to my warning: this move is not worth your time, don't watch this movie.\", \"Wow, a movie about NYC politics seemingly written by someone who has never set foot in NYC. You know there's a problem when at one moment you expect the credits to roll and the movie continues on for another half hour. The characters are boring, John Cusack's accent is laughable, and the plotline teeters between boring and laughable. A horrible movie.\", 'This movie is just horrible. It\\'s boring, it\\'s low quality, the actors are just the worst actors I have ever seen and the scenario is so bad that it\\'s hilarious.  The \"main\" actor is supposed to be the hot guy who gets all the girls, but he\\'s ugly, overweight and looks like he\\'s from the early 90\\'s.  All the characters are away for the week-end for a get together amongst friends, but nobody are actually friends! The married couple hasn\\'t seen the \"main\" guy in over 5 years and even back then they weren\\'t really friends. The \"date\" of the main guy only knows him from work and than there\\'s a girl they pick-up at a bar. Now tell me that you would risk losing your job to spend a week-end at your cabin with people that aren\\'t even your real friends. Because that\\'s what he does at the beginning of the movie!  Do not waste even one minute of your time on this lemon. I\\'ve made home movies scarier than this!  ']\n"
          ],
          "name": "stdout"
        }
      ]
    },
    {
      "metadata": {
        "id": "Ln1-QrMcGOgD",
        "colab_type": "code",
        "colab": {
          "base_uri": "https://localhost:8080/",
          "height": 34
        },
        "outputId": "a78d3c5b-8660-4547-86f8-343fa540d385"
      },
      "cell_type": "code",
      "source": [
        "positive_labels = np.array(SAMPLE_SIZE * [1])\n",
        "print(positive_labels)"
      ],
      "execution_count": 81,
      "outputs": [
        {
          "output_type": "stream",
          "text": [
            "[1 1 1 ... 1 1 1]\n"
          ],
          "name": "stdout"
        }
      ]
    },
    {
      "metadata": {
        "id": "pS4Rhx54IoW9",
        "colab_type": "code",
        "colab": {
          "base_uri": "https://localhost:8080/",
          "height": 34
        },
        "outputId": "9bb4e699-6cc0-482e-8e01-14c4cbf7250d"
      },
      "cell_type": "code",
      "source": [
        "negative_labels = np.array(SAMPLE_SIZE * [0])\n",
        "print(negative_labels)"
      ],
      "execution_count": 82,
      "outputs": [
        {
          "output_type": "stream",
          "text": [
            "[0 0 0 ... 0 0 0]\n"
          ],
          "name": "stdout"
        }
      ]
    },
    {
      "metadata": {
        "id": "C0WiHTr7I4CN",
        "colab_type": "code",
        "colab": {
          "base_uri": "https://localhost:8080/",
          "height": 70
        },
        "outputId": "238e7430-78f7-46b1-9a21-c00abac09d56"
      },
      "cell_type": "code",
      "source": [
        "positive_tokenized = [word_tokenize(s) for s in positive_strings]\n",
        "print(positive_tokenized[1])\n",
        "print(positive_tokenized[2])"
      ],
      "execution_count": 83,
      "outputs": [
        {
          "output_type": "stream",
          "text": [
            "['``', 'Kalifornia', \"''\", 'is', 'a', 'great', 'film', 'that', 'makes', 'us', 'look', 'at', 'ourselves.The', 'film', 'has', 'a', 'great', 'cast', ',', 'Brad', 'Pitt', '(', 'Johnny', 'Suede', ',', 'A', 'River', 'Runs', 'Through', 'It', ',', 'and', 'The', 'Legends', 'Of', 'The', 'Fall', ')', 'as', 'Early', 'Grayce', ',', 'David', 'Duchovny', '(', 'The', 'X', 'Files', ')', 'as', 'Brian', 'Kessler', ',', 'Michelle', 'Forbes', '(', 'Star', 'Trek', ':', 'The', 'Next', 'Generation', ',', 'Homicide', ':', 'Life', 'On', 'The', 'Street', ',', 'and', 'Escape', 'From', 'L.A.', ')', 'as', 'Carrie', 'Loughlin', ',', 'Brian', \"'s\", 'girlfriend', ',', 'and', 'Juliette', 'Lewis', '(', 'Natural', 'Born', 'Killers', ',', 'Cape', 'Fear', ',', 'and', 'What', \"'s\", 'Eating', 'Gilbert', 'Grape', ')', 'as', 'Adele', 'Corners', ',', 'Early', \"'s\", 'girlfriend', '.', 'Brian', 'Kessler', 'is', 'a', 'writer', 'who', 'is', 'a', 'Liberal', ',', 'is', 'getting', 'ready', 'to', 'write', 'a', 'book', 'about', 'serial', 'killers.Brian', 'and', 'his', 'girlfriend', ',', 'Carrie', 'decide', 'they', 'want', 'to', 'move', 'to', 'California', ',', 'so', 'Brian', 'places', 'an', 'ad', 'at', 'the', 'college', 'for', 'some', 'who', 'wants', 'to', 'go', 'to', 'California', ',', 'to', 'share', 'expenses', 'on', 'the', 'trip', '.', 'Early', 'Grayce', 'is', 'an', 'ex', 'con', 'and', 'sociopath', 'on', 'parole', ',', 'who', 'recently', 'lost', 'his', 'job', 'at', 'the', 'mirror', 'factory', 'in', 'town', ',', 'is', 'in', 'debt', ',', 'owes', 'his', 'landlord', 'money.Early', \"'s\", 'parole', 'officer', 'stops', 'to', 'visit', 'him', 'and', 'tells', 'him', 'about', 'a', 'job.Early', 'goes', 'to', 'the', 'college', 'and', 'sees', 'the', 'ad', ',', 'he', 'later', 'tells', 'Adele', ',', 'his', 'girlfriend', 'about', 'leaving', 'to', 'go', 'to', 'California.Early', 'and', 'Adele', 'meet', 'Brian', 'and', 'Carrie', 'at', 'the', 'bus', 'stop', 'and', 'leave', 'town.Brian', 'and', 'Carrie', 'do', 'not', 'know', 'that', 'he', 'is', 'a', 'killer', 'who', 'just', 'killed', 'his', 'landlord.For', 'a', 'little', 'while', 'Brian', 'and', 'Carrie', 'thought', 'of', 'Early', 'and', 'Adele', 'different', 'but', 'got', 'to', 'know', 'them', 'and', 'become', 'sort', 'of', 'friends', ',', 'Carrie', 'and', 'Adele', 'become', 'real', 'good', 'friends', '.', 'Their', 'journey', 'is', 'a', 'very', 'learning', 'one.Though', 'Brain', 'and', 'Carrie', 'not', 'knowing', 'early', 'is', 'a', 'killer', 'till', 'later', 'on', 'in', 'the', 'movie.The', 'question', 'Brian', 'asks', 'in', 'this', 'film', 'about', 'the', 'difference', 'between', 'killers', 'and', 'us', 'is', 'a', 'very', 'good', 'question.Early', 'Grayce', 'is', 'a', 'sociopath', 'who', 'does', \"n't\", 'see', 'the', 'error', 'of', 'his', 'ways', ',', 'goes', 'down', 'hill', 'later', 'on', 'and', 'pays', 'the', 'price', '.', 'This', 'film', 'is', 'a', 'great', 'movie', ',', 'I', 'give', 'it', '10/10', 'stars', 'and', '2', 'thumbs', 'up.I', 'love', 'the', 'songs', 'in', 'the', 'movie', ',', 'especially', 'at', 'the', 'end', 'of', 'the', 'film', ',', 'the', 'song', \"''\", 'Look', 'Up', 'To', 'The', 'Sky', \"''\", 'by', 'The', 'Indians', '.']\n",
            "['This', 'is', 'an', 'excellent', 'modern-day', 'film', 'noir', '...', '.', \"''\", 'excellent', \"''\", 'in', 'that', 'it', \"'s\", 'interesting', ',', 'start-to-finish', '.', 'There', 'are', 'some', 'holes', 'in', 'here', 'and', 'some', 'goofy', 'parts', 'that', 'make', 'you', 'shake', 'your', 'head', 'in', 'disbelief', '...', '..but', 'I', 'have', \"n't\", 'found', 'anyone', 'who', 'did', \"n't\", 'get', 'caught', 'up', 'in', 'this', 'story', '.', 'The', 'movie', 'has', 'the', 'right', 'amount', 'of', 'action', ',', 'suspense', ',', 'plot', 'twists', 'and', 'interesting', 'characters', '.', 'In', 'addition', ',', 'it', 'sports', 'some', 'nice', 'colors', 'and', 'cinematography', 'plus', 'a', 'good', 'guitar-based', 'soundtrack', '.', 'I', 'labeled', 'this', 'crime', 'movie', 'a', '``', 'film', 'noir', \"''\", 'because', 'it', \"'s\", 'gritty', 'and', 'the', 'all', 'the', 'characters', 'are', 'no', 'good', '.', 'Even', 'the', 'only', 'supposed-good', 'guy', ',', 'played', 'by', 'Nicholas', 'Cage', ',', 'gets', 'himself', 'in', 'trouble', 'by', 'lying', 'and', 'has', 'a', 'quick', 'affair', 'he', \"should't\", 'have', '.', 'He', 'also', 'does', 'something', 'at', 'the', 'end', 'which', 'is', \"n't\", 'right', ',', 'but', 'I', \"'m\", 'not', 'going', 'the', 'spoil', 'it', 'by', 'saying', '.', 'Suffice', 'to', 'say', ',', 'however', ',', 'that', 'the', 'rest', 'of', 'the', 'characters', 'are', 'so', 'bad', 'they', 'make', 'Cage', 'look', 'good', '!', 'Speaking', 'of', '``', 'bad', 'guys', ',', \"''\", 'does', 'anyone', 'do', 'it', 'better', 'than', 'Dennis', 'Hopper', '?', 'Not', 'many', '.', 'At', 'least', 'in', 'the', '``', 'deranged', \"''\", 'category', ',', 'he', \"'s\", 'tough', 'to', 'beat', '.', 'Lara', 'Flynn', 'Boyle', 'is', 'fun', 'to', 'watch', 'for', 'a', 'bunch', 'of', 'reasons', '.', 'J.T', '.', 'Walsh', 'gives', 'another', 'great', 'supporting', 'performance', ',', 'too', '.', 'This', 'is', 'one', 'of', 'those', 'films', 'that', 'never', 'got', 'much', 'publicity', ',', 'but', 'it', 'should', 'have', '.', 'You', \"'ll\", 'have', 'fun', 'watching', 'this', '.', 'By', 'the', 'way', ',', 'try', 'saying', 'the', 'name', 'of', 'this', 'movie', 'out', 'loud', 'three', 'times', 'fast', 'without', 'messing', 'it', 'up', '!']\n"
          ],
          "name": "stdout"
        }
      ]
    },
    {
      "metadata": {
        "id": "YDP-eqAGIq5R",
        "colab_type": "code",
        "colab": {
          "base_uri": "https://localhost:8080/",
          "height": 70
        },
        "outputId": "6e254ed0-15ae-420b-d9d5-0340d73a9de2"
      },
      "cell_type": "code",
      "source": [
        "negative_tokenized = [word_tokenize(s) for s in negative_strings]\n",
        "print(negative_tokenized[1])\n",
        "print(negative_tokenized[2])"
      ],
      "execution_count": 84,
      "outputs": [
        {
          "output_type": "stream",
          "text": [
            "['**May', 'Contain', 'Spoilers**', 'A', 'dude', 'in', 'a', 'dopey-looking', 'Kong', 'suit', '(', 'the', 'same', 'one', 'used', 'in', 'KING', 'KONG', 'VS.', 'GODZILLA', 'in', '1962', ')', 'provides', 'much', 'of', 'the', 'laffs', 'in', 'this', 'much-mocked', 'monster', 'flick', '.', 'Kong', 'is', 'resurrected', 'on', 'Mondo', 'Island', 'and', 'helps', 'out', 'the', 'lunkhead', 'hero', 'and', 'other', 'good', 'guys', 'this', 'time', 'around', '.', 'The', 'vampire-like', 'villain', 'is', 'named', 'Dr.', 'Who\\x96-funny', ',', 'he', 'does', \"n't\", 'look', 'like', 'Peter', 'Cushing', '!', 'Kong', 'finally', 'dukes', 'it', 'out', 'with', 'Who', \"'s\", 'pride', 'and', 'joy', ',', 'a', 'giant', 'robot', 'ape', 'that', 'looks', 'like', 'a', 'bad', 'metal', 'sculpture', 'of', 'Magilla', 'Gorilla', '.', 'Like', 'many', 'of', 'Honda', \"'s\", 'flicks', 'this', 'may', 'have', 'had', 'some', 'merit', 'before', 'American', 'audiences', 'diddled', 'around', 'with', 'it', 'and', 'added', 'new', 'footage', '.', 'The', 'Rankin/Bass', 'animation', 'company', 'had', 'a', 'hand', 'in', 'this', 'mess', '.', 'They', 'should', 'have', 'stuck', 'to', 'superior', 'children', \"'s\", 'programs', 'like', 'The', 'Little', 'Drummer', 'Boy', '.']\n",
            "['What', 'do', 'you', 'get', 'when', 'you', 'mix', 'a', 'lump', 'of', 'clichés', 'with', 'a', 'directionless', 'pacing', 'and', 'a', 'group', 'of', 'characters', 'who', 'you', 'do', \"n't\", 'care', 'about', 'and', 'a', 'failed', 'attempt', 'at', 'creating', 'an', 'appealing', 'visual', 'style', 'and', 'an', 'even', 'bigger', 'lump', 'of', 'clichés', 'and', 'a', 'weak', 'sense', 'of', 'humor', 'and', 'a', 'really', 'big', 'budget', '?', 'Why', ',', 'you', 'get', 'one', 'of', 'the', 'most', 'intolerably', 'unwatchable', 'movies', 'ever', 'made', '!', 'I', \"'m\", 'referring', ',', 'of', 'course', ',', 'to', 'Domino', '.', 'Here', 'are', 'some', 'things', 'that', 'people', 'might', 'say', 'during', 'the', 'viewing', 'of', 'this', 'movie', ':', '``', 'Ooh', ',', 'wow', ',', 'the', 'storyline', 'is', 'told', 'out', 'of', 'sequence', ',', 'that', 'has', \"n't\", 'been', 'done', 'a', 'billion', 'times', 'before', '.', 'And', 'much', 'more', 'skillfully', 'than', 'in', 'this', 'movie', '.', \"''\", '``', 'Wow', ',', 'look', 'at', 'all', 'of', 'the', 'flashing', 'lights', 'and', 'grainy', 'film', 'texture', 'and', 'elaborate', 'transitions', '!', 'The', 'director', 'is', 'trying', 'so', 'hard', 'to', 'make', 'things', 'look', 'arty', 'and', 'to', 'establish', 'a', 'visual', 'style', '!', 'It', \"'s\", 'just', 'too', 'bad', 'that', 'none', 'of', 'these', 'effects', 'add', 'anything', 'to', 'the', 'movie', 'or', 'make', 'sense', 'with', 'the', 'scenes', 'they', \"'re\", 'in', ',', 'and', 'it', \"'s\", 'also', 'too', 'bad', 'that', 'most', 'of', 'them', 'come', 'across', 'as', 'irritating', '!', \"''\", '``', 'I', \"'ve\", 'heard', 'that', 'exchange', 'of', 'dialogue', 'in', 'about', 'twenty', 'thousand', 'movies', 'before', '!', \"''\", '``', 'I', \"'ve\", 'seen', 'this', 'scene', 'in', 'about', 'thirty', 'thousand', 'movies', 'before', '!', \"''\", '``', 'This', 'one', 'too', '!', \"''\", '``', 'Uh', ',', 'did', \"n't\", 'they', 'reveal', 'this', \"'plot\", 'twist', \"'\", 'about', 'half', 'an', 'hour', 'ago', '?', 'Was', 'that', 'supposed', 'to', 'be', 'surprising', '?', \"''\", '``', 'If', 'this', 'movie', 'is', 'supposed', 'to', 'be', 'showing', 'a', \"'tough\", 'chick', \"'\", 'going', 'around', 'kicking', 'ass', '...', 'when', 'why', 'does', \"n't\", 'she', 'do', 'very', 'much', 'of', 'it', '?', \"''\", '``', 'I', 'ca', \"n't\", 'believe', 'how', 'unoriginal', 'this', 'dialogue', 'is', '.', \"''\", '``', 'How', 'long', 'is', 'this', 'thing', '?', 'I', 'feel', 'like', 'I', \"'ve\", 'been', 'watching', 'it', 'for', 'over', 'four', 'hours', 'already', '.', \"''\", '``', 'I', 'have', 'no', 'idea', 'what', 'just', 'happened', ',', 'but', 'also', ',', 'I', 'do', \"n't\", 'particularly', 'feel', 'motivated', 'to', 'try', 'to', 'figure', 'it', 'out', '.', \"''\", '``', 'Is', 'this', 'over', 'yet', '?', \"''\", '``', 'I', 'want', 'my', 'money', 'back', '.', \"''\", '``', 'The', 'songs', 'in', 'this', 'soundtrack', 'feel', 'so', 'misused', 'here', '.', \"''\", '``', 'It', \"'s\", 'ironic', 'that', 'all', 'of', 'the', 'cursing', 'they', 'use', 'actually', 'detracts', 'from', 'the', 'impact', 'of', 'each', 'one', '.', \"''\", '``', 'UGH', '.', \"''\", 'And', ',', 'finally', ':', '``', 'I', 'might', 'have', 'to', 'end', 'my', 'friendship', 'with', 'the', 'person', 'who', 'recommended', 'this', 'movie', 'to', 'me', '.', \"''\", 'In', 'summation', ',', 'this', 'movie', 'is', 'a', 'failure', 'in', 'nearly', 'every', 'aspect', '.', 'Avoid', 'watching', 'it', 'at', 'all', 'costs', '.', 'If', 'your', 'house', 'is', 'on', 'fire', 'and', 'this', 'movie', 'is', 'playing', 'in', 'the', 'only', 'room', 'that', 'is', \"n't\", 'flammable', ',', 'you', 'should', 'seriously', 'consider', 'being', 'burned', 'alive', 'instead', '.', '(', 'If', 'I', 'sound', 'bitter', ',', 'it', \"'s\", 'because', 'I', 'just', 'spent', 'over', 'two', 'hours', 'watching', 'this', 'movie', 'and', ',', 'uh', ',', 'I', 'did', \"n't\", 'enjoy', 'it', 'very', 'much', '.', ')']\n"
          ],
          "name": "stdout"
        }
      ]
    },
    {
      "metadata": {
        "id": "6bgN1KJRMPpq",
        "colab_type": "code",
        "colab": {
          "base_uri": "https://localhost:8080/",
          "height": 50
        },
        "outputId": "9ebc93dd-a3d4-45f2-f8c0-e4ba957c8ce7"
      },
      "cell_type": "code",
      "source": [
        "# load doc into memory\n",
        "with open('aclImdb/imdb.vocab') as f:\n",
        "  content = f.readlines()\n",
        "universe_vocabulary = [x.strip() for x in content]\n",
        "\n",
        "\n",
        "print(\"Word count across all reviews (before stripping tokens):\", sum([len(token) for token in positive_tokenized]))\n",
        "stripped_positive_tokenized = []\n",
        "for tokens in positive_tokenized:\n",
        "  stripped_positive_tokenized.append([token.lower() for token in tokens if token.lower() in universe_vocabulary])\n",
        "\n",
        "print(\"Word count across all reviews (after stripping tokens):\", sum([len(token) for token in stripped_positive_tokenized]))"
      ],
      "execution_count": 85,
      "outputs": [
        {
          "output_type": "stream",
          "text": [
            "Word count across all reviews (before stripping tokens):  2696212\n",
            "Word count across all reviews (after stripping tokens):  2335068\n"
          ],
          "name": "stdout"
        }
      ]
    },
    {
      "metadata": {
        "id": "c4AooCUbHlE0",
        "colab_type": "code",
        "colab": {
          "base_uri": "https://localhost:8080/",
          "height": 70
        },
        "outputId": "5a160440-dd66-4287-bd64-37a930d93578"
      },
      "cell_type": "code",
      "source": [
        "print(positive_tokenized[0:5])\n",
        "print(stripped_positive_tokenized[0:5])"
      ],
      "execution_count": 86,
      "outputs": [
        {
          "output_type": "stream",
          "text": [
            "[['Great', 'entertainment', 'from', 'start', 'to', 'the', 'end', '.', 'Wonderful', 'performances', 'by', 'Belushi', ',', 'Beach', ',', 'Dalton', '&', 'Railsback', '.', 'Some', 'twists', 'and', 'many', 'action', 'scenes', '.', 'The', 'movie', 'was', 'made', 'for', 'me', '!', 'Funny', 'lines', 'in', 'the', 'screenplay', ',', 'good', 'music', '.', 'Dalton', 'as', 'the', 'tough', 'sheriff', 'and', 'Railsback', 'as', '``', 'redneck-villain', \"''\", '.', 'I', 'must', 'recommend', 'this', 'film', 'to', 'every', 'action-adventure', 'fan', '!', '10/10'], ['``', 'Kalifornia', \"''\", 'is', 'a', 'great', 'film', 'that', 'makes', 'us', 'look', 'at', 'ourselves.The', 'film', 'has', 'a', 'great', 'cast', ',', 'Brad', 'Pitt', '(', 'Johnny', 'Suede', ',', 'A', 'River', 'Runs', 'Through', 'It', ',', 'and', 'The', 'Legends', 'Of', 'The', 'Fall', ')', 'as', 'Early', 'Grayce', ',', 'David', 'Duchovny', '(', 'The', 'X', 'Files', ')', 'as', 'Brian', 'Kessler', ',', 'Michelle', 'Forbes', '(', 'Star', 'Trek', ':', 'The', 'Next', 'Generation', ',', 'Homicide', ':', 'Life', 'On', 'The', 'Street', ',', 'and', 'Escape', 'From', 'L.A.', ')', 'as', 'Carrie', 'Loughlin', ',', 'Brian', \"'s\", 'girlfriend', ',', 'and', 'Juliette', 'Lewis', '(', 'Natural', 'Born', 'Killers', ',', 'Cape', 'Fear', ',', 'and', 'What', \"'s\", 'Eating', 'Gilbert', 'Grape', ')', 'as', 'Adele', 'Corners', ',', 'Early', \"'s\", 'girlfriend', '.', 'Brian', 'Kessler', 'is', 'a', 'writer', 'who', 'is', 'a', 'Liberal', ',', 'is', 'getting', 'ready', 'to', 'write', 'a', 'book', 'about', 'serial', 'killers.Brian', 'and', 'his', 'girlfriend', ',', 'Carrie', 'decide', 'they', 'want', 'to', 'move', 'to', 'California', ',', 'so', 'Brian', 'places', 'an', 'ad', 'at', 'the', 'college', 'for', 'some', 'who', 'wants', 'to', 'go', 'to', 'California', ',', 'to', 'share', 'expenses', 'on', 'the', 'trip', '.', 'Early', 'Grayce', 'is', 'an', 'ex', 'con', 'and', 'sociopath', 'on', 'parole', ',', 'who', 'recently', 'lost', 'his', 'job', 'at', 'the', 'mirror', 'factory', 'in', 'town', ',', 'is', 'in', 'debt', ',', 'owes', 'his', 'landlord', 'money.Early', \"'s\", 'parole', 'officer', 'stops', 'to', 'visit', 'him', 'and', 'tells', 'him', 'about', 'a', 'job.Early', 'goes', 'to', 'the', 'college', 'and', 'sees', 'the', 'ad', ',', 'he', 'later', 'tells', 'Adele', ',', 'his', 'girlfriend', 'about', 'leaving', 'to', 'go', 'to', 'California.Early', 'and', 'Adele', 'meet', 'Brian', 'and', 'Carrie', 'at', 'the', 'bus', 'stop', 'and', 'leave', 'town.Brian', 'and', 'Carrie', 'do', 'not', 'know', 'that', 'he', 'is', 'a', 'killer', 'who', 'just', 'killed', 'his', 'landlord.For', 'a', 'little', 'while', 'Brian', 'and', 'Carrie', 'thought', 'of', 'Early', 'and', 'Adele', 'different', 'but', 'got', 'to', 'know', 'them', 'and', 'become', 'sort', 'of', 'friends', ',', 'Carrie', 'and', 'Adele', 'become', 'real', 'good', 'friends', '.', 'Their', 'journey', 'is', 'a', 'very', 'learning', 'one.Though', 'Brain', 'and', 'Carrie', 'not', 'knowing', 'early', 'is', 'a', 'killer', 'till', 'later', 'on', 'in', 'the', 'movie.The', 'question', 'Brian', 'asks', 'in', 'this', 'film', 'about', 'the', 'difference', 'between', 'killers', 'and', 'us', 'is', 'a', 'very', 'good', 'question.Early', 'Grayce', 'is', 'a', 'sociopath', 'who', 'does', \"n't\", 'see', 'the', 'error', 'of', 'his', 'ways', ',', 'goes', 'down', 'hill', 'later', 'on', 'and', 'pays', 'the', 'price', '.', 'This', 'film', 'is', 'a', 'great', 'movie', ',', 'I', 'give', 'it', '10/10', 'stars', 'and', '2', 'thumbs', 'up.I', 'love', 'the', 'songs', 'in', 'the', 'movie', ',', 'especially', 'at', 'the', 'end', 'of', 'the', 'film', ',', 'the', 'song', \"''\", 'Look', 'Up', 'To', 'The', 'Sky', \"''\", 'by', 'The', 'Indians', '.'], ['This', 'is', 'an', 'excellent', 'modern-day', 'film', 'noir', '...', '.', \"''\", 'excellent', \"''\", 'in', 'that', 'it', \"'s\", 'interesting', ',', 'start-to-finish', '.', 'There', 'are', 'some', 'holes', 'in', 'here', 'and', 'some', 'goofy', 'parts', 'that', 'make', 'you', 'shake', 'your', 'head', 'in', 'disbelief', '...', '..but', 'I', 'have', \"n't\", 'found', 'anyone', 'who', 'did', \"n't\", 'get', 'caught', 'up', 'in', 'this', 'story', '.', 'The', 'movie', 'has', 'the', 'right', 'amount', 'of', 'action', ',', 'suspense', ',', 'plot', 'twists', 'and', 'interesting', 'characters', '.', 'In', 'addition', ',', 'it', 'sports', 'some', 'nice', 'colors', 'and', 'cinematography', 'plus', 'a', 'good', 'guitar-based', 'soundtrack', '.', 'I', 'labeled', 'this', 'crime', 'movie', 'a', '``', 'film', 'noir', \"''\", 'because', 'it', \"'s\", 'gritty', 'and', 'the', 'all', 'the', 'characters', 'are', 'no', 'good', '.', 'Even', 'the', 'only', 'supposed-good', 'guy', ',', 'played', 'by', 'Nicholas', 'Cage', ',', 'gets', 'himself', 'in', 'trouble', 'by', 'lying', 'and', 'has', 'a', 'quick', 'affair', 'he', \"should't\", 'have', '.', 'He', 'also', 'does', 'something', 'at', 'the', 'end', 'which', 'is', \"n't\", 'right', ',', 'but', 'I', \"'m\", 'not', 'going', 'the', 'spoil', 'it', 'by', 'saying', '.', 'Suffice', 'to', 'say', ',', 'however', ',', 'that', 'the', 'rest', 'of', 'the', 'characters', 'are', 'so', 'bad', 'they', 'make', 'Cage', 'look', 'good', '!', 'Speaking', 'of', '``', 'bad', 'guys', ',', \"''\", 'does', 'anyone', 'do', 'it', 'better', 'than', 'Dennis', 'Hopper', '?', 'Not', 'many', '.', 'At', 'least', 'in', 'the', '``', 'deranged', \"''\", 'category', ',', 'he', \"'s\", 'tough', 'to', 'beat', '.', 'Lara', 'Flynn', 'Boyle', 'is', 'fun', 'to', 'watch', 'for', 'a', 'bunch', 'of', 'reasons', '.', 'J.T', '.', 'Walsh', 'gives', 'another', 'great', 'supporting', 'performance', ',', 'too', '.', 'This', 'is', 'one', 'of', 'those', 'films', 'that', 'never', 'got', 'much', 'publicity', ',', 'but', 'it', 'should', 'have', '.', 'You', \"'ll\", 'have', 'fun', 'watching', 'this', '.', 'By', 'the', 'way', ',', 'try', 'saying', 'the', 'name', 'of', 'this', 'movie', 'out', 'loud', 'three', 'times', 'fast', 'without', 'messing', 'it', 'up', '!'], ['``', 'If', 'I', 'wanted', 'to', 'dribble', ',', 'I', \"'d\", 'call', 'a', 'nurse', '.', \"''\", '``', 'Have', \"n't\", 'you', 'had', 'enough', '?', \"''\", '...', \"''\", 'More', 'than', 'enough', '.', \"''\", '``', 'You', 'got', 'me', 'a', 'choo-choo', '.', \"''\", '``', 'If', 'I', 'begin', 'to', 'die', ',', 'please', 'remove', '(', 'the', 'cowboy', 'hat', ')', 'from', 'my', 'head', '.', 'That', 'is', 'not', 'the', 'way', 'I', 'wish', 'to', 'be', 'remembered', '.', \"''\", 'Some', 'of', 'the', 'wonderfully', 'humorous', ',', 'and', 'often', 'insightful', ',', 'quotations', 'from', 'this', 'charming', 'and', 'often', 'insightful', 'film', '.', 'Dudley', 'Moore', 'is', 'charming', ',', 'lovable', 'and', 'rich', '.', 'Sir', 'John', 'Gielgud', 'is', 'aristocratic', ',', 'charming', 'and', 'loving', '...', 'and', 'poor', '.', 'The', 'two', 'have', 'a', 'non-father/father', 'and', 'son', 'relationship', 'which', 'defines', 'the', 'man', 'whom', 'Arthur', 'is', 'to', 'become', '.', 'Will', 'he', 'follow', 'his', 'heart', 'and', 'soul', ',', 'or', 'just', 'his', 'wealth', '?', 'Over', 'twenty-five', 'years', ',', 'I', \"'ve\", 'returned', 'to', 'this', 'movie', ',', 'with', 'glee', 'and', 'amusement', 'and', 'joy', '.', 'It', 'is', 'a', 'movie', 'to', 'return', 'to', ',', 'time', 'and', 'time', 'again', ',', 'and', 'remember', 'what', 'is', 'important', 'in', 'life', ',', 'as', 'short', 'as', 'it', 'is', '.', 'Judge', 'Miller'], ['When', 'I', 'saw', 'this', 'movie', 'a', 'few', 'days', 'ago', ',', 'my', 'eyes', 'were', 'completely', 'fixed', 'to', 'the', 'screen', '.', 'Its', 'greatness', 'held', 'my', 'attention', 'to', 'such', 'an', 'extent', 'that', 'I', 'focused', 'all', 'of', 'my', 'attention', 'on', 'it', 'for', 'its', 'entire', 'duration', '.', 'I', 'would', 'recommend', 'seeing', 'it', 'not', 'just', 'to', 'fans', 'of', 'anime', ',', 'but', 'to', 'anyone', 'who', 'likes', 'great', 'movies', 'period', '(', 'or', 'who', 'likes', 'really', 'weird', 'stuff', ')', '.', 'The', 'style', 'of', 'art', 'is', 'beautiful', ',', 'the', 'sound', 'is', 'perfect', ',', 'and', 'the', 'symbolism', 'within', 'it', 'is', 'breathtaking', '.', 'I', \"'ve\", 'heard', 'complaints', 'about', 'the', 'weird', 'insertion', 'of', 'English', 'text', 'in', 'the', 'movie', ',', 'but', 'I', 'think', 'the', 'way', 'its', 'done', 'is', 'complementary', 'to', 'the', 'strange', 'style', 'of', 'the', 'movie', '.', 'The', 'self-attributed', 'description', 'of', '``', 'Hello', 'Kitty', 'on', 'acid', \"''\", 'does', \"n't\", 'do', 'justice', 'to', 'this', 'film', 'of', 'absolutely', 'epic', 'proportions', '.', 'I', \"'d\", 'like', 'to', 'find', 'more', 'works', 'by', 'whoever', 'made', 'this', ',', 'and', 'see', 'them', '.']]\n",
            "[['great', 'entertainment', 'from', 'start', 'to', 'the', 'end', 'wonderful', 'performances', 'by', 'belushi', 'beach', 'dalton', 'railsback', 'some', 'twists', 'and', 'many', 'action', 'scenes', 'the', 'movie', 'was', 'made', 'for', 'me', '!', 'funny', 'lines', 'in', 'the', 'screenplay', 'good', 'music', 'dalton', 'as', 'the', 'tough', 'sheriff', 'and', 'railsback', 'as', 'redneck-villain', 'i', 'must', 'recommend', 'this', 'film', 'to', 'every', 'action-adventure', 'fan', '!'], ['kalifornia', 'is', 'a', 'great', 'film', 'that', 'makes', 'us', 'look', 'at', 'film', 'has', 'a', 'great', 'cast', 'brad', 'pitt', 'johnny', 'suede', 'a', 'river', 'runs', 'through', 'it', 'and', 'the', 'legends', 'of', 'the', 'fall', 'as', 'early', 'grayce', 'david', 'duchovny', 'the', 'x', 'files', 'as', 'brian', 'kessler', 'michelle', 'forbes', 'star', 'trek', 'the', 'next', 'generation', 'homicide', 'life', 'on', 'the', 'street', 'and', 'escape', 'from', 'as', 'carrie', 'loughlin', 'brian', 'girlfriend', 'and', 'juliette', 'lewis', 'natural', 'born', 'killers', 'cape', 'fear', 'and', 'what', 'eating', 'gilbert', 'grape', 'as', 'adele', 'corners', 'early', 'girlfriend', 'brian', 'kessler', 'is', 'a', 'writer', 'who', 'is', 'a', 'liberal', 'is', 'getting', 'ready', 'to', 'write', 'a', 'book', 'about', 'serial', 'and', 'his', 'girlfriend', 'carrie', 'decide', 'they', 'want', 'to', 'move', 'to', 'california', 'so', 'brian', 'places', 'an', 'ad', 'at', 'the', 'college', 'for', 'some', 'who', 'wants', 'to', 'go', 'to', 'california', 'to', 'share', 'expenses', 'on', 'the', 'trip', 'early', 'grayce', 'is', 'an', 'ex', 'con', 'and', 'sociopath', 'on', 'parole', 'who', 'recently', 'lost', 'his', 'job', 'at', 'the', 'mirror', 'factory', 'in', 'town', 'is', 'in', 'debt', 'owes', 'his', 'landlord', 'parole', 'officer', 'stops', 'to', 'visit', 'him', 'and', 'tells', 'him', 'about', 'a', 'goes', 'to', 'the', 'college', 'and', 'sees', 'the', 'ad', 'he', 'later', 'tells', 'adele', 'his', 'girlfriend', 'about', 'leaving', 'to', 'go', 'to', 'and', 'adele', 'meet', 'brian', 'and', 'carrie', 'at', 'the', 'bus', 'stop', 'and', 'leave', 'and', 'carrie', 'do', 'not', 'know', 'that', 'he', 'is', 'a', 'killer', 'who', 'just', 'killed', 'his', 'a', 'little', 'while', 'brian', 'and', 'carrie', 'thought', 'of', 'early', 'and', 'adele', 'different', 'but', 'got', 'to', 'know', 'them', 'and', 'become', 'sort', 'of', 'friends', 'carrie', 'and', 'adele', 'become', 'real', 'good', 'friends', 'their', 'journey', 'is', 'a', 'very', 'learning', 'brain', 'and', 'carrie', 'not', 'knowing', 'early', 'is', 'a', 'killer', 'till', 'later', 'on', 'in', 'the', 'question', 'brian', 'asks', 'in', 'this', 'film', 'about', 'the', 'difference', 'between', 'killers', 'and', 'us', 'is', 'a', 'very', 'good', 'grayce', 'is', 'a', 'sociopath', 'who', 'does', \"n't\", 'see', 'the', 'error', 'of', 'his', 'ways', 'goes', 'down', 'hill', 'later', 'on', 'and', 'pays', 'the', 'price', 'this', 'film', 'is', 'a', 'great', 'movie', 'i', 'give', 'it', 'stars', 'and', 'thumbs', 'love', 'the', 'songs', 'in', 'the', 'movie', 'especially', 'at', 'the', 'end', 'of', 'the', 'film', 'the', 'song', 'look', 'up', 'to', 'the', 'sky', 'by', 'the', 'indians'], ['this', 'is', 'an', 'excellent', 'modern-day', 'film', 'noir', 'excellent', 'in', 'that', 'it', 'interesting', 'start-to-finish', 'there', 'are', 'some', 'holes', 'in', 'here', 'and', 'some', 'goofy', 'parts', 'that', 'make', 'you', 'shake', 'your', 'head', 'in', 'disbelief', 'i', 'have', \"n't\", 'found', 'anyone', 'who', 'did', \"n't\", 'get', 'caught', 'up', 'in', 'this', 'story', 'the', 'movie', 'has', 'the', 'right', 'amount', 'of', 'action', 'suspense', 'plot', 'twists', 'and', 'interesting', 'characters', 'in', 'addition', 'it', 'sports', 'some', 'nice', 'colors', 'and', 'cinematography', 'plus', 'a', 'good', 'guitar-based', 'soundtrack', 'i', 'labeled', 'this', 'crime', 'movie', 'a', 'film', 'noir', 'because', 'it', 'gritty', 'and', 'the', 'all', 'the', 'characters', 'are', 'no', 'good', 'even', 'the', 'only', 'supposed-good', 'guy', 'played', 'by', 'nicholas', 'cage', 'gets', 'himself', 'in', 'trouble', 'by', 'lying', 'and', 'has', 'a', 'quick', 'affair', 'he', \"should't\", 'have', 'he', 'also', 'does', 'something', 'at', 'the', 'end', 'which', 'is', \"n't\", 'right', 'but', 'i', 'not', 'going', 'the', 'spoil', 'it', 'by', 'saying', 'suffice', 'to', 'say', 'however', 'that', 'the', 'rest', 'of', 'the', 'characters', 'are', 'so', 'bad', 'they', 'make', 'cage', 'look', 'good', '!', 'speaking', 'of', 'bad', 'guys', 'does', 'anyone', 'do', 'it', 'better', 'than', 'dennis', 'hopper', '?', 'not', 'many', 'at', 'least', 'in', 'the', 'deranged', 'category', 'he', 'tough', 'to', 'beat', 'lara', 'flynn', 'boyle', 'is', 'fun', 'to', 'watch', 'for', 'a', 'bunch', 'of', 'reasons', 'walsh', 'gives', 'another', 'great', 'supporting', 'performance', 'too', 'this', 'is', 'one', 'of', 'those', 'films', 'that', 'never', 'got', 'much', 'publicity', 'but', 'it', 'should', 'have', 'you', 'have', 'fun', 'watching', 'this', 'by', 'the', 'way', 'try', 'saying', 'the', 'name', 'of', 'this', 'movie', 'out', 'loud', 'three', 'times', 'fast', 'without', 'messing', 'it', 'up', '!'], ['if', 'i', 'wanted', 'to', 'dribble', 'i', 'call', 'a', 'nurse', 'have', \"n't\", 'you', 'had', 'enough', '?', 'more', 'than', 'enough', 'you', 'got', 'me', 'a', 'choo-choo', 'if', 'i', 'begin', 'to', 'die', 'please', 'remove', 'the', 'cowboy', 'hat', 'from', 'my', 'head', 'that', 'is', 'not', 'the', 'way', 'i', 'wish', 'to', 'be', 'remembered', 'some', 'of', 'the', 'wonderfully', 'humorous', 'and', 'often', 'insightful', 'quotations', 'from', 'this', 'charming', 'and', 'often', 'insightful', 'film', 'dudley', 'moore', 'is', 'charming', 'lovable', 'and', 'rich', 'sir', 'john', 'gielgud', 'is', 'aristocratic', 'charming', 'and', 'loving', 'and', 'poor', 'the', 'two', 'have', 'a', 'and', 'son', 'relationship', 'which', 'defines', 'the', 'man', 'whom', 'arthur', 'is', 'to', 'become', 'will', 'he', 'follow', 'his', 'heart', 'and', 'soul', 'or', 'just', 'his', 'wealth', '?', 'over', 'twenty-five', 'years', 'i', 'returned', 'to', 'this', 'movie', 'with', 'glee', 'and', 'amusement', 'and', 'joy', 'it', 'is', 'a', 'movie', 'to', 'return', 'to', 'time', 'and', 'time', 'again', 'and', 'remember', 'what', 'is', 'important', 'in', 'life', 'as', 'short', 'as', 'it', 'is', 'judge', 'miller'], ['when', 'i', 'saw', 'this', 'movie', 'a', 'few', 'days', 'ago', 'my', 'eyes', 'were', 'completely', 'fixed', 'to', 'the', 'screen', 'its', 'greatness', 'held', 'my', 'attention', 'to', 'such', 'an', 'extent', 'that', 'i', 'focused', 'all', 'of', 'my', 'attention', 'on', 'it', 'for', 'its', 'entire', 'duration', 'i', 'would', 'recommend', 'seeing', 'it', 'not', 'just', 'to', 'fans', 'of', 'anime', 'but', 'to', 'anyone', 'who', 'likes', 'great', 'movies', 'period', 'or', 'who', 'likes', 'really', 'weird', 'stuff', 'the', 'style', 'of', 'art', 'is', 'beautiful', 'the', 'sound', 'is', 'perfect', 'and', 'the', 'symbolism', 'within', 'it', 'is', 'breathtaking', 'i', 'heard', 'complaints', 'about', 'the', 'weird', 'insertion', 'of', 'english', 'text', 'in', 'the', 'movie', 'but', 'i', 'think', 'the', 'way', 'its', 'done', 'is', 'complementary', 'to', 'the', 'strange', 'style', 'of', 'the', 'movie', 'the', 'self-attributed', 'description', 'of', 'hello', 'kitty', 'on', 'acid', 'does', \"n't\", 'do', 'justice', 'to', 'this', 'film', 'of', 'absolutely', 'epic', 'proportions', 'i', 'like', 'to', 'find', 'more', 'works', 'by', 'whoever', 'made', 'this', 'and', 'see', 'them']]\n"
          ],
          "name": "stdout"
        }
      ]
    },
    {
      "metadata": {
        "id": "DSFWrZInMueS",
        "colab_type": "code",
        "colab": {
          "base_uri": "https://localhost:8080/",
          "height": 50
        },
        "outputId": "56c46895-8165-416e-eebe-099aeb9b719e"
      },
      "cell_type": "code",
      "source": [
        "print(\"Word count across all reviews (before stripping tokens):\", sum([len(token) for token in positive_tokenized]))\n",
        "stripped_negative_tokenized = []\n",
        "for tokens in negative_tokenized:\n",
        "  stripped_negative_tokenized.append([token.lower() for token in tokens if token.lower() in universe_vocabulary])\n",
        "\n",
        "print(\"Word count across all reviews (after stripping tokens):\", sum([len(token) for token in stripped_negative_tokenized]))"
      ],
      "execution_count": 87,
      "outputs": [
        {
          "output_type": "stream",
          "text": [
            "2696212\n",
            "2282105\n"
          ],
          "name": "stdout"
        }
      ]
    },
    {
      "metadata": {
        "id": "xDfk6j5gM3vF",
        "colab_type": "code",
        "colab": {
          "base_uri": "https://localhost:8080/",
          "height": 70
        },
        "outputId": "9436fe85-602e-43d9-f84d-8e020fa8dffd"
      },
      "cell_type": "code",
      "source": [
        "print(negative_tokenized[0:5])\n",
        "print(stripped_negative_tokenized[0:5])"
      ],
      "execution_count": 88,
      "outputs": [
        {
          "output_type": "stream",
          "text": [
            "[['``', 'Metamorphosis', \"''\", 'hold', 'a', 'tiny', 'bit', 'of', 'cult-value', ',', 'simply', 'because', 'it', 'was', 'written', 'and', 'directed', 'by', 'George', 'Eastman', '.', 'This', 'Italian', 'bloke', 'is', 'more', 'or', 'less', 'the', 'personification', 'of', 'male', 'sleaze', 'and', 'starred', 'in', 'pretty', 'much', 'every', 'rancid', 'Joe', \"D'Amato\", 'production', 'during', 'the', 'late', \"70's/early\", '80', \"'s\", '.', 'Would', \"n't\", 'it', 'be', 'interesting', 'for', 'avid', 'Euro-cult', 'purchasers', 'to', 'own', 'the', 'only', 'movie', 'directed', 'by', 'the', 'guy', 'who', 'walked', 'around', 'bare-butted', 'in', '``', 'Erotic', 'Nights', 'of', 'the', 'Living', 'Dead', \"''\", 'all', 'the', 'time', '?', 'I', 'thought', 'so', '!', 'Now', ',', 'unlike', 'the', 'movies', 'he', 'starred', 'in', ',', 'Eastman', \"'s\", 'own', '``', 'Metamorphosis', \"''\", 'is', 'kind', 'of', 'disappointing', 'in', 'the', 'gore', '&', 'sleaze', 'departments', '.', 'There', 'are', 'a', 'handful', 'of', 'nasty', 'murders', ',', 'cheesy', 'monster', 'effects', 'and', 'naked', 'female', 'bodies', '(', 'a', 'guest', 'appearance', 'by', 'sleaze-queen', 'Laura', 'Gemser', '!', ')', 'on', 'display', ',', 'but', 'it', \"'s\", 'mainly', 'a', 'talkative', 'movie', '.', 'The', 'handsome', '&', 'eloquent', 'Dr.', 'Houseman', 'is', 'on', 'the', 'verge', 'of', 'a', 'scientific', 'breakthrough', 'with', 'his', 'research', 'on', 'human', 'DNA', 'codes', 'when', 'suddenly', 'the', 'university', 'he', 'works', 'for', 'threatens', 'to', 'cancel', 'his', 'funds', '.', 'He', 'developed', 'a', 'theory', 'to', 'decode', 'genes', 'and', 'block', 'the', 'human', 'ageing', 'process', ',', 'but', 'if', 'he', 'does', \"n't\", 'come', 'up', 'with', 'detailed', 'reports', 'any', 'time', 'soon', ',', 'his', 'research', 'will', 'be', 'stopped', '.', 'So', 'Dr.', 'Houseman', 'does', 'what', 'any', 'intelligent', 'scientist', 'would', 'do', 'and', 'injects', 'the', 'untested', 'serum', 'into', 'his', 'own', 'veins', '.', 'Needless', 'to', 'say', '(', 'and', 'like', 'the', 'title', 'implies', ')', ',', 'he', 'slowly', 'turns', 'into', 'murderous', 'monster', 'that', 'actually', 'ages', 'much', 'quicker', '!', 'In', 'other', 'words', ',', 'his', 'research', 'sucked', '!', 'Like', 'the', 'other', 'reviewers', 'already', 'mentioned', ',', 'this', 'movie', '``', 'borrows', \"''\", 'a', 'lot', 'of', 'ideas', 'from', 'David', 'Cronenberg', \"'s\", '``', 'The', 'Fly', \"''\", '\\x96', 'the', 'dramatic', 'romance', 'sub', 'plot', 'included', '-', 'but', 'does', \"n't\", 'add', 'any', 'originality', 'from', 'its', 'own', '.', 'The', 'big', 'difference', 'is', 'that', 'you', 'constantly', 'feel', 'connected', 'with', 'Jeff', 'Goldblum', \"'s\", 'character', 'in', '``', 'The', 'Fly', \"''\", ',', 'whereas', 'Dr.', 'Houseman', 'becomes', 'just', 'another', 'monster', 'that', 'needs', 'to', 'be', 'destroyed', 'as', 'fast', 'as', 'possible', '.', 'The', 'rapid-ageing-syndrome', 'aspect', 'also', 'reminded', 'me', 'of', 'Ruggero', 'Deodato', \"'s\", 'sadly', 'underrated', 'giallo', '``', 'Phantom', 'of', 'Death', \"''\", ',', 'only', 'the', 'protagonist', 'in', 'that', 'film', 'inherited', 'the', 'disease', 'and', 'did', \"n't\", 'inflict', 'it', 'on', 'himself', '.', 'The', 'physical', 'deterioration', 'of', 'the', 'carriers', 'is', 'very', 'similar', 'in', 'both', 'films', ',', 'though', '.', 'Few', 'scares', 'or', 'excitement', 'to', 'discover', 'here', ',', 'instead', 'the', 'movie', 'features', 'loads', 'of', 'bad', 'acting', ',', 'poor', 'lighting', ',', 'lousy', 'editing', 'and', 'a', 'completely', 'retarded', 'climax', 'to', 'boot', '.', 'Feel', 'free', 'to', 'skip', 'this', 'one', '.'], ['**May', 'Contain', 'Spoilers**', 'A', 'dude', 'in', 'a', 'dopey-looking', 'Kong', 'suit', '(', 'the', 'same', 'one', 'used', 'in', 'KING', 'KONG', 'VS.', 'GODZILLA', 'in', '1962', ')', 'provides', 'much', 'of', 'the', 'laffs', 'in', 'this', 'much-mocked', 'monster', 'flick', '.', 'Kong', 'is', 'resurrected', 'on', 'Mondo', 'Island', 'and', 'helps', 'out', 'the', 'lunkhead', 'hero', 'and', 'other', 'good', 'guys', 'this', 'time', 'around', '.', 'The', 'vampire-like', 'villain', 'is', 'named', 'Dr.', 'Who\\x96-funny', ',', 'he', 'does', \"n't\", 'look', 'like', 'Peter', 'Cushing', '!', 'Kong', 'finally', 'dukes', 'it', 'out', 'with', 'Who', \"'s\", 'pride', 'and', 'joy', ',', 'a', 'giant', 'robot', 'ape', 'that', 'looks', 'like', 'a', 'bad', 'metal', 'sculpture', 'of', 'Magilla', 'Gorilla', '.', 'Like', 'many', 'of', 'Honda', \"'s\", 'flicks', 'this', 'may', 'have', 'had', 'some', 'merit', 'before', 'American', 'audiences', 'diddled', 'around', 'with', 'it', 'and', 'added', 'new', 'footage', '.', 'The', 'Rankin/Bass', 'animation', 'company', 'had', 'a', 'hand', 'in', 'this', 'mess', '.', 'They', 'should', 'have', 'stuck', 'to', 'superior', 'children', \"'s\", 'programs', 'like', 'The', 'Little', 'Drummer', 'Boy', '.'], ['What', 'do', 'you', 'get', 'when', 'you', 'mix', 'a', 'lump', 'of', 'clichés', 'with', 'a', 'directionless', 'pacing', 'and', 'a', 'group', 'of', 'characters', 'who', 'you', 'do', \"n't\", 'care', 'about', 'and', 'a', 'failed', 'attempt', 'at', 'creating', 'an', 'appealing', 'visual', 'style', 'and', 'an', 'even', 'bigger', 'lump', 'of', 'clichés', 'and', 'a', 'weak', 'sense', 'of', 'humor', 'and', 'a', 'really', 'big', 'budget', '?', 'Why', ',', 'you', 'get', 'one', 'of', 'the', 'most', 'intolerably', 'unwatchable', 'movies', 'ever', 'made', '!', 'I', \"'m\", 'referring', ',', 'of', 'course', ',', 'to', 'Domino', '.', 'Here', 'are', 'some', 'things', 'that', 'people', 'might', 'say', 'during', 'the', 'viewing', 'of', 'this', 'movie', ':', '``', 'Ooh', ',', 'wow', ',', 'the', 'storyline', 'is', 'told', 'out', 'of', 'sequence', ',', 'that', 'has', \"n't\", 'been', 'done', 'a', 'billion', 'times', 'before', '.', 'And', 'much', 'more', 'skillfully', 'than', 'in', 'this', 'movie', '.', \"''\", '``', 'Wow', ',', 'look', 'at', 'all', 'of', 'the', 'flashing', 'lights', 'and', 'grainy', 'film', 'texture', 'and', 'elaborate', 'transitions', '!', 'The', 'director', 'is', 'trying', 'so', 'hard', 'to', 'make', 'things', 'look', 'arty', 'and', 'to', 'establish', 'a', 'visual', 'style', '!', 'It', \"'s\", 'just', 'too', 'bad', 'that', 'none', 'of', 'these', 'effects', 'add', 'anything', 'to', 'the', 'movie', 'or', 'make', 'sense', 'with', 'the', 'scenes', 'they', \"'re\", 'in', ',', 'and', 'it', \"'s\", 'also', 'too', 'bad', 'that', 'most', 'of', 'them', 'come', 'across', 'as', 'irritating', '!', \"''\", '``', 'I', \"'ve\", 'heard', 'that', 'exchange', 'of', 'dialogue', 'in', 'about', 'twenty', 'thousand', 'movies', 'before', '!', \"''\", '``', 'I', \"'ve\", 'seen', 'this', 'scene', 'in', 'about', 'thirty', 'thousand', 'movies', 'before', '!', \"''\", '``', 'This', 'one', 'too', '!', \"''\", '``', 'Uh', ',', 'did', \"n't\", 'they', 'reveal', 'this', \"'plot\", 'twist', \"'\", 'about', 'half', 'an', 'hour', 'ago', '?', 'Was', 'that', 'supposed', 'to', 'be', 'surprising', '?', \"''\", '``', 'If', 'this', 'movie', 'is', 'supposed', 'to', 'be', 'showing', 'a', \"'tough\", 'chick', \"'\", 'going', 'around', 'kicking', 'ass', '...', 'when', 'why', 'does', \"n't\", 'she', 'do', 'very', 'much', 'of', 'it', '?', \"''\", '``', 'I', 'ca', \"n't\", 'believe', 'how', 'unoriginal', 'this', 'dialogue', 'is', '.', \"''\", '``', 'How', 'long', 'is', 'this', 'thing', '?', 'I', 'feel', 'like', 'I', \"'ve\", 'been', 'watching', 'it', 'for', 'over', 'four', 'hours', 'already', '.', \"''\", '``', 'I', 'have', 'no', 'idea', 'what', 'just', 'happened', ',', 'but', 'also', ',', 'I', 'do', \"n't\", 'particularly', 'feel', 'motivated', 'to', 'try', 'to', 'figure', 'it', 'out', '.', \"''\", '``', 'Is', 'this', 'over', 'yet', '?', \"''\", '``', 'I', 'want', 'my', 'money', 'back', '.', \"''\", '``', 'The', 'songs', 'in', 'this', 'soundtrack', 'feel', 'so', 'misused', 'here', '.', \"''\", '``', 'It', \"'s\", 'ironic', 'that', 'all', 'of', 'the', 'cursing', 'they', 'use', 'actually', 'detracts', 'from', 'the', 'impact', 'of', 'each', 'one', '.', \"''\", '``', 'UGH', '.', \"''\", 'And', ',', 'finally', ':', '``', 'I', 'might', 'have', 'to', 'end', 'my', 'friendship', 'with', 'the', 'person', 'who', 'recommended', 'this', 'movie', 'to', 'me', '.', \"''\", 'In', 'summation', ',', 'this', 'movie', 'is', 'a', 'failure', 'in', 'nearly', 'every', 'aspect', '.', 'Avoid', 'watching', 'it', 'at', 'all', 'costs', '.', 'If', 'your', 'house', 'is', 'on', 'fire', 'and', 'this', 'movie', 'is', 'playing', 'in', 'the', 'only', 'room', 'that', 'is', \"n't\", 'flammable', ',', 'you', 'should', 'seriously', 'consider', 'being', 'burned', 'alive', 'instead', '.', '(', 'If', 'I', 'sound', 'bitter', ',', 'it', \"'s\", 'because', 'I', 'just', 'spent', 'over', 'two', 'hours', 'watching', 'this', 'movie', 'and', ',', 'uh', ',', 'I', 'did', \"n't\", 'enjoy', 'it', 'very', 'much', '.', ')'], ['Any', 'movie', 'in', 'which', 'Brooke', 'Shields', 'out-acts', 'a', 'Fonda', 'is', 'going', 'to', 'be', 'both', 'an', 'anomaly', 'and', 'a', 'horror', '.', 'Shields', 'actually', 'is', 'only', 'bad', 'because', 'she', \"'s\", 'youthful', ',', 'inexperienced', ',', 'and', 'clearly', 'not', 'well', 'directed', 'by', 'her', 'co-star', '.', 'Peter', 'Fonda', 'is', 'bad', 'because', ',', 'well', ',', 'because', 'he', \"'s\", 'bad', '.', 'I', 'liked', 'him', 'in', 'Ulee', \"'s\", 'Gold', ',', 'years', 'later', ',', 'but', 'Lord', 'above', ',', 'he', \"'s\", 'awful', 'here', '.', 'Not', 'that', 'anyone', 'else', 'is', 'good', '.', 'There', \"'s\", 'not', 'a', 'single', 'performance', '(', 'outside', 'Henry', 'Fonda', \"'s\", 'delightful', 'cameo', ')', 'that', 'is', 'even', 'passable', '.', 'I', \"'ve\", 'never', 'seen', 'a', 'movie', 'with', 'this', 'many', 'bad', 'performances', '.', 'In', 'the', 'case', 'of', 'Luke', 'Askew', ',', 'the', 'chief', 'villain', ',', 'it', \"'s\", 'clear', 'this', 'is', 'because', 'of', 'poor', 'dialogue', 'and', 'direction', ',', 'as', 'he', \"'s\", 'done', 'good', 'work', 'in', 'the', 'past', '.', 'But', 'his', 'partner', ',', 'played', 'by', 'Ted', 'Markland', ',', 'is', 'an', 'embarrassing', 'ham', '.', 'The', 'writing', 'is', 'just', 'bloody', 'awful', ',', 'and', 'the', 'actors', 'can', 'not', 'be', 'faulted', 'for', 'the', 'terrible', 'things', 'they', 'have', 'to', 'say', '.', 'But', 'they', 'say', 'them', 'so', 'badly', '!', 'The', 'editing', 'and', 'direction', 'are', 'worse', 'than', 'pedestrian', '.', 'Shots', 'are', 'held', 'way', 'too', 'long', 'for', 'no', 'dramatic', 'reason', ',', 'or', 'cut', 'off', 'before', 'the', 'impact', 'of', 'the', 'scene', 'can', 'be', 'realized', '.', 'This', 'picture', 'was', 'far', 'worse', 'than', 'I', \"'d\", 'imagined', 'and', 'would', 'have', 'been', 'utterly', 'forgotten', '(', 'and', 'probably', 'never', 'even', 'made', ')', 'without', 'the', 'participation', 'of', 'a', 'couple', 'of', 'famous', 'names', '.', 'One', 'bright', 'spot', ':', 'the', 'cinematography', 'in', 'the', 'Grand', 'Canyon', 'is', 'exquisite', ',', 'capturing', 'the', 'beauty', 'of', 'that', 'area', 'in', 'a', 'way', 'even', 'big-screen', 'Imax', 'productions', 'have', 'not', 'quite', 'done', 'so', 'well', '.', 'And', 'finally', ':', 'either', 'this', 'is', 'a', 'bad', 'version', 'of', 'Paper', 'Moon', ',', 'with', 'a', 'lovable', 'pair', 'of', 'father-daughter', 'types', ',', 'or', 'it', \"'s\", 'a', 'bad', 'version', 'of', 'Pretty', 'Baby', ',', 'with', 'a', 'considerably', 'more', 'icky', 'romantic', 'relationship', 'between', 'a', 'forty-something', 'and', 'a', '13-year-old', '.', 'It', 'suggests', 'more', 'of', 'the', 'latter', 'than', 'the', 'former', ',', 'and', 'thus', 'is', 'pretty', 'disturbing', '.'], ['I', 'just', 'got', 'back', 'from', 'this', 'free', 'screening', ',', 'and', 'this', '``', 'Osama', 'Witch', 'Project', \"''\", 'is', 'the', 'hands-down', 'worst', 'film', 'I', \"'ve\", 'seen', 'this', 'year', ',', 'worse', 'than', 'even', '``', 'Catwoman', \"''\", '-', 'which', 'had', 'the', 'decency', 'to', 'at', 'least', 'pass', 'itself', 'off', 'as', 'fiction', '.', 'In', '``', 'September', 'Tapes', ',', \"''\", 'a', '``', 'film', 'crew', \"''\", 'of', '``', 'documentary', 'journalists', \"''\", 'heads', 'to', 'Afghanistan', '-', 'despite', 'being', 'thoroughly', 'unprepared', 'for', 'the', 'trip', ',', 'the', 'conditions', 'and', ',', 'oh', 'yeah', ',', 'the', 'psychotic', 'and', 'ridiculous', 'vendetta', 'of', 'their', 'filmmaker', 'leader', 'to', 'avenge', 'his', 'wife', \"'s\", 'death', 'on', 'Sept.', '11', '-', 'to', 'track', 'down', 'Osama', 'bin', 'Laden', '.', 'They', '``', 'made', \"''\", 'eight', 'tapes', 'on', 'their', 'journey', ',', 'which', 'now', '``', 'document', \"''\", 'their', 'travels', 'and', ',', 'of', 'course', ',', 'their', 'attempts', 'to', 'kill', 'the', 'terrorist', 'leader', '.', '(', 'The', 'eight', 'tapes', ',', 'thankfully', ',', 'all', 'end', 'at', 'points', 'significant', 'in', 'the', 'narrative', ',', 'which', 'is', 'convenient', 'for', 'a', '``', 'documentary', '.', \"''\", ')', 'The', 'psychotic', ',', 'idiotic', 'protagonist', '-', 'who', 'is', 'given', 'to', 'long', ',', 'significant', 'speeches', 'that', 'he', 'probably', 'learned', 'watching', '``', 'MacGyver', \"''\", '-', 'cares', 'nothing', 'for', 'his', 'own', 'life', 'or', 'the', 'life', 'of', 'his', 'innocent', 'crew', 'as', 'he', 'gets', 'them', 'further', 'and', 'further', 'into', 'danger', 'through', 'a', 'series', 'of', 'completely', 'dumb', 'mishaps', '.', 'I', 'do', \"n't\", 'know', 'why', 'he', 'did', \"n't\", 'just', 'wear', 'a', 'sign', 'on', 'his', 'back', 'that', 'said', '``', 'Shoot', 'me', '.', \"''\", 'The', 'crew', \"'s\", 'translator', ',', 'supposedly', 'their', 'sensible', 'voice-of-reason', ',', 'does', 'little', 'more', 'than', 'whine', 'and', 'gets', 'baffled', 'as', 'the', 'idiot', 'hero', 'leads', 'them', 'into', 'doom', '.', 'You', 'wish', 'they', \"'d\", 'brought', 'along', 'someone', 'on', 'their', 'trip', 'to', 'call', 'them', 'all', 'morons', '.', 'Around', '``', 'Tape', '4', ',', \"''\", 'I', 'began', 'rooting', 'for', 'the', 'terrorists', 'to', 'shoot', 'the', 'film', 'crew', '.']]\n",
            "[['metamorphosis', 'hold', 'a', 'tiny', 'bit', 'of', 'cult-value', 'simply', 'because', 'it', 'was', 'written', 'and', 'directed', 'by', 'george', 'eastman', 'this', 'italian', 'bloke', 'is', 'more', 'or', 'less', 'the', 'personification', 'of', 'male', 'sleaze', 'and', 'starred', 'in', 'pretty', 'much', 'every', 'rancid', 'joe', \"d'amato\", 'production', 'during', 'the', 'late', 'would', \"n't\", 'it', 'be', 'interesting', 'for', 'avid', 'euro-cult', 'purchasers', 'to', 'own', 'the', 'only', 'movie', 'directed', 'by', 'the', 'guy', 'who', 'walked', 'around', 'bare-butted', 'in', 'erotic', 'nights', 'of', 'the', 'living', 'dead', 'all', 'the', 'time', '?', 'i', 'thought', 'so', '!', 'now', 'unlike', 'the', 'movies', 'he', 'starred', 'in', 'eastman', 'own', 'metamorphosis', 'is', 'kind', 'of', 'disappointing', 'in', 'the', 'gore', 'sleaze', 'departments', 'there', 'are', 'a', 'handful', 'of', 'nasty', 'murders', 'cheesy', 'monster', 'effects', 'and', 'naked', 'female', 'bodies', 'a', 'guest', 'appearance', 'by', 'sleaze-queen', 'laura', 'gemser', '!', 'on', 'display', 'but', 'it', 'mainly', 'a', 'talkative', 'movie', 'the', 'handsome', 'eloquent', 'houseman', 'is', 'on', 'the', 'verge', 'of', 'a', 'scientific', 'breakthrough', 'with', 'his', 'research', 'on', 'human', 'dna', 'codes', 'when', 'suddenly', 'the', 'university', 'he', 'works', 'for', 'threatens', 'to', 'cancel', 'his', 'funds', 'he', 'developed', 'a', 'theory', 'to', 'decode', 'genes', 'and', 'block', 'the', 'human', 'ageing', 'process', 'but', 'if', 'he', 'does', \"n't\", 'come', 'up', 'with', 'detailed', 'reports', 'any', 'time', 'soon', 'his', 'research', 'will', 'be', 'stopped', 'so', 'houseman', 'does', 'what', 'any', 'intelligent', 'scientist', 'would', 'do', 'and', 'injects', 'the', 'untested', 'serum', 'into', 'his', 'own', 'veins', 'needless', 'to', 'say', 'and', 'like', 'the', 'title', 'implies', 'he', 'slowly', 'turns', 'into', 'murderous', 'monster', 'that', 'actually', 'ages', 'much', 'quicker', '!', 'in', 'other', 'words', 'his', 'research', 'sucked', '!', 'like', 'the', 'other', 'reviewers', 'already', 'mentioned', 'this', 'movie', 'borrows', 'a', 'lot', 'of', 'ideas', 'from', 'david', 'cronenberg', 'the', 'fly', 'the', 'dramatic', 'romance', 'sub', 'plot', 'included', 'but', 'does', \"n't\", 'add', 'any', 'originality', 'from', 'its', 'own', 'the', 'big', 'difference', 'is', 'that', 'you', 'constantly', 'feel', 'connected', 'with', 'jeff', 'goldblum', 'character', 'in', 'the', 'fly', 'whereas', 'houseman', 'becomes', 'just', 'another', 'monster', 'that', 'needs', 'to', 'be', 'destroyed', 'as', 'fast', 'as', 'possible', 'the', 'rapid-ageing-syndrome', 'aspect', 'also', 'reminded', 'me', 'of', 'ruggero', 'deodato', 'sadly', 'underrated', 'giallo', 'phantom', 'of', 'death', 'only', 'the', 'protagonist', 'in', 'that', 'film', 'inherited', 'the', 'disease', 'and', 'did', \"n't\", 'inflict', 'it', 'on', 'himself', 'the', 'physical', 'deterioration', 'of', 'the', 'carriers', 'is', 'very', 'similar', 'in', 'both', 'films', 'though', 'few', 'scares', 'or', 'excitement', 'to', 'discover', 'here', 'instead', 'the', 'movie', 'features', 'loads', 'of', 'bad', 'acting', 'poor', 'lighting', 'lousy', 'editing', 'and', 'a', 'completely', 'retarded', 'climax', 'to', 'boot', 'feel', 'free', 'to', 'skip', 'this', 'one'], ['contain', 'a', 'dude', 'in', 'a', 'dopey-looking', 'kong', 'suit', 'the', 'same', 'one', 'used', 'in', 'king', 'kong', 'godzilla', 'in', 'provides', 'much', 'of', 'the', 'laffs', 'in', 'this', 'much-mocked', 'monster', 'flick', 'kong', 'is', 'resurrected', 'on', 'mondo', 'island', 'and', 'helps', 'out', 'the', 'lunkhead', 'hero', 'and', 'other', 'good', 'guys', 'this', 'time', 'around', 'the', 'vampire-like', 'villain', 'is', 'named', 'he', 'does', \"n't\", 'look', 'like', 'peter', 'cushing', '!', 'kong', 'finally', 'dukes', 'it', 'out', 'with', 'who', 'pride', 'and', 'joy', 'a', 'giant', 'robot', 'ape', 'that', 'looks', 'like', 'a', 'bad', 'metal', 'sculpture', 'of', 'magilla', 'gorilla', 'like', 'many', 'of', 'honda', 'flicks', 'this', 'may', 'have', 'had', 'some', 'merit', 'before', 'american', 'audiences', 'diddled', 'around', 'with', 'it', 'and', 'added', 'new', 'footage', 'the', 'animation', 'company', 'had', 'a', 'hand', 'in', 'this', 'mess', 'they', 'should', 'have', 'stuck', 'to', 'superior', 'children', 'programs', 'like', 'the', 'little', 'drummer', 'boy'], ['what', 'do', 'you', 'get', 'when', 'you', 'mix', 'a', 'lump', 'of', 'clichés', 'with', 'a', 'directionless', 'pacing', 'and', 'a', 'group', 'of', 'characters', 'who', 'you', 'do', \"n't\", 'care', 'about', 'and', 'a', 'failed', 'attempt', 'at', 'creating', 'an', 'appealing', 'visual', 'style', 'and', 'an', 'even', 'bigger', 'lump', 'of', 'clichés', 'and', 'a', 'weak', 'sense', 'of', 'humor', 'and', 'a', 'really', 'big', 'budget', '?', 'why', 'you', 'get', 'one', 'of', 'the', 'most', 'intolerably', 'unwatchable', 'movies', 'ever', 'made', '!', 'i', 'referring', 'of', 'course', 'to', 'domino', 'here', 'are', 'some', 'things', 'that', 'people', 'might', 'say', 'during', 'the', 'viewing', 'of', 'this', 'movie', 'ooh', 'wow', 'the', 'storyline', 'is', 'told', 'out', 'of', 'sequence', 'that', 'has', \"n't\", 'been', 'done', 'a', 'billion', 'times', 'before', 'and', 'much', 'more', 'skillfully', 'than', 'in', 'this', 'movie', 'wow', 'look', 'at', 'all', 'of', 'the', 'flashing', 'lights', 'and', 'grainy', 'film', 'texture', 'and', 'elaborate', 'transitions', '!', 'the', 'director', 'is', 'trying', 'so', 'hard', 'to', 'make', 'things', 'look', 'arty', 'and', 'to', 'establish', 'a', 'visual', 'style', '!', 'it', 'just', 'too', 'bad', 'that', 'none', 'of', 'these', 'effects', 'add', 'anything', 'to', 'the', 'movie', 'or', 'make', 'sense', 'with', 'the', 'scenes', 'they', 'in', 'and', 'it', 'also', 'too', 'bad', 'that', 'most', 'of', 'them', 'come', 'across', 'as', 'irritating', '!', 'i', 'heard', 'that', 'exchange', 'of', 'dialogue', 'in', 'about', 'twenty', 'thousand', 'movies', 'before', '!', 'i', 'seen', 'this', 'scene', 'in', 'about', 'thirty', 'thousand', 'movies', 'before', '!', 'this', 'one', 'too', '!', 'uh', 'did', \"n't\", 'they', 'reveal', 'this', 'twist', 'about', 'half', 'an', 'hour', 'ago', '?', 'was', 'that', 'supposed', 'to', 'be', 'surprising', '?', 'if', 'this', 'movie', 'is', 'supposed', 'to', 'be', 'showing', 'a', 'chick', 'going', 'around', 'kicking', 'ass', 'when', 'why', 'does', \"n't\", 'she', 'do', 'very', 'much', 'of', 'it', '?', 'i', 'ca', \"n't\", 'believe', 'how', 'unoriginal', 'this', 'dialogue', 'is', 'how', 'long', 'is', 'this', 'thing', '?', 'i', 'feel', 'like', 'i', 'been', 'watching', 'it', 'for', 'over', 'four', 'hours', 'already', 'i', 'have', 'no', 'idea', 'what', 'just', 'happened', 'but', 'also', 'i', 'do', \"n't\", 'particularly', 'feel', 'motivated', 'to', 'try', 'to', 'figure', 'it', 'out', 'is', 'this', 'over', 'yet', '?', 'i', 'want', 'my', 'money', 'back', 'the', 'songs', 'in', 'this', 'soundtrack', 'feel', 'so', 'misused', 'here', 'it', 'ironic', 'that', 'all', 'of', 'the', 'cursing', 'they', 'use', 'actually', 'detracts', 'from', 'the', 'impact', 'of', 'each', 'one', 'ugh', 'and', 'finally', 'i', 'might', 'have', 'to', 'end', 'my', 'friendship', 'with', 'the', 'person', 'who', 'recommended', 'this', 'movie', 'to', 'me', 'in', 'summation', 'this', 'movie', 'is', 'a', 'failure', 'in', 'nearly', 'every', 'aspect', 'avoid', 'watching', 'it', 'at', 'all', 'costs', 'if', 'your', 'house', 'is', 'on', 'fire', 'and', 'this', 'movie', 'is', 'playing', 'in', 'the', 'only', 'room', 'that', 'is', \"n't\", 'flammable', 'you', 'should', 'seriously', 'consider', 'being', 'burned', 'alive', 'instead', 'if', 'i', 'sound', 'bitter', 'it', 'because', 'i', 'just', 'spent', 'over', 'two', 'hours', 'watching', 'this', 'movie', 'and', 'uh', 'i', 'did', \"n't\", 'enjoy', 'it', 'very', 'much'], ['any', 'movie', 'in', 'which', 'brooke', 'shields', 'out-acts', 'a', 'fonda', 'is', 'going', 'to', 'be', 'both', 'an', 'anomaly', 'and', 'a', 'horror', 'shields', 'actually', 'is', 'only', 'bad', 'because', 'she', 'youthful', 'inexperienced', 'and', 'clearly', 'not', 'well', 'directed', 'by', 'her', 'co-star', 'peter', 'fonda', 'is', 'bad', 'because', 'well', 'because', 'he', 'bad', 'i', 'liked', 'him', 'in', 'ulee', 'gold', 'years', 'later', 'but', 'lord', 'above', 'he', 'awful', 'here', 'not', 'that', 'anyone', 'else', 'is', 'good', 'there', 'not', 'a', 'single', 'performance', 'outside', 'henry', 'fonda', 'delightful', 'cameo', 'that', 'is', 'even', 'passable', 'i', 'never', 'seen', 'a', 'movie', 'with', 'this', 'many', 'bad', 'performances', 'in', 'the', 'case', 'of', 'luke', 'askew', 'the', 'chief', 'villain', 'it', 'clear', 'this', 'is', 'because', 'of', 'poor', 'dialogue', 'and', 'direction', 'as', 'he', 'done', 'good', 'work', 'in', 'the', 'past', 'but', 'his', 'partner', 'played', 'by', 'ted', 'markland', 'is', 'an', 'embarrassing', 'ham', 'the', 'writing', 'is', 'just', 'bloody', 'awful', 'and', 'the', 'actors', 'can', 'not', 'be', 'faulted', 'for', 'the', 'terrible', 'things', 'they', 'have', 'to', 'say', 'but', 'they', 'say', 'them', 'so', 'badly', '!', 'the', 'editing', 'and', 'direction', 'are', 'worse', 'than', 'pedestrian', 'shots', 'are', 'held', 'way', 'too', 'long', 'for', 'no', 'dramatic', 'reason', 'or', 'cut', 'off', 'before', 'the', 'impact', 'of', 'the', 'scene', 'can', 'be', 'realized', 'this', 'picture', 'was', 'far', 'worse', 'than', 'i', 'imagined', 'and', 'would', 'have', 'been', 'utterly', 'forgotten', 'and', 'probably', 'never', 'even', 'made', 'without', 'the', 'participation', 'of', 'a', 'couple', 'of', 'famous', 'names', 'one', 'bright', 'spot', 'the', 'cinematography', 'in', 'the', 'grand', 'canyon', 'is', 'exquisite', 'capturing', 'the', 'beauty', 'of', 'that', 'area', 'in', 'a', 'way', 'even', 'big-screen', 'imax', 'productions', 'have', 'not', 'quite', 'done', 'so', 'well', 'and', 'finally', 'either', 'this', 'is', 'a', 'bad', 'version', 'of', 'paper', 'moon', 'with', 'a', 'lovable', 'pair', 'of', 'father-daughter', 'types', 'or', 'it', 'a', 'bad', 'version', 'of', 'pretty', 'baby', 'with', 'a', 'considerably', 'more', 'icky', 'romantic', 'relationship', 'between', 'a', 'forty-something', 'and', 'a', 'it', 'suggests', 'more', 'of', 'the', 'latter', 'than', 'the', 'former', 'and', 'thus', 'is', 'pretty', 'disturbing'], ['i', 'just', 'got', 'back', 'from', 'this', 'free', 'screening', 'and', 'this', 'osama', 'witch', 'project', 'is', 'the', 'hands-down', 'worst', 'film', 'i', 'seen', 'this', 'year', 'worse', 'than', 'even', 'catwoman', 'which', 'had', 'the', 'decency', 'to', 'at', 'least', 'pass', 'itself', 'off', 'as', 'fiction', 'in', 'september', 'tapes', 'a', 'film', 'crew', 'of', 'documentary', 'journalists', 'heads', 'to', 'afghanistan', 'despite', 'being', 'thoroughly', 'unprepared', 'for', 'the', 'trip', 'the', 'conditions', 'and', 'oh', 'yeah', 'the', 'psychotic', 'and', 'ridiculous', 'vendetta', 'of', 'their', 'filmmaker', 'leader', 'to', 'avenge', 'his', 'wife', 'death', 'on', 'to', 'track', 'down', 'osama', 'bin', 'laden', 'they', 'made', 'eight', 'tapes', 'on', 'their', 'journey', 'which', 'now', 'document', 'their', 'travels', 'and', 'of', 'course', 'their', 'attempts', 'to', 'kill', 'the', 'terrorist', 'leader', 'the', 'eight', 'tapes', 'thankfully', 'all', 'end', 'at', 'points', 'significant', 'in', 'the', 'narrative', 'which', 'is', 'convenient', 'for', 'a', 'documentary', 'the', 'psychotic', 'idiotic', 'protagonist', 'who', 'is', 'given', 'to', 'long', 'significant', 'speeches', 'that', 'he', 'probably', 'learned', 'watching', 'macgyver', 'cares', 'nothing', 'for', 'his', 'own', 'life', 'or', 'the', 'life', 'of', 'his', 'innocent', 'crew', 'as', 'he', 'gets', 'them', 'further', 'and', 'further', 'into', 'danger', 'through', 'a', 'series', 'of', 'completely', 'dumb', 'mishaps', 'i', 'do', \"n't\", 'know', 'why', 'he', 'did', \"n't\", 'just', 'wear', 'a', 'sign', 'on', 'his', 'back', 'that', 'said', 'shoot', 'me', 'the', 'crew', 'translator', 'supposedly', 'their', 'sensible', 'voice-of-reason', 'does', 'little', 'more', 'than', 'whine', 'and', 'gets', 'baffled', 'as', 'the', 'idiot', 'hero', 'leads', 'them', 'into', 'doom', 'you', 'wish', 'they', 'brought', 'along', 'someone', 'on', 'their', 'trip', 'to', 'call', 'them', 'all', 'morons', 'around', 'tape', 'i', 'began', 'rooting', 'for', 'the', 'terrorists', 'to', 'shoot', 'the', 'film', 'crew']]\n"
          ],
          "name": "stdout"
        }
      ]
    },
    {
      "metadata": {
        "id": "bpggN67wRqI3",
        "colab_type": "code",
        "colab": {
          "base_uri": "https://localhost:8080/",
          "height": 171
        },
        "outputId": "529f3da2-03ca-4537-c3ec-03ce34c8410f"
      },
      "cell_type": "code",
      "source": [
        "#### Commenting out this bit as it is adding to the time to load the notebook, we can uncomment it when we need to reuse it again\n",
        "\n",
        "# model_ted = Word2Vec(sentences=positive_tokenized, size=100, window=5, min_count=5, workers=1, sg=0, seed=42)\n",
        "# model_ted.wv.most_similar(\"brother\")\n",
        "\n",
        "# print(np.linalg.norm(model_ted.wv['man'] - model_ted.wv['woman']))\n",
        "# print(np.linalg.norm(model_ted.wv['father'] - model_ted.wv['mother']))\n",
        "# print(np.linalg.norm(model_ted.wv['brother'] - model_ted.wv['sister']))\n",
        "# print(np.linalg.norm(model_ted.wv['house'] - model_ted.wv['road']))  ### boat or ship does not exist in the corpus so we get an error if we use them\n",
        "\n",
        "# print(np.linalg.norm(model_ted.wv['father'] - model_ted.wv['mother']))\n",
        "# print(np.linalg.norm(model_ted.wv['sister'] - model_ted.wv['mother']))"
      ],
      "execution_count": 89,
      "outputs": [
        {
          "output_type": "stream",
          "text": [
            "5.961282\n",
            "3.7747576\n",
            "3.1723378\n",
            "5.432142\n",
            "3.7747576\n",
            "3.964881\n"
          ],
          "name": "stdout"
        },
        {
          "output_type": "stream",
          "text": [
            "/usr/local/lib/python3.6/dist-packages/gensim/matutils.py:737: FutureWarning: Conversion of the second argument of issubdtype from `int` to `np.signedinteger` is deprecated. In future, it will be treated as `np.int64 == np.dtype(int).type`.\n",
            "  if np.issubdtype(vec.dtype, np.int):\n"
          ],
          "name": "stderr"
        }
      ]
    },
    {
      "metadata": {
        "id": "j8YFEiQdRUO3",
        "colab_type": "code",
        "colab": {
          "base_uri": "https://localhost:8080/",
          "height": 722
        },
        "outputId": "3a2d9976-4e3c-40a3-969b-537cebd8b50c"
      },
      "cell_type": "code",
      "source": [
        "features = np.array(stripped_positive_tokenized + stripped_negative_tokenized)\n",
        "labels = np.concatenate([positive_labels, negative_labels])\n",
        "# print(features.shape)\n",
        "# print(features)\n",
        "# print(labels.shape)\n",
        "# print(labels)\n",
        "\n",
        "from keras.preprocessing import text\n",
        "\n",
        "\n",
        "# GitHub reference: https://github.com/tensorflow/workshops/blob/master/extras/keras-bag-of-words/keras-bow-model.ipynb\n",
        "# Blog: https://cloud.google.com/blog/products/gcp/intro-to-text-classification-with-keras-automatically-tagging-stack-overflow-posts\n",
        "\n",
        "vocab_size = 1000\n",
        "tokenize = text.Tokenizer(num_words=vocab_size, char_level=False)\n",
        "tokenize.fit_on_texts(features)\n",
        "tokenized_features = tokenize.texts_to_matrix(features)\n",
        "\n",
        "\n",
        "from sklearn.model_selection import train_test_split\n",
        "x_train, x_test, y_train, y_test = train_test_split(tokenized_features, labels, test_size=0.25)\n",
        "\n",
        "print(x_train[1])\n",
        "# print(x_train.shape)\n",
        "# print(x_test.shape)\n",
        "# print(y_train.shape)\n",
        "# print(y_test.shape)"
      ],
      "execution_count": 90,
      "outputs": [
        {
          "output_type": "stream",
          "text": [
            "[0. 1. 1. 1. 1. 1. 0. 1. 1. 1. 1. 1. 1. 0. 1. 1. 1. 1. 0. 1. 1. 1. 0. 0.\n",
            " 1. 1. 1. 1. 1. 1. 1. 0. 0. 0. 0. 1. 0. 0. 0. 0. 0. 0. 0. 1. 1. 0. 1. 0.\n",
            " 1. 0. 0. 0. 0. 1. 0. 0. 0. 0. 0. 0. 0. 0. 0. 1. 0. 0. 0. 0. 0. 0. 0. 0.\n",
            " 0. 1. 0. 0. 0. 0. 1. 1. 1. 1. 0. 0. 0. 1. 0. 0. 0. 0. 0. 0. 0. 0. 1. 0.\n",
            " 0. 1. 0. 0. 0. 1. 0. 0. 1. 0. 1. 0. 0. 0. 0. 0. 0. 0. 0. 0. 0. 0. 1. 1.\n",
            " 0. 0. 1. 0. 1. 1. 0. 0. 0. 0. 0. 0. 0. 0. 1. 0. 0. 0. 0. 1. 0. 0. 0. 0.\n",
            " 0. 0. 0. 0. 1. 0. 0. 0. 0. 0. 0. 0. 0. 0. 0. 0. 0. 0. 0. 1. 0. 0. 0. 0.\n",
            " 0. 0. 0. 0. 0. 0. 1. 0. 0. 0. 0. 0. 0. 0. 0. 0. 0. 0. 1. 0. 0. 0. 1. 0.\n",
            " 0. 0. 0. 0. 0. 0. 0. 0. 0. 0. 0. 0. 0. 0. 0. 0. 0. 0. 0. 0. 0. 0. 0. 0.\n",
            " 0. 1. 0. 0. 0. 0. 1. 0. 0. 0. 0. 0. 0. 0. 0. 0. 0. 0. 0. 1. 0. 1. 0. 0.\n",
            " 0. 0. 0. 0. 0. 0. 0. 0. 0. 0. 0. 0. 0. 0. 0. 0. 0. 0. 0. 0. 0. 0. 0. 0.\n",
            " 0. 0. 0. 0. 0. 0. 0. 0. 0. 0. 0. 0. 0. 0. 0. 0. 0. 0. 0. 0. 0. 0. 0. 0.\n",
            " 0. 0. 0. 0. 0. 0. 0. 0. 0. 0. 0. 0. 0. 0. 0. 0. 0. 0. 0. 0. 0. 0. 0. 0.\n",
            " 0. 0. 0. 0. 0. 0. 0. 0. 0. 0. 0. 0. 0. 0. 0. 0. 0. 0. 0. 0. 0. 0. 0. 0.\n",
            " 0. 0. 0. 0. 0. 0. 0. 0. 0. 0. 0. 0. 0. 0. 0. 0. 0. 0. 0. 0. 0. 0. 0. 0.\n",
            " 0. 0. 0. 0. 0. 0. 0. 0. 0. 0. 0. 0. 0. 0. 0. 0. 0. 0. 0. 0. 0. 0. 0. 0.\n",
            " 1. 0. 0. 0. 0. 0. 0. 0. 0. 0. 0. 0. 0. 0. 0. 0. 0. 0. 0. 0. 0. 0. 0. 0.\n",
            " 0. 0. 0. 0. 0. 0. 0. 0. 0. 0. 0. 0. 0. 0. 0. 0. 0. 0. 0. 0. 0. 0. 0. 0.\n",
            " 0. 0. 0. 0. 0. 0. 0. 0. 0. 0. 0. 0. 0. 0. 0. 0. 0. 0. 0. 0. 0. 0. 0. 0.\n",
            " 0. 0. 0. 0. 0. 0. 1. 0. 0. 0. 0. 0. 0. 0. 0. 0. 0. 0. 0. 0. 0. 0. 0. 0.\n",
            " 0. 0. 0. 0. 0. 0. 0. 0. 0. 0. 0. 0. 0. 0. 0. 0. 0. 0. 0. 0. 0. 0. 0. 0.\n",
            " 0. 0. 0. 0. 0. 0. 1. 0. 0. 0. 0. 0. 0. 0. 0. 0. 0. 0. 0. 0. 0. 0. 0. 0.\n",
            " 0. 0. 0. 0. 0. 0. 0. 0. 0. 0. 0. 0. 0. 0. 0. 0. 1. 0. 0. 0. 0. 0. 0. 0.\n",
            " 0. 0. 0. 0. 0. 0. 0. 0. 0. 0. 0. 0. 0. 0. 0. 0. 0. 0. 0. 0. 0. 0. 0. 0.\n",
            " 0. 0. 0. 0. 0. 0. 0. 0. 0. 0. 0. 0. 0. 0. 0. 0. 0. 0. 0. 1. 0. 0. 0. 0.\n",
            " 0. 0. 0. 0. 0. 0. 0. 0. 0. 0. 0. 0. 0. 0. 0. 0. 0. 0. 0. 0. 0. 0. 0. 0.\n",
            " 0. 0. 0. 0. 0. 0. 0. 0. 0. 0. 0. 0. 0. 0. 0. 0. 0. 0. 0. 0. 1. 0. 0. 0.\n",
            " 0. 0. 0. 0. 0. 1. 0. 0. 0. 0. 0. 0. 0. 0. 0. 0. 0. 0. 0. 1. 0. 1. 0. 0.\n",
            " 0. 0. 0. 0. 0. 0. 0. 0. 0. 0. 0. 0. 0. 0. 1. 0. 0. 0. 0. 1. 0. 0. 0. 0.\n",
            " 0. 0. 0. 0. 0. 0. 0. 0. 0. 0. 0. 0. 0. 0. 0. 0. 0. 0. 0. 0. 0. 0. 0. 1.\n",
            " 0. 0. 0. 0. 0. 0. 0. 0. 0. 0. 0. 0. 0. 0. 0. 0. 0. 0. 0. 0. 0. 0. 0. 0.\n",
            " 0. 0. 0. 0. 0. 0. 0. 0. 0. 0. 0. 0. 0. 0. 0. 0. 0. 0. 0. 0. 0. 0. 0. 0.\n",
            " 0. 0. 0. 0. 0. 0. 0. 0. 0. 0. 0. 0. 0. 0. 0. 0. 0. 0. 0. 0. 0. 0. 0. 0.\n",
            " 0. 0. 0. 0. 0. 0. 0. 0. 0. 0. 0. 0. 0. 0. 0. 0. 0. 0. 0. 0. 0. 0. 0. 0.\n",
            " 0. 0. 0. 0. 0. 0. 0. 0. 0. 0. 0. 0. 0. 0. 0. 0. 0. 0. 0. 0. 0. 0. 0. 0.\n",
            " 0. 0. 0. 0. 0. 0. 0. 0. 0. 0. 0. 0. 0. 0. 0. 0. 0. 0. 0. 0. 0. 0. 0. 0.\n",
            " 0. 0. 0. 0. 0. 0. 0. 0. 0. 0. 0. 0. 0. 0. 0. 0. 0. 0. 0. 0. 0. 0. 0. 0.\n",
            " 0. 0. 1. 0. 0. 0. 0. 0. 0. 0. 0. 0. 0. 0. 0. 0. 0. 0. 0. 0. 0. 0. 0. 0.\n",
            " 0. 0. 0. 0. 0. 0. 0. 0. 0. 0. 0. 0. 0. 0. 0. 0. 0. 0. 0. 0. 0. 0. 0. 0.\n",
            " 0. 0. 0. 0. 0. 0. 0. 0. 0. 0. 0. 0. 0. 0. 0. 0. 0. 0. 0. 0. 0. 0. 0. 0.\n",
            " 0. 0. 0. 0. 0. 0. 0. 0. 0. 0. 0. 0. 0. 0. 0. 0. 0. 0. 0. 0. 0. 0. 0. 0.\n",
            " 0. 0. 0. 0. 0. 0. 0. 0. 0. 0. 0. 0. 0. 0. 0. 0.]\n"
          ],
          "name": "stdout"
        }
      ]
    },
    {
      "metadata": {
        "id": "dnu21deYOkDE",
        "colab_type": "text"
      },
      "cell_type": "markdown",
      "source": [
        "We have decided to do the use the below models and vectorisation techniques to test our their accuracy / score, the idea is to use a one model and one vectorization technique and plot a score.\n",
        "\n",
        "**Simple models**\n",
        "\n",
        "- Logistic Regression\n",
        "- Random Forst\n",
        "- LSTM\n",
        "- GRU\n",
        "- CNN\n",
        "\n",
        "**Vectorisation techniques**\n",
        "- Bag of Words\n",
        "- Word2Vec\n",
        "- TFIDF (probability scores)\n",
        "- FastText\n",
        "- Glove"
      ]
    },
    {
      "metadata": {
        "id": "GIR1aj896FXc",
        "colab_type": "text"
      },
      "cell_type": "markdown",
      "source": [
        "## Logistic Regress model using Bag of Words vectorisation technique"
      ]
    },
    {
      "metadata": {
        "id": "Ia49ffAePy88",
        "colab_type": "code",
        "colab": {
          "base_uri": "https://localhost:8080/",
          "height": 34
        },
        "outputId": "fd4845a7-9fe8-47ce-8a2b-eb94a05e26eb"
      },
      "cell_type": "code",
      "source": [
        "from sklearn.linear_model import LogisticRegression\n",
        "\n",
        "# all parameters not specified are set to their defaults\n",
        "logisticRegr = LogisticRegression()\n",
        "\n",
        "logisticRegr.fit(x_train, y_train)\n",
        "\n",
        "score = logisticRegr.score(x_test, y_test)\n",
        "print(\"Score: \", score)\n",
        "y_test = logisticRegr.predict(x_test)\n",
        "time_end_of_notebook = time.time()"
      ],
      "execution_count": 91,
      "outputs": [
        {
          "output_type": "stream",
          "text": [
            "Score:  0.8494\n"
          ],
          "name": "stdout"
        }
      ]
    },
    {
      "metadata": {
        "id": "6siRLHQU79F7",
        "colab_type": "code",
        "colab": {
          "base_uri": "https://localhost:8080/",
          "height": 157
        },
        "outputId": "64142e5a-67d5-408b-e067-45f2551d0d17"
      },
      "cell_type": "code",
      "source": [
        "import pandas as pd\n",
        "table_models_vectorization = pd.DataFrame(\n",
        "     {'Models':                   [\"Logistic Regression\", \"Logistic Regression\"], \n",
        "      'Vectorisation techniques': [\"Bag of Words\",        \"Word2Vec\"], \n",
        "      'Score':                    [score,                 \"Pending\"]},\n",
        "    columns=['Models','Vectorisation techniques','Score']\n",
        ")\n",
        "print(\"Sample size:\", SAMPLE_SIZE)\n",
        "\n",
        "duration = time_end_of_notebook - time_beginning_of_notebook\n",
        "\n",
        "print(\"Full notebook execution duration:\", duration, \"seconds\")\n",
        "print(\"Full notebook execution duration:\", duration / 60, \"minutes\")\n",
        "\n",
        "table_models_vectorization"
      ],
      "execution_count": 92,
      "outputs": [
        {
          "output_type": "stream",
          "text": [
            "Sample size: 10000\n",
            "Full notebook execution duration: 889.98082447052 seconds\n",
            "Full notebook execution duration: 14.833013741175334 minutes\n"
          ],
          "name": "stdout"
        },
        {
          "output_type": "execute_result",
          "data": {
            "text/html": [
              "<div>\n",
              "<style scoped>\n",
              "    .dataframe tbody tr th:only-of-type {\n",
              "        vertical-align: middle;\n",
              "    }\n",
              "\n",
              "    .dataframe tbody tr th {\n",
              "        vertical-align: top;\n",
              "    }\n",
              "\n",
              "    .dataframe thead th {\n",
              "        text-align: right;\n",
              "    }\n",
              "</style>\n",
              "<table border=\"1\" class=\"dataframe\">\n",
              "  <thead>\n",
              "    <tr style=\"text-align: right;\">\n",
              "      <th></th>\n",
              "      <th>Models</th>\n",
              "      <th>Vectorisation techniques</th>\n",
              "      <th>Score</th>\n",
              "    </tr>\n",
              "  </thead>\n",
              "  <tbody>\n",
              "    <tr>\n",
              "      <th>0</th>\n",
              "      <td>Logistic Regression</td>\n",
              "      <td>Bag of Words</td>\n",
              "      <td>0.8494</td>\n",
              "    </tr>\n",
              "    <tr>\n",
              "      <th>1</th>\n",
              "      <td>Logistic Regression</td>\n",
              "      <td>Word2Vec</td>\n",
              "      <td>Pending</td>\n",
              "    </tr>\n",
              "  </tbody>\n",
              "</table>\n",
              "</div>"
            ],
            "text/plain": [
              "                Models Vectorisation techniques    Score\n",
              "0  Logistic Regression             Bag of Words   0.8494\n",
              "1  Logistic Regression                 Word2Vec  Pending"
            ]
          },
          "metadata": {
            "tags": []
          },
          "execution_count": 92
        }
      ]
    }
  ]
}