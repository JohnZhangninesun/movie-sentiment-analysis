{
  "nbformat": 4,
  "nbformat_minor": 0,
  "metadata": {
    "colab": {
      "name": "Sentiment analysis of movies (IMDB).ipynb",
      "version": "0.3.2",
      "provenance": [],
      "collapsed_sections": []
    },
    "kernelspec": {
      "name": "python3",
      "display_name": "Python 3"
    },
    "accelerator": "GPU"
  },
  "cells": [
    {
      "metadata": {
        "colab_type": "text",
        "id": "A0XMzfB5_EtE"
      },
      "cell_type": "markdown",
      "source": [
        "### Sentiment analysis of movie (IMDB) reviews using dataset provided by the ACL 2011 paper, see http://ai.stanford.edu/~amaas/data/sentiment/.\n",
        "\n",
        "#### Dataset can be downloaded separately from http://ai.stanford.edu/~amaas/data/sentiment/aclImdb_v1.tar.gz, but wont be necessary as the download process has been embedded in the notebook and source file."
      ]
    },
    {
      "metadata": {
        "colab_type": "code",
        "id": "CML_IG6z-iwM",
        "outputId": "d9301f36-c1cf-4b3f-e639-a731880ed036",
        "colab": {
          "base_uri": "https://localhost:8080/",
          "height": 406
        }
      },
      "cell_type": "code",
      "source": [
        "!pip install nltk\n",
        "!pip install --upgrade gensim\n",
        "\n",
        "import numpy as np\n",
        "import os\n",
        "import os.path\n",
        "\n",
        "from nltk.tokenize import word_tokenize\n",
        "from nltk.stem.porter import PorterStemmer\n",
        "from nltk.corpus import stopwords\n",
        "import nltk\n",
        "nltk.download('punkt')\n",
        "import nltk\n",
        "\n",
        "\n",
        "import glob\n",
        "from gensim.models import Word2Vec\n",
        "\n",
        "import time"
      ],
      "execution_count": 27,
      "outputs": [
        {
          "output_type": "stream",
          "text": [
            "Requirement already satisfied: nltk in /usr/local/lib/python3.6/dist-packages (3.2.5)\n",
            "Requirement already satisfied: six in /usr/local/lib/python3.6/dist-packages (from nltk) (1.11.0)\n",
            "Requirement already up-to-date: gensim in /usr/local/lib/python3.6/dist-packages (3.6.0)\n",
            "Requirement already satisfied, skipping upgrade: numpy>=1.11.3 in /usr/local/lib/python3.6/dist-packages (from gensim) (1.14.6)\n",
            "Requirement already satisfied, skipping upgrade: smart-open>=1.2.1 in /usr/local/lib/python3.6/dist-packages (from gensim) (1.7.1)\n",
            "Requirement already satisfied, skipping upgrade: scipy>=0.18.1 in /usr/local/lib/python3.6/dist-packages (from gensim) (0.19.1)\n",
            "Requirement already satisfied, skipping upgrade: six>=1.5.0 in /usr/local/lib/python3.6/dist-packages (from gensim) (1.11.0)\n",
            "Requirement already satisfied, skipping upgrade: bz2file in /usr/local/lib/python3.6/dist-packages (from smart-open>=1.2.1->gensim) (0.98)\n",
            "Requirement already satisfied, skipping upgrade: boto3 in /usr/local/lib/python3.6/dist-packages (from smart-open>=1.2.1->gensim) (1.9.35)\n",
            "Requirement already satisfied, skipping upgrade: boto>=2.32 in /usr/local/lib/python3.6/dist-packages (from smart-open>=1.2.1->gensim) (2.49.0)\n",
            "Requirement already satisfied, skipping upgrade: requests in /usr/local/lib/python3.6/dist-packages (from smart-open>=1.2.1->gensim) (2.18.4)\n",
            "Requirement already satisfied, skipping upgrade: botocore<1.13.0,>=1.12.35 in /usr/local/lib/python3.6/dist-packages (from boto3->smart-open>=1.2.1->gensim) (1.12.35)\n",
            "Requirement already satisfied, skipping upgrade: jmespath<1.0.0,>=0.7.1 in /usr/local/lib/python3.6/dist-packages (from boto3->smart-open>=1.2.1->gensim) (0.9.3)\n",
            "Requirement already satisfied, skipping upgrade: s3transfer<0.2.0,>=0.1.10 in /usr/local/lib/python3.6/dist-packages (from boto3->smart-open>=1.2.1->gensim) (0.1.13)\n",
            "Requirement already satisfied, skipping upgrade: urllib3<1.23,>=1.21.1 in /usr/local/lib/python3.6/dist-packages (from requests->smart-open>=1.2.1->gensim) (1.22)\n",
            "Requirement already satisfied, skipping upgrade: idna<2.7,>=2.5 in /usr/local/lib/python3.6/dist-packages (from requests->smart-open>=1.2.1->gensim) (2.6)\n",
            "Requirement already satisfied, skipping upgrade: chardet<3.1.0,>=3.0.2 in /usr/local/lib/python3.6/dist-packages (from requests->smart-open>=1.2.1->gensim) (3.0.4)\n",
            "Requirement already satisfied, skipping upgrade: certifi>=2017.4.17 in /usr/local/lib/python3.6/dist-packages (from requests->smart-open>=1.2.1->gensim) (2018.10.15)\n",
            "Requirement already satisfied, skipping upgrade: docutils>=0.10 in /usr/local/lib/python3.6/dist-packages (from botocore<1.13.0,>=1.12.35->boto3->smart-open>=1.2.1->gensim) (0.14)\n",
            "Requirement already satisfied, skipping upgrade: python-dateutil<3.0.0,>=2.1; python_version >= \"2.7\" in /usr/local/lib/python3.6/dist-packages (from botocore<1.13.0,>=1.12.35->boto3->smart-open>=1.2.1->gensim) (2.5.3)\n",
            "[nltk_data] Downloading package punkt to /root/nltk_data...\n",
            "[nltk_data]   Package punkt is already up-to-date!\n"
          ],
          "name": "stdout"
        }
      ]
    },
    {
      "metadata": {
        "colab_type": "code",
        "id": "FJiWamI00hBp",
        "outputId": "e3c105d5-037f-4521-b8e1-a83cb7a5edeb",
        "colab": {
          "base_uri": "https://localhost:8080/",
          "height": 34
        }
      },
      "cell_type": "code",
      "source": [
        "# MacOSX: See https://www.mkyong.com/mac/wget-on-mac-os-x/ for wget\n",
        "print('On the MacOSX, you will need to install wget, see https://www.mkyong.com/mac/wget-on-mac-os-x/')\n",
        "\n",
        "if not os.path.isfile('aclImdb_v1.tar.gz'):\n",
        "  !wget http://ai.stanford.edu/~amaas/data/sentiment/aclImdb_v1.tar.gz \n",
        "\n",
        "if not os.path.isfile('aclImdb'):  \n",
        "  !tar -xf aclImdb_v1.tar.gz \n"
      ],
      "execution_count": 28,
      "outputs": [
        {
          "output_type": "stream",
          "text": [
            "On the MacOSX, you will need to install wget, see https://www.mkyong.com/mac/wget-on-mac-os-x/\n"
          ],
          "name": "stdout"
        }
      ]
    },
    {
      "metadata": {
        "colab_type": "code",
        "id": "U5Tnmoh-Dpfk",
        "colab": {}
      },
      "cell_type": "code",
      "source": [
        "time_beginning_of_notebook = time.time()\n",
        "SAMPLE_SIZE=1000\n",
        "positive_sample_file_list = glob.glob(os.path.join('aclImdb/train/pos', \"*.txt\"))\n",
        "positive_sample_file_list = positive_sample_file_list[:SAMPLE_SIZE]\n",
        "\n",
        "negative_sample_file_list = glob.glob(os.path.join('aclImdb/train/neg', \"*.txt\"))\n",
        "negative_sample_file_list = negative_sample_file_list[:SAMPLE_SIZE]\n",
        "\n",
        "import re\n",
        "\n",
        "# load doc into memory\n",
        "# regex to clean markup elements \n",
        "def load_doc(filename):\n",
        "    # open the file as read only\n",
        "    file = open(filename, 'r', encoding='utf8')\n",
        "    # read all text\n",
        "    text = re.sub('<[^>]*>', ' ', file.read())\n",
        "    #text = file.read()\n",
        "    # close the file\n",
        "    file.close()\n",
        "    return text\n"
      ],
      "execution_count": 0,
      "outputs": []
    },
    {
      "metadata": {
        "colab_type": "text",
        "id": "vMYBkcdIB9uc"
      },
      "cell_type": "markdown",
      "source": [
        "# Data exploration"
      ]
    },
    {
      "metadata": {
        "colab_type": "code",
        "id": "cz5eJi7AGSqR",
        "colab": {}
      },
      "cell_type": "code",
      "source": [
        "positive_strings = [load_doc(x) for x in positive_sample_file_list]\n",
        "#print('\\n Positive reviews \\n ',positive_strings[:5])\n",
        "\n",
        "negative_strings = [load_doc(x) for x in negative_sample_file_list]\n",
        "#print('\\n Negative reviews \\n ', negative_strings[:5])\n",
        "    "
      ],
      "execution_count": 0,
      "outputs": []
    },
    {
      "metadata": {
        "colab_type": "code",
        "id": "C0WiHTr7I4CN",
        "colab": {}
      },
      "cell_type": "code",
      "source": [
        "positive_tokenized = [word_tokenize(s) for s in positive_strings]\n",
        "#print('\\n Positive tokenized 1 \\n {} \\n\\n Positive tokenized 2 \\n {}'. format(positive_tokenized[1], positive_tokenized[2]))\n"
      ],
      "execution_count": 0,
      "outputs": []
    },
    {
      "metadata": {
        "colab_type": "code",
        "id": "YDP-eqAGIq5R",
        "colab": {}
      },
      "cell_type": "code",
      "source": [
        "negative_tokenized = [word_tokenize(s) for s in negative_strings]\n",
        "#print('\\n Negative tokenized 1 \\n {} \\n\\n  Negative tokenized 2 \\n {}'. format(negative_tokenized[1], negative_tokenized[2]))"
      ],
      "execution_count": 0,
      "outputs": []
    },
    {
      "metadata": {
        "colab_type": "code",
        "id": "6bgN1KJRMPpq",
        "outputId": "aa69f5b0-246f-4805-bc36-9944c1f36b3a",
        "colab": {
          "base_uri": "https://localhost:8080/",
          "height": 67
        }
      },
      "cell_type": "code",
      "source": [
        "# load doc into memory\n",
        "with open('aclImdb/imdb.vocab', encoding='utf8') as f:\n",
        "    #content = f.readlines()\n",
        "    universe_vocabulary = [x.strip() for x in f.readlines()]\n",
        "\n",
        "print(\"Word count across all reviews (before stripping tokens):\", sum([len(token) for token in positive_tokenized]))\n",
        "\n",
        "#Checking the not alphanumeric characters in vocabulary\n",
        "non_alphanumeric_set = set()\n",
        "for word in universe_vocabulary:\n",
        "    non_alphanumeric_set |= set(re.findall('\\W', word))\n",
        "print('Non alphanumeric characters found in universe vocabulary', non_alphanumeric_set)\n",
        "\n",
        "\n",
        "stripped_positive_tokenized = []\n",
        "for tokens in positive_tokenized:\n",
        "  stripped_positive_tokenized.append([token.lower() for token in tokens if token.lower() in universe_vocabulary])\n",
        "\n",
        "print(\"Word count across all reviews (after stripping tokens):\", sum([len(token) for token in stripped_positive_tokenized]))"
      ],
      "execution_count": 33,
      "outputs": [
        {
          "output_type": "stream",
          "text": [
            "Word count across all reviews (before stripping tokens): 270565\n",
            "Non alphanumeric characters found in universe vocabulary {\"'\", ')', '?', '=', ';', '[', '-', ']', '!', '}', '(', ':'}\n",
            "Word count across all reviews (after stripping tokens): 234529\n"
          ],
          "name": "stdout"
        }
      ]
    },
    {
      "metadata": {
        "colab_type": "code",
        "id": "DSFWrZInMueS",
        "outputId": "4ae1eab3-3e09-41a5-9778-22aa72ce5cdb",
        "colab": {
          "base_uri": "https://localhost:8080/",
          "height": 50
        }
      },
      "cell_type": "code",
      "source": [
        "print(\"Word count across all reviews (before stripping tokens):\", sum([len(token) for token in positive_tokenized]))\n",
        "stripped_negative_tokenized = []\n",
        "for tokens in negative_tokenized:\n",
        "  stripped_negative_tokenized.append([token.lower() for token in tokens if token.lower() in universe_vocabulary])\n",
        "\n",
        "print(\"Word count across all reviews (after stripping tokens):\", sum([len(token) for token in stripped_negative_tokenized]))"
      ],
      "execution_count": 34,
      "outputs": [
        {
          "output_type": "stream",
          "text": [
            "Word count across all reviews (before stripping tokens): 270565\n",
            "Word count across all reviews (after stripping tokens): 243514\n"
          ],
          "name": "stdout"
        }
      ]
    },
    {
      "metadata": {
        "colab_type": "text",
        "id": "dnu21deYOkDE"
      },
      "cell_type": "markdown",
      "source": [
        "## Modelling \n",
        "\n",
        "We have decided to do the use the below models and vectorisation techniques to test our their accuracy / score, the idea is to use a one model and one vectorization technique and plot a score.\n",
        "\n",
        "**Simple models**\n",
        "\n",
        "- Logistic Regression\n",
        "- Random Forst\n",
        "- LSTM\n",
        "- GRU\n",
        "- CNN\n",
        "\n",
        "**Vectorisation techniques**\n",
        "- Bag of Words\n",
        "- Word2Vec\n",
        "- TFIDF (probability scores)\n",
        "- FastText\n",
        "- Glove"
      ]
    },
    {
      "metadata": {
        "id": "mGh1Vqp3XNJI",
        "colab_type": "text"
      },
      "cell_type": "markdown",
      "source": [
        "## Logistic Regression.\n",
        "## Introducing Pipeline: http://scikit-learn.org/stable/modules/generated/sklearn.pipeline.Pipeline.html\n",
        "\n",
        "## Introducing TfdfVectorizer: http://scikit-learn.org/stable/modules/generated/sklearn.feature_extraction.text.TfidfVectorizer.html\n",
        "\n",
        "## Introducing cross_val_score http://scikit-learn.org/stable/modules/generated/sklearn.model_selection.cross_val_score.html\n",
        "\n",
        "\n",
        "<br>\n"
      ]
    },
    {
      "metadata": {
        "id": "lfr3bXOgXNJJ",
        "colab_type": "code",
        "colab": {
          "base_uri": "https://localhost:8080/",
          "height": 70
        },
        "outputId": "cc06dd0d-e886-4090-c972-cd05520adaf3"
      },
      "cell_type": "code",
      "source": [
        "import pandas as pd\n",
        "from sklearn.utils import shuffle\n",
        "from sklearn.pipeline import Pipeline\n",
        "from sklearn.linear_model import LogisticRegression\n",
        "from sklearn.feature_extraction.text import TfidfVectorizer\n",
        "from sklearn.model_selection import cross_val_score\n",
        "from sklearn.model_selection import train_test_split\n",
        "from sklearn.feature_extraction.text import CountVectorizer\n",
        "\n",
        "df_positives = pd.DataFrame({'reviews':[load_doc(x) for x in positive_sample_file_list], 'sentiment': np.ones(SAMPLE_SIZE)})\n",
        "df_negatives = pd.DataFrame({'reviews':[load_doc(x) for x in negative_sample_file_list], 'sentiment': np.zeros(SAMPLE_SIZE)})\n",
        "\n",
        "print(\"Positive review(s):\", df_positives['reviews'][1])\n",
        "print(\"Negative review(s):\", df_negatives['reviews'][1])\n",
        "\n",
        "df = pd.concat([df_positives, df_negatives], ignore_index=True)\n",
        "\n",
        "df = shuffle(df)\n",
        "\n",
        "X_train, X_test, y_train, y_test = train_test_split(df['reviews'], df['sentiment'], test_size=0.25)\n",
        "\n",
        "\n"
      ],
      "execution_count": 35,
      "outputs": [
        {
          "output_type": "stream",
          "text": [
            "Positive review(s): I thought this was a splendid showcase for Mandy's bodacious bod. If you don't expect anything else, such as clever plot twists and believable character development, you won't be disappointed. Consider this a Sports Illustrated shoot whose character goes around killing people, especially those who threaten to come between her and her 'Mommy' (Suzanna Arquette, who obviously doesn't want to play the sex kitten - she leaves that up to her daughter).  Mandy's face is a little too perfect, but her body is a complete 5-alarm fire, up there in the ranks of Sophia Loren when it comes to natural bustiness, a perfect 7-to-10 ratio of waist to hips, and splendidly configured legs, right down to her feet. (There has to be some ideal configuration of thighs to knees to calves to ankles that is altogether pleasing to the eye; Mandy certainly is the model for this idealized ratio).  And no flat butt to boot, which seems to be the undoing of many a busty babe with curves everywhere except in the 'nether hemispheres'. Mandy might have used a body double in the rear shot of her losing her towel as she descended into the candle-lit hot tub with her blindfolded German-Guy Victim No. 2, but from all I could see from her bikini shots, she had the butt for it and didn't need a double to prove it.  Mandy's acting abilities had little to do with her impression of a psychotic 'Mommy's Girl', with the obvious erotic lesbian overtones. Her bisexual nature (allowing herself to be boinked in the hot tub after a long flirtation with German Guy No. 2, who also happened to be her mother's lover) added an additional dimension to an otherwise one-dimensional caricature of adolescent female horniness conflicted with pathological murderous impulses (always by water with the men - the ultimate fate of the Latina housekeeper was edited out in the televised version for some obscure reason).  Mandy's Uber-Nordic facial features coupled with her Uber-Voluptuous body could either be a blessing or a curse. If Mandy really wants to further her career as an actress, I'd advise her to immerse herself fully in the Romance Languages, especially Italian and Spanish - and maybe French, although I don't know if they would go for her type. But this would enable her to reconcile her Bo Derek face with her Vida Guerra body - but maybe her face is just a little too Nordic, and she has shown off too much of her extraordinary body in a cheesy movie to enable her to advance to any more fame that was enjoyed by Michelle Johnson of the 1980's whose early fame in Blame it on Rio was followed by a series of skin flicks that failed to make it off the ground.  Vambo Drule.\n",
            "Negative review(s): Seldom do I give up on a movie without seeing the entire show. This is particularly true when I have rented it on DVD. Syriana was one in which I did give up. Half way through I turned it off in bored disgust.  This movie is disjointed, boring, confusing and lackluster. The acting was dry and without credible portrayals. The general plot was good but developed in such an insipid and boring fashion that it failed to grasp my attention or interest. The multiple sub plots often failed to connect to each other and seemed more like random stories than an actual connected plot. Too bad such a serious subject and such great actors could create such a flop. I cannot imagine this movie receiving any nominations much less an award.\n"
          ],
          "name": "stdout"
        }
      ]
    },
    {
      "metadata": {
        "id": "DIF9pizTcpWm",
        "colab_type": "text"
      },
      "cell_type": "markdown",
      "source": [
        "CountVec = CountVectorizer()\n",
        "# Creating the BoW with the set of all the documents and transforming the documents in feature vectors\n",
        "bag_of_words = CountVec.fit_transform(df['reviews'])\n",
        "\n",
        "print(type(bag_of_words))\n",
        "print('\\n Number of raws {} (documents) -- Number of columns {} (vocabulary) \\n'.format(bag_of_words.shape[0], bag_of_words.shape[1]))\n",
        "\n",
        "# https://machinelearningmastery.com/sparse-matrices-for-machine-learning/\n",
        "# This is a sparse matrix \n",
        "print('\\n Type of bag_of_words {} \\n'.format(type(bag_of_words)))\n",
        "sparsity = 1.0 - bag_of_words.nnz / (bag_of_words.shape[0] * bag_of_words.shape[1])\n",
        "print('\\n Sparsity {} \\n'.format(sparsity))\n",
        "\n",
        "# This is a  \n",
        "print('\\n Type of bag_of_words.toarray {} \\n'.format(type(bag_of_words.toarray())))\n",
        "\n",
        "# In CountVec we have the vocabulary as an attribute\n",
        "print('\\n Type of CountVec.vocabulary {} \\n'.format(type(CountVec.vocabulary_)))\n",
        "print('A sample of CountVec.vocabulary_ {}'.format([(k, v) for k, v in CountVec.vocabulary_.items() if v < 1000]))\n",
        "\n",
        "# In bag_of_words we have the vector features representing each single document \n",
        "print('\\n Type of bag_of_words.toarray() {} \\n')\n",
        "print('\\n First feature vector, representing the first document \\n', bag_of_words[0, :])\n",
        "\n",
        "# Lets get our training and test data\n",
        "X_train, X_test, y_train, y_test = train_test_split(bag_of_words.toarray(), df['sentiment'].values, test_size=0.25)\n",
        "\n",
        "clf = LogisticRegression(random_state=0)\n",
        "clf.fit(X_train, y_train)\n",
        "print(clf.score(X_test, y_test))\n",
        "\n",
        "\n",
        "\n",
        "results = [(predicted, actual) for predicted, actual in zip(clf.predict(X_test),  y_test) \n",
        "           if  predicted == actual]\n",
        "\n",
        "print('Percentage of correct predicted values{}'.format(len(results)/len(y_test)))\n"
      ]
    },
    {
      "metadata": {
        "id": "q-BsaFCwXNJQ",
        "colab_type": "text"
      },
      "cell_type": "markdown",
      "source": [
        "## Logistic Regress model using Bag of Words vectorisation technique"
      ]
    },
    {
      "metadata": {
        "id": "-S-I4Fc2XNJS",
        "colab_type": "code",
        "outputId": "7158b946-8734-47df-d4f4-9318b9d2a0c2",
        "colab": {
          "base_uri": "https://localhost:8080/",
          "height": 101
        }
      },
      "cell_type": "code",
      "source": [
        "CountVec = CountVectorizer()\n",
        "lr_CV = Pipeline([('vect', CountVec), ('clf', LogisticRegression(random_state=0))])\n",
        "lr_CV.fit(X_train, y_train)\n",
        "print('Train accuracy {}'.format(lr_CV.score(X_train, y_train)))\n",
        "print('Test accuracy {}'.format(lr_CV.score(X_test, y_test)))\n",
        "\n",
        "# # Trying with cross_val_score\n",
        "lr = LogisticRegression()\n",
        "k_folds = 10\n",
        "X_train_CV = CountVec.fit_transform(X_train)\n",
        "type(X_train_CV)\n",
        "print('Train accuracy list {} '.format(cross_val_score(lr, X_train_CV, y_train, cv= k_folds))) \n",
        "print('Train accuracy mean {} '.format(cross_val_score(lr, X_train_CV, y_train, cv= k_folds).mean()))"
      ],
      "execution_count": 36,
      "outputs": [
        {
          "output_type": "stream",
          "text": [
            "Train accuracy 1.0\n",
            "Test accuracy 0.83\n",
            "Train accuracy list [0.87417219 0.74172185 0.86092715 0.76821192 0.83333333 0.82\n",
            " 0.82550336 0.80536913 0.82550336 0.81208054] \n",
            "Train accuracy mean 0.8166822821755041 \n"
          ],
          "name": "stdout"
        }
      ]
    },
    {
      "metadata": {
        "id": "YeUltp6gXNJd",
        "colab_type": "text"
      },
      "cell_type": "markdown",
      "source": [
        "## Logistic Regress model using TfidfVectorizer vectorisation technique"
      ]
    },
    {
      "metadata": {
        "id": "s16mkhktXNJf",
        "colab_type": "code",
        "outputId": "6fce5e0d-1d45-432e-e7cb-f1fd5972bc42",
        "colab": {
          "base_uri": "https://localhost:8080/",
          "height": 101
        }
      },
      "cell_type": "code",
      "source": [
        "tfidf = TfidfVectorizer(strip_accents=None, lowercase=False, preprocessor=None)\n",
        "\n",
        "lr_tfidf = Pipeline([('vect', tfidf), ('clf', LogisticRegression(random_state=0))])\n",
        "lr_tfidf.fit(X_train, y_train)\n",
        "print('Train accuracy {}'.format(lr_tfidf.score(X_train, y_train)))\n",
        "print('Test accuracy {}'.format(lr_tfidf.score(X_test, y_test)))\n",
        "\n",
        "# Trying with cross_val_score\n",
        "lr = LogisticRegression()\n",
        "k_folds = 10\n",
        "X_train_tfidf = tfidf.fit_transform(X_train)\n",
        "print('Train accuracy list {} '.format(cross_val_score(lr, X_train_tfidf, y_train, cv= k_folds))) \n",
        "print('Train accuracy mean {} '.format(cross_val_score(lr, X_train_tfidf, y_train, cv= k_folds).mean()))\n"
      ],
      "execution_count": 37,
      "outputs": [
        {
          "output_type": "stream",
          "text": [
            "Train accuracy 0.9673333333333334\n",
            "Test accuracy 0.83\n",
            "Train accuracy list [0.81456954 0.79470199 0.80794702 0.7615894  0.82       0.83333333\n",
            " 0.85234899 0.81208054 0.82550336 0.79865772] \n",
            "Train accuracy mean 0.8120731884380048 \n"
          ],
          "name": "stdout"
        }
      ]
    },
    {
      "metadata": {
        "id": "e2lMqoGKXNJl",
        "colab_type": "text"
      },
      "cell_type": "markdown",
      "source": [
        "## Logistic Regress model using TfidfVectorizer and different values for C hyperparameter"
      ]
    },
    {
      "metadata": {
        "id": "zZZOXbA4XNJm",
        "colab_type": "code",
        "outputId": "518f52ab-2ccd-4bca-9105-5fdcf5c797ef",
        "colab": {
          "base_uri": "https://localhost:8080/",
          "height": 185
        }
      },
      "cell_type": "code",
      "source": [
        "C_values = np.arange(1,2,0.1)\n",
        "results = []\n",
        "\n",
        "for value in C_values:   \n",
        "    lr_tfidf = Pipeline([('vect', tfidf), ('clf', LogisticRegression(random_state=0, C=value))])\n",
        "    lr_tfidf.fit(X_train, y_train)\n",
        "    train_score = lr_tfidf.score(X_train, y_train)\n",
        "    score = lr_tfidf.score(X_test, y_test)\n",
        "    print('C_value {} Test Score {} Train_score {}'.format(value, score, train_score))\n",
        "    results.append(score)\n",
        "\n",
        "time_end_of_notebook = time.time()"
      ],
      "execution_count": 38,
      "outputs": [
        {
          "output_type": "stream",
          "text": [
            "C_value 1.0 Test Score 0.83 Train_score 0.9673333333333334\n",
            "C_value 1.1 Test Score 0.828 Train_score 0.9693333333333334\n",
            "C_value 1.2000000000000002 Test Score 0.832 Train_score 0.974\n",
            "C_value 1.3000000000000003 Test Score 0.834 Train_score 0.9766666666666667\n",
            "C_value 1.4000000000000004 Test Score 0.832 Train_score 0.9786666666666667\n",
            "C_value 1.5000000000000004 Test Score 0.83 Train_score 0.9786666666666667\n",
            "C_value 1.6000000000000005 Test Score 0.828 Train_score 0.9793333333333333\n",
            "C_value 1.7000000000000006 Test Score 0.828 Train_score 0.9813333333333333\n",
            "C_value 1.8000000000000007 Test Score 0.83 Train_score 0.9833333333333333\n",
            "C_value 1.9000000000000008 Test Score 0.83 Train_score 0.984\n"
          ],
          "name": "stdout"
        }
      ]
    },
    {
      "metadata": {
        "colab_type": "code",
        "id": "6siRLHQU79F7",
        "outputId": "dbc21ee2-1066-4b68-c8a0-ad47ca57f4b4",
        "colab": {
          "base_uri": "https://localhost:8080/",
          "height": 186
        }
      },
      "cell_type": "code",
      "source": [
        "table_models_vectorization = pd.DataFrame(\n",
        "     {'Models':                   [\"Logistic Regression\", \"Logistic Regression\", \"Logistic Regression\"], \n",
        "      'Vectorisation techniques': [\"Bag of Words\",        \"Word2Vec\", \"TFIDF\"], \n",
        "      'Score':                    [score,                 \"Pending\", lr_tfidf.score(X_train, y_train) ]},\n",
        "    columns=['Models','Vectorisation techniques','Score']\n",
        ")\n",
        "print(\"Sample size:\", SAMPLE_SIZE)\n",
        "\n",
        "duration = time_end_of_notebook - time_beginning_of_notebook\n",
        "\n",
        "print(\"Full notebook execution duration:\", duration, \"seconds\")\n",
        "print(\"Full notebook execution duration:\", duration / 60, \"minutes\")\n",
        "\n",
        "table_models_vectorization"
      ],
      "execution_count": 39,
      "outputs": [
        {
          "output_type": "stream",
          "text": [
            "Sample size: 1000\n",
            "Full notebook execution duration: 124.60530209541321 seconds\n",
            "Full notebook execution duration: 2.0767550349235533 minutes\n"
          ],
          "name": "stdout"
        },
        {
          "output_type": "execute_result",
          "data": {
            "text/html": [
              "<div>\n",
              "<style scoped>\n",
              "    .dataframe tbody tr th:only-of-type {\n",
              "        vertical-align: middle;\n",
              "    }\n",
              "\n",
              "    .dataframe tbody tr th {\n",
              "        vertical-align: top;\n",
              "    }\n",
              "\n",
              "    .dataframe thead th {\n",
              "        text-align: right;\n",
              "    }\n",
              "</style>\n",
              "<table border=\"1\" class=\"dataframe\">\n",
              "  <thead>\n",
              "    <tr style=\"text-align: right;\">\n",
              "      <th></th>\n",
              "      <th>Models</th>\n",
              "      <th>Vectorisation techniques</th>\n",
              "      <th>Score</th>\n",
              "    </tr>\n",
              "  </thead>\n",
              "  <tbody>\n",
              "    <tr>\n",
              "      <th>0</th>\n",
              "      <td>Logistic Regression</td>\n",
              "      <td>Bag of Words</td>\n",
              "      <td>0.83</td>\n",
              "    </tr>\n",
              "    <tr>\n",
              "      <th>1</th>\n",
              "      <td>Logistic Regression</td>\n",
              "      <td>Word2Vec</td>\n",
              "      <td>Pending</td>\n",
              "    </tr>\n",
              "    <tr>\n",
              "      <th>2</th>\n",
              "      <td>Logistic Regression</td>\n",
              "      <td>TFIDF</td>\n",
              "      <td>0.984</td>\n",
              "    </tr>\n",
              "  </tbody>\n",
              "</table>\n",
              "</div>"
            ],
            "text/plain": [
              "                Models Vectorisation techniques    Score\n",
              "0  Logistic Regression             Bag of Words     0.83\n",
              "1  Logistic Regression                 Word2Vec  Pending\n",
              "2  Logistic Regression                    TFIDF    0.984"
            ]
          },
          "metadata": {
            "tags": []
          },
          "execution_count": 39
        }
      ]
    },
    {
      "metadata": {
        "id": "G-28yfXCkgTe",
        "colab_type": "text"
      },
      "cell_type": "markdown",
      "source": [
        "**The below two code blocks replaces the original/inital BoW implementation using Scikit-learn**"
      ]
    },
    {
      "metadata": {
        "id": "XtV8N-0zXNJ4",
        "colab_type": "code",
        "colab": {
          "base_uri": "https://localhost:8080/",
          "height": 423
        },
        "outputId": "d76d5eea-9796-4eb7-a158-1f6ccdcd3db9"
      },
      "cell_type": "code",
      "source": [
        "CountVec = CountVectorizer()\n",
        "# Creating the BoW with the set of all the documents and transforming the documents in feature vectors\n",
        "bag_of_words = CountVec.fit_transform(df['reviews'])\n",
        "\n",
        "print(type(bag_of_words))\n",
        "print('\\n Number of raws {} (documents) -- Number of columns {} (vocabulary) \\n'.format(bag_of_words.shape[0], bag_of_words.shape[1]))\n",
        "\n",
        "# https://machinelearningmastery.com/sparse-matrices-for-machine-learning/\n",
        "# This is a sparse matrix \n",
        "print('\\n Type of bag_of_words {} \\n'.format(type(bag_of_words)))\n",
        "sparsity = 1.0 - bag_of_words.nnz / (bag_of_words.shape[0] * bag_of_words.shape[1])\n",
        "print('\\n Sparsity {} \\n'.format(sparsity))\n",
        "\n",
        "# This is a  \n",
        "print('\\n Type of bag_of_words.toarray {} \\n'.format(type(bag_of_words.toarray())))\n",
        "\n",
        "# In CountVec we have the vocabulary as an attribute\n",
        "print('\\n Type of CountVec.vocabulary {} \\n'.format(type(CountVec.vocabulary_)))\n",
        "print('A sample of CountVec.vocabulary_ {}'.format([(k, v) for k, v in CountVec.vocabulary_.items() if v < 1000]))\n",
        "\n",
        "# In bag_of_words we have the vector features representing each single document \n",
        "print('\\n Type of bag_of_words.toarray() {} \\n')\n",
        "print('\\n First feature vector, representing the first document \\n', bag_of_words[0, :2])"
      ],
      "execution_count": 40,
      "outputs": [
        {
          "output_type": "stream",
          "text": [
            "<class 'scipy.sparse.csr.csr_matrix'>\n",
            "\n",
            " Number of raws 2000 (documents) -- Number of columns 25782 (vocabulary) \n",
            "\n",
            "\n",
            " Type of bag_of_words <class 'scipy.sparse.csr.csr_matrix'> \n",
            "\n",
            "\n",
            " Sparsity 0.9945600224963153 \n",
            "\n",
            "\n",
            " Type of bag_of_words.toarray <class 'numpy.ndarray'> \n",
            "\n",
            "\n",
            " Type of CountVec.vocabulary <class 'dict'> \n",
            "\n",
            "A sample of CountVec.vocabulary_ [('alexander', 890), ('1940', 106), ('1950', 117), ('also', 977), ('2002', 183), ('again', 762), ('after', 750), ('ago', 792), ('about', 405), ('10', 11), ('ah', 805), ('accept', 449), ('act', 532), ('almost', 960), ('actually', 558), ('admire', 620), ('all', 922), ('acting', 534), ('12', 30), ('75', 317), ('action', 536), ('actors', 550), ('actual', 555), ('adds', 596), ('aesthetic', 707), ('add', 577), ('114', 29), ('1986', 157), ('adult', 664), ('alive', 920), ('although', 993), ('according', 478), ('1914', 86), ('30', 233), ('along', 964), ('adults', 669), ('added', 579), ('across', 531), ('afternoon', 754), ('adept', 600), ('accomplished', 473), ('20', 177), ('15', 41), ('ahead', 806), ('affair', 713), ('agent', 772), ('007', 2), ('70', 306), ('additional', 588), ('allow', 946), ('air', 830), ('alone', 963), ('aline', 916), ('actresses', 553), ('almighty', 958), ('adams', 569), ('afraid', 743), ('50', 276), ('acid', 513), ('60', 295), ('adam', 566), ('1988', 159), ('50s', 282), ('aforementioned', 741), ('adaptation', 572), ('actions', 539), ('allowed', 947), ('actress', 552), ('albeit', 870), ('accompanied', 468), ('allows', 949), ('against', 763), ('acts', 554), ('acted', 533), ('agatha', 765), ('age', 766), ('allen', 929), ('ageing', 768), ('actor', 549), ('abhorrent', 380), ('agents', 773), ('accomplish', 472), ('40', 257), ('18', 54), ('22', 204), ('absolutely', 417), ('advance', 670), ('1938', 103), ('1978', 147), ('1982', 153), ('1983', 154), ('1987', 158), ('1930', 95), ('advantage', 675), ('able', 385), ('abundant', 430), ('accepted', 452), ('already', 973), ('35', 243), ('3rd', 255), ('additions', 590), ('afford', 733), ('abuse', 431), ('abused', 432), ('advocate', 702), ('1936', 102), ('altering', 984), ('alternate', 986), ('addition', 587), ('aid', 811), ('alucarda', 998), ('alien', 906), ('ability', 383), ('abandoned', 364), ('1968', 135), ('advice', 695), ('alice', 904), ('1st', 176), ('27', 220), ('2009', 190), ('agree', 799), ('akria', 848), ('140', 36), ('33', 241), ('altman', 994), ('2004', 185), ('1970', 138), ('2000', 179), ('alas', 864), ('abilities', 382), ('aj', 843), ('101', 18), ('80', 321), ('64', 299), ('adjacent', 608), ('adapted', 574), ('2005', 186), ('29th', 226), ('2008', 189), ('admit', 626), ('accent', 443), ('16', 46), ('abound', 402), ('achievement', 504), ('1906', 81), ('1100', 26), ('admiration', 619), ('above', 406), ('alex', 889), ('ailing', 818), ('84', 326), ('06', 8), ('1950s', 118), ('acquainted', 525), ('aboriginal', 394), ('accused', 495), ('1977', 146), ('aborigines', 397), ('aborigine', 396), ('acknowledge', 515), ('25', 216), ('adorned', 650), ('academy', 440), ('altogether', 996), ('300', 234), ('2006', 187), ('aggravate', 777), ('aim', 819), ('alternatively', 990), ('1974', 143), ('2007', 188), ('adorable', 644), ('alluring', 953), ('acoustic', 521), ('afterwards', 759), ('80s', 323), ('acceptable', 450), ('abounding', 403), ('absence', 413), ('abnormal', 388), ('11', 24), ('2001', 182), ('70s', 310), ('alleyway', 935), ('000', 1), ('advised', 697), ('activities', 547), ('addressed', 593), ('affect', 715), ('allowing', 948), ('admitted', 630), ('alan', 859), ('136', 33), ('1971', 140), ('accounts', 485), ('78', 318), ('achieved', 503), ('1h53', 174), ('alright', 975), ('aimee', 822), ('adventures', 682), ('africa', 745), ('90', 332), ('african', 746), ('1960', 127), ('accomplice', 471), ('1972', 141), ('14', 35), ('6th', 305), ('85', 327), ('al', 853), ('afv', 760), ('1959', 126), ('addressing', 595), ('acceptance', 451), ('agreeing', 801), ('absorbing', 419), ('absolute', 416), ('195', 116), ('alliance', 936), ('achieves', 506), ('100', 12), ('absurd', 423), ('aimed', 821), ('alicia', 905), ('44', 263), ('1920', 88), ('alliances', 937), ('adjusted', 610), ('3am', 251), ('18th', 77), ('aikens', 817), ('alison', 917), ('20s', 198), ('1910s', 84), ('30s', 236), ('aired', 832), ('adventure', 679), ('accidentally', 461), ('accurate', 491), ('accuracy', 490), ('adrian', 657), ('aboard', 389), ('accurately', 492), ('adorns', 652), ('accounted', 484), ('altered', 983), ('aging', 785), ('aime', 820), ('aged', 767), ('3000', 235), ('20th', 199), ('1999', 171), ('abroad', 409), ('ale', 883), ('accident', 459), ('adding', 585), ('abc', 370), ('alike', 915), ('adolescent', 635), ('alfonso', 895), ('99', 343), ('ad', 562), ('accessible', 458), ('00', 0), ('400', 258), ('abomination', 392), ('1979', 148), ('32', 239), ('adapt', 571), ('60s', 297), ('alias', 901), ('abrams', 408), ('agreement', 802), ('_blair', 348), ('aince', 829), ('24', 213), ('abstractions', 422), ('addictive', 583), ('adriana', 658), ('albacore', 868), ('abe', 374), ('allmighty', 941), ('1896', 76), ('1954', 121), ('adequate', 601), ('adaptations', 573), ('45', 264), ('26', 219), ('achieve', 502), ('akshaye', 851), ('2nd', 230), ('absurdity', 425), ('admirably', 616), ('alcohol', 879), ('access', 455), ('aching', 510), ('ages', 774), ('advanced', 671), ('abduction', 373), ('16mm', 50), ('agis', 786), ('204', 192), ('1960s', 128), ('1hr', 175), ('45min', 266), ('50min', 281), ('4cylinder', 270), ('140hp', 37), ('1993', 165), ('accord', 477), ('40mph', 260), ('abstract', 421), ('affirmed', 728), ('1994', 166), ('1997', 169), ('1967', 134), ('1966', 133), ('ain', 828), ('aankh', 357), ('1973', 142), ('alita', 919), ('56', 289), ('31', 237), ('ajay', 844), ('71', 311), ('1933', 99), ('airs', 840), ('airing', 834), ('agi', 783), ('alleys', 934), ('alley', 933), ('addicted', 581), ('adrenalin', 654), ('advances', 673), ('1946', 113), ('aborted', 398), ('alter', 981), ('1920s', 89), ('abyss', 437), ('1981', 152), ('alain', 857), ('alexandre', 892), ('68', 302), ('215', 202), ('1996', 168), ('13', 31), ('achievements', 505), ('agendas', 771), ('900', 333), ('ahu', 809), ('49', 269), ('2040', 193), ('adorably', 645), ('absurdist', 424), ('1964', 132), ('1953', 120), ('aka', 845), ('abominable', 391), ('alarm', 860), ('advise', 696), ('1980', 150), ('adjani', 609), ('1992', 164), ('4ever', 272), ('aloof', 967), ('8mm', 331), ('allan', 923), ('1928', 93), ('1839', 62), ('89', 330), ('allies', 938), ('alienation', 909), ('102', 19), ('acknowledged', 516), ('28', 223), ('acclaimed', 464), ('79', 319), ('adversary', 686), ('9as', 344), ('21', 201), ('1991', 163), ('affairs', 714), ('adjustment', 611), ('abortions', 400), ('accented', 444), ('allegedly', 927), ('1000', 13), ('aluminium', 999), ('1941', 108), ('2044', 194), ('agrees', 803), ('15th', 45), ('affluent', 732), ('admits', 628), ('adieu', 606), ('0f', 10), ('aliens', 911), ('13th', 34), ('90s', 335), ('aeons', 704), ('1957', 124), ('adela', 597), ('61', 298), ('1930s', 96), ('alamo', 858), ('absent', 414), ('1800', 56), ('active', 542), ('ace', 498), ('adreon', 656), ('allover', 945), ('53', 285), ('altaire', 979), ('1956', 123), ('2200', 206), ('accompany', 469), ('affectionate', 720), ('affects', 724), ('abandoning', 365), ('65', 300), ('165', 49), ('1890s', 73), ('2000s', 181), ('2080', 197), ('2070', 196), ('acp', 522), ('affected', 718), ('ahh', 808), ('affectionnates', 722), ('airplane', 837), ('alot', 968), ('advancement', 672), ('accidents', 462), ('abolish', 390), ('50th', 283), ('abuelita', 428), ('altagracia', 978), ('alpha', 970), ('aftermath', 753), ('5x5', 294), ('aloud', 969), ('agnostic', 789), ('address', 592), ('afterlife', 752), ('admittedly', 631), ('aimée', 827), ('38', 249), ('albert', 872), ('abusive', 434), ('1980s', 151), ('36', 247), ('112', 28), ('alibis', 903), ('acquit', 528), ('05', 7), ('19th', 172), ('accomplishment', 476), ('88', 329), ('albot', 875), ('14th', 39), ('83', 325), ('abraham', 407), ('adopted', 641), ('aesthetically', 708), ('82', 324), ('admired', 621), ('aggressive', 780), ('alert', 888), ('advancing', 674), ('accumulation', 489), ('alba', 867), ('aims', 826), ('600', 296), ('10th', 23), ('alaskan', 865), ('albas', 869), ('accepts', 454), ('ahem', 807), ('advertisement', 691), ('4kids', 274), ('adviser', 698), ('agonizing', 796), ('adversity', 688), ('alloted', 943), ('agony', 798), ('alligator', 939), ('21st', 203), ('accuse', 494), ('agenda', 770), ('akshay', 849), ('afloat', 740), ('adverse', 687), ('40s', 261), ('_not_', 352), ('______', 346), ('almodovar', 959), ('afterthought', 756), ('abysmal', 435), ('actioner', 537), ('admirer', 622), ('alters', 991), ('adjustments', 612), ('allayli', 924), ('1940s', 107), ('200', 178), ('95', 339), ('acclaim', 463), ('66', 301), ('accolade', 465), ('adore', 647), ('accentuated', 447), ('1927', 92), ('admission', 625), ('70ies', 308), ('1910', 83), ('advertises', 692), ('alternative', 989), ('abortive', 401), ('actively', 543), ('2003', 184), ('achingly', 511), ('10s', 22), ('allegory', 928), ('acquired', 527), ('admiring', 624), ('affleck', 729), ('1948', 114), ('activist', 545), ('activism', 544), ('alienating', 908), ('aimless', 824), ('addiction', 582), ('adrenaline', 655), ('adrienne', 660), ('alien³', 912), ('altar', 980), ('180', 55), ('1h30', 173), ('aberration', 376), ('adverts', 694), ('1902', 80), ('agreed', 800), ('alfredo', 898), ('akin', 846), ('aiming', 823), ('2fast', 228), ('2furious', 229), ('ada', 563), ('1984', 155), ('1989', 160), ('accents', 445), ('achilles', 509), ('alastair', 866), ('1951', 119), ('1939', 104), ('1942', 109), ('agito', 788), ('110', 25), ('adoption', 642), ('abortion', 399), ('1995', 167), ('accepting', 453), ('164', 48), ('94', 338), ('17', 51), ('adultery', 667), ('addison', 586), ('abby', 369), ('abbey', 367), ('admittance', 629), ('accompanying', 470), ('afoul', 742), ('alarming', 862), ('aggravating', 778), ('adamson', 570), ('1934', 100), ('4th', 275), ('affection', 719), ('albums', 877), ('actullly', 559), ('alrite', 976), ('230mph', 210), ('activity', 548), ('250', 217), ('alejandro', 886), ('afghan', 736), ('allende', 930), ('abundance', 429), ('accomplishes', 474), ('acorn', 519), ('aardvarks', 359), ('31st', 238), ('administration', 614), ('accommodate', 467), ('90mins', 334), ('500', 277), ('accidental', 460), ('9th', 345), ('adagio', 565), ('_the', 353), ('_mystery', 351), ('alongside', 966), ('alok', 962), ('account', 481), ('adolf', 637), ('alluding', 951), ('agnosticism', 790), ('academic', 438), ('6k', 304), ('acurately', 561), ('86', 328), ('abel', 375), ('airline', 835), ('allergic', 931), ('1976', 145), ('03', 6), ('aiello', 816), ('01', 4), ('addresses', 594), ('agonize', 794), ('1975', 144), ('1990', 161), ('abandons', 366), ('abruptly', 411), ('1970s', 139), ('abandon', 363), ('1935', 101), ('1998', 170), ('albéniz', 878), ('1860', 70), ('1909', 82), ('albeniz', 871), ('alfre', 896), ('alistair', 918), ('409', 259), ('1943', 110), ('accumulates', 488), ('alleged', 926), ('02', 5), ('afterward', 758), ('aircraft', 831), ('afar', 710), ('747', 315), ('admirers', 623), ('airwaves', 842), ('alfred', 897), ('1949', 115), ('170', 52), ('abduct', 371), ('abrupt', 410), ('alahani', 856), ('alohalani', 961), ('addicts', 584), ('7mm', 320), ('47', 267), ('93', 337), ('airport', 839), ('alight', 913), ('alcoholic', 880), ('aakash', 356), ('ado', 633), ('adamant', 567), ('alexandra', 891), ('aimlessly', 825), ('activate', 540), ('advertised', 690), ('abm', 387), ('academics', 439), ('3d', 252), ('2d', 227), ('algae', 899), ('abbott', 368), ('adolphe', 638), ('adulthood', 668), ('affectionately', 721), ('abducted', 372), ('23rd', 212), ('ally', 955), ('admirable', 615), ('3who', 256), ('abominations', 393), ('5000', 278), ('affirmations', 727), ('alexei', 893), ('1000lb', 14), ('advent', 677), ('aerial', 705), ('affections', 723), ('abject', 384), ('adaption', 576), ('adored', 648), ('20x', 200), ('adroitly', 662), ('acre', 529), ('98', 342), ('1969', 136), ('afghanistan', 738), ('akshaya', 850), ('allison', 940), ('allusions', 954), ('39', 250), ('advertising', 693), ('aboriginals', 395), ('admitting', 632), ('1990s', 162), ('2022', 191), ('alienate', 907), ('350', 244), ('58', 291), ('500ad', 279), ('accessibility', 457), ('73', 313), ('accountants', 483), ('advantages', 676), ('aauugghh', 361), ('74th', 316), ('accessability', 456), ('aggression', 779), ('alberto', 873), ('454', 265), ('acquaintances', 524), ('3lbs', 253), ('album', 876), ('aaron', 360), ('altho', 992), ('adi', 605), ('alternately', 987), ('10p', 21), ('albiet', 874), ('96', 340), ('addam', 578), ('19', 78), ('affectations', 717), ('ag', 761), ('acosta', 520), ('abusing', 433), ('acetylene', 500), ('affable', 712), ('aggelopoulos', 775), ('alekos', 887), ('achilleas', 508), ('afro', 748), ('afghani', 737), ('africans', 747), ('adelin', 599), ('1918', 87), ('abetted', 378), ('airplanes', 838), ('alternates', 988), ('airtight', 841), ('afresh', 744), ('allotted', 944), ('alcoholics', 881), ('acme', 518), ('agency', 769), ('1926', 91), ('akst', 852), ('1963', 131), ('accustomed', 497), ('agin', 784), ('absurdly', 426), ('alludes', 950), ('admiral', 617), ('alcoholism', 882), ('adopts', 643), ('adventists', 678), ('aggrandizement', 776), ('aids', 815), ('adapting', 575), ('2046', 195), ('aggressiveness', 781), ('500lbs', 280), ('1958', 125), ('alienator', 910), ('accumulated', 487), ('5mins', 292), ('1955', 122), ('70mm', 309), ('aficionado', 739), ('absorbs', 420), ('6am', 303), ('1300', 32), ('adroit', 661), ('5th', 293), ('acquire', 526), ('accusations', 493), ('adolescence', 634), ('advises', 700), ('adolescents', 636), ('achterbusch', 512), ('1962', 130), ('1900', 79), ('admirals', 618), ('actio', 535), ('700', 307), ('afflictions', 731), ('afforded', 735), ('42nd', 262), ('34', 242), ('altruistic', 997), ('activating', 541), ('alarms', 863), ('afer', 711), ('20000', 180), ('177', 53), ('72', 312), ('1892', 74), ('alexis', 894), ('23', 209), ('allegations', 925), ('actreesess', 551), ('affiliation', 726), ('aegean', 703), ('airliner', 836), ('adulterer', 665), ('adhere', 603), ('54', 286), ('addict', 580), ('150', 42), ('237', 211), ('agonising', 793), ('aditya', 607), ('addled', 591), ('alleviate', 932), ('____________________________________', 347), ('afternoons', 755), ('57', 290), ('abigail', 381), ('1985', 156), ('aggrivating', 782), ('183', 58), ('197', 137), ('220', 205), ('100x', 17), ('alibi', 902), ('adventurous', 685), ('altmanesque', 995), ('alka', 921), ('absentminded', 415), ('alarmed', 861), ('ala', 854), ('aag', 355), ('aided', 813), ('ache', 501), ('97', 341), ('1500', 43), ('adoring', 649), ('360', 248), ('adopt', 640), ('additionally', 589), ('accountancy', 482), ('55', 287), ('adequately', 602), ('aires', 833), ('alterio', 985), ('24th', 215), ('akira', 847), ('29', 225), ('affectation', 716), ('a10', 354), ('150m', 44), ('1847', 64), ('align', 914), ('adventuresome', 683), ('abhorrence', 379), ('afflicted', 730), ('alabama', 855), ('absconded', 412), ('35yr', 246), ('adulating', 663), ('activists', 546), ('afterthoughts', 757), ('_get_', 350), ('52', 284), ('1945', 112), ('146', 38), ('911', 336), ('adhering', 604), ('abysmally', 436), ('aide', 812), ('advisers', 699), ('32lb', 240), ('alecky', 885), ('alma', 957), ('admitedly', 627), ('alongs', 965), ('abu', 427), ('aesthetics', 709), ('adr', 653), ('1912', 85), ('800', 322), ('1859', 69), ('1880', 71), ('555', 288), ('28th', 224), ('1895', 75), ('aerobics', 706), ('accuses', 496), ('74', 314), ('actuall', 557), ('adrien', 659), ('algy', 900), ('ab', 362), ('aapkey', 358), ('adolphs', 639), ('abounds', 404), ('agonizes', 795), ('actioners', 538), ('advert', 689), ('100m', 16), ('accolades', 466), ('alphaville', 972), ('_extremeley_', 349), ('allying', 956), ('1929', 94), ('alteration', 982), ('accorsi', 480), ('affiliate', 725), ('1836', 60), ('1854', 67), ('1830', 59), ('1855', 68), ('1850s', 65), ('1838', 61), ('1846', 63), ('48', 268), ('1853', 66), ('161', 47), ('acapella', 441), ('accentuate', 446), ('aiding', 814), ('affordable', 734), ('acquaintance', 523), ('accomplishing', 475), ('adage', 564), ('272', 221), ('273', 222), ('ai', 810), ('14yr', 40), ('25s', 218), ('1100ad', 27), ('advisor', 701), ('00pm', 3), ('08', 9), ('1931', 97), ('acerbic', 499), ('1961', 129), ('adele', 598), ('achieving', 507), ('3pm', 254), ('acronym', 530), ('2210', 207), ('afterbirth', 751), ('1944', 111), ('afrovideo', 749), ('agustí', 804), ('acidic', 514), ('4eva', 271), ('223', 208), ('alredy', 974), ('2oo4', 231), ('2oo5', 232), ('197o', 149), ('188o', 72), ('1924', 90), ('1932', 98), ('193o', 105), ('adorning', 651), ('agitator', 787), ('aberystwyth', 377), ('acknowledges', 517), ('1800s', 57), ('acumen', 560), ('adoration', 646), ('absorbed', 418), ('allocation', 942), ('100b', 15), ('35mm', 245), ('accrutements', 486), ('105', 20), ('ably', 386), ('agnus', 791), ('alec', 884), ('accordingly', 479), ('adulterous', 666), ('allurement', 952), ('accelerating', 442), ('agamemnon', 764), ('accentuates', 448), ('actuality', 556), ('agonizingly', 797), ('4f', 273), ('241', 214), ('alphabet', 971), ('adler', 613), ('adamantly', 568), ('adventurer', 680), ('adventurers', 681), ('adventuring', 684)]\n",
            "\n",
            " Type of bag_of_words.toarray() {} \n",
            "\n",
            "\n",
            " First feature vector, representing the first document \n",
            " \n"
          ],
          "name": "stdout"
        }
      ]
    },
    {
      "metadata": {
        "id": "c6A2pKzOmxzT",
        "colab_type": "code",
        "colab": {}
      },
      "cell_type": "code",
      "source": [
        "# Lets get our training and test data\n",
        "X_train, X_test, y_train, y_test = train_test_split(bag_of_words.toarray(), df['sentiment'].values, test_size=0.25)\n"
      ],
      "execution_count": 0,
      "outputs": []
    },
    {
      "metadata": {
        "id": "pqbPNSGUg4Rj",
        "colab_type": "code",
        "colab": {
          "base_uri": "https://localhost:8080/",
          "height": 50
        },
        "outputId": "b5976680-a41d-4736-99b7-e5e17ce473f2"
      },
      "cell_type": "code",
      "source": [
        "clf = LogisticRegression(random_state=0)\n",
        "clf.fit(X_train, y_train)\n",
        "print('Using score function: {}'.format(clf.score(X_test, y_test)))\n",
        "\n",
        "\n",
        "results = [(predicted, actual) for predicted, actual in zip(clf.predict(X_test),  y_test) \n",
        "           if  predicted == actual]\n",
        "\n",
        "print('Percentage of correct predicted values: {}'.format(len(results)/len(y_test)))"
      ],
      "execution_count": 42,
      "outputs": [
        {
          "output_type": "stream",
          "text": [
            "Using score function: 0.826\n",
            "Percentage of correct predicted values: 0.826\n"
          ],
          "name": "stdout"
        }
      ]
    },
    {
      "metadata": {
        "id": "P0YIRBaroMeM",
        "colab_type": "text"
      },
      "cell_type": "markdown",
      "source": [
        "### RandomForestClassifer"
      ]
    },
    {
      "metadata": {
        "id": "nMUUsMLkkyLO",
        "colab_type": "code",
        "colab": {
          "base_uri": "https://localhost:8080/",
          "height": 50
        },
        "outputId": "8b2096de-ded8-4e02-b75a-046b1861f529"
      },
      "cell_type": "code",
      "source": [
        "from sklearn.ensemble import RandomForestClassifier\n",
        "\n",
        "clf = RandomForestClassifier(n_estimators=1000)\n",
        "clf.fit(X_train, y_train)\n",
        "print('Using score function: {}'.format(clf.score(X_test, y_test)))\n",
        "\n",
        "\n",
        "results = [(predicted, actual) for predicted, actual in zip(clf.predict(X_test),  y_test) \n",
        "           if  predicted == actual]\n",
        "\n",
        "print('Percentage of correct predicted values: {}'.format(len(results)/len(y_test)))"
      ],
      "execution_count": 43,
      "outputs": [
        {
          "output_type": "stream",
          "text": [
            "Using score function: 0.836\n",
            "Percentage of correct predicted values: 0.836\n"
          ],
          "name": "stdout"
        }
      ]
    },
    {
      "metadata": {
        "id": "BM0YI71dnpZE",
        "colab_type": "text"
      },
      "cell_type": "markdown",
      "source": [
        "### RandomForestClassifer with TFIDF (Pipeline)"
      ]
    },
    {
      "metadata": {
        "id": "HNluLDB4nayq",
        "colab_type": "code",
        "colab": {
          "base_uri": "https://localhost:8080/",
          "height": 101
        },
        "outputId": "2ee1d453-891e-45d9-ad20-2d8bd81c3853"
      },
      "cell_type": "code",
      "source": [
        "tfidf = TfidfVectorizer(strip_accents=None, lowercase=False, preprocessor=None)\n",
        "\n",
        "\n",
        "X_train, X_test, y_train, y_test = train_test_split(df['reviews'], df['sentiment'], test_size=0.25)\n",
        "\n",
        "lr_tfidf = Pipeline([('vect', tfidf), ('clf', RandomForestClassifier(n_estimators=1000))])\n",
        "lr_tfidf.fit(X_train, y_train)\n",
        "print('Train accuracy {}'.format(lr_tfidf.score(X_train, y_train)))\n",
        "print('Test accuracy {}'.format(lr_tfidf.score(X_test, y_test)))\n",
        "\n",
        "# Trying with cross_val_score\n",
        "lr = LogisticRegression()\n",
        "k_folds = 10\n",
        "X_train_tfidf = tfidf.fit_transform(X_train)\n",
        "print('Train accuracy list {} '.format(cross_val_score(lr, X_train_tfidf, y_train, cv= k_folds))) \n",
        "print('Train accuracy mean {} '.format(cross_val_score(lr, X_train_tfidf, y_train, cv= k_folds).mean()))\n"
      ],
      "execution_count": 44,
      "outputs": [
        {
          "output_type": "stream",
          "text": [
            "Train accuracy 1.0\n",
            "Test accuracy 0.824\n",
            "Train accuracy list [0.78807947 0.82       0.70666667 0.84       0.82       0.80666667\n",
            " 0.86       0.84666667 0.83333333 0.82550336] \n",
            "Train accuracy mean 0.8146916159236707 \n"
          ],
          "name": "stdout"
        }
      ]
    },
    {
      "metadata": {
        "id": "fjDcOMEUoToE",
        "colab_type": "text"
      },
      "cell_type": "markdown",
      "source": [
        "### LSTM with Keras (Sequential model)\n",
        "\n",
        "\n",
        "Please note that the below code is executed on GPU instances on Colab, this wont work on your local machine, use the flag to enable/disable running in CPU or GPU mode, set `run_in_GPU_mode_on_colab=false` in order to be able to run in CPU mode."
      ]
    },
    {
      "metadata": {
        "id": "fVN5C_34oSgO",
        "colab_type": "code",
        "colab": {
          "base_uri": "https://localhost:8080/",
          "height": 207
        },
        "outputId": "03f65fd1-c9fb-47dc-8025-afa10d4f68d9"
      },
      "cell_type": "code",
      "source": [
        "import tensorflow as tf\n",
        "\n",
        "def lstm_keras():\n",
        "  from keras.models import Sequential\n",
        "  from keras.layers import Dense, Activation, Embedding, LSTM\n",
        "  from keras.preprocessing.text import Tokenizer\n",
        "  from sklearn.preprocessing import LabelBinarizer\n",
        "\n",
        "\n",
        "  X_train, X_test, y_train, y_test = train_test_split(df['reviews'], df['sentiment'], test_size=0.25)\n",
        "\n",
        "  vocab_size = 1000\n",
        "  tokenize = Tokenizer(num_words=vocab_size)\n",
        "  tokenize.fit_on_texts(X_train)\n",
        "\n",
        "  encoded_X_train = tokenize.texts_to_matrix(X_train)\n",
        "  encoded_X_test = tokenize.texts_to_matrix(X_test)\n",
        "\n",
        "  encoder = LabelBinarizer()\n",
        "  encoder.fit(y_train)\n",
        "  encoded_y_train = encoder.transform(y_train)\n",
        "  encoded_y_test = encoder.transform(y_test)\n",
        "\n",
        "  max_features = 1000\n",
        "  model = Sequential()\n",
        "  model.add(Embedding(max_features, 128, dropout=0.2))\n",
        "  model.add(LSTM(128, dropout=0.2, recurrent_dropout=0.2))  # try using a GRU instead, for fun\n",
        "  model.add(Dense(1))\n",
        "  model.add(Activation('sigmoid'))\n",
        "\n",
        "  model.compile(loss='binary_crossentropy',\n",
        "               optimizer='adam',\n",
        "               metrics=['accuracy'])\n",
        "\n",
        "  batch_size=64\n",
        "  epochs=10\n",
        "  history = model.fit(encoded_X_train, encoded_y_train, \n",
        "                  batch_size=batch_size, \n",
        "                  epochs=epochs, \n",
        "                  verbose=1, \n",
        "                  validation_split=0.1)\n",
        "\n",
        "  score = model.evaluate(encoded_X_test, encoded_y_test, \n",
        "                         batch_size=batch_size, verbose=1)\n",
        "  print('Test score:', score[0])\n",
        "  print('Test accuracy:', score[1])\n",
        "\n",
        "\n",
        "run_in_GPU_mode_on_colab=False\n",
        "\n",
        "if run_in_GPU_mode_on_colab:  \n",
        "  config = tf.ConfigProto()\n",
        "  config.gpu_options.allow_growth = True\n",
        "\n",
        "  with tf.device('/gpu:0'):\n",
        "    session_gpu = tf.Session(config=config)\n",
        "    session_gpu.run(tf.global_variables_initializer())\n",
        "    session_gpu.run(tf.tables_initializer())\n",
        "    start = time.time()\n",
        "    session_gpu.run(lstm_keras())\n",
        "    end = time.time()\n",
        "    gpu_time = end - start\n",
        "    print('Duration on the GPU: {} seconds'.format(gpu_time))\n",
        "else:\n",
        "  start = time.time()\n",
        "  lstm_keras()\n",
        "  end = time.time()\n",
        "  cpu_time = end - start\n",
        "  print('Duration on the CPU: {} seconds'.format(cpu_time))"
      ],
      "execution_count": 56,
      "outputs": [
        {
          "output_type": "stream",
          "text": [
            "/usr/local/lib/python3.6/dist-packages/ipykernel_launcher.py:26: UserWarning: The `dropout` argument is no longer support in `Embedding`. You can apply a `keras.layers.SpatialDropout1D` layer right after the `Embedding` layer to get the same behavior.\n"
          ],
          "name": "stderr"
        },
        {
          "output_type": "stream",
          "text": [
            "Train on 1350 samples, validate on 150 samples\n",
            "Epoch 1/2\n",
            "1350/1350 [==============================] - 62s 46ms/step - loss: 0.6947 - acc: 0.4822 - val_loss: 0.6932 - val_acc: 0.4933\n",
            "Epoch 2/2\n",
            "1350/1350 [==============================] - 59s 43ms/step - loss: 0.6934 - acc: 0.4919 - val_loss: 0.6928 - val_acc: 0.5333\n",
            "500/500 [==============================] - 5s 10ms/step\n",
            "Test score: 0.6931333312988281\n",
            "Test accuracy: 0.4959999995231628\n",
            "Duration on the CPU: 128.34940028190613\n"
          ],
          "name": "stdout"
        }
      ]
    },
    {
      "metadata": {
        "id": "gvChJ9kdot4q",
        "colab_type": "text"
      },
      "cell_type": "markdown",
      "source": [
        ""
      ]
    }
  ]
}