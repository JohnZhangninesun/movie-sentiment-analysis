{
  "nbformat": 4,
  "nbformat_minor": 0,
  "metadata": {
    "colab": {
      "name": "Sentiment analysis of movies (IMDB).ipynb",
      "version": "0.3.2",
      "provenance": [],
      "collapsed_sections": []
    },
    "kernelspec": {
      "name": "python3",
      "display_name": "Python 3"
    }
  },
  "cells": [
    {
      "metadata": {
        "id": "pS4Rhx54IoW9",
        "colab_type": "code",
        "colab": {}
      },
      "cell_type": "code",
      "source": [
        "neg_labels = np.array(SAMPLE_SIZE * [[0,1]])\n",
        "neg_labels"
      ],
      "execution_count": 0,
      "outputs": []
    },
    {
      "metadata": {
        "id": "XaKXKSd9I2uV",
        "colab_type": "code",
        "colab": {}
      },
      "cell_type": "code",
      "source": [
        ""
      ],
      "execution_count": 0,
      "outputs": []
    },
    {
      "metadata": {
        "id": "A0XMzfB5_EtE",
        "colab_type": "text"
      },
      "cell_type": "markdown",
      "source": [
        "http://ai.stanford.edu/~amaas/data/sentiment/\n"
      ]
    },
    {
      "metadata": {
        "id": "CML_IG6z-iwM",
        "colab_type": "code",
        "colab": {}
      },
      "cell_type": "code",
      "source": [
        "!pip install nltk\n",
        "!pip install --upgrade gensim\n",
        "\n",
        "import numpy as np\n",
        "import os\n",
        "import os.path\n",
        "\n",
        "from nltk.tokenize import word_tokenize\n",
        "nltk.download('punkt')\n",
        "\n",
        "if not os.path.isfile('aclImdb_v1.tar.gz'):\n",
        "  !wget http://ai.stanford.edu/~amaas/data/sentiment/aclImdb_v1.tar.gz \n",
        "\n",
        "if not os.path.isfile('aclImdb'):  \n",
        "  !tar -xf aclImdb_v1.tar.gz \n",
        "  "
      ],
      "execution_count": 0,
      "outputs": []
    },
    {
      "metadata": {
        "id": "qxIHoMi8Egee",
        "colab_type": "code",
        "colab": {}
      },
      "cell_type": "code",
      "source": [
        "!tail aclImdb/imdb.vocab"
      ],
      "execution_count": 0,
      "outputs": []
    },
    {
      "metadata": {
        "id": "U5Tnmoh-Dpfk",
        "colab_type": "code",
        "colab": {}
      },
      "cell_type": "code",
      "source": [
        "import glob\n",
        "\n",
        "SAMPLE_SIZE=600\n",
        "positive_sample_file_list = glob.glob(os.path.join('aclImdb/train/pos', \"*.txt\"))\n",
        "positive_sample_file_list = positive_sample_file_list[:SAMPLE_SIZE]\n",
        "\n",
        "negative_sample_file_list = glob.glob(os.path.join('aclImdb/train/neg', \"*.txt\"))\n",
        "negative_sample_file_list = negative_sample_file_list[:SAMPLE_SIZE]\n",
        "\n",
        "\n",
        "# load doc into memory\n",
        "def load_doc(filename):\n",
        "\t# open the file as read only\n",
        "\tfile = open(filename, 'r')\n",
        "\t# read all text\n",
        "\ttext = file.read()\n",
        "\t# close the file\n",
        "\tfile.close()\n",
        "\treturn text\n"
      ],
      "execution_count": 0,
      "outputs": []
    },
    {
      "metadata": {
        "id": "cz5eJi7AGSqR",
        "colab_type": "code",
        "colab": {}
      },
      "cell_type": "code",
      "source": [
        "pos_strings = [load_doc(x) for x in positive_sample_file_list]\n",
        "print(pos_strings[:10])\n",
        "\n",
        "neg_strings = [load_doc(x) for x in negative_sample_file_list]\n",
        "print(neg_strings[:10])\n",
        "    "
      ],
      "execution_count": 0,
      "outputs": []
    },
    {
      "metadata": {
        "id": "Ln1-QrMcGOgD",
        "colab_type": "code",
        "colab": {}
      },
      "cell_type": "code",
      "source": [
        "pos_labels = np.array(SAMPLE_SIZE * [[1,0]])\n",
        "pos_labels"
      ],
      "execution_count": 0,
      "outputs": []
    },
    {
      "metadata": {
        "id": "C0WiHTr7I4CN",
        "colab_type": "code",
        "colab": {}
      },
      "cell_type": "code",
      "source": [
        "pos_tokenized = [word_tokenize(s) for s in pos_strings]\n",
        "print(pos_tokenized[1])\n",
        "print(pos_tokenized[2])"
      ],
      "execution_count": 0,
      "outputs": []
    },
    {
      "metadata": {
        "id": "YDP-eqAGIq5R",
        "colab_type": "code",
        "colab": {}
      },
      "cell_type": "code",
      "source": [
        "neg_tokenized = [word_tokenize(s) for s in neg_strings]\n",
        "print(neg_tokenized[1])\n",
        "print(neg_tokenized[2])"
      ],
      "execution_count": 0,
      "outputs": []
    },
    {
      "metadata": {
        "id": "6bgN1KJRMPpq",
        "colab_type": "code",
        "colab": {}
      },
      "cell_type": "code",
      "source": [
        "# load doc into memory\n",
        "with open('aclImdb/imdb.vocab') as f:\n",
        "  content = f.readlines()\n",
        "universe_vocabulary = [x.strip() for x in content]\n",
        "\n",
        "print(len(universe_vocabulary))\n",
        "print(len(set(universe_vocabulary)))"
      ],
      "execution_count": 0,
      "outputs": []
    },
    {
      "metadata": {
        "id": "bpggN67wRqI3",
        "colab_type": "code",
        "colab": {
          "base_uri": "https://localhost:8080/",
          "height": 173
        },
        "outputId": "7487bd74-3d65-40b7-d328-a9de2d60576b"
      },
      "cell_type": "code",
      "source": [
        "from gensim.models import Word2Vec\n",
        "model_ted = Word2Vec(sentences=pos_tokenized, size=100, window=5, min_count=5, workers=1, sg=0, seed=42)\n",
        "model_ted.wv.most_similar(\"brother\")\n",
        "\n",
        "print(np.linalg.norm(model_ted.wv['man'] - model_ted.wv['woman']))\n",
        "print(np.linalg.norm(model_ted.wv['father'] - model_ted.wv['mother']))\n",
        "print(np.linalg.norm(model_ted.wv['brother'] - model_ted.wv['sister']))\n",
        "print(np.linalg.norm(model_ted.wv['house'] - model_ted.wv['ship']))\n",
        "\n",
        "print(np.linalg.norm(model_ted.wv['father'] - model_ted.wv['mother']))\n",
        "print(np.linalg.norm(model_ted.wv['sister'] - model_ted.wv['mother']))"
      ],
      "execution_count": 121,
      "outputs": [
        {
          "output_type": "stream",
          "text": [
            "0.80154437\n",
            "0.512299\n",
            "1.0145818\n",
            "1.1860116\n",
            "0.512299\n",
            "1.1867262\n"
          ],
          "name": "stdout"
        },
        {
          "output_type": "stream",
          "text": [
            "/usr/local/lib/python3.6/dist-packages/gensim/matutils.py:737: FutureWarning: Conversion of the second argument of issubdtype from `int` to `np.signedinteger` is deprecated. In future, it will be treated as `np.int64 == np.dtype(int).type`.\n",
            "  if np.issubdtype(vec.dtype, np.int):\n"
          ],
          "name": "stderr"
        }
      ]
    },
    {
      "metadata": {
        "id": "XZU1XfxnRs5K",
        "colab_type": "code",
        "colab": {}
      },
      "cell_type": "code",
      "source": [
        ""
      ],
      "execution_count": 0,
      "outputs": []
    }
  ]
}